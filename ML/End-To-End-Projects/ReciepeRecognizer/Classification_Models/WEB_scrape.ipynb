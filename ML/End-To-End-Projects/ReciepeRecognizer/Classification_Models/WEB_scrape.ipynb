{
 "cells": [
  {
   "cell_type": "code",
   "execution_count": 4,
   "metadata": {},
   "outputs": [],
   "source": [
    "from splinter import Browser\n",
    "from bs4 import BeautifulSoup\n",
    "import pandas as pd\n",
    "import requests\n",
    "import os"
   ]
  },
  {
   "cell_type": "code",
   "execution_count": 3,
   "metadata": {},
   "outputs": [
    {
     "name": "stdout",
     "output_type": "stream",
     "text": [
      "Collecting splinter\n",
      "  Downloading splinter-0.16.0-py3-none-any.whl (38 kB)\n",
      "Requirement already satisfied: six in c:\\users\\mandeep.singh\\anaconda3\\lib\\site-packages (from splinter) (1.15.0)\n",
      "Collecting selenium<4.0,>=3.141.0\n",
      "  Downloading selenium-3.141.0-py2.py3-none-any.whl (904 kB)\n",
      "Requirement already satisfied: urllib3 in c:\\users\\mandeep.singh\\anaconda3\\lib\\site-packages (from selenium<4.0,>=3.141.0->splinter) (1.26.4)\n",
      "Installing collected packages: selenium, splinter\n",
      "  Attempting uninstall: selenium\n",
      "    Found existing installation: selenium 4.1.0\n",
      "    Uninstalling selenium-4.1.0:\n",
      "      Successfully uninstalled selenium-4.1.0\n",
      "Successfully installed selenium-3.141.0 splinter-0.16.0\n",
      "Note: you may need to restart the kernel to use updated packages.\n"
     ]
    }
   ],
   "source": [
    "#pip install --trusted-host pypi.python.org --trusted-host pypi.org --trusted-host files.pythonhosted.org splinter"
   ]
  },
  {
   "cell_type": "code",
   "execution_count": 6,
   "metadata": {},
   "outputs": [
    {
     "data": {
      "text/html": [
       "<div>\n",
       "<style scoped>\n",
       "    .dataframe tbody tr th:only-of-type {\n",
       "        vertical-align: middle;\n",
       "    }\n",
       "\n",
       "    .dataframe tbody tr th {\n",
       "        vertical-align: top;\n",
       "    }\n",
       "\n",
       "    .dataframe thead th {\n",
       "        text-align: right;\n",
       "    }\n",
       "</style>\n",
       "<table border=\"1\" class=\"dataframe\">\n",
       "  <thead>\n",
       "    <tr style=\"text-align: right;\">\n",
       "      <th></th>\n",
       "      <th>name</th>\n",
       "      <th>nutritional value min,kcal</th>\n",
       "      <th>nutritional value max,kcal</th>\n",
       "      <th>unit</th>\n",
       "      <th>average cal</th>\n",
       "    </tr>\n",
       "  </thead>\n",
       "  <tbody>\n",
       "    <tr>\n",
       "      <th>0</th>\n",
       "      <td>apple pie</td>\n",
       "      <td>350</td>\n",
       "      <td>411</td>\n",
       "      <td>1 piece</td>\n",
       "      <td>381</td>\n",
       "    </tr>\n",
       "    <tr>\n",
       "      <th>1</th>\n",
       "      <td>baby back ribs</td>\n",
       "      <td>60</td>\n",
       "      <td>95</td>\n",
       "      <td>1 rib</td>\n",
       "      <td>78</td>\n",
       "    </tr>\n",
       "    <tr>\n",
       "      <th>2</th>\n",
       "      <td>baklava</td>\n",
       "      <td>170</td>\n",
       "      <td>330</td>\n",
       "      <td>1 piece</td>\n",
       "      <td>250</td>\n",
       "    </tr>\n",
       "    <tr>\n",
       "      <th>3</th>\n",
       "      <td>beef carpaccio</td>\n",
       "      <td>119</td>\n",
       "      <td>130</td>\n",
       "      <td>100 gr</td>\n",
       "      <td>125</td>\n",
       "    </tr>\n",
       "    <tr>\n",
       "      <th>4</th>\n",
       "      <td>beef tartare</td>\n",
       "      <td>210</td>\n",
       "      <td>220</td>\n",
       "      <td>100 gr</td>\n",
       "      <td>215</td>\n",
       "    </tr>\n",
       "    <tr>\n",
       "      <th>...</th>\n",
       "      <td>...</td>\n",
       "      <td>...</td>\n",
       "      <td>...</td>\n",
       "      <td>...</td>\n",
       "      <td>...</td>\n",
       "    </tr>\n",
       "    <tr>\n",
       "      <th>96</th>\n",
       "      <td>tacos</td>\n",
       "      <td>130</td>\n",
       "      <td>220</td>\n",
       "      <td>1 piece</td>\n",
       "      <td>175</td>\n",
       "    </tr>\n",
       "    <tr>\n",
       "      <th>97</th>\n",
       "      <td>takoyaki</td>\n",
       "      <td>40</td>\n",
       "      <td>70</td>\n",
       "      <td>1 ball</td>\n",
       "      <td>55</td>\n",
       "    </tr>\n",
       "    <tr>\n",
       "      <th>98</th>\n",
       "      <td>tiramisu</td>\n",
       "      <td>210</td>\n",
       "      <td>300</td>\n",
       "      <td>1 serving</td>\n",
       "      <td>255</td>\n",
       "    </tr>\n",
       "    <tr>\n",
       "      <th>99</th>\n",
       "      <td>tuna tartare</td>\n",
       "      <td>200</td>\n",
       "      <td>420</td>\n",
       "      <td>1 serving</td>\n",
       "      <td>310</td>\n",
       "    </tr>\n",
       "    <tr>\n",
       "      <th>100</th>\n",
       "      <td>waffles</td>\n",
       "      <td>90</td>\n",
       "      <td>218</td>\n",
       "      <td>1 piece</td>\n",
       "      <td>154</td>\n",
       "    </tr>\n",
       "  </tbody>\n",
       "</table>\n",
       "<p>101 rows × 5 columns</p>\n",
       "</div>"
      ],
      "text/plain": [
       "               name  nutritional value min,kcal  nutritional value max,kcal  \\\n",
       "0         apple pie                         350                         411   \n",
       "1    baby back ribs                          60                          95   \n",
       "2           baklava                         170                         330   \n",
       "3    beef carpaccio                         119                         130   \n",
       "4      beef tartare                         210                         220   \n",
       "..              ...                         ...                         ...   \n",
       "96            tacos                         130                         220   \n",
       "97         takoyaki                          40                          70   \n",
       "98         tiramisu                         210                         300   \n",
       "99     tuna tartare                         200                         420   \n",
       "100         waffles                          90                         218   \n",
       "\n",
       "          unit  average cal  \n",
       "0      1 piece          381  \n",
       "1        1 rib           78  \n",
       "2      1 piece          250  \n",
       "3       100 gr          125  \n",
       "4       100 gr          215  \n",
       "..         ...          ...  \n",
       "96     1 piece          175  \n",
       "97      1 ball           55  \n",
       "98   1 serving          255  \n",
       "99   1 serving          310  \n",
       "100    1 piece          154  \n",
       "\n",
       "[101 rows x 5 columns]"
      ]
     },
     "execution_count": 6,
     "metadata": {},
     "output_type": "execute_result"
    }
   ],
   "source": [
    "food_calories = pd.read_csv(os.path.join(\"C:\\\\Users\\\\mandeep.singh\\\\Machine-Learning-project-master\\\\static\\\\food_list\\\\Food_calories.csv\"),index_col=False)\n",
    "food_calories"
   ]
  },
  {
   "cell_type": "code",
   "execution_count": 7,
   "metadata": {},
   "outputs": [],
   "source": [
    "data=\"apple pie\""
   ]
  },
  {
   "cell_type": "code",
   "execution_count": 18,
   "metadata": {},
   "outputs": [],
   "source": [
    "if data==\"beef carpaccio\":\n",
    "    data=\"carpaccio\"\n",
    "elif data==\"cheese plate\":\n",
    "    data=\"cheese\"\n",
    "elif data==\"chicken quesadilla\":\n",
    "    data=\"quesadilla\"\n",
    "elif data==\"chicken wings\":\n",
    "    data=\"Buffalo wing\"\n",
    "elif data==\"grilled salmon\":\n",
    "    data=\"Salmon#As_food\"    \n",
    "elif data==\"lobster roll sandwich\":\n",
    "    data=\"lobster roll\" \n",
    "elif data==\"strawberry shortcake\":\n",
    "    data=\"Shortcake#Strawberry_shortcake\"\n",
    "\n",
    "path={'executable_path':'/usr/local/bin/chromedriver'}\n",
    "browser=Browser('chrome',**path,headless=False)\n",
    "\n",
    "if data==\"tuna tartare\":\n",
    "    url=\"http://ahealthylifeforme.com/tuna-tartare-recipe/\"\n",
    "    browser.visit(url)\n",
    "    html=browser.html\n",
    "    soup=BeautifulSoup(html,\"html.parser\")\n",
    "    var=soup.select_one('div.entry-content')\n",
    "    description=var.select('p')\n",
    "else:\n",
    "    url=\"https://en.wikipedia.org/wiki/\"\n",
    "    browser.visit(url+data)\n",
    "    html=browser.html\n",
    "    soup=BeautifulSoup(html,\"html.parser\")\n",
    "    var=soup.select_one('div.mw-parser-output')\n",
    "    description=var.select('p')\n",
    "    nutri=soup.select_one('table.infobox')"
   ]
  },
  {
   "cell_type": "code",
   "execution_count": 19,
   "metadata": {},
   "outputs": [
    {
     "data": {
      "text/plain": [
       "'An apple pie is a pie in which the principal filling ingredient is apple. It is often served with whipped cream, ice cream (\"apple pie à la mode\"), or cheddar cheese.[3] It is generally double-crusted, with pastry both above and below the filling; the upper crust may be solid or latticed (woven of crosswise strips). The bottom crust may be baked separately (\"blind\") to prevent it from getting soggy.[4] Deep-dish apple pie often has a top crust only and tarte Tatin is baked with the crust on top, but served with it on the bottom.\\n'"
      ]
     },
     "execution_count": 19,
     "metadata": {},
     "output_type": "execute_result"
    }
   ],
   "source": [
    "if (data==\"greek salad\" or data==\"oysters\" or data==\"paella\"):    \n",
    "    output=description[1].text\n",
    "elif (data==\"mussels\" or data==\"scallops\"):\n",
    "    output=description[2].text\n",
    "elif data==\"Salmon#As_food\":\n",
    "    output=description[3].text        \n",
    "else:\n",
    "    if description[0].text!='\\n':\n",
    "        output=description[0].text    \n",
    "    elif description[0].text=='\\n' and description[1].text!='\\n':\n",
    "        output=description[1].text\n",
    "    elif description[1].text=='\\n' and description[2].text!='\\n':\n",
    "        output=description[2].text\n",
    "output\n"
   ]
  },
  {
   "cell_type": "code",
   "execution_count": 20,
   "metadata": {},
   "outputs": [
    {
     "data": {
      "text/plain": [
       "<table class=\"infobox hrecipe adr\" style=\"width:22em\"><caption class=\"fn\"><span>Apple pie</span></caption><tbody><tr><td colspan=\"2\" style=\"text-align:center\"><a class=\"image\" href=\"/wiki/File:Apple_pie.jpg\"><img alt=\"Apple pie.jpg\" data-file-height=\"1657\" data-file-width=\"2418\" decoding=\"async\" height=\"206\" src=\"//upload.wikimedia.org/wikipedia/commons/thumb/4/4b/Apple_pie.jpg/300px-Apple_pie.jpg\" srcset=\"//upload.wikimedia.org/wikipedia/commons/thumb/4/4b/Apple_pie.jpg/450px-Apple_pie.jpg 1.5x, //upload.wikimedia.org/wikipedia/commons/thumb/4/4b/Apple_pie.jpg/600px-Apple_pie.jpg 2x\" width=\"300\"/></a><div style=\"padding-bottom:0.25em;border-bottom:1px solid #aaa;\">Apple pie with a <a href=\"/wiki/Lattice_(pastry)\" title=\"Lattice (pastry)\">lattice</a></div></td></tr><tr class=\"note\"><th scope=\"row\" style=\"padding-top:0.245em;line-height:1.15em; padding-right:0.65em;\">Place of origin</th><td class=\"country-name\"><a href=\"/wiki/England\" title=\"England\">England</a><sup class=\"reference\" id=\"cite_ref-smithsonian_1-0\"><a href=\"#cite_note-smithsonian-1\">[1]</a></sup></td></tr><tr><th scope=\"row\" style=\"padding-top:0.245em;line-height:1.15em; padding-right:0.65em;\">Serving temperature</th><td>Hot or Cold</td></tr><tr><th scope=\"row\" style=\"padding-top:0.245em;line-height:1.15em; padding-right:0.65em;\">Main ingredients</th><td class=\"ingredient\"><a href=\"/wiki/Apple\" title=\"Apple\">Apples</a>, <a href=\"/wiki/Flour\" title=\"Flour\">flour</a>, <a href=\"/wiki/Sugar\" title=\"Sugar\">sugar</a>, <a href=\"/wiki/Milk\" title=\"Milk\">milk</a>, <a href=\"/wiki/Cinnamon\" title=\"Cinnamon\">cinnamon</a>, <a href=\"/wiki/Butter\" title=\"Butter\">butter</a>, <a href=\"/wiki/Salt\" title=\"Salt\">salt</a><sup class=\"reference\" id=\"cite_ref-foodnetwork.com_2-0\"><a href=\"#cite_note-foodnetwork.com-2\">[2]</a></sup></td></tr><tr><th scope=\"row\" style=\"padding-top:0.245em;line-height:1.15em; padding-right:0.65em;\"><div style=\"padding:0.1em 0;line-height:1.2em;line-height:1.1em;white-space:nowrap;\"><a href=\"/wiki/Food_energy\" title=\"Food energy\">Food energy</a><br/><span style=\"font-size:90%;font-weight:normal;\">(per 100 <a href=\"/wiki/Gram\" title=\"Gram\">g</a> serving)</span></div></th><td class=\"nutrition\">236 <a href=\"/wiki/Calorie\" title=\"Calorie\">kcal</a> (988 <a class=\"mw-redirect\" href=\"/wiki/Kilojoule\" title=\"Kilojoule\">kJ</a>)</td></tr><tr><td colspan=\"2\" style=\"text-align:center;border-top:1px solid #aaa;padding-top:0.25em;\"><div class=\"plainlist\"><ul><li><a class=\"image\" href=\"/wiki/File:Wikibooks-logo-en-noslogan.svg\"><img alt=\"\" class=\"noviewer\" data-file-height=\"400\" data-file-width=\"400\" decoding=\"async\" height=\"16\" src=\"//upload.wikimedia.org/wikipedia/commons/thumb/d/df/Wikibooks-logo-en-noslogan.svg/16px-Wikibooks-logo-en-noslogan.svg.png\" srcset=\"//upload.wikimedia.org/wikipedia/commons/thumb/d/df/Wikibooks-logo-en-noslogan.svg/24px-Wikibooks-logo-en-noslogan.svg.png 1.5x, //upload.wikimedia.org/wikipedia/commons/thumb/d/df/Wikibooks-logo-en-noslogan.svg/32px-Wikibooks-logo-en-noslogan.svg.png 2x\" width=\"16\"/></a> <a class=\"extiw\" href=\"https://en.wikibooks.org/wiki/Special:Search/Cookbook:_Apple_pie\" title=\"wikibooks:Special:Search/Cookbook: Apple pie\">Cookbook: Apple pie</a></li><li>  <a class=\"image\" href=\"/wiki/File:Commons-logo.svg\"><img alt=\"\" class=\"noviewer\" data-file-height=\"1376\" data-file-width=\"1024\" decoding=\"async\" height=\"16\" src=\"//upload.wikimedia.org/wikipedia/en/thumb/4/4a/Commons-logo.svg/12px-Commons-logo.svg.png\" srcset=\"//upload.wikimedia.org/wikipedia/en/thumb/4/4a/Commons-logo.svg/18px-Commons-logo.svg.png 1.5x, //upload.wikimedia.org/wikipedia/en/thumb/4/4a/Commons-logo.svg/24px-Commons-logo.svg.png 2x\" width=\"12\"/></a> <a class=\"extiw\" href=\"https://commons.wikimedia.org/wiki/Special:Search/Apple_pie\" title=\"commons:Special:Search/Apple pie\">Media: Apple pie</a></li></ul></div></td></tr></tbody></table>"
      ]
     },
     "execution_count": 20,
     "metadata": {},
     "output_type": "execute_result"
    }
   ],
   "source": [
    "nutri"
   ]
  },
  {
   "cell_type": "code",
   "execution_count": null,
   "metadata": {},
   "outputs": [],
   "source": []
  }
 ],
 "metadata": {
  "kernelspec": {
   "display_name": "Python 3",
   "language": "python",
   "name": "python3"
  },
  "language_info": {
   "codemirror_mode": {
    "name": "ipython",
    "version": 3
   },
   "file_extension": ".py",
   "mimetype": "text/x-python",
   "name": "python",
   "nbconvert_exporter": "python",
   "pygments_lexer": "ipython3",
   "version": "3.8.8"
  },
  "varInspector": {
   "cols": {
    "lenName": 16,
    "lenType": 16,
    "lenVar": 40
   },
   "kernels_config": {
    "python": {
     "delete_cmd_postfix": "",
     "delete_cmd_prefix": "del ",
     "library": "var_list.py",
     "varRefreshCmd": "print(var_dic_list())"
    },
    "r": {
     "delete_cmd_postfix": ") ",
     "delete_cmd_prefix": "rm(",
     "library": "var_list.r",
     "varRefreshCmd": "cat(var_dic_list()) "
    }
   },
   "types_to_exclude": [
    "module",
    "function",
    "builtin_function_or_method",
    "instance",
    "_Feature"
   ],
   "window_display": false
  }
 },
 "nbformat": 4,
 "nbformat_minor": 2
}
