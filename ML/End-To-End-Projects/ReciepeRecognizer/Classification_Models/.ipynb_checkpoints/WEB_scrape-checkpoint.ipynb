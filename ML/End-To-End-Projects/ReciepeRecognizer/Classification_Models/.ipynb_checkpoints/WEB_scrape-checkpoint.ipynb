{
 "cells": [
  {
   "cell_type": "code",
   "execution_count": 1,
   "metadata": {},
   "outputs": [
    {
     "ename": "ModuleNotFoundError",
     "evalue": "No module named 'splinter'",
     "output_type": "error",
     "traceback": [
      "\u001b[1;31m---------------------------------------------------------------------------\u001b[0m",
      "\u001b[1;31mModuleNotFoundError\u001b[0m                       Traceback (most recent call last)",
      "\u001b[1;32m<ipython-input-1-110cb967fb40>\u001b[0m in \u001b[0;36m<module>\u001b[1;34m\u001b[0m\n\u001b[1;32m----> 1\u001b[1;33m \u001b[1;32mfrom\u001b[0m \u001b[0msplinter\u001b[0m \u001b[1;32mimport\u001b[0m \u001b[0mBrowser\u001b[0m\u001b[1;33m\u001b[0m\u001b[1;33m\u001b[0m\u001b[0m\n\u001b[0m\u001b[0;32m      2\u001b[0m \u001b[1;32mfrom\u001b[0m \u001b[0mbs4\u001b[0m \u001b[1;32mimport\u001b[0m \u001b[0mBeautifulSoup\u001b[0m\u001b[1;33m\u001b[0m\u001b[1;33m\u001b[0m\u001b[0m\n\u001b[0;32m      3\u001b[0m \u001b[1;32mimport\u001b[0m \u001b[0mpandas\u001b[0m \u001b[1;32mas\u001b[0m \u001b[0mpd\u001b[0m\u001b[1;33m\u001b[0m\u001b[1;33m\u001b[0m\u001b[0m\n\u001b[0;32m      4\u001b[0m \u001b[1;32mimport\u001b[0m \u001b[0mrequests\u001b[0m\u001b[1;33m\u001b[0m\u001b[1;33m\u001b[0m\u001b[0m\n\u001b[0;32m      5\u001b[0m \u001b[1;32mimport\u001b[0m \u001b[0mos\u001b[0m\u001b[1;33m\u001b[0m\u001b[1;33m\u001b[0m\u001b[0m\n",
      "\u001b[1;31mModuleNotFoundError\u001b[0m: No module named 'splinter'"
     ]
    }
   ],
   "source": [
    "from splinter import Browser\n",
    "from bs4 import BeautifulSoup\n",
    "import pandas as pd\n",
    "import requests\n",
    "import os"
   ]
  },
  {
   "cell_type": "code",
   "execution_count": 16,
   "metadata": {},
   "outputs": [],
   "source": [
    "food_calories = pd.read_csv(os.path.join(\"static\",\"food_list\", \"Food_calories.csv\"),index_col=False)"
   ]
  },
  {
   "cell_type": "code",
   "execution_count": 17,
   "metadata": {},
   "outputs": [],
   "source": [
    "data=\"apple pie\""
   ]
  },
  {
   "cell_type": "code",
   "execution_count": 18,
   "metadata": {},
   "outputs": [],
   "source": [
    "if data==\"beef carpaccio\":\n",
    "    data=\"carpaccio\"\n",
    "elif data==\"cheese plate\":\n",
    "    data=\"cheese\"\n",
    "elif data==\"chicken quesadilla\":\n",
    "    data=\"quesadilla\"\n",
    "elif data==\"chicken wings\":\n",
    "    data=\"Buffalo wing\"\n",
    "elif data==\"grilled salmon\":\n",
    "    data=\"Salmon#As_food\"    \n",
    "elif data==\"lobster roll sandwich\":\n",
    "    data=\"lobster roll\" \n",
    "elif data==\"strawberry shortcake\":\n",
    "    data=\"Shortcake#Strawberry_shortcake\"\n",
    "\n",
    "path={'executable_path':'/usr/local/bin/chromedriver'}\n",
    "browser=Browser('chrome',**path,headless=False)\n",
    "\n",
    "if data==\"tuna tartare\":\n",
    "    url=\"http://ahealthylifeforme.com/tuna-tartare-recipe/\"\n",
    "    browser.visit(url)\n",
    "    html=browser.html\n",
    "    soup=BeautifulSoup(html,\"html.parser\")\n",
    "    var=soup.select_one('div.entry-content')\n",
    "    description=var.select('p')\n",
    "else:\n",
    "    url=\"https://en.wikipedia.org/wiki/\"\n",
    "    browser.visit(url+data)\n",
    "    html=browser.html\n",
    "    soup=BeautifulSoup(html,\"html.parser\")\n",
    "    var=soup.select_one('div.mw-parser-output')\n",
    "    description=var.select('p')\n",
    "    nutri=soup.select_one('table.infobox')"
   ]
  },
  {
   "cell_type": "code",
   "execution_count": 19,
   "metadata": {},
   "outputs": [
    {
     "data": {
      "text/plain": [
       "'An apple pie is a pie in which the principal filling ingredient is apple. It is often served with whipped cream, ice cream (\"apple pie à la mode\"), or cheddar cheese.[3] It is generally double-crusted, with pastry both above and below the filling; the upper crust may be solid or latticed (woven of crosswise strips). The bottom crust may be baked separately (\"blind\") to prevent it from getting soggy.[4] Deep-dish apple pie often has a top crust only and tarte Tatin is baked with the crust on top, but served with it on the bottom.\\n'"
      ]
     },
     "execution_count": 19,
     "metadata": {},
     "output_type": "execute_result"
    }
   ],
   "source": [
    "if (data==\"greek salad\" or data==\"oysters\" or data==\"paella\"):    \n",
    "    output=description[1].text\n",
    "elif (data==\"mussels\" or data==\"scallops\"):\n",
    "    output=description[2].text\n",
    "elif data==\"Salmon#As_food\":\n",
    "    output=description[3].text        \n",
    "else:\n",
    "    if description[0].text!='\\n':\n",
    "        output=description[0].text    \n",
    "    elif description[0].text=='\\n' and description[1].text!='\\n':\n",
    "        output=description[1].text\n",
    "    elif description[1].text=='\\n' and description[2].text!='\\n':\n",
    "        output=description[2].text\n",
    "output\n"
   ]
  },
  {
   "cell_type": "code",
   "execution_count": 20,
   "metadata": {},
   "outputs": [
    {
     "data": {
      "text/plain": [
       "<table class=\"infobox hrecipe adr\" style=\"width:22em\"><caption class=\"fn\"><span>Apple pie</span></caption><tbody><tr><td colspan=\"2\" style=\"text-align:center\"><a class=\"image\" href=\"/wiki/File:Apple_pie.jpg\"><img alt=\"Apple pie.jpg\" data-file-height=\"1657\" data-file-width=\"2418\" decoding=\"async\" height=\"206\" src=\"//upload.wikimedia.org/wikipedia/commons/thumb/4/4b/Apple_pie.jpg/300px-Apple_pie.jpg\" srcset=\"//upload.wikimedia.org/wikipedia/commons/thumb/4/4b/Apple_pie.jpg/450px-Apple_pie.jpg 1.5x, //upload.wikimedia.org/wikipedia/commons/thumb/4/4b/Apple_pie.jpg/600px-Apple_pie.jpg 2x\" width=\"300\"/></a><div style=\"padding-bottom:0.25em;border-bottom:1px solid #aaa;\">Apple pie with a <a href=\"/wiki/Lattice_(pastry)\" title=\"Lattice (pastry)\">lattice</a></div></td></tr><tr class=\"note\"><th scope=\"row\" style=\"padding-top:0.245em;line-height:1.15em; padding-right:0.65em;\">Place of origin</th><td class=\"country-name\"><a href=\"/wiki/England\" title=\"England\">England</a><sup class=\"reference\" id=\"cite_ref-smithsonian_1-0\"><a href=\"#cite_note-smithsonian-1\">[1]</a></sup></td></tr><tr><th scope=\"row\" style=\"padding-top:0.245em;line-height:1.15em; padding-right:0.65em;\">Serving temperature</th><td>Hot or Cold</td></tr><tr><th scope=\"row\" style=\"padding-top:0.245em;line-height:1.15em; padding-right:0.65em;\">Main ingredients</th><td class=\"ingredient\"><a href=\"/wiki/Apple\" title=\"Apple\">Apples</a>, <a href=\"/wiki/Flour\" title=\"Flour\">flour</a>, <a href=\"/wiki/Sugar\" title=\"Sugar\">sugar</a>, <a href=\"/wiki/Milk\" title=\"Milk\">milk</a>, <a href=\"/wiki/Cinnamon\" title=\"Cinnamon\">cinnamon</a>, <a href=\"/wiki/Butter\" title=\"Butter\">butter</a>, <a href=\"/wiki/Salt\" title=\"Salt\">salt</a><sup class=\"reference\" id=\"cite_ref-foodnetwork.com_2-0\"><a href=\"#cite_note-foodnetwork.com-2\">[2]</a></sup></td></tr><tr><th scope=\"row\" style=\"padding-top:0.245em;line-height:1.15em; padding-right:0.65em;\"><div style=\"padding:0.1em 0;line-height:1.2em;line-height:1.1em;white-space:nowrap;\"><a href=\"/wiki/Food_energy\" title=\"Food energy\">Food energy</a><br/><span style=\"font-size:90%;font-weight:normal;\">(per 100 <a href=\"/wiki/Gram\" title=\"Gram\">g</a> serving)</span></div></th><td class=\"nutrition\">236 <a href=\"/wiki/Calorie\" title=\"Calorie\">kcal</a> (988 <a class=\"mw-redirect\" href=\"/wiki/Kilojoule\" title=\"Kilojoule\">kJ</a>)</td></tr><tr><td colspan=\"2\" style=\"text-align:center;border-top:1px solid #aaa;padding-top:0.25em;\"><div class=\"plainlist\"><ul><li><a class=\"image\" href=\"/wiki/File:Wikibooks-logo-en-noslogan.svg\"><img alt=\"\" class=\"noviewer\" data-file-height=\"400\" data-file-width=\"400\" decoding=\"async\" height=\"16\" src=\"//upload.wikimedia.org/wikipedia/commons/thumb/d/df/Wikibooks-logo-en-noslogan.svg/16px-Wikibooks-logo-en-noslogan.svg.png\" srcset=\"//upload.wikimedia.org/wikipedia/commons/thumb/d/df/Wikibooks-logo-en-noslogan.svg/24px-Wikibooks-logo-en-noslogan.svg.png 1.5x, //upload.wikimedia.org/wikipedia/commons/thumb/d/df/Wikibooks-logo-en-noslogan.svg/32px-Wikibooks-logo-en-noslogan.svg.png 2x\" width=\"16\"/></a> <a class=\"extiw\" href=\"https://en.wikibooks.org/wiki/Special:Search/Cookbook:_Apple_pie\" title=\"wikibooks:Special:Search/Cookbook: Apple pie\">Cookbook: Apple pie</a></li><li>  <a class=\"image\" href=\"/wiki/File:Commons-logo.svg\"><img alt=\"\" class=\"noviewer\" data-file-height=\"1376\" data-file-width=\"1024\" decoding=\"async\" height=\"16\" src=\"//upload.wikimedia.org/wikipedia/en/thumb/4/4a/Commons-logo.svg/12px-Commons-logo.svg.png\" srcset=\"//upload.wikimedia.org/wikipedia/en/thumb/4/4a/Commons-logo.svg/18px-Commons-logo.svg.png 1.5x, //upload.wikimedia.org/wikipedia/en/thumb/4/4a/Commons-logo.svg/24px-Commons-logo.svg.png 2x\" width=\"12\"/></a> <a class=\"extiw\" href=\"https://commons.wikimedia.org/wiki/Special:Search/Apple_pie\" title=\"commons:Special:Search/Apple pie\">Media: Apple pie</a></li></ul></div></td></tr></tbody></table>"
      ]
     },
     "execution_count": 20,
     "metadata": {},
     "output_type": "execute_result"
    }
   ],
   "source": [
    "nutri"
   ]
  },
  {
   "cell_type": "code",
   "execution_count": null,
   "metadata": {},
   "outputs": [],
   "source": []
  }
 ],
 "metadata": {
  "kernelspec": {
   "display_name": "Python 3",
   "language": "python",
   "name": "python3"
  },
  "language_info": {
   "codemirror_mode": {
    "name": "ipython",
    "version": 3
   },
   "file_extension": ".py",
   "mimetype": "text/x-python",
   "name": "python",
   "nbconvert_exporter": "python",
   "pygments_lexer": "ipython3",
   "version": "3.8.8"
  },
  "varInspector": {
   "cols": {
    "lenName": 16,
    "lenType": 16,
    "lenVar": 40
   },
   "kernels_config": {
    "python": {
     "delete_cmd_postfix": "",
     "delete_cmd_prefix": "del ",
     "library": "var_list.py",
     "varRefreshCmd": "print(var_dic_list())"
    },
    "r": {
     "delete_cmd_postfix": ") ",
     "delete_cmd_prefix": "rm(",
     "library": "var_list.r",
     "varRefreshCmd": "cat(var_dic_list()) "
    }
   },
   "types_to_exclude": [
    "module",
    "function",
    "builtin_function_or_method",
    "instance",
    "_Feature"
   ],
   "window_display": false
  }
 },
 "nbformat": 4,
 "nbformat_minor": 2
}
