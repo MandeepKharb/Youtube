{
 "cells": [
  {
   "cell_type": "code",
   "execution_count": 3,
   "id": "19f48bd6",
   "metadata": {},
   "outputs": [
    {
     "name": "stdout",
     "output_type": "stream",
     "text": [
      "Requirement already satisfied: selenium in c:\\users\\mandeep.singh\\anaconda3\\lib\\site-packages (3.141.0)\n",
      "Requirement already satisfied: urllib3 in c:\\users\\mandeep.singh\\anaconda3\\lib\\site-packages (from selenium) (1.26.4)\n",
      "Note: you may need to restart the kernel to use updated packages.\n"
     ]
    }
   ],
   "source": [
    "#pip install --trusted-host pypi.python.org --trusted-host pypi.org --trusted-host files.pythonhosted.org selenium"
   ]
  },
  {
   "cell_type": "code",
   "execution_count": 1,
   "id": "fe6e5287",
   "metadata": {},
   "outputs": [],
   "source": [
    "#importing dependencies\n",
    "import pandas as pd\n",
    "import numpy as np\n",
    "import requests\n",
    "import json\n",
    "from bs4 import BeautifulSoup\n",
    "import csv\n",
    "import os\n",
    "import shutil"
   ]
  },
  {
   "cell_type": "code",
   "execution_count": 2,
   "id": "7f47d959",
   "metadata": {},
   "outputs": [],
   "source": [
    "import os\n",
    "import selenium\n",
    "from selenium import webdriver\n",
    "import time\n",
    "import requests\n",
    "import io\n",
    "from PIL import Image\n",
    "import hashlib\n",
    "def search_and_download(search_term:str,driver_path:str,target_path='./images',number_images=5):\n",
    "    target_folder = os.path.join(target_path,'_'.join(search_term.lower().split(' ')))\n",
    "    print(target_folder)\n",
    "\n",
    "    if not os.path.exists(target_folder):\n",
    "        os.makedirs(target_folder)\n",
    "\n",
    "    with webdriver.Chrome(executable_path=driver_path) as wd:\n",
    "        res = fetch_image_urls(search_term, number_images, wd=wd, sleep_between_interactions=0.5)\n",
    "    if res is not None:\n",
    "        for elem in res:\n",
    "            if elem is not None:\n",
    "                persist_image(target_folder,elem)\n",
    "                \n",
    "                 \n",
    "        \n",
    "      "
   ]
  },
  {
   "cell_type": "code",
   "execution_count": 3,
   "id": "1df0c053",
   "metadata": {},
   "outputs": [],
   "source": [
    "def fetch_image_urls(query:str, max_links_to_fetch:int, wd:webdriver, sleep_between_interactions:int=1):\n",
    "    def scroll_to_end(wd):\n",
    "        wd.execute_script(\"window.scrollTo(0, document.body.scrollHeight);\")\n",
    "        time.sleep(sleep_between_interactions)    \n",
    "    \n",
    "    # build the google query\n",
    "    search_url = \"https://www.google.com/search?safe=off&site=&tbm=isch&source=hp&q={q}&oq={q}&gs_l=img\"\n",
    "\n",
    "    # load the page\n",
    "    wd.get(search_url.format(q=query))\n",
    "\n",
    "    image_urls = set()\n",
    "    image_count = 0\n",
    "    results_start = 0\n",
    "    while image_count < max_links_to_fetch:\n",
    "        scroll_to_end(wd)\n",
    "\n",
    "        # get all image thumbnail results\n",
    "        thumbnail_results = wd.find_elements_by_css_selector(\"img.Q4LuWd\")\n",
    "        number_results = len(thumbnail_results)\n",
    "        \n",
    "        print(f\"Found: {number_results} search results. Extracting links from {results_start}:{number_results}\")\n",
    "        \n",
    "        for img in thumbnail_results[results_start:number_results]:\n",
    "            # try to click every thumbnail such that we can get the real image behind it\n",
    "            try:\n",
    "                img.click()\n",
    "                time.sleep(sleep_between_interactions)\n",
    "            except Exception:\n",
    "                continue\n",
    "\n",
    "            # extract image urls    \n",
    "            actual_images = wd.find_elements_by_css_selector('img.n3VNCb')\n",
    "            for actual_image in actual_images:\n",
    "                if actual_image.get_attribute('src') and 'http' in actual_image.get_attribute('src'):\n",
    "                    image_urls.add(actual_image.get_attribute('src'))\n",
    "\n",
    "            image_count = len(image_urls)\n",
    "\n",
    "            if len(image_urls) >= max_links_to_fetch:\n",
    "                print(f\"Found: {len(image_urls)} image links, done!\")\n",
    "                break\n",
    "        else:\n",
    "            print(\"Found:\", len(image_urls), \"image links, looking for more ...\")\n",
    "            time.sleep(30)\n",
    "            return\n",
    "            load_more_button = wd.find_element_by_css_selector(\".mye4qd\")\n",
    "            if load_more_button:\n",
    "                wd.execute_script(\"document.querySelector('.mye4qd').click();\")\n",
    "\n",
    "        # move the result startpoint further down\n",
    "        results_start = len(thumbnail_results)\n",
    "        print(image_urls)\n",
    "\n",
    "    return image_urls\n",
    "\n",
    "def persist_image(folder_path:str,url:str):\n",
    "    try:\n",
    "        headers = {\n",
    "    'user-agent': \"Mozilla/5.0 (Windows NT 10.0; Win64; x64) AppleWebKit/537.36 (KHTML, like Gecko) Chrome/81.0.4044.138 Safari/537.36\",\n",
    "}\n",
    "\n",
    "        image_content = requests.get(url,headers=headers,verify=False).content\n",
    "\n",
    "    except Exception as e:\n",
    "        print(f\"ERROR - Could not download {url} - {e}\")\n",
    "\n",
    "    try:\n",
    "        image_file = io.BytesIO(image_content)\n",
    "        image = Image.open(image_file).convert('RGB')\n",
    "        file_path = os.path.join(folder_path,hashlib.sha1(image_content).hexdigest()[:10] + '.jpg')\n",
    "        with open(file_path, 'wb') as f:\n",
    "            image.save(f, \"JPEG\", quality=85)\n",
    "        print(f\"SUCCESS - saved {url} - as {file_path}\")\n",
    "    except Exception as e:\n",
    "        print(f\"ERROR - Could not save {url} - {e}\")\n",
    "        \n"
   ]
  },
  {
   "cell_type": "code",
   "execution_count": 4,
   "id": "71ac5ef5",
   "metadata": {},
   "outputs": [],
   "source": [
    "#pip uninstall -y certifi && pip install certifi==2015.04.28"
   ]
  },
  {
   "cell_type": "code",
   "execution_count": 5,
   "id": "6475d74a",
   "metadata": {},
   "outputs": [
    {
     "name": "stdout",
     "output_type": "stream",
     "text": [
      "./images\\seaweed_salad\n",
      "Found: 100 search results. Extracting links from 0:100\n",
      "Found: 100 image links, done!\n",
      "{'https://encrypted-tbn0.gstatic.com/images?q=tbn:ANd9GcTEsciFGQaKcxSU3_cvsu58wIHnslJRREhdbA&usqp=CAU', 'https://cookingwithdog.com/wp-content/uploads/2020/08/seaweed-salad-16.jpg', 'https://encrypted-tbn0.gstatic.com/images?q=tbn:ANd9GcSJGkzp2opUBZD9BVLroFyiYyxivVMm__8beQ&usqp=CAU', 'https://encrypted-tbn0.gstatic.com/images?q=tbn:ANd9GcTOuwSI2UBa0jfRnFoDqcA5uCAY6UNg5Zsz4A&usqp=CAU', 'https://encrypted-tbn0.gstatic.com/images?q=tbn:ANd9GcRin1sNwyo4Lk13cnHO7JBSl95Otv_b3CHIow&usqp=CAU', 'https://encrypted-tbn0.gstatic.com/images?q=tbn:ANd9GcT5uv9G51ytHVH2NVi6VJCjOaJAo_93yOJ7pQ&usqp=CAU', 'https://encrypted-tbn0.gstatic.com/images?q=tbn:ANd9GcSBUCBGpnJMBwAt1Ji-s2-n8DnXgl7c-h2Fzg&usqp=CAU', 'https://encrypted-tbn0.gstatic.com/images?q=tbn:ANd9GcSFVzBrfyAJVbyAsYD03txP8dMiuJfCVvHv4w&usqp=CAU', 'https://encrypted-tbn0.gstatic.com/images?q=tbn:ANd9GcQjNIoShCtFzVw9oJcfs6uAIxRk-iB1VSMmmA&usqp=CAU', 'https://encrypted-tbn0.gstatic.com/images?q=tbn:ANd9GcQQpVbQlM2kmGABRJaYWXZAfWtXid5wjVHiYw&usqp=CAU', 'https://encrypted-tbn0.gstatic.com/images?q=tbn:ANd9GcRVsSVlSEFgbeQYWZ8ZzpXneyfKIoVLdIGmbA&usqp=CAU', 'https://encrypted-tbn0.gstatic.com/images?q=tbn:ANd9GcSpBw8H851wXnXvZrC6bIBJX_alqEDnwQZ6lg&usqp=CAU', 'https://encrypted-tbn0.gstatic.com/images?q=tbn:ANd9GcRepQySPsxCQMibRpZaNyjEKDMpX1awgNoEdw&usqp=CAU', 'https://encrypted-tbn0.gstatic.com/images?q=tbn:ANd9GcQN2JaNXemz3gLbez4IZKLpImKePtCdZCbczQ&usqp=CAU', 'https://encrypted-tbn0.gstatic.com/images?q=tbn:ANd9GcQV5wO3bVENRxde5MHAvzNvu0XWngToyB1xQA&usqp=CAU', 'https://encrypted-tbn0.gstatic.com/images?q=tbn:ANd9GcRbDAT8nCZ8vuRCmwK9XXEjZS7XllySN2zCmA&usqp=CAU', 'https://i2.wp.com/meatfreeketo.com/wp-content/uploads/easy-vegan-keto-seaweed-salad.png?fit=800%2C800&ssl=1', 'https://encrypted-tbn0.gstatic.com/images?q=tbn:ANd9GcTdtwyv5SnQxbHHtAvqBwnAcOGXByK2dBkGSA&usqp=CAU', 'https://encrypted-tbn0.gstatic.com/images?q=tbn:ANd9GcTGufoRYp5DRDJ95SypADYq7m-paiiUX4C7SA&usqp=CAU', 'https://encrypted-tbn0.gstatic.com/images?q=tbn:ANd9GcQRWgSBUDxg0CTQFD-uGzwkfVK1uc5y35sBig&usqp=CAU', 'https://thewoksoflife.com/wp-content/uploads/2020/06/chinese-seaweed-salad-11.jpg', 'https://encrypted-tbn0.gstatic.com/images?q=tbn:ANd9GcQkBEkXrl32sb9w4ea7Rxp6AnYQkc8QEfWVhQ&usqp=CAU', 'https://encrypted-tbn0.gstatic.com/images?q=tbn:ANd9GcQjU9uhbMqb3ubW8USQpkjrSI9Mj09oyY8PxQ&usqp=CAU', 'https://encrypted-tbn0.gstatic.com/images?q=tbn:ANd9GcRMRPAULytbZWrf_QMI4DDZ1_1dRNxaGmR-OA&usqp=CAU', 'https://encrypted-tbn0.gstatic.com/images?q=tbn:ANd9GcQ5075F7JTLqQeEcLut6lapUU9HFQcIcGhDpA&usqp=CAU', 'https://encrypted-tbn0.gstatic.com/images?q=tbn:ANd9GcRAJPjhPoOwhvdD4bZTa7eQxV0jfmHOw1VH1g&usqp=CAU', 'https://encrypted-tbn0.gstatic.com/images?q=tbn:ANd9GcSA0u5YeiI6axWQjsYDzbmGa_4l7zTJ5RtsKw&usqp=CAU', 'https://encrypted-tbn0.gstatic.com/images?q=tbn:ANd9GcSU6qhcNRz-teQ0_BH163HvmYsaeYKD_Az-VQ&usqp=CAU', 'https://encrypted-tbn0.gstatic.com/images?q=tbn:ANd9GcQQBoC45XX6rNhKluNu5DCrk9ybeueVawDUjA&usqp=CAU', 'https://sp-ao.shortpixel.ai/client/to_auto,q_lossy,ret_img,w_1400,h_934/https://norecipes.com/wp-content/uploads/2018/09/seaweed-salad_005.jpg', 'https://goop-img.com/wp-content/uploads/2014/11/RAW-KALE-SEA-WEED-SALAD_390x297.jpg', 'https://images.costco-static.com/ImageDelivery/imageService?profileId=12026540&imageId=549137-847__1&recipeName=350', 'https://encrypted-tbn0.gstatic.com/images?q=tbn:ANd9GcSsgUvIF1rZlwfdskDHI-apYNNbrw61VNTouQ&usqp=CAU', 'https://encrypted-tbn0.gstatic.com/images?q=tbn:ANd9GcTfqxCzv7guXVCZFrNCkhRnhSyV2-5z5K0I0Q&usqp=CAU', 'https://lh5.ggpht.com/rF8fjpTKRzaHtlqU9d4Cow6TkEey6sqF1ZdT2JkycexYkGCo_b_YbeLL_BvncilkXp5JoO6kiLRZ9TDZztVAiWE=w1280-h960-c-rj-v1-e365', 'https://encrypted-tbn0.gstatic.com/images?q=tbn:ANd9GcTVKBui1XX9e9kg5t-l5GOKO3ghOYCKYhuXFQ&usqp=CAU', 'https://res.cloudinary.com/sjlabs/image/upload/c_scale,q_auto,f_auto,w_1024,c_fill/l_GS_Vert-Logo-one-color-white,g_south_east,fl_relative,x_0.03,y_0.03,h_0.28/74126805206.jpg', 'https://encrypted-tbn0.gstatic.com/images?q=tbn:ANd9GcT2ZlKv5pY9iZf_wMU8RdkNiepdnmw6GfDLXg&usqp=CAU', 'https://i0.wp.com/news.algaeworld.org/wp-content/uploads/2017/01/seaweed-salad2.jpg?fit=672%2C372&ssl=1', 'https://i.ytimg.com/vi/sf-CtGJyiPA/maxresdefault.jpg', 'https://encrypted-tbn0.gstatic.com/images?q=tbn:ANd9GcQcEiziAWdzJpqccYJJqM-WYDlzvzVnfnc4AA&usqp=CAU', 'http://images.summitmedia-digital.com/yummyph/images/2018/01/29/seaweed-salad.jpg', 'https://images.squarespace-cdn.com/content/v1/5b4f41e196e76f286102ccf0/1554047203226-0P9QRCEV2FIZBX2G2J8D/IMG_9581.jpg?format=1000w', 'https://encrypted-tbn0.gstatic.com/images?q=tbn:ANd9GcRk7_fkwKrxHbhsfii0GRhqM0hH0kJfUgt_gw&usqp=CAU', 'https://encrypted-tbn0.gstatic.com/images?q=tbn:ANd9GcSB2OZ0K4e_urK7bE0ckH-ivjPbevdI-xTC3Q&usqp=CAU', 'https://encrypted-tbn0.gstatic.com/images?q=tbn:ANd9GcRtdxgIVRU31O6ggQBRTf4EMY0KfqJZtDdtxA&usqp=CAU', 'https://m.media-amazon.com/images/I/813CCV9gCbL._SL1500_.jpg', 'https://encrypted-tbn0.gstatic.com/images?q=tbn:ANd9GcTbx6klEP5KPD_Y1YKmZy_O1NUbRGtqPxJWIQ&usqp=CAU', 'https://encrypted-tbn0.gstatic.com/images?q=tbn:ANd9GcRTlhbhxqd06bxU5Tf9ErI-qejmwn2KYZWl2Q&usqp=CAU', 'https://encrypted-tbn0.gstatic.com/images?q=tbn:ANd9GcRXC3u2ORaIqsYnUvOsj4BK6VfNFPEiWXpB7A&usqp=CAU', 'https://image.made-in-china.com/202f0j00zkqYOpuCYobE/Natural-Coloring-Wakame-Seaweed-Salad.jpg', 'https://encrypted-tbn0.gstatic.com/images?q=tbn:ANd9GcQFcN-HpfRoJx9JUT9J33z4yF0Uf_Vp-_UKzQ&usqp=CAU', 'https://encrypted-tbn0.gstatic.com/images?q=tbn:ANd9GcR1WwqBrXPfrSEWZLrQKl87NSgEK8ZeM72tNg&usqp=CAU', 'https://cdn.shopify.com/s/files/1/0066/2775/4044/articles/a827tauuulapjhur5iay_2000x.jpg?v=1612562008', 'https://encrypted-tbn0.gstatic.com/images?q=tbn:ANd9GcQpVCyyW8izM42I7bNoX0jWMQMOt_hLQU4qxA&usqp=CAU', 'https://encrypted-tbn0.gstatic.com/images?q=tbn:ANd9GcT3uxQiNadZr1rhqfAbCW_Eqx8WpI8pENfekw&usqp=CAU', 'https://encrypted-tbn0.gstatic.com/images?q=tbn:ANd9GcRZotySwiM0K6TuTWPxdjQUbEZRL3G69bbUkQ&usqp=CAU', 'https://encrypted-tbn0.gstatic.com/images?q=tbn:ANd9GcRZTmS4rwdYEn3AMFPJ6LMl2aj4_8TOseoPNw&usqp=CAU', 'https://www.wikihow.com/images/thumb/7/76/Make-Seaweed-Salad-Step-22-Version-3.jpg/v4-460px-Make-Seaweed-Salad-Step-22-Version-3.jpg', 'https://encrypted-tbn0.gstatic.com/images?q=tbn:ANd9GcTqD0qfvQiFTH2Uag0h_DI5WOLqXhL0Mjuzlg&usqp=CAU', 'https://encrypted-tbn0.gstatic.com/images?q=tbn:ANd9GcRepVepDTMM3T7K07yJ1knxhxlwCrw1dr29_w&usqp=CAU', 'https://encrypted-tbn0.gstatic.com/images?q=tbn:ANd9GcTJnXPwjL34pDGU3fv-Mwpeh1ukf3nxHVE-uQ&usqp=CAU', 'https://encrypted-tbn0.gstatic.com/images?q=tbn:ANd9GcRyQKr338_t4El_s6wRnnYiR0tofJLieLpCEQ&usqp=CAU', 'https://encrypted-tbn0.gstatic.com/images?q=tbn:ANd9GcRfERCaKwHsxi5P8BKft-hNWxgTqW_G8VIWhw&usqp=CAU', 'https://www.thepaleomom.com/wp-content/uploads/2018/02/Seaweed-Salad-4.jpg', 'https://encrypted-tbn0.gstatic.com/images?q=tbn:ANd9GcThuUldD-FL5uGOW07fspUUF_IXw4YjE76elg&usqp=CAU', 'https://encrypted-tbn0.gstatic.com/images?q=tbn:ANd9GcTuM1Lo6HBh83drIRVLmsCQThbbAIYrx3bjQw&usqp=CAU', 'https://encrypted-tbn0.gstatic.com/images?q=tbn:ANd9GcQcEn-7_HYGn0rwaaa8RafMfxl3lOLOXsURbw&usqp=CAU', 'https://encrypted-tbn0.gstatic.com/images?q=tbn:ANd9GcShluDyOnqfVYFKIhTD32yNDTm-cfD6aXfNaQ&usqp=CAU', 'https://encrypted-tbn0.gstatic.com/images?q=tbn:ANd9GcSrDOMi2jsOLkGKauHtloPcS_cjkYglRMdXBQ&usqp=CAU', 'https://encrypted-tbn0.gstatic.com/images?q=tbn:ANd9GcRneDpiKCfhTgAZGMbg8jVJB1IvOwTpAyh8FQ&usqp=CAU', 'https://i.ytimg.com/vi/06Joz01YmEY/maxresdefault.jpg', 'https://encrypted-tbn0.gstatic.com/images?q=tbn:ANd9GcSBG8NhRlg_j-LGkdTDe_1JZzgUXm1mmeH1GQ&usqp=CAU', 'https://image.shutterstock.com/image-photo/japanese-seaweed-salad-bowl-600w-681686329.jpg', 'https://post.healthline.com/wp-content/uploads/2021/07/Chuka-Seaweed-Salad-732x549-thumbnail-732x549.jpg', 'https://encrypted-tbn0.gstatic.com/images?q=tbn:ANd9GcRTYBTRValhlMB2z4XI_Esi4k25_tx8jctpdQ&usqp=CAU', 'https://encrypted-tbn0.gstatic.com/images?q=tbn:ANd9GcS1V7aEzdLhOww1dBMcNJXFH-03bY8aGc9YwQ&usqp=CAU', 'https://encrypted-tbn0.gstatic.com/images?q=tbn:ANd9GcTmeF77-OVll-M4Kf2SHCZyuFztDOTyYf76ig&usqp=CAU', 'https://post.healthline.com/wp-content/uploads/2020/09/benefits-of-seaweed-732x549-thumbnail.jpg', 'https://assets.epicurious.com/photos/5cefeff0d98b0c4b29e56805/4:3/w_2000,h_1500,c_limit/cucumber-seaweed-salad-recipe-HC-052819.jpg', 'https://i1.wp.com/www.angsarap.net/wp-content/uploads/2017/09/Seaweed-Salad-Wide.jpg?ssl=1', 'https://encrypted-tbn0.gstatic.com/images?q=tbn:ANd9GcRfzDh5VSjDndZ2ixsyAvTro5JByjEvctYjWA&usqp=CAU', 'https://encrypted-tbn0.gstatic.com/images?q=tbn:ANd9GcSNTYdf_sh3z_OugjA3zA1R5lmAykr7oI9rJA&usqp=CAU', 'https://encrypted-tbn0.gstatic.com/images?q=tbn:ANd9GcS-XsEAT6a9YRu6dle4MX4TmJ00CFsuwieSQQ&usqp=CAU', 'https://encrypted-tbn0.gstatic.com/images?q=tbn:ANd9GcR25o_023pmCBOkzmSTkOmqugOa8gT4eawuQw&usqp=CAU', 'https://img-global.cpcdn.com/recipes/b8b17cfcd6eae9fd/1200x630cq70/photo.jpg', 'https://encrypted-tbn0.gstatic.com/images?q=tbn:ANd9GcTxXUqhhvxsl4LLEUoI-IZbhJsbNXaPnEE6dg&usqp=CAU', 'https://encrypted-tbn0.gstatic.com/images?q=tbn:ANd9GcTIdaSonsf5Oj1Ql6TblcaCsdqDRGfOT2-GmQ&usqp=CAU', 'https://encrypted-tbn0.gstatic.com/images?q=tbn:ANd9GcRWUmCqtGkHlBRIOCU5u4Wvjo3S3X4EKawveA&usqp=CAU', 'https://encrypted-tbn0.gstatic.com/images?q=tbn:ANd9GcQOifcNHq3kJGvh5_JH5rp99VG7ZhrZb_PQkw&usqp=CAU', 'https://encrypted-tbn0.gstatic.com/images?q=tbn:ANd9GcS5aGAGE6rBiXiwpYpcUBxfwy9q-vuwQA5VZg&usqp=CAU', 'https://encrypted-tbn0.gstatic.com/images?q=tbn:ANd9GcRgZO8YC8RUShpVyRPFmiBOW0e-s_QopOXXfA&usqp=CAU', 'https://encrypted-tbn0.gstatic.com/images?q=tbn:ANd9GcTpTEX2tN7ZS-IGPP1p7xh4SEWzj1waKQsdpA&usqp=CAU', 'https://encrypted-tbn0.gstatic.com/images?q=tbn:ANd9GcRj38H7nFvkD44Wwi6IfzXE8YXlSPrXzqsJWw&usqp=CAU', 'https://encrypted-tbn0.gstatic.com/images?q=tbn:ANd9GcS2fed6BxL445NXfadEAYzZdCXUw8yNiJJWtw&usqp=CAU', 'https://encrypted-tbn0.gstatic.com/images?q=tbn:ANd9GcS9NFuK1NLNZuLs_CL50qxh9QwfMCQWwO-2bA&usqp=CAU', 'https://encrypted-tbn0.gstatic.com/images?q=tbn:ANd9GcQQrfRYUw9JRauUeLCvxZ5peEGMgwWqKnkOzw&usqp=CAU', 'https://sp-ao.shortpixel.ai/client/to_auto,q_lossy,ret_img,w_934,h_1400/https://norecipes.com/wp-content/uploads/2018/09/seaweed-salad_004.jpg', 'https://encrypted-tbn0.gstatic.com/images?q=tbn:ANd9GcReRXW6s8vifTvWHl_mUol1nQ4wSPkCPnX_qQ&usqp=CAU', 'https://www.thespruceeats.com/thmb/n4cfGwQ91MlK7EF4oCBMsKcGS10=/450x0/filters:no_upscale():max_bytes(150000):strip_icc()/cucumber-and-wakame-salad-recipe-2031364-hero-01-a1edd24dc65a4f1f9750ecf8eaf4bdb6.jpg'}\n"
     ]
    },
    {
     "name": "stderr",
     "output_type": "stream",
     "text": [
      "C:\\Users\\mandeep.singh\\Anaconda3\\lib\\site-packages\\urllib3\\connectionpool.py:1013: InsecureRequestWarning: Unverified HTTPS request is being made to host 'encrypted-tbn0.gstatic.com'. Adding certificate verification is strongly advised. See: https://urllib3.readthedocs.io/en/latest/advanced-usage.html#ssl-warnings\n",
      "  warnings.warn(\n"
     ]
    },
    {
     "name": "stdout",
     "output_type": "stream",
     "text": [
      "SUCCESS - saved https://encrypted-tbn0.gstatic.com/images?q=tbn:ANd9GcTEsciFGQaKcxSU3_cvsu58wIHnslJRREhdbA&usqp=CAU - as ./images\\seaweed_salad\\a3b46d5535.jpg\n"
     ]
    },
    {
     "name": "stderr",
     "output_type": "stream",
     "text": [
      "C:\\Users\\mandeep.singh\\Anaconda3\\lib\\site-packages\\urllib3\\connectionpool.py:1013: InsecureRequestWarning: Unverified HTTPS request is being made to host 'cookingwithdog.com'. Adding certificate verification is strongly advised. See: https://urllib3.readthedocs.io/en/latest/advanced-usage.html#ssl-warnings\n",
      "  warnings.warn(\n"
     ]
    },
    {
     "name": "stdout",
     "output_type": "stream",
     "text": [
      "SUCCESS - saved https://cookingwithdog.com/wp-content/uploads/2020/08/seaweed-salad-16.jpg - as ./images\\seaweed_salad\\dba57f1533.jpg\n"
     ]
    },
    {
     "name": "stderr",
     "output_type": "stream",
     "text": [
      "C:\\Users\\mandeep.singh\\Anaconda3\\lib\\site-packages\\urllib3\\connectionpool.py:1013: InsecureRequestWarning: Unverified HTTPS request is being made to host 'encrypted-tbn0.gstatic.com'. Adding certificate verification is strongly advised. See: https://urllib3.readthedocs.io/en/latest/advanced-usage.html#ssl-warnings\n",
      "  warnings.warn(\n"
     ]
    },
    {
     "name": "stdout",
     "output_type": "stream",
     "text": [
      "SUCCESS - saved https://encrypted-tbn0.gstatic.com/images?q=tbn:ANd9GcSJGkzp2opUBZD9BVLroFyiYyxivVMm__8beQ&usqp=CAU - as ./images\\seaweed_salad\\5dffe178e5.jpg\n"
     ]
    },
    {
     "name": "stderr",
     "output_type": "stream",
     "text": [
      "C:\\Users\\mandeep.singh\\Anaconda3\\lib\\site-packages\\urllib3\\connectionpool.py:1013: InsecureRequestWarning: Unverified HTTPS request is being made to host 'encrypted-tbn0.gstatic.com'. Adding certificate verification is strongly advised. See: https://urllib3.readthedocs.io/en/latest/advanced-usage.html#ssl-warnings\n",
      "  warnings.warn(\n"
     ]
    },
    {
     "name": "stdout",
     "output_type": "stream",
     "text": [
      "SUCCESS - saved https://encrypted-tbn0.gstatic.com/images?q=tbn:ANd9GcTOuwSI2UBa0jfRnFoDqcA5uCAY6UNg5Zsz4A&usqp=CAU - as ./images\\seaweed_salad\\b17a6b9571.jpg\n"
     ]
    },
    {
     "name": "stderr",
     "output_type": "stream",
     "text": [
      "C:\\Users\\mandeep.singh\\Anaconda3\\lib\\site-packages\\urllib3\\connectionpool.py:1013: InsecureRequestWarning: Unverified HTTPS request is being made to host 'encrypted-tbn0.gstatic.com'. Adding certificate verification is strongly advised. See: https://urllib3.readthedocs.io/en/latest/advanced-usage.html#ssl-warnings\n",
      "  warnings.warn(\n"
     ]
    },
    {
     "name": "stdout",
     "output_type": "stream",
     "text": [
      "SUCCESS - saved https://encrypted-tbn0.gstatic.com/images?q=tbn:ANd9GcRin1sNwyo4Lk13cnHO7JBSl95Otv_b3CHIow&usqp=CAU - as ./images\\seaweed_salad\\0254bfbfaf.jpg\n"
     ]
    },
    {
     "name": "stderr",
     "output_type": "stream",
     "text": [
      "C:\\Users\\mandeep.singh\\Anaconda3\\lib\\site-packages\\urllib3\\connectionpool.py:1013: InsecureRequestWarning: Unverified HTTPS request is being made to host 'encrypted-tbn0.gstatic.com'. Adding certificate verification is strongly advised. See: https://urllib3.readthedocs.io/en/latest/advanced-usage.html#ssl-warnings\n",
      "  warnings.warn(\n"
     ]
    },
    {
     "name": "stdout",
     "output_type": "stream",
     "text": [
      "SUCCESS - saved https://encrypted-tbn0.gstatic.com/images?q=tbn:ANd9GcT5uv9G51ytHVH2NVi6VJCjOaJAo_93yOJ7pQ&usqp=CAU - as ./images\\seaweed_salad\\33e402c6ef.jpg\n",
      "SUCCESS - saved https://encrypted-tbn0.gstatic.com/images?q=tbn:ANd9GcSBUCBGpnJMBwAt1Ji-s2-n8DnXgl7c-h2Fzg&usqp=CAU - as ./images\\seaweed_salad\\c3dc946d72.jpg\n"
     ]
    },
    {
     "name": "stderr",
     "output_type": "stream",
     "text": [
      "C:\\Users\\mandeep.singh\\Anaconda3\\lib\\site-packages\\urllib3\\connectionpool.py:1013: InsecureRequestWarning: Unverified HTTPS request is being made to host 'encrypted-tbn0.gstatic.com'. Adding certificate verification is strongly advised. See: https://urllib3.readthedocs.io/en/latest/advanced-usage.html#ssl-warnings\n",
      "  warnings.warn(\n",
      "C:\\Users\\mandeep.singh\\Anaconda3\\lib\\site-packages\\urllib3\\connectionpool.py:1013: InsecureRequestWarning: Unverified HTTPS request is being made to host 'encrypted-tbn0.gstatic.com'. Adding certificate verification is strongly advised. See: https://urllib3.readthedocs.io/en/latest/advanced-usage.html#ssl-warnings\n",
      "  warnings.warn(\n"
     ]
    },
    {
     "name": "stdout",
     "output_type": "stream",
     "text": [
      "SUCCESS - saved https://encrypted-tbn0.gstatic.com/images?q=tbn:ANd9GcSFVzBrfyAJVbyAsYD03txP8dMiuJfCVvHv4w&usqp=CAU - as ./images\\seaweed_salad\\8225810572.jpg\n"
     ]
    },
    {
     "name": "stderr",
     "output_type": "stream",
     "text": [
      "C:\\Users\\mandeep.singh\\Anaconda3\\lib\\site-packages\\urllib3\\connectionpool.py:1013: InsecureRequestWarning: Unverified HTTPS request is being made to host 'encrypted-tbn0.gstatic.com'. Adding certificate verification is strongly advised. See: https://urllib3.readthedocs.io/en/latest/advanced-usage.html#ssl-warnings\n",
      "  warnings.warn(\n"
     ]
    },
    {
     "name": "stdout",
     "output_type": "stream",
     "text": [
      "SUCCESS - saved https://encrypted-tbn0.gstatic.com/images?q=tbn:ANd9GcQjNIoShCtFzVw9oJcfs6uAIxRk-iB1VSMmmA&usqp=CAU - as ./images\\seaweed_salad\\684ab94d33.jpg\n"
     ]
    },
    {
     "name": "stderr",
     "output_type": "stream",
     "text": [
      "C:\\Users\\mandeep.singh\\Anaconda3\\lib\\site-packages\\urllib3\\connectionpool.py:1013: InsecureRequestWarning: Unverified HTTPS request is being made to host 'encrypted-tbn0.gstatic.com'. Adding certificate verification is strongly advised. See: https://urllib3.readthedocs.io/en/latest/advanced-usage.html#ssl-warnings\n",
      "  warnings.warn(\n"
     ]
    },
    {
     "name": "stdout",
     "output_type": "stream",
     "text": [
      "SUCCESS - saved https://encrypted-tbn0.gstatic.com/images?q=tbn:ANd9GcQQpVbQlM2kmGABRJaYWXZAfWtXid5wjVHiYw&usqp=CAU - as ./images\\seaweed_salad\\05b969b49f.jpg\n",
      "SUCCESS - saved https://encrypted-tbn0.gstatic.com/images?q=tbn:ANd9GcRVsSVlSEFgbeQYWZ8ZzpXneyfKIoVLdIGmbA&usqp=CAU - as ./images\\seaweed_salad\\18bb8564d0.jpg\n"
     ]
    },
    {
     "name": "stderr",
     "output_type": "stream",
     "text": [
      "C:\\Users\\mandeep.singh\\Anaconda3\\lib\\site-packages\\urllib3\\connectionpool.py:1013: InsecureRequestWarning: Unverified HTTPS request is being made to host 'encrypted-tbn0.gstatic.com'. Adding certificate verification is strongly advised. See: https://urllib3.readthedocs.io/en/latest/advanced-usage.html#ssl-warnings\n",
      "  warnings.warn(\n",
      "C:\\Users\\mandeep.singh\\Anaconda3\\lib\\site-packages\\urllib3\\connectionpool.py:1013: InsecureRequestWarning: Unverified HTTPS request is being made to host 'encrypted-tbn0.gstatic.com'. Adding certificate verification is strongly advised. See: https://urllib3.readthedocs.io/en/latest/advanced-usage.html#ssl-warnings\n",
      "  warnings.warn(\n"
     ]
    },
    {
     "name": "stdout",
     "output_type": "stream",
     "text": [
      "SUCCESS - saved https://encrypted-tbn0.gstatic.com/images?q=tbn:ANd9GcSpBw8H851wXnXvZrC6bIBJX_alqEDnwQZ6lg&usqp=CAU - as ./images\\seaweed_salad\\ab1fb0a5e7.jpg\n"
     ]
    },
    {
     "name": "stderr",
     "output_type": "stream",
     "text": [
      "C:\\Users\\mandeep.singh\\Anaconda3\\lib\\site-packages\\urllib3\\connectionpool.py:1013: InsecureRequestWarning: Unverified HTTPS request is being made to host 'encrypted-tbn0.gstatic.com'. Adding certificate verification is strongly advised. See: https://urllib3.readthedocs.io/en/latest/advanced-usage.html#ssl-warnings\n",
      "  warnings.warn(\n"
     ]
    },
    {
     "name": "stdout",
     "output_type": "stream",
     "text": [
      "SUCCESS - saved https://encrypted-tbn0.gstatic.com/images?q=tbn:ANd9GcRepQySPsxCQMibRpZaNyjEKDMpX1awgNoEdw&usqp=CAU - as ./images\\seaweed_salad\\347f44cc56.jpg\n"
     ]
    },
    {
     "name": "stderr",
     "output_type": "stream",
     "text": [
      "C:\\Users\\mandeep.singh\\Anaconda3\\lib\\site-packages\\urllib3\\connectionpool.py:1013: InsecureRequestWarning: Unverified HTTPS request is being made to host 'encrypted-tbn0.gstatic.com'. Adding certificate verification is strongly advised. See: https://urllib3.readthedocs.io/en/latest/advanced-usage.html#ssl-warnings\n",
      "  warnings.warn(\n"
     ]
    },
    {
     "name": "stdout",
     "output_type": "stream",
     "text": [
      "SUCCESS - saved https://encrypted-tbn0.gstatic.com/images?q=tbn:ANd9GcQN2JaNXemz3gLbez4IZKLpImKePtCdZCbczQ&usqp=CAU - as ./images\\seaweed_salad\\75a8fde039.jpg\n"
     ]
    },
    {
     "name": "stderr",
     "output_type": "stream",
     "text": [
      "C:\\Users\\mandeep.singh\\Anaconda3\\lib\\site-packages\\urllib3\\connectionpool.py:1013: InsecureRequestWarning: Unverified HTTPS request is being made to host 'encrypted-tbn0.gstatic.com'. Adding certificate verification is strongly advised. See: https://urllib3.readthedocs.io/en/latest/advanced-usage.html#ssl-warnings\n",
      "  warnings.warn(\n"
     ]
    },
    {
     "name": "stdout",
     "output_type": "stream",
     "text": [
      "SUCCESS - saved https://encrypted-tbn0.gstatic.com/images?q=tbn:ANd9GcQV5wO3bVENRxde5MHAvzNvu0XWngToyB1xQA&usqp=CAU - as ./images\\seaweed_salad\\dd199fa23a.jpg\n"
     ]
    },
    {
     "name": "stderr",
     "output_type": "stream",
     "text": [
      "C:\\Users\\mandeep.singh\\Anaconda3\\lib\\site-packages\\urllib3\\connectionpool.py:1013: InsecureRequestWarning: Unverified HTTPS request is being made to host 'encrypted-tbn0.gstatic.com'. Adding certificate verification is strongly advised. See: https://urllib3.readthedocs.io/en/latest/advanced-usage.html#ssl-warnings\n",
      "  warnings.warn(\n"
     ]
    },
    {
     "name": "stdout",
     "output_type": "stream",
     "text": [
      "SUCCESS - saved https://encrypted-tbn0.gstatic.com/images?q=tbn:ANd9GcRbDAT8nCZ8vuRCmwK9XXEjZS7XllySN2zCmA&usqp=CAU - as ./images\\seaweed_salad\\93ed15e015.jpg\n"
     ]
    },
    {
     "name": "stderr",
     "output_type": "stream",
     "text": [
      "C:\\Users\\mandeep.singh\\Anaconda3\\lib\\site-packages\\urllib3\\connectionpool.py:1013: InsecureRequestWarning: Unverified HTTPS request is being made to host 'i2.wp.com'. Adding certificate verification is strongly advised. See: https://urllib3.readthedocs.io/en/latest/advanced-usage.html#ssl-warnings\n",
      "  warnings.warn(\n"
     ]
    },
    {
     "name": "stdout",
     "output_type": "stream",
     "text": [
      "SUCCESS - saved https://i2.wp.com/meatfreeketo.com/wp-content/uploads/easy-vegan-keto-seaweed-salad.png?fit=800%2C800&ssl=1 - as ./images\\seaweed_salad\\110b278576.jpg\n"
     ]
    },
    {
     "name": "stderr",
     "output_type": "stream",
     "text": [
      "C:\\Users\\mandeep.singh\\Anaconda3\\lib\\site-packages\\urllib3\\connectionpool.py:1013: InsecureRequestWarning: Unverified HTTPS request is being made to host 'encrypted-tbn0.gstatic.com'. Adding certificate verification is strongly advised. See: https://urllib3.readthedocs.io/en/latest/advanced-usage.html#ssl-warnings\n",
      "  warnings.warn(\n"
     ]
    },
    {
     "name": "stdout",
     "output_type": "stream",
     "text": [
      "SUCCESS - saved https://encrypted-tbn0.gstatic.com/images?q=tbn:ANd9GcTdtwyv5SnQxbHHtAvqBwnAcOGXByK2dBkGSA&usqp=CAU - as ./images\\seaweed_salad\\5a5825d8b7.jpg\n"
     ]
    },
    {
     "name": "stderr",
     "output_type": "stream",
     "text": [
      "C:\\Users\\mandeep.singh\\Anaconda3\\lib\\site-packages\\urllib3\\connectionpool.py:1013: InsecureRequestWarning: Unverified HTTPS request is being made to host 'encrypted-tbn0.gstatic.com'. Adding certificate verification is strongly advised. See: https://urllib3.readthedocs.io/en/latest/advanced-usage.html#ssl-warnings\n",
      "  warnings.warn(\n"
     ]
    },
    {
     "name": "stdout",
     "output_type": "stream",
     "text": [
      "SUCCESS - saved https://encrypted-tbn0.gstatic.com/images?q=tbn:ANd9GcTGufoRYp5DRDJ95SypADYq7m-paiiUX4C7SA&usqp=CAU - as ./images\\seaweed_salad\\6c7c6e97cb.jpg\n"
     ]
    },
    {
     "name": "stderr",
     "output_type": "stream",
     "text": [
      "C:\\Users\\mandeep.singh\\Anaconda3\\lib\\site-packages\\urllib3\\connectionpool.py:1013: InsecureRequestWarning: Unverified HTTPS request is being made to host 'encrypted-tbn0.gstatic.com'. Adding certificate verification is strongly advised. See: https://urllib3.readthedocs.io/en/latest/advanced-usage.html#ssl-warnings\n",
      "  warnings.warn(\n"
     ]
    },
    {
     "name": "stdout",
     "output_type": "stream",
     "text": [
      "SUCCESS - saved https://encrypted-tbn0.gstatic.com/images?q=tbn:ANd9GcQRWgSBUDxg0CTQFD-uGzwkfVK1uc5y35sBig&usqp=CAU - as ./images\\seaweed_salad\\b39644fac7.jpg\n"
     ]
    },
    {
     "name": "stderr",
     "output_type": "stream",
     "text": [
      "C:\\Users\\mandeep.singh\\Anaconda3\\lib\\site-packages\\urllib3\\connectionpool.py:1013: InsecureRequestWarning: Unverified HTTPS request is being made to host 'thewoksoflife.com'. Adding certificate verification is strongly advised. See: https://urllib3.readthedocs.io/en/latest/advanced-usage.html#ssl-warnings\n",
      "  warnings.warn(\n"
     ]
    },
    {
     "name": "stdout",
     "output_type": "stream",
     "text": [
      "SUCCESS - saved https://thewoksoflife.com/wp-content/uploads/2020/06/chinese-seaweed-salad-11.jpg - as ./images\\seaweed_salad\\ac95911487.jpg\n"
     ]
    },
    {
     "name": "stderr",
     "output_type": "stream",
     "text": [
      "C:\\Users\\mandeep.singh\\Anaconda3\\lib\\site-packages\\urllib3\\connectionpool.py:1013: InsecureRequestWarning: Unverified HTTPS request is being made to host 'encrypted-tbn0.gstatic.com'. Adding certificate verification is strongly advised. See: https://urllib3.readthedocs.io/en/latest/advanced-usage.html#ssl-warnings\n",
      "  warnings.warn(\n"
     ]
    },
    {
     "name": "stdout",
     "output_type": "stream",
     "text": [
      "SUCCESS - saved https://encrypted-tbn0.gstatic.com/images?q=tbn:ANd9GcQkBEkXrl32sb9w4ea7Rxp6AnYQkc8QEfWVhQ&usqp=CAU - as ./images\\seaweed_salad\\a9e28cb96e.jpg\n"
     ]
    },
    {
     "name": "stderr",
     "output_type": "stream",
     "text": [
      "C:\\Users\\mandeep.singh\\Anaconda3\\lib\\site-packages\\urllib3\\connectionpool.py:1013: InsecureRequestWarning: Unverified HTTPS request is being made to host 'encrypted-tbn0.gstatic.com'. Adding certificate verification is strongly advised. See: https://urllib3.readthedocs.io/en/latest/advanced-usage.html#ssl-warnings\n",
      "  warnings.warn(\n"
     ]
    },
    {
     "name": "stdout",
     "output_type": "stream",
     "text": [
      "SUCCESS - saved https://encrypted-tbn0.gstatic.com/images?q=tbn:ANd9GcQjU9uhbMqb3ubW8USQpkjrSI9Mj09oyY8PxQ&usqp=CAU - as ./images\\seaweed_salad\\9cb950b9fd.jpg\n"
     ]
    },
    {
     "name": "stderr",
     "output_type": "stream",
     "text": [
      "C:\\Users\\mandeep.singh\\Anaconda3\\lib\\site-packages\\urllib3\\connectionpool.py:1013: InsecureRequestWarning: Unverified HTTPS request is being made to host 'encrypted-tbn0.gstatic.com'. Adding certificate verification is strongly advised. See: https://urllib3.readthedocs.io/en/latest/advanced-usage.html#ssl-warnings\n",
      "  warnings.warn(\n"
     ]
    },
    {
     "name": "stdout",
     "output_type": "stream",
     "text": [
      "SUCCESS - saved https://encrypted-tbn0.gstatic.com/images?q=tbn:ANd9GcRMRPAULytbZWrf_QMI4DDZ1_1dRNxaGmR-OA&usqp=CAU - as ./images\\seaweed_salad\\d11b56ca8f.jpg\n"
     ]
    },
    {
     "name": "stderr",
     "output_type": "stream",
     "text": [
      "C:\\Users\\mandeep.singh\\Anaconda3\\lib\\site-packages\\urllib3\\connectionpool.py:1013: InsecureRequestWarning: Unverified HTTPS request is being made to host 'encrypted-tbn0.gstatic.com'. Adding certificate verification is strongly advised. See: https://urllib3.readthedocs.io/en/latest/advanced-usage.html#ssl-warnings\n",
      "  warnings.warn(\n"
     ]
    },
    {
     "name": "stdout",
     "output_type": "stream",
     "text": [
      "SUCCESS - saved https://encrypted-tbn0.gstatic.com/images?q=tbn:ANd9GcQ5075F7JTLqQeEcLut6lapUU9HFQcIcGhDpA&usqp=CAU - as ./images\\seaweed_salad\\6eb8a7aec5.jpg\n"
     ]
    },
    {
     "name": "stderr",
     "output_type": "stream",
     "text": [
      "C:\\Users\\mandeep.singh\\Anaconda3\\lib\\site-packages\\urllib3\\connectionpool.py:1013: InsecureRequestWarning: Unverified HTTPS request is being made to host 'encrypted-tbn0.gstatic.com'. Adding certificate verification is strongly advised. See: https://urllib3.readthedocs.io/en/latest/advanced-usage.html#ssl-warnings\n",
      "  warnings.warn(\n"
     ]
    },
    {
     "name": "stdout",
     "output_type": "stream",
     "text": [
      "SUCCESS - saved https://encrypted-tbn0.gstatic.com/images?q=tbn:ANd9GcRAJPjhPoOwhvdD4bZTa7eQxV0jfmHOw1VH1g&usqp=CAU - as ./images\\seaweed_salad\\45bee1688f.jpg\n"
     ]
    },
    {
     "name": "stderr",
     "output_type": "stream",
     "text": [
      "C:\\Users\\mandeep.singh\\Anaconda3\\lib\\site-packages\\urllib3\\connectionpool.py:1013: InsecureRequestWarning: Unverified HTTPS request is being made to host 'encrypted-tbn0.gstatic.com'. Adding certificate verification is strongly advised. See: https://urllib3.readthedocs.io/en/latest/advanced-usage.html#ssl-warnings\n",
      "  warnings.warn(\n"
     ]
    },
    {
     "name": "stdout",
     "output_type": "stream",
     "text": [
      "SUCCESS - saved https://encrypted-tbn0.gstatic.com/images?q=tbn:ANd9GcSA0u5YeiI6axWQjsYDzbmGa_4l7zTJ5RtsKw&usqp=CAU - as ./images\\seaweed_salad\\3469713d74.jpg\n"
     ]
    },
    {
     "name": "stderr",
     "output_type": "stream",
     "text": [
      "C:\\Users\\mandeep.singh\\Anaconda3\\lib\\site-packages\\urllib3\\connectionpool.py:1013: InsecureRequestWarning: Unverified HTTPS request is being made to host 'encrypted-tbn0.gstatic.com'. Adding certificate verification is strongly advised. See: https://urllib3.readthedocs.io/en/latest/advanced-usage.html#ssl-warnings\n",
      "  warnings.warn(\n"
     ]
    },
    {
     "name": "stdout",
     "output_type": "stream",
     "text": [
      "SUCCESS - saved https://encrypted-tbn0.gstatic.com/images?q=tbn:ANd9GcSU6qhcNRz-teQ0_BH163HvmYsaeYKD_Az-VQ&usqp=CAU - as ./images\\seaweed_salad\\3999383503.jpg\n"
     ]
    },
    {
     "name": "stderr",
     "output_type": "stream",
     "text": [
      "C:\\Users\\mandeep.singh\\Anaconda3\\lib\\site-packages\\urllib3\\connectionpool.py:1013: InsecureRequestWarning: Unverified HTTPS request is being made to host 'encrypted-tbn0.gstatic.com'. Adding certificate verification is strongly advised. See: https://urllib3.readthedocs.io/en/latest/advanced-usage.html#ssl-warnings\n",
      "  warnings.warn(\n"
     ]
    },
    {
     "name": "stdout",
     "output_type": "stream",
     "text": [
      "SUCCESS - saved https://encrypted-tbn0.gstatic.com/images?q=tbn:ANd9GcQQBoC45XX6rNhKluNu5DCrk9ybeueVawDUjA&usqp=CAU - as ./images\\seaweed_salad\\e060057c9f.jpg\n"
     ]
    },
    {
     "name": "stderr",
     "output_type": "stream",
     "text": [
      "C:\\Users\\mandeep.singh\\Anaconda3\\lib\\site-packages\\urllib3\\connectionpool.py:1013: InsecureRequestWarning: Unverified HTTPS request is being made to host 'sp-ao.shortpixel.ai'. Adding certificate verification is strongly advised. See: https://urllib3.readthedocs.io/en/latest/advanced-usage.html#ssl-warnings\n",
      "  warnings.warn(\n"
     ]
    },
    {
     "name": "stdout",
     "output_type": "stream",
     "text": [
      "SUCCESS - saved https://sp-ao.shortpixel.ai/client/to_auto,q_lossy,ret_img,w_1400,h_934/https://norecipes.com/wp-content/uploads/2018/09/seaweed-salad_005.jpg - as ./images\\seaweed_salad\\0598cadf1d.jpg\n"
     ]
    },
    {
     "name": "stderr",
     "output_type": "stream",
     "text": [
      "C:\\Users\\mandeep.singh\\Anaconda3\\lib\\site-packages\\urllib3\\connectionpool.py:1013: InsecureRequestWarning: Unverified HTTPS request is being made to host 'goop-img.com'. Adding certificate verification is strongly advised. See: https://urllib3.readthedocs.io/en/latest/advanced-usage.html#ssl-warnings\n",
      "  warnings.warn(\n"
     ]
    },
    {
     "name": "stdout",
     "output_type": "stream",
     "text": [
      "SUCCESS - saved https://goop-img.com/wp-content/uploads/2014/11/RAW-KALE-SEA-WEED-SALAD_390x297.jpg - as ./images\\seaweed_salad\\4d1ad7aa6d.jpg\n"
     ]
    },
    {
     "name": "stderr",
     "output_type": "stream",
     "text": [
      "C:\\Users\\mandeep.singh\\Anaconda3\\lib\\site-packages\\urllib3\\connectionpool.py:1013: InsecureRequestWarning: Unverified HTTPS request is being made to host 'images.costco-static.com'. Adding certificate verification is strongly advised. See: https://urllib3.readthedocs.io/en/latest/advanced-usage.html#ssl-warnings\n",
      "  warnings.warn(\n",
      "C:\\Users\\mandeep.singh\\Anaconda3\\lib\\site-packages\\urllib3\\connectionpool.py:1013: InsecureRequestWarning: Unverified HTTPS request is being made to host 'encrypted-tbn0.gstatic.com'. Adding certificate verification is strongly advised. See: https://urllib3.readthedocs.io/en/latest/advanced-usage.html#ssl-warnings\n",
      "  warnings.warn(\n"
     ]
    },
    {
     "name": "stdout",
     "output_type": "stream",
     "text": [
      "SUCCESS - saved https://images.costco-static.com/ImageDelivery/imageService?profileId=12026540&imageId=549137-847__1&recipeName=350 - as ./images\\seaweed_salad\\77f90584f2.jpg\n",
      "SUCCESS - saved https://encrypted-tbn0.gstatic.com/images?q=tbn:ANd9GcSsgUvIF1rZlwfdskDHI-apYNNbrw61VNTouQ&usqp=CAU - as ./images\\seaweed_salad\\860980e824.jpg\n"
     ]
    },
    {
     "name": "stderr",
     "output_type": "stream",
     "text": [
      "C:\\Users\\mandeep.singh\\Anaconda3\\lib\\site-packages\\urllib3\\connectionpool.py:1013: InsecureRequestWarning: Unverified HTTPS request is being made to host 'encrypted-tbn0.gstatic.com'. Adding certificate verification is strongly advised. See: https://urllib3.readthedocs.io/en/latest/advanced-usage.html#ssl-warnings\n",
      "  warnings.warn(\n"
     ]
    },
    {
     "name": "stdout",
     "output_type": "stream",
     "text": [
      "SUCCESS - saved https://encrypted-tbn0.gstatic.com/images?q=tbn:ANd9GcTfqxCzv7guXVCZFrNCkhRnhSyV2-5z5K0I0Q&usqp=CAU - as ./images\\seaweed_salad\\e857ca6108.jpg\n"
     ]
    },
    {
     "name": "stderr",
     "output_type": "stream",
     "text": [
      "C:\\Users\\mandeep.singh\\Anaconda3\\lib\\site-packages\\urllib3\\connectionpool.py:1013: InsecureRequestWarning: Unverified HTTPS request is being made to host 'lh5.ggpht.com'. Adding certificate verification is strongly advised. See: https://urllib3.readthedocs.io/en/latest/advanced-usage.html#ssl-warnings\n",
      "  warnings.warn(\n"
     ]
    },
    {
     "name": "stdout",
     "output_type": "stream",
     "text": [
      "SUCCESS - saved https://lh5.ggpht.com/rF8fjpTKRzaHtlqU9d4Cow6TkEey6sqF1ZdT2JkycexYkGCo_b_YbeLL_BvncilkXp5JoO6kiLRZ9TDZztVAiWE=w1280-h960-c-rj-v1-e365 - as ./images\\seaweed_salad\\54dde02111.jpg\n"
     ]
    },
    {
     "name": "stderr",
     "output_type": "stream",
     "text": [
      "C:\\Users\\mandeep.singh\\Anaconda3\\lib\\site-packages\\urllib3\\connectionpool.py:1013: InsecureRequestWarning: Unverified HTTPS request is being made to host 'encrypted-tbn0.gstatic.com'. Adding certificate verification is strongly advised. See: https://urllib3.readthedocs.io/en/latest/advanced-usage.html#ssl-warnings\n",
      "  warnings.warn(\n"
     ]
    },
    {
     "name": "stdout",
     "output_type": "stream",
     "text": [
      "SUCCESS - saved https://encrypted-tbn0.gstatic.com/images?q=tbn:ANd9GcTVKBui1XX9e9kg5t-l5GOKO3ghOYCKYhuXFQ&usqp=CAU - as ./images\\seaweed_salad\\37e4e57589.jpg\n"
     ]
    },
    {
     "name": "stderr",
     "output_type": "stream",
     "text": [
      "C:\\Users\\mandeep.singh\\Anaconda3\\lib\\site-packages\\urllib3\\connectionpool.py:1013: InsecureRequestWarning: Unverified HTTPS request is being made to host 'res.cloudinary.com'. Adding certificate verification is strongly advised. See: https://urllib3.readthedocs.io/en/latest/advanced-usage.html#ssl-warnings\n",
      "  warnings.warn(\n"
     ]
    },
    {
     "name": "stdout",
     "output_type": "stream",
     "text": [
      "SUCCESS - saved https://res.cloudinary.com/sjlabs/image/upload/c_scale,q_auto,f_auto,w_1024,c_fill/l_GS_Vert-Logo-one-color-white,g_south_east,fl_relative,x_0.03,y_0.03,h_0.28/74126805206.jpg - as ./images\\seaweed_salad\\5f874613ea.jpg\n"
     ]
    },
    {
     "name": "stderr",
     "output_type": "stream",
     "text": [
      "C:\\Users\\mandeep.singh\\Anaconda3\\lib\\site-packages\\urllib3\\connectionpool.py:1013: InsecureRequestWarning: Unverified HTTPS request is being made to host 'encrypted-tbn0.gstatic.com'. Adding certificate verification is strongly advised. See: https://urllib3.readthedocs.io/en/latest/advanced-usage.html#ssl-warnings\n",
      "  warnings.warn(\n"
     ]
    },
    {
     "name": "stdout",
     "output_type": "stream",
     "text": [
      "SUCCESS - saved https://encrypted-tbn0.gstatic.com/images?q=tbn:ANd9GcT2ZlKv5pY9iZf_wMU8RdkNiepdnmw6GfDLXg&usqp=CAU - as ./images\\seaweed_salad\\6fa920486c.jpg\n"
     ]
    },
    {
     "name": "stderr",
     "output_type": "stream",
     "text": [
      "C:\\Users\\mandeep.singh\\Anaconda3\\lib\\site-packages\\urllib3\\connectionpool.py:1013: InsecureRequestWarning: Unverified HTTPS request is being made to host 'i0.wp.com'. Adding certificate verification is strongly advised. See: https://urllib3.readthedocs.io/en/latest/advanced-usage.html#ssl-warnings\n",
      "  warnings.warn(\n"
     ]
    },
    {
     "name": "stdout",
     "output_type": "stream",
     "text": [
      "SUCCESS - saved https://i0.wp.com/news.algaeworld.org/wp-content/uploads/2017/01/seaweed-salad2.jpg?fit=672%2C372&ssl=1 - as ./images\\seaweed_salad\\34227a0be0.jpg\n"
     ]
    },
    {
     "name": "stderr",
     "output_type": "stream",
     "text": [
      "C:\\Users\\mandeep.singh\\Anaconda3\\lib\\site-packages\\urllib3\\connectionpool.py:1013: InsecureRequestWarning: Unverified HTTPS request is being made to host 'i.ytimg.com'. Adding certificate verification is strongly advised. See: https://urllib3.readthedocs.io/en/latest/advanced-usage.html#ssl-warnings\n",
      "  warnings.warn(\n"
     ]
    },
    {
     "name": "stdout",
     "output_type": "stream",
     "text": [
      "SUCCESS - saved https://i.ytimg.com/vi/sf-CtGJyiPA/maxresdefault.jpg - as ./images\\seaweed_salad\\a540b4779d.jpg\n"
     ]
    },
    {
     "name": "stderr",
     "output_type": "stream",
     "text": [
      "C:\\Users\\mandeep.singh\\Anaconda3\\lib\\site-packages\\urllib3\\connectionpool.py:1013: InsecureRequestWarning: Unverified HTTPS request is being made to host 'encrypted-tbn0.gstatic.com'. Adding certificate verification is strongly advised. See: https://urllib3.readthedocs.io/en/latest/advanced-usage.html#ssl-warnings\n",
      "  warnings.warn(\n"
     ]
    },
    {
     "name": "stdout",
     "output_type": "stream",
     "text": [
      "SUCCESS - saved https://encrypted-tbn0.gstatic.com/images?q=tbn:ANd9GcQcEiziAWdzJpqccYJJqM-WYDlzvzVnfnc4AA&usqp=CAU - as ./images\\seaweed_salad\\2de1899a0e.jpg\n",
      "SUCCESS - saved http://images.summitmedia-digital.com/yummyph/images/2018/01/29/seaweed-salad.jpg - as ./images\\seaweed_salad\\d4726f4b99.jpg\n"
     ]
    },
    {
     "name": "stderr",
     "output_type": "stream",
     "text": [
      "C:\\Users\\mandeep.singh\\Anaconda3\\lib\\site-packages\\urllib3\\connectionpool.py:1013: InsecureRequestWarning: Unverified HTTPS request is being made to host 'images.squarespace-cdn.com'. Adding certificate verification is strongly advised. See: https://urllib3.readthedocs.io/en/latest/advanced-usage.html#ssl-warnings\n",
      "  warnings.warn(\n"
     ]
    },
    {
     "name": "stdout",
     "output_type": "stream",
     "text": [
      "SUCCESS - saved https://images.squarespace-cdn.com/content/v1/5b4f41e196e76f286102ccf0/1554047203226-0P9QRCEV2FIZBX2G2J8D/IMG_9581.jpg?format=1000w - as ./images\\seaweed_salad\\1e45b34db2.jpg\n"
     ]
    },
    {
     "name": "stderr",
     "output_type": "stream",
     "text": [
      "C:\\Users\\mandeep.singh\\Anaconda3\\lib\\site-packages\\urllib3\\connectionpool.py:1013: InsecureRequestWarning: Unverified HTTPS request is being made to host 'encrypted-tbn0.gstatic.com'. Adding certificate verification is strongly advised. See: https://urllib3.readthedocs.io/en/latest/advanced-usage.html#ssl-warnings\n",
      "  warnings.warn(\n"
     ]
    },
    {
     "name": "stdout",
     "output_type": "stream",
     "text": [
      "SUCCESS - saved https://encrypted-tbn0.gstatic.com/images?q=tbn:ANd9GcRk7_fkwKrxHbhsfii0GRhqM0hH0kJfUgt_gw&usqp=CAU - as ./images\\seaweed_salad\\1fdacfaf4c.jpg\n"
     ]
    },
    {
     "name": "stderr",
     "output_type": "stream",
     "text": [
      "C:\\Users\\mandeep.singh\\Anaconda3\\lib\\site-packages\\urllib3\\connectionpool.py:1013: InsecureRequestWarning: Unverified HTTPS request is being made to host 'encrypted-tbn0.gstatic.com'. Adding certificate verification is strongly advised. See: https://urllib3.readthedocs.io/en/latest/advanced-usage.html#ssl-warnings\n",
      "  warnings.warn(\n"
     ]
    },
    {
     "name": "stdout",
     "output_type": "stream",
     "text": [
      "SUCCESS - saved https://encrypted-tbn0.gstatic.com/images?q=tbn:ANd9GcSB2OZ0K4e_urK7bE0ckH-ivjPbevdI-xTC3Q&usqp=CAU - as ./images\\seaweed_salad\\feb25ca6b3.jpg\n"
     ]
    },
    {
     "name": "stderr",
     "output_type": "stream",
     "text": [
      "C:\\Users\\mandeep.singh\\Anaconda3\\lib\\site-packages\\urllib3\\connectionpool.py:1013: InsecureRequestWarning: Unverified HTTPS request is being made to host 'encrypted-tbn0.gstatic.com'. Adding certificate verification is strongly advised. See: https://urllib3.readthedocs.io/en/latest/advanced-usage.html#ssl-warnings\n",
      "  warnings.warn(\n"
     ]
    },
    {
     "name": "stdout",
     "output_type": "stream",
     "text": [
      "SUCCESS - saved https://encrypted-tbn0.gstatic.com/images?q=tbn:ANd9GcRtdxgIVRU31O6ggQBRTf4EMY0KfqJZtDdtxA&usqp=CAU - as ./images\\seaweed_salad\\ee2b4342c0.jpg\n"
     ]
    },
    {
     "name": "stderr",
     "output_type": "stream",
     "text": [
      "C:\\Users\\mandeep.singh\\Anaconda3\\lib\\site-packages\\urllib3\\connectionpool.py:1013: InsecureRequestWarning: Unverified HTTPS request is being made to host 'm.media-amazon.com'. Adding certificate verification is strongly advised. See: https://urllib3.readthedocs.io/en/latest/advanced-usage.html#ssl-warnings\n",
      "  warnings.warn(\n"
     ]
    },
    {
     "name": "stdout",
     "output_type": "stream",
     "text": [
      "SUCCESS - saved https://m.media-amazon.com/images/I/813CCV9gCbL._SL1500_.jpg - as ./images\\seaweed_salad\\6da9766ad5.jpg\n"
     ]
    },
    {
     "name": "stderr",
     "output_type": "stream",
     "text": [
      "C:\\Users\\mandeep.singh\\Anaconda3\\lib\\site-packages\\urllib3\\connectionpool.py:1013: InsecureRequestWarning: Unverified HTTPS request is being made to host 'encrypted-tbn0.gstatic.com'. Adding certificate verification is strongly advised. See: https://urllib3.readthedocs.io/en/latest/advanced-usage.html#ssl-warnings\n",
      "  warnings.warn(\n"
     ]
    },
    {
     "name": "stdout",
     "output_type": "stream",
     "text": [
      "SUCCESS - saved https://encrypted-tbn0.gstatic.com/images?q=tbn:ANd9GcTbx6klEP5KPD_Y1YKmZy_O1NUbRGtqPxJWIQ&usqp=CAU - as ./images\\seaweed_salad\\88904ec4b2.jpg\n"
     ]
    },
    {
     "name": "stderr",
     "output_type": "stream",
     "text": [
      "C:\\Users\\mandeep.singh\\Anaconda3\\lib\\site-packages\\urllib3\\connectionpool.py:1013: InsecureRequestWarning: Unverified HTTPS request is being made to host 'encrypted-tbn0.gstatic.com'. Adding certificate verification is strongly advised. See: https://urllib3.readthedocs.io/en/latest/advanced-usage.html#ssl-warnings\n",
      "  warnings.warn(\n"
     ]
    },
    {
     "name": "stdout",
     "output_type": "stream",
     "text": [
      "SUCCESS - saved https://encrypted-tbn0.gstatic.com/images?q=tbn:ANd9GcRTlhbhxqd06bxU5Tf9ErI-qejmwn2KYZWl2Q&usqp=CAU - as ./images\\seaweed_salad\\7392402216.jpg\n"
     ]
    },
    {
     "name": "stderr",
     "output_type": "stream",
     "text": [
      "C:\\Users\\mandeep.singh\\Anaconda3\\lib\\site-packages\\urllib3\\connectionpool.py:1013: InsecureRequestWarning: Unverified HTTPS request is being made to host 'encrypted-tbn0.gstatic.com'. Adding certificate verification is strongly advised. See: https://urllib3.readthedocs.io/en/latest/advanced-usage.html#ssl-warnings\n",
      "  warnings.warn(\n"
     ]
    },
    {
     "name": "stdout",
     "output_type": "stream",
     "text": [
      "SUCCESS - saved https://encrypted-tbn0.gstatic.com/images?q=tbn:ANd9GcRXC3u2ORaIqsYnUvOsj4BK6VfNFPEiWXpB7A&usqp=CAU - as ./images\\seaweed_salad\\d00363640a.jpg\n"
     ]
    },
    {
     "name": "stderr",
     "output_type": "stream",
     "text": [
      "C:\\Users\\mandeep.singh\\Anaconda3\\lib\\site-packages\\urllib3\\connectionpool.py:1013: InsecureRequestWarning: Unverified HTTPS request is being made to host 'image.made-in-china.com'. Adding certificate verification is strongly advised. See: https://urllib3.readthedocs.io/en/latest/advanced-usage.html#ssl-warnings\n",
      "  warnings.warn(\n"
     ]
    },
    {
     "name": "stdout",
     "output_type": "stream",
     "text": [
      "ERROR - Could not save https://image.made-in-china.com/202f0j00zkqYOpuCYobE/Natural-Coloring-Wakame-Seaweed-Salad.jpg - cannot identify image file <_io.BytesIO object at 0x0000024D6D30CD60>\n"
     ]
    },
    {
     "name": "stderr",
     "output_type": "stream",
     "text": [
      "C:\\Users\\mandeep.singh\\Anaconda3\\lib\\site-packages\\urllib3\\connectionpool.py:1013: InsecureRequestWarning: Unverified HTTPS request is being made to host 'encrypted-tbn0.gstatic.com'. Adding certificate verification is strongly advised. See: https://urllib3.readthedocs.io/en/latest/advanced-usage.html#ssl-warnings\n",
      "  warnings.warn(\n"
     ]
    },
    {
     "name": "stdout",
     "output_type": "stream",
     "text": [
      "SUCCESS - saved https://encrypted-tbn0.gstatic.com/images?q=tbn:ANd9GcQFcN-HpfRoJx9JUT9J33z4yF0Uf_Vp-_UKzQ&usqp=CAU - as ./images\\seaweed_salad\\081ff28f86.jpg\n"
     ]
    },
    {
     "name": "stderr",
     "output_type": "stream",
     "text": [
      "C:\\Users\\mandeep.singh\\Anaconda3\\lib\\site-packages\\urllib3\\connectionpool.py:1013: InsecureRequestWarning: Unverified HTTPS request is being made to host 'encrypted-tbn0.gstatic.com'. Adding certificate verification is strongly advised. See: https://urllib3.readthedocs.io/en/latest/advanced-usage.html#ssl-warnings\n",
      "  warnings.warn(\n"
     ]
    },
    {
     "name": "stdout",
     "output_type": "stream",
     "text": [
      "SUCCESS - saved https://encrypted-tbn0.gstatic.com/images?q=tbn:ANd9GcR1WwqBrXPfrSEWZLrQKl87NSgEK8ZeM72tNg&usqp=CAU - as ./images\\seaweed_salad\\54af518a6f.jpg\n"
     ]
    },
    {
     "name": "stderr",
     "output_type": "stream",
     "text": [
      "C:\\Users\\mandeep.singh\\Anaconda3\\lib\\site-packages\\urllib3\\connectionpool.py:1013: InsecureRequestWarning: Unverified HTTPS request is being made to host 'cdn.shopify.com'. Adding certificate verification is strongly advised. See: https://urllib3.readthedocs.io/en/latest/advanced-usage.html#ssl-warnings\n",
      "  warnings.warn(\n"
     ]
    },
    {
     "name": "stdout",
     "output_type": "stream",
     "text": [
      "SUCCESS - saved https://cdn.shopify.com/s/files/1/0066/2775/4044/articles/a827tauuulapjhur5iay_2000x.jpg?v=1612562008 - as ./images\\seaweed_salad\\fb38e08707.jpg\n"
     ]
    },
    {
     "name": "stderr",
     "output_type": "stream",
     "text": [
      "C:\\Users\\mandeep.singh\\Anaconda3\\lib\\site-packages\\urllib3\\connectionpool.py:1013: InsecureRequestWarning: Unverified HTTPS request is being made to host 'encrypted-tbn0.gstatic.com'. Adding certificate verification is strongly advised. See: https://urllib3.readthedocs.io/en/latest/advanced-usage.html#ssl-warnings\n",
      "  warnings.warn(\n"
     ]
    },
    {
     "name": "stdout",
     "output_type": "stream",
     "text": [
      "SUCCESS - saved https://encrypted-tbn0.gstatic.com/images?q=tbn:ANd9GcQpVCyyW8izM42I7bNoX0jWMQMOt_hLQU4qxA&usqp=CAU - as ./images\\seaweed_salad\\8c74cd0d93.jpg\n"
     ]
    },
    {
     "name": "stderr",
     "output_type": "stream",
     "text": [
      "C:\\Users\\mandeep.singh\\Anaconda3\\lib\\site-packages\\urllib3\\connectionpool.py:1013: InsecureRequestWarning: Unverified HTTPS request is being made to host 'encrypted-tbn0.gstatic.com'. Adding certificate verification is strongly advised. See: https://urllib3.readthedocs.io/en/latest/advanced-usage.html#ssl-warnings\n",
      "  warnings.warn(\n"
     ]
    },
    {
     "name": "stdout",
     "output_type": "stream",
     "text": [
      "SUCCESS - saved https://encrypted-tbn0.gstatic.com/images?q=tbn:ANd9GcT3uxQiNadZr1rhqfAbCW_Eqx8WpI8pENfekw&usqp=CAU - as ./images\\seaweed_salad\\a205c9472c.jpg\n"
     ]
    },
    {
     "name": "stderr",
     "output_type": "stream",
     "text": [
      "C:\\Users\\mandeep.singh\\Anaconda3\\lib\\site-packages\\urllib3\\connectionpool.py:1013: InsecureRequestWarning: Unverified HTTPS request is being made to host 'encrypted-tbn0.gstatic.com'. Adding certificate verification is strongly advised. See: https://urllib3.readthedocs.io/en/latest/advanced-usage.html#ssl-warnings\n",
      "  warnings.warn(\n"
     ]
    },
    {
     "name": "stdout",
     "output_type": "stream",
     "text": [
      "SUCCESS - saved https://encrypted-tbn0.gstatic.com/images?q=tbn:ANd9GcRZotySwiM0K6TuTWPxdjQUbEZRL3G69bbUkQ&usqp=CAU - as ./images\\seaweed_salad\\3d333d0b9e.jpg\n"
     ]
    },
    {
     "name": "stderr",
     "output_type": "stream",
     "text": [
      "C:\\Users\\mandeep.singh\\Anaconda3\\lib\\site-packages\\urllib3\\connectionpool.py:1013: InsecureRequestWarning: Unverified HTTPS request is being made to host 'encrypted-tbn0.gstatic.com'. Adding certificate verification is strongly advised. See: https://urllib3.readthedocs.io/en/latest/advanced-usage.html#ssl-warnings\n",
      "  warnings.warn(\n"
     ]
    },
    {
     "name": "stdout",
     "output_type": "stream",
     "text": [
      "SUCCESS - saved https://encrypted-tbn0.gstatic.com/images?q=tbn:ANd9GcRZTmS4rwdYEn3AMFPJ6LMl2aj4_8TOseoPNw&usqp=CAU - as ./images\\seaweed_salad\\12a13aa103.jpg\n"
     ]
    },
    {
     "name": "stderr",
     "output_type": "stream",
     "text": [
      "C:\\Users\\mandeep.singh\\Anaconda3\\lib\\site-packages\\urllib3\\connectionpool.py:1013: InsecureRequestWarning: Unverified HTTPS request is being made to host 'www.wikihow.com'. Adding certificate verification is strongly advised. See: https://urllib3.readthedocs.io/en/latest/advanced-usage.html#ssl-warnings\n",
      "  warnings.warn(\n"
     ]
    },
    {
     "name": "stdout",
     "output_type": "stream",
     "text": [
      "SUCCESS - saved https://www.wikihow.com/images/thumb/7/76/Make-Seaweed-Salad-Step-22-Version-3.jpg/v4-460px-Make-Seaweed-Salad-Step-22-Version-3.jpg - as ./images\\seaweed_salad\\b8b69a4ac7.jpg\n"
     ]
    },
    {
     "name": "stderr",
     "output_type": "stream",
     "text": [
      "C:\\Users\\mandeep.singh\\Anaconda3\\lib\\site-packages\\urllib3\\connectionpool.py:1013: InsecureRequestWarning: Unverified HTTPS request is being made to host 'encrypted-tbn0.gstatic.com'. Adding certificate verification is strongly advised. See: https://urllib3.readthedocs.io/en/latest/advanced-usage.html#ssl-warnings\n",
      "  warnings.warn(\n"
     ]
    },
    {
     "name": "stdout",
     "output_type": "stream",
     "text": [
      "SUCCESS - saved https://encrypted-tbn0.gstatic.com/images?q=tbn:ANd9GcTqD0qfvQiFTH2Uag0h_DI5WOLqXhL0Mjuzlg&usqp=CAU - as ./images\\seaweed_salad\\d388ff95cc.jpg\n"
     ]
    },
    {
     "name": "stderr",
     "output_type": "stream",
     "text": [
      "C:\\Users\\mandeep.singh\\Anaconda3\\lib\\site-packages\\urllib3\\connectionpool.py:1013: InsecureRequestWarning: Unverified HTTPS request is being made to host 'encrypted-tbn0.gstatic.com'. Adding certificate verification is strongly advised. See: https://urllib3.readthedocs.io/en/latest/advanced-usage.html#ssl-warnings\n",
      "  warnings.warn(\n"
     ]
    },
    {
     "name": "stdout",
     "output_type": "stream",
     "text": [
      "SUCCESS - saved https://encrypted-tbn0.gstatic.com/images?q=tbn:ANd9GcRepVepDTMM3T7K07yJ1knxhxlwCrw1dr29_w&usqp=CAU - as ./images\\seaweed_salad\\8fa25087ae.jpg\n"
     ]
    },
    {
     "name": "stderr",
     "output_type": "stream",
     "text": [
      "C:\\Users\\mandeep.singh\\Anaconda3\\lib\\site-packages\\urllib3\\connectionpool.py:1013: InsecureRequestWarning: Unverified HTTPS request is being made to host 'encrypted-tbn0.gstatic.com'. Adding certificate verification is strongly advised. See: https://urllib3.readthedocs.io/en/latest/advanced-usage.html#ssl-warnings\n",
      "  warnings.warn(\n"
     ]
    },
    {
     "name": "stdout",
     "output_type": "stream",
     "text": [
      "SUCCESS - saved https://encrypted-tbn0.gstatic.com/images?q=tbn:ANd9GcTJnXPwjL34pDGU3fv-Mwpeh1ukf3nxHVE-uQ&usqp=CAU - as ./images\\seaweed_salad\\67d810258c.jpg\n"
     ]
    },
    {
     "name": "stderr",
     "output_type": "stream",
     "text": [
      "C:\\Users\\mandeep.singh\\Anaconda3\\lib\\site-packages\\urllib3\\connectionpool.py:1013: InsecureRequestWarning: Unverified HTTPS request is being made to host 'encrypted-tbn0.gstatic.com'. Adding certificate verification is strongly advised. See: https://urllib3.readthedocs.io/en/latest/advanced-usage.html#ssl-warnings\n",
      "  warnings.warn(\n"
     ]
    },
    {
     "name": "stdout",
     "output_type": "stream",
     "text": [
      "SUCCESS - saved https://encrypted-tbn0.gstatic.com/images?q=tbn:ANd9GcRyQKr338_t4El_s6wRnnYiR0tofJLieLpCEQ&usqp=CAU - as ./images\\seaweed_salad\\2b7fa687ac.jpg\n"
     ]
    },
    {
     "name": "stderr",
     "output_type": "stream",
     "text": [
      "C:\\Users\\mandeep.singh\\Anaconda3\\lib\\site-packages\\urllib3\\connectionpool.py:1013: InsecureRequestWarning: Unverified HTTPS request is being made to host 'encrypted-tbn0.gstatic.com'. Adding certificate verification is strongly advised. See: https://urllib3.readthedocs.io/en/latest/advanced-usage.html#ssl-warnings\n",
      "  warnings.warn(\n"
     ]
    },
    {
     "name": "stdout",
     "output_type": "stream",
     "text": [
      "SUCCESS - saved https://encrypted-tbn0.gstatic.com/images?q=tbn:ANd9GcRfERCaKwHsxi5P8BKft-hNWxgTqW_G8VIWhw&usqp=CAU - as ./images\\seaweed_salad\\49e156dc55.jpg\n"
     ]
    },
    {
     "name": "stderr",
     "output_type": "stream",
     "text": [
      "C:\\Users\\mandeep.singh\\Anaconda3\\lib\\site-packages\\urllib3\\connectionpool.py:1013: InsecureRequestWarning: Unverified HTTPS request is being made to host 'www.thepaleomom.com'. Adding certificate verification is strongly advised. See: https://urllib3.readthedocs.io/en/latest/advanced-usage.html#ssl-warnings\n",
      "  warnings.warn(\n"
     ]
    },
    {
     "name": "stdout",
     "output_type": "stream",
     "text": [
      "SUCCESS - saved https://www.thepaleomom.com/wp-content/uploads/2018/02/Seaweed-Salad-4.jpg - as ./images\\seaweed_salad\\a6e32ecf90.jpg\n"
     ]
    },
    {
     "name": "stderr",
     "output_type": "stream",
     "text": [
      "C:\\Users\\mandeep.singh\\Anaconda3\\lib\\site-packages\\urllib3\\connectionpool.py:1013: InsecureRequestWarning: Unverified HTTPS request is being made to host 'encrypted-tbn0.gstatic.com'. Adding certificate verification is strongly advised. See: https://urllib3.readthedocs.io/en/latest/advanced-usage.html#ssl-warnings\n",
      "  warnings.warn(\n"
     ]
    },
    {
     "name": "stdout",
     "output_type": "stream",
     "text": [
      "SUCCESS - saved https://encrypted-tbn0.gstatic.com/images?q=tbn:ANd9GcThuUldD-FL5uGOW07fspUUF_IXw4YjE76elg&usqp=CAU - as ./images\\seaweed_salad\\e098050ed9.jpg\n"
     ]
    },
    {
     "name": "stderr",
     "output_type": "stream",
     "text": [
      "C:\\Users\\mandeep.singh\\Anaconda3\\lib\\site-packages\\urllib3\\connectionpool.py:1013: InsecureRequestWarning: Unverified HTTPS request is being made to host 'encrypted-tbn0.gstatic.com'. Adding certificate verification is strongly advised. See: https://urllib3.readthedocs.io/en/latest/advanced-usage.html#ssl-warnings\n",
      "  warnings.warn(\n"
     ]
    },
    {
     "name": "stdout",
     "output_type": "stream",
     "text": [
      "SUCCESS - saved https://encrypted-tbn0.gstatic.com/images?q=tbn:ANd9GcTuM1Lo6HBh83drIRVLmsCQThbbAIYrx3bjQw&usqp=CAU - as ./images\\seaweed_salad\\bf3834f05a.jpg\n"
     ]
    },
    {
     "name": "stderr",
     "output_type": "stream",
     "text": [
      "C:\\Users\\mandeep.singh\\Anaconda3\\lib\\site-packages\\urllib3\\connectionpool.py:1013: InsecureRequestWarning: Unverified HTTPS request is being made to host 'encrypted-tbn0.gstatic.com'. Adding certificate verification is strongly advised. See: https://urllib3.readthedocs.io/en/latest/advanced-usage.html#ssl-warnings\n",
      "  warnings.warn(\n"
     ]
    },
    {
     "name": "stdout",
     "output_type": "stream",
     "text": [
      "SUCCESS - saved https://encrypted-tbn0.gstatic.com/images?q=tbn:ANd9GcQcEn-7_HYGn0rwaaa8RafMfxl3lOLOXsURbw&usqp=CAU - as ./images\\seaweed_salad\\eafe2619d7.jpg\n"
     ]
    },
    {
     "name": "stderr",
     "output_type": "stream",
     "text": [
      "C:\\Users\\mandeep.singh\\Anaconda3\\lib\\site-packages\\urllib3\\connectionpool.py:1013: InsecureRequestWarning: Unverified HTTPS request is being made to host 'encrypted-tbn0.gstatic.com'. Adding certificate verification is strongly advised. See: https://urllib3.readthedocs.io/en/latest/advanced-usage.html#ssl-warnings\n",
      "  warnings.warn(\n"
     ]
    },
    {
     "name": "stdout",
     "output_type": "stream",
     "text": [
      "SUCCESS - saved https://encrypted-tbn0.gstatic.com/images?q=tbn:ANd9GcShluDyOnqfVYFKIhTD32yNDTm-cfD6aXfNaQ&usqp=CAU - as ./images\\seaweed_salad\\744e5296f9.jpg\n"
     ]
    },
    {
     "name": "stderr",
     "output_type": "stream",
     "text": [
      "C:\\Users\\mandeep.singh\\Anaconda3\\lib\\site-packages\\urllib3\\connectionpool.py:1013: InsecureRequestWarning: Unverified HTTPS request is being made to host 'encrypted-tbn0.gstatic.com'. Adding certificate verification is strongly advised. See: https://urllib3.readthedocs.io/en/latest/advanced-usage.html#ssl-warnings\n",
      "  warnings.warn(\n"
     ]
    },
    {
     "name": "stdout",
     "output_type": "stream",
     "text": [
      "SUCCESS - saved https://encrypted-tbn0.gstatic.com/images?q=tbn:ANd9GcSrDOMi2jsOLkGKauHtloPcS_cjkYglRMdXBQ&usqp=CAU - as ./images\\seaweed_salad\\d4c9390632.jpg\n"
     ]
    },
    {
     "name": "stderr",
     "output_type": "stream",
     "text": [
      "C:\\Users\\mandeep.singh\\Anaconda3\\lib\\site-packages\\urllib3\\connectionpool.py:1013: InsecureRequestWarning: Unverified HTTPS request is being made to host 'encrypted-tbn0.gstatic.com'. Adding certificate verification is strongly advised. See: https://urllib3.readthedocs.io/en/latest/advanced-usage.html#ssl-warnings\n",
      "  warnings.warn(\n"
     ]
    },
    {
     "name": "stdout",
     "output_type": "stream",
     "text": [
      "SUCCESS - saved https://encrypted-tbn0.gstatic.com/images?q=tbn:ANd9GcRneDpiKCfhTgAZGMbg8jVJB1IvOwTpAyh8FQ&usqp=CAU - as ./images\\seaweed_salad\\d2df76999f.jpg\n"
     ]
    },
    {
     "name": "stderr",
     "output_type": "stream",
     "text": [
      "C:\\Users\\mandeep.singh\\Anaconda3\\lib\\site-packages\\urllib3\\connectionpool.py:1013: InsecureRequestWarning: Unverified HTTPS request is being made to host 'i.ytimg.com'. Adding certificate verification is strongly advised. See: https://urllib3.readthedocs.io/en/latest/advanced-usage.html#ssl-warnings\n",
      "  warnings.warn(\n"
     ]
    },
    {
     "name": "stdout",
     "output_type": "stream",
     "text": [
      "SUCCESS - saved https://i.ytimg.com/vi/06Joz01YmEY/maxresdefault.jpg - as ./images\\seaweed_salad\\3a871195a3.jpg\n"
     ]
    },
    {
     "name": "stderr",
     "output_type": "stream",
     "text": [
      "C:\\Users\\mandeep.singh\\Anaconda3\\lib\\site-packages\\urllib3\\connectionpool.py:1013: InsecureRequestWarning: Unverified HTTPS request is being made to host 'encrypted-tbn0.gstatic.com'. Adding certificate verification is strongly advised. See: https://urllib3.readthedocs.io/en/latest/advanced-usage.html#ssl-warnings\n",
      "  warnings.warn(\n"
     ]
    },
    {
     "name": "stdout",
     "output_type": "stream",
     "text": [
      "SUCCESS - saved https://encrypted-tbn0.gstatic.com/images?q=tbn:ANd9GcSBG8NhRlg_j-LGkdTDe_1JZzgUXm1mmeH1GQ&usqp=CAU - as ./images\\seaweed_salad\\8987412b7e.jpg\n"
     ]
    },
    {
     "name": "stderr",
     "output_type": "stream",
     "text": [
      "C:\\Users\\mandeep.singh\\Anaconda3\\lib\\site-packages\\urllib3\\connectionpool.py:1013: InsecureRequestWarning: Unverified HTTPS request is being made to host 'image.shutterstock.com'. Adding certificate verification is strongly advised. See: https://urllib3.readthedocs.io/en/latest/advanced-usage.html#ssl-warnings\n",
      "  warnings.warn(\n"
     ]
    },
    {
     "name": "stdout",
     "output_type": "stream",
     "text": [
      "SUCCESS - saved https://image.shutterstock.com/image-photo/japanese-seaweed-salad-bowl-600w-681686329.jpg - as ./images\\seaweed_salad\\a7efeb59f1.jpg\n"
     ]
    },
    {
     "name": "stderr",
     "output_type": "stream",
     "text": [
      "C:\\Users\\mandeep.singh\\Anaconda3\\lib\\site-packages\\urllib3\\connectionpool.py:1013: InsecureRequestWarning: Unverified HTTPS request is being made to host 'post.healthline.com'. Adding certificate verification is strongly advised. See: https://urllib3.readthedocs.io/en/latest/advanced-usage.html#ssl-warnings\n",
      "  warnings.warn(\n"
     ]
    },
    {
     "name": "stdout",
     "output_type": "stream",
     "text": [
      "SUCCESS - saved https://post.healthline.com/wp-content/uploads/2021/07/Chuka-Seaweed-Salad-732x549-thumbnail-732x549.jpg - as ./images\\seaweed_salad\\70cfb33e41.jpg\n"
     ]
    },
    {
     "name": "stderr",
     "output_type": "stream",
     "text": [
      "C:\\Users\\mandeep.singh\\Anaconda3\\lib\\site-packages\\urllib3\\connectionpool.py:1013: InsecureRequestWarning: Unverified HTTPS request is being made to host 'encrypted-tbn0.gstatic.com'. Adding certificate verification is strongly advised. See: https://urllib3.readthedocs.io/en/latest/advanced-usage.html#ssl-warnings\n",
      "  warnings.warn(\n"
     ]
    },
    {
     "name": "stdout",
     "output_type": "stream",
     "text": [
      "SUCCESS - saved https://encrypted-tbn0.gstatic.com/images?q=tbn:ANd9GcRTYBTRValhlMB2z4XI_Esi4k25_tx8jctpdQ&usqp=CAU - as ./images\\seaweed_salad\\5eb1bbd3be.jpg\n"
     ]
    },
    {
     "name": "stderr",
     "output_type": "stream",
     "text": [
      "C:\\Users\\mandeep.singh\\Anaconda3\\lib\\site-packages\\urllib3\\connectionpool.py:1013: InsecureRequestWarning: Unverified HTTPS request is being made to host 'encrypted-tbn0.gstatic.com'. Adding certificate verification is strongly advised. See: https://urllib3.readthedocs.io/en/latest/advanced-usage.html#ssl-warnings\n",
      "  warnings.warn(\n"
     ]
    },
    {
     "name": "stdout",
     "output_type": "stream",
     "text": [
      "SUCCESS - saved https://encrypted-tbn0.gstatic.com/images?q=tbn:ANd9GcS1V7aEzdLhOww1dBMcNJXFH-03bY8aGc9YwQ&usqp=CAU - as ./images\\seaweed_salad\\becda5a2e8.jpg\n"
     ]
    },
    {
     "name": "stderr",
     "output_type": "stream",
     "text": [
      "C:\\Users\\mandeep.singh\\Anaconda3\\lib\\site-packages\\urllib3\\connectionpool.py:1013: InsecureRequestWarning: Unverified HTTPS request is being made to host 'encrypted-tbn0.gstatic.com'. Adding certificate verification is strongly advised. See: https://urllib3.readthedocs.io/en/latest/advanced-usage.html#ssl-warnings\n",
      "  warnings.warn(\n"
     ]
    },
    {
     "name": "stdout",
     "output_type": "stream",
     "text": [
      "SUCCESS - saved https://encrypted-tbn0.gstatic.com/images?q=tbn:ANd9GcTmeF77-OVll-M4Kf2SHCZyuFztDOTyYf76ig&usqp=CAU - as ./images\\seaweed_salad\\e1d122ab9a.jpg\n"
     ]
    },
    {
     "name": "stderr",
     "output_type": "stream",
     "text": [
      "C:\\Users\\mandeep.singh\\Anaconda3\\lib\\site-packages\\urllib3\\connectionpool.py:1013: InsecureRequestWarning: Unverified HTTPS request is being made to host 'post.healthline.com'. Adding certificate verification is strongly advised. See: https://urllib3.readthedocs.io/en/latest/advanced-usage.html#ssl-warnings\n",
      "  warnings.warn(\n"
     ]
    },
    {
     "name": "stdout",
     "output_type": "stream",
     "text": [
      "SUCCESS - saved https://post.healthline.com/wp-content/uploads/2020/09/benefits-of-seaweed-732x549-thumbnail.jpg - as ./images\\seaweed_salad\\1751f02514.jpg\n"
     ]
    },
    {
     "name": "stderr",
     "output_type": "stream",
     "text": [
      "C:\\Users\\mandeep.singh\\Anaconda3\\lib\\site-packages\\urllib3\\connectionpool.py:1013: InsecureRequestWarning: Unverified HTTPS request is being made to host 'assets.epicurious.com'. Adding certificate verification is strongly advised. See: https://urllib3.readthedocs.io/en/latest/advanced-usage.html#ssl-warnings\n",
      "  warnings.warn(\n"
     ]
    },
    {
     "name": "stdout",
     "output_type": "stream",
     "text": [
      "SUCCESS - saved https://assets.epicurious.com/photos/5cefeff0d98b0c4b29e56805/4:3/w_2000,h_1500,c_limit/cucumber-seaweed-salad-recipe-HC-052819.jpg - as ./images\\seaweed_salad\\cc0d5e2a97.jpg\n"
     ]
    },
    {
     "name": "stderr",
     "output_type": "stream",
     "text": [
      "C:\\Users\\mandeep.singh\\Anaconda3\\lib\\site-packages\\urllib3\\connectionpool.py:1013: InsecureRequestWarning: Unverified HTTPS request is being made to host 'i1.wp.com'. Adding certificate verification is strongly advised. See: https://urllib3.readthedocs.io/en/latest/advanced-usage.html#ssl-warnings\n",
      "  warnings.warn(\n"
     ]
    },
    {
     "name": "stdout",
     "output_type": "stream",
     "text": [
      "SUCCESS - saved https://i1.wp.com/www.angsarap.net/wp-content/uploads/2017/09/Seaweed-Salad-Wide.jpg?ssl=1 - as ./images\\seaweed_salad\\dfd23e65d1.jpg\n"
     ]
    },
    {
     "name": "stderr",
     "output_type": "stream",
     "text": [
      "C:\\Users\\mandeep.singh\\Anaconda3\\lib\\site-packages\\urllib3\\connectionpool.py:1013: InsecureRequestWarning: Unverified HTTPS request is being made to host 'encrypted-tbn0.gstatic.com'. Adding certificate verification is strongly advised. See: https://urllib3.readthedocs.io/en/latest/advanced-usage.html#ssl-warnings\n",
      "  warnings.warn(\n"
     ]
    },
    {
     "name": "stdout",
     "output_type": "stream",
     "text": [
      "SUCCESS - saved https://encrypted-tbn0.gstatic.com/images?q=tbn:ANd9GcRfzDh5VSjDndZ2ixsyAvTro5JByjEvctYjWA&usqp=CAU - as ./images\\seaweed_salad\\516a99defd.jpg\n"
     ]
    },
    {
     "name": "stderr",
     "output_type": "stream",
     "text": [
      "C:\\Users\\mandeep.singh\\Anaconda3\\lib\\site-packages\\urllib3\\connectionpool.py:1013: InsecureRequestWarning: Unverified HTTPS request is being made to host 'encrypted-tbn0.gstatic.com'. Adding certificate verification is strongly advised. See: https://urllib3.readthedocs.io/en/latest/advanced-usage.html#ssl-warnings\n",
      "  warnings.warn(\n"
     ]
    },
    {
     "name": "stdout",
     "output_type": "stream",
     "text": [
      "SUCCESS - saved https://encrypted-tbn0.gstatic.com/images?q=tbn:ANd9GcSNTYdf_sh3z_OugjA3zA1R5lmAykr7oI9rJA&usqp=CAU - as ./images\\seaweed_salad\\f1549bfc03.jpg\n"
     ]
    },
    {
     "name": "stderr",
     "output_type": "stream",
     "text": [
      "C:\\Users\\mandeep.singh\\Anaconda3\\lib\\site-packages\\urllib3\\connectionpool.py:1013: InsecureRequestWarning: Unverified HTTPS request is being made to host 'encrypted-tbn0.gstatic.com'. Adding certificate verification is strongly advised. See: https://urllib3.readthedocs.io/en/latest/advanced-usage.html#ssl-warnings\n",
      "  warnings.warn(\n"
     ]
    },
    {
     "name": "stdout",
     "output_type": "stream",
     "text": [
      "SUCCESS - saved https://encrypted-tbn0.gstatic.com/images?q=tbn:ANd9GcS-XsEAT6a9YRu6dle4MX4TmJ00CFsuwieSQQ&usqp=CAU - as ./images\\seaweed_salad\\7109359deb.jpg\n"
     ]
    },
    {
     "name": "stderr",
     "output_type": "stream",
     "text": [
      "C:\\Users\\mandeep.singh\\Anaconda3\\lib\\site-packages\\urllib3\\connectionpool.py:1013: InsecureRequestWarning: Unverified HTTPS request is being made to host 'encrypted-tbn0.gstatic.com'. Adding certificate verification is strongly advised. See: https://urllib3.readthedocs.io/en/latest/advanced-usage.html#ssl-warnings\n",
      "  warnings.warn(\n"
     ]
    },
    {
     "name": "stdout",
     "output_type": "stream",
     "text": [
      "SUCCESS - saved https://encrypted-tbn0.gstatic.com/images?q=tbn:ANd9GcR25o_023pmCBOkzmSTkOmqugOa8gT4eawuQw&usqp=CAU - as ./images\\seaweed_salad\\bcf8fee4c8.jpg\n"
     ]
    },
    {
     "name": "stderr",
     "output_type": "stream",
     "text": [
      "C:\\Users\\mandeep.singh\\Anaconda3\\lib\\site-packages\\urllib3\\connectionpool.py:1013: InsecureRequestWarning: Unverified HTTPS request is being made to host 'img-global.cpcdn.com'. Adding certificate verification is strongly advised. See: https://urllib3.readthedocs.io/en/latest/advanced-usage.html#ssl-warnings\n",
      "  warnings.warn(\n"
     ]
    },
    {
     "name": "stdout",
     "output_type": "stream",
     "text": [
      "SUCCESS - saved https://img-global.cpcdn.com/recipes/b8b17cfcd6eae9fd/1200x630cq70/photo.jpg - as ./images\\seaweed_salad\\9fa9f584eb.jpg\n"
     ]
    },
    {
     "name": "stderr",
     "output_type": "stream",
     "text": [
      "C:\\Users\\mandeep.singh\\Anaconda3\\lib\\site-packages\\urllib3\\connectionpool.py:1013: InsecureRequestWarning: Unverified HTTPS request is being made to host 'encrypted-tbn0.gstatic.com'. Adding certificate verification is strongly advised. See: https://urllib3.readthedocs.io/en/latest/advanced-usage.html#ssl-warnings\n",
      "  warnings.warn(\n"
     ]
    },
    {
     "name": "stdout",
     "output_type": "stream",
     "text": [
      "SUCCESS - saved https://encrypted-tbn0.gstatic.com/images?q=tbn:ANd9GcTxXUqhhvxsl4LLEUoI-IZbhJsbNXaPnEE6dg&usqp=CAU - as ./images\\seaweed_salad\\11debe7749.jpg\n"
     ]
    },
    {
     "name": "stderr",
     "output_type": "stream",
     "text": [
      "C:\\Users\\mandeep.singh\\Anaconda3\\lib\\site-packages\\urllib3\\connectionpool.py:1013: InsecureRequestWarning: Unverified HTTPS request is being made to host 'encrypted-tbn0.gstatic.com'. Adding certificate verification is strongly advised. See: https://urllib3.readthedocs.io/en/latest/advanced-usage.html#ssl-warnings\n",
      "  warnings.warn(\n"
     ]
    },
    {
     "name": "stdout",
     "output_type": "stream",
     "text": [
      "SUCCESS - saved https://encrypted-tbn0.gstatic.com/images?q=tbn:ANd9GcTIdaSonsf5Oj1Ql6TblcaCsdqDRGfOT2-GmQ&usqp=CAU - as ./images\\seaweed_salad\\49b4beb7bb.jpg\n"
     ]
    },
    {
     "name": "stderr",
     "output_type": "stream",
     "text": [
      "C:\\Users\\mandeep.singh\\Anaconda3\\lib\\site-packages\\urllib3\\connectionpool.py:1013: InsecureRequestWarning: Unverified HTTPS request is being made to host 'encrypted-tbn0.gstatic.com'. Adding certificate verification is strongly advised. See: https://urllib3.readthedocs.io/en/latest/advanced-usage.html#ssl-warnings\n",
      "  warnings.warn(\n"
     ]
    },
    {
     "name": "stdout",
     "output_type": "stream",
     "text": [
      "SUCCESS - saved https://encrypted-tbn0.gstatic.com/images?q=tbn:ANd9GcRWUmCqtGkHlBRIOCU5u4Wvjo3S3X4EKawveA&usqp=CAU - as ./images\\seaweed_salad\\7e1432c893.jpg\n"
     ]
    },
    {
     "name": "stderr",
     "output_type": "stream",
     "text": [
      "C:\\Users\\mandeep.singh\\Anaconda3\\lib\\site-packages\\urllib3\\connectionpool.py:1013: InsecureRequestWarning: Unverified HTTPS request is being made to host 'encrypted-tbn0.gstatic.com'. Adding certificate verification is strongly advised. See: https://urllib3.readthedocs.io/en/latest/advanced-usage.html#ssl-warnings\n",
      "  warnings.warn(\n"
     ]
    },
    {
     "name": "stdout",
     "output_type": "stream",
     "text": [
      "SUCCESS - saved https://encrypted-tbn0.gstatic.com/images?q=tbn:ANd9GcQOifcNHq3kJGvh5_JH5rp99VG7ZhrZb_PQkw&usqp=CAU - as ./images\\seaweed_salad\\10822feff9.jpg\n"
     ]
    },
    {
     "name": "stderr",
     "output_type": "stream",
     "text": [
      "C:\\Users\\mandeep.singh\\Anaconda3\\lib\\site-packages\\urllib3\\connectionpool.py:1013: InsecureRequestWarning: Unverified HTTPS request is being made to host 'encrypted-tbn0.gstatic.com'. Adding certificate verification is strongly advised. See: https://urllib3.readthedocs.io/en/latest/advanced-usage.html#ssl-warnings\n",
      "  warnings.warn(\n"
     ]
    },
    {
     "name": "stdout",
     "output_type": "stream",
     "text": [
      "SUCCESS - saved https://encrypted-tbn0.gstatic.com/images?q=tbn:ANd9GcS5aGAGE6rBiXiwpYpcUBxfwy9q-vuwQA5VZg&usqp=CAU - as ./images\\seaweed_salad\\d695e31bfb.jpg\n"
     ]
    },
    {
     "name": "stderr",
     "output_type": "stream",
     "text": [
      "C:\\Users\\mandeep.singh\\Anaconda3\\lib\\site-packages\\urllib3\\connectionpool.py:1013: InsecureRequestWarning: Unverified HTTPS request is being made to host 'encrypted-tbn0.gstatic.com'. Adding certificate verification is strongly advised. See: https://urllib3.readthedocs.io/en/latest/advanced-usage.html#ssl-warnings\n",
      "  warnings.warn(\n"
     ]
    },
    {
     "name": "stdout",
     "output_type": "stream",
     "text": [
      "SUCCESS - saved https://encrypted-tbn0.gstatic.com/images?q=tbn:ANd9GcRgZO8YC8RUShpVyRPFmiBOW0e-s_QopOXXfA&usqp=CAU - as ./images\\seaweed_salad\\f335dd9741.jpg\n"
     ]
    },
    {
     "name": "stderr",
     "output_type": "stream",
     "text": [
      "C:\\Users\\mandeep.singh\\Anaconda3\\lib\\site-packages\\urllib3\\connectionpool.py:1013: InsecureRequestWarning: Unverified HTTPS request is being made to host 'encrypted-tbn0.gstatic.com'. Adding certificate verification is strongly advised. See: https://urllib3.readthedocs.io/en/latest/advanced-usage.html#ssl-warnings\n",
      "  warnings.warn(\n"
     ]
    },
    {
     "name": "stdout",
     "output_type": "stream",
     "text": [
      "SUCCESS - saved https://encrypted-tbn0.gstatic.com/images?q=tbn:ANd9GcTpTEX2tN7ZS-IGPP1p7xh4SEWzj1waKQsdpA&usqp=CAU - as ./images\\seaweed_salad\\d0f4b6b6ea.jpg\n"
     ]
    },
    {
     "name": "stderr",
     "output_type": "stream",
     "text": [
      "C:\\Users\\mandeep.singh\\Anaconda3\\lib\\site-packages\\urllib3\\connectionpool.py:1013: InsecureRequestWarning: Unverified HTTPS request is being made to host 'encrypted-tbn0.gstatic.com'. Adding certificate verification is strongly advised. See: https://urllib3.readthedocs.io/en/latest/advanced-usage.html#ssl-warnings\n",
      "  warnings.warn(\n"
     ]
    },
    {
     "name": "stdout",
     "output_type": "stream",
     "text": [
      "SUCCESS - saved https://encrypted-tbn0.gstatic.com/images?q=tbn:ANd9GcRj38H7nFvkD44Wwi6IfzXE8YXlSPrXzqsJWw&usqp=CAU - as ./images\\seaweed_salad\\085884b829.jpg\n"
     ]
    },
    {
     "name": "stderr",
     "output_type": "stream",
     "text": [
      "C:\\Users\\mandeep.singh\\Anaconda3\\lib\\site-packages\\urllib3\\connectionpool.py:1013: InsecureRequestWarning: Unverified HTTPS request is being made to host 'encrypted-tbn0.gstatic.com'. Adding certificate verification is strongly advised. See: https://urllib3.readthedocs.io/en/latest/advanced-usage.html#ssl-warnings\n",
      "  warnings.warn(\n"
     ]
    },
    {
     "name": "stdout",
     "output_type": "stream",
     "text": [
      "SUCCESS - saved https://encrypted-tbn0.gstatic.com/images?q=tbn:ANd9GcS2fed6BxL445NXfadEAYzZdCXUw8yNiJJWtw&usqp=CAU - as ./images\\seaweed_salad\\142c10fcf1.jpg\n"
     ]
    },
    {
     "name": "stderr",
     "output_type": "stream",
     "text": [
      "C:\\Users\\mandeep.singh\\Anaconda3\\lib\\site-packages\\urllib3\\connectionpool.py:1013: InsecureRequestWarning: Unverified HTTPS request is being made to host 'encrypted-tbn0.gstatic.com'. Adding certificate verification is strongly advised. See: https://urllib3.readthedocs.io/en/latest/advanced-usage.html#ssl-warnings\n",
      "  warnings.warn(\n"
     ]
    },
    {
     "name": "stdout",
     "output_type": "stream",
     "text": [
      "SUCCESS - saved https://encrypted-tbn0.gstatic.com/images?q=tbn:ANd9GcS9NFuK1NLNZuLs_CL50qxh9QwfMCQWwO-2bA&usqp=CAU - as ./images\\seaweed_salad\\306e020f79.jpg\n"
     ]
    },
    {
     "name": "stderr",
     "output_type": "stream",
     "text": [
      "C:\\Users\\mandeep.singh\\Anaconda3\\lib\\site-packages\\urllib3\\connectionpool.py:1013: InsecureRequestWarning: Unverified HTTPS request is being made to host 'encrypted-tbn0.gstatic.com'. Adding certificate verification is strongly advised. See: https://urllib3.readthedocs.io/en/latest/advanced-usage.html#ssl-warnings\n",
      "  warnings.warn(\n"
     ]
    },
    {
     "name": "stdout",
     "output_type": "stream",
     "text": [
      "SUCCESS - saved https://encrypted-tbn0.gstatic.com/images?q=tbn:ANd9GcQQrfRYUw9JRauUeLCvxZ5peEGMgwWqKnkOzw&usqp=CAU - as ./images\\seaweed_salad\\e4315060b2.jpg\n"
     ]
    },
    {
     "name": "stderr",
     "output_type": "stream",
     "text": [
      "C:\\Users\\mandeep.singh\\Anaconda3\\lib\\site-packages\\urllib3\\connectionpool.py:1013: InsecureRequestWarning: Unverified HTTPS request is being made to host 'sp-ao.shortpixel.ai'. Adding certificate verification is strongly advised. See: https://urllib3.readthedocs.io/en/latest/advanced-usage.html#ssl-warnings\n",
      "  warnings.warn(\n"
     ]
    },
    {
     "name": "stdout",
     "output_type": "stream",
     "text": [
      "SUCCESS - saved https://sp-ao.shortpixel.ai/client/to_auto,q_lossy,ret_img,w_934,h_1400/https://norecipes.com/wp-content/uploads/2018/09/seaweed-salad_004.jpg - as ./images\\seaweed_salad\\5c96515ba3.jpg\n"
     ]
    },
    {
     "name": "stderr",
     "output_type": "stream",
     "text": [
      "C:\\Users\\mandeep.singh\\Anaconda3\\lib\\site-packages\\urllib3\\connectionpool.py:1013: InsecureRequestWarning: Unverified HTTPS request is being made to host 'encrypted-tbn0.gstatic.com'. Adding certificate verification is strongly advised. See: https://urllib3.readthedocs.io/en/latest/advanced-usage.html#ssl-warnings\n",
      "  warnings.warn(\n"
     ]
    },
    {
     "name": "stdout",
     "output_type": "stream",
     "text": [
      "SUCCESS - saved https://encrypted-tbn0.gstatic.com/images?q=tbn:ANd9GcReRXW6s8vifTvWHl_mUol1nQ4wSPkCPnX_qQ&usqp=CAU - as ./images\\seaweed_salad\\3bcd5ccf77.jpg\n"
     ]
    },
    {
     "name": "stderr",
     "output_type": "stream",
     "text": [
      "C:\\Users\\mandeep.singh\\Anaconda3\\lib\\site-packages\\urllib3\\connectionpool.py:1013: InsecureRequestWarning: Unverified HTTPS request is being made to host 'www.thespruceeats.com'. Adding certificate verification is strongly advised. See: https://urllib3.readthedocs.io/en/latest/advanced-usage.html#ssl-warnings\n",
      "  warnings.warn(\n"
     ]
    },
    {
     "name": "stdout",
     "output_type": "stream",
     "text": [
      "SUCCESS - saved https://www.thespruceeats.com/thmb/n4cfGwQ91MlK7EF4oCBMsKcGS10=/450x0/filters:no_upscale():max_bytes(150000):strip_icc()/cucumber-and-wakame-salad-recipe-2031364-hero-01-a1edd24dc65a4f1f9750ecf8eaf4bdb6.jpg - as ./images\\seaweed_salad\\69307abf08.jpg\n",
      "./images\\shrimp_and_grits\n",
      "Found: 100 search results. Extracting links from 0:100\n",
      "Found: 99 image links, looking for more ...\n",
      "./images\\spaghetti_bolognese\n",
      "Found: 100 search results. Extracting links from 0:100\n",
      "Found: 98 image links, looking for more ...\n",
      "./images\\spaghetti_carbonara\n",
      "Found: 100 search results. Extracting links from 0:100\n",
      "Found: 100 image links, done!\n",
      "{'https://encrypted-tbn0.gstatic.com/images?q=tbn:ANd9GcRyG4oDsKAVQCgk6GGM_3lIvBOZfG5F1A1GdQ&usqp=CAU', 'https://encrypted-tbn0.gstatic.com/images?q=tbn:ANd9GcS6J2TMVwGkgqnx6gTSi5lWpm2WOqKB5YaAtA&usqp=CAU', 'https://s23209.pcdn.co/wp-content/uploads/2014/03/IMG_2622edit.jpg', 'https://encrypted-tbn0.gstatic.com/images?q=tbn:ANd9GcRYjtFJvcjdcKuenloCB5rZiv3w_o1Jcn8X9Q&usqp=CAU', 'https://encrypted-tbn0.gstatic.com/images?q=tbn:ANd9GcQCTMVuHLsjWPtS-_p8i-yf9IHsTzhA3g6T2Q&usqp=CAU', 'https://encrypted-tbn0.gstatic.com/images?q=tbn:ANd9GcSxQNsL9avQSgV0tUFWMw4syrYdFrCgqicCzw&usqp=CAU', 'https://encrypted-tbn0.gstatic.com/images?q=tbn:ANd9GcTg9F5_VdIed3dCZ1GzqoMYPMDcvldMLsaS7w&usqp=CAU', 'https://encrypted-tbn0.gstatic.com/images?q=tbn:ANd9GcRFEqCATiM9NHKhHr4ADgUlrTSwiqkfu3rnPw&usqp=CAU', 'https://kirbiecravings.com/wp-content/uploads/2020/02/spaghetti-carbonara-1.jpg', 'https://encrypted-tbn0.gstatic.com/images?q=tbn:ANd9GcS-BwTsllUox569EhqZsIXoSSnI0q9jgILgpw&usqp=CAU', 'https://encrypted-tbn0.gstatic.com/images?q=tbn:ANd9GcQSGpMPY15zdjB_xpO3Of-GDoNO_NYL0-y36A&usqp=CAU', 'https://encrypted-tbn0.gstatic.com/images?q=tbn:ANd9GcQsXz5Y790cmry0S6sbsya5nad3zra5EQ9G9A&usqp=CAU', 'https://encrypted-tbn0.gstatic.com/images?q=tbn:ANd9GcQkMi9N_etUhCW9hNJ4oPJTw1_CMMHn6c2mvA&usqp=CAU', 'https://static01.nyt.com/images/2021/02/14/dining/carbonara-horizontal/carbonara-horizontal-articleLarge-v2.jpg', 'https://encrypted-tbn0.gstatic.com/images?q=tbn:ANd9GcTH0sRnko5REj4-EhoWFNsJnB6bHmK0-GTxqQ&usqp=CAU', 'https://more.ctv.ca/food/recipes/spaghetti-carbonara0/_jcr_content/root/responsivegrid_1778395324/responsivegrid_182136378/featuredmedia.coreimg.jpeg/1594683869978/spaghetti-carbonara0.jpeg', 'https://encrypted-tbn0.gstatic.com/images?q=tbn:ANd9GcSvLc4_Up6FYfkZNvVrdOgSWVQ3jvnas26tzw&usqp=CAU', 'https://encrypted-tbn0.gstatic.com/images?q=tbn:ANd9GcQQ7cUiBgAGaue_RXgcVzPrKFW1pHBqLg8WzA&usqp=CAU', 'https://encrypted-tbn0.gstatic.com/images?q=tbn:ANd9GcSe5WDTgCkqoIq3hG88TIufGwXCtt_91KTMZw&usqp=CAU', 'https://encrypted-tbn0.gstatic.com/images?q=tbn:ANd9GcRceYxBuwo7u0CPCfqjDuofQtNj9MfbLDKMPQ&usqp=CAU', 'https://encrypted-tbn0.gstatic.com/images?q=tbn:ANd9GcTRbTHGltqCyPfFkc8F0rRixajrliWoVkR0JA&usqp=CAU', 'https://encrypted-tbn0.gstatic.com/images?q=tbn:ANd9GcREpcRVL7X6_d-ZFFkgl1ATpw_3zlQnnUqi3Q&usqp=CAU', 'https://i2.wp.com/news.jugaadin.com/wp-content/uploads/2020/07/Spaghetti-Carbonara-.jpg?ssl=1', 'https://encrypted-tbn0.gstatic.com/images?q=tbn:ANd9GcSqY1O24GcdRmsy_bUlvH8XYkA4t0XuC7wpng&usqp=CAU', 'https://www.lasrecetascocina.com/wp-content/uploads/2012/11/espaguettis-a-la-carbonara1.jpg', 'https://encrypted-tbn0.gstatic.com/images?q=tbn:ANd9GcT9hQv6rBAYPhyJoH_VQjsg_QRykEouMh08AQ&usqp=CAU', 'https://static.onecms.io/wp-content/uploads/sites/19/2007/03/12/Spaghetti_Carbonara_448-2000.jpg', 'https://encrypted-tbn0.gstatic.com/images?q=tbn:ANd9GcQFn22F5ITBTxs9otAtSyWU1xs_6f_EiVGlhQ&usqp=CAU', 'https://encrypted-tbn0.gstatic.com/images?q=tbn:ANd9GcRHNxy7_qEGUXropY1a23EqaaecbcFjWu8L5A&usqp=CAU', 'https://i.ndtvimg.com/i/2017-09/pasta-carbonara_600x300_41506417953.jpg', 'https://encrypted-tbn0.gstatic.com/images?q=tbn:ANd9GcTX0rWDOgikSGmZEf_3E10INFWDoS0ZYxSZDw&usqp=CAU', 'https://imagesvc.meredithcorp.io/v3/mm/image?url=https%3A%2F%2Fimages.media-allrecipes.com%2Fuserphotos%2F2434057.jpg&w=380&h=505&c=sc&poi=face&q=85', 'https://encrypted-tbn0.gstatic.com/images?q=tbn:ANd9GcR2Kow5TrFwJYEr_jfa4PQXolUYkjVMWbGzew&usqp=CAU', 'https://keyassets-p2.timeincuk.net/wp/prod/wp-content/uploads/sites/63/2020/06/vegetarian-spaghetti-carbonara-920x690.jpg', 'https://encrypted-tbn0.gstatic.com/images?q=tbn:ANd9GcSDwtWHa-X40Ypc8LJx_o7_ZumR2nbkJ-Y8ug&usqp=CAU', 'https://encrypted-tbn0.gstatic.com/images?q=tbn:ANd9GcQ92OXPp9zgzZnSJHbCx2xHYRAA_W3dMAynog&usqp=CAU', 'https://encrypted-tbn0.gstatic.com/images?q=tbn:ANd9GcSwA5S4it9cLGyRG4xAv7RmYHp37Hkn5tCgzg&usqp=CAU', 'https://encrypted-tbn0.gstatic.com/images?q=tbn:ANd9GcT6K2MphpQguAYFR9oSj0hY_Rz1WogPPbeAtg&usqp=CAU', 'https://encrypted-tbn0.gstatic.com/images?q=tbn:ANd9GcSEv7DMWV2e4MSRMTr4OXfLx9AULWR0_wBiPA&usqp=CAU', 'https://encrypted-tbn0.gstatic.com/images?q=tbn:ANd9GcT5GU3m6XOhM_wLi2gP5KkCT8UUwaBfk4XcVg&usqp=CAU', 'https://encrypted-tbn0.gstatic.com/images?q=tbn:ANd9GcRSTQ8XxQ3rrYI2nAPbZighNNIVjfebtoQgEQ&usqp=CAU', 'https://encrypted-tbn0.gstatic.com/images?q=tbn:ANd9GcTbx6g3tlP-8aV9nEsOgdQcd-ty6L8NHCD7Cg&usqp=CAU', 'https://encrypted-tbn0.gstatic.com/images?q=tbn:ANd9GcR8KzfsRrJMZsVOi6SWIgbepdlVH16fiealsA&usqp=CAU', 'https://www.hiddenvalley.com/wp-content/uploads/2021/04/easy-ranch-spaghetti-carbonara-RDP.jpg', 'https://encrypted-tbn0.gstatic.com/images?q=tbn:ANd9GcSJ-JNfzy38uememTias_1Z4hH8PIqRnngcug&usqp=CAU', 'https://encrypted-tbn0.gstatic.com/images?q=tbn:ANd9GcR6m_r-j5yly3BFrM7hgXTmHdnBLwwqr4_IOA&usqp=CAU', 'https://encrypted-tbn0.gstatic.com/images?q=tbn:ANd9GcRVoDNsyGr231DOIbk2z8sAwk1BBUVkFejhog&usqp=CAU', 'https://static.onecms.io/wp-content/uploads/sites/44/2019/08/26232300/4177366.jpg', 'https://hips.hearstapps.com/del.h-cdn.co/assets/16/04/1453933735-carbonara-delish-1.jpg', 'https://encrypted-tbn0.gstatic.com/images?q=tbn:ANd9GcSBg0NHGjoxu_q6DAfzrfPGzzQidOb6A3RP9w&usqp=CAU', 'https://hips.hearstapps.com/ghk.h-cdn.co/assets/15/17/1429889780-spaghetti-carbonara.jpg', 'https://encrypted-tbn0.gstatic.com/images?q=tbn:ANd9GcQE-J-dNv5DeRV3cyMx6eYUQh7eYpeyFwCkaQ&usqp=CAU', 'https://encrypted-tbn0.gstatic.com/images?q=tbn:ANd9GcRvq0pI20fRm-aac4S6NLrOmWnLw6LxZbkLJQ&usqp=CAU', 'https://encrypted-tbn0.gstatic.com/images?q=tbn:ANd9GcTOflAjBPwvD3ysSrhgNkyt5E9YxsLS7L0iCw&usqp=CAU', 'https://assets.tmecosys.com/image/upload/t_web767x639/img/recipe/ras/Assets/61FCB2B2-DB84-4A68-ABB8-F9FBA800BCA3/Derivates/FCB48A53-86F0-4697-BE75-7B7CE9B49EBE.jpg', 'https://encrypted-tbn0.gstatic.com/images?q=tbn:ANd9GcQxkGvMdNu9bZIT_erGC2XT4QFvSbcTaLxEqg&usqp=CAU', 'https://assets.tmecosys.com/image/upload/t_web767x639/img/recipe/ras/Assets/AB4B5C21-9E04-4AF1-8690-811E91ECF810/Derivates/15F71685-2C46-405B-AB46-3D12E44C1562.jpg', 'https://i.pinimg.com/originals/66/59/d0/6659d07d1801e61681c915b5b0867799.jpg', 'https://c.ndtvimg.com/2020-01/9e8qvta_pasta-carbonara_625x300_29_January_20.jpg', 'https://i.pinimg.com/originals/bd/a0/08/bda008e567a24d12e50a0d8d03d0f178.jpg', 'https://encrypted-tbn0.gstatic.com/images?q=tbn:ANd9GcS-Pik9NDO2QXT-evxbUAB9ekhQwcDjRsi8kA&usqp=CAU', 'https://encrypted-tbn0.gstatic.com/images?q=tbn:ANd9GcS-0ChaT-pB09bSEKQldmw1AaZzMnTnS61agA&usqp=CAU', 'https://images.kitchenstories.io/communityImages/e6a3e20999d473283f86d8faf1c2f783_8b054d69-57d7-4d94-abb5-ca4a2dec15d9/e6a3e20999d473283f86d8faf1c2f783_8b054d69-57d7-4d94-abb5-ca4a2dec15d9-large-landscape-150.jpg', 'https://imagesvc.meredithcorp.io/v3/jumpstartpure/image?url=https://cf-images.us-east-1.prod.boltdns.net/v1/static/1033249144001/2ed2889f-bf0b-4f37-9951-0007d58b9d09/5fbfac6d-2742-4f6c-b0a3-5007f10661f3/1280x720/match/image.jpg&w=1280&h=720&q=90&c=cc', 'https://encrypted-tbn0.gstatic.com/images?q=tbn:ANd9GcRjX08uPt3SopSxGYvIDfqeg7csuLZnjvLHAg&usqp=CAU', 'https://static01.nyt.com/images/2020/12/06/dining/Spinach-Spaghetti-Carbonara/Spinach-Spaghetti-Carbonara-articleLarge-v2.jpg', 'https://encrypted-tbn0.gstatic.com/images?q=tbn:ANd9GcTg6c1ukHTvwxQTNKyaK5FD3VFwgTGnc2p_vQ&usqp=CAU', 'https://encrypted-tbn0.gstatic.com/images?q=tbn:ANd9GcSsD0PAqSSJFcBLCjzIe_liKo1uNv_W5xXB1A&usqp=CAU', 'https://encrypted-tbn0.gstatic.com/images?q=tbn:ANd9GcQgej05NkOBgCYs9aWcrJkKF4KlQH5w84miyQ&usqp=CAU', 'https://encrypted-tbn0.gstatic.com/images?q=tbn:ANd9GcSGvgNdnWV3KwDfdfDutQELU8U377t_gXnE6Q&usqp=CAU', 'https://images.immediate.co.uk/production/volatile/sites/30/2020/08/spaghetti_carb-a2ffbde.jpg?quality=90&resize=504,458?quality=90&webp=true&resize=504,458', 'https://encrypted-tbn0.gstatic.com/images?q=tbn:ANd9GcSCQvOXhsHBfmfD-sqzCLPVLkDEW5rLS3sHkA&usqp=CAU', 'https://encrypted-tbn0.gstatic.com/images?q=tbn:ANd9GcR9tbEoibs2pWBJsC1-fvmtJdbDV6B4ybwvhA&usqp=CAU', 'https://encrypted-tbn0.gstatic.com/images?q=tbn:ANd9GcSrJd6ii2ciEIyH2IRc5DdoN5_y8tqhfiZL-w&usqp=CAU', 'https://muchbutter.com/wp-content/uploads/2019/08/072-Much-Butter-Smoked-beef-carbonara-4-500x375.jpg', 'https://imagesvc.meredithcorp.io/v3/mm/image?url=https%3A%2F%2Fimg1.cookinglight.timeinc.net%2Fsites%2Fdefault%2Ffiles%2Fstyles%2Fmedium_2x%2Fpublic%2F1533151875%2Fwhole-wheat-pasta-carbonara-1809-p116.jpg%3Fitok%3DipA1wE7S', 'https://encrypted-tbn0.gstatic.com/images?q=tbn:ANd9GcQej_Owie38wVESsd3zUYy8Zn-NiyFwPwc2Rg&usqp=CAU', 'https://encrypted-tbn0.gstatic.com/images?q=tbn:ANd9GcQagycqJnz2kNF8CjPNZZyaeLwtv26HNZAG7Q&usqp=CAU', 'https://encrypted-tbn0.gstatic.com/images?q=tbn:ANd9GcQ9BQKbJB79CLHaWt597fBSIxkFLkflijdIvw&usqp=CAU', 'https://encrypted-tbn0.gstatic.com/images?q=tbn:ANd9GcRvXBwokaitsv0grjiDdcz20YXLRqS3pT47PQ&usqp=CAU', 'https://encrypted-tbn0.gstatic.com/images?q=tbn:ANd9GcT6gKN6FQi502YFKdWuoH82GuJGhUkEgcq2cA&usqp=CAU', 'https://encrypted-tbn0.gstatic.com/images?q=tbn:ANd9GcQ-I8nXZ1IyB5YWoHWJjWkLG-EY2Qu1mRyPKw&usqp=CAU', 'https://truffle-assets.imgix.net/pxqrocxwsjcc_3mDVET2WAUKSekSIEwiW44_simple-spaghetti-carbonara_landscapeThumbnail_en.jpeg', 'https://encrypted-tbn0.gstatic.com/images?q=tbn:ANd9GcSqMjBbU9SakHvyrd1pTAn_G_DFl1VwtP3sjw&usqp=CAU', 'https://encrypted-tbn0.gstatic.com/images?q=tbn:ANd9GcT0oC0Z8hXo0SkqEtWOR4wZQ_pOpcAMyjZhTg&usqp=CAU', 'https://imagesvc.meredithcorp.io/v3/mm/image?q=85&c=sc&poi=face&w=750&h=375&url=https%3A%2F%2Fassets.marthastewart.com%2Fstyles%2Fwmax-750%2Fd33%2Fpasta-carbonara-recipe-0420-horiz%2Fpasta-carbonara-recipe-0420-horiz.jpg%3Fitok%3DzIYFEWhw', 'https://www.thelittleepicurean.com/wp-content/uploads/2018/08/spaghetti-carbonara-500x500.jpg', 'https://www.giallozafferano.com/images/228-22819/Spaghetti-Carbonara-Bacon-and-egg-spaghetti_1200x800.jpg', 'https://therecipecritic.com/wp-content/uploads/2018/04/pasta-carbonara-15-500x500.jpg', 'https://encrypted-tbn0.gstatic.com/images?q=tbn:ANd9GcS1yI6IbYA9_rSYg6lN3Ef3CZOR8exSKznK0A&usqp=CAU', 'https://encrypted-tbn0.gstatic.com/images?q=tbn:ANd9GcRAFJ1VdG1oCLBcItsifKMr17EVk_nhtNBidA&usqp=CAU', 'https://encrypted-tbn0.gstatic.com/images?q=tbn:ANd9GcTSEJk69IQhp1UijB2HHTlLYfF5nkCunEYbLA&usqp=CAU', 'https://static.onecms.io/wp-content/uploads/sites/9/2020/06/09/Spring-Pea-and-Ham-Carbonara-FT-RECIPE0520-2000.jpg', 'https://img-global.cpcdn.com/recipes/3837fddd7bd375b2/1200x630cq70/photo.jpg', 'https://www.seriouseats.com/thmb/Ah1Sdcypv9p55fWbf9B0L9nz9G4=/450x0/filters:no_upscale():max_bytes(150000):strip_icc()/__opt__aboutcom__coeus__resources__content_migration__serious_eats__seriouseats.com__recipes__images__2016__02__20151118-spaghetti-carbonara-vicky-wasik-27-5ed8e4c860c945f0a3c4315a25a7001b.jpg', 'https://www.thespruceeats.com/thmb/sH36qo2xrBWTUwg7QpT1gd-HeD4=/910x910/smart/filters:no_upscale()/luscious-creamy-spaghetti-carbonara-recipe-995924-hero-5beaeb9cc9e77c0051329d5a.jpg', 'https://encrypted-tbn0.gstatic.com/images?q=tbn:ANd9GcQoSfJBEBhNqSF0UjcjGLfoDbN7ISEXerodSg&usqp=CAU', 'https://encrypted-tbn0.gstatic.com/images?q=tbn:ANd9GcTpVupcf2OiDeGSPihZ3T3YNLrnvodmaRMB1g&usqp=CAU', 'https://encrypted-tbn0.gstatic.com/images?q=tbn:ANd9GcSji-_OQEfHw7EgCWNA9UQ5WoBogRdwDaAgwg&usqp=CAU', 'https://media-cldnry.s-nbcnews.com/image/upload/t_social_share_1200x630_center,f_auto,q_auto:best/newscms/2019_38/1482363/heiskell-s-garlic-rosemary-spaghetti-carbonara-today-main-190916-001.jpg'}\n"
     ]
    },
    {
     "name": "stderr",
     "output_type": "stream",
     "text": [
      "C:\\Users\\mandeep.singh\\Anaconda3\\lib\\site-packages\\urllib3\\connectionpool.py:1013: InsecureRequestWarning: Unverified HTTPS request is being made to host 'encrypted-tbn0.gstatic.com'. Adding certificate verification is strongly advised. See: https://urllib3.readthedocs.io/en/latest/advanced-usage.html#ssl-warnings\n",
      "  warnings.warn(\n",
      "C:\\Users\\mandeep.singh\\Anaconda3\\lib\\site-packages\\urllib3\\connectionpool.py:1013: InsecureRequestWarning: Unverified HTTPS request is being made to host 'encrypted-tbn0.gstatic.com'. Adding certificate verification is strongly advised. See: https://urllib3.readthedocs.io/en/latest/advanced-usage.html#ssl-warnings\n",
      "  warnings.warn(\n"
     ]
    },
    {
     "name": "stdout",
     "output_type": "stream",
     "text": [
      "SUCCESS - saved https://encrypted-tbn0.gstatic.com/images?q=tbn:ANd9GcRyG4oDsKAVQCgk6GGM_3lIvBOZfG5F1A1GdQ&usqp=CAU - as ./images\\spaghetti_carbonara\\7b8896395c.jpg\n",
      "SUCCESS - saved https://encrypted-tbn0.gstatic.com/images?q=tbn:ANd9GcS6J2TMVwGkgqnx6gTSi5lWpm2WOqKB5YaAtA&usqp=CAU - as ./images\\spaghetti_carbonara\\624d00a532.jpg\n"
     ]
    },
    {
     "name": "stderr",
     "output_type": "stream",
     "text": [
      "C:\\Users\\mandeep.singh\\Anaconda3\\lib\\site-packages\\urllib3\\connectionpool.py:1013: InsecureRequestWarning: Unverified HTTPS request is being made to host 's23209.pcdn.co'. Adding certificate verification is strongly advised. See: https://urllib3.readthedocs.io/en/latest/advanced-usage.html#ssl-warnings\n",
      "  warnings.warn(\n"
     ]
    },
    {
     "name": "stdout",
     "output_type": "stream",
     "text": [
      "SUCCESS - saved https://s23209.pcdn.co/wp-content/uploads/2014/03/IMG_2622edit.jpg - as ./images\\spaghetti_carbonara\\3783be45dc.jpg\n"
     ]
    },
    {
     "name": "stderr",
     "output_type": "stream",
     "text": [
      "C:\\Users\\mandeep.singh\\Anaconda3\\lib\\site-packages\\urllib3\\connectionpool.py:1013: InsecureRequestWarning: Unverified HTTPS request is being made to host 'encrypted-tbn0.gstatic.com'. Adding certificate verification is strongly advised. See: https://urllib3.readthedocs.io/en/latest/advanced-usage.html#ssl-warnings\n",
      "  warnings.warn(\n",
      "C:\\Users\\mandeep.singh\\Anaconda3\\lib\\site-packages\\urllib3\\connectionpool.py:1013: InsecureRequestWarning: Unverified HTTPS request is being made to host 'encrypted-tbn0.gstatic.com'. Adding certificate verification is strongly advised. See: https://urllib3.readthedocs.io/en/latest/advanced-usage.html#ssl-warnings\n",
      "  warnings.warn(\n"
     ]
    },
    {
     "name": "stdout",
     "output_type": "stream",
     "text": [
      "SUCCESS - saved https://encrypted-tbn0.gstatic.com/images?q=tbn:ANd9GcRYjtFJvcjdcKuenloCB5rZiv3w_o1Jcn8X9Q&usqp=CAU - as ./images\\spaghetti_carbonara\\5da32bf3fb.jpg\n",
      "SUCCESS - saved https://encrypted-tbn0.gstatic.com/images?q=tbn:ANd9GcQCTMVuHLsjWPtS-_p8i-yf9IHsTzhA3g6T2Q&usqp=CAU - as ./images\\spaghetti_carbonara\\f02f2f672b.jpg\n"
     ]
    },
    {
     "name": "stderr",
     "output_type": "stream",
     "text": [
      "C:\\Users\\mandeep.singh\\Anaconda3\\lib\\site-packages\\urllib3\\connectionpool.py:1013: InsecureRequestWarning: Unverified HTTPS request is being made to host 'encrypted-tbn0.gstatic.com'. Adding certificate verification is strongly advised. See: https://urllib3.readthedocs.io/en/latest/advanced-usage.html#ssl-warnings\n",
      "  warnings.warn(\n"
     ]
    },
    {
     "name": "stdout",
     "output_type": "stream",
     "text": [
      "SUCCESS - saved https://encrypted-tbn0.gstatic.com/images?q=tbn:ANd9GcSxQNsL9avQSgV0tUFWMw4syrYdFrCgqicCzw&usqp=CAU - as ./images\\spaghetti_carbonara\\922d7c9cac.jpg\n"
     ]
    },
    {
     "name": "stderr",
     "output_type": "stream",
     "text": [
      "C:\\Users\\mandeep.singh\\Anaconda3\\lib\\site-packages\\urllib3\\connectionpool.py:1013: InsecureRequestWarning: Unverified HTTPS request is being made to host 'encrypted-tbn0.gstatic.com'. Adding certificate verification is strongly advised. See: https://urllib3.readthedocs.io/en/latest/advanced-usage.html#ssl-warnings\n",
      "  warnings.warn(\n"
     ]
    },
    {
     "name": "stdout",
     "output_type": "stream",
     "text": [
      "SUCCESS - saved https://encrypted-tbn0.gstatic.com/images?q=tbn:ANd9GcTg9F5_VdIed3dCZ1GzqoMYPMDcvldMLsaS7w&usqp=CAU - as ./images\\spaghetti_carbonara\\3a64487b9f.jpg\n",
      "SUCCESS - saved https://encrypted-tbn0.gstatic.com/images?q=tbn:ANd9GcRFEqCATiM9NHKhHr4ADgUlrTSwiqkfu3rnPw&usqp=CAU - as ./images\\spaghetti_carbonara\\c1282b2682.jpg\n"
     ]
    },
    {
     "name": "stderr",
     "output_type": "stream",
     "text": [
      "C:\\Users\\mandeep.singh\\Anaconda3\\lib\\site-packages\\urllib3\\connectionpool.py:1013: InsecureRequestWarning: Unverified HTTPS request is being made to host 'encrypted-tbn0.gstatic.com'. Adding certificate verification is strongly advised. See: https://urllib3.readthedocs.io/en/latest/advanced-usage.html#ssl-warnings\n",
      "  warnings.warn(\n",
      "C:\\Users\\mandeep.singh\\Anaconda3\\lib\\site-packages\\urllib3\\connectionpool.py:1013: InsecureRequestWarning: Unverified HTTPS request is being made to host 'kirbiecravings.com'. Adding certificate verification is strongly advised. See: https://urllib3.readthedocs.io/en/latest/advanced-usage.html#ssl-warnings\n",
      "  warnings.warn(\n"
     ]
    },
    {
     "name": "stdout",
     "output_type": "stream",
     "text": [
      "SUCCESS - saved https://kirbiecravings.com/wp-content/uploads/2020/02/spaghetti-carbonara-1.jpg - as ./images\\spaghetti_carbonara\\a41f34d9e6.jpg\n"
     ]
    },
    {
     "name": "stderr",
     "output_type": "stream",
     "text": [
      "C:\\Users\\mandeep.singh\\Anaconda3\\lib\\site-packages\\urllib3\\connectionpool.py:1013: InsecureRequestWarning: Unverified HTTPS request is being made to host 'encrypted-tbn0.gstatic.com'. Adding certificate verification is strongly advised. See: https://urllib3.readthedocs.io/en/latest/advanced-usage.html#ssl-warnings\n",
      "  warnings.warn(\n",
      "C:\\Users\\mandeep.singh\\Anaconda3\\lib\\site-packages\\urllib3\\connectionpool.py:1013: InsecureRequestWarning: Unverified HTTPS request is being made to host 'encrypted-tbn0.gstatic.com'. Adding certificate verification is strongly advised. See: https://urllib3.readthedocs.io/en/latest/advanced-usage.html#ssl-warnings\n",
      "  warnings.warn(\n"
     ]
    },
    {
     "name": "stdout",
     "output_type": "stream",
     "text": [
      "SUCCESS - saved https://encrypted-tbn0.gstatic.com/images?q=tbn:ANd9GcS-BwTsllUox569EhqZsIXoSSnI0q9jgILgpw&usqp=CAU - as ./images\\spaghetti_carbonara\\2ff05c9530.jpg\n",
      "SUCCESS - saved https://encrypted-tbn0.gstatic.com/images?q=tbn:ANd9GcQSGpMPY15zdjB_xpO3Of-GDoNO_NYL0-y36A&usqp=CAU - as ./images\\spaghetti_carbonara\\abd54f38c3.jpg\n"
     ]
    },
    {
     "name": "stderr",
     "output_type": "stream",
     "text": [
      "C:\\Users\\mandeep.singh\\Anaconda3\\lib\\site-packages\\urllib3\\connectionpool.py:1013: InsecureRequestWarning: Unverified HTTPS request is being made to host 'encrypted-tbn0.gstatic.com'. Adding certificate verification is strongly advised. See: https://urllib3.readthedocs.io/en/latest/advanced-usage.html#ssl-warnings\n",
      "  warnings.warn(\n",
      "C:\\Users\\mandeep.singh\\Anaconda3\\lib\\site-packages\\urllib3\\connectionpool.py:1013: InsecureRequestWarning: Unverified HTTPS request is being made to host 'encrypted-tbn0.gstatic.com'. Adding certificate verification is strongly advised. See: https://urllib3.readthedocs.io/en/latest/advanced-usage.html#ssl-warnings\n",
      "  warnings.warn(\n"
     ]
    },
    {
     "name": "stdout",
     "output_type": "stream",
     "text": [
      "SUCCESS - saved https://encrypted-tbn0.gstatic.com/images?q=tbn:ANd9GcQsXz5Y790cmry0S6sbsya5nad3zra5EQ9G9A&usqp=CAU - as ./images\\spaghetti_carbonara\\a58bb8bd15.jpg\n",
      "SUCCESS - saved https://encrypted-tbn0.gstatic.com/images?q=tbn:ANd9GcQkMi9N_etUhCW9hNJ4oPJTw1_CMMHn6c2mvA&usqp=CAU - as ./images\\spaghetti_carbonara\\c31594e93f.jpg\n"
     ]
    },
    {
     "name": "stderr",
     "output_type": "stream",
     "text": [
      "C:\\Users\\mandeep.singh\\Anaconda3\\lib\\site-packages\\urllib3\\connectionpool.py:1013: InsecureRequestWarning: Unverified HTTPS request is being made to host 'static01.nyt.com'. Adding certificate verification is strongly advised. See: https://urllib3.readthedocs.io/en/latest/advanced-usage.html#ssl-warnings\n",
      "  warnings.warn(\n",
      "C:\\Users\\mandeep.singh\\Anaconda3\\lib\\site-packages\\urllib3\\connectionpool.py:1013: InsecureRequestWarning: Unverified HTTPS request is being made to host 'encrypted-tbn0.gstatic.com'. Adding certificate verification is strongly advised. See: https://urllib3.readthedocs.io/en/latest/advanced-usage.html#ssl-warnings\n",
      "  warnings.warn(\n"
     ]
    },
    {
     "name": "stdout",
     "output_type": "stream",
     "text": [
      "SUCCESS - saved https://static01.nyt.com/images/2021/02/14/dining/carbonara-horizontal/carbonara-horizontal-articleLarge-v2.jpg - as ./images\\spaghetti_carbonara\\7b8cae6fa9.jpg\n",
      "SUCCESS - saved https://encrypted-tbn0.gstatic.com/images?q=tbn:ANd9GcTH0sRnko5REj4-EhoWFNsJnB6bHmK0-GTxqQ&usqp=CAU - as ./images\\spaghetti_carbonara\\c9abb8ad24.jpg\n"
     ]
    },
    {
     "name": "stderr",
     "output_type": "stream",
     "text": [
      "C:\\Users\\mandeep.singh\\Anaconda3\\lib\\site-packages\\urllib3\\connectionpool.py:1013: InsecureRequestWarning: Unverified HTTPS request is being made to host 'more.ctv.ca'. Adding certificate verification is strongly advised. See: https://urllib3.readthedocs.io/en/latest/advanced-usage.html#ssl-warnings\n",
      "  warnings.warn(\n",
      "C:\\Users\\mandeep.singh\\Anaconda3\\lib\\site-packages\\urllib3\\connectionpool.py:1013: InsecureRequestWarning: Unverified HTTPS request is being made to host 'encrypted-tbn0.gstatic.com'. Adding certificate verification is strongly advised. See: https://urllib3.readthedocs.io/en/latest/advanced-usage.html#ssl-warnings\n",
      "  warnings.warn(\n"
     ]
    },
    {
     "name": "stdout",
     "output_type": "stream",
     "text": [
      "SUCCESS - saved https://more.ctv.ca/food/recipes/spaghetti-carbonara0/_jcr_content/root/responsivegrid_1778395324/responsivegrid_182136378/featuredmedia.coreimg.jpeg/1594683869978/spaghetti-carbonara0.jpeg - as ./images\\spaghetti_carbonara\\fca9d88d49.jpg\n",
      "SUCCESS - saved https://encrypted-tbn0.gstatic.com/images?q=tbn:ANd9GcSvLc4_Up6FYfkZNvVrdOgSWVQ3jvnas26tzw&usqp=CAU - as ./images\\spaghetti_carbonara\\a16ce0e950.jpg\n"
     ]
    },
    {
     "name": "stderr",
     "output_type": "stream",
     "text": [
      "C:\\Users\\mandeep.singh\\Anaconda3\\lib\\site-packages\\urllib3\\connectionpool.py:1013: InsecureRequestWarning: Unverified HTTPS request is being made to host 'encrypted-tbn0.gstatic.com'. Adding certificate verification is strongly advised. See: https://urllib3.readthedocs.io/en/latest/advanced-usage.html#ssl-warnings\n",
      "  warnings.warn(\n"
     ]
    },
    {
     "name": "stdout",
     "output_type": "stream",
     "text": [
      "SUCCESS - saved https://encrypted-tbn0.gstatic.com/images?q=tbn:ANd9GcQQ7cUiBgAGaue_RXgcVzPrKFW1pHBqLg8WzA&usqp=CAU - as ./images\\spaghetti_carbonara\\0b903b3b75.jpg\n",
      "SUCCESS - saved https://encrypted-tbn0.gstatic.com/images?q=tbn:ANd9GcSe5WDTgCkqoIq3hG88TIufGwXCtt_91KTMZw&usqp=CAU - as ./images\\spaghetti_carbonara\\c7726df77d.jpg\n"
     ]
    },
    {
     "name": "stderr",
     "output_type": "stream",
     "text": [
      "C:\\Users\\mandeep.singh\\Anaconda3\\lib\\site-packages\\urllib3\\connectionpool.py:1013: InsecureRequestWarning: Unverified HTTPS request is being made to host 'encrypted-tbn0.gstatic.com'. Adding certificate verification is strongly advised. See: https://urllib3.readthedocs.io/en/latest/advanced-usage.html#ssl-warnings\n",
      "  warnings.warn(\n",
      "C:\\Users\\mandeep.singh\\Anaconda3\\lib\\site-packages\\urllib3\\connectionpool.py:1013: InsecureRequestWarning: Unverified HTTPS request is being made to host 'encrypted-tbn0.gstatic.com'. Adding certificate verification is strongly advised. See: https://urllib3.readthedocs.io/en/latest/advanced-usage.html#ssl-warnings\n",
      "  warnings.warn(\n"
     ]
    },
    {
     "name": "stdout",
     "output_type": "stream",
     "text": [
      "SUCCESS - saved https://encrypted-tbn0.gstatic.com/images?q=tbn:ANd9GcRceYxBuwo7u0CPCfqjDuofQtNj9MfbLDKMPQ&usqp=CAU - as ./images\\spaghetti_carbonara\\1a8132af1d.jpg\n",
      "SUCCESS - saved https://encrypted-tbn0.gstatic.com/images?q=tbn:ANd9GcTRbTHGltqCyPfFkc8F0rRixajrliWoVkR0JA&usqp=CAU - as ./images\\spaghetti_carbonara\\553a9c699f.jpg\n"
     ]
    },
    {
     "name": "stderr",
     "output_type": "stream",
     "text": [
      "C:\\Users\\mandeep.singh\\Anaconda3\\lib\\site-packages\\urllib3\\connectionpool.py:1013: InsecureRequestWarning: Unverified HTTPS request is being made to host 'encrypted-tbn0.gstatic.com'. Adding certificate verification is strongly advised. See: https://urllib3.readthedocs.io/en/latest/advanced-usage.html#ssl-warnings\n",
      "  warnings.warn(\n",
      "C:\\Users\\mandeep.singh\\Anaconda3\\lib\\site-packages\\urllib3\\connectionpool.py:1013: InsecureRequestWarning: Unverified HTTPS request is being made to host 'encrypted-tbn0.gstatic.com'. Adding certificate verification is strongly advised. See: https://urllib3.readthedocs.io/en/latest/advanced-usage.html#ssl-warnings\n",
      "  warnings.warn(\n"
     ]
    },
    {
     "name": "stdout",
     "output_type": "stream",
     "text": [
      "SUCCESS - saved https://encrypted-tbn0.gstatic.com/images?q=tbn:ANd9GcREpcRVL7X6_d-ZFFkgl1ATpw_3zlQnnUqi3Q&usqp=CAU - as ./images\\spaghetti_carbonara\\1b687ad566.jpg\n"
     ]
    },
    {
     "name": "stderr",
     "output_type": "stream",
     "text": [
      "C:\\Users\\mandeep.singh\\Anaconda3\\lib\\site-packages\\urllib3\\connectionpool.py:1013: InsecureRequestWarning: Unverified HTTPS request is being made to host 'i2.wp.com'. Adding certificate verification is strongly advised. See: https://urllib3.readthedocs.io/en/latest/advanced-usage.html#ssl-warnings\n",
      "  warnings.warn(\n"
     ]
    },
    {
     "name": "stdout",
     "output_type": "stream",
     "text": [
      "SUCCESS - saved https://i2.wp.com/news.jugaadin.com/wp-content/uploads/2020/07/Spaghetti-Carbonara-.jpg?ssl=1 - as ./images\\spaghetti_carbonara\\41be6aba69.jpg\n"
     ]
    },
    {
     "name": "stderr",
     "output_type": "stream",
     "text": [
      "C:\\Users\\mandeep.singh\\Anaconda3\\lib\\site-packages\\urllib3\\connectionpool.py:1013: InsecureRequestWarning: Unverified HTTPS request is being made to host 'encrypted-tbn0.gstatic.com'. Adding certificate verification is strongly advised. See: https://urllib3.readthedocs.io/en/latest/advanced-usage.html#ssl-warnings\n",
      "  warnings.warn(\n"
     ]
    },
    {
     "name": "stdout",
     "output_type": "stream",
     "text": [
      "SUCCESS - saved https://encrypted-tbn0.gstatic.com/images?q=tbn:ANd9GcSqY1O24GcdRmsy_bUlvH8XYkA4t0XuC7wpng&usqp=CAU - as ./images\\spaghetti_carbonara\\ecdeffece5.jpg\n"
     ]
    },
    {
     "name": "stderr",
     "output_type": "stream",
     "text": [
      "C:\\Users\\mandeep.singh\\Anaconda3\\lib\\site-packages\\urllib3\\connectionpool.py:1013: InsecureRequestWarning: Unverified HTTPS request is being made to host 'www.lasrecetascocina.com'. Adding certificate verification is strongly advised. See: https://urllib3.readthedocs.io/en/latest/advanced-usage.html#ssl-warnings\n",
      "  warnings.warn(\n"
     ]
    },
    {
     "name": "stdout",
     "output_type": "stream",
     "text": [
      "SUCCESS - saved https://www.lasrecetascocina.com/wp-content/uploads/2012/11/espaguettis-a-la-carbonara1.jpg - as ./images\\spaghetti_carbonara\\7be59c2f05.jpg\n",
      "SUCCESS - saved https://encrypted-tbn0.gstatic.com/images?q=tbn:ANd9GcT9hQv6rBAYPhyJoH_VQjsg_QRykEouMh08AQ&usqp=CAU - as ./images\\spaghetti_carbonara\\64c10dd935.jpg\n"
     ]
    },
    {
     "name": "stderr",
     "output_type": "stream",
     "text": [
      "C:\\Users\\mandeep.singh\\Anaconda3\\lib\\site-packages\\urllib3\\connectionpool.py:1013: InsecureRequestWarning: Unverified HTTPS request is being made to host 'encrypted-tbn0.gstatic.com'. Adding certificate verification is strongly advised. See: https://urllib3.readthedocs.io/en/latest/advanced-usage.html#ssl-warnings\n",
      "  warnings.warn(\n",
      "C:\\Users\\mandeep.singh\\Anaconda3\\lib\\site-packages\\urllib3\\connectionpool.py:1013: InsecureRequestWarning: Unverified HTTPS request is being made to host 'static.onecms.io'. Adding certificate verification is strongly advised. See: https://urllib3.readthedocs.io/en/latest/advanced-usage.html#ssl-warnings\n",
      "  warnings.warn(\n"
     ]
    },
    {
     "name": "stdout",
     "output_type": "stream",
     "text": [
      "SUCCESS - saved https://static.onecms.io/wp-content/uploads/sites/19/2007/03/12/Spaghetti_Carbonara_448-2000.jpg - as ./images\\spaghetti_carbonara\\786dc3bc14.jpg\n",
      "SUCCESS - saved https://encrypted-tbn0.gstatic.com/images?q=tbn:ANd9GcQFn22F5ITBTxs9otAtSyWU1xs_6f_EiVGlhQ&usqp=CAU - as ./images\\spaghetti_carbonara\\7b69f50172.jpg\n"
     ]
    },
    {
     "name": "stderr",
     "output_type": "stream",
     "text": [
      "C:\\Users\\mandeep.singh\\Anaconda3\\lib\\site-packages\\urllib3\\connectionpool.py:1013: InsecureRequestWarning: Unverified HTTPS request is being made to host 'encrypted-tbn0.gstatic.com'. Adding certificate verification is strongly advised. See: https://urllib3.readthedocs.io/en/latest/advanced-usage.html#ssl-warnings\n",
      "  warnings.warn(\n",
      "C:\\Users\\mandeep.singh\\Anaconda3\\lib\\site-packages\\urllib3\\connectionpool.py:1013: InsecureRequestWarning: Unverified HTTPS request is being made to host 'encrypted-tbn0.gstatic.com'. Adding certificate verification is strongly advised. See: https://urllib3.readthedocs.io/en/latest/advanced-usage.html#ssl-warnings\n",
      "  warnings.warn(\n"
     ]
    },
    {
     "name": "stdout",
     "output_type": "stream",
     "text": [
      "SUCCESS - saved https://encrypted-tbn0.gstatic.com/images?q=tbn:ANd9GcRHNxy7_qEGUXropY1a23EqaaecbcFjWu8L5A&usqp=CAU - as ./images\\spaghetti_carbonara\\ea6c4d7be2.jpg\n"
     ]
    },
    {
     "name": "stderr",
     "output_type": "stream",
     "text": [
      "C:\\Users\\mandeep.singh\\Anaconda3\\lib\\site-packages\\urllib3\\connectionpool.py:1013: InsecureRequestWarning: Unverified HTTPS request is being made to host 'i.ndtvimg.com'. Adding certificate verification is strongly advised. See: https://urllib3.readthedocs.io/en/latest/advanced-usage.html#ssl-warnings\n",
      "  warnings.warn(\n",
      "C:\\Users\\mandeep.singh\\Anaconda3\\lib\\site-packages\\PIL\\Image.py:2966: UserWarning: image file could not be identified because WEBP support not installed\n",
      "  warnings.warn(message)\n",
      "C:\\Users\\mandeep.singh\\Anaconda3\\lib\\site-packages\\urllib3\\connectionpool.py:1013: InsecureRequestWarning: Unverified HTTPS request is being made to host 'encrypted-tbn0.gstatic.com'. Adding certificate verification is strongly advised. See: https://urllib3.readthedocs.io/en/latest/advanced-usage.html#ssl-warnings\n",
      "  warnings.warn(\n"
     ]
    },
    {
     "name": "stdout",
     "output_type": "stream",
     "text": [
      "ERROR - Could not save https://i.ndtvimg.com/i/2017-09/pasta-carbonara_600x300_41506417953.jpg - cannot identify image file <_io.BytesIO object at 0x0000024D6D3ECE50>\n",
      "SUCCESS - saved https://encrypted-tbn0.gstatic.com/images?q=tbn:ANd9GcTX0rWDOgikSGmZEf_3E10INFWDoS0ZYxSZDw&usqp=CAU - as ./images\\spaghetti_carbonara\\90b98512a8.jpg\n"
     ]
    },
    {
     "name": "stderr",
     "output_type": "stream",
     "text": [
      "C:\\Users\\mandeep.singh\\Anaconda3\\lib\\site-packages\\urllib3\\connectionpool.py:1013: InsecureRequestWarning: Unverified HTTPS request is being made to host 'imagesvc.meredithcorp.io'. Adding certificate verification is strongly advised. See: https://urllib3.readthedocs.io/en/latest/advanced-usage.html#ssl-warnings\n",
      "  warnings.warn(\n"
     ]
    },
    {
     "name": "stdout",
     "output_type": "stream",
     "text": [
      "SUCCESS - saved https://imagesvc.meredithcorp.io/v3/mm/image?url=https%3A%2F%2Fimages.media-allrecipes.com%2Fuserphotos%2F2434057.jpg&w=380&h=505&c=sc&poi=face&q=85 - as ./images\\spaghetti_carbonara\\c0b5436b81.jpg\n",
      "SUCCESS - saved https://encrypted-tbn0.gstatic.com/images?q=tbn:ANd9GcR2Kow5TrFwJYEr_jfa4PQXolUYkjVMWbGzew&usqp=CAU - as ./images\\spaghetti_carbonara\\69dd5f2bcc.jpg\n"
     ]
    },
    {
     "name": "stderr",
     "output_type": "stream",
     "text": [
      "C:\\Users\\mandeep.singh\\Anaconda3\\lib\\site-packages\\urllib3\\connectionpool.py:1013: InsecureRequestWarning: Unverified HTTPS request is being made to host 'encrypted-tbn0.gstatic.com'. Adding certificate verification is strongly advised. See: https://urllib3.readthedocs.io/en/latest/advanced-usage.html#ssl-warnings\n",
      "  warnings.warn(\n",
      "C:\\Users\\mandeep.singh\\Anaconda3\\lib\\site-packages\\urllib3\\connectionpool.py:1013: InsecureRequestWarning: Unverified HTTPS request is being made to host 'keyassets-p2.timeincuk.net'. Adding certificate verification is strongly advised. See: https://urllib3.readthedocs.io/en/latest/advanced-usage.html#ssl-warnings\n",
      "  warnings.warn(\n"
     ]
    },
    {
     "name": "stdout",
     "output_type": "stream",
     "text": [
      "SUCCESS - saved https://keyassets-p2.timeincuk.net/wp/prod/wp-content/uploads/sites/63/2020/06/vegetarian-spaghetti-carbonara-920x690.jpg - as ./images\\spaghetti_carbonara\\6339301d3b.jpg\n",
      "SUCCESS - saved https://encrypted-tbn0.gstatic.com/images?q=tbn:ANd9GcSDwtWHa-X40Ypc8LJx_o7_ZumR2nbkJ-Y8ug&usqp=CAU - as ./images\\spaghetti_carbonara\\95bfd1e142.jpg\n"
     ]
    },
    {
     "name": "stderr",
     "output_type": "stream",
     "text": [
      "C:\\Users\\mandeep.singh\\Anaconda3\\lib\\site-packages\\urllib3\\connectionpool.py:1013: InsecureRequestWarning: Unverified HTTPS request is being made to host 'encrypted-tbn0.gstatic.com'. Adding certificate verification is strongly advised. See: https://urllib3.readthedocs.io/en/latest/advanced-usage.html#ssl-warnings\n",
      "  warnings.warn(\n",
      "C:\\Users\\mandeep.singh\\Anaconda3\\lib\\site-packages\\urllib3\\connectionpool.py:1013: InsecureRequestWarning: Unverified HTTPS request is being made to host 'encrypted-tbn0.gstatic.com'. Adding certificate verification is strongly advised. See: https://urllib3.readthedocs.io/en/latest/advanced-usage.html#ssl-warnings\n",
      "  warnings.warn(\n"
     ]
    },
    {
     "name": "stdout",
     "output_type": "stream",
     "text": [
      "SUCCESS - saved https://encrypted-tbn0.gstatic.com/images?q=tbn:ANd9GcQ92OXPp9zgzZnSJHbCx2xHYRAA_W3dMAynog&usqp=CAU - as ./images\\spaghetti_carbonara\\bb742a1388.jpg\n"
     ]
    },
    {
     "name": "stderr",
     "output_type": "stream",
     "text": [
      "C:\\Users\\mandeep.singh\\Anaconda3\\lib\\site-packages\\urllib3\\connectionpool.py:1013: InsecureRequestWarning: Unverified HTTPS request is being made to host 'encrypted-tbn0.gstatic.com'. Adding certificate verification is strongly advised. See: https://urllib3.readthedocs.io/en/latest/advanced-usage.html#ssl-warnings\n",
      "  warnings.warn(\n",
      "C:\\Users\\mandeep.singh\\Anaconda3\\lib\\site-packages\\urllib3\\connectionpool.py:1013: InsecureRequestWarning: Unverified HTTPS request is being made to host 'encrypted-tbn0.gstatic.com'. Adding certificate verification is strongly advised. See: https://urllib3.readthedocs.io/en/latest/advanced-usage.html#ssl-warnings\n",
      "  warnings.warn(\n"
     ]
    },
    {
     "name": "stdout",
     "output_type": "stream",
     "text": [
      "SUCCESS - saved https://encrypted-tbn0.gstatic.com/images?q=tbn:ANd9GcSwA5S4it9cLGyRG4xAv7RmYHp37Hkn5tCgzg&usqp=CAU - as ./images\\spaghetti_carbonara\\3f1cc3421f.jpg\n",
      "SUCCESS - saved https://encrypted-tbn0.gstatic.com/images?q=tbn:ANd9GcT6K2MphpQguAYFR9oSj0hY_Rz1WogPPbeAtg&usqp=CAU - as ./images\\spaghetti_carbonara\\3d720afafa.jpg\n"
     ]
    },
    {
     "name": "stderr",
     "output_type": "stream",
     "text": [
      "C:\\Users\\mandeep.singh\\Anaconda3\\lib\\site-packages\\urllib3\\connectionpool.py:1013: InsecureRequestWarning: Unverified HTTPS request is being made to host 'encrypted-tbn0.gstatic.com'. Adding certificate verification is strongly advised. See: https://urllib3.readthedocs.io/en/latest/advanced-usage.html#ssl-warnings\n",
      "  warnings.warn(\n",
      "C:\\Users\\mandeep.singh\\Anaconda3\\lib\\site-packages\\urllib3\\connectionpool.py:1013: InsecureRequestWarning: Unverified HTTPS request is being made to host 'encrypted-tbn0.gstatic.com'. Adding certificate verification is strongly advised. See: https://urllib3.readthedocs.io/en/latest/advanced-usage.html#ssl-warnings\n",
      "  warnings.warn(\n"
     ]
    },
    {
     "name": "stdout",
     "output_type": "stream",
     "text": [
      "SUCCESS - saved https://encrypted-tbn0.gstatic.com/images?q=tbn:ANd9GcSEv7DMWV2e4MSRMTr4OXfLx9AULWR0_wBiPA&usqp=CAU - as ./images\\spaghetti_carbonara\\c51b8654a5.jpg\n",
      "SUCCESS - saved https://encrypted-tbn0.gstatic.com/images?q=tbn:ANd9GcT5GU3m6XOhM_wLi2gP5KkCT8UUwaBfk4XcVg&usqp=CAU - as ./images\\spaghetti_carbonara\\21edca53c7.jpg\n",
      "SUCCESS - saved https://encrypted-tbn0.gstatic.com/images?q=tbn:ANd9GcRSTQ8XxQ3rrYI2nAPbZighNNIVjfebtoQgEQ&usqp=CAU - as ./images\\spaghetti_carbonara\\34dbb6d658.jpg\n"
     ]
    },
    {
     "name": "stderr",
     "output_type": "stream",
     "text": [
      "C:\\Users\\mandeep.singh\\Anaconda3\\lib\\site-packages\\urllib3\\connectionpool.py:1013: InsecureRequestWarning: Unverified HTTPS request is being made to host 'encrypted-tbn0.gstatic.com'. Adding certificate verification is strongly advised. See: https://urllib3.readthedocs.io/en/latest/advanced-usage.html#ssl-warnings\n",
      "  warnings.warn(\n",
      "C:\\Users\\mandeep.singh\\Anaconda3\\lib\\site-packages\\urllib3\\connectionpool.py:1013: InsecureRequestWarning: Unverified HTTPS request is being made to host 'encrypted-tbn0.gstatic.com'. Adding certificate verification is strongly advised. See: https://urllib3.readthedocs.io/en/latest/advanced-usage.html#ssl-warnings\n",
      "  warnings.warn(\n",
      "C:\\Users\\mandeep.singh\\Anaconda3\\lib\\site-packages\\urllib3\\connectionpool.py:1013: InsecureRequestWarning: Unverified HTTPS request is being made to host 'encrypted-tbn0.gstatic.com'. Adding certificate verification is strongly advised. See: https://urllib3.readthedocs.io/en/latest/advanced-usage.html#ssl-warnings\n",
      "  warnings.warn(\n"
     ]
    },
    {
     "name": "stdout",
     "output_type": "stream",
     "text": [
      "SUCCESS - saved https://encrypted-tbn0.gstatic.com/images?q=tbn:ANd9GcTbx6g3tlP-8aV9nEsOgdQcd-ty6L8NHCD7Cg&usqp=CAU - as ./images\\spaghetti_carbonara\\0602f14a51.jpg\n",
      "SUCCESS - saved https://encrypted-tbn0.gstatic.com/images?q=tbn:ANd9GcR8KzfsRrJMZsVOi6SWIgbepdlVH16fiealsA&usqp=CAU - as ./images\\spaghetti_carbonara\\0467dff204.jpg\n"
     ]
    },
    {
     "name": "stderr",
     "output_type": "stream",
     "text": [
      "C:\\Users\\mandeep.singh\\Anaconda3\\lib\\site-packages\\urllib3\\connectionpool.py:1013: InsecureRequestWarning: Unverified HTTPS request is being made to host 'www.hiddenvalley.com'. Adding certificate verification is strongly advised. See: https://urllib3.readthedocs.io/en/latest/advanced-usage.html#ssl-warnings\n",
      "  warnings.warn(\n"
     ]
    },
    {
     "name": "stdout",
     "output_type": "stream",
     "text": [
      "SUCCESS - saved https://www.hiddenvalley.com/wp-content/uploads/2021/04/easy-ranch-spaghetti-carbonara-RDP.jpg - as ./images\\spaghetti_carbonara\\aea2b7c1ae.jpg\n"
     ]
    },
    {
     "name": "stderr",
     "output_type": "stream",
     "text": [
      "C:\\Users\\mandeep.singh\\Anaconda3\\lib\\site-packages\\urllib3\\connectionpool.py:1013: InsecureRequestWarning: Unverified HTTPS request is being made to host 'encrypted-tbn0.gstatic.com'. Adding certificate verification is strongly advised. See: https://urllib3.readthedocs.io/en/latest/advanced-usage.html#ssl-warnings\n",
      "  warnings.warn(\n"
     ]
    },
    {
     "name": "stdout",
     "output_type": "stream",
     "text": [
      "SUCCESS - saved https://encrypted-tbn0.gstatic.com/images?q=tbn:ANd9GcSJ-JNfzy38uememTias_1Z4hH8PIqRnngcug&usqp=CAU - as ./images\\spaghetti_carbonara\\1a77cb1c9c.jpg\n",
      "SUCCESS - saved https://encrypted-tbn0.gstatic.com/images?q=tbn:ANd9GcR6m_r-j5yly3BFrM7hgXTmHdnBLwwqr4_IOA&usqp=CAU - as ./images\\spaghetti_carbonara\\f88f9476f8.jpg\n"
     ]
    },
    {
     "name": "stderr",
     "output_type": "stream",
     "text": [
      "C:\\Users\\mandeep.singh\\Anaconda3\\lib\\site-packages\\urllib3\\connectionpool.py:1013: InsecureRequestWarning: Unverified HTTPS request is being made to host 'encrypted-tbn0.gstatic.com'. Adding certificate verification is strongly advised. See: https://urllib3.readthedocs.io/en/latest/advanced-usage.html#ssl-warnings\n",
      "  warnings.warn(\n",
      "C:\\Users\\mandeep.singh\\Anaconda3\\lib\\site-packages\\urllib3\\connectionpool.py:1013: InsecureRequestWarning: Unverified HTTPS request is being made to host 'encrypted-tbn0.gstatic.com'. Adding certificate verification is strongly advised. See: https://urllib3.readthedocs.io/en/latest/advanced-usage.html#ssl-warnings\n",
      "  warnings.warn(\n"
     ]
    },
    {
     "name": "stdout",
     "output_type": "stream",
     "text": [
      "SUCCESS - saved https://encrypted-tbn0.gstatic.com/images?q=tbn:ANd9GcRVoDNsyGr231DOIbk2z8sAwk1BBUVkFejhog&usqp=CAU - as ./images\\spaghetti_carbonara\\7a647326ea.jpg\n"
     ]
    },
    {
     "name": "stderr",
     "output_type": "stream",
     "text": [
      "C:\\Users\\mandeep.singh\\Anaconda3\\lib\\site-packages\\urllib3\\connectionpool.py:1013: InsecureRequestWarning: Unverified HTTPS request is being made to host 'static.onecms.io'. Adding certificate verification is strongly advised. See: https://urllib3.readthedocs.io/en/latest/advanced-usage.html#ssl-warnings\n",
      "  warnings.warn(\n"
     ]
    },
    {
     "name": "stdout",
     "output_type": "stream",
     "text": [
      "SUCCESS - saved https://static.onecms.io/wp-content/uploads/sites/44/2019/08/26232300/4177366.jpg - as ./images\\spaghetti_carbonara\\fe062d0cdf.jpg\n"
     ]
    },
    {
     "name": "stderr",
     "output_type": "stream",
     "text": [
      "C:\\Users\\mandeep.singh\\Anaconda3\\lib\\site-packages\\urllib3\\connectionpool.py:1013: InsecureRequestWarning: Unverified HTTPS request is being made to host 'hips.hearstapps.com'. Adding certificate verification is strongly advised. See: https://urllib3.readthedocs.io/en/latest/advanced-usage.html#ssl-warnings\n",
      "  warnings.warn(\n"
     ]
    },
    {
     "name": "stdout",
     "output_type": "stream",
     "text": [
      "SUCCESS - saved https://hips.hearstapps.com/del.h-cdn.co/assets/16/04/1453933735-carbonara-delish-1.jpg - as ./images\\spaghetti_carbonara\\b0c245daa1.jpg\n"
     ]
    },
    {
     "name": "stderr",
     "output_type": "stream",
     "text": [
      "C:\\Users\\mandeep.singh\\Anaconda3\\lib\\site-packages\\urllib3\\connectionpool.py:1013: InsecureRequestWarning: Unverified HTTPS request is being made to host 'encrypted-tbn0.gstatic.com'. Adding certificate verification is strongly advised. See: https://urllib3.readthedocs.io/en/latest/advanced-usage.html#ssl-warnings\n",
      "  warnings.warn(\n",
      "C:\\Users\\mandeep.singh\\Anaconda3\\lib\\site-packages\\urllib3\\connectionpool.py:1013: InsecureRequestWarning: Unverified HTTPS request is being made to host 'hips.hearstapps.com'. Adding certificate verification is strongly advised. See: https://urllib3.readthedocs.io/en/latest/advanced-usage.html#ssl-warnings\n",
      "  warnings.warn(\n"
     ]
    },
    {
     "name": "stdout",
     "output_type": "stream",
     "text": [
      "SUCCESS - saved https://encrypted-tbn0.gstatic.com/images?q=tbn:ANd9GcSBg0NHGjoxu_q6DAfzrfPGzzQidOb6A3RP9w&usqp=CAU - as ./images\\spaghetti_carbonara\\c14c3d49b4.jpg\n",
      "SUCCESS - saved https://hips.hearstapps.com/ghk.h-cdn.co/assets/15/17/1429889780-spaghetti-carbonara.jpg - as ./images\\spaghetti_carbonara\\051977c5bd.jpg\n"
     ]
    },
    {
     "name": "stderr",
     "output_type": "stream",
     "text": [
      "C:\\Users\\mandeep.singh\\Anaconda3\\lib\\site-packages\\urllib3\\connectionpool.py:1013: InsecureRequestWarning: Unverified HTTPS request is being made to host 'encrypted-tbn0.gstatic.com'. Adding certificate verification is strongly advised. See: https://urllib3.readthedocs.io/en/latest/advanced-usage.html#ssl-warnings\n",
      "  warnings.warn(\n",
      "C:\\Users\\mandeep.singh\\Anaconda3\\lib\\site-packages\\urllib3\\connectionpool.py:1013: InsecureRequestWarning: Unverified HTTPS request is being made to host 'encrypted-tbn0.gstatic.com'. Adding certificate verification is strongly advised. See: https://urllib3.readthedocs.io/en/latest/advanced-usage.html#ssl-warnings\n",
      "  warnings.warn(\n"
     ]
    },
    {
     "name": "stdout",
     "output_type": "stream",
     "text": [
      "SUCCESS - saved https://encrypted-tbn0.gstatic.com/images?q=tbn:ANd9GcQE-J-dNv5DeRV3cyMx6eYUQh7eYpeyFwCkaQ&usqp=CAU - as ./images\\spaghetti_carbonara\\b92100fab5.jpg\n",
      "SUCCESS - saved https://encrypted-tbn0.gstatic.com/images?q=tbn:ANd9GcRvq0pI20fRm-aac4S6NLrOmWnLw6LxZbkLJQ&usqp=CAU - as ./images\\spaghetti_carbonara\\b5402672eb.jpg\n",
      "SUCCESS - saved https://encrypted-tbn0.gstatic.com/images?q=tbn:ANd9GcTOflAjBPwvD3ysSrhgNkyt5E9YxsLS7L0iCw&usqp=CAU - as ./images\\spaghetti_carbonara\\ace32351fa.jpg\n"
     ]
    },
    {
     "name": "stderr",
     "output_type": "stream",
     "text": [
      "C:\\Users\\mandeep.singh\\Anaconda3\\lib\\site-packages\\urllib3\\connectionpool.py:1013: InsecureRequestWarning: Unverified HTTPS request is being made to host 'encrypted-tbn0.gstatic.com'. Adding certificate verification is strongly advised. See: https://urllib3.readthedocs.io/en/latest/advanced-usage.html#ssl-warnings\n",
      "  warnings.warn(\n",
      "C:\\Users\\mandeep.singh\\Anaconda3\\lib\\site-packages\\urllib3\\connectionpool.py:1013: InsecureRequestWarning: Unverified HTTPS request is being made to host 'assets.tmecosys.com'. Adding certificate verification is strongly advised. See: https://urllib3.readthedocs.io/en/latest/advanced-usage.html#ssl-warnings\n",
      "  warnings.warn(\n",
      "C:\\Users\\mandeep.singh\\Anaconda3\\lib\\site-packages\\urllib3\\connectionpool.py:1013: InsecureRequestWarning: Unverified HTTPS request is being made to host 'encrypted-tbn0.gstatic.com'. Adding certificate verification is strongly advised. See: https://urllib3.readthedocs.io/en/latest/advanced-usage.html#ssl-warnings\n",
      "  warnings.warn(\n"
     ]
    },
    {
     "name": "stdout",
     "output_type": "stream",
     "text": [
      "SUCCESS - saved https://assets.tmecosys.com/image/upload/t_web767x639/img/recipe/ras/Assets/61FCB2B2-DB84-4A68-ABB8-F9FBA800BCA3/Derivates/FCB48A53-86F0-4697-BE75-7B7CE9B49EBE.jpg - as ./images\\spaghetti_carbonara\\da045319d2.jpg\n",
      "SUCCESS - saved https://encrypted-tbn0.gstatic.com/images?q=tbn:ANd9GcQxkGvMdNu9bZIT_erGC2XT4QFvSbcTaLxEqg&usqp=CAU - as ./images\\spaghetti_carbonara\\4c8b43ed90.jpg\n",
      "SUCCESS - saved https://assets.tmecosys.com/image/upload/t_web767x639/img/recipe/ras/Assets/AB4B5C21-9E04-4AF1-8690-811E91ECF810/Derivates/15F71685-2C46-405B-AB46-3D12E44C1562.jpg - as ./images\\spaghetti_carbonara\\24b54601c3.jpg\n"
     ]
    },
    {
     "name": "stderr",
     "output_type": "stream",
     "text": [
      "C:\\Users\\mandeep.singh\\Anaconda3\\lib\\site-packages\\urllib3\\connectionpool.py:1013: InsecureRequestWarning: Unverified HTTPS request is being made to host 'assets.tmecosys.com'. Adding certificate verification is strongly advised. See: https://urllib3.readthedocs.io/en/latest/advanced-usage.html#ssl-warnings\n",
      "  warnings.warn(\n",
      "C:\\Users\\mandeep.singh\\Anaconda3\\lib\\site-packages\\urllib3\\connectionpool.py:1013: InsecureRequestWarning: Unverified HTTPS request is being made to host 'i.pinimg.com'. Adding certificate verification is strongly advised. See: https://urllib3.readthedocs.io/en/latest/advanced-usage.html#ssl-warnings\n",
      "  warnings.warn(\n"
     ]
    },
    {
     "name": "stdout",
     "output_type": "stream",
     "text": [
      "SUCCESS - saved https://i.pinimg.com/originals/66/59/d0/6659d07d1801e61681c915b5b0867799.jpg - as ./images\\spaghetti_carbonara\\e38bd5b5e3.jpg\n"
     ]
    },
    {
     "name": "stderr",
     "output_type": "stream",
     "text": [
      "C:\\Users\\mandeep.singh\\Anaconda3\\lib\\site-packages\\urllib3\\connectionpool.py:1013: InsecureRequestWarning: Unverified HTTPS request is being made to host 'c.ndtvimg.com'. Adding certificate verification is strongly advised. See: https://urllib3.readthedocs.io/en/latest/advanced-usage.html#ssl-warnings\n",
      "  warnings.warn(\n",
      "C:\\Users\\mandeep.singh\\Anaconda3\\lib\\site-packages\\urllib3\\connectionpool.py:1013: InsecureRequestWarning: Unverified HTTPS request is being made to host 'i.pinimg.com'. Adding certificate verification is strongly advised. See: https://urllib3.readthedocs.io/en/latest/advanced-usage.html#ssl-warnings\n",
      "  warnings.warn(\n"
     ]
    },
    {
     "name": "stdout",
     "output_type": "stream",
     "text": [
      "ERROR - Could not save https://c.ndtvimg.com/2020-01/9e8qvta_pasta-carbonara_625x300_29_January_20.jpg - cannot identify image file <_io.BytesIO object at 0x0000024D6D3E3900>\n",
      "SUCCESS - saved https://i.pinimg.com/originals/bd/a0/08/bda008e567a24d12e50a0d8d03d0f178.jpg - as ./images\\spaghetti_carbonara\\d5d10265e7.jpg\n"
     ]
    },
    {
     "name": "stderr",
     "output_type": "stream",
     "text": [
      "C:\\Users\\mandeep.singh\\Anaconda3\\lib\\site-packages\\urllib3\\connectionpool.py:1013: InsecureRequestWarning: Unverified HTTPS request is being made to host 'encrypted-tbn0.gstatic.com'. Adding certificate verification is strongly advised. See: https://urllib3.readthedocs.io/en/latest/advanced-usage.html#ssl-warnings\n",
      "  warnings.warn(\n",
      "C:\\Users\\mandeep.singh\\Anaconda3\\lib\\site-packages\\urllib3\\connectionpool.py:1013: InsecureRequestWarning: Unverified HTTPS request is being made to host 'encrypted-tbn0.gstatic.com'. Adding certificate verification is strongly advised. See: https://urllib3.readthedocs.io/en/latest/advanced-usage.html#ssl-warnings\n",
      "  warnings.warn(\n"
     ]
    },
    {
     "name": "stdout",
     "output_type": "stream",
     "text": [
      "SUCCESS - saved https://encrypted-tbn0.gstatic.com/images?q=tbn:ANd9GcS-Pik9NDO2QXT-evxbUAB9ekhQwcDjRsi8kA&usqp=CAU - as ./images\\spaghetti_carbonara\\0885993679.jpg\n",
      "SUCCESS - saved https://encrypted-tbn0.gstatic.com/images?q=tbn:ANd9GcS-0ChaT-pB09bSEKQldmw1AaZzMnTnS61agA&usqp=CAU - as ./images\\spaghetti_carbonara\\d1499caa1d.jpg\n"
     ]
    },
    {
     "name": "stderr",
     "output_type": "stream",
     "text": [
      "C:\\Users\\mandeep.singh\\Anaconda3\\lib\\site-packages\\urllib3\\connectionpool.py:1013: InsecureRequestWarning: Unverified HTTPS request is being made to host 'images.kitchenstories.io'. Adding certificate verification is strongly advised. See: https://urllib3.readthedocs.io/en/latest/advanced-usage.html#ssl-warnings\n",
      "  warnings.warn(\n"
     ]
    },
    {
     "name": "stdout",
     "output_type": "stream",
     "text": [
      "SUCCESS - saved https://images.kitchenstories.io/communityImages/e6a3e20999d473283f86d8faf1c2f783_8b054d69-57d7-4d94-abb5-ca4a2dec15d9/e6a3e20999d473283f86d8faf1c2f783_8b054d69-57d7-4d94-abb5-ca4a2dec15d9-large-landscape-150.jpg - as ./images\\spaghetti_carbonara\\867164dcbc.jpg\n"
     ]
    },
    {
     "name": "stderr",
     "output_type": "stream",
     "text": [
      "C:\\Users\\mandeep.singh\\Anaconda3\\lib\\site-packages\\urllib3\\connectionpool.py:1013: InsecureRequestWarning: Unverified HTTPS request is being made to host 'imagesvc.meredithcorp.io'. Adding certificate verification is strongly advised. See: https://urllib3.readthedocs.io/en/latest/advanced-usage.html#ssl-warnings\n",
      "  warnings.warn(\n"
     ]
    },
    {
     "name": "stdout",
     "output_type": "stream",
     "text": [
      "SUCCESS - saved https://imagesvc.meredithcorp.io/v3/jumpstartpure/image?url=https://cf-images.us-east-1.prod.boltdns.net/v1/static/1033249144001/2ed2889f-bf0b-4f37-9951-0007d58b9d09/5fbfac6d-2742-4f6c-b0a3-5007f10661f3/1280x720/match/image.jpg&w=1280&h=720&q=90&c=cc - as ./images\\spaghetti_carbonara\\b0a4f84e34.jpg\n"
     ]
    },
    {
     "name": "stderr",
     "output_type": "stream",
     "text": [
      "C:\\Users\\mandeep.singh\\Anaconda3\\lib\\site-packages\\urllib3\\connectionpool.py:1013: InsecureRequestWarning: Unverified HTTPS request is being made to host 'encrypted-tbn0.gstatic.com'. Adding certificate verification is strongly advised. See: https://urllib3.readthedocs.io/en/latest/advanced-usage.html#ssl-warnings\n",
      "  warnings.warn(\n",
      "C:\\Users\\mandeep.singh\\Anaconda3\\lib\\site-packages\\urllib3\\connectionpool.py:1013: InsecureRequestWarning: Unverified HTTPS request is being made to host 'static01.nyt.com'. Adding certificate verification is strongly advised. See: https://urllib3.readthedocs.io/en/latest/advanced-usage.html#ssl-warnings\n",
      "  warnings.warn(\n"
     ]
    },
    {
     "name": "stdout",
     "output_type": "stream",
     "text": [
      "SUCCESS - saved https://encrypted-tbn0.gstatic.com/images?q=tbn:ANd9GcRjX08uPt3SopSxGYvIDfqeg7csuLZnjvLHAg&usqp=CAU - as ./images\\spaghetti_carbonara\\3762c745ef.jpg\n",
      "SUCCESS - saved https://static01.nyt.com/images/2020/12/06/dining/Spinach-Spaghetti-Carbonara/Spinach-Spaghetti-Carbonara-articleLarge-v2.jpg - as ./images\\spaghetti_carbonara\\62867e3857.jpg\n",
      "SUCCESS - saved https://encrypted-tbn0.gstatic.com/images?q=tbn:ANd9GcTg6c1ukHTvwxQTNKyaK5FD3VFwgTGnc2p_vQ&usqp=CAU - as ./images\\spaghetti_carbonara\\57b59998ae.jpg\n"
     ]
    },
    {
     "name": "stderr",
     "output_type": "stream",
     "text": [
      "C:\\Users\\mandeep.singh\\Anaconda3\\lib\\site-packages\\urllib3\\connectionpool.py:1013: InsecureRequestWarning: Unverified HTTPS request is being made to host 'encrypted-tbn0.gstatic.com'. Adding certificate verification is strongly advised. See: https://urllib3.readthedocs.io/en/latest/advanced-usage.html#ssl-warnings\n",
      "  warnings.warn(\n",
      "C:\\Users\\mandeep.singh\\Anaconda3\\lib\\site-packages\\urllib3\\connectionpool.py:1013: InsecureRequestWarning: Unverified HTTPS request is being made to host 'encrypted-tbn0.gstatic.com'. Adding certificate verification is strongly advised. See: https://urllib3.readthedocs.io/en/latest/advanced-usage.html#ssl-warnings\n",
      "  warnings.warn(\n"
     ]
    },
    {
     "name": "stdout",
     "output_type": "stream",
     "text": [
      "SUCCESS - saved https://encrypted-tbn0.gstatic.com/images?q=tbn:ANd9GcSsD0PAqSSJFcBLCjzIe_liKo1uNv_W5xXB1A&usqp=CAU - as ./images\\spaghetti_carbonara\\7f85bca4d5.jpg\n",
      "SUCCESS - saved https://encrypted-tbn0.gstatic.com/images?q=tbn:ANd9GcQgej05NkOBgCYs9aWcrJkKF4KlQH5w84miyQ&usqp=CAU - as ./images\\spaghetti_carbonara\\1b3645b4f1.jpg\n"
     ]
    },
    {
     "name": "stderr",
     "output_type": "stream",
     "text": [
      "C:\\Users\\mandeep.singh\\Anaconda3\\lib\\site-packages\\urllib3\\connectionpool.py:1013: InsecureRequestWarning: Unverified HTTPS request is being made to host 'encrypted-tbn0.gstatic.com'. Adding certificate verification is strongly advised. See: https://urllib3.readthedocs.io/en/latest/advanced-usage.html#ssl-warnings\n",
      "  warnings.warn(\n",
      "C:\\Users\\mandeep.singh\\Anaconda3\\lib\\site-packages\\urllib3\\connectionpool.py:1013: InsecureRequestWarning: Unverified HTTPS request is being made to host 'encrypted-tbn0.gstatic.com'. Adding certificate verification is strongly advised. See: https://urllib3.readthedocs.io/en/latest/advanced-usage.html#ssl-warnings\n",
      "  warnings.warn(\n"
     ]
    },
    {
     "name": "stdout",
     "output_type": "stream",
     "text": [
      "SUCCESS - saved https://encrypted-tbn0.gstatic.com/images?q=tbn:ANd9GcSGvgNdnWV3KwDfdfDutQELU8U377t_gXnE6Q&usqp=CAU - as ./images\\spaghetti_carbonara\\2dd3c50d70.jpg\n"
     ]
    },
    {
     "name": "stderr",
     "output_type": "stream",
     "text": [
      "C:\\Users\\mandeep.singh\\Anaconda3\\lib\\site-packages\\urllib3\\connectionpool.py:1013: InsecureRequestWarning: Unverified HTTPS request is being made to host 'images.immediate.co.uk'. Adding certificate verification is strongly advised. See: https://urllib3.readthedocs.io/en/latest/advanced-usage.html#ssl-warnings\n",
      "  warnings.warn(\n",
      "C:\\Users\\mandeep.singh\\Anaconda3\\lib\\site-packages\\urllib3\\connectionpool.py:1013: InsecureRequestWarning: Unverified HTTPS request is being made to host 'encrypted-tbn0.gstatic.com'. Adding certificate verification is strongly advised. See: https://urllib3.readthedocs.io/en/latest/advanced-usage.html#ssl-warnings\n",
      "  warnings.warn(\n"
     ]
    },
    {
     "name": "stdout",
     "output_type": "stream",
     "text": [
      "ERROR - Could not save https://images.immediate.co.uk/production/volatile/sites/30/2020/08/spaghetti_carb-a2ffbde.jpg?quality=90&resize=504,458?quality=90&webp=true&resize=504,458 - cannot identify image file <_io.BytesIO object at 0x0000024D6D3E3400>\n",
      "SUCCESS - saved https://encrypted-tbn0.gstatic.com/images?q=tbn:ANd9GcSCQvOXhsHBfmfD-sqzCLPVLkDEW5rLS3sHkA&usqp=CAU - as ./images\\spaghetti_carbonara\\5ebccbb711.jpg\n"
     ]
    },
    {
     "name": "stderr",
     "output_type": "stream",
     "text": [
      "C:\\Users\\mandeep.singh\\Anaconda3\\lib\\site-packages\\urllib3\\connectionpool.py:1013: InsecureRequestWarning: Unverified HTTPS request is being made to host 'encrypted-tbn0.gstatic.com'. Adding certificate verification is strongly advised. See: https://urllib3.readthedocs.io/en/latest/advanced-usage.html#ssl-warnings\n",
      "  warnings.warn(\n",
      "C:\\Users\\mandeep.singh\\Anaconda3\\lib\\site-packages\\urllib3\\connectionpool.py:1013: InsecureRequestWarning: Unverified HTTPS request is being made to host 'encrypted-tbn0.gstatic.com'. Adding certificate verification is strongly advised. See: https://urllib3.readthedocs.io/en/latest/advanced-usage.html#ssl-warnings\n",
      "  warnings.warn(\n"
     ]
    },
    {
     "name": "stdout",
     "output_type": "stream",
     "text": [
      "SUCCESS - saved https://encrypted-tbn0.gstatic.com/images?q=tbn:ANd9GcR9tbEoibs2pWBJsC1-fvmtJdbDV6B4ybwvhA&usqp=CAU - as ./images\\spaghetti_carbonara\\ee741e0466.jpg\n",
      "SUCCESS - saved https://encrypted-tbn0.gstatic.com/images?q=tbn:ANd9GcSrJd6ii2ciEIyH2IRc5DdoN5_y8tqhfiZL-w&usqp=CAU - as ./images\\spaghetti_carbonara\\c5e3ea4af5.jpg\n"
     ]
    },
    {
     "name": "stderr",
     "output_type": "stream",
     "text": [
      "C:\\Users\\mandeep.singh\\Anaconda3\\lib\\site-packages\\urllib3\\connectionpool.py:1013: InsecureRequestWarning: Unverified HTTPS request is being made to host 'muchbutter.com'. Adding certificate verification is strongly advised. See: https://urllib3.readthedocs.io/en/latest/advanced-usage.html#ssl-warnings\n",
      "  warnings.warn(\n"
     ]
    },
    {
     "name": "stdout",
     "output_type": "stream",
     "text": [
      "SUCCESS - saved https://muchbutter.com/wp-content/uploads/2019/08/072-Much-Butter-Smoked-beef-carbonara-4-500x375.jpg - as ./images\\spaghetti_carbonara\\fc9592ca75.jpg\n"
     ]
    },
    {
     "name": "stderr",
     "output_type": "stream",
     "text": [
      "C:\\Users\\mandeep.singh\\Anaconda3\\lib\\site-packages\\urllib3\\connectionpool.py:1013: InsecureRequestWarning: Unverified HTTPS request is being made to host 'imagesvc.meredithcorp.io'. Adding certificate verification is strongly advised. See: https://urllib3.readthedocs.io/en/latest/advanced-usage.html#ssl-warnings\n",
      "  warnings.warn(\n"
     ]
    },
    {
     "name": "stdout",
     "output_type": "stream",
     "text": [
      "SUCCESS - saved https://imagesvc.meredithcorp.io/v3/mm/image?url=https%3A%2F%2Fimg1.cookinglight.timeinc.net%2Fsites%2Fdefault%2Ffiles%2Fstyles%2Fmedium_2x%2Fpublic%2F1533151875%2Fwhole-wheat-pasta-carbonara-1809-p116.jpg%3Fitok%3DipA1wE7S - as ./images\\spaghetti_carbonara\\e0cb894f17.jpg\n"
     ]
    },
    {
     "name": "stderr",
     "output_type": "stream",
     "text": [
      "C:\\Users\\mandeep.singh\\Anaconda3\\lib\\site-packages\\urllib3\\connectionpool.py:1013: InsecureRequestWarning: Unverified HTTPS request is being made to host 'encrypted-tbn0.gstatic.com'. Adding certificate verification is strongly advised. See: https://urllib3.readthedocs.io/en/latest/advanced-usage.html#ssl-warnings\n",
      "  warnings.warn(\n",
      "C:\\Users\\mandeep.singh\\Anaconda3\\lib\\site-packages\\urllib3\\connectionpool.py:1013: InsecureRequestWarning: Unverified HTTPS request is being made to host 'encrypted-tbn0.gstatic.com'. Adding certificate verification is strongly advised. See: https://urllib3.readthedocs.io/en/latest/advanced-usage.html#ssl-warnings\n",
      "  warnings.warn(\n"
     ]
    },
    {
     "name": "stdout",
     "output_type": "stream",
     "text": [
      "SUCCESS - saved https://encrypted-tbn0.gstatic.com/images?q=tbn:ANd9GcQej_Owie38wVESsd3zUYy8Zn-NiyFwPwc2Rg&usqp=CAU - as ./images\\spaghetti_carbonara\\191094d0df.jpg\n",
      "SUCCESS - saved https://encrypted-tbn0.gstatic.com/images?q=tbn:ANd9GcQagycqJnz2kNF8CjPNZZyaeLwtv26HNZAG7Q&usqp=CAU - as ./images\\spaghetti_carbonara\\0a580794f5.jpg\n"
     ]
    },
    {
     "name": "stderr",
     "output_type": "stream",
     "text": [
      "C:\\Users\\mandeep.singh\\Anaconda3\\lib\\site-packages\\urllib3\\connectionpool.py:1013: InsecureRequestWarning: Unverified HTTPS request is being made to host 'encrypted-tbn0.gstatic.com'. Adding certificate verification is strongly advised. See: https://urllib3.readthedocs.io/en/latest/advanced-usage.html#ssl-warnings\n",
      "  warnings.warn(\n",
      "C:\\Users\\mandeep.singh\\Anaconda3\\lib\\site-packages\\urllib3\\connectionpool.py:1013: InsecureRequestWarning: Unverified HTTPS request is being made to host 'encrypted-tbn0.gstatic.com'. Adding certificate verification is strongly advised. See: https://urllib3.readthedocs.io/en/latest/advanced-usage.html#ssl-warnings\n",
      "  warnings.warn(\n"
     ]
    },
    {
     "name": "stdout",
     "output_type": "stream",
     "text": [
      "SUCCESS - saved https://encrypted-tbn0.gstatic.com/images?q=tbn:ANd9GcQ9BQKbJB79CLHaWt597fBSIxkFLkflijdIvw&usqp=CAU - as ./images\\spaghetti_carbonara\\b8adcc48cb.jpg\n",
      "SUCCESS - saved https://encrypted-tbn0.gstatic.com/images?q=tbn:ANd9GcRvXBwokaitsv0grjiDdcz20YXLRqS3pT47PQ&usqp=CAU - as ./images\\spaghetti_carbonara\\0728cb4d1f.jpg\n"
     ]
    },
    {
     "name": "stderr",
     "output_type": "stream",
     "text": [
      "C:\\Users\\mandeep.singh\\Anaconda3\\lib\\site-packages\\urllib3\\connectionpool.py:1013: InsecureRequestWarning: Unverified HTTPS request is being made to host 'encrypted-tbn0.gstatic.com'. Adding certificate verification is strongly advised. See: https://urllib3.readthedocs.io/en/latest/advanced-usage.html#ssl-warnings\n",
      "  warnings.warn(\n",
      "C:\\Users\\mandeep.singh\\Anaconda3\\lib\\site-packages\\urllib3\\connectionpool.py:1013: InsecureRequestWarning: Unverified HTTPS request is being made to host 'encrypted-tbn0.gstatic.com'. Adding certificate verification is strongly advised. See: https://urllib3.readthedocs.io/en/latest/advanced-usage.html#ssl-warnings\n",
      "  warnings.warn(\n"
     ]
    },
    {
     "name": "stdout",
     "output_type": "stream",
     "text": [
      "SUCCESS - saved https://encrypted-tbn0.gstatic.com/images?q=tbn:ANd9GcT6gKN6FQi502YFKdWuoH82GuJGhUkEgcq2cA&usqp=CAU - as ./images\\spaghetti_carbonara\\6dd2924757.jpg\n",
      "SUCCESS - saved https://encrypted-tbn0.gstatic.com/images?q=tbn:ANd9GcQ-I8nXZ1IyB5YWoHWJjWkLG-EY2Qu1mRyPKw&usqp=CAU - as ./images\\spaghetti_carbonara\\7fbe70f23c.jpg\n"
     ]
    },
    {
     "name": "stderr",
     "output_type": "stream",
     "text": [
      "C:\\Users\\mandeep.singh\\Anaconda3\\lib\\site-packages\\urllib3\\connectionpool.py:1013: InsecureRequestWarning: Unverified HTTPS request is being made to host 'truffle-assets.imgix.net'. Adding certificate verification is strongly advised. See: https://urllib3.readthedocs.io/en/latest/advanced-usage.html#ssl-warnings\n",
      "  warnings.warn(\n"
     ]
    },
    {
     "name": "stdout",
     "output_type": "stream",
     "text": [
      "SUCCESS - saved https://truffle-assets.imgix.net/pxqrocxwsjcc_3mDVET2WAUKSekSIEwiW44_simple-spaghetti-carbonara_landscapeThumbnail_en.jpeg - as ./images\\spaghetti_carbonara\\4a5a09366d.jpg\n",
      "SUCCESS - saved https://encrypted-tbn0.gstatic.com/images?q=tbn:ANd9GcSqMjBbU9SakHvyrd1pTAn_G_DFl1VwtP3sjw&usqp=CAU - as ./images\\spaghetti_carbonara\\3163fa6ce5.jpg\n"
     ]
    },
    {
     "name": "stderr",
     "output_type": "stream",
     "text": [
      "C:\\Users\\mandeep.singh\\Anaconda3\\lib\\site-packages\\urllib3\\connectionpool.py:1013: InsecureRequestWarning: Unverified HTTPS request is being made to host 'encrypted-tbn0.gstatic.com'. Adding certificate verification is strongly advised. See: https://urllib3.readthedocs.io/en/latest/advanced-usage.html#ssl-warnings\n",
      "  warnings.warn(\n",
      "C:\\Users\\mandeep.singh\\Anaconda3\\lib\\site-packages\\urllib3\\connectionpool.py:1013: InsecureRequestWarning: Unverified HTTPS request is being made to host 'encrypted-tbn0.gstatic.com'. Adding certificate verification is strongly advised. See: https://urllib3.readthedocs.io/en/latest/advanced-usage.html#ssl-warnings\n",
      "  warnings.warn(\n"
     ]
    },
    {
     "name": "stdout",
     "output_type": "stream",
     "text": [
      "SUCCESS - saved https://encrypted-tbn0.gstatic.com/images?q=tbn:ANd9GcT0oC0Z8hXo0SkqEtWOR4wZQ_pOpcAMyjZhTg&usqp=CAU - as ./images\\spaghetti_carbonara\\69d05fd41e.jpg\n"
     ]
    },
    {
     "name": "stderr",
     "output_type": "stream",
     "text": [
      "C:\\Users\\mandeep.singh\\Anaconda3\\lib\\site-packages\\urllib3\\connectionpool.py:1013: InsecureRequestWarning: Unverified HTTPS request is being made to host 'imagesvc.meredithcorp.io'. Adding certificate verification is strongly advised. See: https://urllib3.readthedocs.io/en/latest/advanced-usage.html#ssl-warnings\n",
      "  warnings.warn(\n"
     ]
    },
    {
     "name": "stdout",
     "output_type": "stream",
     "text": [
      "SUCCESS - saved https://imagesvc.meredithcorp.io/v3/mm/image?q=85&c=sc&poi=face&w=750&h=375&url=https%3A%2F%2Fassets.marthastewart.com%2Fstyles%2Fwmax-750%2Fd33%2Fpasta-carbonara-recipe-0420-horiz%2Fpasta-carbonara-recipe-0420-horiz.jpg%3Fitok%3DzIYFEWhw - as ./images\\spaghetti_carbonara\\7cef3f2432.jpg\n"
     ]
    },
    {
     "name": "stderr",
     "output_type": "stream",
     "text": [
      "C:\\Users\\mandeep.singh\\Anaconda3\\lib\\site-packages\\urllib3\\connectionpool.py:1013: InsecureRequestWarning: Unverified HTTPS request is being made to host 'www.thelittleepicurean.com'. Adding certificate verification is strongly advised. See: https://urllib3.readthedocs.io/en/latest/advanced-usage.html#ssl-warnings\n",
      "  warnings.warn(\n"
     ]
    },
    {
     "name": "stdout",
     "output_type": "stream",
     "text": [
      "SUCCESS - saved https://www.thelittleepicurean.com/wp-content/uploads/2018/08/spaghetti-carbonara-500x500.jpg - as ./images\\spaghetti_carbonara\\0990cca246.jpg\n"
     ]
    },
    {
     "name": "stderr",
     "output_type": "stream",
     "text": [
      "C:\\Users\\mandeep.singh\\Anaconda3\\lib\\site-packages\\urllib3\\connectionpool.py:1013: InsecureRequestWarning: Unverified HTTPS request is being made to host 'www.giallozafferano.com'. Adding certificate verification is strongly advised. See: https://urllib3.readthedocs.io/en/latest/advanced-usage.html#ssl-warnings\n",
      "  warnings.warn(\n"
     ]
    },
    {
     "name": "stdout",
     "output_type": "stream",
     "text": [
      "SUCCESS - saved https://www.giallozafferano.com/images/228-22819/Spaghetti-Carbonara-Bacon-and-egg-spaghetti_1200x800.jpg - as ./images\\spaghetti_carbonara\\3904d2fa22.jpg\n"
     ]
    },
    {
     "name": "stderr",
     "output_type": "stream",
     "text": [
      "C:\\Users\\mandeep.singh\\Anaconda3\\lib\\site-packages\\urllib3\\connectionpool.py:1013: InsecureRequestWarning: Unverified HTTPS request is being made to host 'therecipecritic.com'. Adding certificate verification is strongly advised. See: https://urllib3.readthedocs.io/en/latest/advanced-usage.html#ssl-warnings\n",
      "  warnings.warn(\n"
     ]
    },
    {
     "name": "stdout",
     "output_type": "stream",
     "text": [
      "SUCCESS - saved https://therecipecritic.com/wp-content/uploads/2018/04/pasta-carbonara-15-500x500.jpg - as ./images\\spaghetti_carbonara\\470a25ad44.jpg\n"
     ]
    },
    {
     "name": "stderr",
     "output_type": "stream",
     "text": [
      "C:\\Users\\mandeep.singh\\Anaconda3\\lib\\site-packages\\urllib3\\connectionpool.py:1013: InsecureRequestWarning: Unverified HTTPS request is being made to host 'encrypted-tbn0.gstatic.com'. Adding certificate verification is strongly advised. See: https://urllib3.readthedocs.io/en/latest/advanced-usage.html#ssl-warnings\n",
      "  warnings.warn(\n"
     ]
    },
    {
     "name": "stdout",
     "output_type": "stream",
     "text": [
      "SUCCESS - saved https://encrypted-tbn0.gstatic.com/images?q=tbn:ANd9GcS1yI6IbYA9_rSYg6lN3Ef3CZOR8exSKznK0A&usqp=CAU - as ./images\\spaghetti_carbonara\\4504480cbf.jpg\n"
     ]
    },
    {
     "name": "stderr",
     "output_type": "stream",
     "text": [
      "C:\\Users\\mandeep.singh\\Anaconda3\\lib\\site-packages\\urllib3\\connectionpool.py:1013: InsecureRequestWarning: Unverified HTTPS request is being made to host 'encrypted-tbn0.gstatic.com'. Adding certificate verification is strongly advised. See: https://urllib3.readthedocs.io/en/latest/advanced-usage.html#ssl-warnings\n",
      "  warnings.warn(\n"
     ]
    },
    {
     "name": "stdout",
     "output_type": "stream",
     "text": [
      "SUCCESS - saved https://encrypted-tbn0.gstatic.com/images?q=tbn:ANd9GcRAFJ1VdG1oCLBcItsifKMr17EVk_nhtNBidA&usqp=CAU - as ./images\\spaghetti_carbonara\\e8371355d3.jpg\n"
     ]
    },
    {
     "name": "stderr",
     "output_type": "stream",
     "text": [
      "C:\\Users\\mandeep.singh\\Anaconda3\\lib\\site-packages\\urllib3\\connectionpool.py:1013: InsecureRequestWarning: Unverified HTTPS request is being made to host 'encrypted-tbn0.gstatic.com'. Adding certificate verification is strongly advised. See: https://urllib3.readthedocs.io/en/latest/advanced-usage.html#ssl-warnings\n",
      "  warnings.warn(\n",
      "C:\\Users\\mandeep.singh\\Anaconda3\\lib\\site-packages\\urllib3\\connectionpool.py:1013: InsecureRequestWarning: Unverified HTTPS request is being made to host 'static.onecms.io'. Adding certificate verification is strongly advised. See: https://urllib3.readthedocs.io/en/latest/advanced-usage.html#ssl-warnings\n",
      "  warnings.warn(\n"
     ]
    },
    {
     "name": "stdout",
     "output_type": "stream",
     "text": [
      "SUCCESS - saved https://encrypted-tbn0.gstatic.com/images?q=tbn:ANd9GcTSEJk69IQhp1UijB2HHTlLYfF5nkCunEYbLA&usqp=CAU - as ./images\\spaghetti_carbonara\\72d66b23af.jpg\n",
      "SUCCESS - saved https://static.onecms.io/wp-content/uploads/sites/9/2020/06/09/Spring-Pea-and-Ham-Carbonara-FT-RECIPE0520-2000.jpg - as ./images\\spaghetti_carbonara\\0c8523143d.jpg\n"
     ]
    },
    {
     "name": "stderr",
     "output_type": "stream",
     "text": [
      "C:\\Users\\mandeep.singh\\Anaconda3\\lib\\site-packages\\urllib3\\connectionpool.py:1013: InsecureRequestWarning: Unverified HTTPS request is being made to host 'img-global.cpcdn.com'. Adding certificate verification is strongly advised. See: https://urllib3.readthedocs.io/en/latest/advanced-usage.html#ssl-warnings\n",
      "  warnings.warn(\n"
     ]
    },
    {
     "name": "stdout",
     "output_type": "stream",
     "text": [
      "SUCCESS - saved https://img-global.cpcdn.com/recipes/3837fddd7bd375b2/1200x630cq70/photo.jpg - as ./images\\spaghetti_carbonara\\cbf04c4446.jpg\n",
      "SUCCESS - saved https://www.seriouseats.com/thmb/Ah1Sdcypv9p55fWbf9B0L9nz9G4=/450x0/filters:no_upscale():max_bytes(150000):strip_icc()/__opt__aboutcom__coeus__resources__content_migration__serious_eats__seriouseats.com__recipes__images__2016__02__20151118-spaghetti-carbonara-vicky-wasik-27-5ed8e4c860c945f0a3c4315a25a7001b.jpg - as ./images\\spaghetti_carbonara\\f3ff28e508.jpg\n"
     ]
    },
    {
     "name": "stderr",
     "output_type": "stream",
     "text": [
      "C:\\Users\\mandeep.singh\\Anaconda3\\lib\\site-packages\\urllib3\\connectionpool.py:1013: InsecureRequestWarning: Unverified HTTPS request is being made to host 'www.seriouseats.com'. Adding certificate verification is strongly advised. See: https://urllib3.readthedocs.io/en/latest/advanced-usage.html#ssl-warnings\n",
      "  warnings.warn(\n",
      "C:\\Users\\mandeep.singh\\Anaconda3\\lib\\site-packages\\urllib3\\connectionpool.py:1013: InsecureRequestWarning: Unverified HTTPS request is being made to host 'www.thespruceeats.com'. Adding certificate verification is strongly advised. See: https://urllib3.readthedocs.io/en/latest/advanced-usage.html#ssl-warnings\n",
      "  warnings.warn(\n"
     ]
    },
    {
     "name": "stdout",
     "output_type": "stream",
     "text": [
      "SUCCESS - saved https://www.thespruceeats.com/thmb/sH36qo2xrBWTUwg7QpT1gd-HeD4=/910x910/smart/filters:no_upscale()/luscious-creamy-spaghetti-carbonara-recipe-995924-hero-5beaeb9cc9e77c0051329d5a.jpg - as ./images\\spaghetti_carbonara\\e7b4c8c110.jpg\n"
     ]
    },
    {
     "name": "stderr",
     "output_type": "stream",
     "text": [
      "C:\\Users\\mandeep.singh\\Anaconda3\\lib\\site-packages\\urllib3\\connectionpool.py:1013: InsecureRequestWarning: Unverified HTTPS request is being made to host 'encrypted-tbn0.gstatic.com'. Adding certificate verification is strongly advised. See: https://urllib3.readthedocs.io/en/latest/advanced-usage.html#ssl-warnings\n",
      "  warnings.warn(\n"
     ]
    },
    {
     "name": "stdout",
     "output_type": "stream",
     "text": [
      "SUCCESS - saved https://encrypted-tbn0.gstatic.com/images?q=tbn:ANd9GcQoSfJBEBhNqSF0UjcjGLfoDbN7ISEXerodSg&usqp=CAU - as ./images\\spaghetti_carbonara\\2bf9c41184.jpg\n",
      "SUCCESS - saved https://encrypted-tbn0.gstatic.com/images?q=tbn:ANd9GcTpVupcf2OiDeGSPihZ3T3YNLrnvodmaRMB1g&usqp=CAU - as ./images\\spaghetti_carbonara\\27171765c7.jpg\n"
     ]
    },
    {
     "name": "stderr",
     "output_type": "stream",
     "text": [
      "C:\\Users\\mandeep.singh\\Anaconda3\\lib\\site-packages\\urllib3\\connectionpool.py:1013: InsecureRequestWarning: Unverified HTTPS request is being made to host 'encrypted-tbn0.gstatic.com'. Adding certificate verification is strongly advised. See: https://urllib3.readthedocs.io/en/latest/advanced-usage.html#ssl-warnings\n",
      "  warnings.warn(\n",
      "C:\\Users\\mandeep.singh\\Anaconda3\\lib\\site-packages\\urllib3\\connectionpool.py:1013: InsecureRequestWarning: Unverified HTTPS request is being made to host 'encrypted-tbn0.gstatic.com'. Adding certificate verification is strongly advised. See: https://urllib3.readthedocs.io/en/latest/advanced-usage.html#ssl-warnings\n",
      "  warnings.warn(\n"
     ]
    },
    {
     "name": "stdout",
     "output_type": "stream",
     "text": [
      "SUCCESS - saved https://encrypted-tbn0.gstatic.com/images?q=tbn:ANd9GcSji-_OQEfHw7EgCWNA9UQ5WoBogRdwDaAgwg&usqp=CAU - as ./images\\spaghetti_carbonara\\4c70220d81.jpg\n"
     ]
    },
    {
     "name": "stderr",
     "output_type": "stream",
     "text": [
      "C:\\Users\\mandeep.singh\\Anaconda3\\lib\\site-packages\\urllib3\\connectionpool.py:1013: InsecureRequestWarning: Unverified HTTPS request is being made to host 'media-cldnry.s-nbcnews.com'. Adding certificate verification is strongly advised. See: https://urllib3.readthedocs.io/en/latest/advanced-usage.html#ssl-warnings\n",
      "  warnings.warn(\n"
     ]
    },
    {
     "name": "stdout",
     "output_type": "stream",
     "text": [
      "SUCCESS - saved https://media-cldnry.s-nbcnews.com/image/upload/t_social_share_1200x630_center,f_auto,q_auto:best/newscms/2019_38/1482363/heiskell-s-garlic-rosemary-spaghetti-carbonara-today-main-190916-001.jpg - as ./images\\spaghetti_carbonara\\6ab2a77311.jpg\n",
      "./images\\spring_rolls\n",
      "Found: 100 search results. Extracting links from 0:100\n",
      "Found: 100 image links, done!\n",
      "{'https://encrypted-tbn0.gstatic.com/images?q=tbn:ANd9GcR56UB9RQLR2AKWwT-3ugWw3GchHEPYb1HaHg&usqp=CAU', 'https://encrypted-tbn0.gstatic.com/images?q=tbn:ANd9GcSPB1IyVlrXIhWuwzGgzOoDuHfgP8T__uEYlQ&usqp=CAU', 'https://encrypted-tbn0.gstatic.com/images?q=tbn:ANd9GcQdl_JUVpht1uSdZUbvooRrdRuGoBh4fwGNNg&usqp=CAU', 'https://encrypted-tbn0.gstatic.com/images?q=tbn:ANd9GcTr12rFk3VPxTZtHLXiV1-Nh573GYeFgNo-yQ&usqp=CAU', 'https://cdn1.foodviva.com/static-content/food-images/chinese-recipes/vegetable-spring-rolls/vegetable-spring-rolls.jpg', 'https://encrypted-tbn0.gstatic.com/images?q=tbn:ANd9GcSbSKWU12A4MGclcYBqO-kMdH3-uhsWBE7UFg&usqp=CAU', 'https://5.imimg.com/data5/SH/YV/GLADMIN-63742111/chicken-spring-rolls-250x250.png', 'https://encrypted-tbn0.gstatic.com/images?q=tbn:ANd9GcSpPkQBtvFmuY6v0LeFsi7AKhTLkhNj7UvcRQ&usqp=CAU', 'https://3.imimg.com/data3/BS/SS/MY-3813772/veg-spring-roll-500x500.jpg', 'https://encrypted-tbn0.gstatic.com/images?q=tbn:ANd9GcRNYhqkd1tDiBQakZDGxuJcpTL_PsFY37v2cw&usqp=CAU', 'https://encrypted-tbn0.gstatic.com/images?q=tbn:ANd9GcRrkWjevaG6M-febidy-2VvXpHmJ5_CDVTfpQ&usqp=CAU', 'https://indianvegrecipe.com/wp-content/uploads/2020/01/spring-rolls-recipe-500x500.jpg', 'https://encrypted-tbn0.gstatic.com/images?q=tbn:ANd9GcQZVDTQybwF1HRI_CL4-qQqwTwhyXDjgUt91A&usqp=CAU', 'https://www.wikihow.com/images/thumb/3/3d/Make-Crispy-Vegetable-Spring-Rolls-Step-7-preview-Version-2.jpg/550px-nowatermark-Make-Crispy-Vegetable-Spring-Rolls-Step-7-preview-Version-2.jpg.webp', 'https://encrypted-tbn0.gstatic.com/images?q=tbn:ANd9GcRX05eozDrjMJJvIT0Do47FlaqTWMO5BToZ_Q&usqp=CAU', 'https://hips.hearstapps.com/hmg-prod.s3.amazonaws.com/images/wdy020121celebrate-003cd-1611087050.jpg?crop=1.00xw:0.668xh;0,0.149xh&resize=640:*', 'https://encrypted-tbn0.gstatic.com/images?q=tbn:ANd9GcQsLCHsTj4b5QwdVy5VSQ1oM5PKHqQASbg7cQ&usqp=CAU', 'https://encrypted-tbn0.gstatic.com/images?q=tbn:ANd9GcRpT_68tqJmELJY-Wr2w8ZahbGSue-JuRwr2g&usqp=CAU', 'https://encrypted-tbn0.gstatic.com/images?q=tbn:ANd9GcS1ypsB38xJSrennqWTw6pOTjayuaVJ36-Tmw&usqp=CAU', 'https://encrypted-tbn0.gstatic.com/images?q=tbn:ANd9GcRhSkQGmIvqsRnxMeY-fkMMmH4bTm0-UtoEYg&usqp=CAU', 'https://www.cubesnjuliennes.com/wp-content/uploads/2021/01/Spring-Roll-Recipe.jpg', 'https://encrypted-tbn0.gstatic.com/images?q=tbn:ANd9GcTLTiizbXAJAyAdH4UBf26EQRlwgd3ybg5HDQ&usqp=CAU', 'https://encrypted-tbn0.gstatic.com/images?q=tbn:ANd9GcQYB4PynQ2I-cCiZrHmMM7BL5TGF888YcT8yA&usqp=CAU', 'https://encrypted-tbn0.gstatic.com/images?q=tbn:ANd9GcQKtxfhR-RBdC7MljS7DP6xJWft8MB_-HgSJw&usqp=CAU', 'https://encrypted-tbn0.gstatic.com/images?q=tbn:ANd9GcQt28Sh11iAQ6ew-FFHak8WhguRC6dzNdYlZQ&usqp=CAU', 'https://encrypted-tbn0.gstatic.com/images?q=tbn:ANd9GcR4PLlbyjYJSis5H_z8ckQsu3csSOvZisebMg&usqp=CAU', 'https://food.fnr.sndimg.com/content/dam/images/food/fullset/2009/6/17/2/FNM080109LightenUp002_s4x3.jpg.rend.hgtvcom.616.462.suffix/1389046128635.jpeg', 'https://encrypted-tbn0.gstatic.com/images?q=tbn:ANd9GcRV9SEXYvX2q9D7ofjGoI46Qg2MlYO42v2UQA&usqp=CAU', 'https://encrypted-tbn0.gstatic.com/images?q=tbn:ANd9GcT6GLCIk0zb3lzSKVvDve40Np0ffW09358M6A&usqp=CAU', 'https://encrypted-tbn0.gstatic.com/images?q=tbn:ANd9GcSgbGywm6vPaNPIlO1keN_B1_yEHZSHlZFQEA&usqp=CAU', 'https://nishkitchen.com/wp-content/uploads/2018/08/Chicken-spring-roll-1B-480x270.jpg', 'https://cdn3.tmbi.com/toh/GoogleImagesPostCard/Asian-Spring-Rolls_exps29721_CM2043886D08_16_6bC_RMS.jpg', 'https://encrypted-tbn0.gstatic.com/images?q=tbn:ANd9GcSJs_OeMs9QyaPm07AbiSPPB252AbnZ8N9uog&usqp=CAU', 'https://encrypted-tbn0.gstatic.com/images?q=tbn:ANd9GcTis5lJwELbvgao-7FFVJ5Dcx3P25LQoHkt8Q&usqp=CAU', 'https://encrypted-tbn0.gstatic.com/images?q=tbn:ANd9GcQ8G3nlhTCWV9S4wUI5WVAnjTLzFpZN_7Swwg&usqp=CAU', 'https://encrypted-tbn0.gstatic.com/images?q=tbn:ANd9GcTOdlUSmyNse5pROOnLHcVzIlK3bTG1dVpaTA&usqp=CAU', 'https://encrypted-tbn0.gstatic.com/images?q=tbn:ANd9GcRusk5QWXWaOeK7SyZOjX2yZ-JlKByG5CEawA&usqp=CAU', 'https://encrypted-tbn0.gstatic.com/images?q=tbn:ANd9GcT_WZ7h_AwdpiDd6vN19nUPioOBXJ7HtyXi_Q&usqp=CAU', 'https://encrypted-tbn0.gstatic.com/images?q=tbn:ANd9GcQverdAG4n1l2vnz1S1UaYUisxdQXSLoW1V5Q&usqp=CAU', 'https://i.ytimg.com/vi/WOLutexcmok/maxresdefault.jpg', 'https://encrypted-tbn0.gstatic.com/images?q=tbn:ANd9GcSIpKiCIvi0Oru2wRVJNxS1O11jZh0YCRDjdg&usqp=CAU', 'https://encrypted-tbn0.gstatic.com/images?q=tbn:ANd9GcTY9eMG0xJXgLXFS5P5o59oHaobc5twaGXkUA&usqp=CAU', 'https://encrypted-tbn0.gstatic.com/images?q=tbn:ANd9GcQ4rPOHmWVuFgG3awjg5uW-6LWgmCS-_Y0EyQ&usqp=CAU', 'https://encrypted-tbn0.gstatic.com/images?q=tbn:ANd9GcSvXLYo0fOdUCFvJbvOOhdF9_D6czxvPN0LdQ&usqp=CAU', 'https://encrypted-tbn0.gstatic.com/images?q=tbn:ANd9GcSisDv5Xa9JmARoNS2X1La9m-9H219hu4uYvA&usqp=CAU', 'https://encrypted-tbn0.gstatic.com/images?q=tbn:ANd9GcRop0Jhaihz2Gn4nKsJXQiyEQM4CYTOZLLuHw&usqp=CAU', 'https://dinnerthendessert.com/wp-content/uploads/2018/08/Spring-Rolls.jpg', 'https://encrypted-tbn0.gstatic.com/images?q=tbn:ANd9GcSAVxAQsAxYAm7YCXjj3i6bHS-FCUivbTuUJA&usqp=CAU', 'https://images.media-allrecipes.com/userphotos/661622.jpg', 'https://www.bigbasket.com/media/uploads/p/xxl/40085937_4-tasty-fresh-frozen-veg-spring-roll.jpg', 'https://encrypted-tbn0.gstatic.com/images?q=tbn:ANd9GcQ8_AGyyH0qlUgxwkc1mzGrntfLUq67M0u5Sw&usqp=CAU', 'https://encrypted-tbn0.gstatic.com/images?q=tbn:ANd9GcTCVrLYiWqavX-hZbpy3RjjKcEr60FhTHSRUA&usqp=CAU', 'https://encrypted-tbn0.gstatic.com/images?q=tbn:ANd9GcQCi30x-feptJjnL36yqTqf1f3gDat-iNPZdw&usqp=CAU', 'https://encrypted-tbn0.gstatic.com/images?q=tbn:ANd9GcQGVy1VU1h4E9vHTS3RmXB9rTKmA0JG8PMQhg&usqp=CAU', 'https://encrypted-tbn0.gstatic.com/images?q=tbn:ANd9GcTvc6MVudAPFvD1AiLLvryukTln-pjiuZL7Ow&usqp=CAU', 'https://encrypted-tbn0.gstatic.com/images?q=tbn:ANd9GcSbwjPiZSmmk4LRGvrFbv8yB9PZwIO23zEB7w&usqp=CAU', 'https://encrypted-tbn0.gstatic.com/images?q=tbn:ANd9GcTL-jlR-ANfVBagg5EhkAChznM3dnYsEmBTNQ&usqp=CAU', 'https://cookieandkate.com/images/2019/08/fresh-spring-rolls-recipe-4.jpg', 'https://encrypted-tbn0.gstatic.com/images?q=tbn:ANd9GcRsuCv9QDlCKdFNt657Zmbv5uyU4gIGdTsSdQ&usqp=CAU', 'https://encrypted-tbn0.gstatic.com/images?q=tbn:ANd9GcToGZMdH13doGvOcIVyQ54UaxqHUl_x2lc3Ww&usqp=CAU', 'https://encrypted-tbn0.gstatic.com/images?q=tbn:ANd9GcSGt7S2MkbsNsvNY-fNCCLPKsRKKT19dxShtQ&usqp=CAU', 'https://media-cdn.tripadvisor.com/media/photo-s/07/63/14/77/nooba.jpg', 'https://encrypted-tbn0.gstatic.com/images?q=tbn:ANd9GcR_8ce6Ta0MVDB59SdfbRpQUoy71NDmmrGgzQ&usqp=CAU', 'https://www.recipetineats.com/wp-content/uploads/2017/09/Spring-Rolls-6.jpg', 'https://encrypted-tbn0.gstatic.com/images?q=tbn:ANd9GcQy1QRFJpYDYDAHViNga2fwFR6cZd20gF3nyA&usqp=CAU', 'https://encrypted-tbn0.gstatic.com/images?q=tbn:ANd9GcSRJ5kSlVqJ8dUgwHfxsRIiiwHbB4RP-6PNUQ&usqp=CAU', 'https://encrypted-tbn0.gstatic.com/images?q=tbn:ANd9GcRSssNSIYsjt5hZCH03_cNc4oYtAALju1Ygcg&usqp=CAU', 'https://encrypted-tbn0.gstatic.com/images?q=tbn:ANd9GcTSdVsNvt1oMFAvbytBtF4QkqfPF3YEAZMTrQ&usqp=CAU', 'https://encrypted-tbn0.gstatic.com/images?q=tbn:ANd9GcRXATRfegyNWL7Y-2F7MPFGmdLCrIbm8jKB2Q&usqp=CAU', 'https://encrypted-tbn0.gstatic.com/images?q=tbn:ANd9GcTT2MSFT3ULQIRIgKUXI_Z_PdAc3W9CewpmfA&usqp=CAU', 'https://encrypted-tbn0.gstatic.com/images?q=tbn:ANd9GcRxMUXyHopW45qJFiHRJsUiTU1ktZxmS5D2Vw&usqp=CAU', 'https://thewoksoflife.com/wp-content/uploads/2015/09/spring-rolls-8-1-500x411.jpg', 'https://encrypted-tbn0.gstatic.com/images?q=tbn:ANd9GcRSAxDCiseTY-K1LtrOs7fn5Ki2dunp0xWJrA&usqp=CAU', 'https://www.spiceupthecurry.com/wp-content/uploads/2017/04/spring-rolls-recipe-14-500x500.jpg', 'https://encrypted-tbn0.gstatic.com/images?q=tbn:ANd9GcQ0jGcoP5VQKHrBu90fgRoR57GBGwWC7l83FQ&usqp=CAU', 'https://www.spoonforkbacon.com/wp-content/uploads/2019/03/fresh_shiitaki_spring_rolls.jpg', 'https://encrypted-tbn0.gstatic.com/images?q=tbn:ANd9GcQUia_HCmUsP6Q4qCfYmw_fKKkeIMUJ5SNQzA&usqp=CAU', 'https://rasamalaysia.com/wp-content/uploads/2019/04/spring-rolls-thumb-new.jpg', 'https://www.vegrecipesofindia.com/wp-content/uploads/2018/10/veg-spring-rolls-recipe-1-500x500.jpg', 'https://encrypted-tbn0.gstatic.com/images?q=tbn:ANd9GcSbufXmq3jgR0WM1Pmjj9Yti_V96UHhXsOYvA&usqp=CAU', 'https://encrypted-tbn0.gstatic.com/images?q=tbn:ANd9GcSghNC-8_k2RmUXXU-jOh3r5ZM8Pwva7-TT0g&usqp=CAU', 'https://www.thespruceeats.com/thmb/LJ4GPPQORPKbJuXmo0BQHw2ILqo=/3264x3264/smart/filters:no_upscale()/fresh-spring-rolls-174751621-5ac82923a18d9e00379ccc96.jpg', 'https://encrypted-tbn0.gstatic.com/images?q=tbn:ANd9GcSyYoTbbMVsJh3RPsJTBtWKyz0mdX6mXzelpg&usqp=CAU', 'https://www.thespruceeats.com/thmb/y2tRCgYpPT7XyPf78FPjgsCcGJ0=/3000x2000/filters:fill(auto,1)/chinese-pork-spring-rolls-694530-9af6170dd2294b19b30ca4115a1a58ae.jpg', 'https://encrypted-tbn0.gstatic.com/images?q=tbn:ANd9GcSMZ7pXLPTyQWSAUmOLMoRqkCKVRrm01lJ8og&usqp=CAU', 'https://encrypted-tbn0.gstatic.com/images?q=tbn:ANd9GcS14yWylGVrF0jJ5jV9bj2a-OUHB_jxEomHoQ&usqp=CAU', 'https://encrypted-tbn0.gstatic.com/images?q=tbn:ANd9GcTX6pb4hA5z5mF1PXNg4oWzfJztNIvvVFM3LA&usqp=CAU', 'https://encrypted-tbn0.gstatic.com/images?q=tbn:ANd9GcQT6gZzdkaS7hJ4fBWaL06dTuSbBAV1MTJKiA&usqp=CAU', 'https://encrypted-tbn0.gstatic.com/images?q=tbn:ANd9GcT0zeEK48wQfqxYT1S1f0F4xHCbUKALBUi1vQ&usqp=CAU', 'https://encrypted-tbn0.gstatic.com/images?q=tbn:ANd9GcQkN4UwrgqjDAx233wdpzcL55-WT_7j8IpV8w&usqp=CAU', 'https://encrypted-tbn0.gstatic.com/images?q=tbn:ANd9GcRzBMZtVrFqMMuva_eYMGlNMQNwb12D-QHC5g&usqp=CAU', 'https://encrypted-tbn0.gstatic.com/images?q=tbn:ANd9GcR_JQxIGSwSfr6DU3yCiIJolwP4aO3K3NA9tQ&usqp=CAU', 'https://img-global.cpcdn.com/recipes/7f5bc852152b4506/1200x630cq70/photo.jpg', 'https://encrypted-tbn0.gstatic.com/images?q=tbn:ANd9GcQ_meUQDNm0N4c0tb_0nbUM6u07z8DWljWs3Q&usqp=CAU', 'https://encrypted-tbn0.gstatic.com/images?q=tbn:ANd9GcS-oHCAVmsTFZmD-j2jAZIDZe-fwjdyL6oyWg&usqp=CAU', 'https://encrypted-tbn0.gstatic.com/images?q=tbn:ANd9GcRQ4x6oGm_Vvs_jDyqbKd0tLhM38tkX1Q2BFQ&usqp=CAU', 'https://encrypted-tbn0.gstatic.com/images?q=tbn:ANd9GcRkZnH3g1uMwJDNFoWdGCRpGnT37XjkHVuZmQ&usqp=CAU', 'https://encrypted-tbn0.gstatic.com/images?q=tbn:ANd9GcQAJcD5Fj35Aenm9VunMMhrzPK1vehok3olCg&usqp=CAU', 'https://encrypted-tbn0.gstatic.com/images?q=tbn:ANd9GcQHE2d7Dy90A_x-uqq_QGXMu3tpPwV44-L_Ig&usqp=CAU', 'https://encrypted-tbn0.gstatic.com/images?q=tbn:ANd9GcSXnJFcCZqu2aJDywnvHffwMElYcnXIZTAzug&usqp=CAU'}\n"
     ]
    },
    {
     "name": "stderr",
     "output_type": "stream",
     "text": [
      "C:\\Users\\mandeep.singh\\Anaconda3\\lib\\site-packages\\urllib3\\connectionpool.py:1013: InsecureRequestWarning: Unverified HTTPS request is being made to host 'encrypted-tbn0.gstatic.com'. Adding certificate verification is strongly advised. See: https://urllib3.readthedocs.io/en/latest/advanced-usage.html#ssl-warnings\n",
      "  warnings.warn(\n",
      "C:\\Users\\mandeep.singh\\Anaconda3\\lib\\site-packages\\urllib3\\connectionpool.py:1013: InsecureRequestWarning: Unverified HTTPS request is being made to host 'encrypted-tbn0.gstatic.com'. Adding certificate verification is strongly advised. See: https://urllib3.readthedocs.io/en/latest/advanced-usage.html#ssl-warnings\n",
      "  warnings.warn(\n"
     ]
    },
    {
     "name": "stdout",
     "output_type": "stream",
     "text": [
      "SUCCESS - saved https://encrypted-tbn0.gstatic.com/images?q=tbn:ANd9GcR56UB9RQLR2AKWwT-3ugWw3GchHEPYb1HaHg&usqp=CAU - as ./images\\spring_rolls\\ac589e46e8.jpg\n",
      "SUCCESS - saved https://encrypted-tbn0.gstatic.com/images?q=tbn:ANd9GcSPB1IyVlrXIhWuwzGgzOoDuHfgP8T__uEYlQ&usqp=CAU - as ./images\\spring_rolls\\5581eacf19.jpg\n"
     ]
    },
    {
     "name": "stderr",
     "output_type": "stream",
     "text": [
      "C:\\Users\\mandeep.singh\\Anaconda3\\lib\\site-packages\\urllib3\\connectionpool.py:1013: InsecureRequestWarning: Unverified HTTPS request is being made to host 'encrypted-tbn0.gstatic.com'. Adding certificate verification is strongly advised. See: https://urllib3.readthedocs.io/en/latest/advanced-usage.html#ssl-warnings\n",
      "  warnings.warn(\n",
      "C:\\Users\\mandeep.singh\\Anaconda3\\lib\\site-packages\\urllib3\\connectionpool.py:1013: InsecureRequestWarning: Unverified HTTPS request is being made to host 'encrypted-tbn0.gstatic.com'. Adding certificate verification is strongly advised. See: https://urllib3.readthedocs.io/en/latest/advanced-usage.html#ssl-warnings\n",
      "  warnings.warn(\n"
     ]
    },
    {
     "name": "stdout",
     "output_type": "stream",
     "text": [
      "SUCCESS - saved https://encrypted-tbn0.gstatic.com/images?q=tbn:ANd9GcQdl_JUVpht1uSdZUbvooRrdRuGoBh4fwGNNg&usqp=CAU - as ./images\\spring_rolls\\7e30f5476d.jpg\n",
      "SUCCESS - saved https://encrypted-tbn0.gstatic.com/images?q=tbn:ANd9GcTr12rFk3VPxTZtHLXiV1-Nh573GYeFgNo-yQ&usqp=CAU - as ./images\\spring_rolls\\17de607be2.jpg\n"
     ]
    },
    {
     "name": "stderr",
     "output_type": "stream",
     "text": [
      "C:\\Users\\mandeep.singh\\Anaconda3\\lib\\site-packages\\urllib3\\connectionpool.py:1013: InsecureRequestWarning: Unverified HTTPS request is being made to host 'cdn1.foodviva.com'. Adding certificate verification is strongly advised. See: https://urllib3.readthedocs.io/en/latest/advanced-usage.html#ssl-warnings\n",
      "  warnings.warn(\n",
      "C:\\Users\\mandeep.singh\\Anaconda3\\lib\\site-packages\\urllib3\\connectionpool.py:1013: InsecureRequestWarning: Unverified HTTPS request is being made to host 'encrypted-tbn0.gstatic.com'. Adding certificate verification is strongly advised. See: https://urllib3.readthedocs.io/en/latest/advanced-usage.html#ssl-warnings\n",
      "  warnings.warn(\n"
     ]
    },
    {
     "name": "stdout",
     "output_type": "stream",
     "text": [
      "SUCCESS - saved https://cdn1.foodviva.com/static-content/food-images/chinese-recipes/vegetable-spring-rolls/vegetable-spring-rolls.jpg - as ./images\\spring_rolls\\3b9d88b361.jpg\n",
      "SUCCESS - saved https://encrypted-tbn0.gstatic.com/images?q=tbn:ANd9GcSbSKWU12A4MGclcYBqO-kMdH3-uhsWBE7UFg&usqp=CAU - as ./images\\spring_rolls\\795ce2817c.jpg\n"
     ]
    },
    {
     "name": "stderr",
     "output_type": "stream",
     "text": [
      "C:\\Users\\mandeep.singh\\Anaconda3\\lib\\site-packages\\urllib3\\connectionpool.py:1013: InsecureRequestWarning: Unverified HTTPS request is being made to host '5.imimg.com'. Adding certificate verification is strongly advised. See: https://urllib3.readthedocs.io/en/latest/advanced-usage.html#ssl-warnings\n",
      "  warnings.warn(\n",
      "C:\\Users\\mandeep.singh\\Anaconda3\\lib\\site-packages\\urllib3\\connectionpool.py:1013: InsecureRequestWarning: Unverified HTTPS request is being made to host 'encrypted-tbn0.gstatic.com'. Adding certificate verification is strongly advised. See: https://urllib3.readthedocs.io/en/latest/advanced-usage.html#ssl-warnings\n",
      "  warnings.warn(\n"
     ]
    },
    {
     "name": "stdout",
     "output_type": "stream",
     "text": [
      "SUCCESS - saved https://5.imimg.com/data5/SH/YV/GLADMIN-63742111/chicken-spring-rolls-250x250.png - as ./images\\spring_rolls\\cb49901fe3.jpg\n",
      "SUCCESS - saved https://encrypted-tbn0.gstatic.com/images?q=tbn:ANd9GcSpPkQBtvFmuY6v0LeFsi7AKhTLkhNj7UvcRQ&usqp=CAU - as ./images\\spring_rolls\\d0eab57115.jpg\n"
     ]
    },
    {
     "name": "stderr",
     "output_type": "stream",
     "text": [
      "C:\\Users\\mandeep.singh\\Anaconda3\\lib\\site-packages\\urllib3\\connectionpool.py:1013: InsecureRequestWarning: Unverified HTTPS request is being made to host '3.imimg.com'. Adding certificate verification is strongly advised. See: https://urllib3.readthedocs.io/en/latest/advanced-usage.html#ssl-warnings\n",
      "  warnings.warn(\n",
      "C:\\Users\\mandeep.singh\\Anaconda3\\lib\\site-packages\\urllib3\\connectionpool.py:1013: InsecureRequestWarning: Unverified HTTPS request is being made to host 'encrypted-tbn0.gstatic.com'. Adding certificate verification is strongly advised. See: https://urllib3.readthedocs.io/en/latest/advanced-usage.html#ssl-warnings\n",
      "  warnings.warn(\n"
     ]
    },
    {
     "name": "stdout",
     "output_type": "stream",
     "text": [
      "SUCCESS - saved https://3.imimg.com/data3/BS/SS/MY-3813772/veg-spring-roll-500x500.jpg - as ./images\\spring_rolls\\b7511d83da.jpg\n",
      "SUCCESS - saved https://encrypted-tbn0.gstatic.com/images?q=tbn:ANd9GcRNYhqkd1tDiBQakZDGxuJcpTL_PsFY37v2cw&usqp=CAU - as ./images\\spring_rolls\\8f69f5c623.jpg\n"
     ]
    },
    {
     "name": "stderr",
     "output_type": "stream",
     "text": [
      "C:\\Users\\mandeep.singh\\Anaconda3\\lib\\site-packages\\urllib3\\connectionpool.py:1013: InsecureRequestWarning: Unverified HTTPS request is being made to host 'encrypted-tbn0.gstatic.com'. Adding certificate verification is strongly advised. See: https://urllib3.readthedocs.io/en/latest/advanced-usage.html#ssl-warnings\n",
      "  warnings.warn(\n"
     ]
    },
    {
     "name": "stdout",
     "output_type": "stream",
     "text": [
      "SUCCESS - saved https://encrypted-tbn0.gstatic.com/images?q=tbn:ANd9GcRrkWjevaG6M-febidy-2VvXpHmJ5_CDVTfpQ&usqp=CAU - as ./images\\spring_rolls\\210eaabec0.jpg\n"
     ]
    },
    {
     "name": "stderr",
     "output_type": "stream",
     "text": [
      "C:\\Users\\mandeep.singh\\Anaconda3\\lib\\site-packages\\urllib3\\connectionpool.py:1013: InsecureRequestWarning: Unverified HTTPS request is being made to host 'indianvegrecipe.com'. Adding certificate verification is strongly advised. See: https://urllib3.readthedocs.io/en/latest/advanced-usage.html#ssl-warnings\n",
      "  warnings.warn(\n"
     ]
    },
    {
     "name": "stdout",
     "output_type": "stream",
     "text": [
      "SUCCESS - saved https://indianvegrecipe.com/wp-content/uploads/2020/01/spring-rolls-recipe-500x500.jpg - as ./images\\spring_rolls\\4cbbb34dc2.jpg\n",
      "SUCCESS - saved https://encrypted-tbn0.gstatic.com/images?q=tbn:ANd9GcQZVDTQybwF1HRI_CL4-qQqwTwhyXDjgUt91A&usqp=CAU - as ./images\\spring_rolls\\0c6fe76781.jpg\n"
     ]
    },
    {
     "name": "stderr",
     "output_type": "stream",
     "text": [
      "C:\\Users\\mandeep.singh\\Anaconda3\\lib\\site-packages\\urllib3\\connectionpool.py:1013: InsecureRequestWarning: Unverified HTTPS request is being made to host 'encrypted-tbn0.gstatic.com'. Adding certificate verification is strongly advised. See: https://urllib3.readthedocs.io/en/latest/advanced-usage.html#ssl-warnings\n",
      "  warnings.warn(\n",
      "C:\\Users\\mandeep.singh\\Anaconda3\\lib\\site-packages\\urllib3\\connectionpool.py:1013: InsecureRequestWarning: Unverified HTTPS request is being made to host 'www.wikihow.com'. Adding certificate verification is strongly advised. See: https://urllib3.readthedocs.io/en/latest/advanced-usage.html#ssl-warnings\n",
      "  warnings.warn(\n",
      "C:\\Users\\mandeep.singh\\Anaconda3\\lib\\site-packages\\urllib3\\connectionpool.py:1013: InsecureRequestWarning: Unverified HTTPS request is being made to host 'encrypted-tbn0.gstatic.com'. Adding certificate verification is strongly advised. See: https://urllib3.readthedocs.io/en/latest/advanced-usage.html#ssl-warnings\n",
      "  warnings.warn(\n"
     ]
    },
    {
     "name": "stdout",
     "output_type": "stream",
     "text": [
      "ERROR - Could not save https://www.wikihow.com/images/thumb/3/3d/Make-Crispy-Vegetable-Spring-Rolls-Step-7-preview-Version-2.jpg/550px-nowatermark-Make-Crispy-Vegetable-Spring-Rolls-Step-7-preview-Version-2.jpg.webp - cannot identify image file <_io.BytesIO object at 0x0000024D6D335950>\n",
      "SUCCESS - saved https://encrypted-tbn0.gstatic.com/images?q=tbn:ANd9GcRX05eozDrjMJJvIT0Do47FlaqTWMO5BToZ_Q&usqp=CAU - as ./images\\spring_rolls\\cf98060a24.jpg\n"
     ]
    },
    {
     "name": "stderr",
     "output_type": "stream",
     "text": [
      "C:\\Users\\mandeep.singh\\Anaconda3\\lib\\site-packages\\urllib3\\connectionpool.py:1013: InsecureRequestWarning: Unverified HTTPS request is being made to host 'hips.hearstapps.com'. Adding certificate verification is strongly advised. See: https://urllib3.readthedocs.io/en/latest/advanced-usage.html#ssl-warnings\n",
      "  warnings.warn(\n"
     ]
    },
    {
     "name": "stdout",
     "output_type": "stream",
     "text": [
      "SUCCESS - saved https://hips.hearstapps.com/hmg-prod.s3.amazonaws.com/images/wdy020121celebrate-003cd-1611087050.jpg?crop=1.00xw:0.668xh;0,0.149xh&resize=640:* - as ./images\\spring_rolls\\1e00e8f756.jpg\n"
     ]
    },
    {
     "name": "stderr",
     "output_type": "stream",
     "text": [
      "C:\\Users\\mandeep.singh\\Anaconda3\\lib\\site-packages\\urllib3\\connectionpool.py:1013: InsecureRequestWarning: Unverified HTTPS request is being made to host 'encrypted-tbn0.gstatic.com'. Adding certificate verification is strongly advised. See: https://urllib3.readthedocs.io/en/latest/advanced-usage.html#ssl-warnings\n",
      "  warnings.warn(\n",
      "C:\\Users\\mandeep.singh\\Anaconda3\\lib\\site-packages\\urllib3\\connectionpool.py:1013: InsecureRequestWarning: Unverified HTTPS request is being made to host 'encrypted-tbn0.gstatic.com'. Adding certificate verification is strongly advised. See: https://urllib3.readthedocs.io/en/latest/advanced-usage.html#ssl-warnings\n",
      "  warnings.warn(\n"
     ]
    },
    {
     "name": "stdout",
     "output_type": "stream",
     "text": [
      "SUCCESS - saved https://encrypted-tbn0.gstatic.com/images?q=tbn:ANd9GcQsLCHsTj4b5QwdVy5VSQ1oM5PKHqQASbg7cQ&usqp=CAU - as ./images\\spring_rolls\\464a14aefd.jpg\n",
      "SUCCESS - saved https://encrypted-tbn0.gstatic.com/images?q=tbn:ANd9GcRpT_68tqJmELJY-Wr2w8ZahbGSue-JuRwr2g&usqp=CAU - as ./images\\spring_rolls\\226be26325.jpg\n"
     ]
    },
    {
     "name": "stderr",
     "output_type": "stream",
     "text": [
      "C:\\Users\\mandeep.singh\\Anaconda3\\lib\\site-packages\\urllib3\\connectionpool.py:1013: InsecureRequestWarning: Unverified HTTPS request is being made to host 'encrypted-tbn0.gstatic.com'. Adding certificate verification is strongly advised. See: https://urllib3.readthedocs.io/en/latest/advanced-usage.html#ssl-warnings\n",
      "  warnings.warn(\n",
      "C:\\Users\\mandeep.singh\\Anaconda3\\lib\\site-packages\\urllib3\\connectionpool.py:1013: InsecureRequestWarning: Unverified HTTPS request is being made to host 'encrypted-tbn0.gstatic.com'. Adding certificate verification is strongly advised. See: https://urllib3.readthedocs.io/en/latest/advanced-usage.html#ssl-warnings\n",
      "  warnings.warn(\n"
     ]
    },
    {
     "name": "stdout",
     "output_type": "stream",
     "text": [
      "SUCCESS - saved https://encrypted-tbn0.gstatic.com/images?q=tbn:ANd9GcS1ypsB38xJSrennqWTw6pOTjayuaVJ36-Tmw&usqp=CAU - as ./images\\spring_rolls\\bc7a44f134.jpg\n",
      "SUCCESS - saved https://encrypted-tbn0.gstatic.com/images?q=tbn:ANd9GcRhSkQGmIvqsRnxMeY-fkMMmH4bTm0-UtoEYg&usqp=CAU - as ./images\\spring_rolls\\1c19dbf19b.jpg\n"
     ]
    },
    {
     "name": "stderr",
     "output_type": "stream",
     "text": [
      "C:\\Users\\mandeep.singh\\Anaconda3\\lib\\site-packages\\urllib3\\connectionpool.py:1013: InsecureRequestWarning: Unverified HTTPS request is being made to host 'www.cubesnjuliennes.com'. Adding certificate verification is strongly advised. See: https://urllib3.readthedocs.io/en/latest/advanced-usage.html#ssl-warnings\n",
      "  warnings.warn(\n"
     ]
    },
    {
     "name": "stdout",
     "output_type": "stream",
     "text": [
      "SUCCESS - saved https://www.cubesnjuliennes.com/wp-content/uploads/2021/01/Spring-Roll-Recipe.jpg - as ./images\\spring_rolls\\c7c6d907c3.jpg\n"
     ]
    },
    {
     "name": "stderr",
     "output_type": "stream",
     "text": [
      "C:\\Users\\mandeep.singh\\Anaconda3\\lib\\site-packages\\urllib3\\connectionpool.py:1013: InsecureRequestWarning: Unverified HTTPS request is being made to host 'encrypted-tbn0.gstatic.com'. Adding certificate verification is strongly advised. See: https://urllib3.readthedocs.io/en/latest/advanced-usage.html#ssl-warnings\n",
      "  warnings.warn(\n"
     ]
    },
    {
     "name": "stdout",
     "output_type": "stream",
     "text": [
      "SUCCESS - saved https://encrypted-tbn0.gstatic.com/images?q=tbn:ANd9GcTLTiizbXAJAyAdH4UBf26EQRlwgd3ybg5HDQ&usqp=CAU - as ./images\\spring_rolls\\6d1f4037d0.jpg\n",
      "SUCCESS - saved https://encrypted-tbn0.gstatic.com/images?q=tbn:ANd9GcQYB4PynQ2I-cCiZrHmMM7BL5TGF888YcT8yA&usqp=CAU - as ./images\\spring_rolls\\118667dd16.jpg\n"
     ]
    },
    {
     "name": "stderr",
     "output_type": "stream",
     "text": [
      "C:\\Users\\mandeep.singh\\Anaconda3\\lib\\site-packages\\urllib3\\connectionpool.py:1013: InsecureRequestWarning: Unverified HTTPS request is being made to host 'encrypted-tbn0.gstatic.com'. Adding certificate verification is strongly advised. See: https://urllib3.readthedocs.io/en/latest/advanced-usage.html#ssl-warnings\n",
      "  warnings.warn(\n",
      "C:\\Users\\mandeep.singh\\Anaconda3\\lib\\site-packages\\urllib3\\connectionpool.py:1013: InsecureRequestWarning: Unverified HTTPS request is being made to host 'encrypted-tbn0.gstatic.com'. Adding certificate verification is strongly advised. See: https://urllib3.readthedocs.io/en/latest/advanced-usage.html#ssl-warnings\n",
      "  warnings.warn(\n"
     ]
    },
    {
     "name": "stdout",
     "output_type": "stream",
     "text": [
      "SUCCESS - saved https://encrypted-tbn0.gstatic.com/images?q=tbn:ANd9GcQKtxfhR-RBdC7MljS7DP6xJWft8MB_-HgSJw&usqp=CAU - as ./images\\spring_rolls\\cb4641e39b.jpg\n",
      "SUCCESS - saved https://encrypted-tbn0.gstatic.com/images?q=tbn:ANd9GcQt28Sh11iAQ6ew-FFHak8WhguRC6dzNdYlZQ&usqp=CAU - as ./images\\spring_rolls\\e465a91f2b.jpg\n"
     ]
    },
    {
     "name": "stderr",
     "output_type": "stream",
     "text": [
      "C:\\Users\\mandeep.singh\\Anaconda3\\lib\\site-packages\\urllib3\\connectionpool.py:1013: InsecureRequestWarning: Unverified HTTPS request is being made to host 'encrypted-tbn0.gstatic.com'. Adding certificate verification is strongly advised. See: https://urllib3.readthedocs.io/en/latest/advanced-usage.html#ssl-warnings\n",
      "  warnings.warn(\n",
      "C:\\Users\\mandeep.singh\\Anaconda3\\lib\\site-packages\\urllib3\\connectionpool.py:1013: InsecureRequestWarning: Unverified HTTPS request is being made to host 'encrypted-tbn0.gstatic.com'. Adding certificate verification is strongly advised. See: https://urllib3.readthedocs.io/en/latest/advanced-usage.html#ssl-warnings\n",
      "  warnings.warn(\n"
     ]
    },
    {
     "name": "stdout",
     "output_type": "stream",
     "text": [
      "SUCCESS - saved https://encrypted-tbn0.gstatic.com/images?q=tbn:ANd9GcR4PLlbyjYJSis5H_z8ckQsu3csSOvZisebMg&usqp=CAU - as ./images\\spring_rolls\\c59ae95252.jpg\n"
     ]
    },
    {
     "name": "stderr",
     "output_type": "stream",
     "text": [
      "C:\\Users\\mandeep.singh\\Anaconda3\\lib\\site-packages\\urllib3\\connectionpool.py:1013: InsecureRequestWarning: Unverified HTTPS request is being made to host 'food.fnr.sndimg.com'. Adding certificate verification is strongly advised. See: https://urllib3.readthedocs.io/en/latest/advanced-usage.html#ssl-warnings\n",
      "  warnings.warn(\n",
      "C:\\Users\\mandeep.singh\\Anaconda3\\lib\\site-packages\\urllib3\\connectionpool.py:1013: InsecureRequestWarning: Unverified HTTPS request is being made to host 'encrypted-tbn0.gstatic.com'. Adding certificate verification is strongly advised. See: https://urllib3.readthedocs.io/en/latest/advanced-usage.html#ssl-warnings\n",
      "  warnings.warn(\n"
     ]
    },
    {
     "name": "stdout",
     "output_type": "stream",
     "text": [
      "SUCCESS - saved https://food.fnr.sndimg.com/content/dam/images/food/fullset/2009/6/17/2/FNM080109LightenUp002_s4x3.jpg.rend.hgtvcom.616.462.suffix/1389046128635.jpeg - as ./images\\spring_rolls\\85f2f39a6e.jpg\n",
      "SUCCESS - saved https://encrypted-tbn0.gstatic.com/images?q=tbn:ANd9GcRV9SEXYvX2q9D7ofjGoI46Qg2MlYO42v2UQA&usqp=CAU - as ./images\\spring_rolls\\704df0f148.jpg\n"
     ]
    },
    {
     "name": "stderr",
     "output_type": "stream",
     "text": [
      "C:\\Users\\mandeep.singh\\Anaconda3\\lib\\site-packages\\urllib3\\connectionpool.py:1013: InsecureRequestWarning: Unverified HTTPS request is being made to host 'encrypted-tbn0.gstatic.com'. Adding certificate verification is strongly advised. See: https://urllib3.readthedocs.io/en/latest/advanced-usage.html#ssl-warnings\n",
      "  warnings.warn(\n"
     ]
    },
    {
     "name": "stdout",
     "output_type": "stream",
     "text": [
      "SUCCESS - saved https://encrypted-tbn0.gstatic.com/images?q=tbn:ANd9GcT6GLCIk0zb3lzSKVvDve40Np0ffW09358M6A&usqp=CAU - as ./images\\spring_rolls\\fdf16284b4.jpg\n"
     ]
    },
    {
     "name": "stderr",
     "output_type": "stream",
     "text": [
      "C:\\Users\\mandeep.singh\\Anaconda3\\lib\\site-packages\\urllib3\\connectionpool.py:1013: InsecureRequestWarning: Unverified HTTPS request is being made to host 'encrypted-tbn0.gstatic.com'. Adding certificate verification is strongly advised. See: https://urllib3.readthedocs.io/en/latest/advanced-usage.html#ssl-warnings\n",
      "  warnings.warn(\n"
     ]
    },
    {
     "name": "stdout",
     "output_type": "stream",
     "text": [
      "SUCCESS - saved https://encrypted-tbn0.gstatic.com/images?q=tbn:ANd9GcSgbGywm6vPaNPIlO1keN_B1_yEHZSHlZFQEA&usqp=CAU - as ./images\\spring_rolls\\3d12982f4b.jpg\n"
     ]
    },
    {
     "name": "stderr",
     "output_type": "stream",
     "text": [
      "C:\\Users\\mandeep.singh\\Anaconda3\\lib\\site-packages\\urllib3\\connectionpool.py:1013: InsecureRequestWarning: Unverified HTTPS request is being made to host 'nishkitchen.com'. Adding certificate verification is strongly advised. See: https://urllib3.readthedocs.io/en/latest/advanced-usage.html#ssl-warnings\n",
      "  warnings.warn(\n"
     ]
    },
    {
     "name": "stdout",
     "output_type": "stream",
     "text": [
      "SUCCESS - saved https://nishkitchen.com/wp-content/uploads/2018/08/Chicken-spring-roll-1B-480x270.jpg - as ./images\\spring_rolls\\6b6cff5f18.jpg\n"
     ]
    },
    {
     "name": "stderr",
     "output_type": "stream",
     "text": [
      "C:\\Users\\mandeep.singh\\Anaconda3\\lib\\site-packages\\urllib3\\connectionpool.py:1013: InsecureRequestWarning: Unverified HTTPS request is being made to host 'cdn3.tmbi.com'. Adding certificate verification is strongly advised. See: https://urllib3.readthedocs.io/en/latest/advanced-usage.html#ssl-warnings\n",
      "  warnings.warn(\n"
     ]
    },
    {
     "name": "stdout",
     "output_type": "stream",
     "text": [
      "SUCCESS - saved https://cdn3.tmbi.com/toh/GoogleImagesPostCard/Asian-Spring-Rolls_exps29721_CM2043886D08_16_6bC_RMS.jpg - as ./images\\spring_rolls\\f2ed4ee127.jpg\n",
      "SUCCESS - saved https://encrypted-tbn0.gstatic.com/images?q=tbn:ANd9GcSJs_OeMs9QyaPm07AbiSPPB252AbnZ8N9uog&usqp=CAU - as ./images\\spring_rolls\\79d93bb120.jpg\n"
     ]
    },
    {
     "name": "stderr",
     "output_type": "stream",
     "text": [
      "C:\\Users\\mandeep.singh\\Anaconda3\\lib\\site-packages\\urllib3\\connectionpool.py:1013: InsecureRequestWarning: Unverified HTTPS request is being made to host 'encrypted-tbn0.gstatic.com'. Adding certificate verification is strongly advised. See: https://urllib3.readthedocs.io/en/latest/advanced-usage.html#ssl-warnings\n",
      "  warnings.warn(\n",
      "C:\\Users\\mandeep.singh\\Anaconda3\\lib\\site-packages\\urllib3\\connectionpool.py:1013: InsecureRequestWarning: Unverified HTTPS request is being made to host 'encrypted-tbn0.gstatic.com'. Adding certificate verification is strongly advised. See: https://urllib3.readthedocs.io/en/latest/advanced-usage.html#ssl-warnings\n",
      "  warnings.warn(\n",
      "C:\\Users\\mandeep.singh\\Anaconda3\\lib\\site-packages\\urllib3\\connectionpool.py:1013: InsecureRequestWarning: Unverified HTTPS request is being made to host 'encrypted-tbn0.gstatic.com'. Adding certificate verification is strongly advised. See: https://urllib3.readthedocs.io/en/latest/advanced-usage.html#ssl-warnings\n",
      "  warnings.warn(\n"
     ]
    },
    {
     "name": "stdout",
     "output_type": "stream",
     "text": [
      "SUCCESS - saved https://encrypted-tbn0.gstatic.com/images?q=tbn:ANd9GcTis5lJwELbvgao-7FFVJ5Dcx3P25LQoHkt8Q&usqp=CAU - as ./images\\spring_rolls\\170d725223.jpg\n",
      "SUCCESS - saved https://encrypted-tbn0.gstatic.com/images?q=tbn:ANd9GcQ8G3nlhTCWV9S4wUI5WVAnjTLzFpZN_7Swwg&usqp=CAU - as ./images\\spring_rolls\\139cb8bcc5.jpg\n"
     ]
    },
    {
     "name": "stderr",
     "output_type": "stream",
     "text": [
      "C:\\Users\\mandeep.singh\\Anaconda3\\lib\\site-packages\\urllib3\\connectionpool.py:1013: InsecureRequestWarning: Unverified HTTPS request is being made to host 'encrypted-tbn0.gstatic.com'. Adding certificate verification is strongly advised. See: https://urllib3.readthedocs.io/en/latest/advanced-usage.html#ssl-warnings\n",
      "  warnings.warn(\n"
     ]
    },
    {
     "name": "stdout",
     "output_type": "stream",
     "text": [
      "SUCCESS - saved https://encrypted-tbn0.gstatic.com/images?q=tbn:ANd9GcTOdlUSmyNse5pROOnLHcVzIlK3bTG1dVpaTA&usqp=CAU - as ./images\\spring_rolls\\26c8661d61.jpg\n",
      "SUCCESS - saved https://encrypted-tbn0.gstatic.com/images?q=tbn:ANd9GcRusk5QWXWaOeK7SyZOjX2yZ-JlKByG5CEawA&usqp=CAU - as ./images\\spring_rolls\\6a0f5ebf93.jpg\n"
     ]
    },
    {
     "name": "stderr",
     "output_type": "stream",
     "text": [
      "C:\\Users\\mandeep.singh\\Anaconda3\\lib\\site-packages\\urllib3\\connectionpool.py:1013: InsecureRequestWarning: Unverified HTTPS request is being made to host 'encrypted-tbn0.gstatic.com'. Adding certificate verification is strongly advised. See: https://urllib3.readthedocs.io/en/latest/advanced-usage.html#ssl-warnings\n",
      "  warnings.warn(\n",
      "C:\\Users\\mandeep.singh\\Anaconda3\\lib\\site-packages\\urllib3\\connectionpool.py:1013: InsecureRequestWarning: Unverified HTTPS request is being made to host 'encrypted-tbn0.gstatic.com'. Adding certificate verification is strongly advised. See: https://urllib3.readthedocs.io/en/latest/advanced-usage.html#ssl-warnings\n",
      "  warnings.warn(\n"
     ]
    },
    {
     "name": "stdout",
     "output_type": "stream",
     "text": [
      "SUCCESS - saved https://encrypted-tbn0.gstatic.com/images?q=tbn:ANd9GcT_WZ7h_AwdpiDd6vN19nUPioOBXJ7HtyXi_Q&usqp=CAU - as ./images\\spring_rolls\\5c2b668c32.jpg\n"
     ]
    },
    {
     "name": "stderr",
     "output_type": "stream",
     "text": [
      "C:\\Users\\mandeep.singh\\Anaconda3\\lib\\site-packages\\urllib3\\connectionpool.py:1013: InsecureRequestWarning: Unverified HTTPS request is being made to host 'encrypted-tbn0.gstatic.com'. Adding certificate verification is strongly advised. See: https://urllib3.readthedocs.io/en/latest/advanced-usage.html#ssl-warnings\n",
      "  warnings.warn(\n"
     ]
    },
    {
     "name": "stdout",
     "output_type": "stream",
     "text": [
      "SUCCESS - saved https://encrypted-tbn0.gstatic.com/images?q=tbn:ANd9GcQverdAG4n1l2vnz1S1UaYUisxdQXSLoW1V5Q&usqp=CAU - as ./images\\spring_rolls\\461b0f99a6.jpg\n"
     ]
    },
    {
     "name": "stderr",
     "output_type": "stream",
     "text": [
      "C:\\Users\\mandeep.singh\\Anaconda3\\lib\\site-packages\\urllib3\\connectionpool.py:1013: InsecureRequestWarning: Unverified HTTPS request is being made to host 'i.ytimg.com'. Adding certificate verification is strongly advised. See: https://urllib3.readthedocs.io/en/latest/advanced-usage.html#ssl-warnings\n",
      "  warnings.warn(\n"
     ]
    },
    {
     "name": "stdout",
     "output_type": "stream",
     "text": [
      "SUCCESS - saved https://i.ytimg.com/vi/WOLutexcmok/maxresdefault.jpg - as ./images\\spring_rolls\\5c62d08d91.jpg\n"
     ]
    },
    {
     "name": "stderr",
     "output_type": "stream",
     "text": [
      "C:\\Users\\mandeep.singh\\Anaconda3\\lib\\site-packages\\urllib3\\connectionpool.py:1013: InsecureRequestWarning: Unverified HTTPS request is being made to host 'encrypted-tbn0.gstatic.com'. Adding certificate verification is strongly advised. See: https://urllib3.readthedocs.io/en/latest/advanced-usage.html#ssl-warnings\n",
      "  warnings.warn(\n"
     ]
    },
    {
     "name": "stdout",
     "output_type": "stream",
     "text": [
      "SUCCESS - saved https://encrypted-tbn0.gstatic.com/images?q=tbn:ANd9GcSIpKiCIvi0Oru2wRVJNxS1O11jZh0YCRDjdg&usqp=CAU - as ./images\\spring_rolls\\744f434889.jpg\n"
     ]
    },
    {
     "name": "stderr",
     "output_type": "stream",
     "text": [
      "C:\\Users\\mandeep.singh\\Anaconda3\\lib\\site-packages\\urllib3\\connectionpool.py:1013: InsecureRequestWarning: Unverified HTTPS request is being made to host 'encrypted-tbn0.gstatic.com'. Adding certificate verification is strongly advised. See: https://urllib3.readthedocs.io/en/latest/advanced-usage.html#ssl-warnings\n",
      "  warnings.warn(\n"
     ]
    },
    {
     "name": "stdout",
     "output_type": "stream",
     "text": [
      "SUCCESS - saved https://encrypted-tbn0.gstatic.com/images?q=tbn:ANd9GcTY9eMG0xJXgLXFS5P5o59oHaobc5twaGXkUA&usqp=CAU - as ./images\\spring_rolls\\a2fd9c6b3f.jpg\n"
     ]
    },
    {
     "name": "stderr",
     "output_type": "stream",
     "text": [
      "C:\\Users\\mandeep.singh\\Anaconda3\\lib\\site-packages\\urllib3\\connectionpool.py:1013: InsecureRequestWarning: Unverified HTTPS request is being made to host 'encrypted-tbn0.gstatic.com'. Adding certificate verification is strongly advised. See: https://urllib3.readthedocs.io/en/latest/advanced-usage.html#ssl-warnings\n",
      "  warnings.warn(\n"
     ]
    },
    {
     "name": "stdout",
     "output_type": "stream",
     "text": [
      "SUCCESS - saved https://encrypted-tbn0.gstatic.com/images?q=tbn:ANd9GcQ4rPOHmWVuFgG3awjg5uW-6LWgmCS-_Y0EyQ&usqp=CAU - as ./images\\spring_rolls\\03c483c791.jpg\n",
      "SUCCESS - saved https://encrypted-tbn0.gstatic.com/images?q=tbn:ANd9GcSvXLYo0fOdUCFvJbvOOhdF9_D6czxvPN0LdQ&usqp=CAU - as ./images\\spring_rolls\\36ffeb2c53.jpg\n"
     ]
    },
    {
     "name": "stderr",
     "output_type": "stream",
     "text": [
      "C:\\Users\\mandeep.singh\\Anaconda3\\lib\\site-packages\\urllib3\\connectionpool.py:1013: InsecureRequestWarning: Unverified HTTPS request is being made to host 'encrypted-tbn0.gstatic.com'. Adding certificate verification is strongly advised. See: https://urllib3.readthedocs.io/en/latest/advanced-usage.html#ssl-warnings\n",
      "  warnings.warn(\n",
      "C:\\Users\\mandeep.singh\\Anaconda3\\lib\\site-packages\\urllib3\\connectionpool.py:1013: InsecureRequestWarning: Unverified HTTPS request is being made to host 'encrypted-tbn0.gstatic.com'. Adding certificate verification is strongly advised. See: https://urllib3.readthedocs.io/en/latest/advanced-usage.html#ssl-warnings\n",
      "  warnings.warn(\n"
     ]
    },
    {
     "name": "stdout",
     "output_type": "stream",
     "text": [
      "SUCCESS - saved https://encrypted-tbn0.gstatic.com/images?q=tbn:ANd9GcSisDv5Xa9JmARoNS2X1La9m-9H219hu4uYvA&usqp=CAU - as ./images\\spring_rolls\\46e479eb0f.jpg\n",
      "SUCCESS - saved https://encrypted-tbn0.gstatic.com/images?q=tbn:ANd9GcRop0Jhaihz2Gn4nKsJXQiyEQM4CYTOZLLuHw&usqp=CAU - as ./images\\spring_rolls\\d549fefbbf.jpg\n"
     ]
    },
    {
     "name": "stderr",
     "output_type": "stream",
     "text": [
      "C:\\Users\\mandeep.singh\\Anaconda3\\lib\\site-packages\\urllib3\\connectionpool.py:1013: InsecureRequestWarning: Unverified HTTPS request is being made to host 'encrypted-tbn0.gstatic.com'. Adding certificate verification is strongly advised. See: https://urllib3.readthedocs.io/en/latest/advanced-usage.html#ssl-warnings\n",
      "  warnings.warn(\n",
      "C:\\Users\\mandeep.singh\\Anaconda3\\lib\\site-packages\\urllib3\\connectionpool.py:1013: InsecureRequestWarning: Unverified HTTPS request is being made to host 'dinnerthendessert.com'. Adding certificate verification is strongly advised. See: https://urllib3.readthedocs.io/en/latest/advanced-usage.html#ssl-warnings\n",
      "  warnings.warn(\n"
     ]
    },
    {
     "name": "stdout",
     "output_type": "stream",
     "text": [
      "SUCCESS - saved https://dinnerthendessert.com/wp-content/uploads/2018/08/Spring-Rolls.jpg - as ./images\\spring_rolls\\f3555b8a2f.jpg\n",
      "SUCCESS - saved https://encrypted-tbn0.gstatic.com/images?q=tbn:ANd9GcSAVxAQsAxYAm7YCXjj3i6bHS-FCUivbTuUJA&usqp=CAU - as ./images\\spring_rolls\\c1b791f118.jpg\n"
     ]
    },
    {
     "name": "stderr",
     "output_type": "stream",
     "text": [
      "C:\\Users\\mandeep.singh\\Anaconda3\\lib\\site-packages\\urllib3\\connectionpool.py:1013: InsecureRequestWarning: Unverified HTTPS request is being made to host 'encrypted-tbn0.gstatic.com'. Adding certificate verification is strongly advised. See: https://urllib3.readthedocs.io/en/latest/advanced-usage.html#ssl-warnings\n",
      "  warnings.warn(\n",
      "C:\\Users\\mandeep.singh\\Anaconda3\\lib\\site-packages\\urllib3\\connectionpool.py:1013: InsecureRequestWarning: Unverified HTTPS request is being made to host 'images.media-allrecipes.com'. Adding certificate verification is strongly advised. See: https://urllib3.readthedocs.io/en/latest/advanced-usage.html#ssl-warnings\n",
      "  warnings.warn(\n"
     ]
    },
    {
     "name": "stdout",
     "output_type": "stream",
     "text": [
      "SUCCESS - saved https://images.media-allrecipes.com/userphotos/661622.jpg - as ./images\\spring_rolls\\1d98668208.jpg\n"
     ]
    },
    {
     "name": "stderr",
     "output_type": "stream",
     "text": [
      "C:\\Users\\mandeep.singh\\Anaconda3\\lib\\site-packages\\urllib3\\connectionpool.py:1013: InsecureRequestWarning: Unverified HTTPS request is being made to host 'www.bigbasket.com'. Adding certificate verification is strongly advised. See: https://urllib3.readthedocs.io/en/latest/advanced-usage.html#ssl-warnings\n",
      "  warnings.warn(\n"
     ]
    },
    {
     "name": "stdout",
     "output_type": "stream",
     "text": [
      "SUCCESS - saved https://www.bigbasket.com/media/uploads/p/xxl/40085937_4-tasty-fresh-frozen-veg-spring-roll.jpg - as ./images\\spring_rolls\\5736272b3d.jpg\n",
      "SUCCESS - saved https://encrypted-tbn0.gstatic.com/images?q=tbn:ANd9GcQ8_AGyyH0qlUgxwkc1mzGrntfLUq67M0u5Sw&usqp=CAU - as ./images\\spring_rolls\\a6cec2cff9.jpg\n"
     ]
    },
    {
     "name": "stderr",
     "output_type": "stream",
     "text": [
      "C:\\Users\\mandeep.singh\\Anaconda3\\lib\\site-packages\\urllib3\\connectionpool.py:1013: InsecureRequestWarning: Unverified HTTPS request is being made to host 'encrypted-tbn0.gstatic.com'. Adding certificate verification is strongly advised. See: https://urllib3.readthedocs.io/en/latest/advanced-usage.html#ssl-warnings\n",
      "  warnings.warn(\n",
      "C:\\Users\\mandeep.singh\\Anaconda3\\lib\\site-packages\\urllib3\\connectionpool.py:1013: InsecureRequestWarning: Unverified HTTPS request is being made to host 'encrypted-tbn0.gstatic.com'. Adding certificate verification is strongly advised. See: https://urllib3.readthedocs.io/en/latest/advanced-usage.html#ssl-warnings\n",
      "  warnings.warn(\n"
     ]
    },
    {
     "name": "stdout",
     "output_type": "stream",
     "text": [
      "SUCCESS - saved https://encrypted-tbn0.gstatic.com/images?q=tbn:ANd9GcTCVrLYiWqavX-hZbpy3RjjKcEr60FhTHSRUA&usqp=CAU - as ./images\\spring_rolls\\ed15c84e7e.jpg\n"
     ]
    },
    {
     "name": "stderr",
     "output_type": "stream",
     "text": [
      "C:\\Users\\mandeep.singh\\Anaconda3\\lib\\site-packages\\urllib3\\connectionpool.py:1013: InsecureRequestWarning: Unverified HTTPS request is being made to host 'encrypted-tbn0.gstatic.com'. Adding certificate verification is strongly advised. See: https://urllib3.readthedocs.io/en/latest/advanced-usage.html#ssl-warnings\n",
      "  warnings.warn(\n",
      "C:\\Users\\mandeep.singh\\Anaconda3\\lib\\site-packages\\urllib3\\connectionpool.py:1013: InsecureRequestWarning: Unverified HTTPS request is being made to host 'encrypted-tbn0.gstatic.com'. Adding certificate verification is strongly advised. See: https://urllib3.readthedocs.io/en/latest/advanced-usage.html#ssl-warnings\n",
      "  warnings.warn(\n"
     ]
    },
    {
     "name": "stdout",
     "output_type": "stream",
     "text": [
      "SUCCESS - saved https://encrypted-tbn0.gstatic.com/images?q=tbn:ANd9GcQCi30x-feptJjnL36yqTqf1f3gDat-iNPZdw&usqp=CAU - as ./images\\spring_rolls\\6ee0eff16d.jpg\n",
      "SUCCESS - saved https://encrypted-tbn0.gstatic.com/images?q=tbn:ANd9GcQGVy1VU1h4E9vHTS3RmXB9rTKmA0JG8PMQhg&usqp=CAU - as ./images\\spring_rolls\\d0000662d4.jpg\n"
     ]
    },
    {
     "name": "stderr",
     "output_type": "stream",
     "text": [
      "C:\\Users\\mandeep.singh\\Anaconda3\\lib\\site-packages\\urllib3\\connectionpool.py:1013: InsecureRequestWarning: Unverified HTTPS request is being made to host 'encrypted-tbn0.gstatic.com'. Adding certificate verification is strongly advised. See: https://urllib3.readthedocs.io/en/latest/advanced-usage.html#ssl-warnings\n",
      "  warnings.warn(\n",
      "C:\\Users\\mandeep.singh\\Anaconda3\\lib\\site-packages\\urllib3\\connectionpool.py:1013: InsecureRequestWarning: Unverified HTTPS request is being made to host 'encrypted-tbn0.gstatic.com'. Adding certificate verification is strongly advised. See: https://urllib3.readthedocs.io/en/latest/advanced-usage.html#ssl-warnings\n",
      "  warnings.warn(\n"
     ]
    },
    {
     "name": "stdout",
     "output_type": "stream",
     "text": [
      "SUCCESS - saved https://encrypted-tbn0.gstatic.com/images?q=tbn:ANd9GcTvc6MVudAPFvD1AiLLvryukTln-pjiuZL7Ow&usqp=CAU - as ./images\\spring_rolls\\5da1a88eec.jpg\n",
      "SUCCESS - saved https://encrypted-tbn0.gstatic.com/images?q=tbn:ANd9GcSbwjPiZSmmk4LRGvrFbv8yB9PZwIO23zEB7w&usqp=CAU - as ./images\\spring_rolls\\e6afa273c7.jpg\n"
     ]
    },
    {
     "name": "stderr",
     "output_type": "stream",
     "text": [
      "C:\\Users\\mandeep.singh\\Anaconda3\\lib\\site-packages\\urllib3\\connectionpool.py:1013: InsecureRequestWarning: Unverified HTTPS request is being made to host 'encrypted-tbn0.gstatic.com'. Adding certificate verification is strongly advised. See: https://urllib3.readthedocs.io/en/latest/advanced-usage.html#ssl-warnings\n",
      "  warnings.warn(\n"
     ]
    },
    {
     "name": "stdout",
     "output_type": "stream",
     "text": [
      "SUCCESS - saved https://encrypted-tbn0.gstatic.com/images?q=tbn:ANd9GcTL-jlR-ANfVBagg5EhkAChznM3dnYsEmBTNQ&usqp=CAU - as ./images\\spring_rolls\\316e91cf91.jpg\n"
     ]
    },
    {
     "name": "stderr",
     "output_type": "stream",
     "text": [
      "C:\\Users\\mandeep.singh\\Anaconda3\\lib\\site-packages\\urllib3\\connectionpool.py:1013: InsecureRequestWarning: Unverified HTTPS request is being made to host 'cookieandkate.com'. Adding certificate verification is strongly advised. See: https://urllib3.readthedocs.io/en/latest/advanced-usage.html#ssl-warnings\n",
      "  warnings.warn(\n"
     ]
    },
    {
     "name": "stdout",
     "output_type": "stream",
     "text": [
      "SUCCESS - saved https://cookieandkate.com/images/2019/08/fresh-spring-rolls-recipe-4.jpg - as ./images\\spring_rolls\\ff07aa9b72.jpg\n",
      "SUCCESS - saved https://encrypted-tbn0.gstatic.com/images?q=tbn:ANd9GcRsuCv9QDlCKdFNt657Zmbv5uyU4gIGdTsSdQ&usqp=CAU - as ./images\\spring_rolls\\21cbe1dde7.jpg\n"
     ]
    },
    {
     "name": "stderr",
     "output_type": "stream",
     "text": [
      "C:\\Users\\mandeep.singh\\Anaconda3\\lib\\site-packages\\urllib3\\connectionpool.py:1013: InsecureRequestWarning: Unverified HTTPS request is being made to host 'encrypted-tbn0.gstatic.com'. Adding certificate verification is strongly advised. See: https://urllib3.readthedocs.io/en/latest/advanced-usage.html#ssl-warnings\n",
      "  warnings.warn(\n",
      "C:\\Users\\mandeep.singh\\Anaconda3\\lib\\site-packages\\urllib3\\connectionpool.py:1013: InsecureRequestWarning: Unverified HTTPS request is being made to host 'encrypted-tbn0.gstatic.com'. Adding certificate verification is strongly advised. See: https://urllib3.readthedocs.io/en/latest/advanced-usage.html#ssl-warnings\n",
      "  warnings.warn(\n"
     ]
    },
    {
     "name": "stdout",
     "output_type": "stream",
     "text": [
      "SUCCESS - saved https://encrypted-tbn0.gstatic.com/images?q=tbn:ANd9GcToGZMdH13doGvOcIVyQ54UaxqHUl_x2lc3Ww&usqp=CAU - as ./images\\spring_rolls\\f7fa58ab7a.jpg\n",
      "SUCCESS - saved https://encrypted-tbn0.gstatic.com/images?q=tbn:ANd9GcSGt7S2MkbsNsvNY-fNCCLPKsRKKT19dxShtQ&usqp=CAU - as ./images\\spring_rolls\\f5a24840eb.jpg\n"
     ]
    },
    {
     "name": "stderr",
     "output_type": "stream",
     "text": [
      "C:\\Users\\mandeep.singh\\Anaconda3\\lib\\site-packages\\urllib3\\connectionpool.py:1013: InsecureRequestWarning: Unverified HTTPS request is being made to host 'encrypted-tbn0.gstatic.com'. Adding certificate verification is strongly advised. See: https://urllib3.readthedocs.io/en/latest/advanced-usage.html#ssl-warnings\n",
      "  warnings.warn(\n",
      "C:\\Users\\mandeep.singh\\Anaconda3\\lib\\site-packages\\urllib3\\connectionpool.py:1013: InsecureRequestWarning: Unverified HTTPS request is being made to host 'media-cdn.tripadvisor.com'. Adding certificate verification is strongly advised. See: https://urllib3.readthedocs.io/en/latest/advanced-usage.html#ssl-warnings\n",
      "  warnings.warn(\n",
      "C:\\Users\\mandeep.singh\\Anaconda3\\lib\\site-packages\\urllib3\\connectionpool.py:1013: InsecureRequestWarning: Unverified HTTPS request is being made to host 'encrypted-tbn0.gstatic.com'. Adding certificate verification is strongly advised. See: https://urllib3.readthedocs.io/en/latest/advanced-usage.html#ssl-warnings\n",
      "  warnings.warn(\n"
     ]
    },
    {
     "name": "stdout",
     "output_type": "stream",
     "text": [
      "SUCCESS - saved https://media-cdn.tripadvisor.com/media/photo-s/07/63/14/77/nooba.jpg - as ./images\\spring_rolls\\1051245721.jpg\n",
      "SUCCESS - saved https://encrypted-tbn0.gstatic.com/images?q=tbn:ANd9GcR_8ce6Ta0MVDB59SdfbRpQUoy71NDmmrGgzQ&usqp=CAU - as ./images\\spring_rolls\\6f6af329ba.jpg\n"
     ]
    },
    {
     "name": "stderr",
     "output_type": "stream",
     "text": [
      "C:\\Users\\mandeep.singh\\Anaconda3\\lib\\site-packages\\urllib3\\connectionpool.py:1013: InsecureRequestWarning: Unverified HTTPS request is being made to host 'www.recipetineats.com'. Adding certificate verification is strongly advised. See: https://urllib3.readthedocs.io/en/latest/advanced-usage.html#ssl-warnings\n",
      "  warnings.warn(\n"
     ]
    },
    {
     "name": "stdout",
     "output_type": "stream",
     "text": [
      "SUCCESS - saved https://www.recipetineats.com/wp-content/uploads/2017/09/Spring-Rolls-6.jpg - as ./images\\spring_rolls\\455cb535ea.jpg\n",
      "SUCCESS - saved https://encrypted-tbn0.gstatic.com/images?q=tbn:ANd9GcQy1QRFJpYDYDAHViNga2fwFR6cZd20gF3nyA&usqp=CAU - as ./images\\spring_rolls\\c46252a5b3.jpg\n"
     ]
    },
    {
     "name": "stderr",
     "output_type": "stream",
     "text": [
      "C:\\Users\\mandeep.singh\\Anaconda3\\lib\\site-packages\\urllib3\\connectionpool.py:1013: InsecureRequestWarning: Unverified HTTPS request is being made to host 'encrypted-tbn0.gstatic.com'. Adding certificate verification is strongly advised. See: https://urllib3.readthedocs.io/en/latest/advanced-usage.html#ssl-warnings\n",
      "  warnings.warn(\n",
      "C:\\Users\\mandeep.singh\\Anaconda3\\lib\\site-packages\\urllib3\\connectionpool.py:1013: InsecureRequestWarning: Unverified HTTPS request is being made to host 'encrypted-tbn0.gstatic.com'. Adding certificate verification is strongly advised. See: https://urllib3.readthedocs.io/en/latest/advanced-usage.html#ssl-warnings\n",
      "  warnings.warn(\n"
     ]
    },
    {
     "name": "stdout",
     "output_type": "stream",
     "text": [
      "SUCCESS - saved https://encrypted-tbn0.gstatic.com/images?q=tbn:ANd9GcSRJ5kSlVqJ8dUgwHfxsRIiiwHbB4RP-6PNUQ&usqp=CAU - as ./images\\spring_rolls\\3391956f39.jpg\n",
      "SUCCESS - saved https://encrypted-tbn0.gstatic.com/images?q=tbn:ANd9GcRSssNSIYsjt5hZCH03_cNc4oYtAALju1Ygcg&usqp=CAU - as ./images\\spring_rolls\\fa2086af2d.jpg\n"
     ]
    },
    {
     "name": "stderr",
     "output_type": "stream",
     "text": [
      "C:\\Users\\mandeep.singh\\Anaconda3\\lib\\site-packages\\urllib3\\connectionpool.py:1013: InsecureRequestWarning: Unverified HTTPS request is being made to host 'encrypted-tbn0.gstatic.com'. Adding certificate verification is strongly advised. See: https://urllib3.readthedocs.io/en/latest/advanced-usage.html#ssl-warnings\n",
      "  warnings.warn(\n",
      "C:\\Users\\mandeep.singh\\Anaconda3\\lib\\site-packages\\urllib3\\connectionpool.py:1013: InsecureRequestWarning: Unverified HTTPS request is being made to host 'encrypted-tbn0.gstatic.com'. Adding certificate verification is strongly advised. See: https://urllib3.readthedocs.io/en/latest/advanced-usage.html#ssl-warnings\n",
      "  warnings.warn(\n"
     ]
    },
    {
     "name": "stdout",
     "output_type": "stream",
     "text": [
      "SUCCESS - saved https://encrypted-tbn0.gstatic.com/images?q=tbn:ANd9GcTSdVsNvt1oMFAvbytBtF4QkqfPF3YEAZMTrQ&usqp=CAU - as ./images\\spring_rolls\\6103276f28.jpg\n"
     ]
    },
    {
     "name": "stderr",
     "output_type": "stream",
     "text": [
      "C:\\Users\\mandeep.singh\\Anaconda3\\lib\\site-packages\\urllib3\\connectionpool.py:1013: InsecureRequestWarning: Unverified HTTPS request is being made to host 'encrypted-tbn0.gstatic.com'. Adding certificate verification is strongly advised. See: https://urllib3.readthedocs.io/en/latest/advanced-usage.html#ssl-warnings\n",
      "  warnings.warn(\n",
      "C:\\Users\\mandeep.singh\\Anaconda3\\lib\\site-packages\\urllib3\\connectionpool.py:1013: InsecureRequestWarning: Unverified HTTPS request is being made to host 'encrypted-tbn0.gstatic.com'. Adding certificate verification is strongly advised. See: https://urllib3.readthedocs.io/en/latest/advanced-usage.html#ssl-warnings\n",
      "  warnings.warn(\n"
     ]
    },
    {
     "name": "stdout",
     "output_type": "stream",
     "text": [
      "SUCCESS - saved https://encrypted-tbn0.gstatic.com/images?q=tbn:ANd9GcRXATRfegyNWL7Y-2F7MPFGmdLCrIbm8jKB2Q&usqp=CAU - as ./images\\spring_rolls\\aa4a9ddfa7.jpg\n",
      "SUCCESS - saved https://encrypted-tbn0.gstatic.com/images?q=tbn:ANd9GcTT2MSFT3ULQIRIgKUXI_Z_PdAc3W9CewpmfA&usqp=CAU - as ./images\\spring_rolls\\75bdcdb634.jpg\n"
     ]
    },
    {
     "name": "stderr",
     "output_type": "stream",
     "text": [
      "C:\\Users\\mandeep.singh\\Anaconda3\\lib\\site-packages\\urllib3\\connectionpool.py:1013: InsecureRequestWarning: Unverified HTTPS request is being made to host 'encrypted-tbn0.gstatic.com'. Adding certificate verification is strongly advised. See: https://urllib3.readthedocs.io/en/latest/advanced-usage.html#ssl-warnings\n",
      "  warnings.warn(\n"
     ]
    },
    {
     "name": "stdout",
     "output_type": "stream",
     "text": [
      "SUCCESS - saved https://encrypted-tbn0.gstatic.com/images?q=tbn:ANd9GcRxMUXyHopW45qJFiHRJsUiTU1ktZxmS5D2Vw&usqp=CAU - as ./images\\spring_rolls\\0b94079abb.jpg\n"
     ]
    },
    {
     "name": "stderr",
     "output_type": "stream",
     "text": [
      "C:\\Users\\mandeep.singh\\Anaconda3\\lib\\site-packages\\urllib3\\connectionpool.py:1013: InsecureRequestWarning: Unverified HTTPS request is being made to host 'thewoksoflife.com'. Adding certificate verification is strongly advised. See: https://urllib3.readthedocs.io/en/latest/advanced-usage.html#ssl-warnings\n",
      "  warnings.warn(\n"
     ]
    },
    {
     "name": "stdout",
     "output_type": "stream",
     "text": [
      "SUCCESS - saved https://thewoksoflife.com/wp-content/uploads/2015/09/spring-rolls-8-1-500x411.jpg - as ./images\\spring_rolls\\3ee8b887a8.jpg\n"
     ]
    },
    {
     "name": "stderr",
     "output_type": "stream",
     "text": [
      "C:\\Users\\mandeep.singh\\Anaconda3\\lib\\site-packages\\urllib3\\connectionpool.py:1013: InsecureRequestWarning: Unverified HTTPS request is being made to host 'encrypted-tbn0.gstatic.com'. Adding certificate verification is strongly advised. See: https://urllib3.readthedocs.io/en/latest/advanced-usage.html#ssl-warnings\n",
      "  warnings.warn(\n"
     ]
    },
    {
     "name": "stdout",
     "output_type": "stream",
     "text": [
      "SUCCESS - saved https://encrypted-tbn0.gstatic.com/images?q=tbn:ANd9GcRSAxDCiseTY-K1LtrOs7fn5Ki2dunp0xWJrA&usqp=CAU - as ./images\\spring_rolls\\0d4e1ef66e.jpg\n"
     ]
    },
    {
     "name": "stderr",
     "output_type": "stream",
     "text": [
      "C:\\Users\\mandeep.singh\\Anaconda3\\lib\\site-packages\\urllib3\\connectionpool.py:1013: InsecureRequestWarning: Unverified HTTPS request is being made to host 'www.spiceupthecurry.com'. Adding certificate verification is strongly advised. See: https://urllib3.readthedocs.io/en/latest/advanced-usage.html#ssl-warnings\n",
      "  warnings.warn(\n"
     ]
    },
    {
     "name": "stdout",
     "output_type": "stream",
     "text": [
      "SUCCESS - saved https://www.spiceupthecurry.com/wp-content/uploads/2017/04/spring-rolls-recipe-14-500x500.jpg - as ./images\\spring_rolls\\29b0e888e6.jpg\n"
     ]
    },
    {
     "name": "stderr",
     "output_type": "stream",
     "text": [
      "C:\\Users\\mandeep.singh\\Anaconda3\\lib\\site-packages\\urllib3\\connectionpool.py:1013: InsecureRequestWarning: Unverified HTTPS request is being made to host 'encrypted-tbn0.gstatic.com'. Adding certificate verification is strongly advised. See: https://urllib3.readthedocs.io/en/latest/advanced-usage.html#ssl-warnings\n",
      "  warnings.warn(\n"
     ]
    },
    {
     "name": "stdout",
     "output_type": "stream",
     "text": [
      "SUCCESS - saved https://encrypted-tbn0.gstatic.com/images?q=tbn:ANd9GcQ0jGcoP5VQKHrBu90fgRoR57GBGwWC7l83FQ&usqp=CAU - as ./images\\spring_rolls\\46b22726c9.jpg\n"
     ]
    },
    {
     "name": "stderr",
     "output_type": "stream",
     "text": [
      "C:\\Users\\mandeep.singh\\Anaconda3\\lib\\site-packages\\urllib3\\connectionpool.py:1013: InsecureRequestWarning: Unverified HTTPS request is being made to host 'www.spoonforkbacon.com'. Adding certificate verification is strongly advised. See: https://urllib3.readthedocs.io/en/latest/advanced-usage.html#ssl-warnings\n",
      "  warnings.warn(\n"
     ]
    },
    {
     "name": "stdout",
     "output_type": "stream",
     "text": [
      "SUCCESS - saved https://www.spoonforkbacon.com/wp-content/uploads/2019/03/fresh_shiitaki_spring_rolls.jpg - as ./images\\spring_rolls\\f72078674c.jpg\n"
     ]
    },
    {
     "name": "stderr",
     "output_type": "stream",
     "text": [
      "C:\\Users\\mandeep.singh\\Anaconda3\\lib\\site-packages\\urllib3\\connectionpool.py:1013: InsecureRequestWarning: Unverified HTTPS request is being made to host 'encrypted-tbn0.gstatic.com'. Adding certificate verification is strongly advised. See: https://urllib3.readthedocs.io/en/latest/advanced-usage.html#ssl-warnings\n",
      "  warnings.warn(\n"
     ]
    },
    {
     "name": "stdout",
     "output_type": "stream",
     "text": [
      "SUCCESS - saved https://encrypted-tbn0.gstatic.com/images?q=tbn:ANd9GcQUia_HCmUsP6Q4qCfYmw_fKKkeIMUJ5SNQzA&usqp=CAU - as ./images\\spring_rolls\\57087174c9.jpg\n"
     ]
    },
    {
     "name": "stderr",
     "output_type": "stream",
     "text": [
      "C:\\Users\\mandeep.singh\\Anaconda3\\lib\\site-packages\\urllib3\\connectionpool.py:1013: InsecureRequestWarning: Unverified HTTPS request is being made to host 'rasamalaysia.com'. Adding certificate verification is strongly advised. See: https://urllib3.readthedocs.io/en/latest/advanced-usage.html#ssl-warnings\n",
      "  warnings.warn(\n"
     ]
    },
    {
     "name": "stdout",
     "output_type": "stream",
     "text": [
      "SUCCESS - saved https://rasamalaysia.com/wp-content/uploads/2019/04/spring-rolls-thumb-new.jpg - as ./images\\spring_rolls\\7536f88744.jpg\n"
     ]
    },
    {
     "name": "stderr",
     "output_type": "stream",
     "text": [
      "C:\\Users\\mandeep.singh\\Anaconda3\\lib\\site-packages\\urllib3\\connectionpool.py:1013: InsecureRequestWarning: Unverified HTTPS request is being made to host 'www.vegrecipesofindia.com'. Adding certificate verification is strongly advised. See: https://urllib3.readthedocs.io/en/latest/advanced-usage.html#ssl-warnings\n",
      "  warnings.warn(\n"
     ]
    },
    {
     "name": "stdout",
     "output_type": "stream",
     "text": [
      "SUCCESS - saved https://www.vegrecipesofindia.com/wp-content/uploads/2018/10/veg-spring-rolls-recipe-1-500x500.jpg - as ./images\\spring_rolls\\c6497383fa.jpg\n",
      "SUCCESS - saved https://encrypted-tbn0.gstatic.com/images?q=tbn:ANd9GcSbufXmq3jgR0WM1Pmjj9Yti_V96UHhXsOYvA&usqp=CAU - as ./images\\spring_rolls\\c4981e89e2.jpg\n"
     ]
    },
    {
     "name": "stderr",
     "output_type": "stream",
     "text": [
      "C:\\Users\\mandeep.singh\\Anaconda3\\lib\\site-packages\\urllib3\\connectionpool.py:1013: InsecureRequestWarning: Unverified HTTPS request is being made to host 'encrypted-tbn0.gstatic.com'. Adding certificate verification is strongly advised. See: https://urllib3.readthedocs.io/en/latest/advanced-usage.html#ssl-warnings\n",
      "  warnings.warn(\n",
      "C:\\Users\\mandeep.singh\\Anaconda3\\lib\\site-packages\\urllib3\\connectionpool.py:1013: InsecureRequestWarning: Unverified HTTPS request is being made to host 'encrypted-tbn0.gstatic.com'. Adding certificate verification is strongly advised. See: https://urllib3.readthedocs.io/en/latest/advanced-usage.html#ssl-warnings\n",
      "  warnings.warn(\n"
     ]
    },
    {
     "name": "stdout",
     "output_type": "stream",
     "text": [
      "SUCCESS - saved https://encrypted-tbn0.gstatic.com/images?q=tbn:ANd9GcSghNC-8_k2RmUXXU-jOh3r5ZM8Pwva7-TT0g&usqp=CAU - as ./images\\spring_rolls\\dbbf35c37c.jpg\n"
     ]
    },
    {
     "name": "stderr",
     "output_type": "stream",
     "text": [
      "C:\\Users\\mandeep.singh\\Anaconda3\\lib\\site-packages\\urllib3\\connectionpool.py:1013: InsecureRequestWarning: Unverified HTTPS request is being made to host 'www.thespruceeats.com'. Adding certificate verification is strongly advised. See: https://urllib3.readthedocs.io/en/latest/advanced-usage.html#ssl-warnings\n",
      "  warnings.warn(\n"
     ]
    },
    {
     "name": "stdout",
     "output_type": "stream",
     "text": [
      "SUCCESS - saved https://www.thespruceeats.com/thmb/LJ4GPPQORPKbJuXmo0BQHw2ILqo=/3264x3264/smart/filters:no_upscale()/fresh-spring-rolls-174751621-5ac82923a18d9e00379ccc96.jpg - as ./images\\spring_rolls\\ad2ddb4452.jpg\n",
      "SUCCESS - saved https://encrypted-tbn0.gstatic.com/images?q=tbn:ANd9GcSyYoTbbMVsJh3RPsJTBtWKyz0mdX6mXzelpg&usqp=CAU - as ./images\\spring_rolls\\ad86dbb581.jpg\n"
     ]
    },
    {
     "name": "stderr",
     "output_type": "stream",
     "text": [
      "C:\\Users\\mandeep.singh\\Anaconda3\\lib\\site-packages\\urllib3\\connectionpool.py:1013: InsecureRequestWarning: Unverified HTTPS request is being made to host 'encrypted-tbn0.gstatic.com'. Adding certificate verification is strongly advised. See: https://urllib3.readthedocs.io/en/latest/advanced-usage.html#ssl-warnings\n",
      "  warnings.warn(\n",
      "C:\\Users\\mandeep.singh\\Anaconda3\\lib\\site-packages\\urllib3\\connectionpool.py:1013: InsecureRequestWarning: Unverified HTTPS request is being made to host 'www.thespruceeats.com'. Adding certificate verification is strongly advised. See: https://urllib3.readthedocs.io/en/latest/advanced-usage.html#ssl-warnings\n",
      "  warnings.warn(\n"
     ]
    },
    {
     "name": "stdout",
     "output_type": "stream",
     "text": [
      "SUCCESS - saved https://www.thespruceeats.com/thmb/y2tRCgYpPT7XyPf78FPjgsCcGJ0=/3000x2000/filters:fill(auto,1)/chinese-pork-spring-rolls-694530-9af6170dd2294b19b30ca4115a1a58ae.jpg - as ./images\\spring_rolls\\6edf8a5605.jpg\n",
      "SUCCESS - saved https://encrypted-tbn0.gstatic.com/images?q=tbn:ANd9GcSMZ7pXLPTyQWSAUmOLMoRqkCKVRrm01lJ8og&usqp=CAU - as ./images\\spring_rolls\\0ebf9ee8ad.jpg\n"
     ]
    },
    {
     "name": "stderr",
     "output_type": "stream",
     "text": [
      "C:\\Users\\mandeep.singh\\Anaconda3\\lib\\site-packages\\urllib3\\connectionpool.py:1013: InsecureRequestWarning: Unverified HTTPS request is being made to host 'encrypted-tbn0.gstatic.com'. Adding certificate verification is strongly advised. See: https://urllib3.readthedocs.io/en/latest/advanced-usage.html#ssl-warnings\n",
      "  warnings.warn(\n",
      "C:\\Users\\mandeep.singh\\Anaconda3\\lib\\site-packages\\urllib3\\connectionpool.py:1013: InsecureRequestWarning: Unverified HTTPS request is being made to host 'encrypted-tbn0.gstatic.com'. Adding certificate verification is strongly advised. See: https://urllib3.readthedocs.io/en/latest/advanced-usage.html#ssl-warnings\n",
      "  warnings.warn(\n"
     ]
    },
    {
     "name": "stdout",
     "output_type": "stream",
     "text": [
      "SUCCESS - saved https://encrypted-tbn0.gstatic.com/images?q=tbn:ANd9GcS14yWylGVrF0jJ5jV9bj2a-OUHB_jxEomHoQ&usqp=CAU - as ./images\\spring_rolls\\bc9c28715e.jpg\n"
     ]
    },
    {
     "name": "stderr",
     "output_type": "stream",
     "text": [
      "C:\\Users\\mandeep.singh\\Anaconda3\\lib\\site-packages\\urllib3\\connectionpool.py:1013: InsecureRequestWarning: Unverified HTTPS request is being made to host 'encrypted-tbn0.gstatic.com'. Adding certificate verification is strongly advised. See: https://urllib3.readthedocs.io/en/latest/advanced-usage.html#ssl-warnings\n",
      "  warnings.warn(\n"
     ]
    },
    {
     "name": "stdout",
     "output_type": "stream",
     "text": [
      "SUCCESS - saved https://encrypted-tbn0.gstatic.com/images?q=tbn:ANd9GcTX6pb4hA5z5mF1PXNg4oWzfJztNIvvVFM3LA&usqp=CAU - as ./images\\spring_rolls\\4ede3f583b.jpg\n",
      "SUCCESS - saved https://encrypted-tbn0.gstatic.com/images?q=tbn:ANd9GcQT6gZzdkaS7hJ4fBWaL06dTuSbBAV1MTJKiA&usqp=CAU - as ./images\\spring_rolls\\9ebd984c74.jpg\n"
     ]
    },
    {
     "name": "stderr",
     "output_type": "stream",
     "text": [
      "C:\\Users\\mandeep.singh\\Anaconda3\\lib\\site-packages\\urllib3\\connectionpool.py:1013: InsecureRequestWarning: Unverified HTTPS request is being made to host 'encrypted-tbn0.gstatic.com'. Adding certificate verification is strongly advised. See: https://urllib3.readthedocs.io/en/latest/advanced-usage.html#ssl-warnings\n",
      "  warnings.warn(\n",
      "C:\\Users\\mandeep.singh\\Anaconda3\\lib\\site-packages\\urllib3\\connectionpool.py:1013: InsecureRequestWarning: Unverified HTTPS request is being made to host 'encrypted-tbn0.gstatic.com'. Adding certificate verification is strongly advised. See: https://urllib3.readthedocs.io/en/latest/advanced-usage.html#ssl-warnings\n",
      "  warnings.warn(\n",
      "C:\\Users\\mandeep.singh\\Anaconda3\\lib\\site-packages\\urllib3\\connectionpool.py:1013: InsecureRequestWarning: Unverified HTTPS request is being made to host 'encrypted-tbn0.gstatic.com'. Adding certificate verification is strongly advised. See: https://urllib3.readthedocs.io/en/latest/advanced-usage.html#ssl-warnings\n",
      "  warnings.warn(\n"
     ]
    },
    {
     "name": "stdout",
     "output_type": "stream",
     "text": [
      "SUCCESS - saved https://encrypted-tbn0.gstatic.com/images?q=tbn:ANd9GcT0zeEK48wQfqxYT1S1f0F4xHCbUKALBUi1vQ&usqp=CAU - as ./images\\spring_rolls\\d61f67902d.jpg\n",
      "SUCCESS - saved https://encrypted-tbn0.gstatic.com/images?q=tbn:ANd9GcQkN4UwrgqjDAx233wdpzcL55-WT_7j8IpV8w&usqp=CAU - as ./images\\spring_rolls\\e354646fa6.jpg\n",
      "SUCCESS - saved https://encrypted-tbn0.gstatic.com/images?q=tbn:ANd9GcRzBMZtVrFqMMuva_eYMGlNMQNwb12D-QHC5g&usqp=CAU - as ./images\\spring_rolls\\80004fd48f.jpg\n"
     ]
    },
    {
     "name": "stderr",
     "output_type": "stream",
     "text": [
      "C:\\Users\\mandeep.singh\\Anaconda3\\lib\\site-packages\\urllib3\\connectionpool.py:1013: InsecureRequestWarning: Unverified HTTPS request is being made to host 'encrypted-tbn0.gstatic.com'. Adding certificate verification is strongly advised. See: https://urllib3.readthedocs.io/en/latest/advanced-usage.html#ssl-warnings\n",
      "  warnings.warn(\n",
      "C:\\Users\\mandeep.singh\\Anaconda3\\lib\\site-packages\\urllib3\\connectionpool.py:1013: InsecureRequestWarning: Unverified HTTPS request is being made to host 'encrypted-tbn0.gstatic.com'. Adding certificate verification is strongly advised. See: https://urllib3.readthedocs.io/en/latest/advanced-usage.html#ssl-warnings\n",
      "  warnings.warn(\n"
     ]
    },
    {
     "name": "stdout",
     "output_type": "stream",
     "text": [
      "SUCCESS - saved https://encrypted-tbn0.gstatic.com/images?q=tbn:ANd9GcR_JQxIGSwSfr6DU3yCiIJolwP4aO3K3NA9tQ&usqp=CAU - as ./images\\spring_rolls\\077f3ea084.jpg\n"
     ]
    },
    {
     "name": "stderr",
     "output_type": "stream",
     "text": [
      "C:\\Users\\mandeep.singh\\Anaconda3\\lib\\site-packages\\urllib3\\connectionpool.py:1013: InsecureRequestWarning: Unverified HTTPS request is being made to host 'img-global.cpcdn.com'. Adding certificate verification is strongly advised. See: https://urllib3.readthedocs.io/en/latest/advanced-usage.html#ssl-warnings\n",
      "  warnings.warn(\n"
     ]
    },
    {
     "name": "stdout",
     "output_type": "stream",
     "text": [
      "SUCCESS - saved https://img-global.cpcdn.com/recipes/7f5bc852152b4506/1200x630cq70/photo.jpg - as ./images\\spring_rolls\\349c89e15b.jpg\n"
     ]
    },
    {
     "name": "stderr",
     "output_type": "stream",
     "text": [
      "C:\\Users\\mandeep.singh\\Anaconda3\\lib\\site-packages\\urllib3\\connectionpool.py:1013: InsecureRequestWarning: Unverified HTTPS request is being made to host 'encrypted-tbn0.gstatic.com'. Adding certificate verification is strongly advised. See: https://urllib3.readthedocs.io/en/latest/advanced-usage.html#ssl-warnings\n",
      "  warnings.warn(\n"
     ]
    },
    {
     "name": "stdout",
     "output_type": "stream",
     "text": [
      "SUCCESS - saved https://encrypted-tbn0.gstatic.com/images?q=tbn:ANd9GcQ_meUQDNm0N4c0tb_0nbUM6u07z8DWljWs3Q&usqp=CAU - as ./images\\spring_rolls\\396dd7f182.jpg\n"
     ]
    },
    {
     "name": "stderr",
     "output_type": "stream",
     "text": [
      "C:\\Users\\mandeep.singh\\Anaconda3\\lib\\site-packages\\urllib3\\connectionpool.py:1013: InsecureRequestWarning: Unverified HTTPS request is being made to host 'encrypted-tbn0.gstatic.com'. Adding certificate verification is strongly advised. See: https://urllib3.readthedocs.io/en/latest/advanced-usage.html#ssl-warnings\n",
      "  warnings.warn(\n"
     ]
    },
    {
     "name": "stdout",
     "output_type": "stream",
     "text": [
      "SUCCESS - saved https://encrypted-tbn0.gstatic.com/images?q=tbn:ANd9GcS-oHCAVmsTFZmD-j2jAZIDZe-fwjdyL6oyWg&usqp=CAU - as ./images\\spring_rolls\\d314ca248e.jpg\n"
     ]
    },
    {
     "name": "stderr",
     "output_type": "stream",
     "text": [
      "C:\\Users\\mandeep.singh\\Anaconda3\\lib\\site-packages\\urllib3\\connectionpool.py:1013: InsecureRequestWarning: Unverified HTTPS request is being made to host 'encrypted-tbn0.gstatic.com'. Adding certificate verification is strongly advised. See: https://urllib3.readthedocs.io/en/latest/advanced-usage.html#ssl-warnings\n",
      "  warnings.warn(\n"
     ]
    },
    {
     "name": "stdout",
     "output_type": "stream",
     "text": [
      "SUCCESS - saved https://encrypted-tbn0.gstatic.com/images?q=tbn:ANd9GcRQ4x6oGm_Vvs_jDyqbKd0tLhM38tkX1Q2BFQ&usqp=CAU - as ./images\\spring_rolls\\68a28916c4.jpg\n"
     ]
    },
    {
     "name": "stderr",
     "output_type": "stream",
     "text": [
      "C:\\Users\\mandeep.singh\\Anaconda3\\lib\\site-packages\\urllib3\\connectionpool.py:1013: InsecureRequestWarning: Unverified HTTPS request is being made to host 'encrypted-tbn0.gstatic.com'. Adding certificate verification is strongly advised. See: https://urllib3.readthedocs.io/en/latest/advanced-usage.html#ssl-warnings\n",
      "  warnings.warn(\n",
      "C:\\Users\\mandeep.singh\\Anaconda3\\lib\\site-packages\\urllib3\\connectionpool.py:1013: InsecureRequestWarning: Unverified HTTPS request is being made to host 'encrypted-tbn0.gstatic.com'. Adding certificate verification is strongly advised. See: https://urllib3.readthedocs.io/en/latest/advanced-usage.html#ssl-warnings\n",
      "  warnings.warn(\n"
     ]
    },
    {
     "name": "stdout",
     "output_type": "stream",
     "text": [
      "SUCCESS - saved https://encrypted-tbn0.gstatic.com/images?q=tbn:ANd9GcRkZnH3g1uMwJDNFoWdGCRpGnT37XjkHVuZmQ&usqp=CAU - as ./images\\spring_rolls\\914c5c2e8b.jpg\n",
      "SUCCESS - saved https://encrypted-tbn0.gstatic.com/images?q=tbn:ANd9GcQAJcD5Fj35Aenm9VunMMhrzPK1vehok3olCg&usqp=CAU - as ./images\\spring_rolls\\5dbd7935a5.jpg\n"
     ]
    },
    {
     "name": "stderr",
     "output_type": "stream",
     "text": [
      "C:\\Users\\mandeep.singh\\Anaconda3\\lib\\site-packages\\urllib3\\connectionpool.py:1013: InsecureRequestWarning: Unverified HTTPS request is being made to host 'encrypted-tbn0.gstatic.com'. Adding certificate verification is strongly advised. See: https://urllib3.readthedocs.io/en/latest/advanced-usage.html#ssl-warnings\n",
      "  warnings.warn(\n",
      "C:\\Users\\mandeep.singh\\Anaconda3\\lib\\site-packages\\urllib3\\connectionpool.py:1013: InsecureRequestWarning: Unverified HTTPS request is being made to host 'encrypted-tbn0.gstatic.com'. Adding certificate verification is strongly advised. See: https://urllib3.readthedocs.io/en/latest/advanced-usage.html#ssl-warnings\n",
      "  warnings.warn(\n"
     ]
    },
    {
     "name": "stdout",
     "output_type": "stream",
     "text": [
      "SUCCESS - saved https://encrypted-tbn0.gstatic.com/images?q=tbn:ANd9GcQHE2d7Dy90A_x-uqq_QGXMu3tpPwV44-L_Ig&usqp=CAU - as ./images\\spring_rolls\\085e8e95c1.jpg\n",
      "SUCCESS - saved https://encrypted-tbn0.gstatic.com/images?q=tbn:ANd9GcSXnJFcCZqu2aJDywnvHffwMElYcnXIZTAzug&usqp=CAU - as ./images\\spring_rolls\\94e431e9b7.jpg\n",
      "./images\\steak\n",
      "Found: 100 search results. Extracting links from 0:100\n",
      "Found: 100 image links, done!\n",
      "{'https://encrypted-tbn0.gstatic.com/images?q=tbn:ANd9GcTdHvcYbjBccbKQgPts9e2NGyexEG4AWVzD0Q&usqp=CAU', 'https://thestayathomechef.com/wp-content/uploads/2019/07/HowtoGrillSteak2.jpg', 'https://www.recipetineats.com/wp-content/uploads/2020/02/Steak-Marinade_4-SQ.jpg', 'https://cdn.apartmenttherapy.info/image/upload/f_jpg,q_auto:eco,c_fill,g_auto,w_1500,ar_16:9/k%2Farchive%2F2816f86937ebc7019a513d858cec8e0c55d38890', 'https://www.recipetineats.com/wp-content/uploads/2019/07/Cheffy-Garlic-Butter-Steak_9.jpg?w=500&h=500&crop=1', 'https://hips.hearstapps.com/hmg-prod.s3.amazonaws.com/images/new-york-strip-steak-1611169880.jpg?crop=1.00xw:0.668xh;0,0.160xh&resize=640:*', 'https://i.ytimg.com/vi/OuhKtpO9zuI/maxresdefault.jpg', 'https://encrypted-tbn0.gstatic.com/images?q=tbn:ANd9GcTP_5NzbmcU0tGuV0LhWs3b4pdvE_3s9LZvBA&usqp=CAU', 'https://upload.wikimedia.org/wikipedia/commons/thumb/3/31/Wagyu_rump_steak_and_eggs_-_Jones_the_Grocer%2C_Chadstone.jpg/1200px-Wagyu_rump_steak_and_eggs_-_Jones_the_Grocer%2C_Chadstone.jpg', 'https://hips.hearstapps.com/delish/assets/18/08/1519155106-flank-steak-horizontal.jpg', 'https://encrypted-tbn0.gstatic.com/images?q=tbn:ANd9GcR-HIInp4EpOmtFQMtgCNPLEO0g5I9lEELN8w&usqp=CAU', 'https://www.ft.com/__origami/service/image/v2/images/raw/https%3A%2F%2Fd1e00ek4ebabms.cloudfront.net%2Fproduction%2F159d2619-2e20-4df0-a81a-8f844795f53a.jpg?fit=scale-down&source=next&width=700', 'https://encrypted-tbn0.gstatic.com/images?q=tbn:ANd9GcQ1v2_oycxtVmSeylv07Da_wi5F5NLAZu6t9w&usqp=CAU', 'https://encrypted-tbn0.gstatic.com/images?q=tbn:ANd9GcQ5STkD2p7mzHhw3G5epD3GdQqlfvF1JXwLIw&usqp=CAU', 'https://encrypted-tbn0.gstatic.com/images?q=tbn:ANd9GcRsl7NGzkIwB7AI6vmYQJuJ_58mVs31byzEGg&usqp=CAU', 'https://encrypted-tbn0.gstatic.com/images?q=tbn:ANd9GcRZHoZ7m6FbeTjtaWdku-6ept2_7rT07KQ6Yw&usqp=CAU', 'https://www.thespruceeats.com/thmb/hl4lkmdLO7tj1eDCsGbakfk97Co=/3088x2055/filters:fill(auto,1)/marinated-top-round-steak-3060302-hero-02-ed071d5d7e584bea82857112aa734a94.jpg', 'https://encrypted-tbn0.gstatic.com/images?q=tbn:ANd9GcRuIElnKOfv7qxWJojyUvxb5CZj0v2zOjQzSQ&usqp=CAU', 'https://encrypted-tbn0.gstatic.com/images?q=tbn:ANd9GcShousy2SXAmLr_1zepdQl3ZS9rlcZqmH5JDQ&usqp=CAU', 'https://encrypted-tbn0.gstatic.com/images?q=tbn:ANd9GcTbVCZKN9gav2qzcwe1LJxCCwFUQYyVD8ZWPg&usqp=CAU', 'https://encrypted-tbn0.gstatic.com/images?q=tbn:ANd9GcTd2HJZWSZ1curZU7nDLtlaY-vea-aThzaf3Q&usqp=CAU', 'https://www.wearegurgaon.com/wp-content/uploads/2017/08/best-steaks-house-in-gurgaon.jpg', 'https://encrypted-tbn0.gstatic.com/images?q=tbn:ANd9GcS1-CXy93y5rQIBMv7BWJDJEknZtDkXX_fP8Q&usqp=CAU', 'https://c.ndtvimg.com/2019-09/7gqbduk8_paneer-steak_625x300_26_September_19.jpg', 'https://encrypted-tbn0.gstatic.com/images?q=tbn:ANd9GcShAjhNP3tReymrVS3sGBeNQOcYbJ3PmCne5A&usqp=CAU', 'https://cookthestory.com/wp-content/uploads/2018/09/Steak-from-Frozen-1392x780-1716.jpg', 'https://www.simplyrecipes.com/thmb/CIYTrDtbZ7xHq91Zz03q7NtoguM=/2000x1333/filters:no_upscale():max_bytes(150000):strip_icc()/__opt__aboutcom__coeus__resources__content_migration__simply_recipes__uploads__2019__06__Grilled-Flank-Steak-LEAD-1-93743d42c7cc48fca120140a0da38673.jpg', 'https://natashaskitchen.com/wp-content/uploads/2020/03/Pan-Seared-Steak-4.jpg', 'https://encrypted-tbn0.gstatic.com/images?q=tbn:ANd9GcQo42WQbol793exWkdCSQ4tv4t07GIjZWoOGw&usqp=CAU', 'https://encrypted-tbn0.gstatic.com/images?q=tbn:ANd9GcT87YbJERHT-DsXLwqkzJjU2H6I1t-ruYaPVA&usqp=CAU', 'https://encrypted-tbn0.gstatic.com/images?q=tbn:ANd9GcR_NfVZNjJ47RsFfCHkV-Dyd6jlKF82lyJyzA&usqp=CAU', 'https://encrypted-tbn0.gstatic.com/images?q=tbn:ANd9GcRtFeRJk4SKZSGHU5yovBK54uxiNDhsmiM-2Q&usqp=CAU', 'https://media-cldnry.s-nbcnews.com/image/upload/newscms/2021_32/1761456/grilled-steak-te-main-210813.jpg', 'https://encrypted-tbn0.gstatic.com/images?q=tbn:ANd9GcSxzi-b8TGEjkDEo3Ju9xJXBxagaRu4HknBiA&usqp=CAU', 'https://encrypted-tbn0.gstatic.com/images?q=tbn:ANd9GcQJRcW1Cv4N8rE4sTvvYyQrg195u3UgmveWYg&usqp=CAU', 'https://imagesvc.meredithcorp.io/v3/mm/image?url=https%3A%2F%2Fimagesvc.meredithcorp.io%2Fv3%2Fmm%2Fimage%3Furl%3Dhttps%253A%252F%252Fstatic.onecms.io%252Fwp-content%252Fuploads%252Fsites%252F19%252F2005%252F06%252F13%252Fmr20reshoot20sirloin-2000.jpg&q=85', 'https://encrypted-tbn0.gstatic.com/images?q=tbn:ANd9GcTRTRM7P0UGtVTlPrSr3n-A0GeMXU-cXEXG-g&usqp=CAU', 'https://encrypted-tbn0.gstatic.com/images?q=tbn:ANd9GcQxPCinBwNheR7u_Z3gCfnQSYQfKtl6oSEr_w&usqp=CAU', 'https://encrypted-tbn0.gstatic.com/images?q=tbn:ANd9GcROttPKaM7wno5wO9hoTwoQbCsgZVipgSEAjw&usqp=CAU', 'https://encrypted-tbn0.gstatic.com/images?q=tbn:ANd9GcTnIyhJFNROh70uvUQfeanOPUQX9IfFBr_zeg&usqp=CAU', 'https://encrypted-tbn0.gstatic.com/images?q=tbn:ANd9GcQZm-I6v_lxSELY90vW22XGpO3fG6ZUB6Tyow&usqp=CAU', 'https://www.wearegurgaon.com//wp-content/uploads/2017/08/Chilis-Best-Steak-in-Gurgaon.jpg', 'https://cdn.images.express.co.uk/img/dynamic/14/590x/Royal-steak-recipe-1274635.webp?r=1597355622965', 'https://media.istockphoto.com/photos/steaks-from-fresh-meat-picture-id981092168?k=20&m=981092168&s=612x612&w=0&h=A2BsJfnOrZlCovdaaa_w4aWH10LDVxNULUbDTJxlv_E=', 'https://media.gettyimages.com/photos/large-juicy-beef-rib-eye-steak-on-a-hot-grill-with-charcoal-and-picture-id1092451104?s=612x612', 'https://encrypted-tbn0.gstatic.com/images?q=tbn:ANd9GcQrmngzeC1O-yha3k_cOyJQC8-UmwpJ6QM96A&usqp=CAU', 'https://www.simplyrecipes.com/thmb/ZgU6lM_B2WjTT82QmuCDsjClkB0=/1777x1333/smart/filters:no_upscale()/__opt__aboutcom__coeus__resources__content_migration__simply_recipes__uploads__2019__08__HT-Cook-Skirt-Steak-LEAD-6-10591ff49faa46868ba23f47c144a013.jpg', 'https://encrypted-tbn0.gstatic.com/images?q=tbn:ANd9GcTzRuqo03FfR6UxiWxw_jWpo64hdlKvaAyzog&usqp=CAU', 'https://i.guim.co.uk/img/media/7c7d35af04e35288abdfeb57da2de98a4cecae1a/0_122_2700_1620/master/2700.jpg?width=465&quality=45&auto=format&fit=max&dpr=2&s=fe9a527b3898c320b78098156744f545', 'https://encrypted-tbn0.gstatic.com/images?q=tbn:ANd9GcRJGLYSjBCN7nBm7AlNpzHrAOfQ1-hT5bQ01g&usqp=CAU', 'https://assets.epicurious.com/photos/563b9cdf4cc2d53b6f5144b6/16:9/w_2000,h_1125,c_limit/388552_porterhouse-steak_1x1.jpg', 'https://embed.widencdn.net/img/beef/ng96sbyljl/800x600px/Ribeye%20Steak_Lip-on.psd?keep=c&u=7fueml', 'https://encrypted-tbn0.gstatic.com/images?q=tbn:ANd9GcRbVnWW3Ew_dg206_Tzza-DmLj5EX4edpKERw&usqp=CAU', 'https://i.ytimg.com/vi/nsw0Px-Pho8/maxresdefault.jpg', 'https://encrypted-tbn0.gstatic.com/images?q=tbn:ANd9GcTcrkJ9arpiY9fNqjlAbKJKmQpzVaCCi62ilQ&usqp=CAU', 'https://www.saveur.com/uploads/2019/01/28/CJVYOVJ3YJ6YVBFHP2BMUSAYC4.jpg?auto=webp&width=1440&height=1080', 'https://encrypted-tbn0.gstatic.com/images?q=tbn:ANd9GcQG9d9D6KtLOM9cBCbvufkIndWZ9M2Zd9FruA&usqp=CAU', 'https://encrypted-tbn0.gstatic.com/images?q=tbn:ANd9GcSA4iX5nJ0jMGDZKR8tSwzE1HAsv8xvIteHfA&usqp=CAU', 'https://encrypted-tbn0.gstatic.com/images?q=tbn:ANd9GcTE8kA-yBYQJ1U9yOue_KCj9vwtj672ow-XPQ&usqp=CAU', 'https://encrypted-tbn0.gstatic.com/images?q=tbn:ANd9GcRu4BQj8nDD0TT_lO2zk5jVxSFtYMrrkyrxhA&usqp=CAU', 'https://cdn.apartmenttherapy.info/image/upload/f_jpg,q_auto:eco,c_fill,g_auto,w_1500,ar_1:1/k%2Farchive%2Fe3ce4eb1741bd76cc083424453c0e3f39d147f9b', 'https://encrypted-tbn0.gstatic.com/images?q=tbn:ANd9GcRVCIjnVr_4Alja1fBU9MzGzg9mYKmTt4eJdg&usqp=CAU', 'https://img.delicious.com.au/p1rGmeCk/del/2015/10/mixed-pepper-crusted-steak-with-mushroom-salad-12955-1.jpg', 'https://img.taste.com.au/egvqv4VC/w506-h253-cfill/taste/2016/11/paprika-beef-steaks-with-chimichurri-sauce-and-wedges-102931-1.jpeg', 'https://encrypted-tbn0.gstatic.com/images?q=tbn:ANd9GcTFX9m70j4j0d9AQrzE2JtLlO4Mo78rmU9eLg&usqp=CAU', 'https://flavorthemoments.com/wp-content/uploads/2019/02/how-to-cook-pan-seared-steak-1-flavorthemoments-600x852.jpg', 'https://encrypted-tbn0.gstatic.com/images?q=tbn:ANd9GcTZ1JpphUzBcj1jffEWIEvu-87Bd9upqq3KIA&usqp=CAU', 'https://images.heb.com/is/image/HEBGrocery/recipe-hm-large/sunday-grilled-steak-onions-recipe.jpg', 'https://imagesvc.meredithcorp.io/v3/jumpstartpure/image?url=https://assets.marthastewart.com/d13/mh_1011_steak/mh_1011_steak_horiz.jpg&w=1280&h=720&q=90&c=cc', 'https://encrypted-tbn0.gstatic.com/images?q=tbn:ANd9GcTFRmHCbNikAQxu_TbDYNSpTCUe9SVH_Dv8Gg&usqp=CAU', 'https://imagesvc.meredithcorp.io/v3/mm/image?q=85&c=sc&poi=face&w=1440&h=720&url=https%3A%2F%2Fimages.media-allrecipes.com%2Fuserphotos%2F4529364.jpg', 'https://encrypted-tbn0.gstatic.com/images?q=tbn:ANd9GcSdBS8E2P5wQAs278suusyQgBD3YUAQlY-aJA&usqp=CAU', 'https://simplyhomecooked.com/wp-content/uploads/2020/01/ribeye-steak-in-the-oven-8.jpg', 'https://encrypted-tbn0.gstatic.com/images?q=tbn:ANd9GcQlSn7lLmCpZfyaYJqZIriuer4cdQvp1GQk3A&usqp=CAU', 'https://encrypted-tbn0.gstatic.com/images?q=tbn:ANd9GcSl8a2ZIep1Ldv0JdylLmm5flU9DOy1Pwr1tQ&usqp=CAU', 'https://encrypted-tbn0.gstatic.com/images?q=tbn:ANd9GcSJfcR5VFBs1enqkRqGItdMZDAHltyByEemjw&usqp=CAU', 'https://www.tasteofhome.com/wp-content/uploads/2019/10/raw-ribeye-steak-lying-on-kraft-shutterstock_741791194.jpg?fit=700,700', 'https://encrypted-tbn0.gstatic.com/images?q=tbn:ANd9GcScadqbcpKQ_OgDAbNqYPVw6P8CQhEYOI2Obw&usqp=CAU', 'https://encrypted-tbn0.gstatic.com/images?q=tbn:ANd9GcRfWu3v3iVmgzYoE_WYYYvCpWWm0n6P4q8g3A&usqp=CAU', 'https://hot-thai-kitchen.com/wp-content/uploads/2021/09/Grilled-Steak-blog.jpg', 'https://encrypted-tbn0.gstatic.com/images?q=tbn:ANd9GcR7KKlmQJKidpVdL6EZS20QCM38tIVuqbrK2g&usqp=CAU', 'https://encrypted-tbn0.gstatic.com/images?q=tbn:ANd9GcRsmDSJ3sFeepHSrJTqOt0pIFRyIqOPtwaB_Q&usqp=CAU', 'https://embed.widencdn.net/img/beef/4zddc8i3wx/800x600px/Ranch%20Steak.psd?keep=c&u=7fueml', 'https://encrypted-tbn0.gstatic.com/images?q=tbn:ANd9GcQLMPc3CL5lTXNh0YXfdv7UJ0j3EhqACh-GTQ&usqp=CAU', 'https://hips.hearstapps.com/hmg-prod/images/delish-190807-air-fryer-steak-0085-landscape-pf-1566237752.jpg', 'https://www.thekingsburyhotel.com/blog/wp-content/uploads/sites/3/2020/01/kings-steakbar-kingsbury.jpg', 'https://encrypted-tbn0.gstatic.com/images?q=tbn:ANd9GcRJOhccTmP4zhf_1ukm5IFIZ3403JtBtUzr8A&usqp=CAU', 'https://media.istockphoto.com/photos/grilled-and-cut-flat-iron-steak-marble-beef-meat-black-background-top-picture-id1294885860?b=1&k=20&m=1294885860&s=170667a&w=0&h=jjYVbi7KYPS6IIoBVdg-XltS0EOubTNlCV8iurSOnss=', 'https://images.unsplash.com/photo-1600891964092-4316c288032e?ixlib=rb-1.2.1&ixid=MnwxMjA3fDB8MHxzZWFyY2h8Mnx8c3RlYWt8ZW58MHx8MHx8&w=1000&q=80', 'https://encrypted-tbn0.gstatic.com/images?q=tbn:ANd9GcTUR4oCBb0ToleXH3BUjmiRKfTw3OPXyHJMuA&usqp=CAU', 'https://thumbor.thedailymeal.com/LFFjZXMTXLG73XG7UAFTXQ5eaJc=/870x565/filters:focal(600x400:601x401)/https://www.thedailymeal.com/sites/default/files/recipe/2020/6_butter_steak.jpg', 'https://images-gmi-pmc.edge-generalmills.com/b57ee35f-bce2-4229-8bf5-19b97876a4cb.jpg', 'https://hips.hearstapps.com/hmg-prod.s3.amazonaws.com/images/types-of-steak-1581612094.jpg?crop=0.668xw:1.00xh;0.162xw,0&resize=640:*', 'https://encrypted-tbn0.gstatic.com/images?q=tbn:ANd9GcTHSsQJoUThkZ3CScM-pcBVbq0rLWaFOYwm0A&usqp=CAU', 'https://www.foodrepublic.com/wp-content/uploads/2012/05/testkitchen_argentinesteak-1280x560.jpg', 'https://encrypted-tbn0.gstatic.com/images?q=tbn:ANd9GcSWJ9pBlQtS2r8vTXFqcHo7a1jRtYVkPZLJ_g&usqp=CAU', 'https://encrypted-tbn0.gstatic.com/images?q=tbn:ANd9GcQH-nF8c_M9JAIcT4shLOUWoX5Gi7QOig9X3Q&usqp=CAU', 'https://assets.epicurious.com/photos/57bb35cdb6069b112362e097/16:9/w_1280,c_limit/pan-grilled-steak.jpg', 'https://www.jessicagavin.com/wp-content/uploads/2018/06/how-to-reverse-sear-a-steak-11-1200-500x500.jpg', 'https://encrypted-tbn0.gstatic.com/images?q=tbn:ANd9GcRYAiko6MaajQ8qX-HSuDDXsYy3qjEkZGbjbg&usqp=CAU'}\n"
     ]
    },
    {
     "name": "stderr",
     "output_type": "stream",
     "text": [
      "C:\\Users\\mandeep.singh\\Anaconda3\\lib\\site-packages\\urllib3\\connectionpool.py:1013: InsecureRequestWarning: Unverified HTTPS request is being made to host 'encrypted-tbn0.gstatic.com'. Adding certificate verification is strongly advised. See: https://urllib3.readthedocs.io/en/latest/advanced-usage.html#ssl-warnings\n",
      "  warnings.warn(\n"
     ]
    },
    {
     "name": "stdout",
     "output_type": "stream",
     "text": [
      "SUCCESS - saved https://encrypted-tbn0.gstatic.com/images?q=tbn:ANd9GcTdHvcYbjBccbKQgPts9e2NGyexEG4AWVzD0Q&usqp=CAU - as ./images\\steak\\73f2229858.jpg\n"
     ]
    },
    {
     "name": "stderr",
     "output_type": "stream",
     "text": [
      "C:\\Users\\mandeep.singh\\Anaconda3\\lib\\site-packages\\urllib3\\connectionpool.py:1013: InsecureRequestWarning: Unverified HTTPS request is being made to host 'thestayathomechef.com'. Adding certificate verification is strongly advised. See: https://urllib3.readthedocs.io/en/latest/advanced-usage.html#ssl-warnings\n",
      "  warnings.warn(\n"
     ]
    },
    {
     "name": "stdout",
     "output_type": "stream",
     "text": [
      "SUCCESS - saved https://thestayathomechef.com/wp-content/uploads/2019/07/HowtoGrillSteak2.jpg - as ./images\\steak\\3bfb05e237.jpg\n"
     ]
    },
    {
     "name": "stderr",
     "output_type": "stream",
     "text": [
      "C:\\Users\\mandeep.singh\\Anaconda3\\lib\\site-packages\\urllib3\\connectionpool.py:1013: InsecureRequestWarning: Unverified HTTPS request is being made to host 'www.recipetineats.com'. Adding certificate verification is strongly advised. See: https://urllib3.readthedocs.io/en/latest/advanced-usage.html#ssl-warnings\n",
      "  warnings.warn(\n"
     ]
    },
    {
     "name": "stdout",
     "output_type": "stream",
     "text": [
      "SUCCESS - saved https://www.recipetineats.com/wp-content/uploads/2020/02/Steak-Marinade_4-SQ.jpg - as ./images\\steak\\039d2476cb.jpg\n"
     ]
    },
    {
     "name": "stderr",
     "output_type": "stream",
     "text": [
      "C:\\Users\\mandeep.singh\\Anaconda3\\lib\\site-packages\\urllib3\\connectionpool.py:1013: InsecureRequestWarning: Unverified HTTPS request is being made to host 'cdn.apartmenttherapy.info'. Adding certificate verification is strongly advised. See: https://urllib3.readthedocs.io/en/latest/advanced-usage.html#ssl-warnings\n",
      "  warnings.warn(\n"
     ]
    },
    {
     "name": "stdout",
     "output_type": "stream",
     "text": [
      "SUCCESS - saved https://cdn.apartmenttherapy.info/image/upload/f_jpg,q_auto:eco,c_fill,g_auto,w_1500,ar_16:9/k%2Farchive%2F2816f86937ebc7019a513d858cec8e0c55d38890 - as ./images\\steak\\37f63dc939.jpg\n"
     ]
    },
    {
     "name": "stderr",
     "output_type": "stream",
     "text": [
      "C:\\Users\\mandeep.singh\\Anaconda3\\lib\\site-packages\\urllib3\\connectionpool.py:1013: InsecureRequestWarning: Unverified HTTPS request is being made to host 'www.recipetineats.com'. Adding certificate verification is strongly advised. See: https://urllib3.readthedocs.io/en/latest/advanced-usage.html#ssl-warnings\n",
      "  warnings.warn(\n"
     ]
    },
    {
     "name": "stdout",
     "output_type": "stream",
     "text": [
      "SUCCESS - saved https://www.recipetineats.com/wp-content/uploads/2019/07/Cheffy-Garlic-Butter-Steak_9.jpg?w=500&h=500&crop=1 - as ./images\\steak\\38c6f25b14.jpg\n"
     ]
    },
    {
     "name": "stderr",
     "output_type": "stream",
     "text": [
      "C:\\Users\\mandeep.singh\\Anaconda3\\lib\\site-packages\\urllib3\\connectionpool.py:1013: InsecureRequestWarning: Unverified HTTPS request is being made to host 'hips.hearstapps.com'. Adding certificate verification is strongly advised. See: https://urllib3.readthedocs.io/en/latest/advanced-usage.html#ssl-warnings\n",
      "  warnings.warn(\n",
      "C:\\Users\\mandeep.singh\\Anaconda3\\lib\\site-packages\\urllib3\\connectionpool.py:1013: InsecureRequestWarning: Unverified HTTPS request is being made to host 'i.ytimg.com'. Adding certificate verification is strongly advised. See: https://urllib3.readthedocs.io/en/latest/advanced-usage.html#ssl-warnings\n",
      "  warnings.warn(\n"
     ]
    },
    {
     "name": "stdout",
     "output_type": "stream",
     "text": [
      "SUCCESS - saved https://hips.hearstapps.com/hmg-prod.s3.amazonaws.com/images/new-york-strip-steak-1611169880.jpg?crop=1.00xw:0.668xh;0,0.160xh&resize=640:* - as ./images\\steak\\60730cdd4b.jpg\n",
      "SUCCESS - saved https://i.ytimg.com/vi/OuhKtpO9zuI/maxresdefault.jpg - as ./images\\steak\\65b09cc557.jpg\n"
     ]
    },
    {
     "name": "stderr",
     "output_type": "stream",
     "text": [
      "C:\\Users\\mandeep.singh\\Anaconda3\\lib\\site-packages\\urllib3\\connectionpool.py:1013: InsecureRequestWarning: Unverified HTTPS request is being made to host 'encrypted-tbn0.gstatic.com'. Adding certificate verification is strongly advised. See: https://urllib3.readthedocs.io/en/latest/advanced-usage.html#ssl-warnings\n",
      "  warnings.warn(\n"
     ]
    },
    {
     "name": "stdout",
     "output_type": "stream",
     "text": [
      "SUCCESS - saved https://encrypted-tbn0.gstatic.com/images?q=tbn:ANd9GcTP_5NzbmcU0tGuV0LhWs3b4pdvE_3s9LZvBA&usqp=CAU - as ./images\\steak\\f85b52fa65.jpg\n"
     ]
    },
    {
     "name": "stderr",
     "output_type": "stream",
     "text": [
      "C:\\Users\\mandeep.singh\\Anaconda3\\lib\\site-packages\\urllib3\\connectionpool.py:1013: InsecureRequestWarning: Unverified HTTPS request is being made to host 'upload.wikimedia.org'. Adding certificate verification is strongly advised. See: https://urllib3.readthedocs.io/en/latest/advanced-usage.html#ssl-warnings\n",
      "  warnings.warn(\n"
     ]
    },
    {
     "name": "stdout",
     "output_type": "stream",
     "text": [
      "SUCCESS - saved https://upload.wikimedia.org/wikipedia/commons/thumb/3/31/Wagyu_rump_steak_and_eggs_-_Jones_the_Grocer%2C_Chadstone.jpg/1200px-Wagyu_rump_steak_and_eggs_-_Jones_the_Grocer%2C_Chadstone.jpg - as ./images\\steak\\9e9044ad9a.jpg\n"
     ]
    },
    {
     "name": "stderr",
     "output_type": "stream",
     "text": [
      "C:\\Users\\mandeep.singh\\Anaconda3\\lib\\site-packages\\urllib3\\connectionpool.py:1013: InsecureRequestWarning: Unverified HTTPS request is being made to host 'hips.hearstapps.com'. Adding certificate verification is strongly advised. See: https://urllib3.readthedocs.io/en/latest/advanced-usage.html#ssl-warnings\n",
      "  warnings.warn(\n"
     ]
    },
    {
     "name": "stdout",
     "output_type": "stream",
     "text": [
      "SUCCESS - saved https://hips.hearstapps.com/delish/assets/18/08/1519155106-flank-steak-horizontal.jpg - as ./images\\steak\\a40636f3c3.jpg\n",
      "SUCCESS - saved https://encrypted-tbn0.gstatic.com/images?q=tbn:ANd9GcR-HIInp4EpOmtFQMtgCNPLEO0g5I9lEELN8w&usqp=CAU - as ./images\\steak\\b1f48c7d21.jpg\n"
     ]
    },
    {
     "name": "stderr",
     "output_type": "stream",
     "text": [
      "C:\\Users\\mandeep.singh\\Anaconda3\\lib\\site-packages\\urllib3\\connectionpool.py:1013: InsecureRequestWarning: Unverified HTTPS request is being made to host 'encrypted-tbn0.gstatic.com'. Adding certificate verification is strongly advised. See: https://urllib3.readthedocs.io/en/latest/advanced-usage.html#ssl-warnings\n",
      "  warnings.warn(\n",
      "C:\\Users\\mandeep.singh\\Anaconda3\\lib\\site-packages\\urllib3\\connectionpool.py:1013: InsecureRequestWarning: Unverified HTTPS request is being made to host 'www.ft.com'. Adding certificate verification is strongly advised. See: https://urllib3.readthedocs.io/en/latest/advanced-usage.html#ssl-warnings\n",
      "  warnings.warn(\n"
     ]
    },
    {
     "name": "stdout",
     "output_type": "stream",
     "text": [
      "SUCCESS - saved https://www.ft.com/__origami/service/image/v2/images/raw/https%3A%2F%2Fd1e00ek4ebabms.cloudfront.net%2Fproduction%2F159d2619-2e20-4df0-a81a-8f844795f53a.jpg?fit=scale-down&source=next&width=700 - as ./images\\steak\\235d430d4e.jpg\n"
     ]
    },
    {
     "name": "stderr",
     "output_type": "stream",
     "text": [
      "C:\\Users\\mandeep.singh\\Anaconda3\\lib\\site-packages\\urllib3\\connectionpool.py:1013: InsecureRequestWarning: Unverified HTTPS request is being made to host 'encrypted-tbn0.gstatic.com'. Adding certificate verification is strongly advised. See: https://urllib3.readthedocs.io/en/latest/advanced-usage.html#ssl-warnings\n",
      "  warnings.warn(\n"
     ]
    },
    {
     "name": "stdout",
     "output_type": "stream",
     "text": [
      "SUCCESS - saved https://encrypted-tbn0.gstatic.com/images?q=tbn:ANd9GcQ1v2_oycxtVmSeylv07Da_wi5F5NLAZu6t9w&usqp=CAU - as ./images\\steak\\3065163150.jpg\n"
     ]
    },
    {
     "name": "stderr",
     "output_type": "stream",
     "text": [
      "C:\\Users\\mandeep.singh\\Anaconda3\\lib\\site-packages\\urllib3\\connectionpool.py:1013: InsecureRequestWarning: Unverified HTTPS request is being made to host 'encrypted-tbn0.gstatic.com'. Adding certificate verification is strongly advised. See: https://urllib3.readthedocs.io/en/latest/advanced-usage.html#ssl-warnings\n",
      "  warnings.warn(\n"
     ]
    },
    {
     "name": "stdout",
     "output_type": "stream",
     "text": [
      "SUCCESS - saved https://encrypted-tbn0.gstatic.com/images?q=tbn:ANd9GcQ5STkD2p7mzHhw3G5epD3GdQqlfvF1JXwLIw&usqp=CAU - as ./images\\steak\\3d5ce29db2.jpg\n",
      "SUCCESS - saved https://encrypted-tbn0.gstatic.com/images?q=tbn:ANd9GcRsl7NGzkIwB7AI6vmYQJuJ_58mVs31byzEGg&usqp=CAU - as ./images\\steak\\424da62f04.jpg\n"
     ]
    },
    {
     "name": "stderr",
     "output_type": "stream",
     "text": [
      "C:\\Users\\mandeep.singh\\Anaconda3\\lib\\site-packages\\urllib3\\connectionpool.py:1013: InsecureRequestWarning: Unverified HTTPS request is being made to host 'encrypted-tbn0.gstatic.com'. Adding certificate verification is strongly advised. See: https://urllib3.readthedocs.io/en/latest/advanced-usage.html#ssl-warnings\n",
      "  warnings.warn(\n",
      "C:\\Users\\mandeep.singh\\Anaconda3\\lib\\site-packages\\urllib3\\connectionpool.py:1013: InsecureRequestWarning: Unverified HTTPS request is being made to host 'encrypted-tbn0.gstatic.com'. Adding certificate verification is strongly advised. See: https://urllib3.readthedocs.io/en/latest/advanced-usage.html#ssl-warnings\n",
      "  warnings.warn(\n"
     ]
    },
    {
     "name": "stdout",
     "output_type": "stream",
     "text": [
      "SUCCESS - saved https://encrypted-tbn0.gstatic.com/images?q=tbn:ANd9GcRZHoZ7m6FbeTjtaWdku-6ept2_7rT07KQ6Yw&usqp=CAU - as ./images\\steak\\984672d466.jpg\n"
     ]
    },
    {
     "name": "stderr",
     "output_type": "stream",
     "text": [
      "C:\\Users\\mandeep.singh\\Anaconda3\\lib\\site-packages\\urllib3\\connectionpool.py:1013: InsecureRequestWarning: Unverified HTTPS request is being made to host 'www.thespruceeats.com'. Adding certificate verification is strongly advised. See: https://urllib3.readthedocs.io/en/latest/advanced-usage.html#ssl-warnings\n",
      "  warnings.warn(\n"
     ]
    },
    {
     "name": "stdout",
     "output_type": "stream",
     "text": [
      "SUCCESS - saved https://www.thespruceeats.com/thmb/hl4lkmdLO7tj1eDCsGbakfk97Co=/3088x2055/filters:fill(auto,1)/marinated-top-round-steak-3060302-hero-02-ed071d5d7e584bea82857112aa734a94.jpg - as ./images\\steak\\071eb7e729.jpg\n",
      "SUCCESS - saved https://encrypted-tbn0.gstatic.com/images?q=tbn:ANd9GcRuIElnKOfv7qxWJojyUvxb5CZj0v2zOjQzSQ&usqp=CAU - as ./images\\steak\\6dee1e7be6.jpg\n"
     ]
    },
    {
     "name": "stderr",
     "output_type": "stream",
     "text": [
      "C:\\Users\\mandeep.singh\\Anaconda3\\lib\\site-packages\\urllib3\\connectionpool.py:1013: InsecureRequestWarning: Unverified HTTPS request is being made to host 'encrypted-tbn0.gstatic.com'. Adding certificate verification is strongly advised. See: https://urllib3.readthedocs.io/en/latest/advanced-usage.html#ssl-warnings\n",
      "  warnings.warn(\n",
      "C:\\Users\\mandeep.singh\\Anaconda3\\lib\\site-packages\\urllib3\\connectionpool.py:1013: InsecureRequestWarning: Unverified HTTPS request is being made to host 'encrypted-tbn0.gstatic.com'. Adding certificate verification is strongly advised. See: https://urllib3.readthedocs.io/en/latest/advanced-usage.html#ssl-warnings\n",
      "  warnings.warn(\n"
     ]
    },
    {
     "name": "stdout",
     "output_type": "stream",
     "text": [
      "SUCCESS - saved https://encrypted-tbn0.gstatic.com/images?q=tbn:ANd9GcShousy2SXAmLr_1zepdQl3ZS9rlcZqmH5JDQ&usqp=CAU - as ./images\\steak\\732e0b4d55.jpg\n",
      "SUCCESS - saved https://encrypted-tbn0.gstatic.com/images?q=tbn:ANd9GcTbVCZKN9gav2qzcwe1LJxCCwFUQYyVD8ZWPg&usqp=CAU - as ./images\\steak\\2022ace60d.jpg\n"
     ]
    },
    {
     "name": "stderr",
     "output_type": "stream",
     "text": [
      "C:\\Users\\mandeep.singh\\Anaconda3\\lib\\site-packages\\urllib3\\connectionpool.py:1013: InsecureRequestWarning: Unverified HTTPS request is being made to host 'encrypted-tbn0.gstatic.com'. Adding certificate verification is strongly advised. See: https://urllib3.readthedocs.io/en/latest/advanced-usage.html#ssl-warnings\n",
      "  warnings.warn(\n",
      "C:\\Users\\mandeep.singh\\Anaconda3\\lib\\site-packages\\urllib3\\connectionpool.py:1013: InsecureRequestWarning: Unverified HTTPS request is being made to host 'encrypted-tbn0.gstatic.com'. Adding certificate verification is strongly advised. See: https://urllib3.readthedocs.io/en/latest/advanced-usage.html#ssl-warnings\n",
      "  warnings.warn(\n"
     ]
    },
    {
     "name": "stdout",
     "output_type": "stream",
     "text": [
      "SUCCESS - saved https://encrypted-tbn0.gstatic.com/images?q=tbn:ANd9GcTd2HJZWSZ1curZU7nDLtlaY-vea-aThzaf3Q&usqp=CAU - as ./images\\steak\\360bfb0150.jpg\n"
     ]
    },
    {
     "name": "stderr",
     "output_type": "stream",
     "text": [
      "C:\\Users\\mandeep.singh\\Anaconda3\\lib\\site-packages\\urllib3\\connectionpool.py:1013: InsecureRequestWarning: Unverified HTTPS request is being made to host 'www.wearegurgaon.com'. Adding certificate verification is strongly advised. See: https://urllib3.readthedocs.io/en/latest/advanced-usage.html#ssl-warnings\n",
      "  warnings.warn(\n"
     ]
    },
    {
     "name": "stdout",
     "output_type": "stream",
     "text": [
      "SUCCESS - saved https://www.wearegurgaon.com/wp-content/uploads/2017/08/best-steaks-house-in-gurgaon.jpg - as ./images\\steak\\b51595ab38.jpg\n",
      "SUCCESS - saved https://encrypted-tbn0.gstatic.com/images?q=tbn:ANd9GcS1-CXy93y5rQIBMv7BWJDJEknZtDkXX_fP8Q&usqp=CAU - as ./images\\steak\\60fae6118e.jpg\n"
     ]
    },
    {
     "name": "stderr",
     "output_type": "stream",
     "text": [
      "C:\\Users\\mandeep.singh\\Anaconda3\\lib\\site-packages\\urllib3\\connectionpool.py:1013: InsecureRequestWarning: Unverified HTTPS request is being made to host 'encrypted-tbn0.gstatic.com'. Adding certificate verification is strongly advised. See: https://urllib3.readthedocs.io/en/latest/advanced-usage.html#ssl-warnings\n",
      "  warnings.warn(\n",
      "C:\\Users\\mandeep.singh\\Anaconda3\\lib\\site-packages\\urllib3\\connectionpool.py:1013: InsecureRequestWarning: Unverified HTTPS request is being made to host 'c.ndtvimg.com'. Adding certificate verification is strongly advised. See: https://urllib3.readthedocs.io/en/latest/advanced-usage.html#ssl-warnings\n",
      "  warnings.warn(\n",
      "C:\\Users\\mandeep.singh\\Anaconda3\\lib\\site-packages\\urllib3\\connectionpool.py:1013: InsecureRequestWarning: Unverified HTTPS request is being made to host 'encrypted-tbn0.gstatic.com'. Adding certificate verification is strongly advised. See: https://urllib3.readthedocs.io/en/latest/advanced-usage.html#ssl-warnings\n",
      "  warnings.warn(\n"
     ]
    },
    {
     "name": "stdout",
     "output_type": "stream",
     "text": [
      "ERROR - Could not save https://c.ndtvimg.com/2019-09/7gqbduk8_paneer-steak_625x300_26_September_19.jpg - cannot identify image file <_io.BytesIO object at 0x0000024D6D3F6D60>\n",
      "SUCCESS - saved https://encrypted-tbn0.gstatic.com/images?q=tbn:ANd9GcShAjhNP3tReymrVS3sGBeNQOcYbJ3PmCne5A&usqp=CAU - as ./images\\steak\\d71fe372de.jpg\n"
     ]
    },
    {
     "name": "stderr",
     "output_type": "stream",
     "text": [
      "C:\\Users\\mandeep.singh\\Anaconda3\\lib\\site-packages\\urllib3\\connectionpool.py:1013: InsecureRequestWarning: Unverified HTTPS request is being made to host 'cookthestory.com'. Adding certificate verification is strongly advised. See: https://urllib3.readthedocs.io/en/latest/advanced-usage.html#ssl-warnings\n",
      "  warnings.warn(\n"
     ]
    },
    {
     "name": "stdout",
     "output_type": "stream",
     "text": [
      "SUCCESS - saved https://cookthestory.com/wp-content/uploads/2018/09/Steak-from-Frozen-1392x780-1716.jpg - as ./images\\steak\\8f288fbd52.jpg\n"
     ]
    },
    {
     "name": "stderr",
     "output_type": "stream",
     "text": [
      "C:\\Users\\mandeep.singh\\Anaconda3\\lib\\site-packages\\urllib3\\connectionpool.py:1013: InsecureRequestWarning: Unverified HTTPS request is being made to host 'www.simplyrecipes.com'. Adding certificate verification is strongly advised. See: https://urllib3.readthedocs.io/en/latest/advanced-usage.html#ssl-warnings\n",
      "  warnings.warn(\n"
     ]
    },
    {
     "name": "stdout",
     "output_type": "stream",
     "text": [
      "SUCCESS - saved https://www.simplyrecipes.com/thmb/CIYTrDtbZ7xHq91Zz03q7NtoguM=/2000x1333/filters:no_upscale():max_bytes(150000):strip_icc()/__opt__aboutcom__coeus__resources__content_migration__simply_recipes__uploads__2019__06__Grilled-Flank-Steak-LEAD-1-93743d42c7cc48fca120140a0da38673.jpg - as ./images\\steak\\b5394cebf5.jpg\n"
     ]
    },
    {
     "name": "stderr",
     "output_type": "stream",
     "text": [
      "C:\\Users\\mandeep.singh\\Anaconda3\\lib\\site-packages\\urllib3\\connectionpool.py:1013: InsecureRequestWarning: Unverified HTTPS request is being made to host 'natashaskitchen.com'. Adding certificate verification is strongly advised. See: https://urllib3.readthedocs.io/en/latest/advanced-usage.html#ssl-warnings\n",
      "  warnings.warn(\n"
     ]
    },
    {
     "name": "stdout",
     "output_type": "stream",
     "text": [
      "SUCCESS - saved https://natashaskitchen.com/wp-content/uploads/2020/03/Pan-Seared-Steak-4.jpg - as ./images\\steak\\83742d6602.jpg\n"
     ]
    },
    {
     "name": "stderr",
     "output_type": "stream",
     "text": [
      "C:\\Users\\mandeep.singh\\Anaconda3\\lib\\site-packages\\urllib3\\connectionpool.py:1013: InsecureRequestWarning: Unverified HTTPS request is being made to host 'encrypted-tbn0.gstatic.com'. Adding certificate verification is strongly advised. See: https://urllib3.readthedocs.io/en/latest/advanced-usage.html#ssl-warnings\n",
      "  warnings.warn(\n"
     ]
    },
    {
     "name": "stdout",
     "output_type": "stream",
     "text": [
      "SUCCESS - saved https://encrypted-tbn0.gstatic.com/images?q=tbn:ANd9GcQo42WQbol793exWkdCSQ4tv4t07GIjZWoOGw&usqp=CAU - as ./images\\steak\\585d2496fe.jpg\n"
     ]
    },
    {
     "name": "stderr",
     "output_type": "stream",
     "text": [
      "C:\\Users\\mandeep.singh\\Anaconda3\\lib\\site-packages\\urllib3\\connectionpool.py:1013: InsecureRequestWarning: Unverified HTTPS request is being made to host 'encrypted-tbn0.gstatic.com'. Adding certificate verification is strongly advised. See: https://urllib3.readthedocs.io/en/latest/advanced-usage.html#ssl-warnings\n",
      "  warnings.warn(\n"
     ]
    },
    {
     "name": "stdout",
     "output_type": "stream",
     "text": [
      "SUCCESS - saved https://encrypted-tbn0.gstatic.com/images?q=tbn:ANd9GcT87YbJERHT-DsXLwqkzJjU2H6I1t-ruYaPVA&usqp=CAU - as ./images\\steak\\571087b5ad.jpg\n"
     ]
    },
    {
     "name": "stderr",
     "output_type": "stream",
     "text": [
      "C:\\Users\\mandeep.singh\\Anaconda3\\lib\\site-packages\\urllib3\\connectionpool.py:1013: InsecureRequestWarning: Unverified HTTPS request is being made to host 'encrypted-tbn0.gstatic.com'. Adding certificate verification is strongly advised. See: https://urllib3.readthedocs.io/en/latest/advanced-usage.html#ssl-warnings\n",
      "  warnings.warn(\n"
     ]
    },
    {
     "name": "stdout",
     "output_type": "stream",
     "text": [
      "SUCCESS - saved https://encrypted-tbn0.gstatic.com/images?q=tbn:ANd9GcR_NfVZNjJ47RsFfCHkV-Dyd6jlKF82lyJyzA&usqp=CAU - as ./images\\steak\\2cfdc59152.jpg\n"
     ]
    },
    {
     "name": "stderr",
     "output_type": "stream",
     "text": [
      "C:\\Users\\mandeep.singh\\Anaconda3\\lib\\site-packages\\urllib3\\connectionpool.py:1013: InsecureRequestWarning: Unverified HTTPS request is being made to host 'encrypted-tbn0.gstatic.com'. Adding certificate verification is strongly advised. See: https://urllib3.readthedocs.io/en/latest/advanced-usage.html#ssl-warnings\n",
      "  warnings.warn(\n"
     ]
    },
    {
     "name": "stdout",
     "output_type": "stream",
     "text": [
      "SUCCESS - saved https://encrypted-tbn0.gstatic.com/images?q=tbn:ANd9GcRtFeRJk4SKZSGHU5yovBK54uxiNDhsmiM-2Q&usqp=CAU - as ./images\\steak\\beba066ce3.jpg\n"
     ]
    },
    {
     "name": "stderr",
     "output_type": "stream",
     "text": [
      "C:\\Users\\mandeep.singh\\Anaconda3\\lib\\site-packages\\urllib3\\connectionpool.py:1013: InsecureRequestWarning: Unverified HTTPS request is being made to host 'media-cldnry.s-nbcnews.com'. Adding certificate verification is strongly advised. See: https://urllib3.readthedocs.io/en/latest/advanced-usage.html#ssl-warnings\n",
      "  warnings.warn(\n"
     ]
    },
    {
     "name": "stdout",
     "output_type": "stream",
     "text": [
      "SUCCESS - saved https://media-cldnry.s-nbcnews.com/image/upload/newscms/2021_32/1761456/grilled-steak-te-main-210813.jpg - as ./images\\steak\\cb74a43fe6.jpg\n"
     ]
    },
    {
     "name": "stderr",
     "output_type": "stream",
     "text": [
      "C:\\Users\\mandeep.singh\\Anaconda3\\lib\\site-packages\\urllib3\\connectionpool.py:1013: InsecureRequestWarning: Unverified HTTPS request is being made to host 'encrypted-tbn0.gstatic.com'. Adding certificate verification is strongly advised. See: https://urllib3.readthedocs.io/en/latest/advanced-usage.html#ssl-warnings\n",
      "  warnings.warn(\n",
      "C:\\Users\\mandeep.singh\\Anaconda3\\lib\\site-packages\\urllib3\\connectionpool.py:1013: InsecureRequestWarning: Unverified HTTPS request is being made to host 'encrypted-tbn0.gstatic.com'. Adding certificate verification is strongly advised. See: https://urllib3.readthedocs.io/en/latest/advanced-usage.html#ssl-warnings\n",
      "  warnings.warn(\n"
     ]
    },
    {
     "name": "stdout",
     "output_type": "stream",
     "text": [
      "SUCCESS - saved https://encrypted-tbn0.gstatic.com/images?q=tbn:ANd9GcSxzi-b8TGEjkDEo3Ju9xJXBxagaRu4HknBiA&usqp=CAU - as ./images\\steak\\fdc97600e7.jpg\n",
      "SUCCESS - saved https://encrypted-tbn0.gstatic.com/images?q=tbn:ANd9GcQJRcW1Cv4N8rE4sTvvYyQrg195u3UgmveWYg&usqp=CAU - as ./images\\steak\\8a97eb601c.jpg\n"
     ]
    },
    {
     "name": "stderr",
     "output_type": "stream",
     "text": [
      "C:\\Users\\mandeep.singh\\Anaconda3\\lib\\site-packages\\urllib3\\connectionpool.py:1013: InsecureRequestWarning: Unverified HTTPS request is being made to host 'imagesvc.meredithcorp.io'. Adding certificate verification is strongly advised. See: https://urllib3.readthedocs.io/en/latest/advanced-usage.html#ssl-warnings\n",
      "  warnings.warn(\n"
     ]
    },
    {
     "name": "stdout",
     "output_type": "stream",
     "text": [
      "SUCCESS - saved https://imagesvc.meredithcorp.io/v3/mm/image?url=https%3A%2F%2Fimagesvc.meredithcorp.io%2Fv3%2Fmm%2Fimage%3Furl%3Dhttps%253A%252F%252Fstatic.onecms.io%252Fwp-content%252Fuploads%252Fsites%252F19%252F2005%252F06%252F13%252Fmr20reshoot20sirloin-2000.jpg&q=85 - as ./images\\steak\\d5ebae6768.jpg\n"
     ]
    },
    {
     "name": "stderr",
     "output_type": "stream",
     "text": [
      "C:\\Users\\mandeep.singh\\Anaconda3\\lib\\site-packages\\urllib3\\connectionpool.py:1013: InsecureRequestWarning: Unverified HTTPS request is being made to host 'encrypted-tbn0.gstatic.com'. Adding certificate verification is strongly advised. See: https://urllib3.readthedocs.io/en/latest/advanced-usage.html#ssl-warnings\n",
      "  warnings.warn(\n",
      "C:\\Users\\mandeep.singh\\Anaconda3\\lib\\site-packages\\urllib3\\connectionpool.py:1013: InsecureRequestWarning: Unverified HTTPS request is being made to host 'encrypted-tbn0.gstatic.com'. Adding certificate verification is strongly advised. See: https://urllib3.readthedocs.io/en/latest/advanced-usage.html#ssl-warnings\n",
      "  warnings.warn(\n"
     ]
    },
    {
     "name": "stdout",
     "output_type": "stream",
     "text": [
      "SUCCESS - saved https://encrypted-tbn0.gstatic.com/images?q=tbn:ANd9GcTRTRM7P0UGtVTlPrSr3n-A0GeMXU-cXEXG-g&usqp=CAU - as ./images\\steak\\539a660796.jpg\n",
      "SUCCESS - saved https://encrypted-tbn0.gstatic.com/images?q=tbn:ANd9GcQxPCinBwNheR7u_Z3gCfnQSYQfKtl6oSEr_w&usqp=CAU - as ./images\\steak\\64f87ebef8.jpg\n"
     ]
    },
    {
     "name": "stderr",
     "output_type": "stream",
     "text": [
      "C:\\Users\\mandeep.singh\\Anaconda3\\lib\\site-packages\\urllib3\\connectionpool.py:1013: InsecureRequestWarning: Unverified HTTPS request is being made to host 'encrypted-tbn0.gstatic.com'. Adding certificate verification is strongly advised. See: https://urllib3.readthedocs.io/en/latest/advanced-usage.html#ssl-warnings\n",
      "  warnings.warn(\n"
     ]
    },
    {
     "name": "stdout",
     "output_type": "stream",
     "text": [
      "SUCCESS - saved https://encrypted-tbn0.gstatic.com/images?q=tbn:ANd9GcROttPKaM7wno5wO9hoTwoQbCsgZVipgSEAjw&usqp=CAU - as ./images\\steak\\f92ad022a7.jpg\n"
     ]
    },
    {
     "name": "stderr",
     "output_type": "stream",
     "text": [
      "C:\\Users\\mandeep.singh\\Anaconda3\\lib\\site-packages\\urllib3\\connectionpool.py:1013: InsecureRequestWarning: Unverified HTTPS request is being made to host 'encrypted-tbn0.gstatic.com'. Adding certificate verification is strongly advised. See: https://urllib3.readthedocs.io/en/latest/advanced-usage.html#ssl-warnings\n",
      "  warnings.warn(\n"
     ]
    },
    {
     "name": "stdout",
     "output_type": "stream",
     "text": [
      "SUCCESS - saved https://encrypted-tbn0.gstatic.com/images?q=tbn:ANd9GcTnIyhJFNROh70uvUQfeanOPUQX9IfFBr_zeg&usqp=CAU - as ./images\\steak\\3f03be4c50.jpg\n"
     ]
    },
    {
     "name": "stderr",
     "output_type": "stream",
     "text": [
      "C:\\Users\\mandeep.singh\\Anaconda3\\lib\\site-packages\\urllib3\\connectionpool.py:1013: InsecureRequestWarning: Unverified HTTPS request is being made to host 'encrypted-tbn0.gstatic.com'. Adding certificate verification is strongly advised. See: https://urllib3.readthedocs.io/en/latest/advanced-usage.html#ssl-warnings\n",
      "  warnings.warn(\n"
     ]
    },
    {
     "name": "stdout",
     "output_type": "stream",
     "text": [
      "SUCCESS - saved https://encrypted-tbn0.gstatic.com/images?q=tbn:ANd9GcQZm-I6v_lxSELY90vW22XGpO3fG6ZUB6Tyow&usqp=CAU - as ./images\\steak\\3804c02f6b.jpg\n"
     ]
    },
    {
     "name": "stderr",
     "output_type": "stream",
     "text": [
      "C:\\Users\\mandeep.singh\\Anaconda3\\lib\\site-packages\\urllib3\\connectionpool.py:1013: InsecureRequestWarning: Unverified HTTPS request is being made to host 'www.wearegurgaon.com'. Adding certificate verification is strongly advised. See: https://urllib3.readthedocs.io/en/latest/advanced-usage.html#ssl-warnings\n",
      "  warnings.warn(\n"
     ]
    },
    {
     "name": "stdout",
     "output_type": "stream",
     "text": [
      "SUCCESS - saved https://www.wearegurgaon.com//wp-content/uploads/2017/08/Chilis-Best-Steak-in-Gurgaon.jpg - as ./images\\steak\\d4b8f8e571.jpg\n"
     ]
    },
    {
     "name": "stderr",
     "output_type": "stream",
     "text": [
      "C:\\Users\\mandeep.singh\\Anaconda3\\lib\\site-packages\\urllib3\\connectionpool.py:1013: InsecureRequestWarning: Unverified HTTPS request is being made to host 'cdn.images.express.co.uk'. Adding certificate verification is strongly advised. See: https://urllib3.readthedocs.io/en/latest/advanced-usage.html#ssl-warnings\n",
      "  warnings.warn(\n"
     ]
    },
    {
     "name": "stdout",
     "output_type": "stream",
     "text": [
      "ERROR - Could not save https://cdn.images.express.co.uk/img/dynamic/14/590x/Royal-steak-recipe-1274635.webp?r=1597355622965 - cannot identify image file <_io.BytesIO object at 0x0000024D6D3D81D0>\n"
     ]
    },
    {
     "name": "stderr",
     "output_type": "stream",
     "text": [
      "C:\\Users\\mandeep.singh\\Anaconda3\\lib\\site-packages\\urllib3\\connectionpool.py:1013: InsecureRequestWarning: Unverified HTTPS request is being made to host 'media.istockphoto.com'. Adding certificate verification is strongly advised. See: https://urllib3.readthedocs.io/en/latest/advanced-usage.html#ssl-warnings\n",
      "  warnings.warn(\n"
     ]
    },
    {
     "name": "stdout",
     "output_type": "stream",
     "text": [
      "SUCCESS - saved https://media.istockphoto.com/photos/steaks-from-fresh-meat-picture-id981092168?k=20&m=981092168&s=612x612&w=0&h=A2BsJfnOrZlCovdaaa_w4aWH10LDVxNULUbDTJxlv_E= - as ./images\\steak\\91e093ede1.jpg\n"
     ]
    },
    {
     "name": "stderr",
     "output_type": "stream",
     "text": [
      "C:\\Users\\mandeep.singh\\Anaconda3\\lib\\site-packages\\urllib3\\connectionpool.py:1013: InsecureRequestWarning: Unverified HTTPS request is being made to host 'media.gettyimages.com'. Adding certificate verification is strongly advised. See: https://urllib3.readthedocs.io/en/latest/advanced-usage.html#ssl-warnings\n",
      "  warnings.warn(\n",
      "C:\\Users\\mandeep.singh\\Anaconda3\\lib\\site-packages\\urllib3\\connectionpool.py:1013: InsecureRequestWarning: Unverified HTTPS request is being made to host 'encrypted-tbn0.gstatic.com'. Adding certificate verification is strongly advised. See: https://urllib3.readthedocs.io/en/latest/advanced-usage.html#ssl-warnings\n",
      "  warnings.warn(\n"
     ]
    },
    {
     "name": "stdout",
     "output_type": "stream",
     "text": [
      "SUCCESS - saved https://media.gettyimages.com/photos/large-juicy-beef-rib-eye-steak-on-a-hot-grill-with-charcoal-and-picture-id1092451104?s=612x612 - as ./images\\steak\\4731ef266f.jpg\n",
      "SUCCESS - saved https://encrypted-tbn0.gstatic.com/images?q=tbn:ANd9GcQrmngzeC1O-yha3k_cOyJQC8-UmwpJ6QM96A&usqp=CAU - as ./images\\steak\\15b3d9daa1.jpg\n"
     ]
    },
    {
     "name": "stderr",
     "output_type": "stream",
     "text": [
      "C:\\Users\\mandeep.singh\\Anaconda3\\lib\\site-packages\\urllib3\\connectionpool.py:1013: InsecureRequestWarning: Unverified HTTPS request is being made to host 'www.simplyrecipes.com'. Adding certificate verification is strongly advised. See: https://urllib3.readthedocs.io/en/latest/advanced-usage.html#ssl-warnings\n",
      "  warnings.warn(\n"
     ]
    },
    {
     "name": "stdout",
     "output_type": "stream",
     "text": [
      "SUCCESS - saved https://www.simplyrecipes.com/thmb/ZgU6lM_B2WjTT82QmuCDsjClkB0=/1777x1333/smart/filters:no_upscale()/__opt__aboutcom__coeus__resources__content_migration__simply_recipes__uploads__2019__08__HT-Cook-Skirt-Steak-LEAD-6-10591ff49faa46868ba23f47c144a013.jpg - as ./images\\steak\\5239120f38.jpg\n"
     ]
    },
    {
     "name": "stderr",
     "output_type": "stream",
     "text": [
      "C:\\Users\\mandeep.singh\\Anaconda3\\lib\\site-packages\\urllib3\\connectionpool.py:1013: InsecureRequestWarning: Unverified HTTPS request is being made to host 'encrypted-tbn0.gstatic.com'. Adding certificate verification is strongly advised. See: https://urllib3.readthedocs.io/en/latest/advanced-usage.html#ssl-warnings\n",
      "  warnings.warn(\n"
     ]
    },
    {
     "name": "stdout",
     "output_type": "stream",
     "text": [
      "SUCCESS - saved https://encrypted-tbn0.gstatic.com/images?q=tbn:ANd9GcTzRuqo03FfR6UxiWxw_jWpo64hdlKvaAyzog&usqp=CAU - as ./images\\steak\\f1a07cec81.jpg\n"
     ]
    },
    {
     "name": "stderr",
     "output_type": "stream",
     "text": [
      "C:\\Users\\mandeep.singh\\Anaconda3\\lib\\site-packages\\urllib3\\connectionpool.py:1013: InsecureRequestWarning: Unverified HTTPS request is being made to host 'i.guim.co.uk'. Adding certificate verification is strongly advised. See: https://urllib3.readthedocs.io/en/latest/advanced-usage.html#ssl-warnings\n",
      "  warnings.warn(\n",
      "C:\\Users\\mandeep.singh\\Anaconda3\\lib\\site-packages\\urllib3\\connectionpool.py:1013: InsecureRequestWarning: Unverified HTTPS request is being made to host 'encrypted-tbn0.gstatic.com'. Adding certificate verification is strongly advised. See: https://urllib3.readthedocs.io/en/latest/advanced-usage.html#ssl-warnings\n",
      "  warnings.warn(\n"
     ]
    },
    {
     "name": "stdout",
     "output_type": "stream",
     "text": [
      "SUCCESS - saved https://i.guim.co.uk/img/media/7c7d35af04e35288abdfeb57da2de98a4cecae1a/0_122_2700_1620/master/2700.jpg?width=465&quality=45&auto=format&fit=max&dpr=2&s=fe9a527b3898c320b78098156744f545 - as ./images\\steak\\7a55bea1de.jpg\n",
      "SUCCESS - saved https://encrypted-tbn0.gstatic.com/images?q=tbn:ANd9GcRJGLYSjBCN7nBm7AlNpzHrAOfQ1-hT5bQ01g&usqp=CAU - as ./images\\steak\\586d52a3e3.jpg\n"
     ]
    },
    {
     "name": "stderr",
     "output_type": "stream",
     "text": [
      "C:\\Users\\mandeep.singh\\Anaconda3\\lib\\site-packages\\urllib3\\connectionpool.py:1013: InsecureRequestWarning: Unverified HTTPS request is being made to host 'assets.epicurious.com'. Adding certificate verification is strongly advised. See: https://urllib3.readthedocs.io/en/latest/advanced-usage.html#ssl-warnings\n",
      "  warnings.warn(\n"
     ]
    },
    {
     "name": "stdout",
     "output_type": "stream",
     "text": [
      "SUCCESS - saved https://assets.epicurious.com/photos/563b9cdf4cc2d53b6f5144b6/16:9/w_2000,h_1125,c_limit/388552_porterhouse-steak_1x1.jpg - as ./images\\steak\\cbd807a07c.jpg\n"
     ]
    },
    {
     "name": "stderr",
     "output_type": "stream",
     "text": [
      "C:\\Users\\mandeep.singh\\Anaconda3\\lib\\site-packages\\urllib3\\connectionpool.py:1013: InsecureRequestWarning: Unverified HTTPS request is being made to host 'embed.widencdn.net'. Adding certificate verification is strongly advised. See: https://urllib3.readthedocs.io/en/latest/advanced-usage.html#ssl-warnings\n",
      "  warnings.warn(\n",
      "C:\\Users\\mandeep.singh\\Anaconda3\\lib\\site-packages\\urllib3\\connectionpool.py:1013: InsecureRequestWarning: Unverified HTTPS request is being made to host 'encrypted-tbn0.gstatic.com'. Adding certificate verification is strongly advised. See: https://urllib3.readthedocs.io/en/latest/advanced-usage.html#ssl-warnings\n",
      "  warnings.warn(\n"
     ]
    },
    {
     "name": "stdout",
     "output_type": "stream",
     "text": [
      "SUCCESS - saved https://embed.widencdn.net/img/beef/ng96sbyljl/800x600px/Ribeye%20Steak_Lip-on.psd?keep=c&u=7fueml - as ./images\\steak\\c6c1ad254e.jpg\n",
      "SUCCESS - saved https://encrypted-tbn0.gstatic.com/images?q=tbn:ANd9GcRbVnWW3Ew_dg206_Tzza-DmLj5EX4edpKERw&usqp=CAU - as ./images\\steak\\3ab0a278c5.jpg\n"
     ]
    },
    {
     "name": "stderr",
     "output_type": "stream",
     "text": [
      "C:\\Users\\mandeep.singh\\Anaconda3\\lib\\site-packages\\urllib3\\connectionpool.py:1013: InsecureRequestWarning: Unverified HTTPS request is being made to host 'i.ytimg.com'. Adding certificate verification is strongly advised. See: https://urllib3.readthedocs.io/en/latest/advanced-usage.html#ssl-warnings\n",
      "  warnings.warn(\n"
     ]
    },
    {
     "name": "stdout",
     "output_type": "stream",
     "text": [
      "SUCCESS - saved https://i.ytimg.com/vi/nsw0Px-Pho8/maxresdefault.jpg - as ./images\\steak\\ef447ef79d.jpg\n"
     ]
    },
    {
     "name": "stderr",
     "output_type": "stream",
     "text": [
      "C:\\Users\\mandeep.singh\\Anaconda3\\lib\\site-packages\\urllib3\\connectionpool.py:1013: InsecureRequestWarning: Unverified HTTPS request is being made to host 'encrypted-tbn0.gstatic.com'. Adding certificate verification is strongly advised. See: https://urllib3.readthedocs.io/en/latest/advanced-usage.html#ssl-warnings\n",
      "  warnings.warn(\n"
     ]
    },
    {
     "name": "stdout",
     "output_type": "stream",
     "text": [
      "SUCCESS - saved https://encrypted-tbn0.gstatic.com/images?q=tbn:ANd9GcTcrkJ9arpiY9fNqjlAbKJKmQpzVaCCi62ilQ&usqp=CAU - as ./images\\steak\\eb3bbbd088.jpg\n"
     ]
    },
    {
     "name": "stderr",
     "output_type": "stream",
     "text": [
      "C:\\Users\\mandeep.singh\\Anaconda3\\lib\\site-packages\\urllib3\\connectionpool.py:1013: InsecureRequestWarning: Unverified HTTPS request is being made to host 'www.saveur.com'. Adding certificate verification is strongly advised. See: https://urllib3.readthedocs.io/en/latest/advanced-usage.html#ssl-warnings\n",
      "  warnings.warn(\n"
     ]
    },
    {
     "name": "stdout",
     "output_type": "stream",
     "text": [
      "SUCCESS - saved https://www.saveur.com/uploads/2019/01/28/CJVYOVJ3YJ6YVBFHP2BMUSAYC4.jpg?auto=webp&width=1440&height=1080 - as ./images\\steak\\d1d71ef11b.jpg\n",
      "SUCCESS - saved https://encrypted-tbn0.gstatic.com/images?q=tbn:ANd9GcQG9d9D6KtLOM9cBCbvufkIndWZ9M2Zd9FruA&usqp=CAU - as ./images\\steak\\e3033d4d54.jpg\n"
     ]
    },
    {
     "name": "stderr",
     "output_type": "stream",
     "text": [
      "C:\\Users\\mandeep.singh\\Anaconda3\\lib\\site-packages\\urllib3\\connectionpool.py:1013: InsecureRequestWarning: Unverified HTTPS request is being made to host 'encrypted-tbn0.gstatic.com'. Adding certificate verification is strongly advised. See: https://urllib3.readthedocs.io/en/latest/advanced-usage.html#ssl-warnings\n",
      "  warnings.warn(\n",
      "C:\\Users\\mandeep.singh\\Anaconda3\\lib\\site-packages\\urllib3\\connectionpool.py:1013: InsecureRequestWarning: Unverified HTTPS request is being made to host 'encrypted-tbn0.gstatic.com'. Adding certificate verification is strongly advised. See: https://urllib3.readthedocs.io/en/latest/advanced-usage.html#ssl-warnings\n",
      "  warnings.warn(\n"
     ]
    },
    {
     "name": "stdout",
     "output_type": "stream",
     "text": [
      "SUCCESS - saved https://encrypted-tbn0.gstatic.com/images?q=tbn:ANd9GcSA4iX5nJ0jMGDZKR8tSwzE1HAsv8xvIteHfA&usqp=CAU - as ./images\\steak\\ee6cf70fc3.jpg\n"
     ]
    },
    {
     "name": "stderr",
     "output_type": "stream",
     "text": [
      "C:\\Users\\mandeep.singh\\Anaconda3\\lib\\site-packages\\urllib3\\connectionpool.py:1013: InsecureRequestWarning: Unverified HTTPS request is being made to host 'encrypted-tbn0.gstatic.com'. Adding certificate verification is strongly advised. See: https://urllib3.readthedocs.io/en/latest/advanced-usage.html#ssl-warnings\n",
      "  warnings.warn(\n"
     ]
    },
    {
     "name": "stdout",
     "output_type": "stream",
     "text": [
      "SUCCESS - saved https://encrypted-tbn0.gstatic.com/images?q=tbn:ANd9GcTE8kA-yBYQJ1U9yOue_KCj9vwtj672ow-XPQ&usqp=CAU - as ./images\\steak\\c4c28c89a1.jpg\n"
     ]
    },
    {
     "name": "stderr",
     "output_type": "stream",
     "text": [
      "C:\\Users\\mandeep.singh\\Anaconda3\\lib\\site-packages\\urllib3\\connectionpool.py:1013: InsecureRequestWarning: Unverified HTTPS request is being made to host 'encrypted-tbn0.gstatic.com'. Adding certificate verification is strongly advised. See: https://urllib3.readthedocs.io/en/latest/advanced-usage.html#ssl-warnings\n",
      "  warnings.warn(\n"
     ]
    },
    {
     "name": "stdout",
     "output_type": "stream",
     "text": [
      "SUCCESS - saved https://encrypted-tbn0.gstatic.com/images?q=tbn:ANd9GcRu4BQj8nDD0TT_lO2zk5jVxSFtYMrrkyrxhA&usqp=CAU - as ./images\\steak\\adcfcebd3b.jpg\n"
     ]
    },
    {
     "name": "stderr",
     "output_type": "stream",
     "text": [
      "C:\\Users\\mandeep.singh\\Anaconda3\\lib\\site-packages\\urllib3\\connectionpool.py:1013: InsecureRequestWarning: Unverified HTTPS request is being made to host 'cdn.apartmenttherapy.info'. Adding certificate verification is strongly advised. See: https://urllib3.readthedocs.io/en/latest/advanced-usage.html#ssl-warnings\n",
      "  warnings.warn(\n"
     ]
    },
    {
     "name": "stdout",
     "output_type": "stream",
     "text": [
      "SUCCESS - saved https://cdn.apartmenttherapy.info/image/upload/f_jpg,q_auto:eco,c_fill,g_auto,w_1500,ar_1:1/k%2Farchive%2Fe3ce4eb1741bd76cc083424453c0e3f39d147f9b - as ./images\\steak\\f20e77125f.jpg\n"
     ]
    },
    {
     "name": "stderr",
     "output_type": "stream",
     "text": [
      "C:\\Users\\mandeep.singh\\Anaconda3\\lib\\site-packages\\urllib3\\connectionpool.py:1013: InsecureRequestWarning: Unverified HTTPS request is being made to host 'encrypted-tbn0.gstatic.com'. Adding certificate verification is strongly advised. See: https://urllib3.readthedocs.io/en/latest/advanced-usage.html#ssl-warnings\n",
      "  warnings.warn(\n"
     ]
    },
    {
     "name": "stdout",
     "output_type": "stream",
     "text": [
      "SUCCESS - saved https://encrypted-tbn0.gstatic.com/images?q=tbn:ANd9GcRVCIjnVr_4Alja1fBU9MzGzg9mYKmTt4eJdg&usqp=CAU - as ./images\\steak\\2dba4fca61.jpg\n"
     ]
    },
    {
     "name": "stderr",
     "output_type": "stream",
     "text": [
      "C:\\Users\\mandeep.singh\\Anaconda3\\lib\\site-packages\\urllib3\\connectionpool.py:1013: InsecureRequestWarning: Unverified HTTPS request is being made to host 'img.delicious.com.au'. Adding certificate verification is strongly advised. See: https://urllib3.readthedocs.io/en/latest/advanced-usage.html#ssl-warnings\n",
      "  warnings.warn(\n"
     ]
    },
    {
     "name": "stdout",
     "output_type": "stream",
     "text": [
      "SUCCESS - saved https://img.delicious.com.au/p1rGmeCk/del/2015/10/mixed-pepper-crusted-steak-with-mushroom-salad-12955-1.jpg - as ./images\\steak\\8fa54b59c8.jpg\n"
     ]
    },
    {
     "name": "stderr",
     "output_type": "stream",
     "text": [
      "C:\\Users\\mandeep.singh\\Anaconda3\\lib\\site-packages\\urllib3\\connectionpool.py:1013: InsecureRequestWarning: Unverified HTTPS request is being made to host 'img.taste.com.au'. Adding certificate verification is strongly advised. See: https://urllib3.readthedocs.io/en/latest/advanced-usage.html#ssl-warnings\n",
      "  warnings.warn(\n",
      "C:\\Users\\mandeep.singh\\Anaconda3\\lib\\site-packages\\urllib3\\connectionpool.py:1013: InsecureRequestWarning: Unverified HTTPS request is being made to host 'encrypted-tbn0.gstatic.com'. Adding certificate verification is strongly advised. See: https://urllib3.readthedocs.io/en/latest/advanced-usage.html#ssl-warnings\n",
      "  warnings.warn(\n"
     ]
    },
    {
     "name": "stdout",
     "output_type": "stream",
     "text": [
      "SUCCESS - saved https://img.taste.com.au/egvqv4VC/w506-h253-cfill/taste/2016/11/paprika-beef-steaks-with-chimichurri-sauce-and-wedges-102931-1.jpeg - as ./images\\steak\\86d06c0ae1.jpg\n",
      "SUCCESS - saved https://encrypted-tbn0.gstatic.com/images?q=tbn:ANd9GcTFX9m70j4j0d9AQrzE2JtLlO4Mo78rmU9eLg&usqp=CAU - as ./images\\steak\\1edbf06cdf.jpg\n"
     ]
    },
    {
     "name": "stderr",
     "output_type": "stream",
     "text": [
      "C:\\Users\\mandeep.singh\\Anaconda3\\lib\\site-packages\\urllib3\\connectionpool.py:1013: InsecureRequestWarning: Unverified HTTPS request is being made to host 'flavorthemoments.com'. Adding certificate verification is strongly advised. See: https://urllib3.readthedocs.io/en/latest/advanced-usage.html#ssl-warnings\n",
      "  warnings.warn(\n"
     ]
    },
    {
     "name": "stdout",
     "output_type": "stream",
     "text": [
      "SUCCESS - saved https://flavorthemoments.com/wp-content/uploads/2019/02/how-to-cook-pan-seared-steak-1-flavorthemoments-600x852.jpg - as ./images\\steak\\9ad3e67e9e.jpg\n",
      "SUCCESS - saved https://encrypted-tbn0.gstatic.com/images?q=tbn:ANd9GcTZ1JpphUzBcj1jffEWIEvu-87Bd9upqq3KIA&usqp=CAU - as ./images\\steak\\fdd7eecbea.jpg\n"
     ]
    },
    {
     "name": "stderr",
     "output_type": "stream",
     "text": [
      "C:\\Users\\mandeep.singh\\Anaconda3\\lib\\site-packages\\urllib3\\connectionpool.py:1013: InsecureRequestWarning: Unverified HTTPS request is being made to host 'encrypted-tbn0.gstatic.com'. Adding certificate verification is strongly advised. See: https://urllib3.readthedocs.io/en/latest/advanced-usage.html#ssl-warnings\n",
      "  warnings.warn(\n",
      "C:\\Users\\mandeep.singh\\Anaconda3\\lib\\site-packages\\urllib3\\connectionpool.py:1013: InsecureRequestWarning: Unverified HTTPS request is being made to host 'images.heb.com'. Adding certificate verification is strongly advised. See: https://urllib3.readthedocs.io/en/latest/advanced-usage.html#ssl-warnings\n",
      "  warnings.warn(\n"
     ]
    },
    {
     "name": "stdout",
     "output_type": "stream",
     "text": [
      "ERROR - Could not save https://images.heb.com/is/image/HEBGrocery/recipe-hm-large/sunday-grilled-steak-onions-recipe.jpg - cannot identify image file <_io.BytesIO object at 0x0000024D6D3F6770>\n"
     ]
    },
    {
     "name": "stderr",
     "output_type": "stream",
     "text": [
      "C:\\Users\\mandeep.singh\\Anaconda3\\lib\\site-packages\\urllib3\\connectionpool.py:1013: InsecureRequestWarning: Unverified HTTPS request is being made to host 'imagesvc.meredithcorp.io'. Adding certificate verification is strongly advised. See: https://urllib3.readthedocs.io/en/latest/advanced-usage.html#ssl-warnings\n",
      "  warnings.warn(\n"
     ]
    },
    {
     "name": "stdout",
     "output_type": "stream",
     "text": [
      "SUCCESS - saved https://imagesvc.meredithcorp.io/v3/jumpstartpure/image?url=https://assets.marthastewart.com/d13/mh_1011_steak/mh_1011_steak_horiz.jpg&w=1280&h=720&q=90&c=cc - as ./images\\steak\\0f66b8421b.jpg\n"
     ]
    },
    {
     "name": "stderr",
     "output_type": "stream",
     "text": [
      "C:\\Users\\mandeep.singh\\Anaconda3\\lib\\site-packages\\urllib3\\connectionpool.py:1013: InsecureRequestWarning: Unverified HTTPS request is being made to host 'encrypted-tbn0.gstatic.com'. Adding certificate verification is strongly advised. See: https://urllib3.readthedocs.io/en/latest/advanced-usage.html#ssl-warnings\n",
      "  warnings.warn(\n",
      "C:\\Users\\mandeep.singh\\Anaconda3\\lib\\site-packages\\urllib3\\connectionpool.py:1013: InsecureRequestWarning: Unverified HTTPS request is being made to host 'imagesvc.meredithcorp.io'. Adding certificate verification is strongly advised. See: https://urllib3.readthedocs.io/en/latest/advanced-usage.html#ssl-warnings\n",
      "  warnings.warn(\n"
     ]
    },
    {
     "name": "stdout",
     "output_type": "stream",
     "text": [
      "SUCCESS - saved https://encrypted-tbn0.gstatic.com/images?q=tbn:ANd9GcTFRmHCbNikAQxu_TbDYNSpTCUe9SVH_Dv8Gg&usqp=CAU - as ./images\\steak\\84cebe68bd.jpg\n",
      "SUCCESS - saved https://imagesvc.meredithcorp.io/v3/mm/image?q=85&c=sc&poi=face&w=1440&h=720&url=https%3A%2F%2Fimages.media-allrecipes.com%2Fuserphotos%2F4529364.jpg - as ./images\\steak\\d11d1c8194.jpg\n"
     ]
    },
    {
     "name": "stderr",
     "output_type": "stream",
     "text": [
      "C:\\Users\\mandeep.singh\\Anaconda3\\lib\\site-packages\\urllib3\\connectionpool.py:1013: InsecureRequestWarning: Unverified HTTPS request is being made to host 'encrypted-tbn0.gstatic.com'. Adding certificate verification is strongly advised. See: https://urllib3.readthedocs.io/en/latest/advanced-usage.html#ssl-warnings\n",
      "  warnings.warn(\n"
     ]
    },
    {
     "name": "stdout",
     "output_type": "stream",
     "text": [
      "SUCCESS - saved https://encrypted-tbn0.gstatic.com/images?q=tbn:ANd9GcSdBS8E2P5wQAs278suusyQgBD3YUAQlY-aJA&usqp=CAU - as ./images\\steak\\e41949cbc1.jpg\n"
     ]
    },
    {
     "name": "stderr",
     "output_type": "stream",
     "text": [
      "C:\\Users\\mandeep.singh\\Anaconda3\\lib\\site-packages\\urllib3\\connectionpool.py:1013: InsecureRequestWarning: Unverified HTTPS request is being made to host 'simplyhomecooked.com'. Adding certificate verification is strongly advised. See: https://urllib3.readthedocs.io/en/latest/advanced-usage.html#ssl-warnings\n",
      "  warnings.warn(\n"
     ]
    },
    {
     "name": "stdout",
     "output_type": "stream",
     "text": [
      "SUCCESS - saved https://simplyhomecooked.com/wp-content/uploads/2020/01/ribeye-steak-in-the-oven-8.jpg - as ./images\\steak\\b297bdb135.jpg\n"
     ]
    },
    {
     "name": "stderr",
     "output_type": "stream",
     "text": [
      "C:\\Users\\mandeep.singh\\Anaconda3\\lib\\site-packages\\urllib3\\connectionpool.py:1013: InsecureRequestWarning: Unverified HTTPS request is being made to host 'encrypted-tbn0.gstatic.com'. Adding certificate verification is strongly advised. See: https://urllib3.readthedocs.io/en/latest/advanced-usage.html#ssl-warnings\n",
      "  warnings.warn(\n",
      "C:\\Users\\mandeep.singh\\Anaconda3\\lib\\site-packages\\urllib3\\connectionpool.py:1013: InsecureRequestWarning: Unverified HTTPS request is being made to host 'encrypted-tbn0.gstatic.com'. Adding certificate verification is strongly advised. See: https://urllib3.readthedocs.io/en/latest/advanced-usage.html#ssl-warnings\n",
      "  warnings.warn(\n"
     ]
    },
    {
     "name": "stdout",
     "output_type": "stream",
     "text": [
      "SUCCESS - saved https://encrypted-tbn0.gstatic.com/images?q=tbn:ANd9GcQlSn7lLmCpZfyaYJqZIriuer4cdQvp1GQk3A&usqp=CAU - as ./images\\steak\\b57b55cced.jpg\n",
      "SUCCESS - saved https://encrypted-tbn0.gstatic.com/images?q=tbn:ANd9GcSl8a2ZIep1Ldv0JdylLmm5flU9DOy1Pwr1tQ&usqp=CAU - as ./images\\steak\\d9ff558942.jpg\n"
     ]
    },
    {
     "name": "stderr",
     "output_type": "stream",
     "text": [
      "C:\\Users\\mandeep.singh\\Anaconda3\\lib\\site-packages\\urllib3\\connectionpool.py:1013: InsecureRequestWarning: Unverified HTTPS request is being made to host 'encrypted-tbn0.gstatic.com'. Adding certificate verification is strongly advised. See: https://urllib3.readthedocs.io/en/latest/advanced-usage.html#ssl-warnings\n",
      "  warnings.warn(\n"
     ]
    },
    {
     "name": "stdout",
     "output_type": "stream",
     "text": [
      "SUCCESS - saved https://encrypted-tbn0.gstatic.com/images?q=tbn:ANd9GcSJfcR5VFBs1enqkRqGItdMZDAHltyByEemjw&usqp=CAU - as ./images\\steak\\4f93ffeba5.jpg\n"
     ]
    },
    {
     "name": "stderr",
     "output_type": "stream",
     "text": [
      "C:\\Users\\mandeep.singh\\Anaconda3\\lib\\site-packages\\urllib3\\connectionpool.py:1013: InsecureRequestWarning: Unverified HTTPS request is being made to host 'www.tasteofhome.com'. Adding certificate verification is strongly advised. See: https://urllib3.readthedocs.io/en/latest/advanced-usage.html#ssl-warnings\n",
      "  warnings.warn(\n"
     ]
    },
    {
     "name": "stdout",
     "output_type": "stream",
     "text": [
      "SUCCESS - saved https://www.tasteofhome.com/wp-content/uploads/2019/10/raw-ribeye-steak-lying-on-kraft-shutterstock_741791194.jpg?fit=700,700 - as ./images\\steak\\e079f032d7.jpg\n",
      "SUCCESS - saved https://encrypted-tbn0.gstatic.com/images?q=tbn:ANd9GcScadqbcpKQ_OgDAbNqYPVw6P8CQhEYOI2Obw&usqp=CAU - as ./images\\steak\\ce9ee35930.jpg\n"
     ]
    },
    {
     "name": "stderr",
     "output_type": "stream",
     "text": [
      "C:\\Users\\mandeep.singh\\Anaconda3\\lib\\site-packages\\urllib3\\connectionpool.py:1013: InsecureRequestWarning: Unverified HTTPS request is being made to host 'encrypted-tbn0.gstatic.com'. Adding certificate verification is strongly advised. See: https://urllib3.readthedocs.io/en/latest/advanced-usage.html#ssl-warnings\n",
      "  warnings.warn(\n",
      "C:\\Users\\mandeep.singh\\Anaconda3\\lib\\site-packages\\urllib3\\connectionpool.py:1013: InsecureRequestWarning: Unverified HTTPS request is being made to host 'encrypted-tbn0.gstatic.com'. Adding certificate verification is strongly advised. See: https://urllib3.readthedocs.io/en/latest/advanced-usage.html#ssl-warnings\n",
      "  warnings.warn(\n"
     ]
    },
    {
     "name": "stdout",
     "output_type": "stream",
     "text": [
      "SUCCESS - saved https://encrypted-tbn0.gstatic.com/images?q=tbn:ANd9GcRfWu3v3iVmgzYoE_WYYYvCpWWm0n6P4q8g3A&usqp=CAU - as ./images\\steak\\e95fd86c75.jpg\n"
     ]
    },
    {
     "name": "stderr",
     "output_type": "stream",
     "text": [
      "C:\\Users\\mandeep.singh\\Anaconda3\\lib\\site-packages\\urllib3\\connectionpool.py:1013: InsecureRequestWarning: Unverified HTTPS request is being made to host 'hot-thai-kitchen.com'. Adding certificate verification is strongly advised. See: https://urllib3.readthedocs.io/en/latest/advanced-usage.html#ssl-warnings\n",
      "  warnings.warn(\n"
     ]
    },
    {
     "name": "stdout",
     "output_type": "stream",
     "text": [
      "SUCCESS - saved https://hot-thai-kitchen.com/wp-content/uploads/2021/09/Grilled-Steak-blog.jpg - as ./images\\steak\\bdd2f4f555.jpg\n",
      "SUCCESS - saved https://encrypted-tbn0.gstatic.com/images?q=tbn:ANd9GcR7KKlmQJKidpVdL6EZS20QCM38tIVuqbrK2g&usqp=CAU - as ./images\\steak\\f365e03240.jpg\n"
     ]
    },
    {
     "name": "stderr",
     "output_type": "stream",
     "text": [
      "C:\\Users\\mandeep.singh\\Anaconda3\\lib\\site-packages\\urllib3\\connectionpool.py:1013: InsecureRequestWarning: Unverified HTTPS request is being made to host 'encrypted-tbn0.gstatic.com'. Adding certificate verification is strongly advised. See: https://urllib3.readthedocs.io/en/latest/advanced-usage.html#ssl-warnings\n",
      "  warnings.warn(\n",
      "C:\\Users\\mandeep.singh\\Anaconda3\\lib\\site-packages\\urllib3\\connectionpool.py:1013: InsecureRequestWarning: Unverified HTTPS request is being made to host 'encrypted-tbn0.gstatic.com'. Adding certificate verification is strongly advised. See: https://urllib3.readthedocs.io/en/latest/advanced-usage.html#ssl-warnings\n",
      "  warnings.warn(\n",
      "C:\\Users\\mandeep.singh\\Anaconda3\\lib\\site-packages\\urllib3\\connectionpool.py:1013: InsecureRequestWarning: Unverified HTTPS request is being made to host 'embed.widencdn.net'. Adding certificate verification is strongly advised. See: https://urllib3.readthedocs.io/en/latest/advanced-usage.html#ssl-warnings\n",
      "  warnings.warn(\n"
     ]
    },
    {
     "name": "stdout",
     "output_type": "stream",
     "text": [
      "SUCCESS - saved https://encrypted-tbn0.gstatic.com/images?q=tbn:ANd9GcRsmDSJ3sFeepHSrJTqOt0pIFRyIqOPtwaB_Q&usqp=CAU - as ./images\\steak\\22a9e2c09e.jpg\n",
      "SUCCESS - saved https://embed.widencdn.net/img/beef/4zddc8i3wx/800x600px/Ranch%20Steak.psd?keep=c&u=7fueml - as ./images\\steak\\cfa1ff0ca5.jpg\n",
      "SUCCESS - saved https://encrypted-tbn0.gstatic.com/images?q=tbn:ANd9GcQLMPc3CL5lTXNh0YXfdv7UJ0j3EhqACh-GTQ&usqp=CAU - as ./images\\steak\\51e7d96728.jpg\n"
     ]
    },
    {
     "name": "stderr",
     "output_type": "stream",
     "text": [
      "C:\\Users\\mandeep.singh\\Anaconda3\\lib\\site-packages\\urllib3\\connectionpool.py:1013: InsecureRequestWarning: Unverified HTTPS request is being made to host 'encrypted-tbn0.gstatic.com'. Adding certificate verification is strongly advised. See: https://urllib3.readthedocs.io/en/latest/advanced-usage.html#ssl-warnings\n",
      "  warnings.warn(\n",
      "C:\\Users\\mandeep.singh\\Anaconda3\\lib\\site-packages\\urllib3\\connectionpool.py:1013: InsecureRequestWarning: Unverified HTTPS request is being made to host 'hips.hearstapps.com'. Adding certificate verification is strongly advised. See: https://urllib3.readthedocs.io/en/latest/advanced-usage.html#ssl-warnings\n",
      "  warnings.warn(\n"
     ]
    },
    {
     "name": "stdout",
     "output_type": "stream",
     "text": [
      "SUCCESS - saved https://hips.hearstapps.com/hmg-prod/images/delish-190807-air-fryer-steak-0085-landscape-pf-1566237752.jpg - as ./images\\steak\\4b3789fac9.jpg\n"
     ]
    },
    {
     "name": "stderr",
     "output_type": "stream",
     "text": [
      "C:\\Users\\mandeep.singh\\Anaconda3\\lib\\site-packages\\urllib3\\connectionpool.py:1013: InsecureRequestWarning: Unverified HTTPS request is being made to host 'www.thekingsburyhotel.com'. Adding certificate verification is strongly advised. See: https://urllib3.readthedocs.io/en/latest/advanced-usage.html#ssl-warnings\n",
      "  warnings.warn(\n"
     ]
    },
    {
     "name": "stdout",
     "output_type": "stream",
     "text": [
      "SUCCESS - saved https://www.thekingsburyhotel.com/blog/wp-content/uploads/sites/3/2020/01/kings-steakbar-kingsbury.jpg - as ./images\\steak\\9dc757b5ae.jpg\n"
     ]
    },
    {
     "name": "stderr",
     "output_type": "stream",
     "text": [
      "C:\\Users\\mandeep.singh\\Anaconda3\\lib\\site-packages\\urllib3\\connectionpool.py:1013: InsecureRequestWarning: Unverified HTTPS request is being made to host 'encrypted-tbn0.gstatic.com'. Adding certificate verification is strongly advised. See: https://urllib3.readthedocs.io/en/latest/advanced-usage.html#ssl-warnings\n",
      "  warnings.warn(\n",
      "C:\\Users\\mandeep.singh\\Anaconda3\\lib\\site-packages\\urllib3\\connectionpool.py:1013: InsecureRequestWarning: Unverified HTTPS request is being made to host 'media.istockphoto.com'. Adding certificate verification is strongly advised. See: https://urllib3.readthedocs.io/en/latest/advanced-usage.html#ssl-warnings\n",
      "  warnings.warn(\n"
     ]
    },
    {
     "name": "stdout",
     "output_type": "stream",
     "text": [
      "SUCCESS - saved https://encrypted-tbn0.gstatic.com/images?q=tbn:ANd9GcRJOhccTmP4zhf_1ukm5IFIZ3403JtBtUzr8A&usqp=CAU - as ./images\\steak\\5910e82797.jpg\n",
      "SUCCESS - saved https://media.istockphoto.com/photos/grilled-and-cut-flat-iron-steak-marble-beef-meat-black-background-top-picture-id1294885860?b=1&k=20&m=1294885860&s=170667a&w=0&h=jjYVbi7KYPS6IIoBVdg-XltS0EOubTNlCV8iurSOnss= - as ./images\\steak\\e5dba6cd9e.jpg\n"
     ]
    },
    {
     "name": "stderr",
     "output_type": "stream",
     "text": [
      "C:\\Users\\mandeep.singh\\Anaconda3\\lib\\site-packages\\urllib3\\connectionpool.py:1013: InsecureRequestWarning: Unverified HTTPS request is being made to host 'images.unsplash.com'. Adding certificate verification is strongly advised. See: https://urllib3.readthedocs.io/en/latest/advanced-usage.html#ssl-warnings\n",
      "  warnings.warn(\n"
     ]
    },
    {
     "name": "stdout",
     "output_type": "stream",
     "text": [
      "SUCCESS - saved https://images.unsplash.com/photo-1600891964092-4316c288032e?ixlib=rb-1.2.1&ixid=MnwxMjA3fDB8MHxzZWFyY2h8Mnx8c3RlYWt8ZW58MHx8MHx8&w=1000&q=80 - as ./images\\steak\\facbf659f9.jpg\n",
      "SUCCESS - saved https://encrypted-tbn0.gstatic.com/images?q=tbn:ANd9GcTUR4oCBb0ToleXH3BUjmiRKfTw3OPXyHJMuA&usqp=CAU - as ./images\\steak\\6d119ba32c.jpg\n"
     ]
    },
    {
     "name": "stderr",
     "output_type": "stream",
     "text": [
      "C:\\Users\\mandeep.singh\\Anaconda3\\lib\\site-packages\\urllib3\\connectionpool.py:1013: InsecureRequestWarning: Unverified HTTPS request is being made to host 'encrypted-tbn0.gstatic.com'. Adding certificate verification is strongly advised. See: https://urllib3.readthedocs.io/en/latest/advanced-usage.html#ssl-warnings\n",
      "  warnings.warn(\n",
      "C:\\Users\\mandeep.singh\\Anaconda3\\lib\\site-packages\\urllib3\\connectionpool.py:1013: InsecureRequestWarning: Unverified HTTPS request is being made to host 'thumbor.thedailymeal.com'. Adding certificate verification is strongly advised. See: https://urllib3.readthedocs.io/en/latest/advanced-usage.html#ssl-warnings\n",
      "  warnings.warn(\n"
     ]
    },
    {
     "name": "stdout",
     "output_type": "stream",
     "text": [
      "SUCCESS - saved https://thumbor.thedailymeal.com/LFFjZXMTXLG73XG7UAFTXQ5eaJc=/870x565/filters:focal(600x400:601x401)/https://www.thedailymeal.com/sites/default/files/recipe/2020/6_butter_steak.jpg - as ./images\\steak\\d183f7218c.jpg\n"
     ]
    },
    {
     "name": "stderr",
     "output_type": "stream",
     "text": [
      "C:\\Users\\mandeep.singh\\Anaconda3\\lib\\site-packages\\urllib3\\connectionpool.py:1013: InsecureRequestWarning: Unverified HTTPS request is being made to host 'images-gmi-pmc.edge-generalmills.com'. Adding certificate verification is strongly advised. See: https://urllib3.readthedocs.io/en/latest/advanced-usage.html#ssl-warnings\n",
      "  warnings.warn(\n",
      "C:\\Users\\mandeep.singh\\Anaconda3\\lib\\site-packages\\urllib3\\connectionpool.py:1013: InsecureRequestWarning: Unverified HTTPS request is being made to host 'hips.hearstapps.com'. Adding certificate verification is strongly advised. See: https://urllib3.readthedocs.io/en/latest/advanced-usage.html#ssl-warnings\n",
      "  warnings.warn(\n"
     ]
    },
    {
     "name": "stdout",
     "output_type": "stream",
     "text": [
      "SUCCESS - saved https://images-gmi-pmc.edge-generalmills.com/b57ee35f-bce2-4229-8bf5-19b97876a4cb.jpg - as ./images\\steak\\9e1493f624.jpg\n",
      "SUCCESS - saved https://hips.hearstapps.com/hmg-prod.s3.amazonaws.com/images/types-of-steak-1581612094.jpg?crop=0.668xw:1.00xh;0.162xw,0&resize=640:* - as ./images\\steak\\7bc04290b3.jpg\n"
     ]
    },
    {
     "name": "stderr",
     "output_type": "stream",
     "text": [
      "C:\\Users\\mandeep.singh\\Anaconda3\\lib\\site-packages\\urllib3\\connectionpool.py:1013: InsecureRequestWarning: Unverified HTTPS request is being made to host 'encrypted-tbn0.gstatic.com'. Adding certificate verification is strongly advised. See: https://urllib3.readthedocs.io/en/latest/advanced-usage.html#ssl-warnings\n",
      "  warnings.warn(\n"
     ]
    },
    {
     "name": "stdout",
     "output_type": "stream",
     "text": [
      "SUCCESS - saved https://encrypted-tbn0.gstatic.com/images?q=tbn:ANd9GcTHSsQJoUThkZ3CScM-pcBVbq0rLWaFOYwm0A&usqp=CAU - as ./images\\steak\\57e72b411c.jpg\n"
     ]
    },
    {
     "name": "stderr",
     "output_type": "stream",
     "text": [
      "C:\\Users\\mandeep.singh\\Anaconda3\\lib\\site-packages\\urllib3\\connectionpool.py:1013: InsecureRequestWarning: Unverified HTTPS request is being made to host 'www.foodrepublic.com'. Adding certificate verification is strongly advised. See: https://urllib3.readthedocs.io/en/latest/advanced-usage.html#ssl-warnings\n",
      "  warnings.warn(\n"
     ]
    },
    {
     "name": "stdout",
     "output_type": "stream",
     "text": [
      "SUCCESS - saved https://www.foodrepublic.com/wp-content/uploads/2012/05/testkitchen_argentinesteak-1280x560.jpg - as ./images\\steak\\325bb33976.jpg\n"
     ]
    },
    {
     "name": "stderr",
     "output_type": "stream",
     "text": [
      "C:\\Users\\mandeep.singh\\Anaconda3\\lib\\site-packages\\urllib3\\connectionpool.py:1013: InsecureRequestWarning: Unverified HTTPS request is being made to host 'encrypted-tbn0.gstatic.com'. Adding certificate verification is strongly advised. See: https://urllib3.readthedocs.io/en/latest/advanced-usage.html#ssl-warnings\n",
      "  warnings.warn(\n",
      "C:\\Users\\mandeep.singh\\Anaconda3\\lib\\site-packages\\urllib3\\connectionpool.py:1013: InsecureRequestWarning: Unverified HTTPS request is being made to host 'encrypted-tbn0.gstatic.com'. Adding certificate verification is strongly advised. See: https://urllib3.readthedocs.io/en/latest/advanced-usage.html#ssl-warnings\n",
      "  warnings.warn(\n"
     ]
    },
    {
     "name": "stdout",
     "output_type": "stream",
     "text": [
      "SUCCESS - saved https://encrypted-tbn0.gstatic.com/images?q=tbn:ANd9GcSWJ9pBlQtS2r8vTXFqcHo7a1jRtYVkPZLJ_g&usqp=CAU - as ./images\\steak\\2c4211ac7e.jpg\n",
      "SUCCESS - saved https://encrypted-tbn0.gstatic.com/images?q=tbn:ANd9GcQH-nF8c_M9JAIcT4shLOUWoX5Gi7QOig9X3Q&usqp=CAU - as ./images\\steak\\9b16ad9ec5.jpg\n"
     ]
    },
    {
     "name": "stderr",
     "output_type": "stream",
     "text": [
      "C:\\Users\\mandeep.singh\\Anaconda3\\lib\\site-packages\\urllib3\\connectionpool.py:1013: InsecureRequestWarning: Unverified HTTPS request is being made to host 'assets.epicurious.com'. Adding certificate verification is strongly advised. See: https://urllib3.readthedocs.io/en/latest/advanced-usage.html#ssl-warnings\n",
      "  warnings.warn(\n"
     ]
    },
    {
     "name": "stdout",
     "output_type": "stream",
     "text": [
      "SUCCESS - saved https://assets.epicurious.com/photos/57bb35cdb6069b112362e097/16:9/w_1280,c_limit/pan-grilled-steak.jpg - as ./images\\steak\\73759d4839.jpg\n"
     ]
    },
    {
     "name": "stderr",
     "output_type": "stream",
     "text": [
      "C:\\Users\\mandeep.singh\\Anaconda3\\lib\\site-packages\\urllib3\\connectionpool.py:1013: InsecureRequestWarning: Unverified HTTPS request is being made to host 'www.jessicagavin.com'. Adding certificate verification is strongly advised. See: https://urllib3.readthedocs.io/en/latest/advanced-usage.html#ssl-warnings\n",
      "  warnings.warn(\n"
     ]
    },
    {
     "name": "stdout",
     "output_type": "stream",
     "text": [
      "SUCCESS - saved https://www.jessicagavin.com/wp-content/uploads/2018/06/how-to-reverse-sear-a-steak-11-1200-500x500.jpg - as ./images\\steak\\52dbd95258.jpg\n",
      "SUCCESS - saved https://encrypted-tbn0.gstatic.com/images?q=tbn:ANd9GcRYAiko6MaajQ8qX-HSuDDXsYy3qjEkZGbjbg&usqp=CAU - as ./images\\steak\\d062e90a65.jpg\n",
      "./images\\strawberry_shortcake\n"
     ]
    },
    {
     "name": "stderr",
     "output_type": "stream",
     "text": [
      "C:\\Users\\mandeep.singh\\Anaconda3\\lib\\site-packages\\urllib3\\connectionpool.py:1013: InsecureRequestWarning: Unverified HTTPS request is being made to host 'encrypted-tbn0.gstatic.com'. Adding certificate verification is strongly advised. See: https://urllib3.readthedocs.io/en/latest/advanced-usage.html#ssl-warnings\n",
      "  warnings.warn(\n"
     ]
    },
    {
     "name": "stdout",
     "output_type": "stream",
     "text": [
      "Found: 100 search results. Extracting links from 0:100\n",
      "Found: 101 image links, done!\n",
      "{'https://lilluna.com/wp-content/uploads/2020/01/easy-strawberry-shortcake-4-scaled.jpg', 'https://iambaker.net/wp-content/uploads/2021/07/shortcake-trifle.jpg', 'https://encrypted-tbn0.gstatic.com/images?q=tbn:ANd9GcQodroUnvtb7ElWSTGhZqRGKkzUCarAWGICMQ&usqp=CAU', 'https://www.thespruceeats.com/thmb/FfQQ3gWkWv1k_53MzHALDgEw1Tw=/1500x844/smart/filters:no_upscale()/straw-shortcake-130026.0101-576016f23df78c98dc0a19ee.jpg', 'https://drivemehungry.com/wp-content/uploads/2020/11/IMG_8970.jpg', 'https://assets.bwbx.io/images/users/iqjWHBFdfxIU/i2twi1hocdDg/v0/1200x675.jpg', 'https://encrypted-tbn0.gstatic.com/images?q=tbn:ANd9GcQSBprTAr5U9kntT94lXAILpwCWW6fb6JGhEQ&usqp=CAU', 'https://encrypted-tbn0.gstatic.com/images?q=tbn:ANd9GcTtebFyUR54F34ztLuSm9tU2xYLrUhjIpUj1Q&usqp=CAU', 'https://encrypted-tbn0.gstatic.com/images?q=tbn:ANd9GcTa8yKgt-hqQctxpSzfvgm_c0maZokAH3jNTw&usqp=CAU', 'https://www.vegrecipesofindia.com/wp-content/uploads/2021/03/strawberry-shortcake-1-500x500.jpg', 'https://encrypted-tbn0.gstatic.com/images?q=tbn:ANd9GcSLSDx9ArA_HdI5YyPgtZF14NFciuR73--jMQ&usqp=CAU', 'https://encrypted-tbn0.gstatic.com/images?q=tbn:ANd9GcSAxHSoEhY03icEc6pHOeNjm6ERRDKtLCV9Ew&usqp=CAU', 'https://encrypted-tbn0.gstatic.com/images?q=tbn:ANd9GcQ7iRVl12-SV34MOCSOWeEdxny5zJmMpZLqTA&usqp=CAU', 'https://encrypted-tbn0.gstatic.com/images?q=tbn:ANd9GcT0YO6y74ltuiYWldcGDU5moR0seHjpZoYEww&usqp=CAU', 'https://img.buzzfeed.com/thumbnailer-prod-us-east-1/42394974c2b24ba4b890f701f7ebfb94/BFV44628_AllTheRecipesYouNeedforaGreatBBQ_FB1080SQ.jpg', 'https://encrypted-tbn0.gstatic.com/images?q=tbn:ANd9GcQjflvlaK5spJt36nVmbKrwIq3d-jF_9SHXQQ&usqp=CAU', 'https://encrypted-tbn0.gstatic.com/images?q=tbn:ANd9GcTD1SObvLRJwIDFOTvsT3LXKDqvdxgJg4_2dA&usqp=CAU', 'https://static.toiimg.com/thumb/80877258.cms?imgsize=196788&width=800&height=800', 'https://encrypted-tbn0.gstatic.com/images?q=tbn:ANd9GcR8pDU9zY3Ef8zLfDOAarhZqkIAVA3Py5BCww&usqp=CAU', 'https://encrypted-tbn0.gstatic.com/images?q=tbn:ANd9GcS7QpAlznxWcFmxMSrS8Eqq71RTlEOxPDCT0w&usqp=CAU', 'https://encrypted-tbn0.gstatic.com/images?q=tbn:ANd9GcSoSpHrKvTSe-uU-l7VQLUZ_tkXgdVDqec9Kw&usqp=CAU', 'https://www.theflavorbender.com/wp-content/uploads/2020/03/Strawberry-shortcake-social-media-1343.jpg', 'https://www.simplyrecipes.com/thmb/wtSXTD3smo58SrHPMvjRrL1MoA8=/1600x2240/filters:no_upscale():max_bytes(150000):strip_icc()/__opt__aboutcom__coeus__resources__content_migration__simply_recipes__uploads__2020__04__Healthier-Strawberry-Shortcake-LEAD-3-faccec1824fc491fa70d6445e6eab113.jpg', 'https://media1.popsugar-assets.com/files/thumbor/0ykFnBz4vJ8NIzgWIhw-6GQRj9U/fit-in/2048xorig/filters:format_auto-!!-:strip_icc-!!-/2021/08/20/993/n/48223970/tmp_3zETpx_6f9fe5cb31934288_strawberry_shortcake_bars_10.jpg', 'https://thebigmansworld.com/wp-content/uploads/2021/03/keto-strawberry-shortcake.jpg', 'https://encrypted-tbn0.gstatic.com/images?q=tbn:ANd9GcT9_chjWn1c1CZAXjZMG1LkS-Njbn8mCPJclg&usqp=CAU', 'https://res.cloudinary.com/hksqkdlah/image/upload/43771-sfs-strawberry-shortcake-trifle-28.jpg', 'https://encrypted-tbn0.gstatic.com/images?q=tbn:ANd9GcT6Ccbr-krujQrwauEYO-keXH1wvfgTKhZGhg&usqp=CAU', 'https://www.vegrecipesofindia.com/wp-content/uploads/2021/03/strawberry-shortcake-recipe.jpg', 'https://images.unsplash.com/photo-1558234469-50fc184d1cc9?ixlib=rb-1.2.1&ixid=MnwxMjA3fDB8MHxzZWFyY2h8MXx8c3RyYXdiZXJyeSUyMHNob3J0Y2FrZXxlbnwwfHwwfHw%3D&w=1000&q=80', 'https://encrypted-tbn0.gstatic.com/images?q=tbn:ANd9GcR78UhX-Ho4Tf5XlM01zoQWsBu6OvJJg2cehg&usqp=CAU', 'https://media.istockphoto.com/photos/strawberry-shortcake-picture-id171107631?k=20&m=171107631&s=612x612&w=0&h=rv7KRDoS2mWreKQEysmIoZ80OlbEbK4vtgWPFjYhKV0=', 'https://encrypted-tbn0.gstatic.com/images?q=tbn:ANd9GcRsPI2Hvu6Ge1mC-pTVCv93_Hh6bYw1Add6Lg&usqp=CAU', 'https://www.cookingclassy.com/wp-content/uploads/2019/03/strawberry-shortcake-02.jpg', 'https://encrypted-tbn0.gstatic.com/images?q=tbn:ANd9GcQMqne8VFcYV9aykxAu4OvEH23gr9EkgMHVwQ&usqp=CAU', 'https://cdn.sallysbakingaddiction.com/wp-content/uploads/2017/05/easy-homemade-strawberry-shortcake-4.jpg', 'https://encrypted-tbn0.gstatic.com/images?q=tbn:ANd9GcSGby_Wt86vN_ClDLH4WdddEMBxjicmrL4NDw&usqp=CAU', 'https://encrypted-tbn0.gstatic.com/images?q=tbn:ANd9GcSSwaTtq2C1BBDhcdD_D5qbEsEV9tBf09Ntlg&usqp=CAU', 'https://encrypted-tbn0.gstatic.com/images?q=tbn:ANd9GcTtCkrxFdQoDd2NzHQ19jFaTyfASb_9kE0FIg&usqp=CAU', 'https://encrypted-tbn0.gstatic.com/images?q=tbn:ANd9GcTjIQeUym1EB13rXH-7sBgdWMAe5JxqIpPtSA&usqp=CAU', 'https://encrypted-tbn0.gstatic.com/images?q=tbn:ANd9GcScOhbNq36qiiU7ZRLvEf-gSUYgdjHmoryM0g&usqp=CAU', 'https://imagesvc.meredithcorp.io/v3/mm/image?url=https%3A%2F%2Fimages.media-allrecipes.com%2Fuserphotos%2F840004.jpg', 'https://encrypted-tbn0.gstatic.com/images?q=tbn:ANd9GcQ7PRvmHQRbHx7b1_yEy3HfkfomsghZLGByGQ&usqp=CAU', 'https://encrypted-tbn0.gstatic.com/images?q=tbn:ANd9GcSjvt5NFw_UBIJTqOZhFbWtLMbpjNJ5HjyZMQ&usqp=CAU', 'https://chefsheilla.com/wp-content/uploads/2017/07/Strawberry-Shortcake-1200x675.jpg', 'https://encrypted-tbn0.gstatic.com/images?q=tbn:ANd9GcR1w5yzR37ZV_irMSHMA5JN8u970H924eoU0Q&usqp=CAU', 'https://livforcake.com/wp-content/uploads/2019/06/strawberry-shortcake-cake-thumb.jpg', 'https://encrypted-tbn0.gstatic.com/images?q=tbn:ANd9GcQ3drUNx01h5_Ey5ZZoPr1640-mM4I7tRudOQ&usqp=CAU', 'https://www.biggerbolderbaking.com/wp-content/uploads/2019/06/Strawberry-Shortcake-Ice-Cream-Bar-thumbnail.jpg', 'https://encrypted-tbn0.gstatic.com/images?q=tbn:ANd9GcSMvFxVyADT7NsOWQZf9xLqbST0xpFsjMZKYQ&usqp=CAU', 'https://www.gimmesomeoven.com/wp-content/uploads/2010/06/strawberry-shortcake.jpg', 'https://encrypted-tbn0.gstatic.com/images?q=tbn:ANd9GcQqNu0gAFx7kiMLg_9kg4-NBJg5mkOOWGXS6w&usqp=CAU', 'https://sugargeekshow.com/wp-content/uploads/2021/06/Strawberry_Shortcake_featured.jpg', 'https://food.fnr.sndimg.com/content/dam/images/food/fullset/2014/2/27/0/CI0105H_Strawberry-Shortcake_s4x3.jpg.rend.hgtvcom.616.462.suffix/1393777060213.jpeg', 'https://encrypted-tbn0.gstatic.com/images?q=tbn:ANd9GcR3l1yxpKCE4A6KKexiDzWe2VNvTNldaKVJhQ&usqp=CAU', 'https://encrypted-tbn0.gstatic.com/images?q=tbn:ANd9GcTaK5ubI4_E8vbzgD0nIWIkQIgFhPU9zdeJmw&usqp=CAU', 'https://encrypted-tbn0.gstatic.com/images?q=tbn:ANd9GcSgmEHfnePW0yo6gAZCUlljev_dUxNye5eUsQ&usqp=CAU', 'https://img.buzzfeed.com/thumbnailer-prod-us-east-1/video-api/assets/328851.jpg?output-format=auto&output-quality=auto&resize=600:*', 'https://static.onecms.io/wp-content/uploads/sites/9/2013/12/06/200306-r-xl-strawberry-shortcake-with-star-anise-sauce-2000.jpg', 'https://encrypted-tbn0.gstatic.com/images?q=tbn:ANd9GcTHefzD8Vhts0j0UMvrEpLvpS_M7gNe_DjXlg&usqp=CAU', 'https://encrypted-tbn0.gstatic.com/images?q=tbn:ANd9GcSWBS5DPyiKqWsuZDHwbtURxI-SCEO8rjzJ7w&usqp=CAU', 'https://encrypted-tbn0.gstatic.com/images?q=tbn:ANd9GcQWEtPxJdAWz5jmU_io7Gs-j7m38lV5rYfCdA&usqp=CAU', 'https://cdn.sallysbakingaddiction.com/wp-content/uploads/2019/05/one-layer-strawberry-shortcake-cake-white-cake-stand.jpg', 'https://encrypted-tbn0.gstatic.com/images?q=tbn:ANd9GcQaIdB9KTqEKUpVSkNBeniM-iY1l1tMahpjiw&usqp=CAU', 'https://i.pinimg.com/originals/08/ef/e3/08efe3f495a2641e166976ecf71c6334.jpg', 'https://encrypted-tbn0.gstatic.com/images?q=tbn:ANd9GcTToyzRi_bq3g2TZA67RSqRC6QRzZaoWJS8WA&usqp=CAU', 'https://encrypted-tbn0.gstatic.com/images?q=tbn:ANd9GcSDII3JGDtaDePRONVHTA7I8mpknWwXJLDR9w&usqp=CAU', 'https://encrypted-tbn0.gstatic.com/images?q=tbn:ANd9GcT4hAXW8_IKCLWlUO8t3dKQjfUUjkTeRHITFQ&usqp=CAU', 'https://encrypted-tbn0.gstatic.com/images?q=tbn:ANd9GcSzGi4N83KWiNjIoivdqTEcuW1s7ObU23S3tg&usqp=CAU', 'https://encrypted-tbn0.gstatic.com/images?q=tbn:ANd9GcQJANxMJkXmRRBn4G-gPdsMm8Vwg-emZo06Eg&usqp=CAU', 'https://i.ytimg.com/vi/zgO06k31zQw/maxresdefault.jpg', 'https://nibbleanddine.com/wp-content/uploads/2019/05/Strawberry-Shortcake-Mug-Cake-Thumbnail.jpg', 'https://i.ytimg.com/vi/RxRdUtqqdGk/maxresdefault.jpg', 'https://encrypted-tbn0.gstatic.com/images?q=tbn:ANd9GcTdXNn1hpkR--kCuIaEACL4n8nUk-epdqmNEg&usqp=CAU', 'https://i1.wp.com/baketotheroots.de/wp-content/uploads/2015/08/KS_150701_StrawberryShortcakeCheesecake.jpg?fit=960%2C640&ssl=1', 'https://encrypted-tbn0.gstatic.com/images?q=tbn:ANd9GcSpCIrEPmiAdcpuihr1ltOLszIHLZFWJ3Nb_A&usqp=CAU', 'https://encrypted-tbn0.gstatic.com/images?q=tbn:ANd9GcRR6UrKYFxE8K5VlWHJ-7i6_DFsTj5vhM40Pw&usqp=CAU', 'https://encrypted-tbn0.gstatic.com/images?q=tbn:ANd9GcQiubSdeGNw1ENX4ttugJRz7nMFfNjKp-PGxg&usqp=CAU', 'https://encrypted-tbn0.gstatic.com/images?q=tbn:ANd9GcTL68TBwax0vJS6kP0F1ettMigAtKJnyYeOMA&usqp=CAU', 'https://sugargeekshow.com/wp-content/uploads/2020/04/strawberry-shortcake-featured.jpg', 'https://encrypted-tbn0.gstatic.com/images?q=tbn:ANd9GcQ0J8JQrzkK91YhveWs4_a2GnqYu53eak9JFA&usqp=CAU', 'https://encrypted-tbn0.gstatic.com/images?q=tbn:ANd9GcRfhehBs_mK5KhdJvIR2bowF2K1RoiziFmUlQ&usqp=CAU', 'https://encrypted-tbn0.gstatic.com/images?q=tbn:ANd9GcR3fAYRnrAYXJ179TxQnP7YoTls8muHu_wwJQ&usqp=CAU', 'https://encrypted-tbn0.gstatic.com/images?q=tbn:ANd9GcRXZxqkWts-2I2HOy0TjzGFyu7rNjru52elLg&usqp=CAU', 'https://upload.wikimedia.org/wikipedia/commons/thumb/1/17/Strawberry_shortcake_on_white_plate%2C_March_2009.jpg/1200px-Strawberry_shortcake_on_white_plate%2C_March_2009.jpg', 'https://encrypted-tbn0.gstatic.com/images?q=tbn:ANd9GcRzofviVoqHAizij-jEy7Tg5v4G5v1MGZlY3Q&usqp=CAU', 'https://encrypted-tbn0.gstatic.com/images?q=tbn:ANd9GcTqpy56DmUbVkGKaT8K1ZxooyPkg_8RYVkz1w&usqp=CAU', 'https://encrypted-tbn0.gstatic.com/images?q=tbn:ANd9GcTUWZOJKuqVivQi631NF7aYgaQ0hR6ayJ6JFA&usqp=CAU', 'https://encrypted-tbn0.gstatic.com/images?q=tbn:ANd9GcRz6P2xbNpRiZIzekK-PRZX1lxtyj7_i0hlPw&usqp=CAU', 'https://upload.wikimedia.org/wikipedia/en/thumb/f/ff/Strawberry_Shortcake_2003_Logo.png/250px-Strawberry_Shortcake_2003_Logo.png', 'https://m.media-amazon.com/images/M/MV5BMjE4MDE0ODc2NF5BMl5BanBnXkFtZTcwOTYyMTEzMQ@@._V1_FMjpg_UX1000_.jpg', 'https://encrypted-tbn0.gstatic.com/images?q=tbn:ANd9GcQB7UQ4gWl3gOcelxn4AVwe1COuMc0cig3X4Q&usqp=CAU', 'https://encrypted-tbn0.gstatic.com/images?q=tbn:ANd9GcSiFEAbYg2uZbfC2R_5aQyeZMH0NfFB0A4sWA&usqp=CAU', 'https://encrypted-tbn0.gstatic.com/images?q=tbn:ANd9GcRSQ8F9IDRBm3Dq-DZRbwHGNs6zzydQykf2Tw&usqp=CAU', 'https://encrypted-tbn0.gstatic.com/images?q=tbn:ANd9GcTCsXu_IgCtlRDQj9DXLJaSTbmsASFzhfElRQ&usqp=CAU', 'https://encrypted-tbn0.gstatic.com/images?q=tbn:ANd9GcTUVofaAuOtcBQxII5raUjcYyiOBNwcsiK-Xw&usqp=CAU', 'https://encrypted-tbn0.gstatic.com/images?q=tbn:ANd9GcRDWRH8LxzcL6WZ47dJibsLArdq4RTewAR5Rw&usqp=CAU', 'https://encrypted-tbn0.gstatic.com/images?q=tbn:ANd9GcRrYVVjxI6AXtDf_ldwH7iHclGmygOneS9SOw&usqp=CAU', 'https://encrypted-tbn0.gstatic.com/images?q=tbn:ANd9GcTmQpp4Ud3f8dkJvtMUhXGZPm-UJiTcTTR5xg&usqp=CAU', 'https://encrypted-tbn0.gstatic.com/images?q=tbn:ANd9GcQek877rY99MIJ3uxXe6aNsX9RWr15Ar8FRQQ&usqp=CAU', 'https://encrypted-tbn0.gstatic.com/images?q=tbn:ANd9GcR9IjbtELWH_WKcdrfJgLwn9tP8LUkn5EwoJg&usqp=CAU'}\n"
     ]
    },
    {
     "name": "stderr",
     "output_type": "stream",
     "text": [
      "C:\\Users\\mandeep.singh\\Anaconda3\\lib\\site-packages\\urllib3\\connectionpool.py:1013: InsecureRequestWarning: Unverified HTTPS request is being made to host 'lilluna.com'. Adding certificate verification is strongly advised. See: https://urllib3.readthedocs.io/en/latest/advanced-usage.html#ssl-warnings\n",
      "  warnings.warn(\n"
     ]
    },
    {
     "name": "stdout",
     "output_type": "stream",
     "text": [
      "SUCCESS - saved https://lilluna.com/wp-content/uploads/2020/01/easy-strawberry-shortcake-4-scaled.jpg - as ./images\\strawberry_shortcake\\ae69209e03.jpg\n"
     ]
    },
    {
     "name": "stderr",
     "output_type": "stream",
     "text": [
      "C:\\Users\\mandeep.singh\\Anaconda3\\lib\\site-packages\\urllib3\\connectionpool.py:1013: InsecureRequestWarning: Unverified HTTPS request is being made to host 'iambaker.net'. Adding certificate verification is strongly advised. See: https://urllib3.readthedocs.io/en/latest/advanced-usage.html#ssl-warnings\n",
      "  warnings.warn(\n"
     ]
    },
    {
     "name": "stdout",
     "output_type": "stream",
     "text": [
      "SUCCESS - saved https://iambaker.net/wp-content/uploads/2021/07/shortcake-trifle.jpg - as ./images\\strawberry_shortcake\\a5e212b3e2.jpg\n"
     ]
    },
    {
     "name": "stderr",
     "output_type": "stream",
     "text": [
      "C:\\Users\\mandeep.singh\\Anaconda3\\lib\\site-packages\\urllib3\\connectionpool.py:1013: InsecureRequestWarning: Unverified HTTPS request is being made to host 'encrypted-tbn0.gstatic.com'. Adding certificate verification is strongly advised. See: https://urllib3.readthedocs.io/en/latest/advanced-usage.html#ssl-warnings\n",
      "  warnings.warn(\n"
     ]
    },
    {
     "name": "stdout",
     "output_type": "stream",
     "text": [
      "SUCCESS - saved https://encrypted-tbn0.gstatic.com/images?q=tbn:ANd9GcQodroUnvtb7ElWSTGhZqRGKkzUCarAWGICMQ&usqp=CAU - as ./images\\strawberry_shortcake\\5cc2e4edd2.jpg\n"
     ]
    },
    {
     "name": "stderr",
     "output_type": "stream",
     "text": [
      "C:\\Users\\mandeep.singh\\Anaconda3\\lib\\site-packages\\urllib3\\connectionpool.py:1013: InsecureRequestWarning: Unverified HTTPS request is being made to host 'www.thespruceeats.com'. Adding certificate verification is strongly advised. See: https://urllib3.readthedocs.io/en/latest/advanced-usage.html#ssl-warnings\n",
      "  warnings.warn(\n"
     ]
    },
    {
     "name": "stdout",
     "output_type": "stream",
     "text": [
      "SUCCESS - saved https://www.thespruceeats.com/thmb/FfQQ3gWkWv1k_53MzHALDgEw1Tw=/1500x844/smart/filters:no_upscale()/straw-shortcake-130026.0101-576016f23df78c98dc0a19ee.jpg - as ./images\\strawberry_shortcake\\f36ae641f1.jpg\n"
     ]
    },
    {
     "name": "stderr",
     "output_type": "stream",
     "text": [
      "C:\\Users\\mandeep.singh\\Anaconda3\\lib\\site-packages\\urllib3\\connectionpool.py:1013: InsecureRequestWarning: Unverified HTTPS request is being made to host 'drivemehungry.com'. Adding certificate verification is strongly advised. See: https://urllib3.readthedocs.io/en/latest/advanced-usage.html#ssl-warnings\n",
      "  warnings.warn(\n"
     ]
    },
    {
     "name": "stdout",
     "output_type": "stream",
     "text": [
      "SUCCESS - saved https://drivemehungry.com/wp-content/uploads/2020/11/IMG_8970.jpg - as ./images\\strawberry_shortcake\\2e4baea274.jpg\n"
     ]
    },
    {
     "name": "stderr",
     "output_type": "stream",
     "text": [
      "C:\\Users\\mandeep.singh\\Anaconda3\\lib\\site-packages\\urllib3\\connectionpool.py:1013: InsecureRequestWarning: Unverified HTTPS request is being made to host 'assets.bwbx.io'. Adding certificate verification is strongly advised. See: https://urllib3.readthedocs.io/en/latest/advanced-usage.html#ssl-warnings\n",
      "  warnings.warn(\n"
     ]
    },
    {
     "name": "stdout",
     "output_type": "stream",
     "text": [
      "SUCCESS - saved https://assets.bwbx.io/images/users/iqjWHBFdfxIU/i2twi1hocdDg/v0/1200x675.jpg - as ./images\\strawberry_shortcake\\fd31c1befd.jpg\n"
     ]
    },
    {
     "name": "stderr",
     "output_type": "stream",
     "text": [
      "C:\\Users\\mandeep.singh\\Anaconda3\\lib\\site-packages\\urllib3\\connectionpool.py:1013: InsecureRequestWarning: Unverified HTTPS request is being made to host 'encrypted-tbn0.gstatic.com'. Adding certificate verification is strongly advised. See: https://urllib3.readthedocs.io/en/latest/advanced-usage.html#ssl-warnings\n",
      "  warnings.warn(\n",
      "C:\\Users\\mandeep.singh\\Anaconda3\\lib\\site-packages\\urllib3\\connectionpool.py:1013: InsecureRequestWarning: Unverified HTTPS request is being made to host 'encrypted-tbn0.gstatic.com'. Adding certificate verification is strongly advised. See: https://urllib3.readthedocs.io/en/latest/advanced-usage.html#ssl-warnings\n",
      "  warnings.warn(\n"
     ]
    },
    {
     "name": "stdout",
     "output_type": "stream",
     "text": [
      "SUCCESS - saved https://encrypted-tbn0.gstatic.com/images?q=tbn:ANd9GcQSBprTAr5U9kntT94lXAILpwCWW6fb6JGhEQ&usqp=CAU - as ./images\\strawberry_shortcake\\6e85d49578.jpg\n",
      "SUCCESS - saved https://encrypted-tbn0.gstatic.com/images?q=tbn:ANd9GcTtebFyUR54F34ztLuSm9tU2xYLrUhjIpUj1Q&usqp=CAU - as ./images\\strawberry_shortcake\\790772bae1.jpg\n",
      "SUCCESS - saved https://encrypted-tbn0.gstatic.com/images?q=tbn:ANd9GcTa8yKgt-hqQctxpSzfvgm_c0maZokAH3jNTw&usqp=CAU - as ./images\\strawberry_shortcake\\37ef2efce6.jpg\n"
     ]
    },
    {
     "name": "stderr",
     "output_type": "stream",
     "text": [
      "C:\\Users\\mandeep.singh\\Anaconda3\\lib\\site-packages\\urllib3\\connectionpool.py:1013: InsecureRequestWarning: Unverified HTTPS request is being made to host 'encrypted-tbn0.gstatic.com'. Adding certificate verification is strongly advised. See: https://urllib3.readthedocs.io/en/latest/advanced-usage.html#ssl-warnings\n",
      "  warnings.warn(\n",
      "C:\\Users\\mandeep.singh\\Anaconda3\\lib\\site-packages\\urllib3\\connectionpool.py:1013: InsecureRequestWarning: Unverified HTTPS request is being made to host 'www.vegrecipesofindia.com'. Adding certificate verification is strongly advised. See: https://urllib3.readthedocs.io/en/latest/advanced-usage.html#ssl-warnings\n",
      "  warnings.warn(\n"
     ]
    },
    {
     "name": "stdout",
     "output_type": "stream",
     "text": [
      "SUCCESS - saved https://www.vegrecipesofindia.com/wp-content/uploads/2021/03/strawberry-shortcake-1-500x500.jpg - as ./images\\strawberry_shortcake\\e24377731e.jpg\n"
     ]
    },
    {
     "name": "stderr",
     "output_type": "stream",
     "text": [
      "C:\\Users\\mandeep.singh\\Anaconda3\\lib\\site-packages\\urllib3\\connectionpool.py:1013: InsecureRequestWarning: Unverified HTTPS request is being made to host 'encrypted-tbn0.gstatic.com'. Adding certificate verification is strongly advised. See: https://urllib3.readthedocs.io/en/latest/advanced-usage.html#ssl-warnings\n",
      "  warnings.warn(\n",
      "C:\\Users\\mandeep.singh\\Anaconda3\\lib\\site-packages\\urllib3\\connectionpool.py:1013: InsecureRequestWarning: Unverified HTTPS request is being made to host 'encrypted-tbn0.gstatic.com'. Adding certificate verification is strongly advised. See: https://urllib3.readthedocs.io/en/latest/advanced-usage.html#ssl-warnings\n",
      "  warnings.warn(\n"
     ]
    },
    {
     "name": "stdout",
     "output_type": "stream",
     "text": [
      "SUCCESS - saved https://encrypted-tbn0.gstatic.com/images?q=tbn:ANd9GcSLSDx9ArA_HdI5YyPgtZF14NFciuR73--jMQ&usqp=CAU - as ./images\\strawberry_shortcake\\ca901f8465.jpg\n",
      "SUCCESS - saved https://encrypted-tbn0.gstatic.com/images?q=tbn:ANd9GcSAxHSoEhY03icEc6pHOeNjm6ERRDKtLCV9Ew&usqp=CAU - as ./images\\strawberry_shortcake\\6019ca7f93.jpg\n"
     ]
    },
    {
     "name": "stderr",
     "output_type": "stream",
     "text": [
      "C:\\Users\\mandeep.singh\\Anaconda3\\lib\\site-packages\\urllib3\\connectionpool.py:1013: InsecureRequestWarning: Unverified HTTPS request is being made to host 'encrypted-tbn0.gstatic.com'. Adding certificate verification is strongly advised. See: https://urllib3.readthedocs.io/en/latest/advanced-usage.html#ssl-warnings\n",
      "  warnings.warn(\n"
     ]
    },
    {
     "name": "stdout",
     "output_type": "stream",
     "text": [
      "SUCCESS - saved https://encrypted-tbn0.gstatic.com/images?q=tbn:ANd9GcQ7iRVl12-SV34MOCSOWeEdxny5zJmMpZLqTA&usqp=CAU - as ./images\\strawberry_shortcake\\e832a619ce.jpg\n",
      "SUCCESS - saved https://encrypted-tbn0.gstatic.com/images?q=tbn:ANd9GcT0YO6y74ltuiYWldcGDU5moR0seHjpZoYEww&usqp=CAU - as ./images\\strawberry_shortcake\\81ff8c2f6a.jpg\n"
     ]
    },
    {
     "name": "stderr",
     "output_type": "stream",
     "text": [
      "C:\\Users\\mandeep.singh\\Anaconda3\\lib\\site-packages\\urllib3\\connectionpool.py:1013: InsecureRequestWarning: Unverified HTTPS request is being made to host 'encrypted-tbn0.gstatic.com'. Adding certificate verification is strongly advised. See: https://urllib3.readthedocs.io/en/latest/advanced-usage.html#ssl-warnings\n",
      "  warnings.warn(\n",
      "C:\\Users\\mandeep.singh\\Anaconda3\\lib\\site-packages\\urllib3\\connectionpool.py:1013: InsecureRequestWarning: Unverified HTTPS request is being made to host 'img.buzzfeed.com'. Adding certificate verification is strongly advised. See: https://urllib3.readthedocs.io/en/latest/advanced-usage.html#ssl-warnings\n",
      "  warnings.warn(\n"
     ]
    },
    {
     "name": "stdout",
     "output_type": "stream",
     "text": [
      "SUCCESS - saved https://img.buzzfeed.com/thumbnailer-prod-us-east-1/42394974c2b24ba4b890f701f7ebfb94/BFV44628_AllTheRecipesYouNeedforaGreatBBQ_FB1080SQ.jpg - as ./images\\strawberry_shortcake\\1be3f9fc01.jpg\n"
     ]
    },
    {
     "name": "stderr",
     "output_type": "stream",
     "text": [
      "C:\\Users\\mandeep.singh\\Anaconda3\\lib\\site-packages\\urllib3\\connectionpool.py:1013: InsecureRequestWarning: Unverified HTTPS request is being made to host 'encrypted-tbn0.gstatic.com'. Adding certificate verification is strongly advised. See: https://urllib3.readthedocs.io/en/latest/advanced-usage.html#ssl-warnings\n",
      "  warnings.warn(\n"
     ]
    },
    {
     "name": "stdout",
     "output_type": "stream",
     "text": [
      "SUCCESS - saved https://encrypted-tbn0.gstatic.com/images?q=tbn:ANd9GcQjflvlaK5spJt36nVmbKrwIq3d-jF_9SHXQQ&usqp=CAU - as ./images\\strawberry_shortcake\\328554f1b7.jpg\n"
     ]
    },
    {
     "name": "stderr",
     "output_type": "stream",
     "text": [
      "C:\\Users\\mandeep.singh\\Anaconda3\\lib\\site-packages\\urllib3\\connectionpool.py:1013: InsecureRequestWarning: Unverified HTTPS request is being made to host 'encrypted-tbn0.gstatic.com'. Adding certificate verification is strongly advised. See: https://urllib3.readthedocs.io/en/latest/advanced-usage.html#ssl-warnings\n",
      "  warnings.warn(\n"
     ]
    },
    {
     "name": "stdout",
     "output_type": "stream",
     "text": [
      "SUCCESS - saved https://encrypted-tbn0.gstatic.com/images?q=tbn:ANd9GcTD1SObvLRJwIDFOTvsT3LXKDqvdxgJg4_2dA&usqp=CAU - as ./images\\strawberry_shortcake\\9f70a62c6c.jpg\n"
     ]
    },
    {
     "name": "stderr",
     "output_type": "stream",
     "text": [
      "C:\\Users\\mandeep.singh\\Anaconda3\\lib\\site-packages\\urllib3\\connectionpool.py:1013: InsecureRequestWarning: Unverified HTTPS request is being made to host 'static.toiimg.com'. Adding certificate verification is strongly advised. See: https://urllib3.readthedocs.io/en/latest/advanced-usage.html#ssl-warnings\n",
      "  warnings.warn(\n"
     ]
    },
    {
     "name": "stdout",
     "output_type": "stream",
     "text": [
      "SUCCESS - saved https://static.toiimg.com/thumb/80877258.cms?imgsize=196788&width=800&height=800 - as ./images\\strawberry_shortcake\\bb2ae85ffa.jpg\n"
     ]
    },
    {
     "name": "stderr",
     "output_type": "stream",
     "text": [
      "C:\\Users\\mandeep.singh\\Anaconda3\\lib\\site-packages\\urllib3\\connectionpool.py:1013: InsecureRequestWarning: Unverified HTTPS request is being made to host 'encrypted-tbn0.gstatic.com'. Adding certificate verification is strongly advised. See: https://urllib3.readthedocs.io/en/latest/advanced-usage.html#ssl-warnings\n",
      "  warnings.warn(\n",
      "C:\\Users\\mandeep.singh\\Anaconda3\\lib\\site-packages\\urllib3\\connectionpool.py:1013: InsecureRequestWarning: Unverified HTTPS request is being made to host 'encrypted-tbn0.gstatic.com'. Adding certificate verification is strongly advised. See: https://urllib3.readthedocs.io/en/latest/advanced-usage.html#ssl-warnings\n",
      "  warnings.warn(\n"
     ]
    },
    {
     "name": "stdout",
     "output_type": "stream",
     "text": [
      "SUCCESS - saved https://encrypted-tbn0.gstatic.com/images?q=tbn:ANd9GcR8pDU9zY3Ef8zLfDOAarhZqkIAVA3Py5BCww&usqp=CAU - as ./images\\strawberry_shortcake\\e56856d0e4.jpg\n",
      "SUCCESS - saved https://encrypted-tbn0.gstatic.com/images?q=tbn:ANd9GcS7QpAlznxWcFmxMSrS8Eqq71RTlEOxPDCT0w&usqp=CAU - as ./images\\strawberry_shortcake\\4cfed7aeb4.jpg\n"
     ]
    },
    {
     "name": "stderr",
     "output_type": "stream",
     "text": [
      "C:\\Users\\mandeep.singh\\Anaconda3\\lib\\site-packages\\urllib3\\connectionpool.py:1013: InsecureRequestWarning: Unverified HTTPS request is being made to host 'encrypted-tbn0.gstatic.com'. Adding certificate verification is strongly advised. See: https://urllib3.readthedocs.io/en/latest/advanced-usage.html#ssl-warnings\n",
      "  warnings.warn(\n"
     ]
    },
    {
     "name": "stdout",
     "output_type": "stream",
     "text": [
      "SUCCESS - saved https://encrypted-tbn0.gstatic.com/images?q=tbn:ANd9GcSoSpHrKvTSe-uU-l7VQLUZ_tkXgdVDqec9Kw&usqp=CAU - as ./images\\strawberry_shortcake\\3a8806754d.jpg\n"
     ]
    },
    {
     "name": "stderr",
     "output_type": "stream",
     "text": [
      "C:\\Users\\mandeep.singh\\Anaconda3\\lib\\site-packages\\urllib3\\connectionpool.py:1013: InsecureRequestWarning: Unverified HTTPS request is being made to host 'www.theflavorbender.com'. Adding certificate verification is strongly advised. See: https://urllib3.readthedocs.io/en/latest/advanced-usage.html#ssl-warnings\n",
      "  warnings.warn(\n"
     ]
    },
    {
     "name": "stdout",
     "output_type": "stream",
     "text": [
      "SUCCESS - saved https://www.theflavorbender.com/wp-content/uploads/2020/03/Strawberry-shortcake-social-media-1343.jpg - as ./images\\strawberry_shortcake\\38e1359610.jpg\n"
     ]
    },
    {
     "name": "stderr",
     "output_type": "stream",
     "text": [
      "C:\\Users\\mandeep.singh\\Anaconda3\\lib\\site-packages\\urllib3\\connectionpool.py:1013: InsecureRequestWarning: Unverified HTTPS request is being made to host 'www.simplyrecipes.com'. Adding certificate verification is strongly advised. See: https://urllib3.readthedocs.io/en/latest/advanced-usage.html#ssl-warnings\n",
      "  warnings.warn(\n"
     ]
    },
    {
     "name": "stdout",
     "output_type": "stream",
     "text": [
      "SUCCESS - saved https://www.simplyrecipes.com/thmb/wtSXTD3smo58SrHPMvjRrL1MoA8=/1600x2240/filters:no_upscale():max_bytes(150000):strip_icc()/__opt__aboutcom__coeus__resources__content_migration__simply_recipes__uploads__2020__04__Healthier-Strawberry-Shortcake-LEAD-3-faccec1824fc491fa70d6445e6eab113.jpg - as ./images\\strawberry_shortcake\\0d03af64c4.jpg\n"
     ]
    },
    {
     "name": "stderr",
     "output_type": "stream",
     "text": [
      "C:\\Users\\mandeep.singh\\Anaconda3\\lib\\site-packages\\urllib3\\connectionpool.py:1013: InsecureRequestWarning: Unverified HTTPS request is being made to host 'media1.popsugar-assets.com'. Adding certificate verification is strongly advised. See: https://urllib3.readthedocs.io/en/latest/advanced-usage.html#ssl-warnings\n",
      "  warnings.warn(\n"
     ]
    },
    {
     "name": "stdout",
     "output_type": "stream",
     "text": [
      "SUCCESS - saved https://media1.popsugar-assets.com/files/thumbor/0ykFnBz4vJ8NIzgWIhw-6GQRj9U/fit-in/2048xorig/filters:format_auto-!!-:strip_icc-!!-/2021/08/20/993/n/48223970/tmp_3zETpx_6f9fe5cb31934288_strawberry_shortcake_bars_10.jpg - as ./images\\strawberry_shortcake\\27a1e98f60.jpg\n"
     ]
    },
    {
     "name": "stderr",
     "output_type": "stream",
     "text": [
      "C:\\Users\\mandeep.singh\\Anaconda3\\lib\\site-packages\\urllib3\\connectionpool.py:1013: InsecureRequestWarning: Unverified HTTPS request is being made to host 'thebigmansworld.com'. Adding certificate verification is strongly advised. See: https://urllib3.readthedocs.io/en/latest/advanced-usage.html#ssl-warnings\n",
      "  warnings.warn(\n"
     ]
    },
    {
     "name": "stdout",
     "output_type": "stream",
     "text": [
      "SUCCESS - saved https://thebigmansworld.com/wp-content/uploads/2021/03/keto-strawberry-shortcake.jpg - as ./images\\strawberry_shortcake\\eae15c888c.jpg\n",
      "SUCCESS - saved https://encrypted-tbn0.gstatic.com/images?q=tbn:ANd9GcT9_chjWn1c1CZAXjZMG1LkS-Njbn8mCPJclg&usqp=CAU - as ./images\\strawberry_shortcake\\36581ce5a5.jpg\n"
     ]
    },
    {
     "name": "stderr",
     "output_type": "stream",
     "text": [
      "C:\\Users\\mandeep.singh\\Anaconda3\\lib\\site-packages\\urllib3\\connectionpool.py:1013: InsecureRequestWarning: Unverified HTTPS request is being made to host 'encrypted-tbn0.gstatic.com'. Adding certificate verification is strongly advised. See: https://urllib3.readthedocs.io/en/latest/advanced-usage.html#ssl-warnings\n",
      "  warnings.warn(\n",
      "C:\\Users\\mandeep.singh\\Anaconda3\\lib\\site-packages\\urllib3\\connectionpool.py:1013: InsecureRequestWarning: Unverified HTTPS request is being made to host 'res.cloudinary.com'. Adding certificate verification is strongly advised. See: https://urllib3.readthedocs.io/en/latest/advanced-usage.html#ssl-warnings\n",
      "  warnings.warn(\n"
     ]
    },
    {
     "name": "stdout",
     "output_type": "stream",
     "text": [
      "SUCCESS - saved https://res.cloudinary.com/hksqkdlah/image/upload/43771-sfs-strawberry-shortcake-trifle-28.jpg - as ./images\\strawberry_shortcake\\778c6e0d69.jpg\n",
      "SUCCESS - saved https://encrypted-tbn0.gstatic.com/images?q=tbn:ANd9GcT6Ccbr-krujQrwauEYO-keXH1wvfgTKhZGhg&usqp=CAU - as ./images\\strawberry_shortcake\\9c01a57617.jpg\n"
     ]
    },
    {
     "name": "stderr",
     "output_type": "stream",
     "text": [
      "C:\\Users\\mandeep.singh\\Anaconda3\\lib\\site-packages\\urllib3\\connectionpool.py:1013: InsecureRequestWarning: Unverified HTTPS request is being made to host 'encrypted-tbn0.gstatic.com'. Adding certificate verification is strongly advised. See: https://urllib3.readthedocs.io/en/latest/advanced-usage.html#ssl-warnings\n",
      "  warnings.warn(\n",
      "C:\\Users\\mandeep.singh\\Anaconda3\\lib\\site-packages\\urllib3\\connectionpool.py:1013: InsecureRequestWarning: Unverified HTTPS request is being made to host 'www.vegrecipesofindia.com'. Adding certificate verification is strongly advised. See: https://urllib3.readthedocs.io/en/latest/advanced-usage.html#ssl-warnings\n",
      "  warnings.warn(\n"
     ]
    },
    {
     "name": "stdout",
     "output_type": "stream",
     "text": [
      "SUCCESS - saved https://www.vegrecipesofindia.com/wp-content/uploads/2021/03/strawberry-shortcake-recipe.jpg - as ./images\\strawberry_shortcake\\a27b025bb8.jpg\n"
     ]
    },
    {
     "name": "stderr",
     "output_type": "stream",
     "text": [
      "C:\\Users\\mandeep.singh\\Anaconda3\\lib\\site-packages\\urllib3\\connectionpool.py:1013: InsecureRequestWarning: Unverified HTTPS request is being made to host 'images.unsplash.com'. Adding certificate verification is strongly advised. See: https://urllib3.readthedocs.io/en/latest/advanced-usage.html#ssl-warnings\n",
      "  warnings.warn(\n"
     ]
    },
    {
     "name": "stdout",
     "output_type": "stream",
     "text": [
      "SUCCESS - saved https://images.unsplash.com/photo-1558234469-50fc184d1cc9?ixlib=rb-1.2.1&ixid=MnwxMjA3fDB8MHxzZWFyY2h8MXx8c3RyYXdiZXJyeSUyMHNob3J0Y2FrZXxlbnwwfHwwfHw%3D&w=1000&q=80 - as ./images\\strawberry_shortcake\\794da01e34.jpg\n"
     ]
    },
    {
     "name": "stderr",
     "output_type": "stream",
     "text": [
      "C:\\Users\\mandeep.singh\\Anaconda3\\lib\\site-packages\\urllib3\\connectionpool.py:1013: InsecureRequestWarning: Unverified HTTPS request is being made to host 'encrypted-tbn0.gstatic.com'. Adding certificate verification is strongly advised. See: https://urllib3.readthedocs.io/en/latest/advanced-usage.html#ssl-warnings\n",
      "  warnings.warn(\n"
     ]
    },
    {
     "name": "stdout",
     "output_type": "stream",
     "text": [
      "SUCCESS - saved https://encrypted-tbn0.gstatic.com/images?q=tbn:ANd9GcR78UhX-Ho4Tf5XlM01zoQWsBu6OvJJg2cehg&usqp=CAU - as ./images\\strawberry_shortcake\\8f3c42f58c.jpg\n"
     ]
    },
    {
     "name": "stderr",
     "output_type": "stream",
     "text": [
      "C:\\Users\\mandeep.singh\\Anaconda3\\lib\\site-packages\\urllib3\\connectionpool.py:1013: InsecureRequestWarning: Unverified HTTPS request is being made to host 'media.istockphoto.com'. Adding certificate verification is strongly advised. See: https://urllib3.readthedocs.io/en/latest/advanced-usage.html#ssl-warnings\n",
      "  warnings.warn(\n"
     ]
    },
    {
     "name": "stdout",
     "output_type": "stream",
     "text": [
      "SUCCESS - saved https://media.istockphoto.com/photos/strawberry-shortcake-picture-id171107631?k=20&m=171107631&s=612x612&w=0&h=rv7KRDoS2mWreKQEysmIoZ80OlbEbK4vtgWPFjYhKV0= - as ./images\\strawberry_shortcake\\60abfd8e4b.jpg\n"
     ]
    },
    {
     "name": "stderr",
     "output_type": "stream",
     "text": [
      "C:\\Users\\mandeep.singh\\Anaconda3\\lib\\site-packages\\urllib3\\connectionpool.py:1013: InsecureRequestWarning: Unverified HTTPS request is being made to host 'encrypted-tbn0.gstatic.com'. Adding certificate verification is strongly advised. See: https://urllib3.readthedocs.io/en/latest/advanced-usage.html#ssl-warnings\n",
      "  warnings.warn(\n"
     ]
    },
    {
     "name": "stdout",
     "output_type": "stream",
     "text": [
      "SUCCESS - saved https://encrypted-tbn0.gstatic.com/images?q=tbn:ANd9GcRsPI2Hvu6Ge1mC-pTVCv93_Hh6bYw1Add6Lg&usqp=CAU - as ./images\\strawberry_shortcake\\e984929e11.jpg\n"
     ]
    },
    {
     "name": "stderr",
     "output_type": "stream",
     "text": [
      "C:\\Users\\mandeep.singh\\Anaconda3\\lib\\site-packages\\urllib3\\connectionpool.py:1013: InsecureRequestWarning: Unverified HTTPS request is being made to host 'www.cookingclassy.com'. Adding certificate verification is strongly advised. See: https://urllib3.readthedocs.io/en/latest/advanced-usage.html#ssl-warnings\n",
      "  warnings.warn(\n"
     ]
    },
    {
     "name": "stdout",
     "output_type": "stream",
     "text": [
      "SUCCESS - saved https://www.cookingclassy.com/wp-content/uploads/2019/03/strawberry-shortcake-02.jpg - as ./images\\strawberry_shortcake\\4c7dcc3d0c.jpg\n"
     ]
    },
    {
     "name": "stderr",
     "output_type": "stream",
     "text": [
      "C:\\Users\\mandeep.singh\\Anaconda3\\lib\\site-packages\\urllib3\\connectionpool.py:1013: InsecureRequestWarning: Unverified HTTPS request is being made to host 'encrypted-tbn0.gstatic.com'. Adding certificate verification is strongly advised. See: https://urllib3.readthedocs.io/en/latest/advanced-usage.html#ssl-warnings\n",
      "  warnings.warn(\n"
     ]
    },
    {
     "name": "stdout",
     "output_type": "stream",
     "text": [
      "SUCCESS - saved https://encrypted-tbn0.gstatic.com/images?q=tbn:ANd9GcQMqne8VFcYV9aykxAu4OvEH23gr9EkgMHVwQ&usqp=CAU - as ./images\\strawberry_shortcake\\dcd790afac.jpg\n"
     ]
    },
    {
     "name": "stderr",
     "output_type": "stream",
     "text": [
      "C:\\Users\\mandeep.singh\\Anaconda3\\lib\\site-packages\\urllib3\\connectionpool.py:1013: InsecureRequestWarning: Unverified HTTPS request is being made to host 'cdn.sallysbakingaddiction.com'. Adding certificate verification is strongly advised. See: https://urllib3.readthedocs.io/en/latest/advanced-usage.html#ssl-warnings\n",
      "  warnings.warn(\n"
     ]
    },
    {
     "name": "stdout",
     "output_type": "stream",
     "text": [
      "SUCCESS - saved https://cdn.sallysbakingaddiction.com/wp-content/uploads/2017/05/easy-homemade-strawberry-shortcake-4.jpg - as ./images\\strawberry_shortcake\\a9847c5328.jpg\n"
     ]
    },
    {
     "name": "stderr",
     "output_type": "stream",
     "text": [
      "C:\\Users\\mandeep.singh\\Anaconda3\\lib\\site-packages\\urllib3\\connectionpool.py:1013: InsecureRequestWarning: Unverified HTTPS request is being made to host 'encrypted-tbn0.gstatic.com'. Adding certificate verification is strongly advised. See: https://urllib3.readthedocs.io/en/latest/advanced-usage.html#ssl-warnings\n",
      "  warnings.warn(\n",
      "C:\\Users\\mandeep.singh\\Anaconda3\\lib\\site-packages\\urllib3\\connectionpool.py:1013: InsecureRequestWarning: Unverified HTTPS request is being made to host 'encrypted-tbn0.gstatic.com'. Adding certificate verification is strongly advised. See: https://urllib3.readthedocs.io/en/latest/advanced-usage.html#ssl-warnings\n",
      "  warnings.warn(\n"
     ]
    },
    {
     "name": "stdout",
     "output_type": "stream",
     "text": [
      "SUCCESS - saved https://encrypted-tbn0.gstatic.com/images?q=tbn:ANd9GcSGby_Wt86vN_ClDLH4WdddEMBxjicmrL4NDw&usqp=CAU - as ./images\\strawberry_shortcake\\f514857557.jpg\n",
      "SUCCESS - saved https://encrypted-tbn0.gstatic.com/images?q=tbn:ANd9GcSSwaTtq2C1BBDhcdD_D5qbEsEV9tBf09Ntlg&usqp=CAU - as ./images\\strawberry_shortcake\\dc92d7c432.jpg\n"
     ]
    },
    {
     "name": "stderr",
     "output_type": "stream",
     "text": [
      "C:\\Users\\mandeep.singh\\Anaconda3\\lib\\site-packages\\urllib3\\connectionpool.py:1013: InsecureRequestWarning: Unverified HTTPS request is being made to host 'encrypted-tbn0.gstatic.com'. Adding certificate verification is strongly advised. See: https://urllib3.readthedocs.io/en/latest/advanced-usage.html#ssl-warnings\n",
      "  warnings.warn(\n"
     ]
    },
    {
     "name": "stdout",
     "output_type": "stream",
     "text": [
      "SUCCESS - saved https://encrypted-tbn0.gstatic.com/images?q=tbn:ANd9GcTtCkrxFdQoDd2NzHQ19jFaTyfASb_9kE0FIg&usqp=CAU - as ./images\\strawberry_shortcake\\e1073418f2.jpg\n",
      "SUCCESS - saved https://encrypted-tbn0.gstatic.com/images?q=tbn:ANd9GcTjIQeUym1EB13rXH-7sBgdWMAe5JxqIpPtSA&usqp=CAU - as ./images\\strawberry_shortcake\\e25490e937.jpg\n"
     ]
    },
    {
     "name": "stderr",
     "output_type": "stream",
     "text": [
      "C:\\Users\\mandeep.singh\\Anaconda3\\lib\\site-packages\\urllib3\\connectionpool.py:1013: InsecureRequestWarning: Unverified HTTPS request is being made to host 'encrypted-tbn0.gstatic.com'. Adding certificate verification is strongly advised. See: https://urllib3.readthedocs.io/en/latest/advanced-usage.html#ssl-warnings\n",
      "  warnings.warn(\n",
      "C:\\Users\\mandeep.singh\\Anaconda3\\lib\\site-packages\\urllib3\\connectionpool.py:1013: InsecureRequestWarning: Unverified HTTPS request is being made to host 'encrypted-tbn0.gstatic.com'. Adding certificate verification is strongly advised. See: https://urllib3.readthedocs.io/en/latest/advanced-usage.html#ssl-warnings\n",
      "  warnings.warn(\n"
     ]
    },
    {
     "name": "stdout",
     "output_type": "stream",
     "text": [
      "SUCCESS - saved https://encrypted-tbn0.gstatic.com/images?q=tbn:ANd9GcScOhbNq36qiiU7ZRLvEf-gSUYgdjHmoryM0g&usqp=CAU - as ./images\\strawberry_shortcake\\ca153b2fd3.jpg\n"
     ]
    },
    {
     "name": "stderr",
     "output_type": "stream",
     "text": [
      "C:\\Users\\mandeep.singh\\Anaconda3\\lib\\site-packages\\urllib3\\connectionpool.py:1013: InsecureRequestWarning: Unverified HTTPS request is being made to host 'imagesvc.meredithcorp.io'. Adding certificate verification is strongly advised. See: https://urllib3.readthedocs.io/en/latest/advanced-usage.html#ssl-warnings\n",
      "  warnings.warn(\n"
     ]
    },
    {
     "name": "stdout",
     "output_type": "stream",
     "text": [
      "SUCCESS - saved https://imagesvc.meredithcorp.io/v3/mm/image?url=https%3A%2F%2Fimages.media-allrecipes.com%2Fuserphotos%2F840004.jpg - as ./images\\strawberry_shortcake\\75e3c2d11c.jpg\n",
      "SUCCESS - saved https://encrypted-tbn0.gstatic.com/images?q=tbn:ANd9GcQ7PRvmHQRbHx7b1_yEy3HfkfomsghZLGByGQ&usqp=CAU - as ./images\\strawberry_shortcake\\657e60263e.jpg\n"
     ]
    },
    {
     "name": "stderr",
     "output_type": "stream",
     "text": [
      "C:\\Users\\mandeep.singh\\Anaconda3\\lib\\site-packages\\urllib3\\connectionpool.py:1013: InsecureRequestWarning: Unverified HTTPS request is being made to host 'encrypted-tbn0.gstatic.com'. Adding certificate verification is strongly advised. See: https://urllib3.readthedocs.io/en/latest/advanced-usage.html#ssl-warnings\n",
      "  warnings.warn(\n",
      "C:\\Users\\mandeep.singh\\Anaconda3\\lib\\site-packages\\urllib3\\connectionpool.py:1013: InsecureRequestWarning: Unverified HTTPS request is being made to host 'encrypted-tbn0.gstatic.com'. Adding certificate verification is strongly advised. See: https://urllib3.readthedocs.io/en/latest/advanced-usage.html#ssl-warnings\n",
      "  warnings.warn(\n"
     ]
    },
    {
     "name": "stdout",
     "output_type": "stream",
     "text": [
      "SUCCESS - saved https://encrypted-tbn0.gstatic.com/images?q=tbn:ANd9GcSjvt5NFw_UBIJTqOZhFbWtLMbpjNJ5HjyZMQ&usqp=CAU - as ./images\\strawberry_shortcake\\d58425b7f9.jpg\n"
     ]
    },
    {
     "name": "stderr",
     "output_type": "stream",
     "text": [
      "C:\\Users\\mandeep.singh\\Anaconda3\\lib\\site-packages\\urllib3\\connectionpool.py:1013: InsecureRequestWarning: Unverified HTTPS request is being made to host 'chefsheilla.com'. Adding certificate verification is strongly advised. See: https://urllib3.readthedocs.io/en/latest/advanced-usage.html#ssl-warnings\n",
      "  warnings.warn(\n"
     ]
    },
    {
     "name": "stdout",
     "output_type": "stream",
     "text": [
      "SUCCESS - saved https://chefsheilla.com/wp-content/uploads/2017/07/Strawberry-Shortcake-1200x675.jpg - as ./images\\strawberry_shortcake\\39b2f34783.jpg\n"
     ]
    },
    {
     "name": "stderr",
     "output_type": "stream",
     "text": [
      "C:\\Users\\mandeep.singh\\Anaconda3\\lib\\site-packages\\urllib3\\connectionpool.py:1013: InsecureRequestWarning: Unverified HTTPS request is being made to host 'encrypted-tbn0.gstatic.com'. Adding certificate verification is strongly advised. See: https://urllib3.readthedocs.io/en/latest/advanced-usage.html#ssl-warnings\n",
      "  warnings.warn(\n"
     ]
    },
    {
     "name": "stdout",
     "output_type": "stream",
     "text": [
      "SUCCESS - saved https://encrypted-tbn0.gstatic.com/images?q=tbn:ANd9GcR1w5yzR37ZV_irMSHMA5JN8u970H924eoU0Q&usqp=CAU - as ./images\\strawberry_shortcake\\2a02a67950.jpg\n"
     ]
    },
    {
     "name": "stderr",
     "output_type": "stream",
     "text": [
      "C:\\Users\\mandeep.singh\\Anaconda3\\lib\\site-packages\\urllib3\\connectionpool.py:1013: InsecureRequestWarning: Unverified HTTPS request is being made to host 'livforcake.com'. Adding certificate verification is strongly advised. See: https://urllib3.readthedocs.io/en/latest/advanced-usage.html#ssl-warnings\n",
      "  warnings.warn(\n"
     ]
    },
    {
     "name": "stdout",
     "output_type": "stream",
     "text": [
      "ERROR - Could not save https://livforcake.com/wp-content/uploads/2019/06/strawberry-shortcake-cake-thumb.jpg - cannot identify image file <_io.BytesIO object at 0x0000024D6D3E3270>\n",
      "SUCCESS - saved https://encrypted-tbn0.gstatic.com/images?q=tbn:ANd9GcQ3drUNx01h5_Ey5ZZoPr1640-mM4I7tRudOQ&usqp=CAU - as ./images\\strawberry_shortcake\\e8ea4a77a1.jpg\n"
     ]
    },
    {
     "name": "stderr",
     "output_type": "stream",
     "text": [
      "C:\\Users\\mandeep.singh\\Anaconda3\\lib\\site-packages\\urllib3\\connectionpool.py:1013: InsecureRequestWarning: Unverified HTTPS request is being made to host 'encrypted-tbn0.gstatic.com'. Adding certificate verification is strongly advised. See: https://urllib3.readthedocs.io/en/latest/advanced-usage.html#ssl-warnings\n",
      "  warnings.warn(\n",
      "C:\\Users\\mandeep.singh\\Anaconda3\\lib\\site-packages\\urllib3\\connectionpool.py:1013: InsecureRequestWarning: Unverified HTTPS request is being made to host 'www.biggerbolderbaking.com'. Adding certificate verification is strongly advised. See: https://urllib3.readthedocs.io/en/latest/advanced-usage.html#ssl-warnings\n",
      "  warnings.warn(\n"
     ]
    },
    {
     "name": "stdout",
     "output_type": "stream",
     "text": [
      "SUCCESS - saved https://www.biggerbolderbaking.com/wp-content/uploads/2019/06/Strawberry-Shortcake-Ice-Cream-Bar-thumbnail.jpg - as ./images\\strawberry_shortcake\\aa2741c377.jpg\n",
      "SUCCESS - saved https://encrypted-tbn0.gstatic.com/images?q=tbn:ANd9GcSMvFxVyADT7NsOWQZf9xLqbST0xpFsjMZKYQ&usqp=CAU - as ./images\\strawberry_shortcake\\f02056d5de.jpg\n"
     ]
    },
    {
     "name": "stderr",
     "output_type": "stream",
     "text": [
      "C:\\Users\\mandeep.singh\\Anaconda3\\lib\\site-packages\\urllib3\\connectionpool.py:1013: InsecureRequestWarning: Unverified HTTPS request is being made to host 'encrypted-tbn0.gstatic.com'. Adding certificate verification is strongly advised. See: https://urllib3.readthedocs.io/en/latest/advanced-usage.html#ssl-warnings\n",
      "  warnings.warn(\n",
      "C:\\Users\\mandeep.singh\\Anaconda3\\lib\\site-packages\\urllib3\\connectionpool.py:1013: InsecureRequestWarning: Unverified HTTPS request is being made to host 'www.gimmesomeoven.com'. Adding certificate verification is strongly advised. See: https://urllib3.readthedocs.io/en/latest/advanced-usage.html#ssl-warnings\n",
      "  warnings.warn(\n"
     ]
    },
    {
     "name": "stdout",
     "output_type": "stream",
     "text": [
      "SUCCESS - saved https://www.gimmesomeoven.com/wp-content/uploads/2010/06/strawberry-shortcake.jpg - as ./images\\strawberry_shortcake\\5287c1c84a.jpg\n"
     ]
    },
    {
     "name": "stderr",
     "output_type": "stream",
     "text": [
      "C:\\Users\\mandeep.singh\\Anaconda3\\lib\\site-packages\\urllib3\\connectionpool.py:1013: InsecureRequestWarning: Unverified HTTPS request is being made to host 'encrypted-tbn0.gstatic.com'. Adding certificate verification is strongly advised. See: https://urllib3.readthedocs.io/en/latest/advanced-usage.html#ssl-warnings\n",
      "  warnings.warn(\n"
     ]
    },
    {
     "name": "stdout",
     "output_type": "stream",
     "text": [
      "SUCCESS - saved https://encrypted-tbn0.gstatic.com/images?q=tbn:ANd9GcQqNu0gAFx7kiMLg_9kg4-NBJg5mkOOWGXS6w&usqp=CAU - as ./images\\strawberry_shortcake\\23d542876a.jpg\n"
     ]
    },
    {
     "name": "stderr",
     "output_type": "stream",
     "text": [
      "C:\\Users\\mandeep.singh\\Anaconda3\\lib\\site-packages\\urllib3\\connectionpool.py:1013: InsecureRequestWarning: Unverified HTTPS request is being made to host 'sugargeekshow.com'. Adding certificate verification is strongly advised. See: https://urllib3.readthedocs.io/en/latest/advanced-usage.html#ssl-warnings\n",
      "  warnings.warn(\n"
     ]
    },
    {
     "name": "stdout",
     "output_type": "stream",
     "text": [
      "SUCCESS - saved https://sugargeekshow.com/wp-content/uploads/2021/06/Strawberry_Shortcake_featured.jpg - as ./images\\strawberry_shortcake\\2381c47441.jpg\n"
     ]
    },
    {
     "name": "stderr",
     "output_type": "stream",
     "text": [
      "C:\\Users\\mandeep.singh\\Anaconda3\\lib\\site-packages\\urllib3\\connectionpool.py:1013: InsecureRequestWarning: Unverified HTTPS request is being made to host 'food.fnr.sndimg.com'. Adding certificate verification is strongly advised. See: https://urllib3.readthedocs.io/en/latest/advanced-usage.html#ssl-warnings\n",
      "  warnings.warn(\n",
      "C:\\Users\\mandeep.singh\\Anaconda3\\lib\\site-packages\\urllib3\\connectionpool.py:1013: InsecureRequestWarning: Unverified HTTPS request is being made to host 'encrypted-tbn0.gstatic.com'. Adding certificate verification is strongly advised. See: https://urllib3.readthedocs.io/en/latest/advanced-usage.html#ssl-warnings\n",
      "  warnings.warn(\n"
     ]
    },
    {
     "name": "stdout",
     "output_type": "stream",
     "text": [
      "SUCCESS - saved https://food.fnr.sndimg.com/content/dam/images/food/fullset/2014/2/27/0/CI0105H_Strawberry-Shortcake_s4x3.jpg.rend.hgtvcom.616.462.suffix/1393777060213.jpeg - as ./images\\strawberry_shortcake\\e3a5fadca5.jpg\n",
      "SUCCESS - saved https://encrypted-tbn0.gstatic.com/images?q=tbn:ANd9GcR3l1yxpKCE4A6KKexiDzWe2VNvTNldaKVJhQ&usqp=CAU - as ./images\\strawberry_shortcake\\2c252d9bfd.jpg\n",
      "SUCCESS - saved https://encrypted-tbn0.gstatic.com/images?q=tbn:ANd9GcTaK5ubI4_E8vbzgD0nIWIkQIgFhPU9zdeJmw&usqp=CAU - as ./images\\strawberry_shortcake\\64df0d182c.jpg\n"
     ]
    },
    {
     "name": "stderr",
     "output_type": "stream",
     "text": [
      "C:\\Users\\mandeep.singh\\Anaconda3\\lib\\site-packages\\urllib3\\connectionpool.py:1013: InsecureRequestWarning: Unverified HTTPS request is being made to host 'encrypted-tbn0.gstatic.com'. Adding certificate verification is strongly advised. See: https://urllib3.readthedocs.io/en/latest/advanced-usage.html#ssl-warnings\n",
      "  warnings.warn(\n",
      "C:\\Users\\mandeep.singh\\Anaconda3\\lib\\site-packages\\urllib3\\connectionpool.py:1013: InsecureRequestWarning: Unverified HTTPS request is being made to host 'encrypted-tbn0.gstatic.com'. Adding certificate verification is strongly advised. See: https://urllib3.readthedocs.io/en/latest/advanced-usage.html#ssl-warnings\n",
      "  warnings.warn(\n"
     ]
    },
    {
     "name": "stdout",
     "output_type": "stream",
     "text": [
      "SUCCESS - saved https://encrypted-tbn0.gstatic.com/images?q=tbn:ANd9GcSgmEHfnePW0yo6gAZCUlljev_dUxNye5eUsQ&usqp=CAU - as ./images\\strawberry_shortcake\\c44fa67594.jpg\n",
      "SUCCESS - saved https://img.buzzfeed.com/thumbnailer-prod-us-east-1/video-api/assets/328851.jpg?output-format=auto&output-quality=auto&resize=600:* - as ./images\\strawberry_shortcake\\2bf790dd42.jpg\n"
     ]
    },
    {
     "name": "stderr",
     "output_type": "stream",
     "text": [
      "C:\\Users\\mandeep.singh\\Anaconda3\\lib\\site-packages\\urllib3\\connectionpool.py:1013: InsecureRequestWarning: Unverified HTTPS request is being made to host 'img.buzzfeed.com'. Adding certificate verification is strongly advised. See: https://urllib3.readthedocs.io/en/latest/advanced-usage.html#ssl-warnings\n",
      "  warnings.warn(\n",
      "C:\\Users\\mandeep.singh\\Anaconda3\\lib\\site-packages\\urllib3\\connectionpool.py:1013: InsecureRequestWarning: Unverified HTTPS request is being made to host 'static.onecms.io'. Adding certificate verification is strongly advised. See: https://urllib3.readthedocs.io/en/latest/advanced-usage.html#ssl-warnings\n",
      "  warnings.warn(\n"
     ]
    },
    {
     "name": "stdout",
     "output_type": "stream",
     "text": [
      "SUCCESS - saved https://static.onecms.io/wp-content/uploads/sites/9/2013/12/06/200306-r-xl-strawberry-shortcake-with-star-anise-sauce-2000.jpg - as ./images\\strawberry_shortcake\\79613cb04d.jpg\n"
     ]
    },
    {
     "name": "stderr",
     "output_type": "stream",
     "text": [
      "C:\\Users\\mandeep.singh\\Anaconda3\\lib\\site-packages\\urllib3\\connectionpool.py:1013: InsecureRequestWarning: Unverified HTTPS request is being made to host 'encrypted-tbn0.gstatic.com'. Adding certificate verification is strongly advised. See: https://urllib3.readthedocs.io/en/latest/advanced-usage.html#ssl-warnings\n",
      "  warnings.warn(\n",
      "C:\\Users\\mandeep.singh\\Anaconda3\\lib\\site-packages\\urllib3\\connectionpool.py:1013: InsecureRequestWarning: Unverified HTTPS request is being made to host 'encrypted-tbn0.gstatic.com'. Adding certificate verification is strongly advised. See: https://urllib3.readthedocs.io/en/latest/advanced-usage.html#ssl-warnings\n",
      "  warnings.warn(\n"
     ]
    },
    {
     "name": "stdout",
     "output_type": "stream",
     "text": [
      "SUCCESS - saved https://encrypted-tbn0.gstatic.com/images?q=tbn:ANd9GcTHefzD8Vhts0j0UMvrEpLvpS_M7gNe_DjXlg&usqp=CAU - as ./images\\strawberry_shortcake\\d3ca1e40f4.jpg\n",
      "SUCCESS - saved https://encrypted-tbn0.gstatic.com/images?q=tbn:ANd9GcSWBS5DPyiKqWsuZDHwbtURxI-SCEO8rjzJ7w&usqp=CAU - as ./images\\strawberry_shortcake\\e8c7a224b2.jpg\n"
     ]
    },
    {
     "name": "stderr",
     "output_type": "stream",
     "text": [
      "C:\\Users\\mandeep.singh\\Anaconda3\\lib\\site-packages\\urllib3\\connectionpool.py:1013: InsecureRequestWarning: Unverified HTTPS request is being made to host 'encrypted-tbn0.gstatic.com'. Adding certificate verification is strongly advised. See: https://urllib3.readthedocs.io/en/latest/advanced-usage.html#ssl-warnings\n",
      "  warnings.warn(\n"
     ]
    },
    {
     "name": "stdout",
     "output_type": "stream",
     "text": [
      "SUCCESS - saved https://encrypted-tbn0.gstatic.com/images?q=tbn:ANd9GcQWEtPxJdAWz5jmU_io7Gs-j7m38lV5rYfCdA&usqp=CAU - as ./images\\strawberry_shortcake\\692313757c.jpg\n"
     ]
    },
    {
     "name": "stderr",
     "output_type": "stream",
     "text": [
      "C:\\Users\\mandeep.singh\\Anaconda3\\lib\\site-packages\\urllib3\\connectionpool.py:1013: InsecureRequestWarning: Unverified HTTPS request is being made to host 'cdn.sallysbakingaddiction.com'. Adding certificate verification is strongly advised. See: https://urllib3.readthedocs.io/en/latest/advanced-usage.html#ssl-warnings\n",
      "  warnings.warn(\n"
     ]
    },
    {
     "name": "stdout",
     "output_type": "stream",
     "text": [
      "SUCCESS - saved https://cdn.sallysbakingaddiction.com/wp-content/uploads/2019/05/one-layer-strawberry-shortcake-cake-white-cake-stand.jpg - as ./images\\strawberry_shortcake\\28ecc8093b.jpg\n",
      "SUCCESS - saved https://encrypted-tbn0.gstatic.com/images?q=tbn:ANd9GcQaIdB9KTqEKUpVSkNBeniM-iY1l1tMahpjiw&usqp=CAU - as ./images\\strawberry_shortcake\\448e465871.jpg\n"
     ]
    },
    {
     "name": "stderr",
     "output_type": "stream",
     "text": [
      "C:\\Users\\mandeep.singh\\Anaconda3\\lib\\site-packages\\urllib3\\connectionpool.py:1013: InsecureRequestWarning: Unverified HTTPS request is being made to host 'encrypted-tbn0.gstatic.com'. Adding certificate verification is strongly advised. See: https://urllib3.readthedocs.io/en/latest/advanced-usage.html#ssl-warnings\n",
      "  warnings.warn(\n",
      "C:\\Users\\mandeep.singh\\Anaconda3\\lib\\site-packages\\urllib3\\connectionpool.py:1013: InsecureRequestWarning: Unverified HTTPS request is being made to host 'i.pinimg.com'. Adding certificate verification is strongly advised. See: https://urllib3.readthedocs.io/en/latest/advanced-usage.html#ssl-warnings\n",
      "  warnings.warn(\n"
     ]
    },
    {
     "name": "stdout",
     "output_type": "stream",
     "text": [
      "SUCCESS - saved https://i.pinimg.com/originals/08/ef/e3/08efe3f495a2641e166976ecf71c6334.jpg - as ./images\\strawberry_shortcake\\7c86d3ba53.jpg\n",
      "SUCCESS - saved https://encrypted-tbn0.gstatic.com/images?q=tbn:ANd9GcTToyzRi_bq3g2TZA67RSqRC6QRzZaoWJS8WA&usqp=CAU - as ./images\\strawberry_shortcake\\9fd050bb5c.jpg\n"
     ]
    },
    {
     "name": "stderr",
     "output_type": "stream",
     "text": [
      "C:\\Users\\mandeep.singh\\Anaconda3\\lib\\site-packages\\urllib3\\connectionpool.py:1013: InsecureRequestWarning: Unverified HTTPS request is being made to host 'encrypted-tbn0.gstatic.com'. Adding certificate verification is strongly advised. See: https://urllib3.readthedocs.io/en/latest/advanced-usage.html#ssl-warnings\n",
      "  warnings.warn(\n",
      "C:\\Users\\mandeep.singh\\Anaconda3\\lib\\site-packages\\urllib3\\connectionpool.py:1013: InsecureRequestWarning: Unverified HTTPS request is being made to host 'encrypted-tbn0.gstatic.com'. Adding certificate verification is strongly advised. See: https://urllib3.readthedocs.io/en/latest/advanced-usage.html#ssl-warnings\n",
      "  warnings.warn(\n"
     ]
    },
    {
     "name": "stdout",
     "output_type": "stream",
     "text": [
      "SUCCESS - saved https://encrypted-tbn0.gstatic.com/images?q=tbn:ANd9GcSDII3JGDtaDePRONVHTA7I8mpknWwXJLDR9w&usqp=CAU - as ./images\\strawberry_shortcake\\33a44b0864.jpg\n",
      "SUCCESS - saved https://encrypted-tbn0.gstatic.com/images?q=tbn:ANd9GcT4hAXW8_IKCLWlUO8t3dKQjfUUjkTeRHITFQ&usqp=CAU - as ./images\\strawberry_shortcake\\622b790600.jpg\n"
     ]
    },
    {
     "name": "stderr",
     "output_type": "stream",
     "text": [
      "C:\\Users\\mandeep.singh\\Anaconda3\\lib\\site-packages\\urllib3\\connectionpool.py:1013: InsecureRequestWarning: Unverified HTTPS request is being made to host 'encrypted-tbn0.gstatic.com'. Adding certificate verification is strongly advised. See: https://urllib3.readthedocs.io/en/latest/advanced-usage.html#ssl-warnings\n",
      "  warnings.warn(\n",
      "C:\\Users\\mandeep.singh\\Anaconda3\\lib\\site-packages\\urllib3\\connectionpool.py:1013: InsecureRequestWarning: Unverified HTTPS request is being made to host 'encrypted-tbn0.gstatic.com'. Adding certificate verification is strongly advised. See: https://urllib3.readthedocs.io/en/latest/advanced-usage.html#ssl-warnings\n",
      "  warnings.warn(\n"
     ]
    },
    {
     "name": "stdout",
     "output_type": "stream",
     "text": [
      "SUCCESS - saved https://encrypted-tbn0.gstatic.com/images?q=tbn:ANd9GcSzGi4N83KWiNjIoivdqTEcuW1s7ObU23S3tg&usqp=CAU - as ./images\\strawberry_shortcake\\31798f0a8f.jpg\n",
      "SUCCESS - saved https://encrypted-tbn0.gstatic.com/images?q=tbn:ANd9GcQJANxMJkXmRRBn4G-gPdsMm8Vwg-emZo06Eg&usqp=CAU - as ./images\\strawberry_shortcake\\b8a1d8c009.jpg\n"
     ]
    },
    {
     "name": "stderr",
     "output_type": "stream",
     "text": [
      "C:\\Users\\mandeep.singh\\Anaconda3\\lib\\site-packages\\urllib3\\connectionpool.py:1013: InsecureRequestWarning: Unverified HTTPS request is being made to host 'encrypted-tbn0.gstatic.com'. Adding certificate verification is strongly advised. See: https://urllib3.readthedocs.io/en/latest/advanced-usage.html#ssl-warnings\n",
      "  warnings.warn(\n",
      "C:\\Users\\mandeep.singh\\Anaconda3\\lib\\site-packages\\urllib3\\connectionpool.py:1013: InsecureRequestWarning: Unverified HTTPS request is being made to host 'i.ytimg.com'. Adding certificate verification is strongly advised. See: https://urllib3.readthedocs.io/en/latest/advanced-usage.html#ssl-warnings\n",
      "  warnings.warn(\n"
     ]
    },
    {
     "name": "stdout",
     "output_type": "stream",
     "text": [
      "SUCCESS - saved https://i.ytimg.com/vi/zgO06k31zQw/maxresdefault.jpg - as ./images\\strawberry_shortcake\\2b268c976f.jpg\n"
     ]
    },
    {
     "name": "stderr",
     "output_type": "stream",
     "text": [
      "C:\\Users\\mandeep.singh\\Anaconda3\\lib\\site-packages\\urllib3\\connectionpool.py:1013: InsecureRequestWarning: Unverified HTTPS request is being made to host 'nibbleanddine.com'. Adding certificate verification is strongly advised. See: https://urllib3.readthedocs.io/en/latest/advanced-usage.html#ssl-warnings\n",
      "  warnings.warn(\n"
     ]
    },
    {
     "name": "stdout",
     "output_type": "stream",
     "text": [
      "SUCCESS - saved https://nibbleanddine.com/wp-content/uploads/2019/05/Strawberry-Shortcake-Mug-Cake-Thumbnail.jpg - as ./images\\strawberry_shortcake\\dab3f0757e.jpg\n"
     ]
    },
    {
     "name": "stderr",
     "output_type": "stream",
     "text": [
      "C:\\Users\\mandeep.singh\\Anaconda3\\lib\\site-packages\\urllib3\\connectionpool.py:1013: InsecureRequestWarning: Unverified HTTPS request is being made to host 'i.ytimg.com'. Adding certificate verification is strongly advised. See: https://urllib3.readthedocs.io/en/latest/advanced-usage.html#ssl-warnings\n",
      "  warnings.warn(\n"
     ]
    },
    {
     "name": "stdout",
     "output_type": "stream",
     "text": [
      "SUCCESS - saved https://i.ytimg.com/vi/RxRdUtqqdGk/maxresdefault.jpg - as ./images\\strawberry_shortcake\\4c9f9c3ff2.jpg\n"
     ]
    },
    {
     "name": "stderr",
     "output_type": "stream",
     "text": [
      "C:\\Users\\mandeep.singh\\Anaconda3\\lib\\site-packages\\urllib3\\connectionpool.py:1013: InsecureRequestWarning: Unverified HTTPS request is being made to host 'encrypted-tbn0.gstatic.com'. Adding certificate verification is strongly advised. See: https://urllib3.readthedocs.io/en/latest/advanced-usage.html#ssl-warnings\n",
      "  warnings.warn(\n",
      "C:\\Users\\mandeep.singh\\Anaconda3\\lib\\site-packages\\urllib3\\connectionpool.py:1013: InsecureRequestWarning: Unverified HTTPS request is being made to host 'i1.wp.com'. Adding certificate verification is strongly advised. See: https://urllib3.readthedocs.io/en/latest/advanced-usage.html#ssl-warnings\n",
      "  warnings.warn(\n"
     ]
    },
    {
     "name": "stdout",
     "output_type": "stream",
     "text": [
      "SUCCESS - saved https://encrypted-tbn0.gstatic.com/images?q=tbn:ANd9GcTdXNn1hpkR--kCuIaEACL4n8nUk-epdqmNEg&usqp=CAU - as ./images\\strawberry_shortcake\\260a854264.jpg\n",
      "SUCCESS - saved https://i1.wp.com/baketotheroots.de/wp-content/uploads/2015/08/KS_150701_StrawberryShortcakeCheesecake.jpg?fit=960%2C640&ssl=1 - as ./images\\strawberry_shortcake\\26f2e9a7b8.jpg\n"
     ]
    },
    {
     "name": "stderr",
     "output_type": "stream",
     "text": [
      "C:\\Users\\mandeep.singh\\Anaconda3\\lib\\site-packages\\urllib3\\connectionpool.py:1013: InsecureRequestWarning: Unverified HTTPS request is being made to host 'encrypted-tbn0.gstatic.com'. Adding certificate verification is strongly advised. See: https://urllib3.readthedocs.io/en/latest/advanced-usage.html#ssl-warnings\n",
      "  warnings.warn(\n"
     ]
    },
    {
     "name": "stdout",
     "output_type": "stream",
     "text": [
      "SUCCESS - saved https://encrypted-tbn0.gstatic.com/images?q=tbn:ANd9GcSpCIrEPmiAdcpuihr1ltOLszIHLZFWJ3Nb_A&usqp=CAU - as ./images\\strawberry_shortcake\\1d125bbdb8.jpg\n"
     ]
    },
    {
     "name": "stderr",
     "output_type": "stream",
     "text": [
      "C:\\Users\\mandeep.singh\\Anaconda3\\lib\\site-packages\\urllib3\\connectionpool.py:1013: InsecureRequestWarning: Unverified HTTPS request is being made to host 'encrypted-tbn0.gstatic.com'. Adding certificate verification is strongly advised. See: https://urllib3.readthedocs.io/en/latest/advanced-usage.html#ssl-warnings\n",
      "  warnings.warn(\n"
     ]
    },
    {
     "name": "stdout",
     "output_type": "stream",
     "text": [
      "SUCCESS - saved https://encrypted-tbn0.gstatic.com/images?q=tbn:ANd9GcRR6UrKYFxE8K5VlWHJ-7i6_DFsTj5vhM40Pw&usqp=CAU - as ./images\\strawberry_shortcake\\1fc35e9cfd.jpg\n"
     ]
    },
    {
     "name": "stderr",
     "output_type": "stream",
     "text": [
      "C:\\Users\\mandeep.singh\\Anaconda3\\lib\\site-packages\\urllib3\\connectionpool.py:1013: InsecureRequestWarning: Unverified HTTPS request is being made to host 'encrypted-tbn0.gstatic.com'. Adding certificate verification is strongly advised. See: https://urllib3.readthedocs.io/en/latest/advanced-usage.html#ssl-warnings\n",
      "  warnings.warn(\n"
     ]
    },
    {
     "name": "stdout",
     "output_type": "stream",
     "text": [
      "SUCCESS - saved https://encrypted-tbn0.gstatic.com/images?q=tbn:ANd9GcQiubSdeGNw1ENX4ttugJRz7nMFfNjKp-PGxg&usqp=CAU - as ./images\\strawberry_shortcake\\8af0e6efb6.jpg\n"
     ]
    },
    {
     "name": "stderr",
     "output_type": "stream",
     "text": [
      "C:\\Users\\mandeep.singh\\Anaconda3\\lib\\site-packages\\urllib3\\connectionpool.py:1013: InsecureRequestWarning: Unverified HTTPS request is being made to host 'encrypted-tbn0.gstatic.com'. Adding certificate verification is strongly advised. See: https://urllib3.readthedocs.io/en/latest/advanced-usage.html#ssl-warnings\n",
      "  warnings.warn(\n"
     ]
    },
    {
     "name": "stdout",
     "output_type": "stream",
     "text": [
      "SUCCESS - saved https://encrypted-tbn0.gstatic.com/images?q=tbn:ANd9GcTL68TBwax0vJS6kP0F1ettMigAtKJnyYeOMA&usqp=CAU - as ./images\\strawberry_shortcake\\c6ebb337d0.jpg\n"
     ]
    },
    {
     "name": "stderr",
     "output_type": "stream",
     "text": [
      "C:\\Users\\mandeep.singh\\Anaconda3\\lib\\site-packages\\urllib3\\connectionpool.py:1013: InsecureRequestWarning: Unverified HTTPS request is being made to host 'sugargeekshow.com'. Adding certificate verification is strongly advised. See: https://urllib3.readthedocs.io/en/latest/advanced-usage.html#ssl-warnings\n",
      "  warnings.warn(\n"
     ]
    },
    {
     "name": "stdout",
     "output_type": "stream",
     "text": [
      "SUCCESS - saved https://sugargeekshow.com/wp-content/uploads/2020/04/strawberry-shortcake-featured.jpg - as ./images\\strawberry_shortcake\\7a0d104d78.jpg\n",
      "SUCCESS - saved https://encrypted-tbn0.gstatic.com/images?q=tbn:ANd9GcQ0J8JQrzkK91YhveWs4_a2GnqYu53eak9JFA&usqp=CAU - as ./images\\strawberry_shortcake\\700d4e3a55.jpg\n"
     ]
    },
    {
     "name": "stderr",
     "output_type": "stream",
     "text": [
      "C:\\Users\\mandeep.singh\\Anaconda3\\lib\\site-packages\\urllib3\\connectionpool.py:1013: InsecureRequestWarning: Unverified HTTPS request is being made to host 'encrypted-tbn0.gstatic.com'. Adding certificate verification is strongly advised. See: https://urllib3.readthedocs.io/en/latest/advanced-usage.html#ssl-warnings\n",
      "  warnings.warn(\n",
      "C:\\Users\\mandeep.singh\\Anaconda3\\lib\\site-packages\\urllib3\\connectionpool.py:1013: InsecureRequestWarning: Unverified HTTPS request is being made to host 'encrypted-tbn0.gstatic.com'. Adding certificate verification is strongly advised. See: https://urllib3.readthedocs.io/en/latest/advanced-usage.html#ssl-warnings\n",
      "  warnings.warn(\n"
     ]
    },
    {
     "name": "stdout",
     "output_type": "stream",
     "text": [
      "SUCCESS - saved https://encrypted-tbn0.gstatic.com/images?q=tbn:ANd9GcRfhehBs_mK5KhdJvIR2bowF2K1RoiziFmUlQ&usqp=CAU - as ./images\\strawberry_shortcake\\d82a4e2fe9.jpg\n",
      "SUCCESS - saved https://encrypted-tbn0.gstatic.com/images?q=tbn:ANd9GcR3fAYRnrAYXJ179TxQnP7YoTls8muHu_wwJQ&usqp=CAU - as ./images\\strawberry_shortcake\\229719f466.jpg\n"
     ]
    },
    {
     "name": "stderr",
     "output_type": "stream",
     "text": [
      "C:\\Users\\mandeep.singh\\Anaconda3\\lib\\site-packages\\urllib3\\connectionpool.py:1013: InsecureRequestWarning: Unverified HTTPS request is being made to host 'encrypted-tbn0.gstatic.com'. Adding certificate verification is strongly advised. See: https://urllib3.readthedocs.io/en/latest/advanced-usage.html#ssl-warnings\n",
      "  warnings.warn(\n",
      "C:\\Users\\mandeep.singh\\Anaconda3\\lib\\site-packages\\urllib3\\connectionpool.py:1013: InsecureRequestWarning: Unverified HTTPS request is being made to host 'encrypted-tbn0.gstatic.com'. Adding certificate verification is strongly advised. See: https://urllib3.readthedocs.io/en/latest/advanced-usage.html#ssl-warnings\n",
      "  warnings.warn(\n",
      "C:\\Users\\mandeep.singh\\Anaconda3\\lib\\site-packages\\urllib3\\connectionpool.py:1013: InsecureRequestWarning: Unverified HTTPS request is being made to host 'upload.wikimedia.org'. Adding certificate verification is strongly advised. See: https://urllib3.readthedocs.io/en/latest/advanced-usage.html#ssl-warnings\n",
      "  warnings.warn(\n"
     ]
    },
    {
     "name": "stdout",
     "output_type": "stream",
     "text": [
      "SUCCESS - saved https://encrypted-tbn0.gstatic.com/images?q=tbn:ANd9GcRXZxqkWts-2I2HOy0TjzGFyu7rNjru52elLg&usqp=CAU - as ./images\\strawberry_shortcake\\f6738ea134.jpg\n",
      "SUCCESS - saved https://upload.wikimedia.org/wikipedia/commons/thumb/1/17/Strawberry_shortcake_on_white_plate%2C_March_2009.jpg/1200px-Strawberry_shortcake_on_white_plate%2C_March_2009.jpg - as ./images\\strawberry_shortcake\\b6d41b95cf.jpg\n",
      "SUCCESS - saved https://encrypted-tbn0.gstatic.com/images?q=tbn:ANd9GcRzofviVoqHAizij-jEy7Tg5v4G5v1MGZlY3Q&usqp=CAU - as ./images\\strawberry_shortcake\\03479f5614.jpg\n"
     ]
    },
    {
     "name": "stderr",
     "output_type": "stream",
     "text": [
      "C:\\Users\\mandeep.singh\\Anaconda3\\lib\\site-packages\\urllib3\\connectionpool.py:1013: InsecureRequestWarning: Unverified HTTPS request is being made to host 'encrypted-tbn0.gstatic.com'. Adding certificate verification is strongly advised. See: https://urllib3.readthedocs.io/en/latest/advanced-usage.html#ssl-warnings\n",
      "  warnings.warn(\n",
      "C:\\Users\\mandeep.singh\\Anaconda3\\lib\\site-packages\\urllib3\\connectionpool.py:1013: InsecureRequestWarning: Unverified HTTPS request is being made to host 'encrypted-tbn0.gstatic.com'. Adding certificate verification is strongly advised. See: https://urllib3.readthedocs.io/en/latest/advanced-usage.html#ssl-warnings\n",
      "  warnings.warn(\n"
     ]
    },
    {
     "name": "stdout",
     "output_type": "stream",
     "text": [
      "SUCCESS - saved https://encrypted-tbn0.gstatic.com/images?q=tbn:ANd9GcTqpy56DmUbVkGKaT8K1ZxooyPkg_8RYVkz1w&usqp=CAU - as ./images\\strawberry_shortcake\\1d2560c1fb.jpg\n"
     ]
    },
    {
     "name": "stderr",
     "output_type": "stream",
     "text": [
      "C:\\Users\\mandeep.singh\\Anaconda3\\lib\\site-packages\\urllib3\\connectionpool.py:1013: InsecureRequestWarning: Unverified HTTPS request is being made to host 'encrypted-tbn0.gstatic.com'. Adding certificate verification is strongly advised. See: https://urllib3.readthedocs.io/en/latest/advanced-usage.html#ssl-warnings\n",
      "  warnings.warn(\n",
      "C:\\Users\\mandeep.singh\\Anaconda3\\lib\\site-packages\\urllib3\\connectionpool.py:1013: InsecureRequestWarning: Unverified HTTPS request is being made to host 'encrypted-tbn0.gstatic.com'. Adding certificate verification is strongly advised. See: https://urllib3.readthedocs.io/en/latest/advanced-usage.html#ssl-warnings\n",
      "  warnings.warn(\n"
     ]
    },
    {
     "name": "stdout",
     "output_type": "stream",
     "text": [
      "SUCCESS - saved https://encrypted-tbn0.gstatic.com/images?q=tbn:ANd9GcTUWZOJKuqVivQi631NF7aYgaQ0hR6ayJ6JFA&usqp=CAU - as ./images\\strawberry_shortcake\\2220ae7489.jpg\n",
      "SUCCESS - saved https://encrypted-tbn0.gstatic.com/images?q=tbn:ANd9GcRz6P2xbNpRiZIzekK-PRZX1lxtyj7_i0hlPw&usqp=CAU - as ./images\\strawberry_shortcake\\e9766e00d8.jpg\n"
     ]
    },
    {
     "name": "stderr",
     "output_type": "stream",
     "text": [
      "C:\\Users\\mandeep.singh\\Anaconda3\\lib\\site-packages\\urllib3\\connectionpool.py:1013: InsecureRequestWarning: Unverified HTTPS request is being made to host 'upload.wikimedia.org'. Adding certificate verification is strongly advised. See: https://urllib3.readthedocs.io/en/latest/advanced-usage.html#ssl-warnings\n",
      "  warnings.warn(\n"
     ]
    },
    {
     "name": "stdout",
     "output_type": "stream",
     "text": [
      "SUCCESS - saved https://upload.wikimedia.org/wikipedia/en/thumb/f/ff/Strawberry_Shortcake_2003_Logo.png/250px-Strawberry_Shortcake_2003_Logo.png - as ./images\\strawberry_shortcake\\dd7f600da3.jpg\n"
     ]
    },
    {
     "name": "stderr",
     "output_type": "stream",
     "text": [
      "C:\\Users\\mandeep.singh\\Anaconda3\\lib\\site-packages\\urllib3\\connectionpool.py:1013: InsecureRequestWarning: Unverified HTTPS request is being made to host 'm.media-amazon.com'. Adding certificate verification is strongly advised. See: https://urllib3.readthedocs.io/en/latest/advanced-usage.html#ssl-warnings\n",
      "  warnings.warn(\n"
     ]
    },
    {
     "name": "stdout",
     "output_type": "stream",
     "text": [
      "SUCCESS - saved https://m.media-amazon.com/images/M/MV5BMjE4MDE0ODc2NF5BMl5BanBnXkFtZTcwOTYyMTEzMQ@@._V1_FMjpg_UX1000_.jpg - as ./images\\strawberry_shortcake\\e4754d32b5.jpg\n",
      "SUCCESS - saved https://encrypted-tbn0.gstatic.com/images?q=tbn:ANd9GcQB7UQ4gWl3gOcelxn4AVwe1COuMc0cig3X4Q&usqp=CAU - as ./images\\strawberry_shortcake\\752f1b7fc1.jpg\n"
     ]
    },
    {
     "name": "stderr",
     "output_type": "stream",
     "text": [
      "C:\\Users\\mandeep.singh\\Anaconda3\\lib\\site-packages\\urllib3\\connectionpool.py:1013: InsecureRequestWarning: Unverified HTTPS request is being made to host 'encrypted-tbn0.gstatic.com'. Adding certificate verification is strongly advised. See: https://urllib3.readthedocs.io/en/latest/advanced-usage.html#ssl-warnings\n",
      "  warnings.warn(\n",
      "C:\\Users\\mandeep.singh\\Anaconda3\\lib\\site-packages\\urllib3\\connectionpool.py:1013: InsecureRequestWarning: Unverified HTTPS request is being made to host 'encrypted-tbn0.gstatic.com'. Adding certificate verification is strongly advised. See: https://urllib3.readthedocs.io/en/latest/advanced-usage.html#ssl-warnings\n",
      "  warnings.warn(\n"
     ]
    },
    {
     "name": "stdout",
     "output_type": "stream",
     "text": [
      "SUCCESS - saved https://encrypted-tbn0.gstatic.com/images?q=tbn:ANd9GcSiFEAbYg2uZbfC2R_5aQyeZMH0NfFB0A4sWA&usqp=CAU - as ./images\\strawberry_shortcake\\5f5cd038c6.jpg\n",
      "SUCCESS - saved https://encrypted-tbn0.gstatic.com/images?q=tbn:ANd9GcRSQ8F9IDRBm3Dq-DZRbwHGNs6zzydQykf2Tw&usqp=CAU - as ./images\\strawberry_shortcake\\8d2c33a54a.jpg\n"
     ]
    },
    {
     "name": "stderr",
     "output_type": "stream",
     "text": [
      "C:\\Users\\mandeep.singh\\Anaconda3\\lib\\site-packages\\urllib3\\connectionpool.py:1013: InsecureRequestWarning: Unverified HTTPS request is being made to host 'encrypted-tbn0.gstatic.com'. Adding certificate verification is strongly advised. See: https://urllib3.readthedocs.io/en/latest/advanced-usage.html#ssl-warnings\n",
      "  warnings.warn(\n",
      "C:\\Users\\mandeep.singh\\Anaconda3\\lib\\site-packages\\urllib3\\connectionpool.py:1013: InsecureRequestWarning: Unverified HTTPS request is being made to host 'encrypted-tbn0.gstatic.com'. Adding certificate verification is strongly advised. See: https://urllib3.readthedocs.io/en/latest/advanced-usage.html#ssl-warnings\n",
      "  warnings.warn(\n"
     ]
    },
    {
     "name": "stdout",
     "output_type": "stream",
     "text": [
      "SUCCESS - saved https://encrypted-tbn0.gstatic.com/images?q=tbn:ANd9GcTCsXu_IgCtlRDQj9DXLJaSTbmsASFzhfElRQ&usqp=CAU - as ./images\\strawberry_shortcake\\5e700598bd.jpg\n"
     ]
    },
    {
     "name": "stderr",
     "output_type": "stream",
     "text": [
      "C:\\Users\\mandeep.singh\\Anaconda3\\lib\\site-packages\\urllib3\\connectionpool.py:1013: InsecureRequestWarning: Unverified HTTPS request is being made to host 'encrypted-tbn0.gstatic.com'. Adding certificate verification is strongly advised. See: https://urllib3.readthedocs.io/en/latest/advanced-usage.html#ssl-warnings\n",
      "  warnings.warn(\n"
     ]
    },
    {
     "name": "stdout",
     "output_type": "stream",
     "text": [
      "SUCCESS - saved https://encrypted-tbn0.gstatic.com/images?q=tbn:ANd9GcTUVofaAuOtcBQxII5raUjcYyiOBNwcsiK-Xw&usqp=CAU - as ./images\\strawberry_shortcake\\5010d6b96e.jpg\n"
     ]
    },
    {
     "name": "stderr",
     "output_type": "stream",
     "text": [
      "C:\\Users\\mandeep.singh\\Anaconda3\\lib\\site-packages\\urllib3\\connectionpool.py:1013: InsecureRequestWarning: Unverified HTTPS request is being made to host 'encrypted-tbn0.gstatic.com'. Adding certificate verification is strongly advised. See: https://urllib3.readthedocs.io/en/latest/advanced-usage.html#ssl-warnings\n",
      "  warnings.warn(\n"
     ]
    },
    {
     "name": "stdout",
     "output_type": "stream",
     "text": [
      "SUCCESS - saved https://encrypted-tbn0.gstatic.com/images?q=tbn:ANd9GcRDWRH8LxzcL6WZ47dJibsLArdq4RTewAR5Rw&usqp=CAU - as ./images\\strawberry_shortcake\\d67a62d0ec.jpg\n"
     ]
    },
    {
     "name": "stderr",
     "output_type": "stream",
     "text": [
      "C:\\Users\\mandeep.singh\\Anaconda3\\lib\\site-packages\\urllib3\\connectionpool.py:1013: InsecureRequestWarning: Unverified HTTPS request is being made to host 'encrypted-tbn0.gstatic.com'. Adding certificate verification is strongly advised. See: https://urllib3.readthedocs.io/en/latest/advanced-usage.html#ssl-warnings\n",
      "  warnings.warn(\n"
     ]
    },
    {
     "name": "stdout",
     "output_type": "stream",
     "text": [
      "SUCCESS - saved https://encrypted-tbn0.gstatic.com/images?q=tbn:ANd9GcRrYVVjxI6AXtDf_ldwH7iHclGmygOneS9SOw&usqp=CAU - as ./images\\strawberry_shortcake\\13fed420a3.jpg\n"
     ]
    },
    {
     "name": "stderr",
     "output_type": "stream",
     "text": [
      "C:\\Users\\mandeep.singh\\Anaconda3\\lib\\site-packages\\urllib3\\connectionpool.py:1013: InsecureRequestWarning: Unverified HTTPS request is being made to host 'encrypted-tbn0.gstatic.com'. Adding certificate verification is strongly advised. See: https://urllib3.readthedocs.io/en/latest/advanced-usage.html#ssl-warnings\n",
      "  warnings.warn(\n"
     ]
    },
    {
     "name": "stdout",
     "output_type": "stream",
     "text": [
      "SUCCESS - saved https://encrypted-tbn0.gstatic.com/images?q=tbn:ANd9GcTmQpp4Ud3f8dkJvtMUhXGZPm-UJiTcTTR5xg&usqp=CAU - as ./images\\strawberry_shortcake\\d44c627b1f.jpg\n"
     ]
    },
    {
     "name": "stderr",
     "output_type": "stream",
     "text": [
      "C:\\Users\\mandeep.singh\\Anaconda3\\lib\\site-packages\\urllib3\\connectionpool.py:1013: InsecureRequestWarning: Unverified HTTPS request is being made to host 'encrypted-tbn0.gstatic.com'. Adding certificate verification is strongly advised. See: https://urllib3.readthedocs.io/en/latest/advanced-usage.html#ssl-warnings\n",
      "  warnings.warn(\n"
     ]
    },
    {
     "name": "stdout",
     "output_type": "stream",
     "text": [
      "SUCCESS - saved https://encrypted-tbn0.gstatic.com/images?q=tbn:ANd9GcQek877rY99MIJ3uxXe6aNsX9RWr15Ar8FRQQ&usqp=CAU - as ./images\\strawberry_shortcake\\48687db8d1.jpg\n",
      "SUCCESS - saved https://encrypted-tbn0.gstatic.com/images?q=tbn:ANd9GcR9IjbtELWH_WKcdrfJgLwn9tP8LUkn5EwoJg&usqp=CAU - as ./images\\strawberry_shortcake\\c74859fd77.jpg\n",
      "./images\\sushi\n"
     ]
    },
    {
     "name": "stderr",
     "output_type": "stream",
     "text": [
      "C:\\Users\\mandeep.singh\\Anaconda3\\lib\\site-packages\\urllib3\\connectionpool.py:1013: InsecureRequestWarning: Unverified HTTPS request is being made to host 'encrypted-tbn0.gstatic.com'. Adding certificate verification is strongly advised. See: https://urllib3.readthedocs.io/en/latest/advanced-usage.html#ssl-warnings\n",
      "  warnings.warn(\n"
     ]
    },
    {
     "name": "stdout",
     "output_type": "stream",
     "text": [
      "Found: 100 search results. Extracting links from 0:100\n",
      "Found: 100 image links, done!\n",
      "{'https://encrypted-tbn0.gstatic.com/images?q=tbn:ANd9GcSNi-ehX0uUNXQa7GyzqDmlKCoYkS0GhruXgg&usqp=CAU', 'https://www.wearegurgaon.com/wp-content/uploads/2020/06/sushi-delivery-in-gurgaon.jpg', 'https://encrypted-tbn0.gstatic.com/images?q=tbn:ANd9GcSmT5AN1leT0NX5FmbYm3d0bxNWW6pwul6r6A&usqp=CAU', 'https://media.healthyfood.com/wp-content/uploads/2017/03/Sushi_in_10_steps.jpg', 'https://encrypted-tbn0.gstatic.com/images?q=tbn:ANd9GcSHJ0r3L5hbaIQkcCqntKNnGfk900_2v3g5bg&usqp=CAU', 'https://imgmedia.lbb.in/media/2019/04/5cb0550386567a2ec5cf09ab_1555059971076.jpg', 'https://encrypted-tbn0.gstatic.com/images?q=tbn:ANd9GcS5p-9HgO6-bsWRmyxs5h0O-IwwWZ0RinEleA&usqp=CAU', 'https://images.hindustantimes.com/rf/image_size_800x600/HT/p2/2016/06/03/Pictures/_2702b6e4-298e-11e6-a44e-cf92da887fb1.jpg', 'https://encrypted-tbn0.gstatic.com/images?q=tbn:ANd9GcSe3DNNFXR9rI9RLnN2duXdXn7Hr8WMbkkP9A&usqp=CAU', 'https://encrypted-tbn0.gstatic.com/images?q=tbn:ANd9GcRWxCkaqQ5wsnlDYeTK6OTmotwrk7xGcUShmQ&usqp=CAU', 'https://d4t7t8y8xqo0t.cloudfront.net/app//resized/720X280/group/1377/0.jpg', 'https://www.mensjournal.com/wp-content/uploads/2016/08/sushi-main.jpg?w=900&quality=86&strip=all', 'https://i0.wp.com/post.healthline.com/wp-content/uploads/2021/07/sushi-detail-closeup-1296x728-header.jpg?w=1155&h=1528', 'https://assets.cntraveller.in/photos/60ba200bbfe773a828a46d76/4:3/w_1884,h_1413,c_limit/Sushi.jpg', 'https://2rdnmg1qbg403gumla1v9i2h-wpengine.netdna-ssl.com/wp-content/uploads/sites/3/2020/10/RawSushi-173869353770x533-1-650x428.jpg', 'https://media-cdn.tripadvisor.com/media/photo-s/1c/85/e8/99/sushi-platter.jpg', 'https://encrypted-tbn0.gstatic.com/images?q=tbn:ANd9GcRlEez4YrS-pOiBFBRQfvhK04G0QyPvb0VLig&usqp=CAU', 'https://upload.wikimedia.org/wikipedia/commons/3/37/Sushi_bento.jpg', 'https://img.webmd.com/dtmcms/live/webmd/consumer_assets/site_images/article_thumbnails/slideshows/best_and_worst_sushi_slideshow/1800x1200_best_and_worst_sushi_slideshow.jpg', 'https://encrypted-tbn0.gstatic.com/images?q=tbn:ANd9GcRiVdqdwvCJwYyrXQnO_i3g8PcFRf8RUC2CEQ&usqp=CAU', 'https://encrypted-tbn0.gstatic.com/images?q=tbn:ANd9GcRFejXdRYmTDYqAHu78N9E4qqSqIBeI4qAwOQ&usqp=CAU', 'https://imagesvc.meredithcorp.io/v3/mm/image?url=https%3A%2F%2Fstatic.onecms.io%2Fwp-content%2Fuploads%2Fsites%2F43%2F2016%2F07%2F102156981_shrimp-sushi-roll-with-ALL-garnishes-and-chopsticks_Photo-by-Meredith.jpg&w=380&h=254&c=sc&poi=face&q=85', 'https://i2.wp.com/sushimen.in/wp-content/uploads/2020/11/3.png?fit=1000%2C1000&ssl=1', 'https://rimage.gnst.jp/livejapan.com/public/article/detail/a/00/01/a0001909/img/basic/a0001909_main.jpg?20180711132334&q=80&rw=750&rh=536', 'https://cdn.britannica.com/52/128652-004-80F36F3E/Maki-zushi.jpg', 'https://img.buzzfeed.com/thumbnailer-prod-us-east-1/video-api/assets/175796.jpg', 'https://encrypted-tbn0.gstatic.com/images?q=tbn:ANd9GcQj2pRNfOeUdfIKWfbXc2l8pnye61KJlRQQnQ&usqp=CAU', 'https://encrypted-tbn0.gstatic.com/images?q=tbn:ANd9GcShTSb0h1Dovgl6yY51yUe7eO3BFRN6G3Owkg&usqp=CAU', 'https://i.ytimg.com/vi/joweUxpHaqc/maxresdefault.jpg', 'https://encrypted-tbn0.gstatic.com/images?q=tbn:ANd9GcSd2qH0Ba6fAJJf5w3yfnGS5HZEJkE2HXpsAQ&usqp=CAU', 'https://food.fnr.sndimg.com/content/dam/images/food/fullset/2010/3/3/2/FNM_040110-Try-This-At-Home-024_s4x3.jpg.rend.hgtvcom.616.462.suffix/1371591015515.jpeg', 'https://media-cdn.tripadvisor.com/media/photo-s/19/3b/00/06/sushi-place.jpg', 'https://media.istockphoto.com/photos/maki-sushi-food-picture-id1053853732?k=20&m=1053853732&s=612x612&w=0&h=uNAmtghuUwdCQ3ITWKprPG5eVYy0OKuu6uZ6KuymdbU=', 'https://encrypted-tbn0.gstatic.com/images?q=tbn:ANd9GcThFafgpaekXpB1GolaEucUeQ9jbrHHNWG_fA&usqp=CAU', 'https://encrypted-tbn0.gstatic.com/images?q=tbn:ANd9GcSNNVkf8qBfN4ykr0y2j4XIDe74SUdnwN5yGA&usqp=CAU', 'https://curlytales.com/wp-content/uploads/2018/07/Sushi.jpg', 'https://www.wearegurgaon.com/wp-content/uploads/2017/12/best-sushi-in-gurgaon.jpg', 'https://encrypted-tbn0.gstatic.com/images?q=tbn:ANd9GcRRmljDxGqHzl3yOv7ZyN7FCz9VEKv8vQNhoQ&usqp=CAU', 'https://encrypted-tbn0.gstatic.com/images?q=tbn:ANd9GcQl2mgp4q9FfCgo6J0PtEGWpyJkkmLspjDZnA&usqp=CAU', 'https://encrypted-tbn0.gstatic.com/images?q=tbn:ANd9GcQ7J8tn0AYUYfvuI8Ptp2BFy7JkudwG_hMqMw&usqp=CAU', 'https://cdn.shopify.com/s/files/1/0305/5921/articles/maki-nigiri-sushi-web_1800x.jpg?v=1616098701', 'https://encrypted-tbn0.gstatic.com/images?q=tbn:ANd9GcRw4iUIxLxlrohovup9bnl1VVYxdHB2goTX7Q&usqp=CAU', 'https://encrypted-tbn0.gstatic.com/images?q=tbn:ANd9GcQ-2UCftKOcvdKbozsUV_Ct698WVh3bURQYUQ&usqp=CAU', 'https://encrypted-tbn0.gstatic.com/images?q=tbn:ANd9GcRs4mBI-iDb8mh3H2p8XZEGuPQOess1-i7UrA&usqp=CAU', 'https://cdn.cnn.com/cnnnext/dam/assets/210916135259-sushi-stock-restricted-super-169.jpg', 'https://encrypted-tbn0.gstatic.com/images?q=tbn:ANd9GcSvLmW0lgtfa-MZrRXizMWpmm5Dfe7qZBP8DQ&usqp=CAU', 'https://encrypted-tbn0.gstatic.com/images?q=tbn:ANd9GcQx0IW9lxFRWV-bjVqjrUV5iBjDnb_XA29nVw&usqp=CAU', 'https://encrypted-tbn0.gstatic.com/images?q=tbn:ANd9GcSY09czsz8EpHX2LQdvvxpTJEM-EJWhPi7GBg&usqp=CAU', 'https://www.arabnews.com/sites/default/files/2021/06/18/2673006-1383818603.jpg', 'https://encrypted-tbn0.gstatic.com/images?q=tbn:ANd9GcRrKI0-iI8DqlZ531J8KEVm-S1TlHPoap4JNQ&usqp=CAU', 'https://i.ytimg.com/vi/CgSiJeltN0U/maxresdefault.jpg', 'https://media-cdn.tripadvisor.com/media/photo-s/17/5b/c8/d0/shinsen.jpg', 'https://images.saymedia-content.com/.image/t_share/MTc0MTk2ODY5NTA3ODUyMTU2/the-different-kinds-of-sushi.jpg', 'https://encrypted-tbn0.gstatic.com/images?q=tbn:ANd9GcQJxMU-EYig1A_vsB71_1DLvv24A3-waYIMSQ&usqp=CAU', 'https://cdn.pixabay.com/photo/2020/04/04/15/07/sushi-5002639_1280.jpg', 'https://encrypted-tbn0.gstatic.com/images?q=tbn:ANd9GcSDz7Pr0jxbEx28tXRY7tCwrYeMd1oNitIY4g&usqp=CAU', 'https://www.pcrm.org/sites/default/files/2020-01/Sushi.jpg', 'https://encrypted-tbn0.gstatic.com/images?q=tbn:ANd9GcSl2QVo_N6nuWol-TcKoSErZcpBxqEi9Vb9Gw&usqp=CAU', 'https://encrypted-tbn0.gstatic.com/images?q=tbn:ANd9GcQvJyAkODeyHuBnX9VzIAqiE7u0AIK4hQXguw&usqp=CAU', 'https://encrypted-tbn0.gstatic.com/images?q=tbn:ANd9GcQI2q3dbi1IYtGj7pTydycT_KR3MZ34hzjYWQ&usqp=CAU', 'https://www.thespruceeats.com/thmb/JGmIzobkkcZkziqDeLHRWVaIRVc=/1885x1414/smart/filters:no_upscale()/sushiArthurDebat-952f9668ff20496097fbd4ab65fb03e3.jpg', 'https://encrypted-tbn0.gstatic.com/images?q=tbn:ANd9GcQA-E10q9BqSfP3atxvlukBE99gE1Y3DmJ8pw&usqp=CAU', 'https://upload.wikimedia.org/wikipedia/commons/thumb/9/9f/California_Sushi_%2826571101885%29.jpg/800px-California_Sushi_%2826571101885%29.jpg', 'https://i0.wp.com/post.healthline.com/wp-content/uploads/2021/09/sushi-sashimi-1296x728-header.jpg?w=1155&h=1528', 'https://encrypted-tbn0.gstatic.com/images?q=tbn:ANd9GcQC0EZlqnYfyFdBz5a4-JDqcaZjx-6R6zG8oA&usqp=CAU', 'https://encrypted-tbn0.gstatic.com/images?q=tbn:ANd9GcQG_hVC4ew0izgn_R2VZSslqkckXh-T8kPwjg&usqp=CAU', 'https://encrypted-tbn0.gstatic.com/images?q=tbn:ANd9GcSvgrZeyNwJ0s-fIfOHa9qHCzeYVV2-VRM3tQ&usqp=CAU', 'https://encrypted-tbn0.gstatic.com/images?q=tbn:ANd9GcQCngkLfp0XQXOKRKOluEQlHAfnwuB5iaJY9Q&usqp=CAU', 'https://post.healthline.com/wp-content/uploads/2021/08/sushi-rolls-732x549-thumbnail-732x549.jpg', 'https://encrypted-tbn0.gstatic.com/images?q=tbn:ANd9GcSVXakPDrxSefTvT0VkE0QFY9c2Piq0XFSJaQ&usqp=CAU', 'https://media.istockphoto.com/photos/all-you-can-eat-sushi-picture-id1053854126?k=20&m=1053854126&s=170667a&w=0&h=JgsHexR1jxr2BlRaQlZQS316vsuQF75p6Wp10497XRA=', 'https://i0.wp.com/post.greatist.com/wp-content/uploads/sites/2/2020/11/what-is-the-difference-between-sushi-and-sahimi-chowhound.png?w=1155&h=1530', 'https://encrypted-tbn0.gstatic.com/images?q=tbn:ANd9GcQwgArh4m0fSz32ZBowDUXJDkOU6BWpEtU4Rw&usqp=CAU', 'https://encrypted-tbn0.gstatic.com/images?q=tbn:ANd9GcS4R_HlqNVcrdbdzS2AW3BX4YNcFPdbHEJxaQ&usqp=CAU', 'https://encrypted-tbn0.gstatic.com/images?q=tbn:ANd9GcThIcmcx8oFN7ZnlVDIg-02WtKQshXpReHQ2w&usqp=CAU', 'https://encrypted-tbn0.gstatic.com/images?q=tbn:ANd9GcRMmAe3LNgedpA8ZyF1ZqPy5OlbM_ARXBGUhw&usqp=CAU', 'https://encrypted-tbn0.gstatic.com/images?q=tbn:ANd9GcR8by9ICJnj8VtC_W-NCDD1c99s2_cwuTku7Q&usqp=CAU', 'https://encrypted-tbn0.gstatic.com/images?q=tbn:ANd9GcSsx8g11Tazb1ENNS-axEmJsNT-Yb329ZqN3Q&usqp=CAU', 'https://encrypted-tbn0.gstatic.com/images?q=tbn:ANd9GcRwKcvO1xQ7Wh3DFcYITGzIJ12CpeXtlva9bA&usqp=CAU', 'https://encrypted-tbn0.gstatic.com/images?q=tbn:ANd9GcT8mjlr3vPsQjXX0gvvqbTZUhtBgEBjvziZjA&usqp=CAU', 'https://www.licious.in/blog/wp-content/uploads/2020/12/Raw-Fish-Sushi.jpg', 'https://media.istockphoto.com/photos/fresh-sushi-selection-on-wooden-board-picture-id1298575561?b=1&k=20&m=1298575561&s=170667a&w=0&h=ObPuPuqSbF2zwHVTL-8tO7Qgh7I9u1UEfersyvhWZAs=', 'https://encrypted-tbn0.gstatic.com/images?q=tbn:ANd9GcQVa_-9hzASIUuahwNIQL4FVAp0MjFPMRpNyw&usqp=CAU', 'https://encrypted-tbn0.gstatic.com/images?q=tbn:ANd9GcSqRf7YDOw8igOpXUC04Mmm909i4bemKweAWA&usqp=CAU', 'https://encrypted-tbn0.gstatic.com/images?q=tbn:ANd9GcRyWS_n7v-AWam6rTYVfEpLZ5nQGAwnrdjFaA&usqp=CAU', 'https://media.istockphoto.com/photos/healthy-fresh-sushi-roll-set-with-ginger-close-up-japanese-food-picture-id1286622470?b=1&k=20&m=1286622470&s=170667a&w=0&h=B-GBnuB3Whj7r0QdCz5JBqzs180-QBOvFIkIn6mhYUk=', 'https://encrypted-tbn0.gstatic.com/images?q=tbn:ANd9GcTWBVc3KR3VXEITEEutiHDg1gXbbK-7z37rbA&usqp=CAU', 'https://img.freepik.com/free-vector/set-sushi-collection-various-delicious-rolls-appliances-eating_178630-272.jpg?size=626&ext=jpg', 'https://imgstaticcontent.lbb.in/lbbnew/wp-content/uploads/sites/1/2016/12/201216_Sushi@SushiHaus_01.jpg?w=1200&h=628&fill=blur&fit=fill', 'https://encrypted-tbn0.gstatic.com/images?q=tbn:ANd9GcRei925DtarHynMSdVXU7O0vbTrUeDqVEt6RQ&usqp=CAU', 'https://encrypted-tbn0.gstatic.com/images?q=tbn:ANd9GcQyhd9nvIpFynjTxV7cKsnaJYrH1pMjz4cPcQ&usqp=CAU', 'https://imagesvc.meredithcorp.io/v3/mm/image?url=https%3A%2F%2Fimagesvc.meredithcorp.io%2Fv3%2Fmm%2Fimage%3Furl%3Dhttps%253A%252F%252Fstatic.onecms.io%252Fwp-content%252Fuploads%252Fsites%252F19%252F2018%252F04%252F23%252F1804-what-is-sushi-grade-fish-2000.jpg&q=85', 'https://post.greatist.com/wp-content/uploads/sites/2/2020/11/THUMB-SUSHI.jpg', 'https://media.istockphoto.com/vectors/vector-sushi-set-vector-id961617684?k=20&m=961617684&s=612x612&w=0&h=sKJsX1ihVxU37jVogjV0XvJgPNLbLgu3yMpDlO-haac=', 'https://encrypted-tbn0.gstatic.com/images?q=tbn:ANd9GcR87VUhPNc6xV3PtX52GPLDEkp85wANT0knTg&usqp=CAU', 'https://encrypted-tbn0.gstatic.com/images?q=tbn:ANd9GcRuQoYbXL6MZiy6CmYhnQaKys17N1VeYcd66g&usqp=CAU', 'https://encrypted-tbn0.gstatic.com/images?q=tbn:ANd9GcTcWCNgpDqK0ZNO2UmX4EpUtb_DrO1FgjiPpg&usqp=CAU', 'https://im.whatshot.in/img/2020/Oct/olivia-herlambang-tham-2madgzkoyb4-unsplash-cropped-1602231049.jpg', 'https://image.shutterstock.com/image-photo/classic-sushi-salmon-260nw-289767368.jpg', 'https://byfood.b-cdn.net/api/public/assets/9599/content?optimizer=image'}\n"
     ]
    },
    {
     "name": "stderr",
     "output_type": "stream",
     "text": [
      "C:\\Users\\mandeep.singh\\Anaconda3\\lib\\site-packages\\urllib3\\connectionpool.py:1013: InsecureRequestWarning: Unverified HTTPS request is being made to host 'encrypted-tbn0.gstatic.com'. Adding certificate verification is strongly advised. See: https://urllib3.readthedocs.io/en/latest/advanced-usage.html#ssl-warnings\n",
      "  warnings.warn(\n",
      "C:\\Users\\mandeep.singh\\Anaconda3\\lib\\site-packages\\urllib3\\connectionpool.py:1013: InsecureRequestWarning: Unverified HTTPS request is being made to host 'www.wearegurgaon.com'. Adding certificate verification is strongly advised. See: https://urllib3.readthedocs.io/en/latest/advanced-usage.html#ssl-warnings\n",
      "  warnings.warn(\n"
     ]
    },
    {
     "name": "stdout",
     "output_type": "stream",
     "text": [
      "SUCCESS - saved https://encrypted-tbn0.gstatic.com/images?q=tbn:ANd9GcSNi-ehX0uUNXQa7GyzqDmlKCoYkS0GhruXgg&usqp=CAU - as ./images\\sushi\\e427b3a20c.jpg\n",
      "SUCCESS - saved https://www.wearegurgaon.com/wp-content/uploads/2020/06/sushi-delivery-in-gurgaon.jpg - as ./images\\sushi\\80c04dcb21.jpg\n"
     ]
    },
    {
     "name": "stderr",
     "output_type": "stream",
     "text": [
      "C:\\Users\\mandeep.singh\\Anaconda3\\lib\\site-packages\\urllib3\\connectionpool.py:1013: InsecureRequestWarning: Unverified HTTPS request is being made to host 'encrypted-tbn0.gstatic.com'. Adding certificate verification is strongly advised. See: https://urllib3.readthedocs.io/en/latest/advanced-usage.html#ssl-warnings\n",
      "  warnings.warn(\n"
     ]
    },
    {
     "name": "stdout",
     "output_type": "stream",
     "text": [
      "SUCCESS - saved https://encrypted-tbn0.gstatic.com/images?q=tbn:ANd9GcSmT5AN1leT0NX5FmbYm3d0bxNWW6pwul6r6A&usqp=CAU - as ./images\\sushi\\49db6541c3.jpg\n"
     ]
    },
    {
     "name": "stderr",
     "output_type": "stream",
     "text": [
      "C:\\Users\\mandeep.singh\\Anaconda3\\lib\\site-packages\\urllib3\\connectionpool.py:1013: InsecureRequestWarning: Unverified HTTPS request is being made to host 'media.healthyfood.com'. Adding certificate verification is strongly advised. See: https://urllib3.readthedocs.io/en/latest/advanced-usage.html#ssl-warnings\n",
      "  warnings.warn(\n"
     ]
    },
    {
     "name": "stdout",
     "output_type": "stream",
     "text": [
      "SUCCESS - saved https://media.healthyfood.com/wp-content/uploads/2017/03/Sushi_in_10_steps.jpg - as ./images\\sushi\\035b944842.jpg\n"
     ]
    },
    {
     "name": "stderr",
     "output_type": "stream",
     "text": [
      "C:\\Users\\mandeep.singh\\Anaconda3\\lib\\site-packages\\urllib3\\connectionpool.py:1013: InsecureRequestWarning: Unverified HTTPS request is being made to host 'encrypted-tbn0.gstatic.com'. Adding certificate verification is strongly advised. See: https://urllib3.readthedocs.io/en/latest/advanced-usage.html#ssl-warnings\n",
      "  warnings.warn(\n"
     ]
    },
    {
     "name": "stdout",
     "output_type": "stream",
     "text": [
      "SUCCESS - saved https://encrypted-tbn0.gstatic.com/images?q=tbn:ANd9GcSHJ0r3L5hbaIQkcCqntKNnGfk900_2v3g5bg&usqp=CAU - as ./images\\sushi\\81ac3f9a87.jpg\n"
     ]
    },
    {
     "name": "stderr",
     "output_type": "stream",
     "text": [
      "C:\\Users\\mandeep.singh\\Anaconda3\\lib\\site-packages\\urllib3\\connectionpool.py:1013: InsecureRequestWarning: Unverified HTTPS request is being made to host 'imgmedia.lbb.in'. Adding certificate verification is strongly advised. See: https://urllib3.readthedocs.io/en/latest/advanced-usage.html#ssl-warnings\n",
      "  warnings.warn(\n"
     ]
    },
    {
     "name": "stdout",
     "output_type": "stream",
     "text": [
      "SUCCESS - saved https://imgmedia.lbb.in/media/2019/04/5cb0550386567a2ec5cf09ab_1555059971076.jpg - as ./images\\sushi\\9c07185181.jpg\n"
     ]
    },
    {
     "name": "stderr",
     "output_type": "stream",
     "text": [
      "C:\\Users\\mandeep.singh\\Anaconda3\\lib\\site-packages\\urllib3\\connectionpool.py:1013: InsecureRequestWarning: Unverified HTTPS request is being made to host 'encrypted-tbn0.gstatic.com'. Adding certificate verification is strongly advised. See: https://urllib3.readthedocs.io/en/latest/advanced-usage.html#ssl-warnings\n",
      "  warnings.warn(\n"
     ]
    },
    {
     "name": "stdout",
     "output_type": "stream",
     "text": [
      "SUCCESS - saved https://encrypted-tbn0.gstatic.com/images?q=tbn:ANd9GcS5p-9HgO6-bsWRmyxs5h0O-IwwWZ0RinEleA&usqp=CAU - as ./images\\sushi\\6951a0f4a0.jpg\n"
     ]
    },
    {
     "name": "stderr",
     "output_type": "stream",
     "text": [
      "C:\\Users\\mandeep.singh\\Anaconda3\\lib\\site-packages\\urllib3\\connectionpool.py:1013: InsecureRequestWarning: Unverified HTTPS request is being made to host 'images.hindustantimes.com'. Adding certificate verification is strongly advised. See: https://urllib3.readthedocs.io/en/latest/advanced-usage.html#ssl-warnings\n",
      "  warnings.warn(\n",
      "C:\\Users\\mandeep.singh\\Anaconda3\\lib\\site-packages\\urllib3\\connectionpool.py:1013: InsecureRequestWarning: Unverified HTTPS request is being made to host 'encrypted-tbn0.gstatic.com'. Adding certificate verification is strongly advised. See: https://urllib3.readthedocs.io/en/latest/advanced-usage.html#ssl-warnings\n",
      "  warnings.warn(\n"
     ]
    },
    {
     "name": "stdout",
     "output_type": "stream",
     "text": [
      "ERROR - Could not save https://images.hindustantimes.com/rf/image_size_800x600/HT/p2/2016/06/03/Pictures/_2702b6e4-298e-11e6-a44e-cf92da887fb1.jpg - cannot identify image file <_io.BytesIO object at 0x0000024D6D3E34A0>\n",
      "SUCCESS - saved https://encrypted-tbn0.gstatic.com/images?q=tbn:ANd9GcSe3DNNFXR9rI9RLnN2duXdXn7Hr8WMbkkP9A&usqp=CAU - as ./images\\sushi\\87d90124ae.jpg\n"
     ]
    },
    {
     "name": "stderr",
     "output_type": "stream",
     "text": [
      "C:\\Users\\mandeep.singh\\Anaconda3\\lib\\site-packages\\urllib3\\connectionpool.py:1013: InsecureRequestWarning: Unverified HTTPS request is being made to host 'encrypted-tbn0.gstatic.com'. Adding certificate verification is strongly advised. See: https://urllib3.readthedocs.io/en/latest/advanced-usage.html#ssl-warnings\n",
      "  warnings.warn(\n"
     ]
    },
    {
     "name": "stdout",
     "output_type": "stream",
     "text": [
      "SUCCESS - saved https://encrypted-tbn0.gstatic.com/images?q=tbn:ANd9GcRWxCkaqQ5wsnlDYeTK6OTmotwrk7xGcUShmQ&usqp=CAU - as ./images\\sushi\\43d3d642b6.jpg\n"
     ]
    },
    {
     "name": "stderr",
     "output_type": "stream",
     "text": [
      "C:\\Users\\mandeep.singh\\Anaconda3\\lib\\site-packages\\urllib3\\connectionpool.py:1013: InsecureRequestWarning: Unverified HTTPS request is being made to host 'd4t7t8y8xqo0t.cloudfront.net'. Adding certificate verification is strongly advised. See: https://urllib3.readthedocs.io/en/latest/advanced-usage.html#ssl-warnings\n",
      "  warnings.warn(\n"
     ]
    },
    {
     "name": "stdout",
     "output_type": "stream",
     "text": [
      "SUCCESS - saved https://d4t7t8y8xqo0t.cloudfront.net/app//resized/720X280/group/1377/0.jpg - as ./images\\sushi\\8590999c54.jpg\n"
     ]
    },
    {
     "name": "stderr",
     "output_type": "stream",
     "text": [
      "C:\\Users\\mandeep.singh\\Anaconda3\\lib\\site-packages\\urllib3\\connectionpool.py:1013: InsecureRequestWarning: Unverified HTTPS request is being made to host 'www.mensjournal.com'. Adding certificate verification is strongly advised. See: https://urllib3.readthedocs.io/en/latest/advanced-usage.html#ssl-warnings\n",
      "  warnings.warn(\n"
     ]
    },
    {
     "name": "stdout",
     "output_type": "stream",
     "text": [
      "SUCCESS - saved https://www.mensjournal.com/wp-content/uploads/2016/08/sushi-main.jpg?w=900&quality=86&strip=all - as ./images\\sushi\\f283b0be64.jpg\n"
     ]
    },
    {
     "name": "stderr",
     "output_type": "stream",
     "text": [
      "C:\\Users\\mandeep.singh\\Anaconda3\\lib\\site-packages\\urllib3\\connectionpool.py:1013: InsecureRequestWarning: Unverified HTTPS request is being made to host 'i0.wp.com'. Adding certificate verification is strongly advised. See: https://urllib3.readthedocs.io/en/latest/advanced-usage.html#ssl-warnings\n",
      "  warnings.warn(\n"
     ]
    },
    {
     "name": "stdout",
     "output_type": "stream",
     "text": [
      "SUCCESS - saved https://i0.wp.com/post.healthline.com/wp-content/uploads/2021/07/sushi-detail-closeup-1296x728-header.jpg?w=1155&h=1528 - as ./images\\sushi\\63ef4f0f65.jpg\n"
     ]
    },
    {
     "name": "stderr",
     "output_type": "stream",
     "text": [
      "C:\\Users\\mandeep.singh\\Anaconda3\\lib\\site-packages\\urllib3\\connectionpool.py:1013: InsecureRequestWarning: Unverified HTTPS request is being made to host 'assets.cntraveller.in'. Adding certificate verification is strongly advised. See: https://urllib3.readthedocs.io/en/latest/advanced-usage.html#ssl-warnings\n",
      "  warnings.warn(\n"
     ]
    },
    {
     "name": "stdout",
     "output_type": "stream",
     "text": [
      "SUCCESS - saved https://assets.cntraveller.in/photos/60ba200bbfe773a828a46d76/4:3/w_1884,h_1413,c_limit/Sushi.jpg - as ./images\\sushi\\8db6de443c.jpg\n"
     ]
    },
    {
     "name": "stderr",
     "output_type": "stream",
     "text": [
      "C:\\Users\\mandeep.singh\\Anaconda3\\lib\\site-packages\\urllib3\\connectionpool.py:1013: InsecureRequestWarning: Unverified HTTPS request is being made to host '2rdnmg1qbg403gumla1v9i2h-wpengine.netdna-ssl.com'. Adding certificate verification is strongly advised. See: https://urllib3.readthedocs.io/en/latest/advanced-usage.html#ssl-warnings\n",
      "  warnings.warn(\n"
     ]
    },
    {
     "name": "stdout",
     "output_type": "stream",
     "text": [
      "SUCCESS - saved https://2rdnmg1qbg403gumla1v9i2h-wpengine.netdna-ssl.com/wp-content/uploads/sites/3/2020/10/RawSushi-173869353770x533-1-650x428.jpg - as ./images\\sushi\\da53fc5127.jpg\n"
     ]
    },
    {
     "name": "stderr",
     "output_type": "stream",
     "text": [
      "C:\\Users\\mandeep.singh\\Anaconda3\\lib\\site-packages\\urllib3\\connectionpool.py:1013: InsecureRequestWarning: Unverified HTTPS request is being made to host 'media-cdn.tripadvisor.com'. Adding certificate verification is strongly advised. See: https://urllib3.readthedocs.io/en/latest/advanced-usage.html#ssl-warnings\n",
      "  warnings.warn(\n"
     ]
    },
    {
     "name": "stdout",
     "output_type": "stream",
     "text": [
      "SUCCESS - saved https://media-cdn.tripadvisor.com/media/photo-s/1c/85/e8/99/sushi-platter.jpg - as ./images\\sushi\\8f95126ee2.jpg\n"
     ]
    },
    {
     "name": "stderr",
     "output_type": "stream",
     "text": [
      "C:\\Users\\mandeep.singh\\Anaconda3\\lib\\site-packages\\urllib3\\connectionpool.py:1013: InsecureRequestWarning: Unverified HTTPS request is being made to host 'encrypted-tbn0.gstatic.com'. Adding certificate verification is strongly advised. See: https://urllib3.readthedocs.io/en/latest/advanced-usage.html#ssl-warnings\n",
      "  warnings.warn(\n"
     ]
    },
    {
     "name": "stdout",
     "output_type": "stream",
     "text": [
      "SUCCESS - saved https://encrypted-tbn0.gstatic.com/images?q=tbn:ANd9GcRlEez4YrS-pOiBFBRQfvhK04G0QyPvb0VLig&usqp=CAU - as ./images\\sushi\\b37b68723b.jpg\n"
     ]
    },
    {
     "name": "stderr",
     "output_type": "stream",
     "text": [
      "C:\\Users\\mandeep.singh\\Anaconda3\\lib\\site-packages\\urllib3\\connectionpool.py:1013: InsecureRequestWarning: Unverified HTTPS request is being made to host 'upload.wikimedia.org'. Adding certificate verification is strongly advised. See: https://urllib3.readthedocs.io/en/latest/advanced-usage.html#ssl-warnings\n",
      "  warnings.warn(\n"
     ]
    },
    {
     "name": "stdout",
     "output_type": "stream",
     "text": [
      "SUCCESS - saved https://upload.wikimedia.org/wikipedia/commons/3/37/Sushi_bento.jpg - as ./images\\sushi\\fe2610d48b.jpg\n"
     ]
    },
    {
     "name": "stderr",
     "output_type": "stream",
     "text": [
      "C:\\Users\\mandeep.singh\\Anaconda3\\lib\\site-packages\\urllib3\\connectionpool.py:1013: InsecureRequestWarning: Unverified HTTPS request is being made to host 'img.webmd.com'. Adding certificate verification is strongly advised. See: https://urllib3.readthedocs.io/en/latest/advanced-usage.html#ssl-warnings\n",
      "  warnings.warn(\n"
     ]
    },
    {
     "name": "stdout",
     "output_type": "stream",
     "text": [
      "SUCCESS - saved https://img.webmd.com/dtmcms/live/webmd/consumer_assets/site_images/article_thumbnails/slideshows/best_and_worst_sushi_slideshow/1800x1200_best_and_worst_sushi_slideshow.jpg - as ./images\\sushi\\77dfc30819.jpg\n",
      "SUCCESS - saved https://encrypted-tbn0.gstatic.com/images?q=tbn:ANd9GcRiVdqdwvCJwYyrXQnO_i3g8PcFRf8RUC2CEQ&usqp=CAU - as ./images\\sushi\\593c678661.jpg\n"
     ]
    },
    {
     "name": "stderr",
     "output_type": "stream",
     "text": [
      "C:\\Users\\mandeep.singh\\Anaconda3\\lib\\site-packages\\urllib3\\connectionpool.py:1013: InsecureRequestWarning: Unverified HTTPS request is being made to host 'encrypted-tbn0.gstatic.com'. Adding certificate verification is strongly advised. See: https://urllib3.readthedocs.io/en/latest/advanced-usage.html#ssl-warnings\n",
      "  warnings.warn(\n",
      "C:\\Users\\mandeep.singh\\Anaconda3\\lib\\site-packages\\urllib3\\connectionpool.py:1013: InsecureRequestWarning: Unverified HTTPS request is being made to host 'encrypted-tbn0.gstatic.com'. Adding certificate verification is strongly advised. See: https://urllib3.readthedocs.io/en/latest/advanced-usage.html#ssl-warnings\n",
      "  warnings.warn(\n"
     ]
    },
    {
     "name": "stdout",
     "output_type": "stream",
     "text": [
      "SUCCESS - saved https://encrypted-tbn0.gstatic.com/images?q=tbn:ANd9GcRFejXdRYmTDYqAHu78N9E4qqSqIBeI4qAwOQ&usqp=CAU - as ./images\\sushi\\f9a704f832.jpg\n"
     ]
    },
    {
     "name": "stderr",
     "output_type": "stream",
     "text": [
      "C:\\Users\\mandeep.singh\\Anaconda3\\lib\\site-packages\\urllib3\\connectionpool.py:1013: InsecureRequestWarning: Unverified HTTPS request is being made to host 'imagesvc.meredithcorp.io'. Adding certificate verification is strongly advised. See: https://urllib3.readthedocs.io/en/latest/advanced-usage.html#ssl-warnings\n",
      "  warnings.warn(\n"
     ]
    },
    {
     "name": "stdout",
     "output_type": "stream",
     "text": [
      "SUCCESS - saved https://imagesvc.meredithcorp.io/v3/mm/image?url=https%3A%2F%2Fstatic.onecms.io%2Fwp-content%2Fuploads%2Fsites%2F43%2F2016%2F07%2F102156981_shrimp-sushi-roll-with-ALL-garnishes-and-chopsticks_Photo-by-Meredith.jpg&w=380&h=254&c=sc&poi=face&q=85 - as ./images\\sushi\\ad536cab1c.jpg\n"
     ]
    },
    {
     "name": "stderr",
     "output_type": "stream",
     "text": [
      "C:\\Users\\mandeep.singh\\Anaconda3\\lib\\site-packages\\urllib3\\connectionpool.py:1013: InsecureRequestWarning: Unverified HTTPS request is being made to host 'i2.wp.com'. Adding certificate verification is strongly advised. See: https://urllib3.readthedocs.io/en/latest/advanced-usage.html#ssl-warnings\n",
      "  warnings.warn(\n"
     ]
    },
    {
     "name": "stdout",
     "output_type": "stream",
     "text": [
      "SUCCESS - saved https://i2.wp.com/sushimen.in/wp-content/uploads/2020/11/3.png?fit=1000%2C1000&ssl=1 - as ./images\\sushi\\8991a9b284.jpg\n"
     ]
    },
    {
     "name": "stderr",
     "output_type": "stream",
     "text": [
      "C:\\Users\\mandeep.singh\\Anaconda3\\lib\\site-packages\\urllib3\\connectionpool.py:1013: InsecureRequestWarning: Unverified HTTPS request is being made to host 'rimage.gnst.jp'. Adding certificate verification is strongly advised. See: https://urllib3.readthedocs.io/en/latest/advanced-usage.html#ssl-warnings\n",
      "  warnings.warn(\n"
     ]
    },
    {
     "name": "stdout",
     "output_type": "stream",
     "text": [
      "SUCCESS - saved https://rimage.gnst.jp/livejapan.com/public/article/detail/a/00/01/a0001909/img/basic/a0001909_main.jpg?20180711132334&q=80&rw=750&rh=536 - as ./images\\sushi\\b5a6552b45.jpg\n"
     ]
    },
    {
     "name": "stderr",
     "output_type": "stream",
     "text": [
      "C:\\Users\\mandeep.singh\\Anaconda3\\lib\\site-packages\\urllib3\\connectionpool.py:1013: InsecureRequestWarning: Unverified HTTPS request is being made to host 'cdn.britannica.com'. Adding certificate verification is strongly advised. See: https://urllib3.readthedocs.io/en/latest/advanced-usage.html#ssl-warnings\n",
      "  warnings.warn(\n"
     ]
    },
    {
     "name": "stdout",
     "output_type": "stream",
     "text": [
      "SUCCESS - saved https://cdn.britannica.com/52/128652-004-80F36F3E/Maki-zushi.jpg - as ./images\\sushi\\bbf6fed7ae.jpg\n"
     ]
    },
    {
     "name": "stderr",
     "output_type": "stream",
     "text": [
      "C:\\Users\\mandeep.singh\\Anaconda3\\lib\\site-packages\\urllib3\\connectionpool.py:1013: InsecureRequestWarning: Unverified HTTPS request is being made to host 'img.buzzfeed.com'. Adding certificate verification is strongly advised. See: https://urllib3.readthedocs.io/en/latest/advanced-usage.html#ssl-warnings\n",
      "  warnings.warn(\n"
     ]
    },
    {
     "name": "stdout",
     "output_type": "stream",
     "text": [
      "SUCCESS - saved https://img.buzzfeed.com/thumbnailer-prod-us-east-1/video-api/assets/175796.jpg - as ./images\\sushi\\6f66e1ee2e.jpg\n",
      "SUCCESS - saved https://encrypted-tbn0.gstatic.com/images?q=tbn:ANd9GcQj2pRNfOeUdfIKWfbXc2l8pnye61KJlRQQnQ&usqp=CAU - as ./images\\sushi\\8d0b0d5b51.jpg\n"
     ]
    },
    {
     "name": "stderr",
     "output_type": "stream",
     "text": [
      "C:\\Users\\mandeep.singh\\Anaconda3\\lib\\site-packages\\urllib3\\connectionpool.py:1013: InsecureRequestWarning: Unverified HTTPS request is being made to host 'encrypted-tbn0.gstatic.com'. Adding certificate verification is strongly advised. See: https://urllib3.readthedocs.io/en/latest/advanced-usage.html#ssl-warnings\n",
      "  warnings.warn(\n",
      "C:\\Users\\mandeep.singh\\Anaconda3\\lib\\site-packages\\urllib3\\connectionpool.py:1013: InsecureRequestWarning: Unverified HTTPS request is being made to host 'encrypted-tbn0.gstatic.com'. Adding certificate verification is strongly advised. See: https://urllib3.readthedocs.io/en/latest/advanced-usage.html#ssl-warnings\n",
      "  warnings.warn(\n"
     ]
    },
    {
     "name": "stdout",
     "output_type": "stream",
     "text": [
      "SUCCESS - saved https://encrypted-tbn0.gstatic.com/images?q=tbn:ANd9GcShTSb0h1Dovgl6yY51yUe7eO3BFRN6G3Owkg&usqp=CAU - as ./images\\sushi\\45c3f76b03.jpg\n"
     ]
    },
    {
     "name": "stderr",
     "output_type": "stream",
     "text": [
      "C:\\Users\\mandeep.singh\\Anaconda3\\lib\\site-packages\\urllib3\\connectionpool.py:1013: InsecureRequestWarning: Unverified HTTPS request is being made to host 'i.ytimg.com'. Adding certificate verification is strongly advised. See: https://urllib3.readthedocs.io/en/latest/advanced-usage.html#ssl-warnings\n",
      "  warnings.warn(\n"
     ]
    },
    {
     "name": "stdout",
     "output_type": "stream",
     "text": [
      "SUCCESS - saved https://i.ytimg.com/vi/joweUxpHaqc/maxresdefault.jpg - as ./images\\sushi\\4305bf2b55.jpg\n"
     ]
    },
    {
     "name": "stderr",
     "output_type": "stream",
     "text": [
      "C:\\Users\\mandeep.singh\\Anaconda3\\lib\\site-packages\\urllib3\\connectionpool.py:1013: InsecureRequestWarning: Unverified HTTPS request is being made to host 'encrypted-tbn0.gstatic.com'. Adding certificate verification is strongly advised. See: https://urllib3.readthedocs.io/en/latest/advanced-usage.html#ssl-warnings\n",
      "  warnings.warn(\n"
     ]
    },
    {
     "name": "stdout",
     "output_type": "stream",
     "text": [
      "SUCCESS - saved https://encrypted-tbn0.gstatic.com/images?q=tbn:ANd9GcSd2qH0Ba6fAJJf5w3yfnGS5HZEJkE2HXpsAQ&usqp=CAU - as ./images\\sushi\\a1a1683079.jpg\n"
     ]
    },
    {
     "name": "stderr",
     "output_type": "stream",
     "text": [
      "C:\\Users\\mandeep.singh\\Anaconda3\\lib\\site-packages\\urllib3\\connectionpool.py:1013: InsecureRequestWarning: Unverified HTTPS request is being made to host 'food.fnr.sndimg.com'. Adding certificate verification is strongly advised. See: https://urllib3.readthedocs.io/en/latest/advanced-usage.html#ssl-warnings\n",
      "  warnings.warn(\n",
      "C:\\Users\\mandeep.singh\\Anaconda3\\lib\\site-packages\\urllib3\\connectionpool.py:1013: InsecureRequestWarning: Unverified HTTPS request is being made to host 'media-cdn.tripadvisor.com'. Adding certificate verification is strongly advised. See: https://urllib3.readthedocs.io/en/latest/advanced-usage.html#ssl-warnings\n",
      "  warnings.warn(\n"
     ]
    },
    {
     "name": "stdout",
     "output_type": "stream",
     "text": [
      "SUCCESS - saved https://food.fnr.sndimg.com/content/dam/images/food/fullset/2010/3/3/2/FNM_040110-Try-This-At-Home-024_s4x3.jpg.rend.hgtvcom.616.462.suffix/1371591015515.jpeg - as ./images\\sushi\\4e269f34d9.jpg\n",
      "SUCCESS - saved https://media-cdn.tripadvisor.com/media/photo-s/19/3b/00/06/sushi-place.jpg - as ./images\\sushi\\431dd03967.jpg\n"
     ]
    },
    {
     "name": "stderr",
     "output_type": "stream",
     "text": [
      "C:\\Users\\mandeep.singh\\Anaconda3\\lib\\site-packages\\urllib3\\connectionpool.py:1013: InsecureRequestWarning: Unverified HTTPS request is being made to host 'media.istockphoto.com'. Adding certificate verification is strongly advised. See: https://urllib3.readthedocs.io/en/latest/advanced-usage.html#ssl-warnings\n",
      "  warnings.warn(\n",
      "C:\\Users\\mandeep.singh\\Anaconda3\\lib\\site-packages\\urllib3\\connectionpool.py:1013: InsecureRequestWarning: Unverified HTTPS request is being made to host 'encrypted-tbn0.gstatic.com'. Adding certificate verification is strongly advised. See: https://urllib3.readthedocs.io/en/latest/advanced-usage.html#ssl-warnings\n",
      "  warnings.warn(\n"
     ]
    },
    {
     "name": "stdout",
     "output_type": "stream",
     "text": [
      "SUCCESS - saved https://media.istockphoto.com/photos/maki-sushi-food-picture-id1053853732?k=20&m=1053853732&s=612x612&w=0&h=uNAmtghuUwdCQ3ITWKprPG5eVYy0OKuu6uZ6KuymdbU= - as ./images\\sushi\\5e9b6adf05.jpg\n",
      "SUCCESS - saved https://encrypted-tbn0.gstatic.com/images?q=tbn:ANd9GcThFafgpaekXpB1GolaEucUeQ9jbrHHNWG_fA&usqp=CAU - as ./images\\sushi\\8d684afd80.jpg\n",
      "SUCCESS - saved https://encrypted-tbn0.gstatic.com/images?q=tbn:ANd9GcSNNVkf8qBfN4ykr0y2j4XIDe74SUdnwN5yGA&usqp=CAU - as ./images\\sushi\\ab1c31f0f8.jpg\n"
     ]
    },
    {
     "name": "stderr",
     "output_type": "stream",
     "text": [
      "C:\\Users\\mandeep.singh\\Anaconda3\\lib\\site-packages\\urllib3\\connectionpool.py:1013: InsecureRequestWarning: Unverified HTTPS request is being made to host 'encrypted-tbn0.gstatic.com'. Adding certificate verification is strongly advised. See: https://urllib3.readthedocs.io/en/latest/advanced-usage.html#ssl-warnings\n",
      "  warnings.warn(\n",
      "C:\\Users\\mandeep.singh\\Anaconda3\\lib\\site-packages\\urllib3\\connectionpool.py:1013: InsecureRequestWarning: Unverified HTTPS request is being made to host 'curlytales.com'. Adding certificate verification is strongly advised. See: https://urllib3.readthedocs.io/en/latest/advanced-usage.html#ssl-warnings\n",
      "  warnings.warn(\n"
     ]
    },
    {
     "name": "stdout",
     "output_type": "stream",
     "text": [
      "SUCCESS - saved https://curlytales.com/wp-content/uploads/2018/07/Sushi.jpg - as ./images\\sushi\\24a37e6f04.jpg\n"
     ]
    },
    {
     "name": "stderr",
     "output_type": "stream",
     "text": [
      "C:\\Users\\mandeep.singh\\Anaconda3\\lib\\site-packages\\urllib3\\connectionpool.py:1013: InsecureRequestWarning: Unverified HTTPS request is being made to host 'www.wearegurgaon.com'. Adding certificate verification is strongly advised. See: https://urllib3.readthedocs.io/en/latest/advanced-usage.html#ssl-warnings\n",
      "  warnings.warn(\n"
     ]
    },
    {
     "name": "stdout",
     "output_type": "stream",
     "text": [
      "SUCCESS - saved https://www.wearegurgaon.com/wp-content/uploads/2017/12/best-sushi-in-gurgaon.jpg - as ./images\\sushi\\6ee0007e40.jpg\n"
     ]
    },
    {
     "name": "stderr",
     "output_type": "stream",
     "text": [
      "C:\\Users\\mandeep.singh\\Anaconda3\\lib\\site-packages\\urllib3\\connectionpool.py:1013: InsecureRequestWarning: Unverified HTTPS request is being made to host 'encrypted-tbn0.gstatic.com'. Adding certificate verification is strongly advised. See: https://urllib3.readthedocs.io/en/latest/advanced-usage.html#ssl-warnings\n",
      "  warnings.warn(\n",
      "C:\\Users\\mandeep.singh\\Anaconda3\\lib\\site-packages\\urllib3\\connectionpool.py:1013: InsecureRequestWarning: Unverified HTTPS request is being made to host 'encrypted-tbn0.gstatic.com'. Adding certificate verification is strongly advised. See: https://urllib3.readthedocs.io/en/latest/advanced-usage.html#ssl-warnings\n",
      "  warnings.warn(\n"
     ]
    },
    {
     "name": "stdout",
     "output_type": "stream",
     "text": [
      "SUCCESS - saved https://encrypted-tbn0.gstatic.com/images?q=tbn:ANd9GcRRmljDxGqHzl3yOv7ZyN7FCz9VEKv8vQNhoQ&usqp=CAU - as ./images\\sushi\\bc8c750fc5.jpg\n",
      "SUCCESS - saved https://encrypted-tbn0.gstatic.com/images?q=tbn:ANd9GcQl2mgp4q9FfCgo6J0PtEGWpyJkkmLspjDZnA&usqp=CAU - as ./images\\sushi\\597109c0d0.jpg\n"
     ]
    },
    {
     "name": "stderr",
     "output_type": "stream",
     "text": [
      "C:\\Users\\mandeep.singh\\Anaconda3\\lib\\site-packages\\urllib3\\connectionpool.py:1013: InsecureRequestWarning: Unverified HTTPS request is being made to host 'encrypted-tbn0.gstatic.com'. Adding certificate verification is strongly advised. See: https://urllib3.readthedocs.io/en/latest/advanced-usage.html#ssl-warnings\n",
      "  warnings.warn(\n"
     ]
    },
    {
     "name": "stdout",
     "output_type": "stream",
     "text": [
      "SUCCESS - saved https://encrypted-tbn0.gstatic.com/images?q=tbn:ANd9GcQ7J8tn0AYUYfvuI8Ptp2BFy7JkudwG_hMqMw&usqp=CAU - as ./images\\sushi\\88d498a009.jpg\n"
     ]
    },
    {
     "name": "stderr",
     "output_type": "stream",
     "text": [
      "C:\\Users\\mandeep.singh\\Anaconda3\\lib\\site-packages\\urllib3\\connectionpool.py:1013: InsecureRequestWarning: Unverified HTTPS request is being made to host 'cdn.shopify.com'. Adding certificate verification is strongly advised. See: https://urllib3.readthedocs.io/en/latest/advanced-usage.html#ssl-warnings\n",
      "  warnings.warn(\n"
     ]
    },
    {
     "name": "stdout",
     "output_type": "stream",
     "text": [
      "SUCCESS - saved https://cdn.shopify.com/s/files/1/0305/5921/articles/maki-nigiri-sushi-web_1800x.jpg?v=1616098701 - as ./images\\sushi\\a2e38158b1.jpg\n"
     ]
    },
    {
     "name": "stderr",
     "output_type": "stream",
     "text": [
      "C:\\Users\\mandeep.singh\\Anaconda3\\lib\\site-packages\\urllib3\\connectionpool.py:1013: InsecureRequestWarning: Unverified HTTPS request is being made to host 'encrypted-tbn0.gstatic.com'. Adding certificate verification is strongly advised. See: https://urllib3.readthedocs.io/en/latest/advanced-usage.html#ssl-warnings\n",
      "  warnings.warn(\n",
      "C:\\Users\\mandeep.singh\\Anaconda3\\lib\\site-packages\\urllib3\\connectionpool.py:1013: InsecureRequestWarning: Unverified HTTPS request is being made to host 'encrypted-tbn0.gstatic.com'. Adding certificate verification is strongly advised. See: https://urllib3.readthedocs.io/en/latest/advanced-usage.html#ssl-warnings\n",
      "  warnings.warn(\n"
     ]
    },
    {
     "name": "stdout",
     "output_type": "stream",
     "text": [
      "SUCCESS - saved https://encrypted-tbn0.gstatic.com/images?q=tbn:ANd9GcRw4iUIxLxlrohovup9bnl1VVYxdHB2goTX7Q&usqp=CAU - as ./images\\sushi\\a6334a2b38.jpg\n",
      "SUCCESS - saved https://encrypted-tbn0.gstatic.com/images?q=tbn:ANd9GcQ-2UCftKOcvdKbozsUV_Ct698WVh3bURQYUQ&usqp=CAU - as ./images\\sushi\\72d35048e5.jpg\n"
     ]
    },
    {
     "name": "stderr",
     "output_type": "stream",
     "text": [
      "C:\\Users\\mandeep.singh\\Anaconda3\\lib\\site-packages\\urllib3\\connectionpool.py:1013: InsecureRequestWarning: Unverified HTTPS request is being made to host 'encrypted-tbn0.gstatic.com'. Adding certificate verification is strongly advised. See: https://urllib3.readthedocs.io/en/latest/advanced-usage.html#ssl-warnings\n",
      "  warnings.warn(\n"
     ]
    },
    {
     "name": "stdout",
     "output_type": "stream",
     "text": [
      "SUCCESS - saved https://encrypted-tbn0.gstatic.com/images?q=tbn:ANd9GcRs4mBI-iDb8mh3H2p8XZEGuPQOess1-i7UrA&usqp=CAU - as ./images\\sushi\\adfc38dc37.jpg\n"
     ]
    },
    {
     "name": "stderr",
     "output_type": "stream",
     "text": [
      "C:\\Users\\mandeep.singh\\Anaconda3\\lib\\site-packages\\urllib3\\connectionpool.py:1013: InsecureRequestWarning: Unverified HTTPS request is being made to host 'cdn.cnn.com'. Adding certificate verification is strongly advised. See: https://urllib3.readthedocs.io/en/latest/advanced-usage.html#ssl-warnings\n",
      "  warnings.warn(\n"
     ]
    },
    {
     "name": "stdout",
     "output_type": "stream",
     "text": [
      "SUCCESS - saved https://cdn.cnn.com/cnnnext/dam/assets/210916135259-sushi-stock-restricted-super-169.jpg - as ./images\\sushi\\9fe1feefc4.jpg\n"
     ]
    },
    {
     "name": "stderr",
     "output_type": "stream",
     "text": [
      "C:\\Users\\mandeep.singh\\Anaconda3\\lib\\site-packages\\urllib3\\connectionpool.py:1013: InsecureRequestWarning: Unverified HTTPS request is being made to host 'encrypted-tbn0.gstatic.com'. Adding certificate verification is strongly advised. See: https://urllib3.readthedocs.io/en/latest/advanced-usage.html#ssl-warnings\n",
      "  warnings.warn(\n"
     ]
    },
    {
     "name": "stdout",
     "output_type": "stream",
     "text": [
      "SUCCESS - saved https://encrypted-tbn0.gstatic.com/images?q=tbn:ANd9GcSvLmW0lgtfa-MZrRXizMWpmm5Dfe7qZBP8DQ&usqp=CAU - as ./images\\sushi\\3c10189262.jpg\n"
     ]
    },
    {
     "name": "stderr",
     "output_type": "stream",
     "text": [
      "C:\\Users\\mandeep.singh\\Anaconda3\\lib\\site-packages\\urllib3\\connectionpool.py:1013: InsecureRequestWarning: Unverified HTTPS request is being made to host 'encrypted-tbn0.gstatic.com'. Adding certificate verification is strongly advised. See: https://urllib3.readthedocs.io/en/latest/advanced-usage.html#ssl-warnings\n",
      "  warnings.warn(\n"
     ]
    },
    {
     "name": "stdout",
     "output_type": "stream",
     "text": [
      "SUCCESS - saved https://encrypted-tbn0.gstatic.com/images?q=tbn:ANd9GcQx0IW9lxFRWV-bjVqjrUV5iBjDnb_XA29nVw&usqp=CAU - as ./images\\sushi\\c88655cf4a.jpg\n"
     ]
    },
    {
     "name": "stderr",
     "output_type": "stream",
     "text": [
      "C:\\Users\\mandeep.singh\\Anaconda3\\lib\\site-packages\\urllib3\\connectionpool.py:1013: InsecureRequestWarning: Unverified HTTPS request is being made to host 'encrypted-tbn0.gstatic.com'. Adding certificate verification is strongly advised. See: https://urllib3.readthedocs.io/en/latest/advanced-usage.html#ssl-warnings\n",
      "  warnings.warn(\n"
     ]
    },
    {
     "name": "stdout",
     "output_type": "stream",
     "text": [
      "SUCCESS - saved https://encrypted-tbn0.gstatic.com/images?q=tbn:ANd9GcSY09czsz8EpHX2LQdvvxpTJEM-EJWhPi7GBg&usqp=CAU - as ./images\\sushi\\0dfd4f03ab.jpg\n"
     ]
    },
    {
     "name": "stderr",
     "output_type": "stream",
     "text": [
      "C:\\Users\\mandeep.singh\\Anaconda3\\lib\\site-packages\\urllib3\\connectionpool.py:1013: InsecureRequestWarning: Unverified HTTPS request is being made to host 'www.arabnews.com'. Adding certificate verification is strongly advised. See: https://urllib3.readthedocs.io/en/latest/advanced-usage.html#ssl-warnings\n",
      "  warnings.warn(\n"
     ]
    },
    {
     "name": "stdout",
     "output_type": "stream",
     "text": [
      "SUCCESS - saved https://www.arabnews.com/sites/default/files/2021/06/18/2673006-1383818603.jpg - as ./images\\sushi\\78acb8bcd8.jpg\n"
     ]
    },
    {
     "name": "stderr",
     "output_type": "stream",
     "text": [
      "C:\\Users\\mandeep.singh\\Anaconda3\\lib\\site-packages\\urllib3\\connectionpool.py:1013: InsecureRequestWarning: Unverified HTTPS request is being made to host 'encrypted-tbn0.gstatic.com'. Adding certificate verification is strongly advised. See: https://urllib3.readthedocs.io/en/latest/advanced-usage.html#ssl-warnings\n",
      "  warnings.warn(\n",
      "C:\\Users\\mandeep.singh\\Anaconda3\\lib\\site-packages\\urllib3\\connectionpool.py:1013: InsecureRequestWarning: Unverified HTTPS request is being made to host 'i.ytimg.com'. Adding certificate verification is strongly advised. See: https://urllib3.readthedocs.io/en/latest/advanced-usage.html#ssl-warnings\n",
      "  warnings.warn(\n"
     ]
    },
    {
     "name": "stdout",
     "output_type": "stream",
     "text": [
      "SUCCESS - saved https://encrypted-tbn0.gstatic.com/images?q=tbn:ANd9GcRrKI0-iI8DqlZ531J8KEVm-S1TlHPoap4JNQ&usqp=CAU - as ./images\\sushi\\736d4502c0.jpg\n",
      "SUCCESS - saved https://i.ytimg.com/vi/CgSiJeltN0U/maxresdefault.jpg - as ./images\\sushi\\d4d52bd29d.jpg\n",
      "SUCCESS - saved https://media-cdn.tripadvisor.com/media/photo-s/17/5b/c8/d0/shinsen.jpg - as ./images\\sushi\\03efecb139.jpg\n"
     ]
    },
    {
     "name": "stderr",
     "output_type": "stream",
     "text": [
      "C:\\Users\\mandeep.singh\\Anaconda3\\lib\\site-packages\\urllib3\\connectionpool.py:1013: InsecureRequestWarning: Unverified HTTPS request is being made to host 'media-cdn.tripadvisor.com'. Adding certificate verification is strongly advised. See: https://urllib3.readthedocs.io/en/latest/advanced-usage.html#ssl-warnings\n",
      "  warnings.warn(\n",
      "C:\\Users\\mandeep.singh\\Anaconda3\\lib\\site-packages\\urllib3\\connectionpool.py:1013: InsecureRequestWarning: Unverified HTTPS request is being made to host 'images.saymedia-content.com'. Adding certificate verification is strongly advised. See: https://urllib3.readthedocs.io/en/latest/advanced-usage.html#ssl-warnings\n",
      "  warnings.warn(\n"
     ]
    },
    {
     "name": "stdout",
     "output_type": "stream",
     "text": [
      "SUCCESS - saved https://images.saymedia-content.com/.image/t_share/MTc0MTk2ODY5NTA3ODUyMTU2/the-different-kinds-of-sushi.jpg - as ./images\\sushi\\f98bcba6da.jpg\n",
      "SUCCESS - saved https://encrypted-tbn0.gstatic.com/images?q=tbn:ANd9GcQJxMU-EYig1A_vsB71_1DLvv24A3-waYIMSQ&usqp=CAU - as ./images\\sushi\\516ea5d687.jpg\n"
     ]
    },
    {
     "name": "stderr",
     "output_type": "stream",
     "text": [
      "C:\\Users\\mandeep.singh\\Anaconda3\\lib\\site-packages\\urllib3\\connectionpool.py:1013: InsecureRequestWarning: Unverified HTTPS request is being made to host 'encrypted-tbn0.gstatic.com'. Adding certificate verification is strongly advised. See: https://urllib3.readthedocs.io/en/latest/advanced-usage.html#ssl-warnings\n",
      "  warnings.warn(\n",
      "C:\\Users\\mandeep.singh\\Anaconda3\\lib\\site-packages\\urllib3\\connectionpool.py:1013: InsecureRequestWarning: Unverified HTTPS request is being made to host 'cdn.pixabay.com'. Adding certificate verification is strongly advised. See: https://urllib3.readthedocs.io/en/latest/advanced-usage.html#ssl-warnings\n",
      "  warnings.warn(\n"
     ]
    },
    {
     "name": "stdout",
     "output_type": "stream",
     "text": [
      "SUCCESS - saved https://cdn.pixabay.com/photo/2020/04/04/15/07/sushi-5002639_1280.jpg - as ./images\\sushi\\e8803c157e.jpg\n"
     ]
    },
    {
     "name": "stderr",
     "output_type": "stream",
     "text": [
      "C:\\Users\\mandeep.singh\\Anaconda3\\lib\\site-packages\\urllib3\\connectionpool.py:1013: InsecureRequestWarning: Unverified HTTPS request is being made to host 'encrypted-tbn0.gstatic.com'. Adding certificate verification is strongly advised. See: https://urllib3.readthedocs.io/en/latest/advanced-usage.html#ssl-warnings\n",
      "  warnings.warn(\n"
     ]
    },
    {
     "name": "stdout",
     "output_type": "stream",
     "text": [
      "SUCCESS - saved https://encrypted-tbn0.gstatic.com/images?q=tbn:ANd9GcSDz7Pr0jxbEx28tXRY7tCwrYeMd1oNitIY4g&usqp=CAU - as ./images\\sushi\\539de96e49.jpg\n"
     ]
    },
    {
     "name": "stderr",
     "output_type": "stream",
     "text": [
      "C:\\Users\\mandeep.singh\\Anaconda3\\lib\\site-packages\\urllib3\\connectionpool.py:1013: InsecureRequestWarning: Unverified HTTPS request is being made to host 'www.pcrm.org'. Adding certificate verification is strongly advised. See: https://urllib3.readthedocs.io/en/latest/advanced-usage.html#ssl-warnings\n",
      "  warnings.warn(\n"
     ]
    },
    {
     "name": "stdout",
     "output_type": "stream",
     "text": [
      "SUCCESS - saved https://www.pcrm.org/sites/default/files/2020-01/Sushi.jpg - as ./images\\sushi\\bc25638e6c.jpg\n",
      "SUCCESS - saved https://encrypted-tbn0.gstatic.com/images?q=tbn:ANd9GcSl2QVo_N6nuWol-TcKoSErZcpBxqEi9Vb9Gw&usqp=CAU - as ./images\\sushi\\6dcba82ed5.jpg\n"
     ]
    },
    {
     "name": "stderr",
     "output_type": "stream",
     "text": [
      "C:\\Users\\mandeep.singh\\Anaconda3\\lib\\site-packages\\urllib3\\connectionpool.py:1013: InsecureRequestWarning: Unverified HTTPS request is being made to host 'encrypted-tbn0.gstatic.com'. Adding certificate verification is strongly advised. See: https://urllib3.readthedocs.io/en/latest/advanced-usage.html#ssl-warnings\n",
      "  warnings.warn(\n",
      "C:\\Users\\mandeep.singh\\Anaconda3\\lib\\site-packages\\urllib3\\connectionpool.py:1013: InsecureRequestWarning: Unverified HTTPS request is being made to host 'encrypted-tbn0.gstatic.com'. Adding certificate verification is strongly advised. See: https://urllib3.readthedocs.io/en/latest/advanced-usage.html#ssl-warnings\n",
      "  warnings.warn(\n"
     ]
    },
    {
     "name": "stdout",
     "output_type": "stream",
     "text": [
      "SUCCESS - saved https://encrypted-tbn0.gstatic.com/images?q=tbn:ANd9GcQvJyAkODeyHuBnX9VzIAqiE7u0AIK4hQXguw&usqp=CAU - as ./images\\sushi\\ca8164c42b.jpg\n",
      "SUCCESS - saved https://encrypted-tbn0.gstatic.com/images?q=tbn:ANd9GcQI2q3dbi1IYtGj7pTydycT_KR3MZ34hzjYWQ&usqp=CAU - as ./images\\sushi\\f4892ebde5.jpg\n"
     ]
    },
    {
     "name": "stderr",
     "output_type": "stream",
     "text": [
      "C:\\Users\\mandeep.singh\\Anaconda3\\lib\\site-packages\\urllib3\\connectionpool.py:1013: InsecureRequestWarning: Unverified HTTPS request is being made to host 'encrypted-tbn0.gstatic.com'. Adding certificate verification is strongly advised. See: https://urllib3.readthedocs.io/en/latest/advanced-usage.html#ssl-warnings\n",
      "  warnings.warn(\n",
      "C:\\Users\\mandeep.singh\\Anaconda3\\lib\\site-packages\\urllib3\\connectionpool.py:1013: InsecureRequestWarning: Unverified HTTPS request is being made to host 'www.thespruceeats.com'. Adding certificate verification is strongly advised. See: https://urllib3.readthedocs.io/en/latest/advanced-usage.html#ssl-warnings\n",
      "  warnings.warn(\n"
     ]
    },
    {
     "name": "stdout",
     "output_type": "stream",
     "text": [
      "SUCCESS - saved https://www.thespruceeats.com/thmb/JGmIzobkkcZkziqDeLHRWVaIRVc=/1885x1414/smart/filters:no_upscale()/sushiArthurDebat-952f9668ff20496097fbd4ab65fb03e3.jpg - as ./images\\sushi\\3a88c33862.jpg\n",
      "SUCCESS - saved https://encrypted-tbn0.gstatic.com/images?q=tbn:ANd9GcQA-E10q9BqSfP3atxvlukBE99gE1Y3DmJ8pw&usqp=CAU - as ./images\\sushi\\f19647183f.jpg\n"
     ]
    },
    {
     "name": "stderr",
     "output_type": "stream",
     "text": [
      "C:\\Users\\mandeep.singh\\Anaconda3\\lib\\site-packages\\urllib3\\connectionpool.py:1013: InsecureRequestWarning: Unverified HTTPS request is being made to host 'encrypted-tbn0.gstatic.com'. Adding certificate verification is strongly advised. See: https://urllib3.readthedocs.io/en/latest/advanced-usage.html#ssl-warnings\n",
      "  warnings.warn(\n",
      "C:\\Users\\mandeep.singh\\Anaconda3\\lib\\site-packages\\urllib3\\connectionpool.py:1013: InsecureRequestWarning: Unverified HTTPS request is being made to host 'upload.wikimedia.org'. Adding certificate verification is strongly advised. See: https://urllib3.readthedocs.io/en/latest/advanced-usage.html#ssl-warnings\n",
      "  warnings.warn(\n"
     ]
    },
    {
     "name": "stdout",
     "output_type": "stream",
     "text": [
      "SUCCESS - saved https://upload.wikimedia.org/wikipedia/commons/thumb/9/9f/California_Sushi_%2826571101885%29.jpg/800px-California_Sushi_%2826571101885%29.jpg - as ./images\\sushi\\61a693bf36.jpg\n"
     ]
    },
    {
     "name": "stderr",
     "output_type": "stream",
     "text": [
      "C:\\Users\\mandeep.singh\\Anaconda3\\lib\\site-packages\\urllib3\\connectionpool.py:1013: InsecureRequestWarning: Unverified HTTPS request is being made to host 'i0.wp.com'. Adding certificate verification is strongly advised. See: https://urllib3.readthedocs.io/en/latest/advanced-usage.html#ssl-warnings\n",
      "  warnings.warn(\n"
     ]
    },
    {
     "name": "stdout",
     "output_type": "stream",
     "text": [
      "SUCCESS - saved https://i0.wp.com/post.healthline.com/wp-content/uploads/2021/09/sushi-sashimi-1296x728-header.jpg?w=1155&h=1528 - as ./images\\sushi\\ada471b5be.jpg\n",
      "SUCCESS - saved https://encrypted-tbn0.gstatic.com/images?q=tbn:ANd9GcQC0EZlqnYfyFdBz5a4-JDqcaZjx-6R6zG8oA&usqp=CAU - as ./images\\sushi\\7058eb153c.jpg\n"
     ]
    },
    {
     "name": "stderr",
     "output_type": "stream",
     "text": [
      "C:\\Users\\mandeep.singh\\Anaconda3\\lib\\site-packages\\urllib3\\connectionpool.py:1013: InsecureRequestWarning: Unverified HTTPS request is being made to host 'encrypted-tbn0.gstatic.com'. Adding certificate verification is strongly advised. See: https://urllib3.readthedocs.io/en/latest/advanced-usage.html#ssl-warnings\n",
      "  warnings.warn(\n",
      "C:\\Users\\mandeep.singh\\Anaconda3\\lib\\site-packages\\urllib3\\connectionpool.py:1013: InsecureRequestWarning: Unverified HTTPS request is being made to host 'encrypted-tbn0.gstatic.com'. Adding certificate verification is strongly advised. See: https://urllib3.readthedocs.io/en/latest/advanced-usage.html#ssl-warnings\n",
      "  warnings.warn(\n"
     ]
    },
    {
     "name": "stdout",
     "output_type": "stream",
     "text": [
      "SUCCESS - saved https://encrypted-tbn0.gstatic.com/images?q=tbn:ANd9GcQG_hVC4ew0izgn_R2VZSslqkckXh-T8kPwjg&usqp=CAU - as ./images\\sushi\\aee892153d.jpg\n"
     ]
    },
    {
     "name": "stderr",
     "output_type": "stream",
     "text": [
      "C:\\Users\\mandeep.singh\\Anaconda3\\lib\\site-packages\\urllib3\\connectionpool.py:1013: InsecureRequestWarning: Unverified HTTPS request is being made to host 'encrypted-tbn0.gstatic.com'. Adding certificate verification is strongly advised. See: https://urllib3.readthedocs.io/en/latest/advanced-usage.html#ssl-warnings\n",
      "  warnings.warn(\n"
     ]
    },
    {
     "name": "stdout",
     "output_type": "stream",
     "text": [
      "SUCCESS - saved https://encrypted-tbn0.gstatic.com/images?q=tbn:ANd9GcSvgrZeyNwJ0s-fIfOHa9qHCzeYVV2-VRM3tQ&usqp=CAU - as ./images\\sushi\\42439b78f3.jpg\n",
      "SUCCESS - saved https://encrypted-tbn0.gstatic.com/images?q=tbn:ANd9GcQCngkLfp0XQXOKRKOluEQlHAfnwuB5iaJY9Q&usqp=CAU - as ./images\\sushi\\6ae05a60d2.jpg\n"
     ]
    },
    {
     "name": "stderr",
     "output_type": "stream",
     "text": [
      "C:\\Users\\mandeep.singh\\Anaconda3\\lib\\site-packages\\urllib3\\connectionpool.py:1013: InsecureRequestWarning: Unverified HTTPS request is being made to host 'encrypted-tbn0.gstatic.com'. Adding certificate verification is strongly advised. See: https://urllib3.readthedocs.io/en/latest/advanced-usage.html#ssl-warnings\n",
      "  warnings.warn(\n",
      "C:\\Users\\mandeep.singh\\Anaconda3\\lib\\site-packages\\urllib3\\connectionpool.py:1013: InsecureRequestWarning: Unverified HTTPS request is being made to host 'post.healthline.com'. Adding certificate verification is strongly advised. See: https://urllib3.readthedocs.io/en/latest/advanced-usage.html#ssl-warnings\n",
      "  warnings.warn(\n"
     ]
    },
    {
     "name": "stdout",
     "output_type": "stream",
     "text": [
      "SUCCESS - saved https://post.healthline.com/wp-content/uploads/2021/08/sushi-rolls-732x549-thumbnail-732x549.jpg - as ./images\\sushi\\f022db06a9.jpg\n",
      "SUCCESS - saved https://encrypted-tbn0.gstatic.com/images?q=tbn:ANd9GcSVXakPDrxSefTvT0VkE0QFY9c2Piq0XFSJaQ&usqp=CAU - as ./images\\sushi\\c0ca41bbe9.jpg\n"
     ]
    },
    {
     "name": "stderr",
     "output_type": "stream",
     "text": [
      "C:\\Users\\mandeep.singh\\Anaconda3\\lib\\site-packages\\urllib3\\connectionpool.py:1013: InsecureRequestWarning: Unverified HTTPS request is being made to host 'encrypted-tbn0.gstatic.com'. Adding certificate verification is strongly advised. See: https://urllib3.readthedocs.io/en/latest/advanced-usage.html#ssl-warnings\n",
      "  warnings.warn(\n",
      "C:\\Users\\mandeep.singh\\Anaconda3\\lib\\site-packages\\urllib3\\connectionpool.py:1013: InsecureRequestWarning: Unverified HTTPS request is being made to host 'media.istockphoto.com'. Adding certificate verification is strongly advised. See: https://urllib3.readthedocs.io/en/latest/advanced-usage.html#ssl-warnings\n",
      "  warnings.warn(\n"
     ]
    },
    {
     "name": "stdout",
     "output_type": "stream",
     "text": [
      "SUCCESS - saved https://media.istockphoto.com/photos/all-you-can-eat-sushi-picture-id1053854126?k=20&m=1053854126&s=170667a&w=0&h=JgsHexR1jxr2BlRaQlZQS316vsuQF75p6Wp10497XRA= - as ./images\\sushi\\be0edceffe.jpg\n"
     ]
    },
    {
     "name": "stderr",
     "output_type": "stream",
     "text": [
      "C:\\Users\\mandeep.singh\\Anaconda3\\lib\\site-packages\\urllib3\\connectionpool.py:1013: InsecureRequestWarning: Unverified HTTPS request is being made to host 'i0.wp.com'. Adding certificate verification is strongly advised. See: https://urllib3.readthedocs.io/en/latest/advanced-usage.html#ssl-warnings\n",
      "  warnings.warn(\n"
     ]
    },
    {
     "name": "stdout",
     "output_type": "stream",
     "text": [
      "SUCCESS - saved https://i0.wp.com/post.greatist.com/wp-content/uploads/sites/2/2020/11/what-is-the-difference-between-sushi-and-sahimi-chowhound.png?w=1155&h=1530 - as ./images\\sushi\\86b17ea851.jpg\n",
      "SUCCESS - saved https://encrypted-tbn0.gstatic.com/images?q=tbn:ANd9GcQwgArh4m0fSz32ZBowDUXJDkOU6BWpEtU4Rw&usqp=CAU - as ./images\\sushi\\41fba76ca1.jpg\n"
     ]
    },
    {
     "name": "stderr",
     "output_type": "stream",
     "text": [
      "C:\\Users\\mandeep.singh\\Anaconda3\\lib\\site-packages\\urllib3\\connectionpool.py:1013: InsecureRequestWarning: Unverified HTTPS request is being made to host 'encrypted-tbn0.gstatic.com'. Adding certificate verification is strongly advised. See: https://urllib3.readthedocs.io/en/latest/advanced-usage.html#ssl-warnings\n",
      "  warnings.warn(\n",
      "C:\\Users\\mandeep.singh\\Anaconda3\\lib\\site-packages\\urllib3\\connectionpool.py:1013: InsecureRequestWarning: Unverified HTTPS request is being made to host 'encrypted-tbn0.gstatic.com'. Adding certificate verification is strongly advised. See: https://urllib3.readthedocs.io/en/latest/advanced-usage.html#ssl-warnings\n",
      "  warnings.warn(\n"
     ]
    },
    {
     "name": "stdout",
     "output_type": "stream",
     "text": [
      "SUCCESS - saved https://encrypted-tbn0.gstatic.com/images?q=tbn:ANd9GcS4R_HlqNVcrdbdzS2AW3BX4YNcFPdbHEJxaQ&usqp=CAU - as ./images\\sushi\\0157fa1cd9.jpg\n"
     ]
    },
    {
     "name": "stderr",
     "output_type": "stream",
     "text": [
      "C:\\Users\\mandeep.singh\\Anaconda3\\lib\\site-packages\\urllib3\\connectionpool.py:1013: InsecureRequestWarning: Unverified HTTPS request is being made to host 'encrypted-tbn0.gstatic.com'. Adding certificate verification is strongly advised. See: https://urllib3.readthedocs.io/en/latest/advanced-usage.html#ssl-warnings\n",
      "  warnings.warn(\n"
     ]
    },
    {
     "name": "stdout",
     "output_type": "stream",
     "text": [
      "SUCCESS - saved https://encrypted-tbn0.gstatic.com/images?q=tbn:ANd9GcThIcmcx8oFN7ZnlVDIg-02WtKQshXpReHQ2w&usqp=CAU - as ./images\\sushi\\904505983c.jpg\n"
     ]
    },
    {
     "name": "stderr",
     "output_type": "stream",
     "text": [
      "C:\\Users\\mandeep.singh\\Anaconda3\\lib\\site-packages\\urllib3\\connectionpool.py:1013: InsecureRequestWarning: Unverified HTTPS request is being made to host 'encrypted-tbn0.gstatic.com'. Adding certificate verification is strongly advised. See: https://urllib3.readthedocs.io/en/latest/advanced-usage.html#ssl-warnings\n",
      "  warnings.warn(\n",
      "C:\\Users\\mandeep.singh\\Anaconda3\\lib\\site-packages\\urllib3\\connectionpool.py:1013: InsecureRequestWarning: Unverified HTTPS request is being made to host 'encrypted-tbn0.gstatic.com'. Adding certificate verification is strongly advised. See: https://urllib3.readthedocs.io/en/latest/advanced-usage.html#ssl-warnings\n",
      "  warnings.warn(\n"
     ]
    },
    {
     "name": "stdout",
     "output_type": "stream",
     "text": [
      "SUCCESS - saved https://encrypted-tbn0.gstatic.com/images?q=tbn:ANd9GcRMmAe3LNgedpA8ZyF1ZqPy5OlbM_ARXBGUhw&usqp=CAU - as ./images\\sushi\\42ed6a1303.jpg\n",
      "SUCCESS - saved https://encrypted-tbn0.gstatic.com/images?q=tbn:ANd9GcR8by9ICJnj8VtC_W-NCDD1c99s2_cwuTku7Q&usqp=CAU - as ./images\\sushi\\ae5d204fab.jpg\n"
     ]
    },
    {
     "name": "stderr",
     "output_type": "stream",
     "text": [
      "C:\\Users\\mandeep.singh\\Anaconda3\\lib\\site-packages\\urllib3\\connectionpool.py:1013: InsecureRequestWarning: Unverified HTTPS request is being made to host 'encrypted-tbn0.gstatic.com'. Adding certificate verification is strongly advised. See: https://urllib3.readthedocs.io/en/latest/advanced-usage.html#ssl-warnings\n",
      "  warnings.warn(\n",
      "C:\\Users\\mandeep.singh\\Anaconda3\\lib\\site-packages\\urllib3\\connectionpool.py:1013: InsecureRequestWarning: Unverified HTTPS request is being made to host 'encrypted-tbn0.gstatic.com'. Adding certificate verification is strongly advised. See: https://urllib3.readthedocs.io/en/latest/advanced-usage.html#ssl-warnings\n",
      "  warnings.warn(\n"
     ]
    },
    {
     "name": "stdout",
     "output_type": "stream",
     "text": [
      "SUCCESS - saved https://encrypted-tbn0.gstatic.com/images?q=tbn:ANd9GcSsx8g11Tazb1ENNS-axEmJsNT-Yb329ZqN3Q&usqp=CAU - as ./images\\sushi\\9428571e85.jpg\n",
      "SUCCESS - saved https://encrypted-tbn0.gstatic.com/images?q=tbn:ANd9GcRwKcvO1xQ7Wh3DFcYITGzIJ12CpeXtlva9bA&usqp=CAU - as ./images\\sushi\\481d16c7cc.jpg\n"
     ]
    },
    {
     "name": "stderr",
     "output_type": "stream",
     "text": [
      "C:\\Users\\mandeep.singh\\Anaconda3\\lib\\site-packages\\urllib3\\connectionpool.py:1013: InsecureRequestWarning: Unverified HTTPS request is being made to host 'encrypted-tbn0.gstatic.com'. Adding certificate verification is strongly advised. See: https://urllib3.readthedocs.io/en/latest/advanced-usage.html#ssl-warnings\n",
      "  warnings.warn(\n"
     ]
    },
    {
     "name": "stdout",
     "output_type": "stream",
     "text": [
      "SUCCESS - saved https://encrypted-tbn0.gstatic.com/images?q=tbn:ANd9GcT8mjlr3vPsQjXX0gvvqbTZUhtBgEBjvziZjA&usqp=CAU - as ./images\\sushi\\956c885899.jpg\n"
     ]
    },
    {
     "name": "stderr",
     "output_type": "stream",
     "text": [
      "C:\\Users\\mandeep.singh\\Anaconda3\\lib\\site-packages\\urllib3\\connectionpool.py:1013: InsecureRequestWarning: Unverified HTTPS request is being made to host 'www.licious.in'. Adding certificate verification is strongly advised. See: https://urllib3.readthedocs.io/en/latest/advanced-usage.html#ssl-warnings\n",
      "  warnings.warn(\n"
     ]
    },
    {
     "name": "stdout",
     "output_type": "stream",
     "text": [
      "SUCCESS - saved https://www.licious.in/blog/wp-content/uploads/2020/12/Raw-Fish-Sushi.jpg - as ./images\\sushi\\dec064b66c.jpg\n"
     ]
    },
    {
     "name": "stderr",
     "output_type": "stream",
     "text": [
      "C:\\Users\\mandeep.singh\\Anaconda3\\lib\\site-packages\\urllib3\\connectionpool.py:1013: InsecureRequestWarning: Unverified HTTPS request is being made to host 'media.istockphoto.com'. Adding certificate verification is strongly advised. See: https://urllib3.readthedocs.io/en/latest/advanced-usage.html#ssl-warnings\n",
      "  warnings.warn(\n"
     ]
    },
    {
     "name": "stdout",
     "output_type": "stream",
     "text": [
      "SUCCESS - saved https://media.istockphoto.com/photos/fresh-sushi-selection-on-wooden-board-picture-id1298575561?b=1&k=20&m=1298575561&s=170667a&w=0&h=ObPuPuqSbF2zwHVTL-8tO7Qgh7I9u1UEfersyvhWZAs= - as ./images\\sushi\\1919a4d503.jpg\n"
     ]
    },
    {
     "name": "stderr",
     "output_type": "stream",
     "text": [
      "C:\\Users\\mandeep.singh\\Anaconda3\\lib\\site-packages\\urllib3\\connectionpool.py:1013: InsecureRequestWarning: Unverified HTTPS request is being made to host 'encrypted-tbn0.gstatic.com'. Adding certificate verification is strongly advised. See: https://urllib3.readthedocs.io/en/latest/advanced-usage.html#ssl-warnings\n",
      "  warnings.warn(\n",
      "C:\\Users\\mandeep.singh\\Anaconda3\\lib\\site-packages\\urllib3\\connectionpool.py:1013: InsecureRequestWarning: Unverified HTTPS request is being made to host 'encrypted-tbn0.gstatic.com'. Adding certificate verification is strongly advised. See: https://urllib3.readthedocs.io/en/latest/advanced-usage.html#ssl-warnings\n",
      "  warnings.warn(\n"
     ]
    },
    {
     "name": "stdout",
     "output_type": "stream",
     "text": [
      "SUCCESS - saved https://encrypted-tbn0.gstatic.com/images?q=tbn:ANd9GcQVa_-9hzASIUuahwNIQL4FVAp0MjFPMRpNyw&usqp=CAU - as ./images\\sushi\\f828304489.jpg\n",
      "SUCCESS - saved https://encrypted-tbn0.gstatic.com/images?q=tbn:ANd9GcSqRf7YDOw8igOpXUC04Mmm909i4bemKweAWA&usqp=CAU - as ./images\\sushi\\38d651cbb8.jpg\n"
     ]
    },
    {
     "name": "stderr",
     "output_type": "stream",
     "text": [
      "C:\\Users\\mandeep.singh\\Anaconda3\\lib\\site-packages\\urllib3\\connectionpool.py:1013: InsecureRequestWarning: Unverified HTTPS request is being made to host 'encrypted-tbn0.gstatic.com'. Adding certificate verification is strongly advised. See: https://urllib3.readthedocs.io/en/latest/advanced-usage.html#ssl-warnings\n",
      "  warnings.warn(\n"
     ]
    },
    {
     "name": "stdout",
     "output_type": "stream",
     "text": [
      "SUCCESS - saved https://encrypted-tbn0.gstatic.com/images?q=tbn:ANd9GcRyWS_n7v-AWam6rTYVfEpLZ5nQGAwnrdjFaA&usqp=CAU - as ./images\\sushi\\df0f4fea62.jpg\n"
     ]
    },
    {
     "name": "stderr",
     "output_type": "stream",
     "text": [
      "C:\\Users\\mandeep.singh\\Anaconda3\\lib\\site-packages\\urllib3\\connectionpool.py:1013: InsecureRequestWarning: Unverified HTTPS request is being made to host 'media.istockphoto.com'. Adding certificate verification is strongly advised. See: https://urllib3.readthedocs.io/en/latest/advanced-usage.html#ssl-warnings\n",
      "  warnings.warn(\n"
     ]
    },
    {
     "name": "stdout",
     "output_type": "stream",
     "text": [
      "SUCCESS - saved https://media.istockphoto.com/photos/healthy-fresh-sushi-roll-set-with-ginger-close-up-japanese-food-picture-id1286622470?b=1&k=20&m=1286622470&s=170667a&w=0&h=B-GBnuB3Whj7r0QdCz5JBqzs180-QBOvFIkIn6mhYUk= - as ./images\\sushi\\45ff9c9513.jpg\n"
     ]
    },
    {
     "name": "stderr",
     "output_type": "stream",
     "text": [
      "C:\\Users\\mandeep.singh\\Anaconda3\\lib\\site-packages\\urllib3\\connectionpool.py:1013: InsecureRequestWarning: Unverified HTTPS request is being made to host 'encrypted-tbn0.gstatic.com'. Adding certificate verification is strongly advised. See: https://urllib3.readthedocs.io/en/latest/advanced-usage.html#ssl-warnings\n",
      "  warnings.warn(\n"
     ]
    },
    {
     "name": "stdout",
     "output_type": "stream",
     "text": [
      "SUCCESS - saved https://encrypted-tbn0.gstatic.com/images?q=tbn:ANd9GcTWBVc3KR3VXEITEEutiHDg1gXbbK-7z37rbA&usqp=CAU - as ./images\\sushi\\59c622743a.jpg\n"
     ]
    },
    {
     "name": "stderr",
     "output_type": "stream",
     "text": [
      "C:\\Users\\mandeep.singh\\Anaconda3\\lib\\site-packages\\urllib3\\connectionpool.py:1013: InsecureRequestWarning: Unverified HTTPS request is being made to host 'img.freepik.com'. Adding certificate verification is strongly advised. See: https://urllib3.readthedocs.io/en/latest/advanced-usage.html#ssl-warnings\n",
      "  warnings.warn(\n"
     ]
    },
    {
     "name": "stdout",
     "output_type": "stream",
     "text": [
      "SUCCESS - saved https://img.freepik.com/free-vector/set-sushi-collection-various-delicious-rolls-appliances-eating_178630-272.jpg?size=626&ext=jpg - as ./images\\sushi\\fea5f2cb55.jpg\n"
     ]
    },
    {
     "name": "stderr",
     "output_type": "stream",
     "text": [
      "C:\\Users\\mandeep.singh\\Anaconda3\\lib\\site-packages\\urllib3\\connectionpool.py:1013: InsecureRequestWarning: Unverified HTTPS request is being made to host 'imgstaticcontent.lbb.in'. Adding certificate verification is strongly advised. See: https://urllib3.readthedocs.io/en/latest/advanced-usage.html#ssl-warnings\n",
      "  warnings.warn(\n"
     ]
    },
    {
     "name": "stdout",
     "output_type": "stream",
     "text": [
      "SUCCESS - saved https://imgstaticcontent.lbb.in/lbbnew/wp-content/uploads/sites/1/2016/12/201216_Sushi@SushiHaus_01.jpg?w=1200&h=628&fill=blur&fit=fill - as ./images\\sushi\\f8077d18ff.jpg\n"
     ]
    },
    {
     "name": "stderr",
     "output_type": "stream",
     "text": [
      "C:\\Users\\mandeep.singh\\Anaconda3\\lib\\site-packages\\urllib3\\connectionpool.py:1013: InsecureRequestWarning: Unverified HTTPS request is being made to host 'encrypted-tbn0.gstatic.com'. Adding certificate verification is strongly advised. See: https://urllib3.readthedocs.io/en/latest/advanced-usage.html#ssl-warnings\n",
      "  warnings.warn(\n",
      "C:\\Users\\mandeep.singh\\Anaconda3\\lib\\site-packages\\urllib3\\connectionpool.py:1013: InsecureRequestWarning: Unverified HTTPS request is being made to host 'encrypted-tbn0.gstatic.com'. Adding certificate verification is strongly advised. See: https://urllib3.readthedocs.io/en/latest/advanced-usage.html#ssl-warnings\n",
      "  warnings.warn(\n"
     ]
    },
    {
     "name": "stdout",
     "output_type": "stream",
     "text": [
      "SUCCESS - saved https://encrypted-tbn0.gstatic.com/images?q=tbn:ANd9GcRei925DtarHynMSdVXU7O0vbTrUeDqVEt6RQ&usqp=CAU - as ./images\\sushi\\905c06c3ac.jpg\n",
      "SUCCESS - saved https://encrypted-tbn0.gstatic.com/images?q=tbn:ANd9GcQyhd9nvIpFynjTxV7cKsnaJYrH1pMjz4cPcQ&usqp=CAU - as ./images\\sushi\\26b59e5a86.jpg\n"
     ]
    },
    {
     "name": "stderr",
     "output_type": "stream",
     "text": [
      "C:\\Users\\mandeep.singh\\Anaconda3\\lib\\site-packages\\urllib3\\connectionpool.py:1013: InsecureRequestWarning: Unverified HTTPS request is being made to host 'imagesvc.meredithcorp.io'. Adding certificate verification is strongly advised. See: https://urllib3.readthedocs.io/en/latest/advanced-usage.html#ssl-warnings\n",
      "  warnings.warn(\n"
     ]
    },
    {
     "name": "stdout",
     "output_type": "stream",
     "text": [
      "SUCCESS - saved https://imagesvc.meredithcorp.io/v3/mm/image?url=https%3A%2F%2Fimagesvc.meredithcorp.io%2Fv3%2Fmm%2Fimage%3Furl%3Dhttps%253A%252F%252Fstatic.onecms.io%252Fwp-content%252Fuploads%252Fsites%252F19%252F2018%252F04%252F23%252F1804-what-is-sushi-grade-fish-2000.jpg&q=85 - as ./images\\sushi\\fd0deb9e5c.jpg\n"
     ]
    },
    {
     "name": "stderr",
     "output_type": "stream",
     "text": [
      "C:\\Users\\mandeep.singh\\Anaconda3\\lib\\site-packages\\urllib3\\connectionpool.py:1013: InsecureRequestWarning: Unverified HTTPS request is being made to host 'post.greatist.com'. Adding certificate verification is strongly advised. See: https://urllib3.readthedocs.io/en/latest/advanced-usage.html#ssl-warnings\n",
      "  warnings.warn(\n"
     ]
    },
    {
     "name": "stdout",
     "output_type": "stream",
     "text": [
      "SUCCESS - saved https://post.greatist.com/wp-content/uploads/sites/2/2020/11/THUMB-SUSHI.jpg - as ./images\\sushi\\7f944af71c.jpg\n"
     ]
    },
    {
     "name": "stderr",
     "output_type": "stream",
     "text": [
      "C:\\Users\\mandeep.singh\\Anaconda3\\lib\\site-packages\\urllib3\\connectionpool.py:1013: InsecureRequestWarning: Unverified HTTPS request is being made to host 'media.istockphoto.com'. Adding certificate verification is strongly advised. See: https://urllib3.readthedocs.io/en/latest/advanced-usage.html#ssl-warnings\n",
      "  warnings.warn(\n"
     ]
    },
    {
     "name": "stdout",
     "output_type": "stream",
     "text": [
      "SUCCESS - saved https://media.istockphoto.com/vectors/vector-sushi-set-vector-id961617684?k=20&m=961617684&s=612x612&w=0&h=sKJsX1ihVxU37jVogjV0XvJgPNLbLgu3yMpDlO-haac= - as ./images\\sushi\\8d0383612c.jpg\n"
     ]
    },
    {
     "name": "stderr",
     "output_type": "stream",
     "text": [
      "C:\\Users\\mandeep.singh\\Anaconda3\\lib\\site-packages\\urllib3\\connectionpool.py:1013: InsecureRequestWarning: Unverified HTTPS request is being made to host 'encrypted-tbn0.gstatic.com'. Adding certificate verification is strongly advised. See: https://urllib3.readthedocs.io/en/latest/advanced-usage.html#ssl-warnings\n",
      "  warnings.warn(\n",
      "C:\\Users\\mandeep.singh\\Anaconda3\\lib\\site-packages\\urllib3\\connectionpool.py:1013: InsecureRequestWarning: Unverified HTTPS request is being made to host 'encrypted-tbn0.gstatic.com'. Adding certificate verification is strongly advised. See: https://urllib3.readthedocs.io/en/latest/advanced-usage.html#ssl-warnings\n",
      "  warnings.warn(\n"
     ]
    },
    {
     "name": "stdout",
     "output_type": "stream",
     "text": [
      "SUCCESS - saved https://encrypted-tbn0.gstatic.com/images?q=tbn:ANd9GcR87VUhPNc6xV3PtX52GPLDEkp85wANT0knTg&usqp=CAU - as ./images\\sushi\\73adc28101.jpg\n",
      "SUCCESS - saved https://encrypted-tbn0.gstatic.com/images?q=tbn:ANd9GcRuQoYbXL6MZiy6CmYhnQaKys17N1VeYcd66g&usqp=CAU - as ./images\\sushi\\7523e06dd6.jpg\n",
      "SUCCESS - saved https://encrypted-tbn0.gstatic.com/images?q=tbn:ANd9GcTcWCNgpDqK0ZNO2UmX4EpUtb_DrO1FgjiPpg&usqp=CAU - as ./images\\sushi\\99f172b125.jpg\n"
     ]
    },
    {
     "name": "stderr",
     "output_type": "stream",
     "text": [
      "C:\\Users\\mandeep.singh\\Anaconda3\\lib\\site-packages\\urllib3\\connectionpool.py:1013: InsecureRequestWarning: Unverified HTTPS request is being made to host 'encrypted-tbn0.gstatic.com'. Adding certificate verification is strongly advised. See: https://urllib3.readthedocs.io/en/latest/advanced-usage.html#ssl-warnings\n",
      "  warnings.warn(\n",
      "C:\\Users\\mandeep.singh\\Anaconda3\\lib\\site-packages\\urllib3\\connectionpool.py:1013: InsecureRequestWarning: Unverified HTTPS request is being made to host 'im.whatshot.in'. Adding certificate verification is strongly advised. See: https://urllib3.readthedocs.io/en/latest/advanced-usage.html#ssl-warnings\n",
      "  warnings.warn(\n"
     ]
    },
    {
     "name": "stdout",
     "output_type": "stream",
     "text": [
      "SUCCESS - saved https://im.whatshot.in/img/2020/Oct/olivia-herlambang-tham-2madgzkoyb4-unsplash-cropped-1602231049.jpg - as ./images\\sushi\\09d0177cbb.jpg\n"
     ]
    },
    {
     "name": "stderr",
     "output_type": "stream",
     "text": [
      "C:\\Users\\mandeep.singh\\Anaconda3\\lib\\site-packages\\urllib3\\connectionpool.py:1013: InsecureRequestWarning: Unverified HTTPS request is being made to host 'image.shutterstock.com'. Adding certificate verification is strongly advised. See: https://urllib3.readthedocs.io/en/latest/advanced-usage.html#ssl-warnings\n",
      "  warnings.warn(\n"
     ]
    },
    {
     "name": "stdout",
     "output_type": "stream",
     "text": [
      "SUCCESS - saved https://image.shutterstock.com/image-photo/classic-sushi-salmon-260nw-289767368.jpg - as ./images\\sushi\\00979f69fe.jpg\n"
     ]
    },
    {
     "name": "stderr",
     "output_type": "stream",
     "text": [
      "C:\\Users\\mandeep.singh\\Anaconda3\\lib\\site-packages\\urllib3\\connectionpool.py:1013: InsecureRequestWarning: Unverified HTTPS request is being made to host 'byfood.b-cdn.net'. Adding certificate verification is strongly advised. See: https://urllib3.readthedocs.io/en/latest/advanced-usage.html#ssl-warnings\n",
      "  warnings.warn(\n"
     ]
    },
    {
     "name": "stdout",
     "output_type": "stream",
     "text": [
      "SUCCESS - saved https://byfood.b-cdn.net/api/public/assets/9599/content?optimizer=image - as ./images\\sushi\\9366120c5b.jpg\n",
      "./images\\tacos\n",
      "Found: 100 search results. Extracting links from 0:100\n",
      "Found: 101 image links, done!\n",
      "{'https://encrypted-tbn0.gstatic.com/images?q=tbn:ANd9GcSCsF-3722t6jvAaysv2Nv9o95qVq6O_PvrFQ&usqp=CAU', 'https://assets3.thrillist.com/v1/image/2798454/414x310/crop;webp=auto;jpeg_quality=60;progressive.jpg', 'https://encrypted-tbn0.gstatic.com/images?q=tbn:ANd9GcS3PNo6nW2b2PLz7PQPtnE7fa4L1REILp5Fcw&usqp=CAU', 'https://encrypted-tbn0.gstatic.com/images?q=tbn:ANd9GcSNn9MRfwh7ZRKI9eZ7y4w7QT4mupy_rifi3w&usqp=CAU', 'https://encrypted-tbn0.gstatic.com/images?q=tbn:ANd9GcRov5Lvb9OX_llHXGNu0wmN7Du5VXEpYVVyhQ&usqp=CAU', 'https://encrypted-tbn0.gstatic.com/images?q=tbn:ANd9GcROYkz-zZRhP_BnTC8YgS6507S7uyDAATJlBg&usqp=CAU', 'https://encrypted-tbn0.gstatic.com/images?q=tbn:ANd9GcQ1D2S2DMGKsxnDaXd8tTxxIuz5Nrjubb_cfQ&usqp=CAU', 'https://encrypted-tbn0.gstatic.com/images?q=tbn:ANd9GcT8XR9MAv-F6zUwAVxQGNV9FDc628G_LdJ6hg&usqp=CAU', 'https://www.seriouseats.com/thmb/Y0NVy0pgmmjpYSWVT8Q2bQHrfOw=/1500x844/smart/filters:no_upscale()/20210710-chorizo-tacos-rice-diana-chistruga-seriouseats-1-4e85bbb2046a44f1996cfff899e9de40.jpg', 'https://encrypted-tbn0.gstatic.com/images?q=tbn:ANd9GcTfwb7urabiHKRYH6a0dwDpToMvMqf60nmjyA&usqp=CAU', 'https://encrypted-tbn0.gstatic.com/images?q=tbn:ANd9GcTMKmZPgUPB6CA1MKdOMZwZZ0idvmygurS0zw&usqp=CAU', 'https://cookieandkate.com/images/2018/04/delicious-vegetarian-tacos-recipe.jpg', 'https://www.simplyrecipes.com/thmb/6hCSYU4xi-0taIEXwtZNZCydL34=/3190x2127/filters:no_upscale():max_bytes(150000):strip_icc()/Simply-Recipes-Veggie-Tacos-LEAD-2-2fa9781c94da4b9797af48af47313854.jpg', 'https://encrypted-tbn0.gstatic.com/images?q=tbn:ANd9GcTC6r-rtfKjL7A2MkYE--jRghbmfhOzw90aUA&usqp=CAU', 'https://ca-times.brightspotcdn.com/dims4/default/9d1f2b3/2147483647/strip/true/crop/3100x1936+0+788/resize/1044x652!/quality/90/?url=https%3A%2F%2Fcalifornia-times-brightspot.s3.amazonaws.com%2F27%2Fd9%2F480cd03d42cf9c6645f109af768b%2Ffinal-tacos-tuxpenos.JPG', 'https://encrypted-tbn0.gstatic.com/images?q=tbn:ANd9GcQli0rEwuMjUfZQ_iTxGgxAUbFM0pZMGN0PrQ&usqp=CAU', 'https://encrypted-tbn0.gstatic.com/images?q=tbn:ANd9GcR7QpSgYtOzqYUPZnVAe22W9VYLrcGVRWUcEA&usqp=CAU', 'https://encrypted-tbn0.gstatic.com/images?q=tbn:ANd9GcQLK3JuHpnglaWBCHt_3kNaMQUdGCnsWyOLaQ&usqp=CAU', 'https://encrypted-tbn0.gstatic.com/images?q=tbn:ANd9GcT_wid7GxV67Kis-MAP7JFEB8itc0tKxHYe7g&usqp=CAU', 'https://encrypted-tbn0.gstatic.com/images?q=tbn:ANd9GcRW1XN394dUUR2wA8qBXXDlYz3NexHvmS9kIg&usqp=CAU', 'https://encrypted-tbn0.gstatic.com/images?q=tbn:ANd9GcRl2qFPODp3j27M4A7W7_b2DS018RL-TDQoFQ&usqp=CAU', 'https://encrypted-tbn0.gstatic.com/images?q=tbn:ANd9GcTx-tPBbZKoOQuLoJTN2vlQko-KlU3EhxcnZg&usqp=CAU', 'https://encrypted-tbn0.gstatic.com/images?q=tbn:ANd9GcSsW4WRD3wAgydljBBHMMVLIVdlzmy-3G3NJQ&usqp=CAU', 'https://encrypted-tbn0.gstatic.com/images?q=tbn:ANd9GcQwm9vht-iPmuspB4dmx7YSSo_IDHmdur8sWQ&usqp=CAU', 'https://encrypted-tbn0.gstatic.com/images?q=tbn:ANd9GcQpDpHgwUA1a4xKWswI7JiDiFmzRBXbSDMu7Q&usqp=CAU', 'https://encrypted-tbn0.gstatic.com/images?q=tbn:ANd9GcQy9VWp4x6lU5eXi1BuwZQU7L0RRqSvsK-Dgg&usqp=CAU', 'https://encrypted-tbn0.gstatic.com/images?q=tbn:ANd9GcTqQwCsYwjSj5BoBpfwKczDzixLeWOZchYKdQ&usqp=CAU', 'https://www.thewholesomedish.com/wp-content/uploads/2019/06/The-Best-Classic-Tacos-550-500x500.jpg', 'https://encrypted-tbn0.gstatic.com/images?q=tbn:ANd9GcRyvjquG-W3r76590xGqMaBNWnIO0PmwkZZEQ&usqp=CAU', 'https://encrypted-tbn0.gstatic.com/images?q=tbn:ANd9GcTHLBDR7zxBFy7NZ6sW1T-bINurtRgBfOH13w&usqp=CAU', 'https://cookieandkate.com/images/2018/04/vegetarian-bean-tacos-recipe-3.jpg', 'https://encrypted-tbn0.gstatic.com/images?q=tbn:ANd9GcRw2tpE4jC21mnf914HXs4YqqXASsFJV9zCgg&usqp=CAU', 'https://res.cloudinary.com/swiggy/image/upload/fl_lossy,f_auto,q_auto,w_508,h_320,c_fill/dnm8j7gjzkvdvb9gpi9i', 'https://www.pcrm.org/sites/default/files/2019-08/chichpea-tacos-7.jpg', 'https://encrypted-tbn0.gstatic.com/images?q=tbn:ANd9GcRfNo85uSGz6SZpxZagZupwqnBEXN4fxm2A5g&usqp=CAU', 'https://encrypted-tbn0.gstatic.com/images?q=tbn:ANd9GcSKgaI9l3T33GWuFdBIDiQTb-L0DJzkPpILeA&usqp=CAU', 'https://encrypted-tbn0.gstatic.com/images?q=tbn:ANd9GcTJ83jDv2NBI8559N1I6fG3hH0Hs5BWefP3IQ&usqp=CAU', 'https://encrypted-tbn0.gstatic.com/images?q=tbn:ANd9GcTpikeFPQDvM0IeBCK4Cv5w5Q_OvfmpLXl_HQ&usqp=CAU', 'https://recipetineats.com/wp-content/uploads/2019/03/Chicken-Tacos_3.jpg', 'https://encrypted-tbn0.gstatic.com/images?q=tbn:ANd9GcQJ0fNDIQPS2md0nDcU3Mmtw-Re5Qdsjrzv0Q&usqp=CAU', 'https://www.pcrm.org/sites/default/files/tacos-de-tofu-8.jpg', 'https://encrypted-tbn0.gstatic.com/images?q=tbn:ANd9GcTR0EJA6AWprTOWEJoRuAkJBt1ABV47S-rafg&usqp=CAU', 'https://encrypted-tbn0.gstatic.com/images?q=tbn:ANd9GcQCmXYxyfNljt9tv3N8cUnAV6XBChq845g0sA&usqp=CAU', 'https://im1.dineout.co.in/images/uploads/restaurant/sharpen/3/p/z/p3725-16058675355fb7980f645a2.jpg?tr=tr:n-large', 'https://encrypted-tbn0.gstatic.com/images?q=tbn:ANd9GcS2BKsTL8mbVaDDCv48JQe8qZqUvJmRhfEAUw&usqp=CAU', 'https://encrypted-tbn0.gstatic.com/images?q=tbn:ANd9GcQlUjFsllxW99TM9Ys95RdY5XnolVHWJRuueg&usqp=CAU', 'https://encrypted-tbn0.gstatic.com/images?q=tbn:ANd9GcQ1Ote5k08outXXAtGlXU_s5ajnqBGRgQU73A&usqp=CAU', 'https://hips.hearstapps.com/hmg-prod.s3.amazonaws.com/images/img-1810-1636678237.jpeg', 'https://encrypted-tbn0.gstatic.com/images?q=tbn:ANd9GcRGSoPfuZJx5i4C80LAVuXxx97iwDy2jmZbcw&usqp=CAU', 'https://www.sbs.com.au/food/sites/sbs.com.au.food/files/styles/full/public/804-campechano-tacos.jpg?itok=Wo_YSl0N', 'https://food.fnr.sndimg.com/content/dam/images/food/fullset/2014/8/12/1/FN_15-Minute-Stir-Fried-Steak-Tacos_s4x3.jpg.rend.hgtvcom.616.462.suffix/1407925012139.jpeg', 'https://encrypted-tbn0.gstatic.com/images?q=tbn:ANd9GcQWabzmsgwpyTkZy1ek6QX_oEJqrIIgA2atNA&usqp=CAU', 'https://encrypted-tbn0.gstatic.com/images?q=tbn:ANd9GcQ-1EyFXLGw8Igp9pPg2RAjO4tCWsoOaeeeyQ&usqp=CAU', 'https://encrypted-tbn0.gstatic.com/images?q=tbn:ANd9GcRB191GPzr-U_Vl0kF4ebSILerjX9r7oowIrA&usqp=CAU', 'https://lh3.googleusercontent.com/ksz1Txwisz2emMkhY0u-21mmhKZq6qxdWJYlDtuYa029M4JsoBpBGTwog1e8ZhyvYZKvdAY2G2SEYXyVQxxbmGurFg=h450', 'https://4.imimg.com/data4/ME/WD/MY-3971530/tasty-tacos-500x500.jpg', 'https://imgk.timesnownews.com/story/chad-montano-lP5MCM6nZ5A-unsplash.jpg?tr=w-400,h-300,fo-auto', 'https://encrypted-tbn0.gstatic.com/images?q=tbn:ANd9GcRdLm8o1Ym5T3DQ2DbLbCy7kNQAJpi7leD_Kg&usqp=CAU', 'https://www.seriouseats.com/thmb/xQiiyYk9hzCpsMe6QIIDysoJtdA=/1500x1125/filters:fill(auto,1)/__opt__aboutcom__coeus__resources__content_migration__serious_eats__seriouseats.com__recipes__images__2016__02__20160209-tacos-arabes-vicky-wasik-18-56cd7ac97a124722b586e209e57247f2.jpg', 'https://media.istockphoto.com/photos/vegan-tacos-and-guacamole-served-in-tulum-mexico-closeup-picture-id1298809774?b=1&k=20&m=1298809774&s=170667a&w=0&h=gqrLORk4hAD5_F_UAmocW7r7gsq7JJRtdTPCCSmeHeA=', 'https://encrypted-tbn0.gstatic.com/images?q=tbn:ANd9GcSl8rB2Tk09cWTsMq6W3Y5EzKZiB9amCvz0EQ&usqp=CAU', 'https://post.healthline.com/wp-content/uploads/2021/05/tacos-1200x628-facebook.jpg', 'https://www.vegrecipesofindia.com/wp-content/uploads/2018/02/veg-taco-recipe.jpg', 'https://encrypted-tbn0.gstatic.com/images?q=tbn:ANd9GcR6tmeFyNlbmAWRlZ2T4awsVuun-lw0Wju0vQ&usqp=CAU', 'https://images-gmi-pmc.edge-generalmills.com/e59f255c-7498-4b84-9c9d-e578bf5d88fc.jpg', 'https://hips.hearstapps.com/hmg-prod.s3.amazonaws.com/images/smoky-beef-tacos-recipe-1556291028.jpg', 'https://www.wearegurgaon.com//wp-content/uploads/2019/05/tacos-friction-the-drinkery-gurgaon.jpg', 'https://encrypted-tbn0.gstatic.com/images?q=tbn:ANd9GcSYabB-Hs2R-Libq9cBlj_YwjQhkJZ_wa3mVQ&usqp=CAU', 'https://i2.wp.com/www.downshiftology.com/wp-content/uploads/2018/04/Carne-Asada-Tacos-main-3.jpg', 'https://www.wearegurgaon.com/wp-content/uploads/2017/10/twisted-tacos-gurgaon-2.jpg', 'https://d1uz88p17r663j.cloudfront.net/original/32bfcaf831e22d6d7ec102ceda99044d_Maggi_-_Chicken_Tacos.jpg', 'https://s23209.pcdn.co/wp-content/uploads/2019/08/Easy-Chicken-TacosIMG_9890.jpg', 'https://foodfolksandfun.net/wp-content/uploads/2017/05/Picadillo-Tacos.jpg', 'https://static01.nyt.com/images/2020/07/09/dining/fish-tacos-horizontal/merlin_125553677_41461c04-77ba-456c-8a57-eeed2227f542-articleLarge.jpg', 'https://encrypted-tbn0.gstatic.com/images?q=tbn:ANd9GcSMDquG5kyPBEWiM7HSYHG4X4GUQ6YAkT5fUg&usqp=CAU', 'https://www.wearegurgaon.com//wp-content/uploads/2017/10/twisted-tacos-gurgaon-1.jpg', 'https://d4t7t8y8xqo0t.cloudfront.net/resized/1080X/group%2F3236%2Fmenu%2Fmenu020190320093210.jpg', 'https://encrypted-tbn0.gstatic.com/images?q=tbn:ANd9GcQW-Gaxi7fyjAVskBGeVyL_U6SUJ9hPpzj4XQ&usqp=CAU', 'https://hips.hearstapps.com/del.h-cdn.co/assets/18/11/1520956952-chicken-tacos-horizontal.jpg', 'https://d4t7t8y8xqo0t.cloudfront.net/resized/750X436/eazytrendz%2F2483%2Ftrend20190708052438.jpg', 'https://www.seriouseats.com/thmb/EAwyskovb4VA2HjXLc4xald4cZ8=/1500x1125/filters:fill(auto,1)/20210712-tacos-al-pastor-melissa-hom-seriouseats-37-f72cdd02c9574bceb1eef1c8a23b76ed.jpg', 'https://encrypted-tbn0.gstatic.com/images?q=tbn:ANd9GcSnHsoV1vF10xeznNr9PIydu8YBnQSHEESHrg&usqp=CAU', 'https://encrypted-tbn0.gstatic.com/images?q=tbn:ANd9GcT9j5towNOLhqD4ZPfqDRLhAQLsAUP-sIpReQ&usqp=CAU', 'https://www.acouplecooks.com/wp-content/uploads/2021/01/Tofu-Tacos-023-368x368.jpg', 'https://encrypted-tbn0.gstatic.com/images?q=tbn:ANd9GcRgiDz_E9SzLte-3OebARLQcMRtZLrP1hyJHg&usqp=CAU', 'https://encrypted-tbn0.gstatic.com/images?q=tbn:ANd9GcTkeL1cMgPskioUq_-2A-p2sh_HXW6NmHcevQ&usqp=CAU', 'https://dairyfarmersofcanada.ca/sites/default/files/image_file_browser/conso_recipe/2021/South%20Of%20The%20Border%20Beef%20Tacos.jpg', 'https://encrypted-tbn0.gstatic.com/images?q=tbn:ANd9GcRNgPcOB6y8FQc0QMVB_zZJ-5oC6LUKzMWDrw&usqp=CAU', 'https://encrypted-tbn0.gstatic.com/images?q=tbn:ANd9GcR2VUOhE8w-pZrIjwsE31qB9jWqTIUjxHrVeg&usqp=CAU', 'https://cookieandkate.com/images/2018/08/Sweet-Corn-and-Black-Bean-Tacos-recipe-2-1.jpg', 'https://encrypted-tbn0.gstatic.com/images?q=tbn:ANd9GcTlQrIn3doMs7OiFXFwnqr3OycEGdJaoZrFCQ&usqp=CAU', 'https://encrypted-tbn0.gstatic.com/images?q=tbn:ANd9GcTT3Ol9EOnXNsiUqMCsnslc5MuT5XyrERDIkg&usqp=CAU', 'https://encrypted-tbn0.gstatic.com/images?q=tbn:ANd9GcQaHBPEtlcCSntPsYR6DfksYiaToW4-ENfHLQ&usqp=CAU', 'https://c.ndtvimg.com/2021-09/10cgsus8_tacos_625x300_09_September_21.jpg', 'https://encrypted-tbn0.gstatic.com/images?q=tbn:ANd9GcSThR9m06j4IJUEsfVn73VzJ_fHXxvuRvdAQg&usqp=CAU', 'https://media.gettyimages.com/photos/small-4inch-soft-beef-tacos-picture-id1146906219?s=612x612', 'https://encrypted-tbn0.gstatic.com/images?q=tbn:ANd9GcRvVAk5DHC6htjgeaTMSr_MZG38ybEWqp4JqA&usqp=CAU', 'https://encrypted-tbn0.gstatic.com/images?q=tbn:ANd9GcTKmFDC4zsK3k9VBvx4gKyIZGECG4rQ5oLXRQ&usqp=CAU', 'https://encrypted-tbn0.gstatic.com/images?q=tbn:ANd9GcQ3c3G6VxoOwbWlk1RvXlqiM8OwCeJLvHrpyg&usqp=CAU', 'https://encrypted-tbn0.gstatic.com/images?q=tbn:ANd9GcRYr58ZO2IXfzXzizyn9hB1j5j_b-aJ4_G6MQ&usqp=CAU', 'https://media-cdn.tripadvisor.com/media/photo-s/0e/1a/d4/4a/photo4jpg.jpg'}\n"
     ]
    },
    {
     "name": "stderr",
     "output_type": "stream",
     "text": [
      "C:\\Users\\mandeep.singh\\Anaconda3\\lib\\site-packages\\urllib3\\connectionpool.py:1013: InsecureRequestWarning: Unverified HTTPS request is being made to host 'encrypted-tbn0.gstatic.com'. Adding certificate verification is strongly advised. See: https://urllib3.readthedocs.io/en/latest/advanced-usage.html#ssl-warnings\n",
      "  warnings.warn(\n"
     ]
    },
    {
     "name": "stdout",
     "output_type": "stream",
     "text": [
      "SUCCESS - saved https://encrypted-tbn0.gstatic.com/images?q=tbn:ANd9GcSCsF-3722t6jvAaysv2Nv9o95qVq6O_PvrFQ&usqp=CAU - as ./images\\tacos\\cf63f774c7.jpg\n"
     ]
    },
    {
     "name": "stderr",
     "output_type": "stream",
     "text": [
      "C:\\Users\\mandeep.singh\\Anaconda3\\lib\\site-packages\\urllib3\\connectionpool.py:1013: InsecureRequestWarning: Unverified HTTPS request is being made to host 'assets3.thrillist.com'. Adding certificate verification is strongly advised. See: https://urllib3.readthedocs.io/en/latest/advanced-usage.html#ssl-warnings\n",
      "  warnings.warn(\n"
     ]
    },
    {
     "name": "stdout",
     "output_type": "stream",
     "text": [
      "SUCCESS - saved https://assets3.thrillist.com/v1/image/2798454/414x310/crop;webp=auto;jpeg_quality=60;progressive.jpg - as ./images\\tacos\\d889b79f65.jpg\n"
     ]
    },
    {
     "name": "stderr",
     "output_type": "stream",
     "text": [
      "C:\\Users\\mandeep.singh\\Anaconda3\\lib\\site-packages\\urllib3\\connectionpool.py:1013: InsecureRequestWarning: Unverified HTTPS request is being made to host 'encrypted-tbn0.gstatic.com'. Adding certificate verification is strongly advised. See: https://urllib3.readthedocs.io/en/latest/advanced-usage.html#ssl-warnings\n",
      "  warnings.warn(\n"
     ]
    },
    {
     "name": "stdout",
     "output_type": "stream",
     "text": [
      "SUCCESS - saved https://encrypted-tbn0.gstatic.com/images?q=tbn:ANd9GcS3PNo6nW2b2PLz7PQPtnE7fa4L1REILp5Fcw&usqp=CAU - as ./images\\tacos\\443a393890.jpg\n"
     ]
    },
    {
     "name": "stderr",
     "output_type": "stream",
     "text": [
      "C:\\Users\\mandeep.singh\\Anaconda3\\lib\\site-packages\\urllib3\\connectionpool.py:1013: InsecureRequestWarning: Unverified HTTPS request is being made to host 'encrypted-tbn0.gstatic.com'. Adding certificate verification is strongly advised. See: https://urllib3.readthedocs.io/en/latest/advanced-usage.html#ssl-warnings\n",
      "  warnings.warn(\n"
     ]
    },
    {
     "name": "stdout",
     "output_type": "stream",
     "text": [
      "SUCCESS - saved https://encrypted-tbn0.gstatic.com/images?q=tbn:ANd9GcSNn9MRfwh7ZRKI9eZ7y4w7QT4mupy_rifi3w&usqp=CAU - as ./images\\tacos\\80df74a72c.jpg\n",
      "SUCCESS - saved https://encrypted-tbn0.gstatic.com/images?q=tbn:ANd9GcRov5Lvb9OX_llHXGNu0wmN7Du5VXEpYVVyhQ&usqp=CAU - as ./images\\tacos\\513582bceb.jpg\n"
     ]
    },
    {
     "name": "stderr",
     "output_type": "stream",
     "text": [
      "C:\\Users\\mandeep.singh\\Anaconda3\\lib\\site-packages\\urllib3\\connectionpool.py:1013: InsecureRequestWarning: Unverified HTTPS request is being made to host 'encrypted-tbn0.gstatic.com'. Adding certificate verification is strongly advised. See: https://urllib3.readthedocs.io/en/latest/advanced-usage.html#ssl-warnings\n",
      "  warnings.warn(\n",
      "C:\\Users\\mandeep.singh\\Anaconda3\\lib\\site-packages\\urllib3\\connectionpool.py:1013: InsecureRequestWarning: Unverified HTTPS request is being made to host 'encrypted-tbn0.gstatic.com'. Adding certificate verification is strongly advised. See: https://urllib3.readthedocs.io/en/latest/advanced-usage.html#ssl-warnings\n",
      "  warnings.warn(\n"
     ]
    },
    {
     "name": "stdout",
     "output_type": "stream",
     "text": [
      "SUCCESS - saved https://encrypted-tbn0.gstatic.com/images?q=tbn:ANd9GcROYkz-zZRhP_BnTC8YgS6507S7uyDAATJlBg&usqp=CAU - as ./images\\tacos\\be46dfdd94.jpg\n"
     ]
    },
    {
     "name": "stderr",
     "output_type": "stream",
     "text": [
      "C:\\Users\\mandeep.singh\\Anaconda3\\lib\\site-packages\\urllib3\\connectionpool.py:1013: InsecureRequestWarning: Unverified HTTPS request is being made to host 'encrypted-tbn0.gstatic.com'. Adding certificate verification is strongly advised. See: https://urllib3.readthedocs.io/en/latest/advanced-usage.html#ssl-warnings\n",
      "  warnings.warn(\n"
     ]
    },
    {
     "name": "stdout",
     "output_type": "stream",
     "text": [
      "SUCCESS - saved https://encrypted-tbn0.gstatic.com/images?q=tbn:ANd9GcQ1D2S2DMGKsxnDaXd8tTxxIuz5Nrjubb_cfQ&usqp=CAU - as ./images\\tacos\\1411ddb819.jpg\n"
     ]
    },
    {
     "name": "stderr",
     "output_type": "stream",
     "text": [
      "C:\\Users\\mandeep.singh\\Anaconda3\\lib\\site-packages\\urllib3\\connectionpool.py:1013: InsecureRequestWarning: Unverified HTTPS request is being made to host 'encrypted-tbn0.gstatic.com'. Adding certificate verification is strongly advised. See: https://urllib3.readthedocs.io/en/latest/advanced-usage.html#ssl-warnings\n",
      "  warnings.warn(\n"
     ]
    },
    {
     "name": "stdout",
     "output_type": "stream",
     "text": [
      "SUCCESS - saved https://encrypted-tbn0.gstatic.com/images?q=tbn:ANd9GcT8XR9MAv-F6zUwAVxQGNV9FDc628G_LdJ6hg&usqp=CAU - as ./images\\tacos\\9699a1bfc2.jpg\n"
     ]
    },
    {
     "name": "stderr",
     "output_type": "stream",
     "text": [
      "C:\\Users\\mandeep.singh\\Anaconda3\\lib\\site-packages\\urllib3\\connectionpool.py:1013: InsecureRequestWarning: Unverified HTTPS request is being made to host 'www.seriouseats.com'. Adding certificate verification is strongly advised. See: https://urllib3.readthedocs.io/en/latest/advanced-usage.html#ssl-warnings\n",
      "  warnings.warn(\n"
     ]
    },
    {
     "name": "stdout",
     "output_type": "stream",
     "text": [
      "SUCCESS - saved https://www.seriouseats.com/thmb/Y0NVy0pgmmjpYSWVT8Q2bQHrfOw=/1500x844/smart/filters:no_upscale()/20210710-chorizo-tacos-rice-diana-chistruga-seriouseats-1-4e85bbb2046a44f1996cfff899e9de40.jpg - as ./images\\tacos\\75ac9ca78a.jpg\n",
      "SUCCESS - saved https://encrypted-tbn0.gstatic.com/images?q=tbn:ANd9GcTfwb7urabiHKRYH6a0dwDpToMvMqf60nmjyA&usqp=CAU - as ./images\\tacos\\e435dd0b20.jpg\n"
     ]
    },
    {
     "name": "stderr",
     "output_type": "stream",
     "text": [
      "C:\\Users\\mandeep.singh\\Anaconda3\\lib\\site-packages\\urllib3\\connectionpool.py:1013: InsecureRequestWarning: Unverified HTTPS request is being made to host 'encrypted-tbn0.gstatic.com'. Adding certificate verification is strongly advised. See: https://urllib3.readthedocs.io/en/latest/advanced-usage.html#ssl-warnings\n",
      "  warnings.warn(\n",
      "C:\\Users\\mandeep.singh\\Anaconda3\\lib\\site-packages\\urllib3\\connectionpool.py:1013: InsecureRequestWarning: Unverified HTTPS request is being made to host 'encrypted-tbn0.gstatic.com'. Adding certificate verification is strongly advised. See: https://urllib3.readthedocs.io/en/latest/advanced-usage.html#ssl-warnings\n",
      "  warnings.warn(\n"
     ]
    },
    {
     "name": "stdout",
     "output_type": "stream",
     "text": [
      "SUCCESS - saved https://encrypted-tbn0.gstatic.com/images?q=tbn:ANd9GcTMKmZPgUPB6CA1MKdOMZwZZ0idvmygurS0zw&usqp=CAU - as ./images\\tacos\\ecef2951e5.jpg\n"
     ]
    },
    {
     "name": "stderr",
     "output_type": "stream",
     "text": [
      "C:\\Users\\mandeep.singh\\Anaconda3\\lib\\site-packages\\urllib3\\connectionpool.py:1013: InsecureRequestWarning: Unverified HTTPS request is being made to host 'cookieandkate.com'. Adding certificate verification is strongly advised. See: https://urllib3.readthedocs.io/en/latest/advanced-usage.html#ssl-warnings\n",
      "  warnings.warn(\n"
     ]
    },
    {
     "name": "stdout",
     "output_type": "stream",
     "text": [
      "SUCCESS - saved https://cookieandkate.com/images/2018/04/delicious-vegetarian-tacos-recipe.jpg - as ./images\\tacos\\8b19f0427a.jpg\n"
     ]
    },
    {
     "name": "stderr",
     "output_type": "stream",
     "text": [
      "C:\\Users\\mandeep.singh\\Anaconda3\\lib\\site-packages\\urllib3\\connectionpool.py:1013: InsecureRequestWarning: Unverified HTTPS request is being made to host 'www.simplyrecipes.com'. Adding certificate verification is strongly advised. See: https://urllib3.readthedocs.io/en/latest/advanced-usage.html#ssl-warnings\n",
      "  warnings.warn(\n"
     ]
    },
    {
     "name": "stdout",
     "output_type": "stream",
     "text": [
      "SUCCESS - saved https://www.simplyrecipes.com/thmb/6hCSYU4xi-0taIEXwtZNZCydL34=/3190x2127/filters:no_upscale():max_bytes(150000):strip_icc()/Simply-Recipes-Veggie-Tacos-LEAD-2-2fa9781c94da4b9797af48af47313854.jpg - as ./images\\tacos\\a58fc4bfdd.jpg\n",
      "SUCCESS - saved https://encrypted-tbn0.gstatic.com/images?q=tbn:ANd9GcTC6r-rtfKjL7A2MkYE--jRghbmfhOzw90aUA&usqp=CAU - as ./images\\tacos\\c9057f1da6.jpg\n"
     ]
    },
    {
     "name": "stderr",
     "output_type": "stream",
     "text": [
      "C:\\Users\\mandeep.singh\\Anaconda3\\lib\\site-packages\\urllib3\\connectionpool.py:1013: InsecureRequestWarning: Unverified HTTPS request is being made to host 'encrypted-tbn0.gstatic.com'. Adding certificate verification is strongly advised. See: https://urllib3.readthedocs.io/en/latest/advanced-usage.html#ssl-warnings\n",
      "  warnings.warn(\n",
      "C:\\Users\\mandeep.singh\\Anaconda3\\lib\\site-packages\\urllib3\\connectionpool.py:1013: InsecureRequestWarning: Unverified HTTPS request is being made to host 'ca-times.brightspotcdn.com'. Adding certificate verification is strongly advised. See: https://urllib3.readthedocs.io/en/latest/advanced-usage.html#ssl-warnings\n",
      "  warnings.warn(\n"
     ]
    },
    {
     "name": "stdout",
     "output_type": "stream",
     "text": [
      "SUCCESS - saved https://ca-times.brightspotcdn.com/dims4/default/9d1f2b3/2147483647/strip/true/crop/3100x1936+0+788/resize/1044x652!/quality/90/?url=https%3A%2F%2Fcalifornia-times-brightspot.s3.amazonaws.com%2F27%2Fd9%2F480cd03d42cf9c6645f109af768b%2Ffinal-tacos-tuxpenos.JPG - as ./images\\tacos\\ed14ff6476.jpg\n"
     ]
    },
    {
     "name": "stderr",
     "output_type": "stream",
     "text": [
      "C:\\Users\\mandeep.singh\\Anaconda3\\lib\\site-packages\\urllib3\\connectionpool.py:1013: InsecureRequestWarning: Unverified HTTPS request is being made to host 'encrypted-tbn0.gstatic.com'. Adding certificate verification is strongly advised. See: https://urllib3.readthedocs.io/en/latest/advanced-usage.html#ssl-warnings\n",
      "  warnings.warn(\n",
      "C:\\Users\\mandeep.singh\\Anaconda3\\lib\\site-packages\\urllib3\\connectionpool.py:1013: InsecureRequestWarning: Unverified HTTPS request is being made to host 'encrypted-tbn0.gstatic.com'. Adding certificate verification is strongly advised. See: https://urllib3.readthedocs.io/en/latest/advanced-usage.html#ssl-warnings\n",
      "  warnings.warn(\n"
     ]
    },
    {
     "name": "stdout",
     "output_type": "stream",
     "text": [
      "SUCCESS - saved https://encrypted-tbn0.gstatic.com/images?q=tbn:ANd9GcQli0rEwuMjUfZQ_iTxGgxAUbFM0pZMGN0PrQ&usqp=CAU - as ./images\\tacos\\5ceddad2e5.jpg\n",
      "SUCCESS - saved https://encrypted-tbn0.gstatic.com/images?q=tbn:ANd9GcR7QpSgYtOzqYUPZnVAe22W9VYLrcGVRWUcEA&usqp=CAU - as ./images\\tacos\\ecf2eca62a.jpg\n"
     ]
    },
    {
     "name": "stderr",
     "output_type": "stream",
     "text": [
      "C:\\Users\\mandeep.singh\\Anaconda3\\lib\\site-packages\\urllib3\\connectionpool.py:1013: InsecureRequestWarning: Unverified HTTPS request is being made to host 'encrypted-tbn0.gstatic.com'. Adding certificate verification is strongly advised. See: https://urllib3.readthedocs.io/en/latest/advanced-usage.html#ssl-warnings\n",
      "  warnings.warn(\n"
     ]
    },
    {
     "name": "stdout",
     "output_type": "stream",
     "text": [
      "SUCCESS - saved https://encrypted-tbn0.gstatic.com/images?q=tbn:ANd9GcQLK3JuHpnglaWBCHt_3kNaMQUdGCnsWyOLaQ&usqp=CAU - as ./images\\tacos\\0ac8790f56.jpg\n"
     ]
    },
    {
     "name": "stderr",
     "output_type": "stream",
     "text": [
      "C:\\Users\\mandeep.singh\\Anaconda3\\lib\\site-packages\\urllib3\\connectionpool.py:1013: InsecureRequestWarning: Unverified HTTPS request is being made to host 'encrypted-tbn0.gstatic.com'. Adding certificate verification is strongly advised. See: https://urllib3.readthedocs.io/en/latest/advanced-usage.html#ssl-warnings\n",
      "  warnings.warn(\n",
      "C:\\Users\\mandeep.singh\\Anaconda3\\lib\\site-packages\\urllib3\\connectionpool.py:1013: InsecureRequestWarning: Unverified HTTPS request is being made to host 'encrypted-tbn0.gstatic.com'. Adding certificate verification is strongly advised. See: https://urllib3.readthedocs.io/en/latest/advanced-usage.html#ssl-warnings\n",
      "  warnings.warn(\n"
     ]
    },
    {
     "name": "stdout",
     "output_type": "stream",
     "text": [
      "SUCCESS - saved https://encrypted-tbn0.gstatic.com/images?q=tbn:ANd9GcT_wid7GxV67Kis-MAP7JFEB8itc0tKxHYe7g&usqp=CAU - as ./images\\tacos\\37b4041f6d.jpg\n",
      "SUCCESS - saved https://encrypted-tbn0.gstatic.com/images?q=tbn:ANd9GcRW1XN394dUUR2wA8qBXXDlYz3NexHvmS9kIg&usqp=CAU - as ./images\\tacos\\1a782ad98d.jpg\n"
     ]
    },
    {
     "name": "stderr",
     "output_type": "stream",
     "text": [
      "C:\\Users\\mandeep.singh\\Anaconda3\\lib\\site-packages\\urllib3\\connectionpool.py:1013: InsecureRequestWarning: Unverified HTTPS request is being made to host 'encrypted-tbn0.gstatic.com'. Adding certificate verification is strongly advised. See: https://urllib3.readthedocs.io/en/latest/advanced-usage.html#ssl-warnings\n",
      "  warnings.warn(\n",
      "C:\\Users\\mandeep.singh\\Anaconda3\\lib\\site-packages\\urllib3\\connectionpool.py:1013: InsecureRequestWarning: Unverified HTTPS request is being made to host 'encrypted-tbn0.gstatic.com'. Adding certificate verification is strongly advised. See: https://urllib3.readthedocs.io/en/latest/advanced-usage.html#ssl-warnings\n",
      "  warnings.warn(\n"
     ]
    },
    {
     "name": "stdout",
     "output_type": "stream",
     "text": [
      "SUCCESS - saved https://encrypted-tbn0.gstatic.com/images?q=tbn:ANd9GcRl2qFPODp3j27M4A7W7_b2DS018RL-TDQoFQ&usqp=CAU - as ./images\\tacos\\7e50ba7d6b.jpg\n",
      "SUCCESS - saved https://encrypted-tbn0.gstatic.com/images?q=tbn:ANd9GcTx-tPBbZKoOQuLoJTN2vlQko-KlU3EhxcnZg&usqp=CAU - as ./images\\tacos\\d43d84b12e.jpg\n"
     ]
    },
    {
     "name": "stderr",
     "output_type": "stream",
     "text": [
      "C:\\Users\\mandeep.singh\\Anaconda3\\lib\\site-packages\\urllib3\\connectionpool.py:1013: InsecureRequestWarning: Unverified HTTPS request is being made to host 'encrypted-tbn0.gstatic.com'. Adding certificate verification is strongly advised. See: https://urllib3.readthedocs.io/en/latest/advanced-usage.html#ssl-warnings\n",
      "  warnings.warn(\n",
      "C:\\Users\\mandeep.singh\\Anaconda3\\lib\\site-packages\\urllib3\\connectionpool.py:1013: InsecureRequestWarning: Unverified HTTPS request is being made to host 'encrypted-tbn0.gstatic.com'. Adding certificate verification is strongly advised. See: https://urllib3.readthedocs.io/en/latest/advanced-usage.html#ssl-warnings\n",
      "  warnings.warn(\n"
     ]
    },
    {
     "name": "stdout",
     "output_type": "stream",
     "text": [
      "SUCCESS - saved https://encrypted-tbn0.gstatic.com/images?q=tbn:ANd9GcSsW4WRD3wAgydljBBHMMVLIVdlzmy-3G3NJQ&usqp=CAU - as ./images\\tacos\\2292b6b6ac.jpg\n",
      "SUCCESS - saved https://encrypted-tbn0.gstatic.com/images?q=tbn:ANd9GcQwm9vht-iPmuspB4dmx7YSSo_IDHmdur8sWQ&usqp=CAU - as ./images\\tacos\\6695c810b0.jpg\n"
     ]
    },
    {
     "name": "stderr",
     "output_type": "stream",
     "text": [
      "C:\\Users\\mandeep.singh\\Anaconda3\\lib\\site-packages\\urllib3\\connectionpool.py:1013: InsecureRequestWarning: Unverified HTTPS request is being made to host 'encrypted-tbn0.gstatic.com'. Adding certificate verification is strongly advised. See: https://urllib3.readthedocs.io/en/latest/advanced-usage.html#ssl-warnings\n",
      "  warnings.warn(\n"
     ]
    },
    {
     "name": "stdout",
     "output_type": "stream",
     "text": [
      "SUCCESS - saved https://encrypted-tbn0.gstatic.com/images?q=tbn:ANd9GcQpDpHgwUA1a4xKWswI7JiDiFmzRBXbSDMu7Q&usqp=CAU - as ./images\\tacos\\7c5ea0f274.jpg\n"
     ]
    },
    {
     "name": "stderr",
     "output_type": "stream",
     "text": [
      "C:\\Users\\mandeep.singh\\Anaconda3\\lib\\site-packages\\urllib3\\connectionpool.py:1013: InsecureRequestWarning: Unverified HTTPS request is being made to host 'encrypted-tbn0.gstatic.com'. Adding certificate verification is strongly advised. See: https://urllib3.readthedocs.io/en/latest/advanced-usage.html#ssl-warnings\n",
      "  warnings.warn(\n",
      "C:\\Users\\mandeep.singh\\Anaconda3\\lib\\site-packages\\urllib3\\connectionpool.py:1013: InsecureRequestWarning: Unverified HTTPS request is being made to host 'encrypted-tbn0.gstatic.com'. Adding certificate verification is strongly advised. See: https://urllib3.readthedocs.io/en/latest/advanced-usage.html#ssl-warnings\n",
      "  warnings.warn(\n"
     ]
    },
    {
     "name": "stdout",
     "output_type": "stream",
     "text": [
      "SUCCESS - saved https://encrypted-tbn0.gstatic.com/images?q=tbn:ANd9GcQy9VWp4x6lU5eXi1BuwZQU7L0RRqSvsK-Dgg&usqp=CAU - as ./images\\tacos\\4c2935b15c.jpg\n",
      "SUCCESS - saved https://encrypted-tbn0.gstatic.com/images?q=tbn:ANd9GcTqQwCsYwjSj5BoBpfwKczDzixLeWOZchYKdQ&usqp=CAU - as ./images\\tacos\\af324f9362.jpg\n"
     ]
    },
    {
     "name": "stderr",
     "output_type": "stream",
     "text": [
      "C:\\Users\\mandeep.singh\\Anaconda3\\lib\\site-packages\\urllib3\\connectionpool.py:1013: InsecureRequestWarning: Unverified HTTPS request is being made to host 'www.thewholesomedish.com'. Adding certificate verification is strongly advised. See: https://urllib3.readthedocs.io/en/latest/advanced-usage.html#ssl-warnings\n",
      "  warnings.warn(\n"
     ]
    },
    {
     "name": "stdout",
     "output_type": "stream",
     "text": [
      "SUCCESS - saved https://www.thewholesomedish.com/wp-content/uploads/2019/06/The-Best-Classic-Tacos-550-500x500.jpg - as ./images\\tacos\\a3d2a81959.jpg\n"
     ]
    },
    {
     "name": "stderr",
     "output_type": "stream",
     "text": [
      "C:\\Users\\mandeep.singh\\Anaconda3\\lib\\site-packages\\urllib3\\connectionpool.py:1013: InsecureRequestWarning: Unverified HTTPS request is being made to host 'encrypted-tbn0.gstatic.com'. Adding certificate verification is strongly advised. See: https://urllib3.readthedocs.io/en/latest/advanced-usage.html#ssl-warnings\n",
      "  warnings.warn(\n"
     ]
    },
    {
     "name": "stdout",
     "output_type": "stream",
     "text": [
      "SUCCESS - saved https://encrypted-tbn0.gstatic.com/images?q=tbn:ANd9GcRyvjquG-W3r76590xGqMaBNWnIO0PmwkZZEQ&usqp=CAU - as ./images\\tacos\\35f1251df2.jpg\n"
     ]
    },
    {
     "name": "stderr",
     "output_type": "stream",
     "text": [
      "C:\\Users\\mandeep.singh\\Anaconda3\\lib\\site-packages\\urllib3\\connectionpool.py:1013: InsecureRequestWarning: Unverified HTTPS request is being made to host 'encrypted-tbn0.gstatic.com'. Adding certificate verification is strongly advised. See: https://urllib3.readthedocs.io/en/latest/advanced-usage.html#ssl-warnings\n",
      "  warnings.warn(\n"
     ]
    },
    {
     "name": "stdout",
     "output_type": "stream",
     "text": [
      "SUCCESS - saved https://encrypted-tbn0.gstatic.com/images?q=tbn:ANd9GcTHLBDR7zxBFy7NZ6sW1T-bINurtRgBfOH13w&usqp=CAU - as ./images\\tacos\\ea6ac90474.jpg\n"
     ]
    },
    {
     "name": "stderr",
     "output_type": "stream",
     "text": [
      "C:\\Users\\mandeep.singh\\Anaconda3\\lib\\site-packages\\urllib3\\connectionpool.py:1013: InsecureRequestWarning: Unverified HTTPS request is being made to host 'cookieandkate.com'. Adding certificate verification is strongly advised. See: https://urllib3.readthedocs.io/en/latest/advanced-usage.html#ssl-warnings\n",
      "  warnings.warn(\n"
     ]
    },
    {
     "name": "stdout",
     "output_type": "stream",
     "text": [
      "SUCCESS - saved https://cookieandkate.com/images/2018/04/vegetarian-bean-tacos-recipe-3.jpg - as ./images\\tacos\\933d7402da.jpg\n"
     ]
    },
    {
     "name": "stderr",
     "output_type": "stream",
     "text": [
      "C:\\Users\\mandeep.singh\\Anaconda3\\lib\\site-packages\\urllib3\\connectionpool.py:1013: InsecureRequestWarning: Unverified HTTPS request is being made to host 'encrypted-tbn0.gstatic.com'. Adding certificate verification is strongly advised. See: https://urllib3.readthedocs.io/en/latest/advanced-usage.html#ssl-warnings\n",
      "  warnings.warn(\n"
     ]
    },
    {
     "name": "stdout",
     "output_type": "stream",
     "text": [
      "SUCCESS - saved https://encrypted-tbn0.gstatic.com/images?q=tbn:ANd9GcRw2tpE4jC21mnf914HXs4YqqXASsFJV9zCgg&usqp=CAU - as ./images\\tacos\\a9a591adeb.jpg\n"
     ]
    },
    {
     "name": "stderr",
     "output_type": "stream",
     "text": [
      "C:\\Users\\mandeep.singh\\Anaconda3\\lib\\site-packages\\urllib3\\connectionpool.py:1013: InsecureRequestWarning: Unverified HTTPS request is being made to host 'res.cloudinary.com'. Adding certificate verification is strongly advised. See: https://urllib3.readthedocs.io/en/latest/advanced-usage.html#ssl-warnings\n",
      "  warnings.warn(\n"
     ]
    },
    {
     "name": "stdout",
     "output_type": "stream",
     "text": [
      "SUCCESS - saved https://res.cloudinary.com/swiggy/image/upload/fl_lossy,f_auto,q_auto,w_508,h_320,c_fill/dnm8j7gjzkvdvb9gpi9i - as ./images\\tacos\\cc3d92a1da.jpg\n"
     ]
    },
    {
     "name": "stderr",
     "output_type": "stream",
     "text": [
      "C:\\Users\\mandeep.singh\\Anaconda3\\lib\\site-packages\\urllib3\\connectionpool.py:1013: InsecureRequestWarning: Unverified HTTPS request is being made to host 'www.pcrm.org'. Adding certificate verification is strongly advised. See: https://urllib3.readthedocs.io/en/latest/advanced-usage.html#ssl-warnings\n",
      "  warnings.warn(\n"
     ]
    },
    {
     "name": "stdout",
     "output_type": "stream",
     "text": [
      "SUCCESS - saved https://www.pcrm.org/sites/default/files/2019-08/chichpea-tacos-7.jpg - as ./images\\tacos\\7c2ee21321.jpg\n",
      "SUCCESS - saved https://encrypted-tbn0.gstatic.com/images?q=tbn:ANd9GcRfNo85uSGz6SZpxZagZupwqnBEXN4fxm2A5g&usqp=CAU - as ./images\\tacos\\c1c944564a.jpg\n"
     ]
    },
    {
     "name": "stderr",
     "output_type": "stream",
     "text": [
      "C:\\Users\\mandeep.singh\\Anaconda3\\lib\\site-packages\\urllib3\\connectionpool.py:1013: InsecureRequestWarning: Unverified HTTPS request is being made to host 'encrypted-tbn0.gstatic.com'. Adding certificate verification is strongly advised. See: https://urllib3.readthedocs.io/en/latest/advanced-usage.html#ssl-warnings\n",
      "  warnings.warn(\n",
      "C:\\Users\\mandeep.singh\\Anaconda3\\lib\\site-packages\\urllib3\\connectionpool.py:1013: InsecureRequestWarning: Unverified HTTPS request is being made to host 'encrypted-tbn0.gstatic.com'. Adding certificate verification is strongly advised. See: https://urllib3.readthedocs.io/en/latest/advanced-usage.html#ssl-warnings\n",
      "  warnings.warn(\n",
      "C:\\Users\\mandeep.singh\\Anaconda3\\lib\\site-packages\\urllib3\\connectionpool.py:1013: InsecureRequestWarning: Unverified HTTPS request is being made to host 'encrypted-tbn0.gstatic.com'. Adding certificate verification is strongly advised. See: https://urllib3.readthedocs.io/en/latest/advanced-usage.html#ssl-warnings\n",
      "  warnings.warn(\n"
     ]
    },
    {
     "name": "stdout",
     "output_type": "stream",
     "text": [
      "SUCCESS - saved https://encrypted-tbn0.gstatic.com/images?q=tbn:ANd9GcSKgaI9l3T33GWuFdBIDiQTb-L0DJzkPpILeA&usqp=CAU - as ./images\\tacos\\b07238dd46.jpg\n",
      "SUCCESS - saved https://encrypted-tbn0.gstatic.com/images?q=tbn:ANd9GcTJ83jDv2NBI8559N1I6fG3hH0Hs5BWefP3IQ&usqp=CAU - as ./images\\tacos\\c6e12e3f9b.jpg\n"
     ]
    },
    {
     "name": "stderr",
     "output_type": "stream",
     "text": [
      "C:\\Users\\mandeep.singh\\Anaconda3\\lib\\site-packages\\urllib3\\connectionpool.py:1013: InsecureRequestWarning: Unverified HTTPS request is being made to host 'encrypted-tbn0.gstatic.com'. Adding certificate verification is strongly advised. See: https://urllib3.readthedocs.io/en/latest/advanced-usage.html#ssl-warnings\n",
      "  warnings.warn(\n"
     ]
    },
    {
     "name": "stdout",
     "output_type": "stream",
     "text": [
      "SUCCESS - saved https://encrypted-tbn0.gstatic.com/images?q=tbn:ANd9GcTpikeFPQDvM0IeBCK4Cv5w5Q_OvfmpLXl_HQ&usqp=CAU - as ./images\\tacos\\767376efac.jpg\n"
     ]
    },
    {
     "name": "stderr",
     "output_type": "stream",
     "text": [
      "C:\\Users\\mandeep.singh\\Anaconda3\\lib\\site-packages\\urllib3\\connectionpool.py:1013: InsecureRequestWarning: Unverified HTTPS request is being made to host 'recipetineats.com'. Adding certificate verification is strongly advised. See: https://urllib3.readthedocs.io/en/latest/advanced-usage.html#ssl-warnings\n",
      "  warnings.warn(\n"
     ]
    },
    {
     "name": "stdout",
     "output_type": "stream",
     "text": [
      "SUCCESS - saved https://recipetineats.com/wp-content/uploads/2019/03/Chicken-Tacos_3.jpg - as ./images\\tacos\\4d4659e564.jpg\n"
     ]
    },
    {
     "name": "stderr",
     "output_type": "stream",
     "text": [
      "C:\\Users\\mandeep.singh\\Anaconda3\\lib\\site-packages\\urllib3\\connectionpool.py:1013: InsecureRequestWarning: Unverified HTTPS request is being made to host 'encrypted-tbn0.gstatic.com'. Adding certificate verification is strongly advised. See: https://urllib3.readthedocs.io/en/latest/advanced-usage.html#ssl-warnings\n",
      "  warnings.warn(\n"
     ]
    },
    {
     "name": "stdout",
     "output_type": "stream",
     "text": [
      "SUCCESS - saved https://encrypted-tbn0.gstatic.com/images?q=tbn:ANd9GcQJ0fNDIQPS2md0nDcU3Mmtw-Re5Qdsjrzv0Q&usqp=CAU - as ./images\\tacos\\13cfa03f51.jpg\n"
     ]
    },
    {
     "name": "stderr",
     "output_type": "stream",
     "text": [
      "C:\\Users\\mandeep.singh\\Anaconda3\\lib\\site-packages\\urllib3\\connectionpool.py:1013: InsecureRequestWarning: Unverified HTTPS request is being made to host 'www.pcrm.org'. Adding certificate verification is strongly advised. See: https://urllib3.readthedocs.io/en/latest/advanced-usage.html#ssl-warnings\n",
      "  warnings.warn(\n"
     ]
    },
    {
     "name": "stdout",
     "output_type": "stream",
     "text": [
      "SUCCESS - saved https://www.pcrm.org/sites/default/files/tacos-de-tofu-8.jpg - as ./images\\tacos\\3d046d04cd.jpg\n"
     ]
    },
    {
     "name": "stderr",
     "output_type": "stream",
     "text": [
      "C:\\Users\\mandeep.singh\\Anaconda3\\lib\\site-packages\\urllib3\\connectionpool.py:1013: InsecureRequestWarning: Unverified HTTPS request is being made to host 'encrypted-tbn0.gstatic.com'. Adding certificate verification is strongly advised. See: https://urllib3.readthedocs.io/en/latest/advanced-usage.html#ssl-warnings\n",
      "  warnings.warn(\n"
     ]
    },
    {
     "name": "stdout",
     "output_type": "stream",
     "text": [
      "SUCCESS - saved https://encrypted-tbn0.gstatic.com/images?q=tbn:ANd9GcTR0EJA6AWprTOWEJoRuAkJBt1ABV47S-rafg&usqp=CAU - as ./images\\tacos\\c0b4cc5fb6.jpg\n",
      "SUCCESS - saved https://encrypted-tbn0.gstatic.com/images?q=tbn:ANd9GcQCmXYxyfNljt9tv3N8cUnAV6XBChq845g0sA&usqp=CAU - as ./images\\tacos\\484c3a6355.jpg\n"
     ]
    },
    {
     "name": "stderr",
     "output_type": "stream",
     "text": [
      "C:\\Users\\mandeep.singh\\Anaconda3\\lib\\site-packages\\urllib3\\connectionpool.py:1013: InsecureRequestWarning: Unverified HTTPS request is being made to host 'encrypted-tbn0.gstatic.com'. Adding certificate verification is strongly advised. See: https://urllib3.readthedocs.io/en/latest/advanced-usage.html#ssl-warnings\n",
      "  warnings.warn(\n",
      "C:\\Users\\mandeep.singh\\Anaconda3\\lib\\site-packages\\urllib3\\connectionpool.py:1013: InsecureRequestWarning: Unverified HTTPS request is being made to host 'im1.dineout.co.in'. Adding certificate verification is strongly advised. See: https://urllib3.readthedocs.io/en/latest/advanced-usage.html#ssl-warnings\n",
      "  warnings.warn(\n"
     ]
    },
    {
     "name": "stdout",
     "output_type": "stream",
     "text": [
      "SUCCESS - saved https://im1.dineout.co.in/images/uploads/restaurant/sharpen/3/p/z/p3725-16058675355fb7980f645a2.jpg?tr=tr:n-large - as ./images\\tacos\\d896264178.jpg\n"
     ]
    },
    {
     "name": "stderr",
     "output_type": "stream",
     "text": [
      "C:\\Users\\mandeep.singh\\Anaconda3\\lib\\site-packages\\urllib3\\connectionpool.py:1013: InsecureRequestWarning: Unverified HTTPS request is being made to host 'encrypted-tbn0.gstatic.com'. Adding certificate verification is strongly advised. See: https://urllib3.readthedocs.io/en/latest/advanced-usage.html#ssl-warnings\n",
      "  warnings.warn(\n",
      "C:\\Users\\mandeep.singh\\Anaconda3\\lib\\site-packages\\urllib3\\connectionpool.py:1013: InsecureRequestWarning: Unverified HTTPS request is being made to host 'encrypted-tbn0.gstatic.com'. Adding certificate verification is strongly advised. See: https://urllib3.readthedocs.io/en/latest/advanced-usage.html#ssl-warnings\n",
      "  warnings.warn(\n"
     ]
    },
    {
     "name": "stdout",
     "output_type": "stream",
     "text": [
      "SUCCESS - saved https://encrypted-tbn0.gstatic.com/images?q=tbn:ANd9GcS2BKsTL8mbVaDDCv48JQe8qZqUvJmRhfEAUw&usqp=CAU - as ./images\\tacos\\4606f6fdac.jpg\n",
      "SUCCESS - saved https://encrypted-tbn0.gstatic.com/images?q=tbn:ANd9GcQlUjFsllxW99TM9Ys95RdY5XnolVHWJRuueg&usqp=CAU - as ./images\\tacos\\cd6b7456f5.jpg\n",
      "SUCCESS - saved https://encrypted-tbn0.gstatic.com/images?q=tbn:ANd9GcQ1Ote5k08outXXAtGlXU_s5ajnqBGRgQU73A&usqp=CAU - as ./images\\tacos\\651945f06d.jpg\n"
     ]
    },
    {
     "name": "stderr",
     "output_type": "stream",
     "text": [
      "C:\\Users\\mandeep.singh\\Anaconda3\\lib\\site-packages\\urllib3\\connectionpool.py:1013: InsecureRequestWarning: Unverified HTTPS request is being made to host 'encrypted-tbn0.gstatic.com'. Adding certificate verification is strongly advised. See: https://urllib3.readthedocs.io/en/latest/advanced-usage.html#ssl-warnings\n",
      "  warnings.warn(\n",
      "C:\\Users\\mandeep.singh\\Anaconda3\\lib\\site-packages\\urllib3\\connectionpool.py:1013: InsecureRequestWarning: Unverified HTTPS request is being made to host 'hips.hearstapps.com'. Adding certificate verification is strongly advised. See: https://urllib3.readthedocs.io/en/latest/advanced-usage.html#ssl-warnings\n",
      "  warnings.warn(\n"
     ]
    },
    {
     "name": "stdout",
     "output_type": "stream",
     "text": [
      "SUCCESS - saved https://hips.hearstapps.com/hmg-prod.s3.amazonaws.com/images/img-1810-1636678237.jpeg - as ./images\\tacos\\fcc187370b.jpg\n"
     ]
    },
    {
     "name": "stderr",
     "output_type": "stream",
     "text": [
      "C:\\Users\\mandeep.singh\\Anaconda3\\lib\\site-packages\\urllib3\\connectionpool.py:1013: InsecureRequestWarning: Unverified HTTPS request is being made to host 'encrypted-tbn0.gstatic.com'. Adding certificate verification is strongly advised. See: https://urllib3.readthedocs.io/en/latest/advanced-usage.html#ssl-warnings\n",
      "  warnings.warn(\n"
     ]
    },
    {
     "name": "stdout",
     "output_type": "stream",
     "text": [
      "SUCCESS - saved https://encrypted-tbn0.gstatic.com/images?q=tbn:ANd9GcRGSoPfuZJx5i4C80LAVuXxx97iwDy2jmZbcw&usqp=CAU - as ./images\\tacos\\848043517c.jpg\n"
     ]
    },
    {
     "name": "stderr",
     "output_type": "stream",
     "text": [
      "C:\\Users\\mandeep.singh\\Anaconda3\\lib\\site-packages\\urllib3\\connectionpool.py:1013: InsecureRequestWarning: Unverified HTTPS request is being made to host 'www.sbs.com.au'. Adding certificate verification is strongly advised. See: https://urllib3.readthedocs.io/en/latest/advanced-usage.html#ssl-warnings\n",
      "  warnings.warn(\n"
     ]
    },
    {
     "name": "stdout",
     "output_type": "stream",
     "text": [
      "SUCCESS - saved https://www.sbs.com.au/food/sites/sbs.com.au.food/files/styles/full/public/804-campechano-tacos.jpg?itok=Wo_YSl0N - as ./images\\tacos\\ef1142401f.jpg\n"
     ]
    },
    {
     "name": "stderr",
     "output_type": "stream",
     "text": [
      "C:\\Users\\mandeep.singh\\Anaconda3\\lib\\site-packages\\urllib3\\connectionpool.py:1013: InsecureRequestWarning: Unverified HTTPS request is being made to host 'food.fnr.sndimg.com'. Adding certificate verification is strongly advised. See: https://urllib3.readthedocs.io/en/latest/advanced-usage.html#ssl-warnings\n",
      "  warnings.warn(\n",
      "C:\\Users\\mandeep.singh\\Anaconda3\\lib\\site-packages\\urllib3\\connectionpool.py:1013: InsecureRequestWarning: Unverified HTTPS request is being made to host 'encrypted-tbn0.gstatic.com'. Adding certificate verification is strongly advised. See: https://urllib3.readthedocs.io/en/latest/advanced-usage.html#ssl-warnings\n",
      "  warnings.warn(\n"
     ]
    },
    {
     "name": "stdout",
     "output_type": "stream",
     "text": [
      "SUCCESS - saved https://food.fnr.sndimg.com/content/dam/images/food/fullset/2014/8/12/1/FN_15-Minute-Stir-Fried-Steak-Tacos_s4x3.jpg.rend.hgtvcom.616.462.suffix/1407925012139.jpeg - as ./images\\tacos\\c08992ead3.jpg\n",
      "SUCCESS - saved https://encrypted-tbn0.gstatic.com/images?q=tbn:ANd9GcQWabzmsgwpyTkZy1ek6QX_oEJqrIIgA2atNA&usqp=CAU - as ./images\\tacos\\83588a4f40.jpg\n"
     ]
    },
    {
     "name": "stderr",
     "output_type": "stream",
     "text": [
      "C:\\Users\\mandeep.singh\\Anaconda3\\lib\\site-packages\\urllib3\\connectionpool.py:1013: InsecureRequestWarning: Unverified HTTPS request is being made to host 'encrypted-tbn0.gstatic.com'. Adding certificate verification is strongly advised. See: https://urllib3.readthedocs.io/en/latest/advanced-usage.html#ssl-warnings\n",
      "  warnings.warn(\n"
     ]
    },
    {
     "name": "stdout",
     "output_type": "stream",
     "text": [
      "SUCCESS - saved https://encrypted-tbn0.gstatic.com/images?q=tbn:ANd9GcQ-1EyFXLGw8Igp9pPg2RAjO4tCWsoOaeeeyQ&usqp=CAU - as ./images\\tacos\\67ce1583b1.jpg\n"
     ]
    },
    {
     "name": "stderr",
     "output_type": "stream",
     "text": [
      "C:\\Users\\mandeep.singh\\Anaconda3\\lib\\site-packages\\urllib3\\connectionpool.py:1013: InsecureRequestWarning: Unverified HTTPS request is being made to host 'encrypted-tbn0.gstatic.com'. Adding certificate verification is strongly advised. See: https://urllib3.readthedocs.io/en/latest/advanced-usage.html#ssl-warnings\n",
      "  warnings.warn(\n"
     ]
    },
    {
     "name": "stdout",
     "output_type": "stream",
     "text": [
      "SUCCESS - saved https://encrypted-tbn0.gstatic.com/images?q=tbn:ANd9GcRB191GPzr-U_Vl0kF4ebSILerjX9r7oowIrA&usqp=CAU - as ./images\\tacos\\ace1d6ebc5.jpg\n"
     ]
    },
    {
     "name": "stderr",
     "output_type": "stream",
     "text": [
      "C:\\Users\\mandeep.singh\\Anaconda3\\lib\\site-packages\\urllib3\\connectionpool.py:1013: InsecureRequestWarning: Unverified HTTPS request is being made to host 'lh3.googleusercontent.com'. Adding certificate verification is strongly advised. See: https://urllib3.readthedocs.io/en/latest/advanced-usage.html#ssl-warnings\n",
      "  warnings.warn(\n"
     ]
    },
    {
     "name": "stdout",
     "output_type": "stream",
     "text": [
      "SUCCESS - saved https://lh3.googleusercontent.com/ksz1Txwisz2emMkhY0u-21mmhKZq6qxdWJYlDtuYa029M4JsoBpBGTwog1e8ZhyvYZKvdAY2G2SEYXyVQxxbmGurFg=h450 - as ./images\\tacos\\838f130551.jpg\n"
     ]
    },
    {
     "name": "stderr",
     "output_type": "stream",
     "text": [
      "C:\\Users\\mandeep.singh\\Anaconda3\\lib\\site-packages\\urllib3\\connectionpool.py:1013: InsecureRequestWarning: Unverified HTTPS request is being made to host '4.imimg.com'. Adding certificate verification is strongly advised. See: https://urllib3.readthedocs.io/en/latest/advanced-usage.html#ssl-warnings\n",
      "  warnings.warn(\n"
     ]
    },
    {
     "name": "stdout",
     "output_type": "stream",
     "text": [
      "SUCCESS - saved https://4.imimg.com/data4/ME/WD/MY-3971530/tasty-tacos-500x500.jpg - as ./images\\tacos\\db23e0a068.jpg\n"
     ]
    },
    {
     "name": "stderr",
     "output_type": "stream",
     "text": [
      "C:\\Users\\mandeep.singh\\Anaconda3\\lib\\site-packages\\urllib3\\connectionpool.py:1013: InsecureRequestWarning: Unverified HTTPS request is being made to host 'imgk.timesnownews.com'. Adding certificate verification is strongly advised. See: https://urllib3.readthedocs.io/en/latest/advanced-usage.html#ssl-warnings\n",
      "  warnings.warn(\n",
      "C:\\Users\\mandeep.singh\\Anaconda3\\lib\\site-packages\\urllib3\\connectionpool.py:1013: InsecureRequestWarning: Unverified HTTPS request is being made to host 'encrypted-tbn0.gstatic.com'. Adding certificate verification is strongly advised. See: https://urllib3.readthedocs.io/en/latest/advanced-usage.html#ssl-warnings\n",
      "  warnings.warn(\n"
     ]
    },
    {
     "name": "stdout",
     "output_type": "stream",
     "text": [
      "SUCCESS - saved https://imgk.timesnownews.com/story/chad-montano-lP5MCM6nZ5A-unsplash.jpg?tr=w-400,h-300,fo-auto - as ./images\\tacos\\581eb05fd7.jpg\n",
      "SUCCESS - saved https://encrypted-tbn0.gstatic.com/images?q=tbn:ANd9GcRdLm8o1Ym5T3DQ2DbLbCy7kNQAJpi7leD_Kg&usqp=CAU - as ./images\\tacos\\38f9e91377.jpg\n"
     ]
    },
    {
     "name": "stderr",
     "output_type": "stream",
     "text": [
      "C:\\Users\\mandeep.singh\\Anaconda3\\lib\\site-packages\\urllib3\\connectionpool.py:1013: InsecureRequestWarning: Unverified HTTPS request is being made to host 'www.seriouseats.com'. Adding certificate verification is strongly advised. See: https://urllib3.readthedocs.io/en/latest/advanced-usage.html#ssl-warnings\n",
      "  warnings.warn(\n"
     ]
    },
    {
     "name": "stdout",
     "output_type": "stream",
     "text": [
      "SUCCESS - saved https://www.seriouseats.com/thmb/xQiiyYk9hzCpsMe6QIIDysoJtdA=/1500x1125/filters:fill(auto,1)/__opt__aboutcom__coeus__resources__content_migration__serious_eats__seriouseats.com__recipes__images__2016__02__20160209-tacos-arabes-vicky-wasik-18-56cd7ac97a124722b586e209e57247f2.jpg - as ./images\\tacos\\f818970c2f.jpg\n"
     ]
    },
    {
     "name": "stderr",
     "output_type": "stream",
     "text": [
      "C:\\Users\\mandeep.singh\\Anaconda3\\lib\\site-packages\\urllib3\\connectionpool.py:1013: InsecureRequestWarning: Unverified HTTPS request is being made to host 'media.istockphoto.com'. Adding certificate verification is strongly advised. See: https://urllib3.readthedocs.io/en/latest/advanced-usage.html#ssl-warnings\n",
      "  warnings.warn(\n"
     ]
    },
    {
     "name": "stdout",
     "output_type": "stream",
     "text": [
      "SUCCESS - saved https://media.istockphoto.com/photos/vegan-tacos-and-guacamole-served-in-tulum-mexico-closeup-picture-id1298809774?b=1&k=20&m=1298809774&s=170667a&w=0&h=gqrLORk4hAD5_F_UAmocW7r7gsq7JJRtdTPCCSmeHeA= - as ./images\\tacos\\e133dc4842.jpg\n"
     ]
    },
    {
     "name": "stderr",
     "output_type": "stream",
     "text": [
      "C:\\Users\\mandeep.singh\\Anaconda3\\lib\\site-packages\\urllib3\\connectionpool.py:1013: InsecureRequestWarning: Unverified HTTPS request is being made to host 'encrypted-tbn0.gstatic.com'. Adding certificate verification is strongly advised. See: https://urllib3.readthedocs.io/en/latest/advanced-usage.html#ssl-warnings\n",
      "  warnings.warn(\n"
     ]
    },
    {
     "name": "stdout",
     "output_type": "stream",
     "text": [
      "SUCCESS - saved https://encrypted-tbn0.gstatic.com/images?q=tbn:ANd9GcSl8rB2Tk09cWTsMq6W3Y5EzKZiB9amCvz0EQ&usqp=CAU - as ./images\\tacos\\97d18de133.jpg\n"
     ]
    },
    {
     "name": "stderr",
     "output_type": "stream",
     "text": [
      "C:\\Users\\mandeep.singh\\Anaconda3\\lib\\site-packages\\urllib3\\connectionpool.py:1013: InsecureRequestWarning: Unverified HTTPS request is being made to host 'post.healthline.com'. Adding certificate verification is strongly advised. See: https://urllib3.readthedocs.io/en/latest/advanced-usage.html#ssl-warnings\n",
      "  warnings.warn(\n"
     ]
    },
    {
     "name": "stdout",
     "output_type": "stream",
     "text": [
      "SUCCESS - saved https://post.healthline.com/wp-content/uploads/2021/05/tacos-1200x628-facebook.jpg - as ./images\\tacos\\704d9c67e1.jpg\n"
     ]
    },
    {
     "name": "stderr",
     "output_type": "stream",
     "text": [
      "C:\\Users\\mandeep.singh\\Anaconda3\\lib\\site-packages\\urllib3\\connectionpool.py:1013: InsecureRequestWarning: Unverified HTTPS request is being made to host 'www.vegrecipesofindia.com'. Adding certificate verification is strongly advised. See: https://urllib3.readthedocs.io/en/latest/advanced-usage.html#ssl-warnings\n",
      "  warnings.warn(\n"
     ]
    },
    {
     "name": "stdout",
     "output_type": "stream",
     "text": [
      "SUCCESS - saved https://www.vegrecipesofindia.com/wp-content/uploads/2018/02/veg-taco-recipe.jpg - as ./images\\tacos\\878c44da79.jpg\n"
     ]
    },
    {
     "name": "stderr",
     "output_type": "stream",
     "text": [
      "C:\\Users\\mandeep.singh\\Anaconda3\\lib\\site-packages\\urllib3\\connectionpool.py:1013: InsecureRequestWarning: Unverified HTTPS request is being made to host 'encrypted-tbn0.gstatic.com'. Adding certificate verification is strongly advised. See: https://urllib3.readthedocs.io/en/latest/advanced-usage.html#ssl-warnings\n",
      "  warnings.warn(\n"
     ]
    },
    {
     "name": "stdout",
     "output_type": "stream",
     "text": [
      "SUCCESS - saved https://encrypted-tbn0.gstatic.com/images?q=tbn:ANd9GcR6tmeFyNlbmAWRlZ2T4awsVuun-lw0Wju0vQ&usqp=CAU - as ./images\\tacos\\d944928629.jpg\n",
      "SUCCESS - saved https://images-gmi-pmc.edge-generalmills.com/e59f255c-7498-4b84-9c9d-e578bf5d88fc.jpg - as ./images\\tacos\\4ce213e623.jpg\n"
     ]
    },
    {
     "name": "stderr",
     "output_type": "stream",
     "text": [
      "C:\\Users\\mandeep.singh\\Anaconda3\\lib\\site-packages\\urllib3\\connectionpool.py:1013: InsecureRequestWarning: Unverified HTTPS request is being made to host 'images-gmi-pmc.edge-generalmills.com'. Adding certificate verification is strongly advised. See: https://urllib3.readthedocs.io/en/latest/advanced-usage.html#ssl-warnings\n",
      "  warnings.warn(\n",
      "C:\\Users\\mandeep.singh\\Anaconda3\\lib\\site-packages\\urllib3\\connectionpool.py:1013: InsecureRequestWarning: Unverified HTTPS request is being made to host 'hips.hearstapps.com'. Adding certificate verification is strongly advised. See: https://urllib3.readthedocs.io/en/latest/advanced-usage.html#ssl-warnings\n",
      "  warnings.warn(\n"
     ]
    },
    {
     "name": "stdout",
     "output_type": "stream",
     "text": [
      "SUCCESS - saved https://hips.hearstapps.com/hmg-prod.s3.amazonaws.com/images/smoky-beef-tacos-recipe-1556291028.jpg - as ./images\\tacos\\a9c2b2a0f1.jpg\n"
     ]
    },
    {
     "name": "stderr",
     "output_type": "stream",
     "text": [
      "C:\\Users\\mandeep.singh\\Anaconda3\\lib\\site-packages\\urllib3\\connectionpool.py:1013: InsecureRequestWarning: Unverified HTTPS request is being made to host 'www.wearegurgaon.com'. Adding certificate verification is strongly advised. See: https://urllib3.readthedocs.io/en/latest/advanced-usage.html#ssl-warnings\n",
      "  warnings.warn(\n"
     ]
    },
    {
     "name": "stdout",
     "output_type": "stream",
     "text": [
      "SUCCESS - saved https://www.wearegurgaon.com//wp-content/uploads/2019/05/tacos-friction-the-drinkery-gurgaon.jpg - as ./images\\tacos\\ce6548ae5d.jpg\n",
      "SUCCESS - saved https://encrypted-tbn0.gstatic.com/images?q=tbn:ANd9GcSYabB-Hs2R-Libq9cBlj_YwjQhkJZ_wa3mVQ&usqp=CAU - as ./images\\tacos\\4a727b5025.jpg\n"
     ]
    },
    {
     "name": "stderr",
     "output_type": "stream",
     "text": [
      "C:\\Users\\mandeep.singh\\Anaconda3\\lib\\site-packages\\urllib3\\connectionpool.py:1013: InsecureRequestWarning: Unverified HTTPS request is being made to host 'encrypted-tbn0.gstatic.com'. Adding certificate verification is strongly advised. See: https://urllib3.readthedocs.io/en/latest/advanced-usage.html#ssl-warnings\n",
      "  warnings.warn(\n",
      "C:\\Users\\mandeep.singh\\Anaconda3\\lib\\site-packages\\urllib3\\connectionpool.py:1013: InsecureRequestWarning: Unverified HTTPS request is being made to host 'i2.wp.com'. Adding certificate verification is strongly advised. See: https://urllib3.readthedocs.io/en/latest/advanced-usage.html#ssl-warnings\n",
      "  warnings.warn(\n"
     ]
    },
    {
     "name": "stdout",
     "output_type": "stream",
     "text": [
      "SUCCESS - saved https://i2.wp.com/www.downshiftology.com/wp-content/uploads/2018/04/Carne-Asada-Tacos-main-3.jpg - as ./images\\tacos\\6ede4c43c6.jpg\n"
     ]
    },
    {
     "name": "stderr",
     "output_type": "stream",
     "text": [
      "C:\\Users\\mandeep.singh\\Anaconda3\\lib\\site-packages\\urllib3\\connectionpool.py:1013: InsecureRequestWarning: Unverified HTTPS request is being made to host 'www.wearegurgaon.com'. Adding certificate verification is strongly advised. See: https://urllib3.readthedocs.io/en/latest/advanced-usage.html#ssl-warnings\n",
      "  warnings.warn(\n"
     ]
    },
    {
     "name": "stdout",
     "output_type": "stream",
     "text": [
      "SUCCESS - saved https://www.wearegurgaon.com/wp-content/uploads/2017/10/twisted-tacos-gurgaon-2.jpg - as ./images\\tacos\\c1d19b4fa0.jpg\n"
     ]
    },
    {
     "name": "stderr",
     "output_type": "stream",
     "text": [
      "C:\\Users\\mandeep.singh\\Anaconda3\\lib\\site-packages\\urllib3\\connectionpool.py:1013: InsecureRequestWarning: Unverified HTTPS request is being made to host 'd1uz88p17r663j.cloudfront.net'. Adding certificate verification is strongly advised. See: https://urllib3.readthedocs.io/en/latest/advanced-usage.html#ssl-warnings\n",
      "  warnings.warn(\n"
     ]
    },
    {
     "name": "stdout",
     "output_type": "stream",
     "text": [
      "SUCCESS - saved https://d1uz88p17r663j.cloudfront.net/original/32bfcaf831e22d6d7ec102ceda99044d_Maggi_-_Chicken_Tacos.jpg - as ./images\\tacos\\06ccadeecc.jpg\n"
     ]
    },
    {
     "name": "stderr",
     "output_type": "stream",
     "text": [
      "C:\\Users\\mandeep.singh\\Anaconda3\\lib\\site-packages\\urllib3\\connectionpool.py:1013: InsecureRequestWarning: Unverified HTTPS request is being made to host 's23209.pcdn.co'. Adding certificate verification is strongly advised. See: https://urllib3.readthedocs.io/en/latest/advanced-usage.html#ssl-warnings\n",
      "  warnings.warn(\n"
     ]
    },
    {
     "name": "stdout",
     "output_type": "stream",
     "text": [
      "SUCCESS - saved https://s23209.pcdn.co/wp-content/uploads/2019/08/Easy-Chicken-TacosIMG_9890.jpg - as ./images\\tacos\\99323e3ded.jpg\n"
     ]
    },
    {
     "name": "stderr",
     "output_type": "stream",
     "text": [
      "C:\\Users\\mandeep.singh\\Anaconda3\\lib\\site-packages\\urllib3\\connectionpool.py:1013: InsecureRequestWarning: Unverified HTTPS request is being made to host 'foodfolksandfun.net'. Adding certificate verification is strongly advised. See: https://urllib3.readthedocs.io/en/latest/advanced-usage.html#ssl-warnings\n",
      "  warnings.warn(\n"
     ]
    },
    {
     "name": "stdout",
     "output_type": "stream",
     "text": [
      "SUCCESS - saved https://foodfolksandfun.net/wp-content/uploads/2017/05/Picadillo-Tacos.jpg - as ./images\\tacos\\25b589693a.jpg\n"
     ]
    },
    {
     "name": "stderr",
     "output_type": "stream",
     "text": [
      "C:\\Users\\mandeep.singh\\Anaconda3\\lib\\site-packages\\urllib3\\connectionpool.py:1013: InsecureRequestWarning: Unverified HTTPS request is being made to host 'static01.nyt.com'. Adding certificate verification is strongly advised. See: https://urllib3.readthedocs.io/en/latest/advanced-usage.html#ssl-warnings\n",
      "  warnings.warn(\n"
     ]
    },
    {
     "name": "stdout",
     "output_type": "stream",
     "text": [
      "SUCCESS - saved https://static01.nyt.com/images/2020/07/09/dining/fish-tacos-horizontal/merlin_125553677_41461c04-77ba-456c-8a57-eeed2227f542-articleLarge.jpg - as ./images\\tacos\\c37e38b89f.jpg\n"
     ]
    },
    {
     "name": "stderr",
     "output_type": "stream",
     "text": [
      "C:\\Users\\mandeep.singh\\Anaconda3\\lib\\site-packages\\urllib3\\connectionpool.py:1013: InsecureRequestWarning: Unverified HTTPS request is being made to host 'encrypted-tbn0.gstatic.com'. Adding certificate verification is strongly advised. See: https://urllib3.readthedocs.io/en/latest/advanced-usage.html#ssl-warnings\n",
      "  warnings.warn(\n"
     ]
    },
    {
     "name": "stdout",
     "output_type": "stream",
     "text": [
      "SUCCESS - saved https://encrypted-tbn0.gstatic.com/images?q=tbn:ANd9GcSMDquG5kyPBEWiM7HSYHG4X4GUQ6YAkT5fUg&usqp=CAU - as ./images\\tacos\\1315733bce.jpg\n"
     ]
    },
    {
     "name": "stderr",
     "output_type": "stream",
     "text": [
      "C:\\Users\\mandeep.singh\\Anaconda3\\lib\\site-packages\\urllib3\\connectionpool.py:1013: InsecureRequestWarning: Unverified HTTPS request is being made to host 'www.wearegurgaon.com'. Adding certificate verification is strongly advised. See: https://urllib3.readthedocs.io/en/latest/advanced-usage.html#ssl-warnings\n",
      "  warnings.warn(\n"
     ]
    },
    {
     "name": "stdout",
     "output_type": "stream",
     "text": [
      "SUCCESS - saved https://www.wearegurgaon.com//wp-content/uploads/2017/10/twisted-tacos-gurgaon-1.jpg - as ./images\\tacos\\b12aa27ac6.jpg\n"
     ]
    },
    {
     "name": "stderr",
     "output_type": "stream",
     "text": [
      "C:\\Users\\mandeep.singh\\Anaconda3\\lib\\site-packages\\urllib3\\connectionpool.py:1013: InsecureRequestWarning: Unverified HTTPS request is being made to host 'd4t7t8y8xqo0t.cloudfront.net'. Adding certificate verification is strongly advised. See: https://urllib3.readthedocs.io/en/latest/advanced-usage.html#ssl-warnings\n",
      "  warnings.warn(\n"
     ]
    },
    {
     "name": "stdout",
     "output_type": "stream",
     "text": [
      "SUCCESS - saved https://d4t7t8y8xqo0t.cloudfront.net/resized/1080X/group%2F3236%2Fmenu%2Fmenu020190320093210.jpg - as ./images\\tacos\\b126d0666c.jpg\n",
      "SUCCESS - saved https://encrypted-tbn0.gstatic.com/images?q=tbn:ANd9GcQW-Gaxi7fyjAVskBGeVyL_U6SUJ9hPpzj4XQ&usqp=CAU - as ./images\\tacos\\7ce315ad58.jpg\n"
     ]
    },
    {
     "name": "stderr",
     "output_type": "stream",
     "text": [
      "C:\\Users\\mandeep.singh\\Anaconda3\\lib\\site-packages\\urllib3\\connectionpool.py:1013: InsecureRequestWarning: Unverified HTTPS request is being made to host 'encrypted-tbn0.gstatic.com'. Adding certificate verification is strongly advised. See: https://urllib3.readthedocs.io/en/latest/advanced-usage.html#ssl-warnings\n",
      "  warnings.warn(\n",
      "C:\\Users\\mandeep.singh\\Anaconda3\\lib\\site-packages\\urllib3\\connectionpool.py:1013: InsecureRequestWarning: Unverified HTTPS request is being made to host 'hips.hearstapps.com'. Adding certificate verification is strongly advised. See: https://urllib3.readthedocs.io/en/latest/advanced-usage.html#ssl-warnings\n",
      "  warnings.warn(\n"
     ]
    },
    {
     "name": "stdout",
     "output_type": "stream",
     "text": [
      "SUCCESS - saved https://hips.hearstapps.com/del.h-cdn.co/assets/18/11/1520956952-chicken-tacos-horizontal.jpg - as ./images\\tacos\\6e43e66e77.jpg\n",
      "SUCCESS - saved https://d4t7t8y8xqo0t.cloudfront.net/resized/750X436/eazytrendz%2F2483%2Ftrend20190708052438.jpg - as ./images\\tacos\\5ac3b83d51.jpg\n"
     ]
    },
    {
     "name": "stderr",
     "output_type": "stream",
     "text": [
      "C:\\Users\\mandeep.singh\\Anaconda3\\lib\\site-packages\\urllib3\\connectionpool.py:1013: InsecureRequestWarning: Unverified HTTPS request is being made to host 'd4t7t8y8xqo0t.cloudfront.net'. Adding certificate verification is strongly advised. See: https://urllib3.readthedocs.io/en/latest/advanced-usage.html#ssl-warnings\n",
      "  warnings.warn(\n",
      "C:\\Users\\mandeep.singh\\Anaconda3\\lib\\site-packages\\urllib3\\connectionpool.py:1013: InsecureRequestWarning: Unverified HTTPS request is being made to host 'www.seriouseats.com'. Adding certificate verification is strongly advised. See: https://urllib3.readthedocs.io/en/latest/advanced-usage.html#ssl-warnings\n",
      "  warnings.warn(\n"
     ]
    },
    {
     "name": "stdout",
     "output_type": "stream",
     "text": [
      "SUCCESS - saved https://www.seriouseats.com/thmb/EAwyskovb4VA2HjXLc4xald4cZ8=/1500x1125/filters:fill(auto,1)/20210712-tacos-al-pastor-melissa-hom-seriouseats-37-f72cdd02c9574bceb1eef1c8a23b76ed.jpg - as ./images\\tacos\\d0df74ce7f.jpg\n",
      "SUCCESS - saved https://encrypted-tbn0.gstatic.com/images?q=tbn:ANd9GcSnHsoV1vF10xeznNr9PIydu8YBnQSHEESHrg&usqp=CAU - as ./images\\tacos\\aeca4f35a8.jpg\n"
     ]
    },
    {
     "name": "stderr",
     "output_type": "stream",
     "text": [
      "C:\\Users\\mandeep.singh\\Anaconda3\\lib\\site-packages\\urllib3\\connectionpool.py:1013: InsecureRequestWarning: Unverified HTTPS request is being made to host 'encrypted-tbn0.gstatic.com'. Adding certificate verification is strongly advised. See: https://urllib3.readthedocs.io/en/latest/advanced-usage.html#ssl-warnings\n",
      "  warnings.warn(\n",
      "C:\\Users\\mandeep.singh\\Anaconda3\\lib\\site-packages\\urllib3\\connectionpool.py:1013: InsecureRequestWarning: Unverified HTTPS request is being made to host 'encrypted-tbn0.gstatic.com'. Adding certificate verification is strongly advised. See: https://urllib3.readthedocs.io/en/latest/advanced-usage.html#ssl-warnings\n",
      "  warnings.warn(\n"
     ]
    },
    {
     "name": "stdout",
     "output_type": "stream",
     "text": [
      "SUCCESS - saved https://encrypted-tbn0.gstatic.com/images?q=tbn:ANd9GcT9j5towNOLhqD4ZPfqDRLhAQLsAUP-sIpReQ&usqp=CAU - as ./images\\tacos\\99d420b434.jpg\n"
     ]
    },
    {
     "name": "stderr",
     "output_type": "stream",
     "text": [
      "C:\\Users\\mandeep.singh\\Anaconda3\\lib\\site-packages\\urllib3\\connectionpool.py:1013: InsecureRequestWarning: Unverified HTTPS request is being made to host 'www.acouplecooks.com'. Adding certificate verification is strongly advised. See: https://urllib3.readthedocs.io/en/latest/advanced-usage.html#ssl-warnings\n",
      "  warnings.warn(\n"
     ]
    },
    {
     "name": "stdout",
     "output_type": "stream",
     "text": [
      "SUCCESS - saved https://www.acouplecooks.com/wp-content/uploads/2021/01/Tofu-Tacos-023-368x368.jpg - as ./images\\tacos\\ceddd709c8.jpg\n",
      "SUCCESS - saved https://encrypted-tbn0.gstatic.com/images?q=tbn:ANd9GcRgiDz_E9SzLte-3OebARLQcMRtZLrP1hyJHg&usqp=CAU - as ./images\\tacos\\3819a451c0.jpg\n"
     ]
    },
    {
     "name": "stderr",
     "output_type": "stream",
     "text": [
      "C:\\Users\\mandeep.singh\\Anaconda3\\lib\\site-packages\\urllib3\\connectionpool.py:1013: InsecureRequestWarning: Unverified HTTPS request is being made to host 'encrypted-tbn0.gstatic.com'. Adding certificate verification is strongly advised. See: https://urllib3.readthedocs.io/en/latest/advanced-usage.html#ssl-warnings\n",
      "  warnings.warn(\n",
      "C:\\Users\\mandeep.singh\\Anaconda3\\lib\\site-packages\\urllib3\\connectionpool.py:1013: InsecureRequestWarning: Unverified HTTPS request is being made to host 'encrypted-tbn0.gstatic.com'. Adding certificate verification is strongly advised. See: https://urllib3.readthedocs.io/en/latest/advanced-usage.html#ssl-warnings\n",
      "  warnings.warn(\n"
     ]
    },
    {
     "name": "stdout",
     "output_type": "stream",
     "text": [
      "SUCCESS - saved https://encrypted-tbn0.gstatic.com/images?q=tbn:ANd9GcTkeL1cMgPskioUq_-2A-p2sh_HXW6NmHcevQ&usqp=CAU - as ./images\\tacos\\29c38620d5.jpg\n"
     ]
    },
    {
     "name": "stderr",
     "output_type": "stream",
     "text": [
      "C:\\Users\\mandeep.singh\\Anaconda3\\lib\\site-packages\\urllib3\\connectionpool.py:1013: InsecureRequestWarning: Unverified HTTPS request is being made to host 'dairyfarmersofcanada.ca'. Adding certificate verification is strongly advised. See: https://urllib3.readthedocs.io/en/latest/advanced-usage.html#ssl-warnings\n",
      "  warnings.warn(\n"
     ]
    },
    {
     "name": "stdout",
     "output_type": "stream",
     "text": [
      "SUCCESS - saved https://dairyfarmersofcanada.ca/sites/default/files/image_file_browser/conso_recipe/2021/South%20Of%20The%20Border%20Beef%20Tacos.jpg - as ./images\\tacos\\1ee40a863e.jpg\n",
      "SUCCESS - saved https://encrypted-tbn0.gstatic.com/images?q=tbn:ANd9GcRNgPcOB6y8FQc0QMVB_zZJ-5oC6LUKzMWDrw&usqp=CAU - as ./images\\tacos\\46da43fe50.jpg\n"
     ]
    },
    {
     "name": "stderr",
     "output_type": "stream",
     "text": [
      "C:\\Users\\mandeep.singh\\Anaconda3\\lib\\site-packages\\urllib3\\connectionpool.py:1013: InsecureRequestWarning: Unverified HTTPS request is being made to host 'encrypted-tbn0.gstatic.com'. Adding certificate verification is strongly advised. See: https://urllib3.readthedocs.io/en/latest/advanced-usage.html#ssl-warnings\n",
      "  warnings.warn(\n",
      "C:\\Users\\mandeep.singh\\Anaconda3\\lib\\site-packages\\urllib3\\connectionpool.py:1013: InsecureRequestWarning: Unverified HTTPS request is being made to host 'encrypted-tbn0.gstatic.com'. Adding certificate verification is strongly advised. See: https://urllib3.readthedocs.io/en/latest/advanced-usage.html#ssl-warnings\n",
      "  warnings.warn(\n"
     ]
    },
    {
     "name": "stdout",
     "output_type": "stream",
     "text": [
      "SUCCESS - saved https://encrypted-tbn0.gstatic.com/images?q=tbn:ANd9GcR2VUOhE8w-pZrIjwsE31qB9jWqTIUjxHrVeg&usqp=CAU - as ./images\\tacos\\0f0c66d0bd.jpg\n"
     ]
    },
    {
     "name": "stderr",
     "output_type": "stream",
     "text": [
      "C:\\Users\\mandeep.singh\\Anaconda3\\lib\\site-packages\\urllib3\\connectionpool.py:1013: InsecureRequestWarning: Unverified HTTPS request is being made to host 'cookieandkate.com'. Adding certificate verification is strongly advised. See: https://urllib3.readthedocs.io/en/latest/advanced-usage.html#ssl-warnings\n",
      "  warnings.warn(\n"
     ]
    },
    {
     "name": "stdout",
     "output_type": "stream",
     "text": [
      "SUCCESS - saved https://cookieandkate.com/images/2018/08/Sweet-Corn-and-Black-Bean-Tacos-recipe-2-1.jpg - as ./images\\tacos\\7ce2bfa026.jpg\n"
     ]
    },
    {
     "name": "stderr",
     "output_type": "stream",
     "text": [
      "C:\\Users\\mandeep.singh\\Anaconda3\\lib\\site-packages\\urllib3\\connectionpool.py:1013: InsecureRequestWarning: Unverified HTTPS request is being made to host 'encrypted-tbn0.gstatic.com'. Adding certificate verification is strongly advised. See: https://urllib3.readthedocs.io/en/latest/advanced-usage.html#ssl-warnings\n",
      "  warnings.warn(\n"
     ]
    },
    {
     "name": "stdout",
     "output_type": "stream",
     "text": [
      "SUCCESS - saved https://encrypted-tbn0.gstatic.com/images?q=tbn:ANd9GcTlQrIn3doMs7OiFXFwnqr3OycEGdJaoZrFCQ&usqp=CAU - as ./images\\tacos\\508e96d00b.jpg\n"
     ]
    },
    {
     "name": "stderr",
     "output_type": "stream",
     "text": [
      "C:\\Users\\mandeep.singh\\Anaconda3\\lib\\site-packages\\urllib3\\connectionpool.py:1013: InsecureRequestWarning: Unverified HTTPS request is being made to host 'encrypted-tbn0.gstatic.com'. Adding certificate verification is strongly advised. See: https://urllib3.readthedocs.io/en/latest/advanced-usage.html#ssl-warnings\n",
      "  warnings.warn(\n"
     ]
    },
    {
     "name": "stdout",
     "output_type": "stream",
     "text": [
      "SUCCESS - saved https://encrypted-tbn0.gstatic.com/images?q=tbn:ANd9GcTT3Ol9EOnXNsiUqMCsnslc5MuT5XyrERDIkg&usqp=CAU - as ./images\\tacos\\d14c8087d8.jpg\n"
     ]
    },
    {
     "name": "stderr",
     "output_type": "stream",
     "text": [
      "C:\\Users\\mandeep.singh\\Anaconda3\\lib\\site-packages\\urllib3\\connectionpool.py:1013: InsecureRequestWarning: Unverified HTTPS request is being made to host 'encrypted-tbn0.gstatic.com'. Adding certificate verification is strongly advised. See: https://urllib3.readthedocs.io/en/latest/advanced-usage.html#ssl-warnings\n",
      "  warnings.warn(\n"
     ]
    },
    {
     "name": "stdout",
     "output_type": "stream",
     "text": [
      "SUCCESS - saved https://encrypted-tbn0.gstatic.com/images?q=tbn:ANd9GcQaHBPEtlcCSntPsYR6DfksYiaToW4-ENfHLQ&usqp=CAU - as ./images\\tacos\\02aa52698a.jpg\n"
     ]
    },
    {
     "name": "stderr",
     "output_type": "stream",
     "text": [
      "C:\\Users\\mandeep.singh\\Anaconda3\\lib\\site-packages\\urllib3\\connectionpool.py:1013: InsecureRequestWarning: Unverified HTTPS request is being made to host 'c.ndtvimg.com'. Adding certificate verification is strongly advised. See: https://urllib3.readthedocs.io/en/latest/advanced-usage.html#ssl-warnings\n",
      "  warnings.warn(\n"
     ]
    },
    {
     "name": "stdout",
     "output_type": "stream",
     "text": [
      "ERROR - Could not save https://c.ndtvimg.com/2021-09/10cgsus8_tacos_625x300_09_September_21.jpg - cannot identify image file <_io.BytesIO object at 0x0000024D6D3ECE50>\n"
     ]
    },
    {
     "name": "stderr",
     "output_type": "stream",
     "text": [
      "C:\\Users\\mandeep.singh\\Anaconda3\\lib\\site-packages\\urllib3\\connectionpool.py:1013: InsecureRequestWarning: Unverified HTTPS request is being made to host 'encrypted-tbn0.gstatic.com'. Adding certificate verification is strongly advised. See: https://urllib3.readthedocs.io/en/latest/advanced-usage.html#ssl-warnings\n",
      "  warnings.warn(\n"
     ]
    },
    {
     "name": "stdout",
     "output_type": "stream",
     "text": [
      "SUCCESS - saved https://encrypted-tbn0.gstatic.com/images?q=tbn:ANd9GcSThR9m06j4IJUEsfVn73VzJ_fHXxvuRvdAQg&usqp=CAU - as ./images\\tacos\\f9d30f1479.jpg\n"
     ]
    },
    {
     "name": "stderr",
     "output_type": "stream",
     "text": [
      "C:\\Users\\mandeep.singh\\Anaconda3\\lib\\site-packages\\urllib3\\connectionpool.py:1013: InsecureRequestWarning: Unverified HTTPS request is being made to host 'media.gettyimages.com'. Adding certificate verification is strongly advised. See: https://urllib3.readthedocs.io/en/latest/advanced-usage.html#ssl-warnings\n",
      "  warnings.warn(\n",
      "C:\\Users\\mandeep.singh\\Anaconda3\\lib\\site-packages\\urllib3\\connectionpool.py:1013: InsecureRequestWarning: Unverified HTTPS request is being made to host 'encrypted-tbn0.gstatic.com'. Adding certificate verification is strongly advised. See: https://urllib3.readthedocs.io/en/latest/advanced-usage.html#ssl-warnings\n",
      "  warnings.warn(\n"
     ]
    },
    {
     "name": "stdout",
     "output_type": "stream",
     "text": [
      "SUCCESS - saved https://media.gettyimages.com/photos/small-4inch-soft-beef-tacos-picture-id1146906219?s=612x612 - as ./images\\tacos\\027a23ed0b.jpg\n",
      "SUCCESS - saved https://encrypted-tbn0.gstatic.com/images?q=tbn:ANd9GcRvVAk5DHC6htjgeaTMSr_MZG38ybEWqp4JqA&usqp=CAU - as ./images\\tacos\\539aed5d17.jpg\n"
     ]
    },
    {
     "name": "stderr",
     "output_type": "stream",
     "text": [
      "C:\\Users\\mandeep.singh\\Anaconda3\\lib\\site-packages\\urllib3\\connectionpool.py:1013: InsecureRequestWarning: Unverified HTTPS request is being made to host 'encrypted-tbn0.gstatic.com'. Adding certificate verification is strongly advised. See: https://urllib3.readthedocs.io/en/latest/advanced-usage.html#ssl-warnings\n",
      "  warnings.warn(\n"
     ]
    },
    {
     "name": "stdout",
     "output_type": "stream",
     "text": [
      "SUCCESS - saved https://encrypted-tbn0.gstatic.com/images?q=tbn:ANd9GcTKmFDC4zsK3k9VBvx4gKyIZGECG4rQ5oLXRQ&usqp=CAU - as ./images\\tacos\\707907974f.jpg\n"
     ]
    },
    {
     "name": "stderr",
     "output_type": "stream",
     "text": [
      "C:\\Users\\mandeep.singh\\Anaconda3\\lib\\site-packages\\urllib3\\connectionpool.py:1013: InsecureRequestWarning: Unverified HTTPS request is being made to host 'encrypted-tbn0.gstatic.com'. Adding certificate verification is strongly advised. See: https://urllib3.readthedocs.io/en/latest/advanced-usage.html#ssl-warnings\n",
      "  warnings.warn(\n",
      "C:\\Users\\mandeep.singh\\Anaconda3\\lib\\site-packages\\urllib3\\connectionpool.py:1013: InsecureRequestWarning: Unverified HTTPS request is being made to host 'encrypted-tbn0.gstatic.com'. Adding certificate verification is strongly advised. See: https://urllib3.readthedocs.io/en/latest/advanced-usage.html#ssl-warnings\n",
      "  warnings.warn(\n"
     ]
    },
    {
     "name": "stdout",
     "output_type": "stream",
     "text": [
      "SUCCESS - saved https://encrypted-tbn0.gstatic.com/images?q=tbn:ANd9GcQ3c3G6VxoOwbWlk1RvXlqiM8OwCeJLvHrpyg&usqp=CAU - as ./images\\tacos\\5e6a5052dd.jpg\n",
      "SUCCESS - saved https://encrypted-tbn0.gstatic.com/images?q=tbn:ANd9GcRYr58ZO2IXfzXzizyn9hB1j5j_b-aJ4_G6MQ&usqp=CAU - as ./images\\tacos\\919fd34758.jpg\n"
     ]
    },
    {
     "name": "stderr",
     "output_type": "stream",
     "text": [
      "C:\\Users\\mandeep.singh\\Anaconda3\\lib\\site-packages\\urllib3\\connectionpool.py:1013: InsecureRequestWarning: Unverified HTTPS request is being made to host 'media-cdn.tripadvisor.com'. Adding certificate verification is strongly advised. See: https://urllib3.readthedocs.io/en/latest/advanced-usage.html#ssl-warnings\n",
      "  warnings.warn(\n"
     ]
    },
    {
     "name": "stdout",
     "output_type": "stream",
     "text": [
      "SUCCESS - saved https://media-cdn.tripadvisor.com/media/photo-s/0e/1a/d4/4a/photo4jpg.jpg - as ./images\\tacos\\4218add5e6.jpg\n",
      "./images\\takoyaki\n",
      "Found: 100 search results. Extracting links from 0:100\n",
      "Found: 101 image links, done!\n",
      "{'https://encrypted-tbn0.gstatic.com/images?q=tbn:ANd9GcSjKZMuJaTdY0bT5IURrStQmR2dlPDO2iDyfQ&usqp=CAU', 'https://encrypted-tbn0.gstatic.com/images?q=tbn:ANd9GcQLBkPedF5WaQlxLR0PJLNJyUHLVb25d-3jzw&usqp=CAU', 'https://i.ytimg.com/vi/JjE4IJp9FQ4/maxresdefault.jpg', 'https://encrypted-tbn0.gstatic.com/images?q=tbn:ANd9GcSyrLe7Vw6FijqDQ3-B6xAk0vBps_vIWZ_XvA&usqp=CAU', 'https://encrypted-tbn0.gstatic.com/images?q=tbn:ANd9GcS6StG4tydQ34e-DMFS4tVJ2lMFPFBIp0qSdw&usqp=CAU', 'https://encrypted-tbn0.gstatic.com/images?q=tbn:ANd9GcRXIilSVJfh6VzlRt_Rko7oOqrveLKCV_yZTg&usqp=CAU', 'https://encrypted-tbn0.gstatic.com/images?q=tbn:ANd9GcQ-7G-zfhp_EOtLVLuoRV0ZxC-Q5QEVDGfGRw&usqp=CAU', 'https://upload.wikimedia.org/wikipedia/commons/d/d8/Takoyaki_by_yomi955.jpg', 'https://encrypted-tbn0.gstatic.com/images?q=tbn:ANd9GcQNsGIoGabFThr33mkSDvP8oMD26ekObiAtQw&usqp=CAU', 'https://encrypted-tbn0.gstatic.com/images?q=tbn:ANd9GcTap6qMS6EL-7FCVSwCv_uaLFRnyyyOhjRUvA&usqp=CAU', 'https://www.wikihow.com/images/thumb/3/39/Make-Takoyaki-Step-15.jpg/v4-460px-Make-Takoyaki-Step-15.jpg', 'https://encrypted-tbn0.gstatic.com/images?q=tbn:ANd9GcQGZXfyBUzp8EcWZrLD1ZyW_v4DAmkTSxngOg&usqp=CAU', 'https://www.thespruceeats.com/thmb/fau9RmEvtZM4CH-2RAcP7w0FMeQ=/450x0/filters:no_upscale():max_bytes(150000):strip_icc()/GettyImages-594854769-570b3acb3df78c7d9edff25a.jpg', 'https://encrypted-tbn0.gstatic.com/images?q=tbn:ANd9GcSQVsJPi0Qa-zCaw4zeoqWm6uhN53F9s1I3QA&usqp=CAU', 'https://encrypted-tbn0.gstatic.com/images?q=tbn:ANd9GcRn8iDvkMEzJ3HYKsM27fbSJfeYCQuqL9eWOw&usqp=CAU', 'https://encrypted-tbn0.gstatic.com/images?q=tbn:ANd9GcSXFvF9HNZ4yO7C3oEUBA8aTSPtXZ5_-waB1w&usqp=CAU', 'https://encrypted-tbn0.gstatic.com/images?q=tbn:ANd9GcSyHnpXQlA1-D8HhLpSDM_Cu6hK-50wOL4AdQ&usqp=CAU', 'https://images.unsplash.com/photo-1569740392698-59e8ce4f47cc?ixlib=rb-1.2.1&ixid=MnwxMjA3fDB8MHxzZWFyY2h8MXx8dGFrb3lha2l8ZW58MHx8MHx8&w=1000&q=80', 'https://cdn.pixabay.com/photo/2020/05/08/02/13/octopus-dumplings-5143845__480.jpg', 'https://encrypted-tbn0.gstatic.com/images?q=tbn:ANd9GcQkQr2cmQ7fMobL437eNpM7im1JClEwQYCKJw&usqp=CAU', 'https://encrypted-tbn0.gstatic.com/images?q=tbn:ANd9GcTPdsp-A-edHo05YyFEZHuERwusRQ-mm9WPeg&usqp=CAU', 'https://ae01.alicdn.com/kf/H859e4644142e4c0b83721a0173abe1c2p/Octopus-Ball-Maker-Takoyaki-Baking-Pan-Electric-Taiyaki-Machine-Sausage-Hotdog-Eggs-Omelette-Grill-Japanese-Fish.jpg_Q90.jpg_.webp', 'https://t3.ftcdn.net/jpg/02/96/13/00/360_F_296130077_VPqZbc11IMmBv6E2zC7vv8OusEa50zfM.jpg', 'https://b.zmtcdn.com/data/reviews_photos/a03/3cce7afd1e09391fafc3144ed3897a03.jpg?fit=around|771.75:416.25&crop=771.75:416.25;*,*', 'https://encrypted-tbn0.gstatic.com/images?q=tbn:ANd9GcRF6stdAIAoQl1U-2LtitwsvB7qkR8scNxdrw&usqp=CAU', 'https://www.ana-cooljapan.com/destinations/img/osaka/takoyaki/sp_main.jpg', 'https://encrypted-tbn0.gstatic.com/images?q=tbn:ANd9GcT7v_lgBczUNi9guZA43A0X72ok1ZQLozn6ag&usqp=CAU', 'https://encrypted-tbn0.gstatic.com/images?q=tbn:ANd9GcT6VhA-Y8rDj8wTvVwXnYfXNxXT6H-EMRNh8Q&usqp=CAU', 'https://encrypted-tbn0.gstatic.com/images?q=tbn:ANd9GcRrii35MMHakbACkrJGzYy2lU37ZUAV2Okfxg&usqp=CAU', 'https://i.ytimg.com/vi/8bdgxDFlroY/hqdefault.jpg', 'https://i.ytimg.com/vi/n-k3TeLeQBQ/maxresdefault.jpg', 'https://encrypted-tbn0.gstatic.com/images?q=tbn:ANd9GcSdn3cbGjn_svACOEVB6uCK45EN_U00iVtC7A&usqp=CAU', 'https://encrypted-tbn0.gstatic.com/images?q=tbn:ANd9GcSq-62TGGIesFXDhsdeVOY0Q9ybs1x4t1i3PQ&usqp=CAU', 'https://encrypted-tbn0.gstatic.com/images?q=tbn:ANd9GcQPz4bfnFsIZu4CLL2SnIZwJWUlD9eKl9NfWw&usqp=CAU', 'https://ae01.alicdn.com/kf/HTB15SekJFXXXXccXXXXq6xXFXXXE/Save-cost-Gas-style-84pcs-holes-4cm-size-commercial-takoyaki-grill-takoyaki-maker-machine-with-free.jpg', 'https://cdn4.vectorstock.com/i/1000x1000/25/68/japanese-food-takoyaki-asian-dish-vector-25732568.jpg', 'https://encrypted-tbn0.gstatic.com/images?q=tbn:ANd9GcQJySsP-1MfZWAtVN18V98s7KoljDkb2jVNWQ&usqp=CAU', 'https://img-global.cpcdn.com/recipes/3372fdc5f13257b3/1200x630cq70/photo.jpg', 'https://encrypted-tbn0.gstatic.com/images?q=tbn:ANd9GcS6GZM9gnw9vTymj4ZNbAEj1GlWatFR7BuHzg&usqp=CAU', 'https://encrypted-tbn0.gstatic.com/images?q=tbn:ANd9GcSD7egPvfORcXlObSlJKp-m6-gNMFf1naxi9A&usqp=CAU', 'https://cdn.w600.comps.canstockphoto.com/making-takoyaki-by-big-squid-floating-picture_csp53697074.jpg', 'https://www.japan-guide.com/g20/2316_01.jpg', 'https://encrypted-tbn0.gstatic.com/images?q=tbn:ANd9GcREPAVa7zUmdBa3qvIxzCNbOnRoeVwb0g6z5A&usqp=CAU', 'https://encrypted-tbn0.gstatic.com/images?q=tbn:ANd9GcRp4bMh5iJr8G9tr3soj1qjCe1YN_-7Svye4A&usqp=CAU', 'https://www.chopstickchronicles.com/wp-content/uploads/2020/03/Takoyaki-2020-update-34.jpg', 'https://encrypted-tbn0.gstatic.com/images?q=tbn:ANd9GcR4pT_59MHzvaqshufp7ooF7iiXzYc6XgqqCA&usqp=CAU', 'https://encrypted-tbn0.gstatic.com/images?q=tbn:ANd9GcRj8ZqaFi3uyDuK1eMqbTock42r-T9-AovRtQ&usqp=CAU', 'https://media-cdn.tripadvisor.com/media/photo-s/19/1b/e7/ee/photo0jpg.jpg', 'https://encrypted-tbn0.gstatic.com/images?q=tbn:ANd9GcRuAo73OokA9cYDaEjikdN0kvMlk6EGK_Az6Q&usqp=CAU', 'https://img-global.cpcdn.com/recipes/272cbe720cb66774/1200x630cq70/photo.jpg', 'https://encrypted-tbn0.gstatic.com/images?q=tbn:ANd9GcRpeOfClzE9qSZ0TnIbJT3jYfAiACNaHhda8Q&usqp=CAU', 'https://encrypted-tbn0.gstatic.com/images?q=tbn:ANd9GcS-PgOCuJCJ5Aee3TYO4EURnGHGYsnOXIjRSQ&usqp=CAU', 'https://t3.ftcdn.net/jpg/02/84/79/44/360_F_284794440_iO1Xq1nUldWi2HygdMXFMpi0G43J2NKb.jpg', 'https://encrypted-tbn0.gstatic.com/images?q=tbn:ANd9GcSAc3sfCXoz2uylZ-g7znqqreA48FuxsbZ9Iw&usqp=CAU', 'https://m.media-amazon.com/images/I/81dt9aHZbzL._SL1500_.jpg', 'https://encrypted-tbn0.gstatic.com/images?q=tbn:ANd9GcTzQsl29HhZDWSytaTxOQQMAzMnEOHR4zZ65g&usqp=CAU', 'https://s3-ap-south-1.amazonaws.com/betterbutterbucket-silver/1438591226dUp7sa8h3F.jpeg', 'https://qph.fs.quoracdn.net/main-qimg-3ffb2fa534b346f746da0754db6f94cf', 'https://upload.wikimedia.org/wikipedia/commons/thumb/1/16/TakoyakiM0825.jpg/220px-TakoyakiM0825.jpg', 'https://encrypted-tbn0.gstatic.com/images?q=tbn:ANd9GcRKOQc_CLx8sr_VJWBnih_8IBLwrICY35JWGA&usqp=CAU', 'https://image.shutterstock.com/image-photo/japanese-food-takoyaki-on-black-260nw-1482117797.jpg', 'https://encrypted-tbn0.gstatic.com/images?q=tbn:ANd9GcSM8-G1xDrJr8HwWm96eSZ257TQqHyPRYmbjw&usqp=CAU', 'https://encrypted-tbn0.gstatic.com/images?q=tbn:ANd9GcSvzS7ogZoCKm8lGNmhsA47SOmOBx-ZocJsDA&usqp=CAU', 'https://img-global.cpcdn.com/recipes/6464465338892288/751x532cq70/packed-with-nutrition-takoyaki-recipe-main-photo.jpg', 'https://c1.wallpaperflare.com/preview/987/991/768/food-plate-wooden-table.jpg', 'https://encrypted-tbn0.gstatic.com/images?q=tbn:ANd9GcSj_gIePsPoXRVwTtTfwpvOLBQanD-P2RYTHg&usqp=CAU', 'https://www.bitemybun.com/wp-content/uploads/2020/11/How-to-flip-a-takoyaki-ball.jpg', 'https://encrypted-tbn0.gstatic.com/images?q=tbn:ANd9GcQ5EgeHRSzuoX9wbhuHTN2lm6Cy4wv5s3w6-Q&usqp=CAU', 'https://encrypted-tbn0.gstatic.com/images?q=tbn:ANd9GcQlwJdrLYDbKI8O894ypj_LNpBtouiB28nxkg&usqp=CAU', 'https://encrypted-tbn0.gstatic.com/images?q=tbn:ANd9GcTv7m0nk8JMRPVMjH0XkIks6nuv2UVxlxYZWA&usqp=CAU', 'https://encrypted-tbn0.gstatic.com/images?q=tbn:ANd9GcS9qnYAXgxLDQ1GUie2ikNIbVtatoGw8fwrwg&usqp=CAU', 'https://cdn.shopify.com/s/files/1/0353/5621/articles/TAKOYAKI_1112x.jpg?v=1634565675', 'https://image.shutterstock.com/image-photo/takoyaki-octopus-balls-japanese-food-260nw-1717422313.jpg', 'https://encrypted-tbn0.gstatic.com/images?q=tbn:ANd9GcTz1lRdtQccny7qH5OTKoPbZ4aMXMU1On_oAw&usqp=CAU', 'https://encrypted-tbn0.gstatic.com/images?q=tbn:ANd9GcQa5Ro9XWN9DlvRaZcqQio922e7HEz1e66irw&usqp=CAU', 'https://encrypted-tbn0.gstatic.com/images?q=tbn:ANd9GcQEUkG_RpgmF1c44RPyHcEOrQO6xEiXl8s38A&usqp=CAU', 'https://encrypted-tbn0.gstatic.com/images?q=tbn:ANd9GcT22_iovQentgVGinGFBzmuGV90PcBlgJQ4Hw&usqp=CAU', 'https://encrypted-tbn0.gstatic.com/images?q=tbn:ANd9GcSF6HMYzi9qDEQvM79ZtbpS14-1RKWYEuCZTA&usqp=CAU', 'https://encrypted-tbn0.gstatic.com/images?q=tbn:ANd9GcQkjZzv45PdHCItBpbxAjh5IAXnd13-UxRlEA&usqp=CAU', 'https://encrypted-tbn0.gstatic.com/images?q=tbn:ANd9GcRPohabshMRaqK_js7EpR0fvwbxvmUTqsbBXw&usqp=CAU', 'https://encrypted-tbn0.gstatic.com/images?q=tbn:ANd9GcQxYP1RMgkv0K2TaALICeCRvIwnuPsqQ1SyVQ&usqp=CAU', 'https://encrypted-tbn0.gstatic.com/images?q=tbn:ANd9GcQklfk-KMEqCo1C-nVRz5-g_WF7v_dLgZM2Mw&usqp=CAU', 'https://encrypted-tbn0.gstatic.com/images?q=tbn:ANd9GcQGrLKYp92H30qAyi8L3iZ78gu-ZbX6y354Tg&usqp=CAU', 'https://encrypted-tbn0.gstatic.com/images?q=tbn:ANd9GcQYfnRCkXJSVxktlfBdLhhldhgw6ed19NVS6g&usqp=CAU', 'https://m.media-amazon.com/images/I/81zhkqivlKL._SL1500_.jpg', 'https://encrypted-tbn0.gstatic.com/images?q=tbn:ANd9GcTqQRamSZy_kmWt8pbeREXEI4DLL59NJog72w&usqp=CAU', 'https://encrypted-tbn0.gstatic.com/images?q=tbn:ANd9GcQviv3GLiAGO2ehiPR59WmhDNp1zfiT9YH-zA&usqp=CAU', 'https://encrypted-tbn0.gstatic.com/images?q=tbn:ANd9GcTxIatcdHqoHxc194SqcRgsO1tnWC8ehab9bg&usqp=CAU', 'https://encrypted-tbn0.gstatic.com/images?q=tbn:ANd9GcQuiEpzHnDdtiJVxXEtNPJAIKo7dueS_Ee3Sg&usqp=CAU', 'https://encrypted-tbn0.gstatic.com/images?q=tbn:ANd9GcRKC_z-Ve6dmYtQllWi54dQKoUyogk-wwayIg&usqp=CAU', 'https://byfood.b-cdn.net/api/public/assets/9641/content', 'https://encrypted-tbn0.gstatic.com/images?q=tbn:ANd9GcRD9NJmTo7U9Fk3Fxd5vZDH1EN4fpkA3VsDMA&usqp=CAU', 'https://encrypted-tbn0.gstatic.com/images?q=tbn:ANd9GcSZZakzhSFDODYC62MVpfZd90ejBXOjoUNDxw&usqp=CAU', 'https://encrypted-tbn0.gstatic.com/images?q=tbn:ANd9GcRqxBQwDaHFvrL5k11AFfMc9kG8vmemwfUvbA&usqp=CAU', 'https://encrypted-tbn0.gstatic.com/images?q=tbn:ANd9GcR6ONUJlETYL9VzgaDbkt-NNOPJu58Jzoyv-Q&usqp=CAU', 'https://encrypted-tbn0.gstatic.com/images?q=tbn:ANd9GcTOlQyjmUPL2UJcdnoI0XGF7vVZwW0l0x54yA&usqp=CAU', 'https://cdn.shopify.com/s/files/1/0412/3138/4725/products/70508-002_2000x.jpg?v=1608326067', 'https://img.buzzfeed.com/thumbnailer-prod-us-east-1/35fe3e025bf4400ebee43d237c3a7455/BFV82005_4GameDayFoodsAroundTheWorld_JW_080221_1x1_v4_OO.jpg', 'https://encrypted-tbn0.gstatic.com/images?q=tbn:ANd9GcQXIFL-Sny9pujruRdsHYQc79uO3uqMI43yZw&usqp=CAU', 'https://thumbs.dreamstime.com/b/homemade-japaense-octopus-takoyaki-homemade-japaense-octopus-takoyaki-mayo-sauce-bonito-176820269.jpg', 'https://encrypted-tbn0.gstatic.com/images?q=tbn:ANd9GcT2B0owx4X-oBG5U5L8iJ-xcEO0JpftO--I9w&usqp=CAU'}\n"
     ]
    },
    {
     "name": "stderr",
     "output_type": "stream",
     "text": [
      "C:\\Users\\mandeep.singh\\Anaconda3\\lib\\site-packages\\urllib3\\connectionpool.py:1013: InsecureRequestWarning: Unverified HTTPS request is being made to host 'encrypted-tbn0.gstatic.com'. Adding certificate verification is strongly advised. See: https://urllib3.readthedocs.io/en/latest/advanced-usage.html#ssl-warnings\n",
      "  warnings.warn(\n"
     ]
    },
    {
     "name": "stdout",
     "output_type": "stream",
     "text": [
      "SUCCESS - saved https://encrypted-tbn0.gstatic.com/images?q=tbn:ANd9GcSjKZMuJaTdY0bT5IURrStQmR2dlPDO2iDyfQ&usqp=CAU - as ./images\\takoyaki\\1ff256d8ce.jpg\n"
     ]
    },
    {
     "name": "stderr",
     "output_type": "stream",
     "text": [
      "C:\\Users\\mandeep.singh\\Anaconda3\\lib\\site-packages\\urllib3\\connectionpool.py:1013: InsecureRequestWarning: Unverified HTTPS request is being made to host 'encrypted-tbn0.gstatic.com'. Adding certificate verification is strongly advised. See: https://urllib3.readthedocs.io/en/latest/advanced-usage.html#ssl-warnings\n",
      "  warnings.warn(\n"
     ]
    },
    {
     "name": "stdout",
     "output_type": "stream",
     "text": [
      "SUCCESS - saved https://encrypted-tbn0.gstatic.com/images?q=tbn:ANd9GcQLBkPedF5WaQlxLR0PJLNJyUHLVb25d-3jzw&usqp=CAU - as ./images\\takoyaki\\c2189d3599.jpg\n"
     ]
    },
    {
     "name": "stderr",
     "output_type": "stream",
     "text": [
      "C:\\Users\\mandeep.singh\\Anaconda3\\lib\\site-packages\\urllib3\\connectionpool.py:1013: InsecureRequestWarning: Unverified HTTPS request is being made to host 'i.ytimg.com'. Adding certificate verification is strongly advised. See: https://urllib3.readthedocs.io/en/latest/advanced-usage.html#ssl-warnings\n",
      "  warnings.warn(\n"
     ]
    },
    {
     "name": "stdout",
     "output_type": "stream",
     "text": [
      "SUCCESS - saved https://i.ytimg.com/vi/JjE4IJp9FQ4/maxresdefault.jpg - as ./images\\takoyaki\\16abf693b5.jpg\n",
      "SUCCESS - saved https://encrypted-tbn0.gstatic.com/images?q=tbn:ANd9GcSyrLe7Vw6FijqDQ3-B6xAk0vBps_vIWZ_XvA&usqp=CAU - as ./images\\takoyaki\\72e7affaae.jpg\n"
     ]
    },
    {
     "name": "stderr",
     "output_type": "stream",
     "text": [
      "C:\\Users\\mandeep.singh\\Anaconda3\\lib\\site-packages\\urllib3\\connectionpool.py:1013: InsecureRequestWarning: Unverified HTTPS request is being made to host 'encrypted-tbn0.gstatic.com'. Adding certificate verification is strongly advised. See: https://urllib3.readthedocs.io/en/latest/advanced-usage.html#ssl-warnings\n",
      "  warnings.warn(\n",
      "C:\\Users\\mandeep.singh\\Anaconda3\\lib\\site-packages\\urllib3\\connectionpool.py:1013: InsecureRequestWarning: Unverified HTTPS request is being made to host 'encrypted-tbn0.gstatic.com'. Adding certificate verification is strongly advised. See: https://urllib3.readthedocs.io/en/latest/advanced-usage.html#ssl-warnings\n",
      "  warnings.warn(\n"
     ]
    },
    {
     "name": "stdout",
     "output_type": "stream",
     "text": [
      "SUCCESS - saved https://encrypted-tbn0.gstatic.com/images?q=tbn:ANd9GcS6StG4tydQ34e-DMFS4tVJ2lMFPFBIp0qSdw&usqp=CAU - as ./images\\takoyaki\\3abbd92dca.jpg\n",
      "SUCCESS - saved https://encrypted-tbn0.gstatic.com/images?q=tbn:ANd9GcRXIilSVJfh6VzlRt_Rko7oOqrveLKCV_yZTg&usqp=CAU - as ./images\\takoyaki\\abb5fd6249.jpg\n"
     ]
    },
    {
     "name": "stderr",
     "output_type": "stream",
     "text": [
      "C:\\Users\\mandeep.singh\\Anaconda3\\lib\\site-packages\\urllib3\\connectionpool.py:1013: InsecureRequestWarning: Unverified HTTPS request is being made to host 'encrypted-tbn0.gstatic.com'. Adding certificate verification is strongly advised. See: https://urllib3.readthedocs.io/en/latest/advanced-usage.html#ssl-warnings\n",
      "  warnings.warn(\n",
      "C:\\Users\\mandeep.singh\\Anaconda3\\lib\\site-packages\\urllib3\\connectionpool.py:1013: InsecureRequestWarning: Unverified HTTPS request is being made to host 'encrypted-tbn0.gstatic.com'. Adding certificate verification is strongly advised. See: https://urllib3.readthedocs.io/en/latest/advanced-usage.html#ssl-warnings\n",
      "  warnings.warn(\n"
     ]
    },
    {
     "name": "stdout",
     "output_type": "stream",
     "text": [
      "SUCCESS - saved https://encrypted-tbn0.gstatic.com/images?q=tbn:ANd9GcQ-7G-zfhp_EOtLVLuoRV0ZxC-Q5QEVDGfGRw&usqp=CAU - as ./images\\takoyaki\\336c255f2e.jpg\n"
     ]
    },
    {
     "name": "stderr",
     "output_type": "stream",
     "text": [
      "C:\\Users\\mandeep.singh\\Anaconda3\\lib\\site-packages\\urllib3\\connectionpool.py:1013: InsecureRequestWarning: Unverified HTTPS request is being made to host 'upload.wikimedia.org'. Adding certificate verification is strongly advised. See: https://urllib3.readthedocs.io/en/latest/advanced-usage.html#ssl-warnings\n",
      "  warnings.warn(\n"
     ]
    },
    {
     "name": "stdout",
     "output_type": "stream",
     "text": [
      "SUCCESS - saved https://upload.wikimedia.org/wikipedia/commons/d/d8/Takoyaki_by_yomi955.jpg - as ./images\\takoyaki\\be51ed1064.jpg\n"
     ]
    },
    {
     "name": "stderr",
     "output_type": "stream",
     "text": [
      "C:\\Users\\mandeep.singh\\Anaconda3\\lib\\site-packages\\urllib3\\connectionpool.py:1013: InsecureRequestWarning: Unverified HTTPS request is being made to host 'encrypted-tbn0.gstatic.com'. Adding certificate verification is strongly advised. See: https://urllib3.readthedocs.io/en/latest/advanced-usage.html#ssl-warnings\n",
      "  warnings.warn(\n"
     ]
    },
    {
     "name": "stdout",
     "output_type": "stream",
     "text": [
      "SUCCESS - saved https://encrypted-tbn0.gstatic.com/images?q=tbn:ANd9GcQNsGIoGabFThr33mkSDvP8oMD26ekObiAtQw&usqp=CAU - as ./images\\takoyaki\\adbb04332e.jpg\n"
     ]
    },
    {
     "name": "stderr",
     "output_type": "stream",
     "text": [
      "C:\\Users\\mandeep.singh\\Anaconda3\\lib\\site-packages\\urllib3\\connectionpool.py:1013: InsecureRequestWarning: Unverified HTTPS request is being made to host 'encrypted-tbn0.gstatic.com'. Adding certificate verification is strongly advised. See: https://urllib3.readthedocs.io/en/latest/advanced-usage.html#ssl-warnings\n",
      "  warnings.warn(\n"
     ]
    },
    {
     "name": "stdout",
     "output_type": "stream",
     "text": [
      "SUCCESS - saved https://encrypted-tbn0.gstatic.com/images?q=tbn:ANd9GcTap6qMS6EL-7FCVSwCv_uaLFRnyyyOhjRUvA&usqp=CAU - as ./images\\takoyaki\\460143074c.jpg\n"
     ]
    },
    {
     "name": "stderr",
     "output_type": "stream",
     "text": [
      "C:\\Users\\mandeep.singh\\Anaconda3\\lib\\site-packages\\urllib3\\connectionpool.py:1013: InsecureRequestWarning: Unverified HTTPS request is being made to host 'www.wikihow.com'. Adding certificate verification is strongly advised. See: https://urllib3.readthedocs.io/en/latest/advanced-usage.html#ssl-warnings\n",
      "  warnings.warn(\n"
     ]
    },
    {
     "name": "stdout",
     "output_type": "stream",
     "text": [
      "SUCCESS - saved https://www.wikihow.com/images/thumb/3/39/Make-Takoyaki-Step-15.jpg/v4-460px-Make-Takoyaki-Step-15.jpg - as ./images\\takoyaki\\cbe0b04d36.jpg\n"
     ]
    },
    {
     "name": "stderr",
     "output_type": "stream",
     "text": [
      "C:\\Users\\mandeep.singh\\Anaconda3\\lib\\site-packages\\urllib3\\connectionpool.py:1013: InsecureRequestWarning: Unverified HTTPS request is being made to host 'encrypted-tbn0.gstatic.com'. Adding certificate verification is strongly advised. See: https://urllib3.readthedocs.io/en/latest/advanced-usage.html#ssl-warnings\n",
      "  warnings.warn(\n"
     ]
    },
    {
     "name": "stdout",
     "output_type": "stream",
     "text": [
      "SUCCESS - saved https://encrypted-tbn0.gstatic.com/images?q=tbn:ANd9GcQGZXfyBUzp8EcWZrLD1ZyW_v4DAmkTSxngOg&usqp=CAU - as ./images\\takoyaki\\830cba1190.jpg\n"
     ]
    },
    {
     "name": "stderr",
     "output_type": "stream",
     "text": [
      "C:\\Users\\mandeep.singh\\Anaconda3\\lib\\site-packages\\urllib3\\connectionpool.py:1013: InsecureRequestWarning: Unverified HTTPS request is being made to host 'www.thespruceeats.com'. Adding certificate verification is strongly advised. See: https://urllib3.readthedocs.io/en/latest/advanced-usage.html#ssl-warnings\n",
      "  warnings.warn(\n",
      "C:\\Users\\mandeep.singh\\Anaconda3\\lib\\site-packages\\urllib3\\connectionpool.py:1013: InsecureRequestWarning: Unverified HTTPS request is being made to host 'encrypted-tbn0.gstatic.com'. Adding certificate verification is strongly advised. See: https://urllib3.readthedocs.io/en/latest/advanced-usage.html#ssl-warnings\n",
      "  warnings.warn(\n"
     ]
    },
    {
     "name": "stdout",
     "output_type": "stream",
     "text": [
      "SUCCESS - saved https://www.thespruceeats.com/thmb/fau9RmEvtZM4CH-2RAcP7w0FMeQ=/450x0/filters:no_upscale():max_bytes(150000):strip_icc()/GettyImages-594854769-570b3acb3df78c7d9edff25a.jpg - as ./images\\takoyaki\\3555d67b22.jpg\n",
      "SUCCESS - saved https://encrypted-tbn0.gstatic.com/images?q=tbn:ANd9GcSQVsJPi0Qa-zCaw4zeoqWm6uhN53F9s1I3QA&usqp=CAU - as ./images\\takoyaki\\fb567f6c8d.jpg\n",
      "SUCCESS - saved https://encrypted-tbn0.gstatic.com/images?q=tbn:ANd9GcRn8iDvkMEzJ3HYKsM27fbSJfeYCQuqL9eWOw&usqp=CAU - as ./images\\takoyaki\\b7b2cc0c93.jpg\n"
     ]
    },
    {
     "name": "stderr",
     "output_type": "stream",
     "text": [
      "C:\\Users\\mandeep.singh\\Anaconda3\\lib\\site-packages\\urllib3\\connectionpool.py:1013: InsecureRequestWarning: Unverified HTTPS request is being made to host 'encrypted-tbn0.gstatic.com'. Adding certificate verification is strongly advised. See: https://urllib3.readthedocs.io/en/latest/advanced-usage.html#ssl-warnings\n",
      "  warnings.warn(\n",
      "C:\\Users\\mandeep.singh\\Anaconda3\\lib\\site-packages\\urllib3\\connectionpool.py:1013: InsecureRequestWarning: Unverified HTTPS request is being made to host 'encrypted-tbn0.gstatic.com'. Adding certificate verification is strongly advised. See: https://urllib3.readthedocs.io/en/latest/advanced-usage.html#ssl-warnings\n",
      "  warnings.warn(\n"
     ]
    },
    {
     "name": "stdout",
     "output_type": "stream",
     "text": [
      "SUCCESS - saved https://encrypted-tbn0.gstatic.com/images?q=tbn:ANd9GcSXFvF9HNZ4yO7C3oEUBA8aTSPtXZ5_-waB1w&usqp=CAU - as ./images\\takoyaki\\a970814369.jpg\n"
     ]
    },
    {
     "name": "stderr",
     "output_type": "stream",
     "text": [
      "C:\\Users\\mandeep.singh\\Anaconda3\\lib\\site-packages\\urllib3\\connectionpool.py:1013: InsecureRequestWarning: Unverified HTTPS request is being made to host 'encrypted-tbn0.gstatic.com'. Adding certificate verification is strongly advised. See: https://urllib3.readthedocs.io/en/latest/advanced-usage.html#ssl-warnings\n",
      "  warnings.warn(\n"
     ]
    },
    {
     "name": "stdout",
     "output_type": "stream",
     "text": [
      "SUCCESS - saved https://encrypted-tbn0.gstatic.com/images?q=tbn:ANd9GcSyHnpXQlA1-D8HhLpSDM_Cu6hK-50wOL4AdQ&usqp=CAU - as ./images\\takoyaki\\0ddfa9fee5.jpg\n"
     ]
    },
    {
     "name": "stderr",
     "output_type": "stream",
     "text": [
      "C:\\Users\\mandeep.singh\\Anaconda3\\lib\\site-packages\\urllib3\\connectionpool.py:1013: InsecureRequestWarning: Unverified HTTPS request is being made to host 'images.unsplash.com'. Adding certificate verification is strongly advised. See: https://urllib3.readthedocs.io/en/latest/advanced-usage.html#ssl-warnings\n",
      "  warnings.warn(\n"
     ]
    },
    {
     "name": "stdout",
     "output_type": "stream",
     "text": [
      "SUCCESS - saved https://images.unsplash.com/photo-1569740392698-59e8ce4f47cc?ixlib=rb-1.2.1&ixid=MnwxMjA3fDB8MHxzZWFyY2h8MXx8dGFrb3lha2l8ZW58MHx8MHx8&w=1000&q=80 - as ./images\\takoyaki\\016c488737.jpg\n"
     ]
    },
    {
     "name": "stderr",
     "output_type": "stream",
     "text": [
      "C:\\Users\\mandeep.singh\\Anaconda3\\lib\\site-packages\\urllib3\\connectionpool.py:1013: InsecureRequestWarning: Unverified HTTPS request is being made to host 'cdn.pixabay.com'. Adding certificate verification is strongly advised. See: https://urllib3.readthedocs.io/en/latest/advanced-usage.html#ssl-warnings\n",
      "  warnings.warn(\n"
     ]
    },
    {
     "name": "stdout",
     "output_type": "stream",
     "text": [
      "SUCCESS - saved https://cdn.pixabay.com/photo/2020/05/08/02/13/octopus-dumplings-5143845__480.jpg - as ./images\\takoyaki\\b807c38c68.jpg\n"
     ]
    },
    {
     "name": "stderr",
     "output_type": "stream",
     "text": [
      "C:\\Users\\mandeep.singh\\Anaconda3\\lib\\site-packages\\urllib3\\connectionpool.py:1013: InsecureRequestWarning: Unverified HTTPS request is being made to host 'encrypted-tbn0.gstatic.com'. Adding certificate verification is strongly advised. See: https://urllib3.readthedocs.io/en/latest/advanced-usage.html#ssl-warnings\n",
      "  warnings.warn(\n"
     ]
    },
    {
     "name": "stdout",
     "output_type": "stream",
     "text": [
      "SUCCESS - saved https://encrypted-tbn0.gstatic.com/images?q=tbn:ANd9GcQkQr2cmQ7fMobL437eNpM7im1JClEwQYCKJw&usqp=CAU - as ./images\\takoyaki\\9ae028822c.jpg\n"
     ]
    },
    {
     "name": "stderr",
     "output_type": "stream",
     "text": [
      "C:\\Users\\mandeep.singh\\Anaconda3\\lib\\site-packages\\urllib3\\connectionpool.py:1013: InsecureRequestWarning: Unverified HTTPS request is being made to host 'encrypted-tbn0.gstatic.com'. Adding certificate verification is strongly advised. See: https://urllib3.readthedocs.io/en/latest/advanced-usage.html#ssl-warnings\n",
      "  warnings.warn(\n"
     ]
    },
    {
     "name": "stdout",
     "output_type": "stream",
     "text": [
      "SUCCESS - saved https://encrypted-tbn0.gstatic.com/images?q=tbn:ANd9GcTPdsp-A-edHo05YyFEZHuERwusRQ-mm9WPeg&usqp=CAU - as ./images\\takoyaki\\c5f0e7490e.jpg\n"
     ]
    },
    {
     "name": "stderr",
     "output_type": "stream",
     "text": [
      "C:\\Users\\mandeep.singh\\Anaconda3\\lib\\site-packages\\urllib3\\connectionpool.py:1013: InsecureRequestWarning: Unverified HTTPS request is being made to host 'ae01.alicdn.com'. Adding certificate verification is strongly advised. See: https://urllib3.readthedocs.io/en/latest/advanced-usage.html#ssl-warnings\n",
      "  warnings.warn(\n"
     ]
    },
    {
     "name": "stdout",
     "output_type": "stream",
     "text": [
      "ERROR - Could not save https://ae01.alicdn.com/kf/H859e4644142e4c0b83721a0173abe1c2p/Octopus-Ball-Maker-Takoyaki-Baking-Pan-Electric-Taiyaki-Machine-Sausage-Hotdog-Eggs-Omelette-Grill-Japanese-Fish.jpg_Q90.jpg_.webp - cannot identify image file <_io.BytesIO object at 0x0000024D6D24DB30>\n"
     ]
    },
    {
     "name": "stderr",
     "output_type": "stream",
     "text": [
      "C:\\Users\\mandeep.singh\\Anaconda3\\lib\\site-packages\\urllib3\\connectionpool.py:1013: InsecureRequestWarning: Unverified HTTPS request is being made to host 't3.ftcdn.net'. Adding certificate verification is strongly advised. See: https://urllib3.readthedocs.io/en/latest/advanced-usage.html#ssl-warnings\n",
      "  warnings.warn(\n"
     ]
    },
    {
     "name": "stdout",
     "output_type": "stream",
     "text": [
      "SUCCESS - saved https://t3.ftcdn.net/jpg/02/96/13/00/360_F_296130077_VPqZbc11IMmBv6E2zC7vv8OusEa50zfM.jpg - as ./images\\takoyaki\\a07878b40f.jpg\n"
     ]
    },
    {
     "name": "stderr",
     "output_type": "stream",
     "text": [
      "C:\\Users\\mandeep.singh\\Anaconda3\\lib\\site-packages\\urllib3\\connectionpool.py:1013: InsecureRequestWarning: Unverified HTTPS request is being made to host 'b.zmtcdn.com'. Adding certificate verification is strongly advised. See: https://urllib3.readthedocs.io/en/latest/advanced-usage.html#ssl-warnings\n",
      "  warnings.warn(\n"
     ]
    },
    {
     "name": "stdout",
     "output_type": "stream",
     "text": [
      "ERROR - Could not save https://b.zmtcdn.com/data/reviews_photos/a03/3cce7afd1e09391fafc3144ed3897a03.jpg?fit=around|771.75:416.25&crop=771.75:416.25;*,* - cannot identify image file <_io.BytesIO object at 0x0000024D6D30CD60>\n"
     ]
    },
    {
     "name": "stderr",
     "output_type": "stream",
     "text": [
      "C:\\Users\\mandeep.singh\\Anaconda3\\lib\\site-packages\\urllib3\\connectionpool.py:1013: InsecureRequestWarning: Unverified HTTPS request is being made to host 'encrypted-tbn0.gstatic.com'. Adding certificate verification is strongly advised. See: https://urllib3.readthedocs.io/en/latest/advanced-usage.html#ssl-warnings\n",
      "  warnings.warn(\n"
     ]
    },
    {
     "name": "stdout",
     "output_type": "stream",
     "text": [
      "SUCCESS - saved https://encrypted-tbn0.gstatic.com/images?q=tbn:ANd9GcRF6stdAIAoQl1U-2LtitwsvB7qkR8scNxdrw&usqp=CAU - as ./images\\takoyaki\\b9c0968633.jpg\n"
     ]
    },
    {
     "name": "stderr",
     "output_type": "stream",
     "text": [
      "C:\\Users\\mandeep.singh\\Anaconda3\\lib\\site-packages\\urllib3\\connectionpool.py:1013: InsecureRequestWarning: Unverified HTTPS request is being made to host 'www.ana-cooljapan.com'. Adding certificate verification is strongly advised. See: https://urllib3.readthedocs.io/en/latest/advanced-usage.html#ssl-warnings\n",
      "  warnings.warn(\n"
     ]
    },
    {
     "name": "stdout",
     "output_type": "stream",
     "text": [
      "SUCCESS - saved https://www.ana-cooljapan.com/destinations/img/osaka/takoyaki/sp_main.jpg - as ./images\\takoyaki\\8abd7df68d.jpg\n"
     ]
    },
    {
     "name": "stderr",
     "output_type": "stream",
     "text": [
      "C:\\Users\\mandeep.singh\\Anaconda3\\lib\\site-packages\\urllib3\\connectionpool.py:1013: InsecureRequestWarning: Unverified HTTPS request is being made to host 'encrypted-tbn0.gstatic.com'. Adding certificate verification is strongly advised. See: https://urllib3.readthedocs.io/en/latest/advanced-usage.html#ssl-warnings\n",
      "  warnings.warn(\n"
     ]
    },
    {
     "name": "stdout",
     "output_type": "stream",
     "text": [
      "SUCCESS - saved https://encrypted-tbn0.gstatic.com/images?q=tbn:ANd9GcT7v_lgBczUNi9guZA43A0X72ok1ZQLozn6ag&usqp=CAU - as ./images\\takoyaki\\6670e0841c.jpg\n"
     ]
    },
    {
     "name": "stderr",
     "output_type": "stream",
     "text": [
      "C:\\Users\\mandeep.singh\\Anaconda3\\lib\\site-packages\\urllib3\\connectionpool.py:1013: InsecureRequestWarning: Unverified HTTPS request is being made to host 'encrypted-tbn0.gstatic.com'. Adding certificate verification is strongly advised. See: https://urllib3.readthedocs.io/en/latest/advanced-usage.html#ssl-warnings\n",
      "  warnings.warn(\n"
     ]
    },
    {
     "name": "stdout",
     "output_type": "stream",
     "text": [
      "SUCCESS - saved https://encrypted-tbn0.gstatic.com/images?q=tbn:ANd9GcT6VhA-Y8rDj8wTvVwXnYfXNxXT6H-EMRNh8Q&usqp=CAU - as ./images\\takoyaki\\75492ef24a.jpg\n"
     ]
    },
    {
     "name": "stderr",
     "output_type": "stream",
     "text": [
      "C:\\Users\\mandeep.singh\\Anaconda3\\lib\\site-packages\\urllib3\\connectionpool.py:1013: InsecureRequestWarning: Unverified HTTPS request is being made to host 'encrypted-tbn0.gstatic.com'. Adding certificate verification is strongly advised. See: https://urllib3.readthedocs.io/en/latest/advanced-usage.html#ssl-warnings\n",
      "  warnings.warn(\n"
     ]
    },
    {
     "name": "stdout",
     "output_type": "stream",
     "text": [
      "SUCCESS - saved https://encrypted-tbn0.gstatic.com/images?q=tbn:ANd9GcRrii35MMHakbACkrJGzYy2lU37ZUAV2Okfxg&usqp=CAU - as ./images\\takoyaki\\95a2b9907e.jpg\n"
     ]
    },
    {
     "name": "stderr",
     "output_type": "stream",
     "text": [
      "C:\\Users\\mandeep.singh\\Anaconda3\\lib\\site-packages\\urllib3\\connectionpool.py:1013: InsecureRequestWarning: Unverified HTTPS request is being made to host 'i.ytimg.com'. Adding certificate verification is strongly advised. See: https://urllib3.readthedocs.io/en/latest/advanced-usage.html#ssl-warnings\n",
      "  warnings.warn(\n"
     ]
    },
    {
     "name": "stdout",
     "output_type": "stream",
     "text": [
      "SUCCESS - saved https://i.ytimg.com/vi/8bdgxDFlroY/hqdefault.jpg - as ./images\\takoyaki\\581c9e3dad.jpg\n"
     ]
    },
    {
     "name": "stderr",
     "output_type": "stream",
     "text": [
      "C:\\Users\\mandeep.singh\\Anaconda3\\lib\\site-packages\\urllib3\\connectionpool.py:1013: InsecureRequestWarning: Unverified HTTPS request is being made to host 'i.ytimg.com'. Adding certificate verification is strongly advised. See: https://urllib3.readthedocs.io/en/latest/advanced-usage.html#ssl-warnings\n",
      "  warnings.warn(\n"
     ]
    },
    {
     "name": "stdout",
     "output_type": "stream",
     "text": [
      "SUCCESS - saved https://i.ytimg.com/vi/n-k3TeLeQBQ/maxresdefault.jpg - as ./images\\takoyaki\\c80e24145d.jpg\n"
     ]
    },
    {
     "name": "stderr",
     "output_type": "stream",
     "text": [
      "C:\\Users\\mandeep.singh\\Anaconda3\\lib\\site-packages\\urllib3\\connectionpool.py:1013: InsecureRequestWarning: Unverified HTTPS request is being made to host 'encrypted-tbn0.gstatic.com'. Adding certificate verification is strongly advised. See: https://urllib3.readthedocs.io/en/latest/advanced-usage.html#ssl-warnings\n",
      "  warnings.warn(\n",
      "C:\\Users\\mandeep.singh\\Anaconda3\\lib\\site-packages\\urllib3\\connectionpool.py:1013: InsecureRequestWarning: Unverified HTTPS request is being made to host 'encrypted-tbn0.gstatic.com'. Adding certificate verification is strongly advised. See: https://urllib3.readthedocs.io/en/latest/advanced-usage.html#ssl-warnings\n",
      "  warnings.warn(\n"
     ]
    },
    {
     "name": "stdout",
     "output_type": "stream",
     "text": [
      "SUCCESS - saved https://encrypted-tbn0.gstatic.com/images?q=tbn:ANd9GcSdn3cbGjn_svACOEVB6uCK45EN_U00iVtC7A&usqp=CAU - as ./images\\takoyaki\\7272ff6b03.jpg\n",
      "SUCCESS - saved https://encrypted-tbn0.gstatic.com/images?q=tbn:ANd9GcSq-62TGGIesFXDhsdeVOY0Q9ybs1x4t1i3PQ&usqp=CAU - as ./images\\takoyaki\\93828d8153.jpg\n"
     ]
    },
    {
     "name": "stderr",
     "output_type": "stream",
     "text": [
      "C:\\Users\\mandeep.singh\\Anaconda3\\lib\\site-packages\\urllib3\\connectionpool.py:1013: InsecureRequestWarning: Unverified HTTPS request is being made to host 'encrypted-tbn0.gstatic.com'. Adding certificate verification is strongly advised. See: https://urllib3.readthedocs.io/en/latest/advanced-usage.html#ssl-warnings\n",
      "  warnings.warn(\n"
     ]
    },
    {
     "name": "stdout",
     "output_type": "stream",
     "text": [
      "SUCCESS - saved https://encrypted-tbn0.gstatic.com/images?q=tbn:ANd9GcQPz4bfnFsIZu4CLL2SnIZwJWUlD9eKl9NfWw&usqp=CAU - as ./images\\takoyaki\\63d84c2f1b.jpg\n"
     ]
    },
    {
     "name": "stderr",
     "output_type": "stream",
     "text": [
      "C:\\Users\\mandeep.singh\\Anaconda3\\lib\\site-packages\\urllib3\\connectionpool.py:1013: InsecureRequestWarning: Unverified HTTPS request is being made to host 'ae01.alicdn.com'. Adding certificate verification is strongly advised. See: https://urllib3.readthedocs.io/en/latest/advanced-usage.html#ssl-warnings\n",
      "  warnings.warn(\n"
     ]
    },
    {
     "name": "stdout",
     "output_type": "stream",
     "text": [
      "ERROR - Could not save https://ae01.alicdn.com/kf/HTB15SekJFXXXXccXXXXq6xXFXXXE/Save-cost-Gas-style-84pcs-holes-4cm-size-commercial-takoyaki-grill-takoyaki-maker-machine-with-free.jpg - cannot identify image file <_io.BytesIO object at 0x0000024D6D30CD60>\n"
     ]
    },
    {
     "name": "stderr",
     "output_type": "stream",
     "text": [
      "C:\\Users\\mandeep.singh\\Anaconda3\\lib\\site-packages\\urllib3\\connectionpool.py:1013: InsecureRequestWarning: Unverified HTTPS request is being made to host 'cdn4.vectorstock.com'. Adding certificate verification is strongly advised. See: https://urllib3.readthedocs.io/en/latest/advanced-usage.html#ssl-warnings\n",
      "  warnings.warn(\n"
     ]
    },
    {
     "name": "stdout",
     "output_type": "stream",
     "text": [
      "SUCCESS - saved https://cdn4.vectorstock.com/i/1000x1000/25/68/japanese-food-takoyaki-asian-dish-vector-25732568.jpg - as ./images\\takoyaki\\c55c982aa7.jpg\n"
     ]
    },
    {
     "name": "stderr",
     "output_type": "stream",
     "text": [
      "C:\\Users\\mandeep.singh\\Anaconda3\\lib\\site-packages\\urllib3\\connectionpool.py:1013: InsecureRequestWarning: Unverified HTTPS request is being made to host 'encrypted-tbn0.gstatic.com'. Adding certificate verification is strongly advised. See: https://urllib3.readthedocs.io/en/latest/advanced-usage.html#ssl-warnings\n",
      "  warnings.warn(\n"
     ]
    },
    {
     "name": "stdout",
     "output_type": "stream",
     "text": [
      "SUCCESS - saved https://encrypted-tbn0.gstatic.com/images?q=tbn:ANd9GcQJySsP-1MfZWAtVN18V98s7KoljDkb2jVNWQ&usqp=CAU - as ./images\\takoyaki\\ba184af0ca.jpg\n"
     ]
    },
    {
     "name": "stderr",
     "output_type": "stream",
     "text": [
      "C:\\Users\\mandeep.singh\\Anaconda3\\lib\\site-packages\\urllib3\\connectionpool.py:1013: InsecureRequestWarning: Unverified HTTPS request is being made to host 'img-global.cpcdn.com'. Adding certificate verification is strongly advised. See: https://urllib3.readthedocs.io/en/latest/advanced-usage.html#ssl-warnings\n",
      "  warnings.warn(\n"
     ]
    },
    {
     "name": "stdout",
     "output_type": "stream",
     "text": [
      "SUCCESS - saved https://img-global.cpcdn.com/recipes/3372fdc5f13257b3/1200x630cq70/photo.jpg - as ./images\\takoyaki\\e92555bd6d.jpg\n",
      "SUCCESS - saved https://encrypted-tbn0.gstatic.com/images?q=tbn:ANd9GcS6GZM9gnw9vTymj4ZNbAEj1GlWatFR7BuHzg&usqp=CAU - as ./images\\takoyaki\\de729a2b36.jpg\n"
     ]
    },
    {
     "name": "stderr",
     "output_type": "stream",
     "text": [
      "C:\\Users\\mandeep.singh\\Anaconda3\\lib\\site-packages\\urllib3\\connectionpool.py:1013: InsecureRequestWarning: Unverified HTTPS request is being made to host 'encrypted-tbn0.gstatic.com'. Adding certificate verification is strongly advised. See: https://urllib3.readthedocs.io/en/latest/advanced-usage.html#ssl-warnings\n",
      "  warnings.warn(\n",
      "C:\\Users\\mandeep.singh\\Anaconda3\\lib\\site-packages\\urllib3\\connectionpool.py:1013: InsecureRequestWarning: Unverified HTTPS request is being made to host 'encrypted-tbn0.gstatic.com'. Adding certificate verification is strongly advised. See: https://urllib3.readthedocs.io/en/latest/advanced-usage.html#ssl-warnings\n",
      "  warnings.warn(\n"
     ]
    },
    {
     "name": "stdout",
     "output_type": "stream",
     "text": [
      "SUCCESS - saved https://encrypted-tbn0.gstatic.com/images?q=tbn:ANd9GcSD7egPvfORcXlObSlJKp-m6-gNMFf1naxi9A&usqp=CAU - as ./images\\takoyaki\\eab57f191c.jpg\n"
     ]
    },
    {
     "name": "stderr",
     "output_type": "stream",
     "text": [
      "C:\\Users\\mandeep.singh\\Anaconda3\\lib\\site-packages\\urllib3\\connectionpool.py:1013: InsecureRequestWarning: Unverified HTTPS request is being made to host 'cdn.w600.comps.canstockphoto.com'. Adding certificate verification is strongly advised. See: https://urllib3.readthedocs.io/en/latest/advanced-usage.html#ssl-warnings\n",
      "  warnings.warn(\n"
     ]
    },
    {
     "name": "stdout",
     "output_type": "stream",
     "text": [
      "SUCCESS - saved https://cdn.w600.comps.canstockphoto.com/making-takoyaki-by-big-squid-floating-picture_csp53697074.jpg - as ./images\\takoyaki\\168555ea62.jpg\n"
     ]
    },
    {
     "name": "stderr",
     "output_type": "stream",
     "text": [
      "C:\\Users\\mandeep.singh\\Anaconda3\\lib\\site-packages\\urllib3\\connectionpool.py:1013: InsecureRequestWarning: Unverified HTTPS request is being made to host 'www.japan-guide.com'. Adding certificate verification is strongly advised. See: https://urllib3.readthedocs.io/en/latest/advanced-usage.html#ssl-warnings\n",
      "  warnings.warn(\n"
     ]
    },
    {
     "name": "stdout",
     "output_type": "stream",
     "text": [
      "SUCCESS - saved https://www.japan-guide.com/g20/2316_01.jpg - as ./images\\takoyaki\\1079b01d90.jpg\n"
     ]
    },
    {
     "name": "stderr",
     "output_type": "stream",
     "text": [
      "C:\\Users\\mandeep.singh\\Anaconda3\\lib\\site-packages\\urllib3\\connectionpool.py:1013: InsecureRequestWarning: Unverified HTTPS request is being made to host 'encrypted-tbn0.gstatic.com'. Adding certificate verification is strongly advised. See: https://urllib3.readthedocs.io/en/latest/advanced-usage.html#ssl-warnings\n",
      "  warnings.warn(\n"
     ]
    },
    {
     "name": "stdout",
     "output_type": "stream",
     "text": [
      "SUCCESS - saved https://encrypted-tbn0.gstatic.com/images?q=tbn:ANd9GcREPAVa7zUmdBa3qvIxzCNbOnRoeVwb0g6z5A&usqp=CAU - as ./images\\takoyaki\\4de2c4f4c5.jpg\n"
     ]
    },
    {
     "name": "stderr",
     "output_type": "stream",
     "text": [
      "C:\\Users\\mandeep.singh\\Anaconda3\\lib\\site-packages\\urllib3\\connectionpool.py:1013: InsecureRequestWarning: Unverified HTTPS request is being made to host 'encrypted-tbn0.gstatic.com'. Adding certificate verification is strongly advised. See: https://urllib3.readthedocs.io/en/latest/advanced-usage.html#ssl-warnings\n",
      "  warnings.warn(\n"
     ]
    },
    {
     "name": "stdout",
     "output_type": "stream",
     "text": [
      "SUCCESS - saved https://encrypted-tbn0.gstatic.com/images?q=tbn:ANd9GcRp4bMh5iJr8G9tr3soj1qjCe1YN_-7Svye4A&usqp=CAU - as ./images\\takoyaki\\1969847c71.jpg\n"
     ]
    },
    {
     "name": "stderr",
     "output_type": "stream",
     "text": [
      "C:\\Users\\mandeep.singh\\Anaconda3\\lib\\site-packages\\urllib3\\connectionpool.py:1013: InsecureRequestWarning: Unverified HTTPS request is being made to host 'www.chopstickchronicles.com'. Adding certificate verification is strongly advised. See: https://urllib3.readthedocs.io/en/latest/advanced-usage.html#ssl-warnings\n",
      "  warnings.warn(\n"
     ]
    },
    {
     "name": "stdout",
     "output_type": "stream",
     "text": [
      "SUCCESS - saved https://www.chopstickchronicles.com/wp-content/uploads/2020/03/Takoyaki-2020-update-34.jpg - as ./images\\takoyaki\\c3ddd0edbf.jpg\n"
     ]
    },
    {
     "name": "stderr",
     "output_type": "stream",
     "text": [
      "C:\\Users\\mandeep.singh\\Anaconda3\\lib\\site-packages\\urllib3\\connectionpool.py:1013: InsecureRequestWarning: Unverified HTTPS request is being made to host 'encrypted-tbn0.gstatic.com'. Adding certificate verification is strongly advised. See: https://urllib3.readthedocs.io/en/latest/advanced-usage.html#ssl-warnings\n",
      "  warnings.warn(\n"
     ]
    },
    {
     "name": "stdout",
     "output_type": "stream",
     "text": [
      "SUCCESS - saved https://encrypted-tbn0.gstatic.com/images?q=tbn:ANd9GcR4pT_59MHzvaqshufp7ooF7iiXzYc6XgqqCA&usqp=CAU - as ./images\\takoyaki\\10dcfd5800.jpg\n"
     ]
    },
    {
     "name": "stderr",
     "output_type": "stream",
     "text": [
      "C:\\Users\\mandeep.singh\\Anaconda3\\lib\\site-packages\\urllib3\\connectionpool.py:1013: InsecureRequestWarning: Unverified HTTPS request is being made to host 'encrypted-tbn0.gstatic.com'. Adding certificate verification is strongly advised. See: https://urllib3.readthedocs.io/en/latest/advanced-usage.html#ssl-warnings\n",
      "  warnings.warn(\n"
     ]
    },
    {
     "name": "stdout",
     "output_type": "stream",
     "text": [
      "SUCCESS - saved https://encrypted-tbn0.gstatic.com/images?q=tbn:ANd9GcRj8ZqaFi3uyDuK1eMqbTock42r-T9-AovRtQ&usqp=CAU - as ./images\\takoyaki\\25fe3e2e71.jpg\n"
     ]
    },
    {
     "name": "stderr",
     "output_type": "stream",
     "text": [
      "C:\\Users\\mandeep.singh\\Anaconda3\\lib\\site-packages\\urllib3\\connectionpool.py:1013: InsecureRequestWarning: Unverified HTTPS request is being made to host 'media-cdn.tripadvisor.com'. Adding certificate verification is strongly advised. See: https://urllib3.readthedocs.io/en/latest/advanced-usage.html#ssl-warnings\n",
      "  warnings.warn(\n"
     ]
    },
    {
     "name": "stdout",
     "output_type": "stream",
     "text": [
      "SUCCESS - saved https://media-cdn.tripadvisor.com/media/photo-s/19/1b/e7/ee/photo0jpg.jpg - as ./images\\takoyaki\\75b910b978.jpg\n"
     ]
    },
    {
     "name": "stderr",
     "output_type": "stream",
     "text": [
      "C:\\Users\\mandeep.singh\\Anaconda3\\lib\\site-packages\\urllib3\\connectionpool.py:1013: InsecureRequestWarning: Unverified HTTPS request is being made to host 'encrypted-tbn0.gstatic.com'. Adding certificate verification is strongly advised. See: https://urllib3.readthedocs.io/en/latest/advanced-usage.html#ssl-warnings\n",
      "  warnings.warn(\n"
     ]
    },
    {
     "name": "stdout",
     "output_type": "stream",
     "text": [
      "SUCCESS - saved https://encrypted-tbn0.gstatic.com/images?q=tbn:ANd9GcRuAo73OokA9cYDaEjikdN0kvMlk6EGK_Az6Q&usqp=CAU - as ./images\\takoyaki\\ebc292c7b0.jpg\n"
     ]
    },
    {
     "name": "stderr",
     "output_type": "stream",
     "text": [
      "C:\\Users\\mandeep.singh\\Anaconda3\\lib\\site-packages\\urllib3\\connectionpool.py:1013: InsecureRequestWarning: Unverified HTTPS request is being made to host 'img-global.cpcdn.com'. Adding certificate verification is strongly advised. See: https://urllib3.readthedocs.io/en/latest/advanced-usage.html#ssl-warnings\n",
      "  warnings.warn(\n"
     ]
    },
    {
     "name": "stdout",
     "output_type": "stream",
     "text": [
      "SUCCESS - saved https://img-global.cpcdn.com/recipes/272cbe720cb66774/1200x630cq70/photo.jpg - as ./images\\takoyaki\\66cccaac51.jpg\n"
     ]
    },
    {
     "name": "stderr",
     "output_type": "stream",
     "text": [
      "C:\\Users\\mandeep.singh\\Anaconda3\\lib\\site-packages\\urllib3\\connectionpool.py:1013: InsecureRequestWarning: Unverified HTTPS request is being made to host 'encrypted-tbn0.gstatic.com'. Adding certificate verification is strongly advised. See: https://urllib3.readthedocs.io/en/latest/advanced-usage.html#ssl-warnings\n",
      "  warnings.warn(\n"
     ]
    },
    {
     "name": "stdout",
     "output_type": "stream",
     "text": [
      "SUCCESS - saved https://encrypted-tbn0.gstatic.com/images?q=tbn:ANd9GcRpeOfClzE9qSZ0TnIbJT3jYfAiACNaHhda8Q&usqp=CAU - as ./images\\takoyaki\\b749992ff2.jpg\n"
     ]
    },
    {
     "name": "stderr",
     "output_type": "stream",
     "text": [
      "C:\\Users\\mandeep.singh\\Anaconda3\\lib\\site-packages\\urllib3\\connectionpool.py:1013: InsecureRequestWarning: Unverified HTTPS request is being made to host 'encrypted-tbn0.gstatic.com'. Adding certificate verification is strongly advised. See: https://urllib3.readthedocs.io/en/latest/advanced-usage.html#ssl-warnings\n",
      "  warnings.warn(\n"
     ]
    },
    {
     "name": "stdout",
     "output_type": "stream",
     "text": [
      "SUCCESS - saved https://encrypted-tbn0.gstatic.com/images?q=tbn:ANd9GcS-PgOCuJCJ5Aee3TYO4EURnGHGYsnOXIjRSQ&usqp=CAU - as ./images\\takoyaki\\f0f0a1fd42.jpg\n"
     ]
    },
    {
     "name": "stderr",
     "output_type": "stream",
     "text": [
      "C:\\Users\\mandeep.singh\\Anaconda3\\lib\\site-packages\\urllib3\\connectionpool.py:1013: InsecureRequestWarning: Unverified HTTPS request is being made to host 't3.ftcdn.net'. Adding certificate verification is strongly advised. See: https://urllib3.readthedocs.io/en/latest/advanced-usage.html#ssl-warnings\n",
      "  warnings.warn(\n"
     ]
    },
    {
     "name": "stdout",
     "output_type": "stream",
     "text": [
      "SUCCESS - saved https://t3.ftcdn.net/jpg/02/84/79/44/360_F_284794440_iO1Xq1nUldWi2HygdMXFMpi0G43J2NKb.jpg - as ./images\\takoyaki\\9ac92c5007.jpg\n"
     ]
    },
    {
     "name": "stderr",
     "output_type": "stream",
     "text": [
      "C:\\Users\\mandeep.singh\\Anaconda3\\lib\\site-packages\\urllib3\\connectionpool.py:1013: InsecureRequestWarning: Unverified HTTPS request is being made to host 'encrypted-tbn0.gstatic.com'. Adding certificate verification is strongly advised. See: https://urllib3.readthedocs.io/en/latest/advanced-usage.html#ssl-warnings\n",
      "  warnings.warn(\n"
     ]
    },
    {
     "name": "stdout",
     "output_type": "stream",
     "text": [
      "SUCCESS - saved https://encrypted-tbn0.gstatic.com/images?q=tbn:ANd9GcSAc3sfCXoz2uylZ-g7znqqreA48FuxsbZ9Iw&usqp=CAU - as ./images\\takoyaki\\bed75503c7.jpg\n"
     ]
    },
    {
     "name": "stderr",
     "output_type": "stream",
     "text": [
      "C:\\Users\\mandeep.singh\\Anaconda3\\lib\\site-packages\\urllib3\\connectionpool.py:1013: InsecureRequestWarning: Unverified HTTPS request is being made to host 'm.media-amazon.com'. Adding certificate verification is strongly advised. See: https://urllib3.readthedocs.io/en/latest/advanced-usage.html#ssl-warnings\n",
      "  warnings.warn(\n"
     ]
    },
    {
     "name": "stdout",
     "output_type": "stream",
     "text": [
      "SUCCESS - saved https://m.media-amazon.com/images/I/81dt9aHZbzL._SL1500_.jpg - as ./images\\takoyaki\\b38653597f.jpg\n"
     ]
    },
    {
     "name": "stderr",
     "output_type": "stream",
     "text": [
      "C:\\Users\\mandeep.singh\\Anaconda3\\lib\\site-packages\\urllib3\\connectionpool.py:1013: InsecureRequestWarning: Unverified HTTPS request is being made to host 'encrypted-tbn0.gstatic.com'. Adding certificate verification is strongly advised. See: https://urllib3.readthedocs.io/en/latest/advanced-usage.html#ssl-warnings\n",
      "  warnings.warn(\n"
     ]
    },
    {
     "name": "stdout",
     "output_type": "stream",
     "text": [
      "SUCCESS - saved https://encrypted-tbn0.gstatic.com/images?q=tbn:ANd9GcTzQsl29HhZDWSytaTxOQQMAzMnEOHR4zZ65g&usqp=CAU - as ./images\\takoyaki\\c3826e2968.jpg\n"
     ]
    },
    {
     "name": "stderr",
     "output_type": "stream",
     "text": [
      "C:\\Users\\mandeep.singh\\Anaconda3\\lib\\site-packages\\urllib3\\connectionpool.py:1013: InsecureRequestWarning: Unverified HTTPS request is being made to host 's3-ap-south-1.amazonaws.com'. Adding certificate verification is strongly advised. See: https://urllib3.readthedocs.io/en/latest/advanced-usage.html#ssl-warnings\n",
      "  warnings.warn(\n"
     ]
    },
    {
     "name": "stdout",
     "output_type": "stream",
     "text": [
      "SUCCESS - saved https://s3-ap-south-1.amazonaws.com/betterbutterbucket-silver/1438591226dUp7sa8h3F.jpeg - as ./images\\takoyaki\\05564b0321.jpg\n"
     ]
    },
    {
     "name": "stderr",
     "output_type": "stream",
     "text": [
      "C:\\Users\\mandeep.singh\\Anaconda3\\lib\\site-packages\\urllib3\\connectionpool.py:1013: InsecureRequestWarning: Unverified HTTPS request is being made to host 'qph.fs.quoracdn.net'. Adding certificate verification is strongly advised. See: https://urllib3.readthedocs.io/en/latest/advanced-usage.html#ssl-warnings\n",
      "  warnings.warn(\n"
     ]
    },
    {
     "name": "stdout",
     "output_type": "stream",
     "text": [
      "SUCCESS - saved https://qph.fs.quoracdn.net/main-qimg-3ffb2fa534b346f746da0754db6f94cf - as ./images\\takoyaki\\14adab12da.jpg\n"
     ]
    },
    {
     "name": "stderr",
     "output_type": "stream",
     "text": [
      "C:\\Users\\mandeep.singh\\Anaconda3\\lib\\site-packages\\urllib3\\connectionpool.py:1013: InsecureRequestWarning: Unverified HTTPS request is being made to host 'upload.wikimedia.org'. Adding certificate verification is strongly advised. See: https://urllib3.readthedocs.io/en/latest/advanced-usage.html#ssl-warnings\n",
      "  warnings.warn(\n"
     ]
    },
    {
     "name": "stdout",
     "output_type": "stream",
     "text": [
      "SUCCESS - saved https://upload.wikimedia.org/wikipedia/commons/thumb/1/16/TakoyakiM0825.jpg/220px-TakoyakiM0825.jpg - as ./images\\takoyaki\\05f6f6568b.jpg\n"
     ]
    },
    {
     "name": "stderr",
     "output_type": "stream",
     "text": [
      "C:\\Users\\mandeep.singh\\Anaconda3\\lib\\site-packages\\urllib3\\connectionpool.py:1013: InsecureRequestWarning: Unverified HTTPS request is being made to host 'encrypted-tbn0.gstatic.com'. Adding certificate verification is strongly advised. See: https://urllib3.readthedocs.io/en/latest/advanced-usage.html#ssl-warnings\n",
      "  warnings.warn(\n"
     ]
    },
    {
     "name": "stdout",
     "output_type": "stream",
     "text": [
      "SUCCESS - saved https://encrypted-tbn0.gstatic.com/images?q=tbn:ANd9GcRKOQc_CLx8sr_VJWBnih_8IBLwrICY35JWGA&usqp=CAU - as ./images\\takoyaki\\c5746846c0.jpg\n"
     ]
    },
    {
     "name": "stderr",
     "output_type": "stream",
     "text": [
      "C:\\Users\\mandeep.singh\\Anaconda3\\lib\\site-packages\\urllib3\\connectionpool.py:1013: InsecureRequestWarning: Unverified HTTPS request is being made to host 'image.shutterstock.com'. Adding certificate verification is strongly advised. See: https://urllib3.readthedocs.io/en/latest/advanced-usage.html#ssl-warnings\n",
      "  warnings.warn(\n"
     ]
    },
    {
     "name": "stdout",
     "output_type": "stream",
     "text": [
      "SUCCESS - saved https://image.shutterstock.com/image-photo/japanese-food-takoyaki-on-black-260nw-1482117797.jpg - as ./images\\takoyaki\\478611b5a1.jpg\n"
     ]
    },
    {
     "name": "stderr",
     "output_type": "stream",
     "text": [
      "C:\\Users\\mandeep.singh\\Anaconda3\\lib\\site-packages\\urllib3\\connectionpool.py:1013: InsecureRequestWarning: Unverified HTTPS request is being made to host 'encrypted-tbn0.gstatic.com'. Adding certificate verification is strongly advised. See: https://urllib3.readthedocs.io/en/latest/advanced-usage.html#ssl-warnings\n",
      "  warnings.warn(\n"
     ]
    },
    {
     "name": "stdout",
     "output_type": "stream",
     "text": [
      "SUCCESS - saved https://encrypted-tbn0.gstatic.com/images?q=tbn:ANd9GcSM8-G1xDrJr8HwWm96eSZ257TQqHyPRYmbjw&usqp=CAU - as ./images\\takoyaki\\0239ddcee9.jpg\n"
     ]
    },
    {
     "name": "stderr",
     "output_type": "stream",
     "text": [
      "C:\\Users\\mandeep.singh\\Anaconda3\\lib\\site-packages\\urllib3\\connectionpool.py:1013: InsecureRequestWarning: Unverified HTTPS request is being made to host 'encrypted-tbn0.gstatic.com'. Adding certificate verification is strongly advised. See: https://urllib3.readthedocs.io/en/latest/advanced-usage.html#ssl-warnings\n",
      "  warnings.warn(\n"
     ]
    },
    {
     "name": "stdout",
     "output_type": "stream",
     "text": [
      "SUCCESS - saved https://encrypted-tbn0.gstatic.com/images?q=tbn:ANd9GcSvzS7ogZoCKm8lGNmhsA47SOmOBx-ZocJsDA&usqp=CAU - as ./images\\takoyaki\\c2ab59d695.jpg\n",
      "SUCCESS - saved https://img-global.cpcdn.com/recipes/6464465338892288/751x532cq70/packed-with-nutrition-takoyaki-recipe-main-photo.jpg - as ./images\\takoyaki\\bd0c9d77da.jpg\n"
     ]
    },
    {
     "name": "stderr",
     "output_type": "stream",
     "text": [
      "C:\\Users\\mandeep.singh\\Anaconda3\\lib\\site-packages\\urllib3\\connectionpool.py:1013: InsecureRequestWarning: Unverified HTTPS request is being made to host 'img-global.cpcdn.com'. Adding certificate verification is strongly advised. See: https://urllib3.readthedocs.io/en/latest/advanced-usage.html#ssl-warnings\n",
      "  warnings.warn(\n",
      "C:\\Users\\mandeep.singh\\Anaconda3\\lib\\site-packages\\urllib3\\connectionpool.py:1013: InsecureRequestWarning: Unverified HTTPS request is being made to host 'c1.wallpaperflare.com'. Adding certificate verification is strongly advised. See: https://urllib3.readthedocs.io/en/latest/advanced-usage.html#ssl-warnings\n",
      "  warnings.warn(\n"
     ]
    },
    {
     "name": "stdout",
     "output_type": "stream",
     "text": [
      "SUCCESS - saved https://c1.wallpaperflare.com/preview/987/991/768/food-plate-wooden-table.jpg - as ./images\\takoyaki\\210684ce66.jpg\n"
     ]
    },
    {
     "name": "stderr",
     "output_type": "stream",
     "text": [
      "C:\\Users\\mandeep.singh\\Anaconda3\\lib\\site-packages\\urllib3\\connectionpool.py:1013: InsecureRequestWarning: Unverified HTTPS request is being made to host 'encrypted-tbn0.gstatic.com'. Adding certificate verification is strongly advised. See: https://urllib3.readthedocs.io/en/latest/advanced-usage.html#ssl-warnings\n",
      "  warnings.warn(\n"
     ]
    },
    {
     "name": "stdout",
     "output_type": "stream",
     "text": [
      "SUCCESS - saved https://encrypted-tbn0.gstatic.com/images?q=tbn:ANd9GcSj_gIePsPoXRVwTtTfwpvOLBQanD-P2RYTHg&usqp=CAU - as ./images\\takoyaki\\e117e2a137.jpg\n"
     ]
    },
    {
     "name": "stderr",
     "output_type": "stream",
     "text": [
      "C:\\Users\\mandeep.singh\\Anaconda3\\lib\\site-packages\\urllib3\\connectionpool.py:1013: InsecureRequestWarning: Unverified HTTPS request is being made to host 'www.bitemybun.com'. Adding certificate verification is strongly advised. See: https://urllib3.readthedocs.io/en/latest/advanced-usage.html#ssl-warnings\n",
      "  warnings.warn(\n"
     ]
    },
    {
     "name": "stdout",
     "output_type": "stream",
     "text": [
      "SUCCESS - saved https://www.bitemybun.com/wp-content/uploads/2020/11/How-to-flip-a-takoyaki-ball.jpg - as ./images\\takoyaki\\3227e83594.jpg\n"
     ]
    },
    {
     "name": "stderr",
     "output_type": "stream",
     "text": [
      "C:\\Users\\mandeep.singh\\Anaconda3\\lib\\site-packages\\urllib3\\connectionpool.py:1013: InsecureRequestWarning: Unverified HTTPS request is being made to host 'encrypted-tbn0.gstatic.com'. Adding certificate verification is strongly advised. See: https://urllib3.readthedocs.io/en/latest/advanced-usage.html#ssl-warnings\n",
      "  warnings.warn(\n"
     ]
    },
    {
     "name": "stdout",
     "output_type": "stream",
     "text": [
      "SUCCESS - saved https://encrypted-tbn0.gstatic.com/images?q=tbn:ANd9GcQ5EgeHRSzuoX9wbhuHTN2lm6Cy4wv5s3w6-Q&usqp=CAU - as ./images\\takoyaki\\41d9491b71.jpg\n"
     ]
    },
    {
     "name": "stderr",
     "output_type": "stream",
     "text": [
      "C:\\Users\\mandeep.singh\\Anaconda3\\lib\\site-packages\\urllib3\\connectionpool.py:1013: InsecureRequestWarning: Unverified HTTPS request is being made to host 'encrypted-tbn0.gstatic.com'. Adding certificate verification is strongly advised. See: https://urllib3.readthedocs.io/en/latest/advanced-usage.html#ssl-warnings\n",
      "  warnings.warn(\n"
     ]
    },
    {
     "name": "stdout",
     "output_type": "stream",
     "text": [
      "SUCCESS - saved https://encrypted-tbn0.gstatic.com/images?q=tbn:ANd9GcQlwJdrLYDbKI8O894ypj_LNpBtouiB28nxkg&usqp=CAU - as ./images\\takoyaki\\05bffeae4d.jpg\n",
      "SUCCESS - saved https://encrypted-tbn0.gstatic.com/images?q=tbn:ANd9GcTv7m0nk8JMRPVMjH0XkIks6nuv2UVxlxYZWA&usqp=CAU - as ./images\\takoyaki\\c0467cc053.jpg\n"
     ]
    },
    {
     "name": "stderr",
     "output_type": "stream",
     "text": [
      "C:\\Users\\mandeep.singh\\Anaconda3\\lib\\site-packages\\urllib3\\connectionpool.py:1013: InsecureRequestWarning: Unverified HTTPS request is being made to host 'encrypted-tbn0.gstatic.com'. Adding certificate verification is strongly advised. See: https://urllib3.readthedocs.io/en/latest/advanced-usage.html#ssl-warnings\n",
      "  warnings.warn(\n",
      "C:\\Users\\mandeep.singh\\Anaconda3\\lib\\site-packages\\urllib3\\connectionpool.py:1013: InsecureRequestWarning: Unverified HTTPS request is being made to host 'encrypted-tbn0.gstatic.com'. Adding certificate verification is strongly advised. See: https://urllib3.readthedocs.io/en/latest/advanced-usage.html#ssl-warnings\n",
      "  warnings.warn(\n"
     ]
    },
    {
     "name": "stdout",
     "output_type": "stream",
     "text": [
      "SUCCESS - saved https://encrypted-tbn0.gstatic.com/images?q=tbn:ANd9GcS9qnYAXgxLDQ1GUie2ikNIbVtatoGw8fwrwg&usqp=CAU - as ./images\\takoyaki\\ad7aa10860.jpg\n"
     ]
    },
    {
     "name": "stderr",
     "output_type": "stream",
     "text": [
      "C:\\Users\\mandeep.singh\\Anaconda3\\lib\\site-packages\\urllib3\\connectionpool.py:1013: InsecureRequestWarning: Unverified HTTPS request is being made to host 'cdn.shopify.com'. Adding certificate verification is strongly advised. See: https://urllib3.readthedocs.io/en/latest/advanced-usage.html#ssl-warnings\n",
      "  warnings.warn(\n"
     ]
    },
    {
     "name": "stdout",
     "output_type": "stream",
     "text": [
      "SUCCESS - saved https://cdn.shopify.com/s/files/1/0353/5621/articles/TAKOYAKI_1112x.jpg?v=1634565675 - as ./images\\takoyaki\\cfdaba78b3.jpg\n"
     ]
    },
    {
     "name": "stderr",
     "output_type": "stream",
     "text": [
      "C:\\Users\\mandeep.singh\\Anaconda3\\lib\\site-packages\\urllib3\\connectionpool.py:1013: InsecureRequestWarning: Unverified HTTPS request is being made to host 'image.shutterstock.com'. Adding certificate verification is strongly advised. See: https://urllib3.readthedocs.io/en/latest/advanced-usage.html#ssl-warnings\n",
      "  warnings.warn(\n",
      "C:\\Users\\mandeep.singh\\Anaconda3\\lib\\site-packages\\urllib3\\connectionpool.py:1013: InsecureRequestWarning: Unverified HTTPS request is being made to host 'encrypted-tbn0.gstatic.com'. Adding certificate verification is strongly advised. See: https://urllib3.readthedocs.io/en/latest/advanced-usage.html#ssl-warnings\n",
      "  warnings.warn(\n"
     ]
    },
    {
     "name": "stdout",
     "output_type": "stream",
     "text": [
      "SUCCESS - saved https://image.shutterstock.com/image-photo/takoyaki-octopus-balls-japanese-food-260nw-1717422313.jpg - as ./images\\takoyaki\\438847d2aa.jpg\n",
      "SUCCESS - saved https://encrypted-tbn0.gstatic.com/images?q=tbn:ANd9GcTz1lRdtQccny7qH5OTKoPbZ4aMXMU1On_oAw&usqp=CAU - as ./images\\takoyaki\\522383a13b.jpg\n",
      "SUCCESS - saved https://encrypted-tbn0.gstatic.com/images?q=tbn:ANd9GcQa5Ro9XWN9DlvRaZcqQio922e7HEz1e66irw&usqp=CAU - as ./images\\takoyaki\\e302a3c48a.jpg\n"
     ]
    },
    {
     "name": "stderr",
     "output_type": "stream",
     "text": [
      "C:\\Users\\mandeep.singh\\Anaconda3\\lib\\site-packages\\urllib3\\connectionpool.py:1013: InsecureRequestWarning: Unverified HTTPS request is being made to host 'encrypted-tbn0.gstatic.com'. Adding certificate verification is strongly advised. See: https://urllib3.readthedocs.io/en/latest/advanced-usage.html#ssl-warnings\n",
      "  warnings.warn(\n",
      "C:\\Users\\mandeep.singh\\Anaconda3\\lib\\site-packages\\urllib3\\connectionpool.py:1013: InsecureRequestWarning: Unverified HTTPS request is being made to host 'encrypted-tbn0.gstatic.com'. Adding certificate verification is strongly advised. See: https://urllib3.readthedocs.io/en/latest/advanced-usage.html#ssl-warnings\n",
      "  warnings.warn(\n"
     ]
    },
    {
     "name": "stdout",
     "output_type": "stream",
     "text": [
      "SUCCESS - saved https://encrypted-tbn0.gstatic.com/images?q=tbn:ANd9GcQEUkG_RpgmF1c44RPyHcEOrQO6xEiXl8s38A&usqp=CAU - as ./images\\takoyaki\\a6503678eb.jpg\n",
      "SUCCESS - saved https://encrypted-tbn0.gstatic.com/images?q=tbn:ANd9GcT22_iovQentgVGinGFBzmuGV90PcBlgJQ4Hw&usqp=CAU - as ./images\\takoyaki\\3b4afed3dd.jpg\n"
     ]
    },
    {
     "name": "stderr",
     "output_type": "stream",
     "text": [
      "C:\\Users\\mandeep.singh\\Anaconda3\\lib\\site-packages\\urllib3\\connectionpool.py:1013: InsecureRequestWarning: Unverified HTTPS request is being made to host 'encrypted-tbn0.gstatic.com'. Adding certificate verification is strongly advised. See: https://urllib3.readthedocs.io/en/latest/advanced-usage.html#ssl-warnings\n",
      "  warnings.warn(\n",
      "C:\\Users\\mandeep.singh\\Anaconda3\\lib\\site-packages\\urllib3\\connectionpool.py:1013: InsecureRequestWarning: Unverified HTTPS request is being made to host 'encrypted-tbn0.gstatic.com'. Adding certificate verification is strongly advised. See: https://urllib3.readthedocs.io/en/latest/advanced-usage.html#ssl-warnings\n",
      "  warnings.warn(\n"
     ]
    },
    {
     "name": "stdout",
     "output_type": "stream",
     "text": [
      "SUCCESS - saved https://encrypted-tbn0.gstatic.com/images?q=tbn:ANd9GcSF6HMYzi9qDEQvM79ZtbpS14-1RKWYEuCZTA&usqp=CAU - as ./images\\takoyaki\\8bfb5c562b.jpg\n",
      "SUCCESS - saved https://encrypted-tbn0.gstatic.com/images?q=tbn:ANd9GcQkjZzv45PdHCItBpbxAjh5IAXnd13-UxRlEA&usqp=CAU - as ./images\\takoyaki\\14737263a4.jpg\n"
     ]
    },
    {
     "name": "stderr",
     "output_type": "stream",
     "text": [
      "C:\\Users\\mandeep.singh\\Anaconda3\\lib\\site-packages\\urllib3\\connectionpool.py:1013: InsecureRequestWarning: Unverified HTTPS request is being made to host 'encrypted-tbn0.gstatic.com'. Adding certificate verification is strongly advised. See: https://urllib3.readthedocs.io/en/latest/advanced-usage.html#ssl-warnings\n",
      "  warnings.warn(\n",
      "C:\\Users\\mandeep.singh\\Anaconda3\\lib\\site-packages\\urllib3\\connectionpool.py:1013: InsecureRequestWarning: Unverified HTTPS request is being made to host 'encrypted-tbn0.gstatic.com'. Adding certificate verification is strongly advised. See: https://urllib3.readthedocs.io/en/latest/advanced-usage.html#ssl-warnings\n",
      "  warnings.warn(\n",
      "C:\\Users\\mandeep.singh\\Anaconda3\\lib\\site-packages\\urllib3\\connectionpool.py:1013: InsecureRequestWarning: Unverified HTTPS request is being made to host 'encrypted-tbn0.gstatic.com'. Adding certificate verification is strongly advised. See: https://urllib3.readthedocs.io/en/latest/advanced-usage.html#ssl-warnings\n",
      "  warnings.warn(\n"
     ]
    },
    {
     "name": "stdout",
     "output_type": "stream",
     "text": [
      "SUCCESS - saved https://encrypted-tbn0.gstatic.com/images?q=tbn:ANd9GcRPohabshMRaqK_js7EpR0fvwbxvmUTqsbBXw&usqp=CAU - as ./images\\takoyaki\\12b1e17afd.jpg\n",
      "SUCCESS - saved https://encrypted-tbn0.gstatic.com/images?q=tbn:ANd9GcQxYP1RMgkv0K2TaALICeCRvIwnuPsqQ1SyVQ&usqp=CAU - as ./images\\takoyaki\\849fe6041d.jpg\n"
     ]
    },
    {
     "name": "stderr",
     "output_type": "stream",
     "text": [
      "C:\\Users\\mandeep.singh\\Anaconda3\\lib\\site-packages\\urllib3\\connectionpool.py:1013: InsecureRequestWarning: Unverified HTTPS request is being made to host 'encrypted-tbn0.gstatic.com'. Adding certificate verification is strongly advised. See: https://urllib3.readthedocs.io/en/latest/advanced-usage.html#ssl-warnings\n",
      "  warnings.warn(\n"
     ]
    },
    {
     "name": "stdout",
     "output_type": "stream",
     "text": [
      "SUCCESS - saved https://encrypted-tbn0.gstatic.com/images?q=tbn:ANd9GcQklfk-KMEqCo1C-nVRz5-g_WF7v_dLgZM2Mw&usqp=CAU - as ./images\\takoyaki\\fcc855f8e1.jpg\n"
     ]
    },
    {
     "name": "stderr",
     "output_type": "stream",
     "text": [
      "C:\\Users\\mandeep.singh\\Anaconda3\\lib\\site-packages\\urllib3\\connectionpool.py:1013: InsecureRequestWarning: Unverified HTTPS request is being made to host 'encrypted-tbn0.gstatic.com'. Adding certificate verification is strongly advised. See: https://urllib3.readthedocs.io/en/latest/advanced-usage.html#ssl-warnings\n",
      "  warnings.warn(\n"
     ]
    },
    {
     "name": "stdout",
     "output_type": "stream",
     "text": [
      "SUCCESS - saved https://encrypted-tbn0.gstatic.com/images?q=tbn:ANd9GcQGrLKYp92H30qAyi8L3iZ78gu-ZbX6y354Tg&usqp=CAU - as ./images\\takoyaki\\ec968780a0.jpg\n"
     ]
    },
    {
     "name": "stderr",
     "output_type": "stream",
     "text": [
      "C:\\Users\\mandeep.singh\\Anaconda3\\lib\\site-packages\\urllib3\\connectionpool.py:1013: InsecureRequestWarning: Unverified HTTPS request is being made to host 'encrypted-tbn0.gstatic.com'. Adding certificate verification is strongly advised. See: https://urllib3.readthedocs.io/en/latest/advanced-usage.html#ssl-warnings\n",
      "  warnings.warn(\n"
     ]
    },
    {
     "name": "stdout",
     "output_type": "stream",
     "text": [
      "SUCCESS - saved https://encrypted-tbn0.gstatic.com/images?q=tbn:ANd9GcQYfnRCkXJSVxktlfBdLhhldhgw6ed19NVS6g&usqp=CAU - as ./images\\takoyaki\\cd75abc058.jpg\n"
     ]
    },
    {
     "name": "stderr",
     "output_type": "stream",
     "text": [
      "C:\\Users\\mandeep.singh\\Anaconda3\\lib\\site-packages\\urllib3\\connectionpool.py:1013: InsecureRequestWarning: Unverified HTTPS request is being made to host 'm.media-amazon.com'. Adding certificate verification is strongly advised. See: https://urllib3.readthedocs.io/en/latest/advanced-usage.html#ssl-warnings\n",
      "  warnings.warn(\n"
     ]
    },
    {
     "name": "stdout",
     "output_type": "stream",
     "text": [
      "SUCCESS - saved https://m.media-amazon.com/images/I/81zhkqivlKL._SL1500_.jpg - as ./images\\takoyaki\\6d3c9e602c.jpg\n",
      "SUCCESS - saved https://encrypted-tbn0.gstatic.com/images?q=tbn:ANd9GcTqQRamSZy_kmWt8pbeREXEI4DLL59NJog72w&usqp=CAU - as ./images\\takoyaki\\911ac8f32e.jpg\n"
     ]
    },
    {
     "name": "stderr",
     "output_type": "stream",
     "text": [
      "C:\\Users\\mandeep.singh\\Anaconda3\\lib\\site-packages\\urllib3\\connectionpool.py:1013: InsecureRequestWarning: Unverified HTTPS request is being made to host 'encrypted-tbn0.gstatic.com'. Adding certificate verification is strongly advised. See: https://urllib3.readthedocs.io/en/latest/advanced-usage.html#ssl-warnings\n",
      "  warnings.warn(\n",
      "C:\\Users\\mandeep.singh\\Anaconda3\\lib\\site-packages\\urllib3\\connectionpool.py:1013: InsecureRequestWarning: Unverified HTTPS request is being made to host 'encrypted-tbn0.gstatic.com'. Adding certificate verification is strongly advised. See: https://urllib3.readthedocs.io/en/latest/advanced-usage.html#ssl-warnings\n",
      "  warnings.warn(\n"
     ]
    },
    {
     "name": "stdout",
     "output_type": "stream",
     "text": [
      "SUCCESS - saved https://encrypted-tbn0.gstatic.com/images?q=tbn:ANd9GcQviv3GLiAGO2ehiPR59WmhDNp1zfiT9YH-zA&usqp=CAU - as ./images\\takoyaki\\579f0fceba.jpg\n"
     ]
    },
    {
     "name": "stderr",
     "output_type": "stream",
     "text": [
      "C:\\Users\\mandeep.singh\\Anaconda3\\lib\\site-packages\\urllib3\\connectionpool.py:1013: InsecureRequestWarning: Unverified HTTPS request is being made to host 'encrypted-tbn0.gstatic.com'. Adding certificate verification is strongly advised. See: https://urllib3.readthedocs.io/en/latest/advanced-usage.html#ssl-warnings\n",
      "  warnings.warn(\n"
     ]
    },
    {
     "name": "stdout",
     "output_type": "stream",
     "text": [
      "SUCCESS - saved https://encrypted-tbn0.gstatic.com/images?q=tbn:ANd9GcTxIatcdHqoHxc194SqcRgsO1tnWC8ehab9bg&usqp=CAU - as ./images\\takoyaki\\3bbbe01f65.jpg\n",
      "SUCCESS - saved https://encrypted-tbn0.gstatic.com/images?q=tbn:ANd9GcQuiEpzHnDdtiJVxXEtNPJAIKo7dueS_Ee3Sg&usqp=CAU - as ./images\\takoyaki\\7dbfba17c5.jpg\n"
     ]
    },
    {
     "name": "stderr",
     "output_type": "stream",
     "text": [
      "C:\\Users\\mandeep.singh\\Anaconda3\\lib\\site-packages\\urllib3\\connectionpool.py:1013: InsecureRequestWarning: Unverified HTTPS request is being made to host 'encrypted-tbn0.gstatic.com'. Adding certificate verification is strongly advised. See: https://urllib3.readthedocs.io/en/latest/advanced-usage.html#ssl-warnings\n",
      "  warnings.warn(\n",
      "C:\\Users\\mandeep.singh\\Anaconda3\\lib\\site-packages\\urllib3\\connectionpool.py:1013: InsecureRequestWarning: Unverified HTTPS request is being made to host 'encrypted-tbn0.gstatic.com'. Adding certificate verification is strongly advised. See: https://urllib3.readthedocs.io/en/latest/advanced-usage.html#ssl-warnings\n",
      "  warnings.warn(\n"
     ]
    },
    {
     "name": "stdout",
     "output_type": "stream",
     "text": [
      "SUCCESS - saved https://encrypted-tbn0.gstatic.com/images?q=tbn:ANd9GcRKC_z-Ve6dmYtQllWi54dQKoUyogk-wwayIg&usqp=CAU - as ./images\\takoyaki\\7ddad849e4.jpg\n"
     ]
    },
    {
     "name": "stderr",
     "output_type": "stream",
     "text": [
      "C:\\Users\\mandeep.singh\\Anaconda3\\lib\\site-packages\\urllib3\\connectionpool.py:1013: InsecureRequestWarning: Unverified HTTPS request is being made to host 'byfood.b-cdn.net'. Adding certificate verification is strongly advised. See: https://urllib3.readthedocs.io/en/latest/advanced-usage.html#ssl-warnings\n",
      "  warnings.warn(\n"
     ]
    },
    {
     "name": "stdout",
     "output_type": "stream",
     "text": [
      "SUCCESS - saved https://byfood.b-cdn.net/api/public/assets/9641/content - as ./images\\takoyaki\\aad0454ecc.jpg\n"
     ]
    },
    {
     "name": "stderr",
     "output_type": "stream",
     "text": [
      "C:\\Users\\mandeep.singh\\Anaconda3\\lib\\site-packages\\urllib3\\connectionpool.py:1013: InsecureRequestWarning: Unverified HTTPS request is being made to host 'encrypted-tbn0.gstatic.com'. Adding certificate verification is strongly advised. See: https://urllib3.readthedocs.io/en/latest/advanced-usage.html#ssl-warnings\n",
      "  warnings.warn(\n"
     ]
    },
    {
     "name": "stdout",
     "output_type": "stream",
     "text": [
      "SUCCESS - saved https://encrypted-tbn0.gstatic.com/images?q=tbn:ANd9GcRD9NJmTo7U9Fk3Fxd5vZDH1EN4fpkA3VsDMA&usqp=CAU - as ./images\\takoyaki\\2bba6d06d0.jpg\n"
     ]
    },
    {
     "name": "stderr",
     "output_type": "stream",
     "text": [
      "C:\\Users\\mandeep.singh\\Anaconda3\\lib\\site-packages\\urllib3\\connectionpool.py:1013: InsecureRequestWarning: Unverified HTTPS request is being made to host 'encrypted-tbn0.gstatic.com'. Adding certificate verification is strongly advised. See: https://urllib3.readthedocs.io/en/latest/advanced-usage.html#ssl-warnings\n",
      "  warnings.warn(\n"
     ]
    },
    {
     "name": "stdout",
     "output_type": "stream",
     "text": [
      "SUCCESS - saved https://encrypted-tbn0.gstatic.com/images?q=tbn:ANd9GcSZZakzhSFDODYC62MVpfZd90ejBXOjoUNDxw&usqp=CAU - as ./images\\takoyaki\\4093169a36.jpg\n"
     ]
    },
    {
     "name": "stderr",
     "output_type": "stream",
     "text": [
      "C:\\Users\\mandeep.singh\\Anaconda3\\lib\\site-packages\\urllib3\\connectionpool.py:1013: InsecureRequestWarning: Unverified HTTPS request is being made to host 'encrypted-tbn0.gstatic.com'. Adding certificate verification is strongly advised. See: https://urllib3.readthedocs.io/en/latest/advanced-usage.html#ssl-warnings\n",
      "  warnings.warn(\n"
     ]
    },
    {
     "name": "stdout",
     "output_type": "stream",
     "text": [
      "SUCCESS - saved https://encrypted-tbn0.gstatic.com/images?q=tbn:ANd9GcRqxBQwDaHFvrL5k11AFfMc9kG8vmemwfUvbA&usqp=CAU - as ./images\\takoyaki\\98127ff185.jpg\n"
     ]
    },
    {
     "name": "stderr",
     "output_type": "stream",
     "text": [
      "C:\\Users\\mandeep.singh\\Anaconda3\\lib\\site-packages\\urllib3\\connectionpool.py:1013: InsecureRequestWarning: Unverified HTTPS request is being made to host 'encrypted-tbn0.gstatic.com'. Adding certificate verification is strongly advised. See: https://urllib3.readthedocs.io/en/latest/advanced-usage.html#ssl-warnings\n",
      "  warnings.warn(\n"
     ]
    },
    {
     "name": "stdout",
     "output_type": "stream",
     "text": [
      "SUCCESS - saved https://encrypted-tbn0.gstatic.com/images?q=tbn:ANd9GcR6ONUJlETYL9VzgaDbkt-NNOPJu58Jzoyv-Q&usqp=CAU - as ./images\\takoyaki\\ee52d33467.jpg\n"
     ]
    },
    {
     "name": "stderr",
     "output_type": "stream",
     "text": [
      "C:\\Users\\mandeep.singh\\Anaconda3\\lib\\site-packages\\urllib3\\connectionpool.py:1013: InsecureRequestWarning: Unverified HTTPS request is being made to host 'encrypted-tbn0.gstatic.com'. Adding certificate verification is strongly advised. See: https://urllib3.readthedocs.io/en/latest/advanced-usage.html#ssl-warnings\n",
      "  warnings.warn(\n"
     ]
    },
    {
     "name": "stdout",
     "output_type": "stream",
     "text": [
      "SUCCESS - saved https://encrypted-tbn0.gstatic.com/images?q=tbn:ANd9GcTOlQyjmUPL2UJcdnoI0XGF7vVZwW0l0x54yA&usqp=CAU - as ./images\\takoyaki\\8e20053c78.jpg\n"
     ]
    },
    {
     "name": "stderr",
     "output_type": "stream",
     "text": [
      "C:\\Users\\mandeep.singh\\Anaconda3\\lib\\site-packages\\urllib3\\connectionpool.py:1013: InsecureRequestWarning: Unverified HTTPS request is being made to host 'cdn.shopify.com'. Adding certificate verification is strongly advised. See: https://urllib3.readthedocs.io/en/latest/advanced-usage.html#ssl-warnings\n",
      "  warnings.warn(\n"
     ]
    },
    {
     "name": "stdout",
     "output_type": "stream",
     "text": [
      "SUCCESS - saved https://cdn.shopify.com/s/files/1/0412/3138/4725/products/70508-002_2000x.jpg?v=1608326067 - as ./images\\takoyaki\\04d7889f36.jpg\n"
     ]
    },
    {
     "name": "stderr",
     "output_type": "stream",
     "text": [
      "C:\\Users\\mandeep.singh\\Anaconda3\\lib\\site-packages\\urllib3\\connectionpool.py:1013: InsecureRequestWarning: Unverified HTTPS request is being made to host 'img.buzzfeed.com'. Adding certificate verification is strongly advised. See: https://urllib3.readthedocs.io/en/latest/advanced-usage.html#ssl-warnings\n",
      "  warnings.warn(\n"
     ]
    },
    {
     "name": "stdout",
     "output_type": "stream",
     "text": [
      "SUCCESS - saved https://img.buzzfeed.com/thumbnailer-prod-us-east-1/35fe3e025bf4400ebee43d237c3a7455/BFV82005_4GameDayFoodsAroundTheWorld_JW_080221_1x1_v4_OO.jpg - as ./images\\takoyaki\\21f5795e24.jpg\n"
     ]
    },
    {
     "name": "stderr",
     "output_type": "stream",
     "text": [
      "C:\\Users\\mandeep.singh\\Anaconda3\\lib\\site-packages\\urllib3\\connectionpool.py:1013: InsecureRequestWarning: Unverified HTTPS request is being made to host 'encrypted-tbn0.gstatic.com'. Adding certificate verification is strongly advised. See: https://urllib3.readthedocs.io/en/latest/advanced-usage.html#ssl-warnings\n",
      "  warnings.warn(\n"
     ]
    },
    {
     "name": "stdout",
     "output_type": "stream",
     "text": [
      "SUCCESS - saved https://encrypted-tbn0.gstatic.com/images?q=tbn:ANd9GcQXIFL-Sny9pujruRdsHYQc79uO3uqMI43yZw&usqp=CAU - as ./images\\takoyaki\\5869412a8f.jpg\n"
     ]
    },
    {
     "name": "stderr",
     "output_type": "stream",
     "text": [
      "C:\\Users\\mandeep.singh\\Anaconda3\\lib\\site-packages\\urllib3\\connectionpool.py:1013: InsecureRequestWarning: Unverified HTTPS request is being made to host 'thumbs.dreamstime.com'. Adding certificate verification is strongly advised. See: https://urllib3.readthedocs.io/en/latest/advanced-usage.html#ssl-warnings\n",
      "  warnings.warn(\n"
     ]
    },
    {
     "name": "stdout",
     "output_type": "stream",
     "text": [
      "SUCCESS - saved https://thumbs.dreamstime.com/b/homemade-japaense-octopus-takoyaki-homemade-japaense-octopus-takoyaki-mayo-sauce-bonito-176820269.jpg - as ./images\\takoyaki\\725a931a94.jpg\n"
     ]
    },
    {
     "name": "stderr",
     "output_type": "stream",
     "text": [
      "C:\\Users\\mandeep.singh\\Anaconda3\\lib\\site-packages\\urllib3\\connectionpool.py:1013: InsecureRequestWarning: Unverified HTTPS request is being made to host 'encrypted-tbn0.gstatic.com'. Adding certificate verification is strongly advised. See: https://urllib3.readthedocs.io/en/latest/advanced-usage.html#ssl-warnings\n",
      "  warnings.warn(\n"
     ]
    },
    {
     "name": "stdout",
     "output_type": "stream",
     "text": [
      "SUCCESS - saved https://encrypted-tbn0.gstatic.com/images?q=tbn:ANd9GcT2B0owx4X-oBG5U5L8iJ-xcEO0JpftO--I9w&usqp=CAU - as ./images\\takoyaki\\8e1af24b6d.jpg\n",
      "./images\\tiramisu\n",
      "Found: 100 search results. Extracting links from 0:100\n",
      "Found: 101 image links, done!\n",
      "{'https://encrypted-tbn0.gstatic.com/images?q=tbn:ANd9GcRJgKHDZi4ExNW5kkxXTQVhGTRppQ-fOPMtqA&usqp=CAU', 'https://natashaskitchen.com/wp-content/uploads/2019/11/Tiramisu-Cake-4-728x1092.jpg', 'http://cdn.shopify.com/s/files/1/0319/1449/2041/products/tiramisu-gianduja_3b9d89f0-30ec-4f6b-9a53-b0598653d65a_1200x1200.jpg?v=1628923611', 'https://encrypted-tbn0.gstatic.com/images?q=tbn:ANd9GcSgMI3F_cxOLEn7vLWcVnXno1prZSBhAD2WAQ&usqp=CAU', 'https://encrypted-tbn0.gstatic.com/images?q=tbn:ANd9GcSowJV1E8mkV-0NqYPHQVzSBUDu83m9h3OPIA&usqp=CAU', 'https://www.dominosugar.com/emshare/views/modules/asset/downloads/originals/2020/03/71356/Tiramisu-Crave_1570_Description_600x400.jpg/Tiramisu-Crave_1570_Description_600x400.jpg', 'https://encrypted-tbn0.gstatic.com/images?q=tbn:ANd9GcSj0s9qQHhUXhHV1k1uCoAXMQjsqA7FBlVNPg&usqp=CAU', 'https://recipetineats.com/wp-content/uploads/2016/03/Tiramisu_5.jpg', 'https://encrypted-tbn0.gstatic.com/images?q=tbn:ANd9GcQTwsUnKtcm-r_Jm2oZR4JAbTwvQN2msTswTw&usqp=CAU', 'https://encrypted-tbn0.gstatic.com/images?q=tbn:ANd9GcS6PuDTLjEOXyv_ByPKtjKAgVgYF6BCgcuAlA&usqp=CAU', 'https://encrypted-tbn0.gstatic.com/images?q=tbn:ANd9GcQkLTtZja_r6uh5qfM1xPmjzt7gcD-GItmOTQ&usqp=CAU', 'https://encrypted-tbn0.gstatic.com/images?q=tbn:ANd9GcSUa5qgoiTBb2ERn8_nKmODgiZ05LirI7FRwg&usqp=CAU', 'https://www.alsothecrumbsplease.com/wp-content/uploads/2018/05/Tiramisu-Cake-25.jpg', 'https://encrypted-tbn0.gstatic.com/images?q=tbn:ANd9GcRb2i0GCoKslDdlvenP-h43NmXucjEuILRSLg&usqp=CAU', 'https://encrypted-tbn0.gstatic.com/images?q=tbn:ANd9GcTi6dAaq0DYNPi97eocIC_48tUkvpFuHZetBw&usqp=CAU', 'https://encrypted-tbn0.gstatic.com/images?q=tbn:ANd9GcR7mVE1apEmSpfJLjFCDdloFib-VTyLL9xjRg&usqp=CAU', 'https://encrypted-tbn0.gstatic.com/images?q=tbn:ANd9GcQlIpBverEsMz6Esg65l3vxO0LfRKjINgpMNg&usqp=CAU', 'https://encrypted-tbn0.gstatic.com/images?q=tbn:ANd9GcSWUz75O1xLdjHd-R8ygilmg0wIfelgL_SrSQ&usqp=CAU', 'https://encrypted-tbn0.gstatic.com/images?q=tbn:ANd9GcRC8gVe_at78Lth2QYh5k6DMqPChNhYkPVIzw&usqp=CAU', 'https://encrypted-tbn0.gstatic.com/images?q=tbn:ANd9GcQ_8XOZTqEPPbXJAuaEJKRCWiIO7MpqUgJfHw&usqp=CAU', 'https://encrypted-tbn0.gstatic.com/images?q=tbn:ANd9GcRMuxYxkkFYmStOJwam6Y6x-i6EaUEfpWE0PA&usqp=CAU', 'https://encrypted-tbn0.gstatic.com/images?q=tbn:ANd9GcRLlodIA_BUlHkxGS2EmyZYF6POz7i9Hjj2mw&usqp=CAU', 'https://prettysimplesweet.com/wp-content/uploads/2014/09/Tiramisu-4.jpg', 'https://encrypted-tbn0.gstatic.com/images?q=tbn:ANd9GcSU4xyujW5EZXHzS64DbhE8Un7g6EqnRX6XIA&usqp=CAU', 'https://encrypted-tbn0.gstatic.com/images?q=tbn:ANd9GcQL4DykS3XQBcM2Y0aDmKLW7PsuUhqKlp9bBw&usqp=CAU', 'https://encrypted-tbn0.gstatic.com/images?q=tbn:ANd9GcQ9j62aQQrQYDYmxbFOiHpMex8O5r_x5xSgtQ&usqp=CAU', 'https://encrypted-tbn0.gstatic.com/images?q=tbn:ANd9GcQFLUuhdqCfcOMnFwX4H3md28b1h2HlY8WQoA&usqp=CAU', 'https://encrypted-tbn0.gstatic.com/images?q=tbn:ANd9GcSVDnGqh80x6zjwqzl7_JGiNh2dHYPDBqurrw&usqp=CAU', 'https://encrypted-tbn0.gstatic.com/images?q=tbn:ANd9GcRsu315hY8iYGrWtta4dYQGmhvXxriHrHiiFA&usqp=CAU', 'https://encrypted-tbn0.gstatic.com/images?q=tbn:ANd9GcSlfwS7mCS0M52Q69ur1CRWeGhUy3jjeTyEog&usqp=CAU', 'https://encrypted-tbn0.gstatic.com/images?q=tbn:ANd9GcT9vYSAUF5WGP18gkRFxNYdbRmI57ymxt9V4A&usqp=CAU', 'https://encrypted-tbn0.gstatic.com/images?q=tbn:ANd9GcTp6t56CJ3t6Hsc0737gEqGqwTvDJRkH3z_yw&usqp=CAU', 'https://encrypted-tbn0.gstatic.com/images?q=tbn:ANd9GcSxCTvZtbWq6TeBAIJ3dAwH0NYjctjyPDI_AA&usqp=CAU', 'http://cdn.shopify.com/s/files/1/0065/0045/0351/products/Tiramisu_Entremet_dad685ed-58b5-44e0-a478-77c0cf273d85_1200x1200.jpg?v=1613118676', 'https://www.inspiredtaste.net/wp-content/uploads/2016/07/Tiramisu-Recipe-1200.jpg', 'https://encrypted-tbn0.gstatic.com/images?q=tbn:ANd9GcRisbqa1LmAVJXtlxk6-8kls6dxvQvxOvzQ6w&usqp=CAU', 'https://natashaskitchen.com/wp-content/uploads/2019/11/Tiramisu-Cake-6-728x1092.jpg', 'https://encrypted-tbn0.gstatic.com/images?q=tbn:ANd9GcRZZ_eO5uV0oNQ3_q457w62vE3VaqDOGBexAw&usqp=CAU', 'https://encrypted-tbn0.gstatic.com/images?q=tbn:ANd9GcS63RJXElY2KPxT0UE-mdyN3CfOCvIOF_vGjw&usqp=CAU', 'https://encrypted-tbn0.gstatic.com/images?q=tbn:ANd9GcRA3zWXbYoqZOE4mkupwpaevGrvV1VQRN5qmQ&usqp=CAU', 'https://encrypted-tbn0.gstatic.com/images?q=tbn:ANd9GcSfCc_2G6Q-Gstw_FXFKLLGwqoMF4suqpeQjg&usqp=CAU', 'https://encrypted-tbn0.gstatic.com/images?q=tbn:ANd9GcTJ-CBQv48rsjzRDNrwhF0v-OPzy05QYNttIA&usqp=CAU', 'https://encrypted-tbn0.gstatic.com/images?q=tbn:ANd9GcRXz5rBqizCquIiWWh9wgZ2dWvx6s7bK6xuZg&usqp=CAU', 'https://encrypted-tbn0.gstatic.com/images?q=tbn:ANd9GcS74ZBi0eNj2hdv3Zuur2F7xzAcqb7I5DSoOQ&usqp=CAU', 'https://i2.wp.com/mygorgeousrecipes.com/wp-content/uploads/2020/05/Dalgona-Tiramisu-11-500x500.jpg', 'https://encrypted-tbn0.gstatic.com/images?q=tbn:ANd9GcTb-MhLiuNn6eI8EvwWAq5fPYfnngd80nBwzg&usqp=CAU', 'https://food.fnr.sndimg.com/content/dam/images/food/fullset/2020/04/01/0/FNK_Tiramisu_s4x3.jpg.rend.hgtvcom.616.462.suffix/1585756496845.jpeg', 'https://www.alsothecrumbsplease.com/wp-content/uploads/2020/09/Authentic-Tiramisu-Recipe-17-1.jpg', 'https://www.simplyrecipes.com/thmb/XJpv2jQbIkK9UZo80frDsbIMZWw=/1333x1333/smart/filters:no_upscale()/__opt__aboutcom__coeus__resources__content_migration__simply_recipes__uploads__2017__10__2017-10-28-Tiramisu-21-7de4673191d542039f47927fde4fee82.jpg', 'https://encrypted-tbn0.gstatic.com/images?q=tbn:ANd9GcTGsHr5Z29l1QBL1X4hjL6hPMMOdB8rVqaDrQ&usqp=CAU', 'https://i2.wp.com/www.savorysimple.net/wp-content/uploads/2018/03/800-Homemade-Tiramisu-57.jpg', 'https://encrypted-tbn0.gstatic.com/images?q=tbn:ANd9GcSa--X85mlxXI_nVTl7uXAiRA8-9TO4J296Nw&usqp=CAU', 'https://encrypted-tbn0.gstatic.com/images?q=tbn:ANd9GcThWilWX8qB2L9xUcVlXzDwdc2qSgE3KeOD7Q&usqp=CAU', 'https://encrypted-tbn0.gstatic.com/images?q=tbn:ANd9GcSKSP3aiSm0_Dt5vU9o3mAZd8_XOys64HbRsA&usqp=CAU', 'https://encrypted-tbn0.gstatic.com/images?q=tbn:ANd9GcSeMYsTmycSPld-K5TQm7q0XpGFQpz5W43eKw&usqp=CAU', 'https://encrypted-tbn0.gstatic.com/images?q=tbn:ANd9GcQc2x5HdtkBMDs_nAUAztjsX_5Fs5bQfB3HGA&usqp=CAU', 'https://encrypted-tbn0.gstatic.com/images?q=tbn:ANd9GcSBqkFSONbDNUQ77U9kwFsqWfz9iMrhQruVAA&usqp=CAU', 'https://encrypted-tbn0.gstatic.com/images?q=tbn:ANd9GcS1h-iow4UBfYCLfwk2LCYAKdXIX0utey988Q&usqp=CAU', 'https://images-gmi-pmc.edge-generalmills.com/2dc58c2e-3d2d-4797-8866-a21964b55921.jpg', 'https://assets.bonappetit.com/photos/5cad19a64692d487058bb33e/5:7/w_1744,h_2442,c_limit/old-school-tiramisu.jpg', 'https://encrypted-tbn0.gstatic.com/images?q=tbn:ANd9GcTxu9x9fXRvkMqyh2FLS9YMrWVQ0qN5yOXwtQ&usqp=CAU', 'https://www.washingtonpost.com/rf/image_1484w/2010-2019/WashingtonPost/2020/09/03/Food/Images/v-essentials-tiramisu-002.JPG?t=20170517', 'https://c.files.bbci.co.uk/199D/production/_121275560_gettyimages-1146166594.jpg', 'https://encrypted-tbn0.gstatic.com/images?q=tbn:ANd9GcQTy5jxO-s_ESuVpFKwG9hU6zOrVktV5kKbtg&usqp=CAU', 'https://encrypted-tbn0.gstatic.com/images?q=tbn:ANd9GcQhWIdlgIUufu14Mq4QBc-5Ie6q3fZuryKzWA&usqp=CAU', 'https://encrypted-tbn0.gstatic.com/images?q=tbn:ANd9GcQz7uwzMGzvjZRF4ei_wRArZUkcJSfL4yPQDA&usqp=CAU', 'https://encrypted-tbn0.gstatic.com/images?q=tbn:ANd9GcQz36Xnjfn4oGlbMeVANmH5ZZhPckLK6lcM-g&usqp=CAU', 'https://encrypted-tbn0.gstatic.com/images?q=tbn:ANd9GcSRlRSRNUHczQeOxi7hG8ot2Ofnwhj4EiMW6w&usqp=CAU', 'https://c.ndtvimg.com/2019-07/q6ng3mjo_tiramisu_625x300_09_July_19.jpg', 'https://imagesvc.meredithcorp.io/v3/mm/image?url=https%3A%2F%2Fimages.media-allrecipes.com%2Fuserphotos%2F3930993.jpg&w=380&h=505&c=sc&poi=face&q=85', 'https://encrypted-tbn0.gstatic.com/images?q=tbn:ANd9GcQoFU2fZ1YjHdVaTYcem0xcvoOAlyMg_fSRfQ&usqp=CAU', 'https://d33wubrfki0l68.cloudfront.net/8eccf6678911f8233170bd178fa35c1e968cb6e4/f1d25/en/recipes/eggless-tiramisu/featured_2_hub6e3f8dc209b40c9147f217b474e1546_181798_800x534_fill_q75_box_bottomleft.jpg', 'https://static01.nyt.com/images/2017/04/05/dining/05COOKING-TIRAMISU1/05COOKING-TIRAMISU1-articleLarge.jpg', 'https://encrypted-tbn0.gstatic.com/images?q=tbn:ANd9GcT7oFc_WOO16EMCy7tAZIvAQFxMHnarnft_Uw&usqp=CAU', 'https://encrypted-tbn0.gstatic.com/images?q=tbn:ANd9GcQJWLEd3wWCTtfc8HF-YjEemRSaAZs_XxUb1Q&usqp=CAU', 'https://natashaskitchen.com/wp-content/uploads/2019/11/Tiramisu-Cake-5.jpg', 'https://encrypted-tbn0.gstatic.com/images?q=tbn:ANd9GcTPj9eC9W7LvkPQcUQ8tPyK5-Wzg7atTL4sUw&usqp=CAU', 'https://encrypted-tbn0.gstatic.com/images?q=tbn:ANd9GcQ3QtV2EYmfOHjqvwQWja4hXszNLLcVn1-RCA&usqp=CAU', 'https://encrypted-tbn0.gstatic.com/images?q=tbn:ANd9GcT2dcEt5kQ5lFAZC0OvgsAugALDYUFqXqBOpQ&usqp=CAU', 'https://i.ytimg.com/vi/7VTtenyKRg4/maxresdefault.jpg', 'https://encrypted-tbn0.gstatic.com/images?q=tbn:ANd9GcTcWNLtWahsco9TVL1AvdPDTlehih5ioKPtbw&usqp=CAU', 'https://www.kitchenathoskins.com/wp-content/uploads/2020/12/tiramisu-tres-leches-cake-70-yum-735x735.jpg', 'https://encrypted-tbn0.gstatic.com/images?q=tbn:ANd9GcQsg0-_R3b8pd0cmgDaAVSKbXgnHcSEhZ7sCQ&usqp=CAU', 'https://encrypted-tbn0.gstatic.com/images?q=tbn:ANd9GcQVBX0RmRWbyYJ8L2xUEup7BouRLl7NsyWccw&usqp=CAU', 'https://encrypted-tbn0.gstatic.com/images?q=tbn:ANd9GcTVWnCJAt1USJrqIf0ocf38eTe0s8ePYYCkEg&usqp=CAU', 'https://imagesvc.meredithcorp.io/v3/mm/image?q=85&c=sc&poi=face&w=750&h=375&url=https%3A%2F%2Fassets.marthastewart.com%2Fstyles%2Fwmax-750%2Fd30%2Fclassic-tiramisu-c7d46de9-0320%2Fclassic-tiramisu-c7d46de9-0320_hz.jpg%3Fitok%3DhQae9XlN', 'https://encrypted-tbn0.gstatic.com/images?q=tbn:ANd9GcSYTr90Ey4KoqdBgO9M0r4a1Fjof4OWmzGIdw&usqp=CAU', 'https://encrypted-tbn0.gstatic.com/images?q=tbn:ANd9GcRHL_rwQtT_upD0dXAB_A_uQ6sE-p79PTXh7w&usqp=CAU', 'https://www.biggerbolderbaking.com/wp-content/uploads/2018/01/1C5A3553.jpg', 'https://encrypted-tbn0.gstatic.com/images?q=tbn:ANd9GcT790PMjLcpMX_fP25WKsfzcedX-tzen1WJWQ&usqp=CAU', 'https://encrypted-tbn0.gstatic.com/images?q=tbn:ANd9GcTHK2q7zTRfYO8Qdp7foHfXCjr8ks9cgCePTQ&usqp=CAU', 'https://encrypted-tbn0.gstatic.com/images?q=tbn:ANd9GcRHOgbY4HaW60jp4iRQqlX06exGjoRzWRrkRA&usqp=CAU', 'https://encrypted-tbn0.gstatic.com/images?q=tbn:ANd9GcQF8q7v0NPK90Toe_YsocWNqlnMj_4Yb-PpNw&usqp=CAU', 'https://encrypted-tbn0.gstatic.com/images?q=tbn:ANd9GcReEf7ti7jVcHNl3BOniB4rqVOndXZAeVjTmQ&usqp=CAU', 'https://encrypted-tbn0.gstatic.com/images?q=tbn:ANd9GcSIc92p6_dfeiPuCN9CyjJ_tRJvLnw7LxY0Zw&usqp=CAU', 'https://www.seriouseats.com/thmb/Y4w87arXyz7e4wCiAYj6nx_lp9c=/1500x1125/filters:fill(auto,1)/__opt__aboutcom__coeus__resources__content_migration__serious_eats__seriouseats.com__recipes__images__2017__06__20170526-tiramisu-vicky-wasik-41-00531445710a4dfa83ffc7d3a65abb12.jpg', 'https://www.ndtv.com/cooks/images/tiramisu-620.jpg', 'https://encrypted-tbn0.gstatic.com/images?q=tbn:ANd9GcQ7NjZXVtpjRX-7Kj12cehTu6-uLU7sT5W6qQ&usqp=CAU', 'https://www.seriouseats.com/thmb/w2Om3yV0EO9Noa5-f-AcXgW6Crs=/514x289/smart/filters:no_upscale()/__opt__aboutcom__coeus__resources__content_migration__serious_eats__seriouseats.com__recipes__images__2012__08__20120821-219483-easy-chocolate-tiramisu.1-800dda79fb3b462bb1f819342e8e0356.jpg', 'https://encrypted-tbn0.gstatic.com/images?q=tbn:ANd9GcRyo5bsQ1C8H4cpp6rgylvfCPixaPUg9-8nJg&usqp=CAU', 'https://imagesvc.meredithcorp.io/v3/mm/image?q=85&c=sc&poi=face&w=650&h=325&url=https%3A%2F%2Fstatic.onecms.io%2Fwp-content%2Fuploads%2Fsites%2F43%2F2014%2F11%2F864554-Tiramisu-II-Photo-by-Connie-Ding-resized.jpg'}\n"
     ]
    },
    {
     "name": "stderr",
     "output_type": "stream",
     "text": [
      "C:\\Users\\mandeep.singh\\Anaconda3\\lib\\site-packages\\urllib3\\connectionpool.py:1013: InsecureRequestWarning: Unverified HTTPS request is being made to host 'encrypted-tbn0.gstatic.com'. Adding certificate verification is strongly advised. See: https://urllib3.readthedocs.io/en/latest/advanced-usage.html#ssl-warnings\n",
      "  warnings.warn(\n"
     ]
    },
    {
     "name": "stdout",
     "output_type": "stream",
     "text": [
      "SUCCESS - saved https://encrypted-tbn0.gstatic.com/images?q=tbn:ANd9GcRJgKHDZi4ExNW5kkxXTQVhGTRppQ-fOPMtqA&usqp=CAU - as ./images\\tiramisu\\d288367c18.jpg\n"
     ]
    },
    {
     "name": "stderr",
     "output_type": "stream",
     "text": [
      "C:\\Users\\mandeep.singh\\Anaconda3\\lib\\site-packages\\urllib3\\connectionpool.py:1013: InsecureRequestWarning: Unverified HTTPS request is being made to host 'natashaskitchen.com'. Adding certificate verification is strongly advised. See: https://urllib3.readthedocs.io/en/latest/advanced-usage.html#ssl-warnings\n",
      "  warnings.warn(\n"
     ]
    },
    {
     "name": "stdout",
     "output_type": "stream",
     "text": [
      "SUCCESS - saved https://natashaskitchen.com/wp-content/uploads/2019/11/Tiramisu-Cake-4-728x1092.jpg - as ./images\\tiramisu\\51fe5c91c3.jpg\n",
      "SUCCESS - saved http://cdn.shopify.com/s/files/1/0319/1449/2041/products/tiramisu-gianduja_3b9d89f0-30ec-4f6b-9a53-b0598653d65a_1200x1200.jpg?v=1628923611 - as ./images\\tiramisu\\d3c3f839e0.jpg\n"
     ]
    },
    {
     "name": "stderr",
     "output_type": "stream",
     "text": [
      "C:\\Users\\mandeep.singh\\Anaconda3\\lib\\site-packages\\urllib3\\connectionpool.py:1013: InsecureRequestWarning: Unverified HTTPS request is being made to host 'encrypted-tbn0.gstatic.com'. Adding certificate verification is strongly advised. See: https://urllib3.readthedocs.io/en/latest/advanced-usage.html#ssl-warnings\n",
      "  warnings.warn(\n",
      "C:\\Users\\mandeep.singh\\Anaconda3\\lib\\site-packages\\urllib3\\connectionpool.py:1013: InsecureRequestWarning: Unverified HTTPS request is being made to host 'encrypted-tbn0.gstatic.com'. Adding certificate verification is strongly advised. See: https://urllib3.readthedocs.io/en/latest/advanced-usage.html#ssl-warnings\n",
      "  warnings.warn(\n"
     ]
    },
    {
     "name": "stdout",
     "output_type": "stream",
     "text": [
      "SUCCESS - saved https://encrypted-tbn0.gstatic.com/images?q=tbn:ANd9GcSgMI3F_cxOLEn7vLWcVnXno1prZSBhAD2WAQ&usqp=CAU - as ./images\\tiramisu\\5be5d8ccc1.jpg\n",
      "SUCCESS - saved https://encrypted-tbn0.gstatic.com/images?q=tbn:ANd9GcSowJV1E8mkV-0NqYPHQVzSBUDu83m9h3OPIA&usqp=CAU - as ./images\\tiramisu\\8b56f433a3.jpg\n"
     ]
    },
    {
     "name": "stderr",
     "output_type": "stream",
     "text": [
      "C:\\Users\\mandeep.singh\\Anaconda3\\lib\\site-packages\\urllib3\\connectionpool.py:1013: InsecureRequestWarning: Unverified HTTPS request is being made to host 'www.dominosugar.com'. Adding certificate verification is strongly advised. See: https://urllib3.readthedocs.io/en/latest/advanced-usage.html#ssl-warnings\n",
      "  warnings.warn(\n"
     ]
    },
    {
     "name": "stdout",
     "output_type": "stream",
     "text": [
      "SUCCESS - saved https://www.dominosugar.com/emshare/views/modules/asset/downloads/originals/2020/03/71356/Tiramisu-Crave_1570_Description_600x400.jpg/Tiramisu-Crave_1570_Description_600x400.jpg - as ./images\\tiramisu\\17e3514054.jpg\n"
     ]
    },
    {
     "name": "stderr",
     "output_type": "stream",
     "text": [
      "C:\\Users\\mandeep.singh\\Anaconda3\\lib\\site-packages\\urllib3\\connectionpool.py:1013: InsecureRequestWarning: Unverified HTTPS request is being made to host 'encrypted-tbn0.gstatic.com'. Adding certificate verification is strongly advised. See: https://urllib3.readthedocs.io/en/latest/advanced-usage.html#ssl-warnings\n",
      "  warnings.warn(\n"
     ]
    },
    {
     "name": "stdout",
     "output_type": "stream",
     "text": [
      "SUCCESS - saved https://encrypted-tbn0.gstatic.com/images?q=tbn:ANd9GcSj0s9qQHhUXhHV1k1uCoAXMQjsqA7FBlVNPg&usqp=CAU - as ./images\\tiramisu\\6f58cd28c1.jpg\n"
     ]
    },
    {
     "name": "stderr",
     "output_type": "stream",
     "text": [
      "C:\\Users\\mandeep.singh\\Anaconda3\\lib\\site-packages\\urllib3\\connectionpool.py:1013: InsecureRequestWarning: Unverified HTTPS request is being made to host 'recipetineats.com'. Adding certificate verification is strongly advised. See: https://urllib3.readthedocs.io/en/latest/advanced-usage.html#ssl-warnings\n",
      "  warnings.warn(\n"
     ]
    },
    {
     "name": "stdout",
     "output_type": "stream",
     "text": [
      "SUCCESS - saved https://recipetineats.com/wp-content/uploads/2016/03/Tiramisu_5.jpg - as ./images\\tiramisu\\442d65dfd2.jpg\n"
     ]
    },
    {
     "name": "stderr",
     "output_type": "stream",
     "text": [
      "C:\\Users\\mandeep.singh\\Anaconda3\\lib\\site-packages\\urllib3\\connectionpool.py:1013: InsecureRequestWarning: Unverified HTTPS request is being made to host 'encrypted-tbn0.gstatic.com'. Adding certificate verification is strongly advised. See: https://urllib3.readthedocs.io/en/latest/advanced-usage.html#ssl-warnings\n",
      "  warnings.warn(\n"
     ]
    },
    {
     "name": "stdout",
     "output_type": "stream",
     "text": [
      "SUCCESS - saved https://encrypted-tbn0.gstatic.com/images?q=tbn:ANd9GcQTwsUnKtcm-r_Jm2oZR4JAbTwvQN2msTswTw&usqp=CAU - as ./images\\tiramisu\\eb0865739f.jpg\n"
     ]
    },
    {
     "name": "stderr",
     "output_type": "stream",
     "text": [
      "C:\\Users\\mandeep.singh\\Anaconda3\\lib\\site-packages\\urllib3\\connectionpool.py:1013: InsecureRequestWarning: Unverified HTTPS request is being made to host 'encrypted-tbn0.gstatic.com'. Adding certificate verification is strongly advised. See: https://urllib3.readthedocs.io/en/latest/advanced-usage.html#ssl-warnings\n",
      "  warnings.warn(\n"
     ]
    },
    {
     "name": "stdout",
     "output_type": "stream",
     "text": [
      "SUCCESS - saved https://encrypted-tbn0.gstatic.com/images?q=tbn:ANd9GcS6PuDTLjEOXyv_ByPKtjKAgVgYF6BCgcuAlA&usqp=CAU - as ./images\\tiramisu\\994f082f94.jpg\n",
      "SUCCESS - saved https://encrypted-tbn0.gstatic.com/images?q=tbn:ANd9GcQkLTtZja_r6uh5qfM1xPmjzt7gcD-GItmOTQ&usqp=CAU - as ./images\\tiramisu\\75944af275.jpg\n"
     ]
    },
    {
     "name": "stderr",
     "output_type": "stream",
     "text": [
      "C:\\Users\\mandeep.singh\\Anaconda3\\lib\\site-packages\\urllib3\\connectionpool.py:1013: InsecureRequestWarning: Unverified HTTPS request is being made to host 'encrypted-tbn0.gstatic.com'. Adding certificate verification is strongly advised. See: https://urllib3.readthedocs.io/en/latest/advanced-usage.html#ssl-warnings\n",
      "  warnings.warn(\n",
      "C:\\Users\\mandeep.singh\\Anaconda3\\lib\\site-packages\\urllib3\\connectionpool.py:1013: InsecureRequestWarning: Unverified HTTPS request is being made to host 'encrypted-tbn0.gstatic.com'. Adding certificate verification is strongly advised. See: https://urllib3.readthedocs.io/en/latest/advanced-usage.html#ssl-warnings\n",
      "  warnings.warn(\n"
     ]
    },
    {
     "name": "stdout",
     "output_type": "stream",
     "text": [
      "SUCCESS - saved https://encrypted-tbn0.gstatic.com/images?q=tbn:ANd9GcSUa5qgoiTBb2ERn8_nKmODgiZ05LirI7FRwg&usqp=CAU - as ./images\\tiramisu\\2f97474854.jpg\n"
     ]
    },
    {
     "name": "stderr",
     "output_type": "stream",
     "text": [
      "C:\\Users\\mandeep.singh\\Anaconda3\\lib\\site-packages\\urllib3\\connectionpool.py:1013: InsecureRequestWarning: Unverified HTTPS request is being made to host 'www.alsothecrumbsplease.com'. Adding certificate verification is strongly advised. See: https://urllib3.readthedocs.io/en/latest/advanced-usage.html#ssl-warnings\n",
      "  warnings.warn(\n"
     ]
    },
    {
     "name": "stdout",
     "output_type": "stream",
     "text": [
      "SUCCESS - saved https://www.alsothecrumbsplease.com/wp-content/uploads/2018/05/Tiramisu-Cake-25.jpg - as ./images\\tiramisu\\b9a33d055d.jpg\n"
     ]
    },
    {
     "name": "stderr",
     "output_type": "stream",
     "text": [
      "C:\\Users\\mandeep.singh\\Anaconda3\\lib\\site-packages\\urllib3\\connectionpool.py:1013: InsecureRequestWarning: Unverified HTTPS request is being made to host 'encrypted-tbn0.gstatic.com'. Adding certificate verification is strongly advised. See: https://urllib3.readthedocs.io/en/latest/advanced-usage.html#ssl-warnings\n",
      "  warnings.warn(\n",
      "C:\\Users\\mandeep.singh\\Anaconda3\\lib\\site-packages\\urllib3\\connectionpool.py:1013: InsecureRequestWarning: Unverified HTTPS request is being made to host 'encrypted-tbn0.gstatic.com'. Adding certificate verification is strongly advised. See: https://urllib3.readthedocs.io/en/latest/advanced-usage.html#ssl-warnings\n",
      "  warnings.warn(\n"
     ]
    },
    {
     "name": "stdout",
     "output_type": "stream",
     "text": [
      "SUCCESS - saved https://encrypted-tbn0.gstatic.com/images?q=tbn:ANd9GcRb2i0GCoKslDdlvenP-h43NmXucjEuILRSLg&usqp=CAU - as ./images\\tiramisu\\334a7a086a.jpg\n",
      "SUCCESS - saved https://encrypted-tbn0.gstatic.com/images?q=tbn:ANd9GcTi6dAaq0DYNPi97eocIC_48tUkvpFuHZetBw&usqp=CAU - as ./images\\tiramisu\\7e94850083.jpg\n"
     ]
    },
    {
     "name": "stderr",
     "output_type": "stream",
     "text": [
      "C:\\Users\\mandeep.singh\\Anaconda3\\lib\\site-packages\\urllib3\\connectionpool.py:1013: InsecureRequestWarning: Unverified HTTPS request is being made to host 'encrypted-tbn0.gstatic.com'. Adding certificate verification is strongly advised. See: https://urllib3.readthedocs.io/en/latest/advanced-usage.html#ssl-warnings\n",
      "  warnings.warn(\n",
      "C:\\Users\\mandeep.singh\\Anaconda3\\lib\\site-packages\\urllib3\\connectionpool.py:1013: InsecureRequestWarning: Unverified HTTPS request is being made to host 'encrypted-tbn0.gstatic.com'. Adding certificate verification is strongly advised. See: https://urllib3.readthedocs.io/en/latest/advanced-usage.html#ssl-warnings\n",
      "  warnings.warn(\n"
     ]
    },
    {
     "name": "stdout",
     "output_type": "stream",
     "text": [
      "SUCCESS - saved https://encrypted-tbn0.gstatic.com/images?q=tbn:ANd9GcR7mVE1apEmSpfJLjFCDdloFib-VTyLL9xjRg&usqp=CAU - as ./images\\tiramisu\\a154c1932c.jpg\n",
      "SUCCESS - saved https://encrypted-tbn0.gstatic.com/images?q=tbn:ANd9GcQlIpBverEsMz6Esg65l3vxO0LfRKjINgpMNg&usqp=CAU - as ./images\\tiramisu\\7f13b1e99d.jpg\n"
     ]
    },
    {
     "name": "stderr",
     "output_type": "stream",
     "text": [
      "C:\\Users\\mandeep.singh\\Anaconda3\\lib\\site-packages\\urllib3\\connectionpool.py:1013: InsecureRequestWarning: Unverified HTTPS request is being made to host 'encrypted-tbn0.gstatic.com'. Adding certificate verification is strongly advised. See: https://urllib3.readthedocs.io/en/latest/advanced-usage.html#ssl-warnings\n",
      "  warnings.warn(\n"
     ]
    },
    {
     "name": "stdout",
     "output_type": "stream",
     "text": [
      "SUCCESS - saved https://encrypted-tbn0.gstatic.com/images?q=tbn:ANd9GcSWUz75O1xLdjHd-R8ygilmg0wIfelgL_SrSQ&usqp=CAU - as ./images\\tiramisu\\72f985384b.jpg\n"
     ]
    },
    {
     "name": "stderr",
     "output_type": "stream",
     "text": [
      "C:\\Users\\mandeep.singh\\Anaconda3\\lib\\site-packages\\urllib3\\connectionpool.py:1013: InsecureRequestWarning: Unverified HTTPS request is being made to host 'encrypted-tbn0.gstatic.com'. Adding certificate verification is strongly advised. See: https://urllib3.readthedocs.io/en/latest/advanced-usage.html#ssl-warnings\n",
      "  warnings.warn(\n"
     ]
    },
    {
     "name": "stdout",
     "output_type": "stream",
     "text": [
      "SUCCESS - saved https://encrypted-tbn0.gstatic.com/images?q=tbn:ANd9GcRC8gVe_at78Lth2QYh5k6DMqPChNhYkPVIzw&usqp=CAU - as ./images\\tiramisu\\3a7faf702c.jpg\n",
      "SUCCESS - saved https://encrypted-tbn0.gstatic.com/images?q=tbn:ANd9GcQ_8XOZTqEPPbXJAuaEJKRCWiIO7MpqUgJfHw&usqp=CAU - as ./images\\tiramisu\\618f9b88d1.jpg\n"
     ]
    },
    {
     "name": "stderr",
     "output_type": "stream",
     "text": [
      "C:\\Users\\mandeep.singh\\Anaconda3\\lib\\site-packages\\urllib3\\connectionpool.py:1013: InsecureRequestWarning: Unverified HTTPS request is being made to host 'encrypted-tbn0.gstatic.com'. Adding certificate verification is strongly advised. See: https://urllib3.readthedocs.io/en/latest/advanced-usage.html#ssl-warnings\n",
      "  warnings.warn(\n",
      "C:\\Users\\mandeep.singh\\Anaconda3\\lib\\site-packages\\urllib3\\connectionpool.py:1013: InsecureRequestWarning: Unverified HTTPS request is being made to host 'encrypted-tbn0.gstatic.com'. Adding certificate verification is strongly advised. See: https://urllib3.readthedocs.io/en/latest/advanced-usage.html#ssl-warnings\n",
      "  warnings.warn(\n",
      "C:\\Users\\mandeep.singh\\Anaconda3\\lib\\site-packages\\urllib3\\connectionpool.py:1013: InsecureRequestWarning: Unverified HTTPS request is being made to host 'encrypted-tbn0.gstatic.com'. Adding certificate verification is strongly advised. See: https://urllib3.readthedocs.io/en/latest/advanced-usage.html#ssl-warnings\n",
      "  warnings.warn(\n"
     ]
    },
    {
     "name": "stdout",
     "output_type": "stream",
     "text": [
      "SUCCESS - saved https://encrypted-tbn0.gstatic.com/images?q=tbn:ANd9GcRMuxYxkkFYmStOJwam6Y6x-i6EaUEfpWE0PA&usqp=CAU - as ./images\\tiramisu\\e3a878deca.jpg\n",
      "SUCCESS - saved https://encrypted-tbn0.gstatic.com/images?q=tbn:ANd9GcRLlodIA_BUlHkxGS2EmyZYF6POz7i9Hjj2mw&usqp=CAU - as ./images\\tiramisu\\39d27270bd.jpg\n"
     ]
    },
    {
     "name": "stderr",
     "output_type": "stream",
     "text": [
      "C:\\Users\\mandeep.singh\\Anaconda3\\lib\\site-packages\\urllib3\\connectionpool.py:1013: InsecureRequestWarning: Unverified HTTPS request is being made to host 'prettysimplesweet.com'. Adding certificate verification is strongly advised. See: https://urllib3.readthedocs.io/en/latest/advanced-usage.html#ssl-warnings\n",
      "  warnings.warn(\n"
     ]
    },
    {
     "name": "stdout",
     "output_type": "stream",
     "text": [
      "SUCCESS - saved https://prettysimplesweet.com/wp-content/uploads/2014/09/Tiramisu-4.jpg - as ./images\\tiramisu\\5651b1fce6.jpg\n",
      "SUCCESS - saved https://encrypted-tbn0.gstatic.com/images?q=tbn:ANd9GcSU4xyujW5EZXHzS64DbhE8Un7g6EqnRX6XIA&usqp=CAU - as ./images\\tiramisu\\314a95d9dc.jpg\n"
     ]
    },
    {
     "name": "stderr",
     "output_type": "stream",
     "text": [
      "C:\\Users\\mandeep.singh\\Anaconda3\\lib\\site-packages\\urllib3\\connectionpool.py:1013: InsecureRequestWarning: Unverified HTTPS request is being made to host 'encrypted-tbn0.gstatic.com'. Adding certificate verification is strongly advised. See: https://urllib3.readthedocs.io/en/latest/advanced-usage.html#ssl-warnings\n",
      "  warnings.warn(\n",
      "C:\\Users\\mandeep.singh\\Anaconda3\\lib\\site-packages\\urllib3\\connectionpool.py:1013: InsecureRequestWarning: Unverified HTTPS request is being made to host 'encrypted-tbn0.gstatic.com'. Adding certificate verification is strongly advised. See: https://urllib3.readthedocs.io/en/latest/advanced-usage.html#ssl-warnings\n",
      "  warnings.warn(\n"
     ]
    },
    {
     "name": "stdout",
     "output_type": "stream",
     "text": [
      "SUCCESS - saved https://encrypted-tbn0.gstatic.com/images?q=tbn:ANd9GcQL4DykS3XQBcM2Y0aDmKLW7PsuUhqKlp9bBw&usqp=CAU - as ./images\\tiramisu\\93c6bbab1a.jpg\n"
     ]
    },
    {
     "name": "stderr",
     "output_type": "stream",
     "text": [
      "C:\\Users\\mandeep.singh\\Anaconda3\\lib\\site-packages\\urllib3\\connectionpool.py:1013: InsecureRequestWarning: Unverified HTTPS request is being made to host 'encrypted-tbn0.gstatic.com'. Adding certificate verification is strongly advised. See: https://urllib3.readthedocs.io/en/latest/advanced-usage.html#ssl-warnings\n",
      "  warnings.warn(\n",
      "C:\\Users\\mandeep.singh\\Anaconda3\\lib\\site-packages\\urllib3\\connectionpool.py:1013: InsecureRequestWarning: Unverified HTTPS request is being made to host 'encrypted-tbn0.gstatic.com'. Adding certificate verification is strongly advised. See: https://urllib3.readthedocs.io/en/latest/advanced-usage.html#ssl-warnings\n",
      "  warnings.warn(\n"
     ]
    },
    {
     "name": "stdout",
     "output_type": "stream",
     "text": [
      "SUCCESS - saved https://encrypted-tbn0.gstatic.com/images?q=tbn:ANd9GcQ9j62aQQrQYDYmxbFOiHpMex8O5r_x5xSgtQ&usqp=CAU - as ./images\\tiramisu\\b1c3982d16.jpg\n",
      "SUCCESS - saved https://encrypted-tbn0.gstatic.com/images?q=tbn:ANd9GcQFLUuhdqCfcOMnFwX4H3md28b1h2HlY8WQoA&usqp=CAU - as ./images\\tiramisu\\cd400ca89a.jpg\n"
     ]
    },
    {
     "name": "stderr",
     "output_type": "stream",
     "text": [
      "C:\\Users\\mandeep.singh\\Anaconda3\\lib\\site-packages\\urllib3\\connectionpool.py:1013: InsecureRequestWarning: Unverified HTTPS request is being made to host 'encrypted-tbn0.gstatic.com'. Adding certificate verification is strongly advised. See: https://urllib3.readthedocs.io/en/latest/advanced-usage.html#ssl-warnings\n",
      "  warnings.warn(\n",
      "C:\\Users\\mandeep.singh\\Anaconda3\\lib\\site-packages\\urllib3\\connectionpool.py:1013: InsecureRequestWarning: Unverified HTTPS request is being made to host 'encrypted-tbn0.gstatic.com'. Adding certificate verification is strongly advised. See: https://urllib3.readthedocs.io/en/latest/advanced-usage.html#ssl-warnings\n",
      "  warnings.warn(\n"
     ]
    },
    {
     "name": "stdout",
     "output_type": "stream",
     "text": [
      "SUCCESS - saved https://encrypted-tbn0.gstatic.com/images?q=tbn:ANd9GcSVDnGqh80x6zjwqzl7_JGiNh2dHYPDBqurrw&usqp=CAU - as ./images\\tiramisu\\0a07ab0271.jpg\n",
      "SUCCESS - saved https://encrypted-tbn0.gstatic.com/images?q=tbn:ANd9GcRsu315hY8iYGrWtta4dYQGmhvXxriHrHiiFA&usqp=CAU - as ./images\\tiramisu\\2a28fbed18.jpg\n"
     ]
    },
    {
     "name": "stderr",
     "output_type": "stream",
     "text": [
      "C:\\Users\\mandeep.singh\\Anaconda3\\lib\\site-packages\\urllib3\\connectionpool.py:1013: InsecureRequestWarning: Unverified HTTPS request is being made to host 'encrypted-tbn0.gstatic.com'. Adding certificate verification is strongly advised. See: https://urllib3.readthedocs.io/en/latest/advanced-usage.html#ssl-warnings\n",
      "  warnings.warn(\n",
      "C:\\Users\\mandeep.singh\\Anaconda3\\lib\\site-packages\\urllib3\\connectionpool.py:1013: InsecureRequestWarning: Unverified HTTPS request is being made to host 'encrypted-tbn0.gstatic.com'. Adding certificate verification is strongly advised. See: https://urllib3.readthedocs.io/en/latest/advanced-usage.html#ssl-warnings\n",
      "  warnings.warn(\n"
     ]
    },
    {
     "name": "stdout",
     "output_type": "stream",
     "text": [
      "SUCCESS - saved https://encrypted-tbn0.gstatic.com/images?q=tbn:ANd9GcSlfwS7mCS0M52Q69ur1CRWeGhUy3jjeTyEog&usqp=CAU - as ./images\\tiramisu\\126c83cdcc.jpg\n",
      "SUCCESS - saved https://encrypted-tbn0.gstatic.com/images?q=tbn:ANd9GcT9vYSAUF5WGP18gkRFxNYdbRmI57ymxt9V4A&usqp=CAU - as ./images\\tiramisu\\3936776334.jpg\n"
     ]
    },
    {
     "name": "stderr",
     "output_type": "stream",
     "text": [
      "C:\\Users\\mandeep.singh\\Anaconda3\\lib\\site-packages\\urllib3\\connectionpool.py:1013: InsecureRequestWarning: Unverified HTTPS request is being made to host 'encrypted-tbn0.gstatic.com'. Adding certificate verification is strongly advised. See: https://urllib3.readthedocs.io/en/latest/advanced-usage.html#ssl-warnings\n",
      "  warnings.warn(\n",
      "C:\\Users\\mandeep.singh\\Anaconda3\\lib\\site-packages\\urllib3\\connectionpool.py:1013: InsecureRequestWarning: Unverified HTTPS request is being made to host 'encrypted-tbn0.gstatic.com'. Adding certificate verification is strongly advised. See: https://urllib3.readthedocs.io/en/latest/advanced-usage.html#ssl-warnings\n",
      "  warnings.warn(\n"
     ]
    },
    {
     "name": "stdout",
     "output_type": "stream",
     "text": [
      "SUCCESS - saved https://encrypted-tbn0.gstatic.com/images?q=tbn:ANd9GcTp6t56CJ3t6Hsc0737gEqGqwTvDJRkH3z_yw&usqp=CAU - as ./images\\tiramisu\\8aed3f0c3e.jpg\n",
      "SUCCESS - saved https://encrypted-tbn0.gstatic.com/images?q=tbn:ANd9GcSxCTvZtbWq6TeBAIJ3dAwH0NYjctjyPDI_AA&usqp=CAU - as ./images\\tiramisu\\f26c1d832e.jpg\n",
      "SUCCESS - saved http://cdn.shopify.com/s/files/1/0065/0045/0351/products/Tiramisu_Entremet_dad685ed-58b5-44e0-a478-77c0cf273d85_1200x1200.jpg?v=1613118676 - as ./images\\tiramisu\\28ef3af1b1.jpg\n"
     ]
    },
    {
     "name": "stderr",
     "output_type": "stream",
     "text": [
      "C:\\Users\\mandeep.singh\\Anaconda3\\lib\\site-packages\\urllib3\\connectionpool.py:1013: InsecureRequestWarning: Unverified HTTPS request is being made to host 'www.inspiredtaste.net'. Adding certificate verification is strongly advised. See: https://urllib3.readthedocs.io/en/latest/advanced-usage.html#ssl-warnings\n",
      "  warnings.warn(\n"
     ]
    },
    {
     "name": "stdout",
     "output_type": "stream",
     "text": [
      "SUCCESS - saved https://www.inspiredtaste.net/wp-content/uploads/2016/07/Tiramisu-Recipe-1200.jpg - as ./images\\tiramisu\\8de8c7782c.jpg\n",
      "SUCCESS - saved https://encrypted-tbn0.gstatic.com/images?q=tbn:ANd9GcRisbqa1LmAVJXtlxk6-8kls6dxvQvxOvzQ6w&usqp=CAU - as ./images\\tiramisu\\a0ed53e7b4.jpg\n"
     ]
    },
    {
     "name": "stderr",
     "output_type": "stream",
     "text": [
      "C:\\Users\\mandeep.singh\\Anaconda3\\lib\\site-packages\\urllib3\\connectionpool.py:1013: InsecureRequestWarning: Unverified HTTPS request is being made to host 'encrypted-tbn0.gstatic.com'. Adding certificate verification is strongly advised. See: https://urllib3.readthedocs.io/en/latest/advanced-usage.html#ssl-warnings\n",
      "  warnings.warn(\n",
      "C:\\Users\\mandeep.singh\\Anaconda3\\lib\\site-packages\\urllib3\\connectionpool.py:1013: InsecureRequestWarning: Unverified HTTPS request is being made to host 'natashaskitchen.com'. Adding certificate verification is strongly advised. See: https://urllib3.readthedocs.io/en/latest/advanced-usage.html#ssl-warnings\n",
      "  warnings.warn(\n"
     ]
    },
    {
     "name": "stdout",
     "output_type": "stream",
     "text": [
      "SUCCESS - saved https://natashaskitchen.com/wp-content/uploads/2019/11/Tiramisu-Cake-6-728x1092.jpg - as ./images\\tiramisu\\b1a8bd20f0.jpg\n",
      "SUCCESS - saved https://encrypted-tbn0.gstatic.com/images?q=tbn:ANd9GcRZZ_eO5uV0oNQ3_q457w62vE3VaqDOGBexAw&usqp=CAU - as ./images\\tiramisu\\b3397c77a4.jpg\n"
     ]
    },
    {
     "name": "stderr",
     "output_type": "stream",
     "text": [
      "C:\\Users\\mandeep.singh\\Anaconda3\\lib\\site-packages\\urllib3\\connectionpool.py:1013: InsecureRequestWarning: Unverified HTTPS request is being made to host 'encrypted-tbn0.gstatic.com'. Adding certificate verification is strongly advised. See: https://urllib3.readthedocs.io/en/latest/advanced-usage.html#ssl-warnings\n",
      "  warnings.warn(\n",
      "C:\\Users\\mandeep.singh\\Anaconda3\\lib\\site-packages\\urllib3\\connectionpool.py:1013: InsecureRequestWarning: Unverified HTTPS request is being made to host 'encrypted-tbn0.gstatic.com'. Adding certificate verification is strongly advised. See: https://urllib3.readthedocs.io/en/latest/advanced-usage.html#ssl-warnings\n",
      "  warnings.warn(\n"
     ]
    },
    {
     "name": "stdout",
     "output_type": "stream",
     "text": [
      "SUCCESS - saved https://encrypted-tbn0.gstatic.com/images?q=tbn:ANd9GcS63RJXElY2KPxT0UE-mdyN3CfOCvIOF_vGjw&usqp=CAU - as ./images\\tiramisu\\cd95ff6186.jpg\n",
      "SUCCESS - saved https://encrypted-tbn0.gstatic.com/images?q=tbn:ANd9GcRA3zWXbYoqZOE4mkupwpaevGrvV1VQRN5qmQ&usqp=CAU - as ./images\\tiramisu\\47cf059a8c.jpg\n"
     ]
    },
    {
     "name": "stderr",
     "output_type": "stream",
     "text": [
      "C:\\Users\\mandeep.singh\\Anaconda3\\lib\\site-packages\\urllib3\\connectionpool.py:1013: InsecureRequestWarning: Unverified HTTPS request is being made to host 'encrypted-tbn0.gstatic.com'. Adding certificate verification is strongly advised. See: https://urllib3.readthedocs.io/en/latest/advanced-usage.html#ssl-warnings\n",
      "  warnings.warn(\n",
      "C:\\Users\\mandeep.singh\\Anaconda3\\lib\\site-packages\\urllib3\\connectionpool.py:1013: InsecureRequestWarning: Unverified HTTPS request is being made to host 'encrypted-tbn0.gstatic.com'. Adding certificate verification is strongly advised. See: https://urllib3.readthedocs.io/en/latest/advanced-usage.html#ssl-warnings\n",
      "  warnings.warn(\n"
     ]
    },
    {
     "name": "stdout",
     "output_type": "stream",
     "text": [
      "SUCCESS - saved https://encrypted-tbn0.gstatic.com/images?q=tbn:ANd9GcSfCc_2G6Q-Gstw_FXFKLLGwqoMF4suqpeQjg&usqp=CAU - as ./images\\tiramisu\\8d5c7e1fdb.jpg\n"
     ]
    },
    {
     "name": "stderr",
     "output_type": "stream",
     "text": [
      "C:\\Users\\mandeep.singh\\Anaconda3\\lib\\site-packages\\urllib3\\connectionpool.py:1013: InsecureRequestWarning: Unverified HTTPS request is being made to host 'encrypted-tbn0.gstatic.com'. Adding certificate verification is strongly advised. See: https://urllib3.readthedocs.io/en/latest/advanced-usage.html#ssl-warnings\n",
      "  warnings.warn(\n",
      "C:\\Users\\mandeep.singh\\Anaconda3\\lib\\site-packages\\urllib3\\connectionpool.py:1013: InsecureRequestWarning: Unverified HTTPS request is being made to host 'encrypted-tbn0.gstatic.com'. Adding certificate verification is strongly advised. See: https://urllib3.readthedocs.io/en/latest/advanced-usage.html#ssl-warnings\n",
      "  warnings.warn(\n"
     ]
    },
    {
     "name": "stdout",
     "output_type": "stream",
     "text": [
      "SUCCESS - saved https://encrypted-tbn0.gstatic.com/images?q=tbn:ANd9GcTJ-CBQv48rsjzRDNrwhF0v-OPzy05QYNttIA&usqp=CAU - as ./images\\tiramisu\\05c48b71f9.jpg\n",
      "SUCCESS - saved https://encrypted-tbn0.gstatic.com/images?q=tbn:ANd9GcRXz5rBqizCquIiWWh9wgZ2dWvx6s7bK6xuZg&usqp=CAU - as ./images\\tiramisu\\d86fe2c247.jpg\n"
     ]
    },
    {
     "name": "stderr",
     "output_type": "stream",
     "text": [
      "C:\\Users\\mandeep.singh\\Anaconda3\\lib\\site-packages\\urllib3\\connectionpool.py:1013: InsecureRequestWarning: Unverified HTTPS request is being made to host 'encrypted-tbn0.gstatic.com'. Adding certificate verification is strongly advised. See: https://urllib3.readthedocs.io/en/latest/advanced-usage.html#ssl-warnings\n",
      "  warnings.warn(\n"
     ]
    },
    {
     "name": "stdout",
     "output_type": "stream",
     "text": [
      "SUCCESS - saved https://encrypted-tbn0.gstatic.com/images?q=tbn:ANd9GcS74ZBi0eNj2hdv3Zuur2F7xzAcqb7I5DSoOQ&usqp=CAU - as ./images\\tiramisu\\63c6a129aa.jpg\n"
     ]
    },
    {
     "name": "stderr",
     "output_type": "stream",
     "text": [
      "C:\\Users\\mandeep.singh\\Anaconda3\\lib\\site-packages\\urllib3\\connectionpool.py:1013: InsecureRequestWarning: Unverified HTTPS request is being made to host 'i2.wp.com'. Adding certificate verification is strongly advised. See: https://urllib3.readthedocs.io/en/latest/advanced-usage.html#ssl-warnings\n",
      "  warnings.warn(\n"
     ]
    },
    {
     "name": "stdout",
     "output_type": "stream",
     "text": [
      "SUCCESS - saved https://i2.wp.com/mygorgeousrecipes.com/wp-content/uploads/2020/05/Dalgona-Tiramisu-11-500x500.jpg - as ./images\\tiramisu\\917045a702.jpg\n",
      "SUCCESS - saved https://encrypted-tbn0.gstatic.com/images?q=tbn:ANd9GcTb-MhLiuNn6eI8EvwWAq5fPYfnngd80nBwzg&usqp=CAU - as ./images\\tiramisu\\5e63cfc5ef.jpg\n"
     ]
    },
    {
     "name": "stderr",
     "output_type": "stream",
     "text": [
      "C:\\Users\\mandeep.singh\\Anaconda3\\lib\\site-packages\\urllib3\\connectionpool.py:1013: InsecureRequestWarning: Unverified HTTPS request is being made to host 'encrypted-tbn0.gstatic.com'. Adding certificate verification is strongly advised. See: https://urllib3.readthedocs.io/en/latest/advanced-usage.html#ssl-warnings\n",
      "  warnings.warn(\n",
      "C:\\Users\\mandeep.singh\\Anaconda3\\lib\\site-packages\\urllib3\\connectionpool.py:1013: InsecureRequestWarning: Unverified HTTPS request is being made to host 'food.fnr.sndimg.com'. Adding certificate verification is strongly advised. See: https://urllib3.readthedocs.io/en/latest/advanced-usage.html#ssl-warnings\n",
      "  warnings.warn(\n",
      "C:\\Users\\mandeep.singh\\Anaconda3\\lib\\site-packages\\urllib3\\connectionpool.py:1013: InsecureRequestWarning: Unverified HTTPS request is being made to host 'www.alsothecrumbsplease.com'. Adding certificate verification is strongly advised. See: https://urllib3.readthedocs.io/en/latest/advanced-usage.html#ssl-warnings\n",
      "  warnings.warn(\n"
     ]
    },
    {
     "name": "stdout",
     "output_type": "stream",
     "text": [
      "SUCCESS - saved https://food.fnr.sndimg.com/content/dam/images/food/fullset/2020/04/01/0/FNK_Tiramisu_s4x3.jpg.rend.hgtvcom.616.462.suffix/1585756496845.jpeg - as ./images\\tiramisu\\a588690b97.jpg\n",
      "SUCCESS - saved https://www.alsothecrumbsplease.com/wp-content/uploads/2020/09/Authentic-Tiramisu-Recipe-17-1.jpg - as ./images\\tiramisu\\d2923934a9.jpg\n"
     ]
    },
    {
     "name": "stderr",
     "output_type": "stream",
     "text": [
      "C:\\Users\\mandeep.singh\\Anaconda3\\lib\\site-packages\\urllib3\\connectionpool.py:1013: InsecureRequestWarning: Unverified HTTPS request is being made to host 'www.simplyrecipes.com'. Adding certificate verification is strongly advised. See: https://urllib3.readthedocs.io/en/latest/advanced-usage.html#ssl-warnings\n",
      "  warnings.warn(\n"
     ]
    },
    {
     "name": "stdout",
     "output_type": "stream",
     "text": [
      "SUCCESS - saved https://www.simplyrecipes.com/thmb/XJpv2jQbIkK9UZo80frDsbIMZWw=/1333x1333/smart/filters:no_upscale()/__opt__aboutcom__coeus__resources__content_migration__simply_recipes__uploads__2017__10__2017-10-28-Tiramisu-21-7de4673191d542039f47927fde4fee82.jpg - as ./images\\tiramisu\\c8a5d5d77c.jpg\n"
     ]
    },
    {
     "name": "stderr",
     "output_type": "stream",
     "text": [
      "C:\\Users\\mandeep.singh\\Anaconda3\\lib\\site-packages\\urllib3\\connectionpool.py:1013: InsecureRequestWarning: Unverified HTTPS request is being made to host 'encrypted-tbn0.gstatic.com'. Adding certificate verification is strongly advised. See: https://urllib3.readthedocs.io/en/latest/advanced-usage.html#ssl-warnings\n",
      "  warnings.warn(\n"
     ]
    },
    {
     "name": "stdout",
     "output_type": "stream",
     "text": [
      "SUCCESS - saved https://encrypted-tbn0.gstatic.com/images?q=tbn:ANd9GcTGsHr5Z29l1QBL1X4hjL6hPMMOdB8rVqaDrQ&usqp=CAU - as ./images\\tiramisu\\a64295ea4a.jpg\n"
     ]
    },
    {
     "name": "stderr",
     "output_type": "stream",
     "text": [
      "C:\\Users\\mandeep.singh\\Anaconda3\\lib\\site-packages\\urllib3\\connectionpool.py:1013: InsecureRequestWarning: Unverified HTTPS request is being made to host 'i2.wp.com'. Adding certificate verification is strongly advised. See: https://urllib3.readthedocs.io/en/latest/advanced-usage.html#ssl-warnings\n",
      "  warnings.warn(\n"
     ]
    },
    {
     "name": "stdout",
     "output_type": "stream",
     "text": [
      "SUCCESS - saved https://i2.wp.com/www.savorysimple.net/wp-content/uploads/2018/03/800-Homemade-Tiramisu-57.jpg - as ./images\\tiramisu\\a3c7c71e5c.jpg\n"
     ]
    },
    {
     "name": "stderr",
     "output_type": "stream",
     "text": [
      "C:\\Users\\mandeep.singh\\Anaconda3\\lib\\site-packages\\urllib3\\connectionpool.py:1013: InsecureRequestWarning: Unverified HTTPS request is being made to host 'encrypted-tbn0.gstatic.com'. Adding certificate verification is strongly advised. See: https://urllib3.readthedocs.io/en/latest/advanced-usage.html#ssl-warnings\n",
      "  warnings.warn(\n",
      "C:\\Users\\mandeep.singh\\Anaconda3\\lib\\site-packages\\urllib3\\connectionpool.py:1013: InsecureRequestWarning: Unverified HTTPS request is being made to host 'encrypted-tbn0.gstatic.com'. Adding certificate verification is strongly advised. See: https://urllib3.readthedocs.io/en/latest/advanced-usage.html#ssl-warnings\n",
      "  warnings.warn(\n"
     ]
    },
    {
     "name": "stdout",
     "output_type": "stream",
     "text": [
      "SUCCESS - saved https://encrypted-tbn0.gstatic.com/images?q=tbn:ANd9GcSa--X85mlxXI_nVTl7uXAiRA8-9TO4J296Nw&usqp=CAU - as ./images\\tiramisu\\2df48fb2c0.jpg\n",
      "SUCCESS - saved https://encrypted-tbn0.gstatic.com/images?q=tbn:ANd9GcThWilWX8qB2L9xUcVlXzDwdc2qSgE3KeOD7Q&usqp=CAU - as ./images\\tiramisu\\351cd91366.jpg\n",
      "SUCCESS - saved https://encrypted-tbn0.gstatic.com/images?q=tbn:ANd9GcSKSP3aiSm0_Dt5vU9o3mAZd8_XOys64HbRsA&usqp=CAU - as ./images\\tiramisu\\6121594ec4.jpg\n"
     ]
    },
    {
     "name": "stderr",
     "output_type": "stream",
     "text": [
      "C:\\Users\\mandeep.singh\\Anaconda3\\lib\\site-packages\\urllib3\\connectionpool.py:1013: InsecureRequestWarning: Unverified HTTPS request is being made to host 'encrypted-tbn0.gstatic.com'. Adding certificate verification is strongly advised. See: https://urllib3.readthedocs.io/en/latest/advanced-usage.html#ssl-warnings\n",
      "  warnings.warn(\n",
      "C:\\Users\\mandeep.singh\\Anaconda3\\lib\\site-packages\\urllib3\\connectionpool.py:1013: InsecureRequestWarning: Unverified HTTPS request is being made to host 'encrypted-tbn0.gstatic.com'. Adding certificate verification is strongly advised. See: https://urllib3.readthedocs.io/en/latest/advanced-usage.html#ssl-warnings\n",
      "  warnings.warn(\n"
     ]
    },
    {
     "name": "stdout",
     "output_type": "stream",
     "text": [
      "SUCCESS - saved https://encrypted-tbn0.gstatic.com/images?q=tbn:ANd9GcSeMYsTmycSPld-K5TQm7q0XpGFQpz5W43eKw&usqp=CAU - as ./images\\tiramisu\\5c4cd0d6ab.jpg\n"
     ]
    },
    {
     "name": "stderr",
     "output_type": "stream",
     "text": [
      "C:\\Users\\mandeep.singh\\Anaconda3\\lib\\site-packages\\urllib3\\connectionpool.py:1013: InsecureRequestWarning: Unverified HTTPS request is being made to host 'encrypted-tbn0.gstatic.com'. Adding certificate verification is strongly advised. See: https://urllib3.readthedocs.io/en/latest/advanced-usage.html#ssl-warnings\n",
      "  warnings.warn(\n"
     ]
    },
    {
     "name": "stdout",
     "output_type": "stream",
     "text": [
      "SUCCESS - saved https://encrypted-tbn0.gstatic.com/images?q=tbn:ANd9GcQc2x5HdtkBMDs_nAUAztjsX_5Fs5bQfB3HGA&usqp=CAU - as ./images\\tiramisu\\313de68594.jpg\n"
     ]
    },
    {
     "name": "stderr",
     "output_type": "stream",
     "text": [
      "C:\\Users\\mandeep.singh\\Anaconda3\\lib\\site-packages\\urllib3\\connectionpool.py:1013: InsecureRequestWarning: Unverified HTTPS request is being made to host 'encrypted-tbn0.gstatic.com'. Adding certificate verification is strongly advised. See: https://urllib3.readthedocs.io/en/latest/advanced-usage.html#ssl-warnings\n",
      "  warnings.warn(\n"
     ]
    },
    {
     "name": "stdout",
     "output_type": "stream",
     "text": [
      "SUCCESS - saved https://encrypted-tbn0.gstatic.com/images?q=tbn:ANd9GcSBqkFSONbDNUQ77U9kwFsqWfz9iMrhQruVAA&usqp=CAU - as ./images\\tiramisu\\0bad891d6d.jpg\n"
     ]
    },
    {
     "name": "stderr",
     "output_type": "stream",
     "text": [
      "C:\\Users\\mandeep.singh\\Anaconda3\\lib\\site-packages\\urllib3\\connectionpool.py:1013: InsecureRequestWarning: Unverified HTTPS request is being made to host 'encrypted-tbn0.gstatic.com'. Adding certificate verification is strongly advised. See: https://urllib3.readthedocs.io/en/latest/advanced-usage.html#ssl-warnings\n",
      "  warnings.warn(\n",
      "C:\\Users\\mandeep.singh\\Anaconda3\\lib\\site-packages\\urllib3\\connectionpool.py:1013: InsecureRequestWarning: Unverified HTTPS request is being made to host 'images-gmi-pmc.edge-generalmills.com'. Adding certificate verification is strongly advised. See: https://urllib3.readthedocs.io/en/latest/advanced-usage.html#ssl-warnings\n",
      "  warnings.warn(\n"
     ]
    },
    {
     "name": "stdout",
     "output_type": "stream",
     "text": [
      "SUCCESS - saved https://encrypted-tbn0.gstatic.com/images?q=tbn:ANd9GcS1h-iow4UBfYCLfwk2LCYAKdXIX0utey988Q&usqp=CAU - as ./images\\tiramisu\\0574bd6376.jpg\n",
      "SUCCESS - saved https://images-gmi-pmc.edge-generalmills.com/2dc58c2e-3d2d-4797-8866-a21964b55921.jpg - as ./images\\tiramisu\\3e3110975e.jpg\n"
     ]
    },
    {
     "name": "stderr",
     "output_type": "stream",
     "text": [
      "C:\\Users\\mandeep.singh\\Anaconda3\\lib\\site-packages\\urllib3\\connectionpool.py:1013: InsecureRequestWarning: Unverified HTTPS request is being made to host 'assets.bonappetit.com'. Adding certificate verification is strongly advised. See: https://urllib3.readthedocs.io/en/latest/advanced-usage.html#ssl-warnings\n",
      "  warnings.warn(\n"
     ]
    },
    {
     "name": "stdout",
     "output_type": "stream",
     "text": [
      "SUCCESS - saved https://assets.bonappetit.com/photos/5cad19a64692d487058bb33e/5:7/w_1744,h_2442,c_limit/old-school-tiramisu.jpg - as ./images\\tiramisu\\8eff04afac.jpg\n"
     ]
    },
    {
     "name": "stderr",
     "output_type": "stream",
     "text": [
      "C:\\Users\\mandeep.singh\\Anaconda3\\lib\\site-packages\\urllib3\\connectionpool.py:1013: InsecureRequestWarning: Unverified HTTPS request is being made to host 'encrypted-tbn0.gstatic.com'. Adding certificate verification is strongly advised. See: https://urllib3.readthedocs.io/en/latest/advanced-usage.html#ssl-warnings\n",
      "  warnings.warn(\n"
     ]
    },
    {
     "name": "stdout",
     "output_type": "stream",
     "text": [
      "SUCCESS - saved https://encrypted-tbn0.gstatic.com/images?q=tbn:ANd9GcTxu9x9fXRvkMqyh2FLS9YMrWVQ0qN5yOXwtQ&usqp=CAU - as ./images\\tiramisu\\d0ada690d0.jpg\n"
     ]
    },
    {
     "name": "stderr",
     "output_type": "stream",
     "text": [
      "C:\\Users\\mandeep.singh\\Anaconda3\\lib\\site-packages\\urllib3\\connectionpool.py:1013: InsecureRequestWarning: Unverified HTTPS request is being made to host 'www.washingtonpost.com'. Adding certificate verification is strongly advised. See: https://urllib3.readthedocs.io/en/latest/advanced-usage.html#ssl-warnings\n",
      "  warnings.warn(\n"
     ]
    },
    {
     "name": "stdout",
     "output_type": "stream",
     "text": [
      "ERROR - Could not save https://www.washingtonpost.com/rf/image_1484w/2010-2019/WashingtonPost/2020/09/03/Food/Images/v-essentials-tiramisu-002.JPG?t=20170517 - cannot identify image file <_io.BytesIO object at 0x0000024D6D3C8EF0>\n"
     ]
    },
    {
     "name": "stderr",
     "output_type": "stream",
     "text": [
      "C:\\Users\\mandeep.singh\\Anaconda3\\lib\\site-packages\\urllib3\\connectionpool.py:1013: InsecureRequestWarning: Unverified HTTPS request is being made to host 'c.files.bbci.co.uk'. Adding certificate verification is strongly advised. See: https://urllib3.readthedocs.io/en/latest/advanced-usage.html#ssl-warnings\n",
      "  warnings.warn(\n"
     ]
    },
    {
     "name": "stdout",
     "output_type": "stream",
     "text": [
      "SUCCESS - saved https://c.files.bbci.co.uk/199D/production/_121275560_gettyimages-1146166594.jpg - as ./images\\tiramisu\\953a243122.jpg\n",
      "SUCCESS - saved https://encrypted-tbn0.gstatic.com/images?q=tbn:ANd9GcQTy5jxO-s_ESuVpFKwG9hU6zOrVktV5kKbtg&usqp=CAU - as ./images\\tiramisu\\577038f74c.jpg\n"
     ]
    },
    {
     "name": "stderr",
     "output_type": "stream",
     "text": [
      "C:\\Users\\mandeep.singh\\Anaconda3\\lib\\site-packages\\urllib3\\connectionpool.py:1013: InsecureRequestWarning: Unverified HTTPS request is being made to host 'encrypted-tbn0.gstatic.com'. Adding certificate verification is strongly advised. See: https://urllib3.readthedocs.io/en/latest/advanced-usage.html#ssl-warnings\n",
      "  warnings.warn(\n",
      "C:\\Users\\mandeep.singh\\Anaconda3\\lib\\site-packages\\urllib3\\connectionpool.py:1013: InsecureRequestWarning: Unverified HTTPS request is being made to host 'encrypted-tbn0.gstatic.com'. Adding certificate verification is strongly advised. See: https://urllib3.readthedocs.io/en/latest/advanced-usage.html#ssl-warnings\n",
      "  warnings.warn(\n",
      "C:\\Users\\mandeep.singh\\Anaconda3\\lib\\site-packages\\urllib3\\connectionpool.py:1013: InsecureRequestWarning: Unverified HTTPS request is being made to host 'encrypted-tbn0.gstatic.com'. Adding certificate verification is strongly advised. See: https://urllib3.readthedocs.io/en/latest/advanced-usage.html#ssl-warnings\n",
      "  warnings.warn(\n"
     ]
    },
    {
     "name": "stdout",
     "output_type": "stream",
     "text": [
      "SUCCESS - saved https://encrypted-tbn0.gstatic.com/images?q=tbn:ANd9GcQhWIdlgIUufu14Mq4QBc-5Ie6q3fZuryKzWA&usqp=CAU - as ./images\\tiramisu\\7bdee48e64.jpg\n",
      "SUCCESS - saved https://encrypted-tbn0.gstatic.com/images?q=tbn:ANd9GcQz7uwzMGzvjZRF4ei_wRArZUkcJSfL4yPQDA&usqp=CAU - as ./images\\tiramisu\\b6db525d48.jpg\n",
      "SUCCESS - saved https://encrypted-tbn0.gstatic.com/images?q=tbn:ANd9GcQz36Xnjfn4oGlbMeVANmH5ZZhPckLK6lcM-g&usqp=CAU - as ./images\\tiramisu\\f48a1948ae.jpg\n"
     ]
    },
    {
     "name": "stderr",
     "output_type": "stream",
     "text": [
      "C:\\Users\\mandeep.singh\\Anaconda3\\lib\\site-packages\\urllib3\\connectionpool.py:1013: InsecureRequestWarning: Unverified HTTPS request is being made to host 'encrypted-tbn0.gstatic.com'. Adding certificate verification is strongly advised. See: https://urllib3.readthedocs.io/en/latest/advanced-usage.html#ssl-warnings\n",
      "  warnings.warn(\n",
      "C:\\Users\\mandeep.singh\\Anaconda3\\lib\\site-packages\\urllib3\\connectionpool.py:1013: InsecureRequestWarning: Unverified HTTPS request is being made to host 'encrypted-tbn0.gstatic.com'. Adding certificate verification is strongly advised. See: https://urllib3.readthedocs.io/en/latest/advanced-usage.html#ssl-warnings\n",
      "  warnings.warn(\n"
     ]
    },
    {
     "name": "stdout",
     "output_type": "stream",
     "text": [
      "SUCCESS - saved https://encrypted-tbn0.gstatic.com/images?q=tbn:ANd9GcSRlRSRNUHczQeOxi7hG8ot2Ofnwhj4EiMW6w&usqp=CAU - as ./images\\tiramisu\\8db2f4d945.jpg\n"
     ]
    },
    {
     "name": "stderr",
     "output_type": "stream",
     "text": [
      "C:\\Users\\mandeep.singh\\Anaconda3\\lib\\site-packages\\urllib3\\connectionpool.py:1013: InsecureRequestWarning: Unverified HTTPS request is being made to host 'c.ndtvimg.com'. Adding certificate verification is strongly advised. See: https://urllib3.readthedocs.io/en/latest/advanced-usage.html#ssl-warnings\n",
      "  warnings.warn(\n"
     ]
    },
    {
     "name": "stdout",
     "output_type": "stream",
     "text": [
      "SUCCESS - saved https://c.ndtvimg.com/2019-07/q6ng3mjo_tiramisu_625x300_09_July_19.jpg - as ./images\\tiramisu\\1ee6da5905.jpg\n"
     ]
    },
    {
     "name": "stderr",
     "output_type": "stream",
     "text": [
      "C:\\Users\\mandeep.singh\\Anaconda3\\lib\\site-packages\\urllib3\\connectionpool.py:1013: InsecureRequestWarning: Unverified HTTPS request is being made to host 'imagesvc.meredithcorp.io'. Adding certificate verification is strongly advised. See: https://urllib3.readthedocs.io/en/latest/advanced-usage.html#ssl-warnings\n",
      "  warnings.warn(\n"
     ]
    },
    {
     "name": "stdout",
     "output_type": "stream",
     "text": [
      "SUCCESS - saved https://imagesvc.meredithcorp.io/v3/mm/image?url=https%3A%2F%2Fimages.media-allrecipes.com%2Fuserphotos%2F3930993.jpg&w=380&h=505&c=sc&poi=face&q=85 - as ./images\\tiramisu\\b314612616.jpg\n"
     ]
    },
    {
     "name": "stderr",
     "output_type": "stream",
     "text": [
      "C:\\Users\\mandeep.singh\\Anaconda3\\lib\\site-packages\\urllib3\\connectionpool.py:1013: InsecureRequestWarning: Unverified HTTPS request is being made to host 'encrypted-tbn0.gstatic.com'. Adding certificate verification is strongly advised. See: https://urllib3.readthedocs.io/en/latest/advanced-usage.html#ssl-warnings\n",
      "  warnings.warn(\n"
     ]
    },
    {
     "name": "stdout",
     "output_type": "stream",
     "text": [
      "SUCCESS - saved https://encrypted-tbn0.gstatic.com/images?q=tbn:ANd9GcQoFU2fZ1YjHdVaTYcem0xcvoOAlyMg_fSRfQ&usqp=CAU - as ./images\\tiramisu\\ce7d4cd95d.jpg\n"
     ]
    },
    {
     "name": "stderr",
     "output_type": "stream",
     "text": [
      "C:\\Users\\mandeep.singh\\Anaconda3\\lib\\site-packages\\urllib3\\connectionpool.py:1013: InsecureRequestWarning: Unverified HTTPS request is being made to host 'd33wubrfki0l68.cloudfront.net'. Adding certificate verification is strongly advised. See: https://urllib3.readthedocs.io/en/latest/advanced-usage.html#ssl-warnings\n",
      "  warnings.warn(\n"
     ]
    },
    {
     "name": "stdout",
     "output_type": "stream",
     "text": [
      "SUCCESS - saved https://d33wubrfki0l68.cloudfront.net/8eccf6678911f8233170bd178fa35c1e968cb6e4/f1d25/en/recipes/eggless-tiramisu/featured_2_hub6e3f8dc209b40c9147f217b474e1546_181798_800x534_fill_q75_box_bottomleft.jpg - as ./images\\tiramisu\\8eccf66789.jpg\n"
     ]
    },
    {
     "name": "stderr",
     "output_type": "stream",
     "text": [
      "C:\\Users\\mandeep.singh\\Anaconda3\\lib\\site-packages\\urllib3\\connectionpool.py:1013: InsecureRequestWarning: Unverified HTTPS request is being made to host 'static01.nyt.com'. Adding certificate verification is strongly advised. See: https://urllib3.readthedocs.io/en/latest/advanced-usage.html#ssl-warnings\n",
      "  warnings.warn(\n"
     ]
    },
    {
     "name": "stdout",
     "output_type": "stream",
     "text": [
      "SUCCESS - saved https://static01.nyt.com/images/2017/04/05/dining/05COOKING-TIRAMISU1/05COOKING-TIRAMISU1-articleLarge.jpg - as ./images\\tiramisu\\72f8743823.jpg\n"
     ]
    },
    {
     "name": "stderr",
     "output_type": "stream",
     "text": [
      "C:\\Users\\mandeep.singh\\Anaconda3\\lib\\site-packages\\urllib3\\connectionpool.py:1013: InsecureRequestWarning: Unverified HTTPS request is being made to host 'encrypted-tbn0.gstatic.com'. Adding certificate verification is strongly advised. See: https://urllib3.readthedocs.io/en/latest/advanced-usage.html#ssl-warnings\n",
      "  warnings.warn(\n"
     ]
    },
    {
     "name": "stdout",
     "output_type": "stream",
     "text": [
      "SUCCESS - saved https://encrypted-tbn0.gstatic.com/images?q=tbn:ANd9GcT7oFc_WOO16EMCy7tAZIvAQFxMHnarnft_Uw&usqp=CAU - as ./images\\tiramisu\\c935b3147b.jpg\n"
     ]
    },
    {
     "name": "stderr",
     "output_type": "stream",
     "text": [
      "C:\\Users\\mandeep.singh\\Anaconda3\\lib\\site-packages\\urllib3\\connectionpool.py:1013: InsecureRequestWarning: Unverified HTTPS request is being made to host 'encrypted-tbn0.gstatic.com'. Adding certificate verification is strongly advised. See: https://urllib3.readthedocs.io/en/latest/advanced-usage.html#ssl-warnings\n",
      "  warnings.warn(\n"
     ]
    },
    {
     "name": "stdout",
     "output_type": "stream",
     "text": [
      "SUCCESS - saved https://encrypted-tbn0.gstatic.com/images?q=tbn:ANd9GcQJWLEd3wWCTtfc8HF-YjEemRSaAZs_XxUb1Q&usqp=CAU - as ./images\\tiramisu\\ee029787b7.jpg\n"
     ]
    },
    {
     "name": "stderr",
     "output_type": "stream",
     "text": [
      "C:\\Users\\mandeep.singh\\Anaconda3\\lib\\site-packages\\urllib3\\connectionpool.py:1013: InsecureRequestWarning: Unverified HTTPS request is being made to host 'natashaskitchen.com'. Adding certificate verification is strongly advised. See: https://urllib3.readthedocs.io/en/latest/advanced-usage.html#ssl-warnings\n",
      "  warnings.warn(\n"
     ]
    },
    {
     "name": "stdout",
     "output_type": "stream",
     "text": [
      "SUCCESS - saved https://natashaskitchen.com/wp-content/uploads/2019/11/Tiramisu-Cake-5.jpg - as ./images\\tiramisu\\005c58747d.jpg\n"
     ]
    },
    {
     "name": "stderr",
     "output_type": "stream",
     "text": [
      "C:\\Users\\mandeep.singh\\Anaconda3\\lib\\site-packages\\urllib3\\connectionpool.py:1013: InsecureRequestWarning: Unverified HTTPS request is being made to host 'encrypted-tbn0.gstatic.com'. Adding certificate verification is strongly advised. See: https://urllib3.readthedocs.io/en/latest/advanced-usage.html#ssl-warnings\n",
      "  warnings.warn(\n"
     ]
    },
    {
     "name": "stdout",
     "output_type": "stream",
     "text": [
      "SUCCESS - saved https://encrypted-tbn0.gstatic.com/images?q=tbn:ANd9GcTPj9eC9W7LvkPQcUQ8tPyK5-Wzg7atTL4sUw&usqp=CAU - as ./images\\tiramisu\\0472118e6d.jpg\n",
      "SUCCESS - saved https://encrypted-tbn0.gstatic.com/images?q=tbn:ANd9GcQ3QtV2EYmfOHjqvwQWja4hXszNLLcVn1-RCA&usqp=CAU - as ./images\\tiramisu\\d9c7b1c1b1.jpg\n"
     ]
    },
    {
     "name": "stderr",
     "output_type": "stream",
     "text": [
      "C:\\Users\\mandeep.singh\\Anaconda3\\lib\\site-packages\\urllib3\\connectionpool.py:1013: InsecureRequestWarning: Unverified HTTPS request is being made to host 'encrypted-tbn0.gstatic.com'. Adding certificate verification is strongly advised. See: https://urllib3.readthedocs.io/en/latest/advanced-usage.html#ssl-warnings\n",
      "  warnings.warn(\n",
      "C:\\Users\\mandeep.singh\\Anaconda3\\lib\\site-packages\\urllib3\\connectionpool.py:1013: InsecureRequestWarning: Unverified HTTPS request is being made to host 'encrypted-tbn0.gstatic.com'. Adding certificate verification is strongly advised. See: https://urllib3.readthedocs.io/en/latest/advanced-usage.html#ssl-warnings\n",
      "  warnings.warn(\n"
     ]
    },
    {
     "name": "stdout",
     "output_type": "stream",
     "text": [
      "SUCCESS - saved https://encrypted-tbn0.gstatic.com/images?q=tbn:ANd9GcT2dcEt5kQ5lFAZC0OvgsAugALDYUFqXqBOpQ&usqp=CAU - as ./images\\tiramisu\\8fd0471bd4.jpg\n"
     ]
    },
    {
     "name": "stderr",
     "output_type": "stream",
     "text": [
      "C:\\Users\\mandeep.singh\\Anaconda3\\lib\\site-packages\\urllib3\\connectionpool.py:1013: InsecureRequestWarning: Unverified HTTPS request is being made to host 'i.ytimg.com'. Adding certificate verification is strongly advised. See: https://urllib3.readthedocs.io/en/latest/advanced-usage.html#ssl-warnings\n",
      "  warnings.warn(\n"
     ]
    },
    {
     "name": "stdout",
     "output_type": "stream",
     "text": [
      "SUCCESS - saved https://i.ytimg.com/vi/7VTtenyKRg4/maxresdefault.jpg - as ./images\\tiramisu\\a4e23cc7d8.jpg\n",
      "SUCCESS - saved https://encrypted-tbn0.gstatic.com/images?q=tbn:ANd9GcTcWNLtWahsco9TVL1AvdPDTlehih5ioKPtbw&usqp=CAU - as ./images\\tiramisu\\379e1f2abb.jpg\n"
     ]
    },
    {
     "name": "stderr",
     "output_type": "stream",
     "text": [
      "C:\\Users\\mandeep.singh\\Anaconda3\\lib\\site-packages\\urllib3\\connectionpool.py:1013: InsecureRequestWarning: Unverified HTTPS request is being made to host 'encrypted-tbn0.gstatic.com'. Adding certificate verification is strongly advised. See: https://urllib3.readthedocs.io/en/latest/advanced-usage.html#ssl-warnings\n",
      "  warnings.warn(\n",
      "C:\\Users\\mandeep.singh\\Anaconda3\\lib\\site-packages\\urllib3\\connectionpool.py:1013: InsecureRequestWarning: Unverified HTTPS request is being made to host 'www.kitchenathoskins.com'. Adding certificate verification is strongly advised. See: https://urllib3.readthedocs.io/en/latest/advanced-usage.html#ssl-warnings\n",
      "  warnings.warn(\n"
     ]
    },
    {
     "name": "stdout",
     "output_type": "stream",
     "text": [
      "SUCCESS - saved https://www.kitchenathoskins.com/wp-content/uploads/2020/12/tiramisu-tres-leches-cake-70-yum-735x735.jpg - as ./images\\tiramisu\\08354c3e64.jpg\n"
     ]
    },
    {
     "name": "stderr",
     "output_type": "stream",
     "text": [
      "C:\\Users\\mandeep.singh\\Anaconda3\\lib\\site-packages\\urllib3\\connectionpool.py:1013: InsecureRequestWarning: Unverified HTTPS request is being made to host 'encrypted-tbn0.gstatic.com'. Adding certificate verification is strongly advised. See: https://urllib3.readthedocs.io/en/latest/advanced-usage.html#ssl-warnings\n",
      "  warnings.warn(\n"
     ]
    },
    {
     "name": "stdout",
     "output_type": "stream",
     "text": [
      "SUCCESS - saved https://encrypted-tbn0.gstatic.com/images?q=tbn:ANd9GcQsg0-_R3b8pd0cmgDaAVSKbXgnHcSEhZ7sCQ&usqp=CAU - as ./images\\tiramisu\\727c2d9a9e.jpg\n"
     ]
    },
    {
     "name": "stderr",
     "output_type": "stream",
     "text": [
      "C:\\Users\\mandeep.singh\\Anaconda3\\lib\\site-packages\\urllib3\\connectionpool.py:1013: InsecureRequestWarning: Unverified HTTPS request is being made to host 'encrypted-tbn0.gstatic.com'. Adding certificate verification is strongly advised. See: https://urllib3.readthedocs.io/en/latest/advanced-usage.html#ssl-warnings\n",
      "  warnings.warn(\n",
      "C:\\Users\\mandeep.singh\\Anaconda3\\lib\\site-packages\\urllib3\\connectionpool.py:1013: InsecureRequestWarning: Unverified HTTPS request is being made to host 'encrypted-tbn0.gstatic.com'. Adding certificate verification is strongly advised. See: https://urllib3.readthedocs.io/en/latest/advanced-usage.html#ssl-warnings\n",
      "  warnings.warn(\n"
     ]
    },
    {
     "name": "stdout",
     "output_type": "stream",
     "text": [
      "SUCCESS - saved https://encrypted-tbn0.gstatic.com/images?q=tbn:ANd9GcQVBX0RmRWbyYJ8L2xUEup7BouRLl7NsyWccw&usqp=CAU - as ./images\\tiramisu\\0aed6c416a.jpg\n",
      "SUCCESS - saved https://encrypted-tbn0.gstatic.com/images?q=tbn:ANd9GcTVWnCJAt1USJrqIf0ocf38eTe0s8ePYYCkEg&usqp=CAU - as ./images\\tiramisu\\f597562a9b.jpg\n"
     ]
    },
    {
     "name": "stderr",
     "output_type": "stream",
     "text": [
      "C:\\Users\\mandeep.singh\\Anaconda3\\lib\\site-packages\\urllib3\\connectionpool.py:1013: InsecureRequestWarning: Unverified HTTPS request is being made to host 'imagesvc.meredithcorp.io'. Adding certificate verification is strongly advised. See: https://urllib3.readthedocs.io/en/latest/advanced-usage.html#ssl-warnings\n",
      "  warnings.warn(\n"
     ]
    },
    {
     "name": "stdout",
     "output_type": "stream",
     "text": [
      "SUCCESS - saved https://imagesvc.meredithcorp.io/v3/mm/image?q=85&c=sc&poi=face&w=750&h=375&url=https%3A%2F%2Fassets.marthastewart.com%2Fstyles%2Fwmax-750%2Fd30%2Fclassic-tiramisu-c7d46de9-0320%2Fclassic-tiramisu-c7d46de9-0320_hz.jpg%3Fitok%3DhQae9XlN - as ./images\\tiramisu\\8b30342c11.jpg\n"
     ]
    },
    {
     "name": "stderr",
     "output_type": "stream",
     "text": [
      "C:\\Users\\mandeep.singh\\Anaconda3\\lib\\site-packages\\urllib3\\connectionpool.py:1013: InsecureRequestWarning: Unverified HTTPS request is being made to host 'encrypted-tbn0.gstatic.com'. Adding certificate verification is strongly advised. See: https://urllib3.readthedocs.io/en/latest/advanced-usage.html#ssl-warnings\n",
      "  warnings.warn(\n"
     ]
    },
    {
     "name": "stdout",
     "output_type": "stream",
     "text": [
      "SUCCESS - saved https://encrypted-tbn0.gstatic.com/images?q=tbn:ANd9GcSYTr90Ey4KoqdBgO9M0r4a1Fjof4OWmzGIdw&usqp=CAU - as ./images\\tiramisu\\b59bfa53fa.jpg\n"
     ]
    },
    {
     "name": "stderr",
     "output_type": "stream",
     "text": [
      "C:\\Users\\mandeep.singh\\Anaconda3\\lib\\site-packages\\urllib3\\connectionpool.py:1013: InsecureRequestWarning: Unverified HTTPS request is being made to host 'encrypted-tbn0.gstatic.com'. Adding certificate verification is strongly advised. See: https://urllib3.readthedocs.io/en/latest/advanced-usage.html#ssl-warnings\n",
      "  warnings.warn(\n"
     ]
    },
    {
     "name": "stdout",
     "output_type": "stream",
     "text": [
      "SUCCESS - saved https://encrypted-tbn0.gstatic.com/images?q=tbn:ANd9GcRHL_rwQtT_upD0dXAB_A_uQ6sE-p79PTXh7w&usqp=CAU - as ./images\\tiramisu\\b3871c3250.jpg\n"
     ]
    },
    {
     "name": "stderr",
     "output_type": "stream",
     "text": [
      "C:\\Users\\mandeep.singh\\Anaconda3\\lib\\site-packages\\urllib3\\connectionpool.py:1013: InsecureRequestWarning: Unverified HTTPS request is being made to host 'www.biggerbolderbaking.com'. Adding certificate verification is strongly advised. See: https://urllib3.readthedocs.io/en/latest/advanced-usage.html#ssl-warnings\n",
      "  warnings.warn(\n"
     ]
    },
    {
     "name": "stdout",
     "output_type": "stream",
     "text": [
      "SUCCESS - saved https://www.biggerbolderbaking.com/wp-content/uploads/2018/01/1C5A3553.jpg - as ./images\\tiramisu\\8114145a0e.jpg\n"
     ]
    },
    {
     "name": "stderr",
     "output_type": "stream",
     "text": [
      "C:\\Users\\mandeep.singh\\Anaconda3\\lib\\site-packages\\urllib3\\connectionpool.py:1013: InsecureRequestWarning: Unverified HTTPS request is being made to host 'encrypted-tbn0.gstatic.com'. Adding certificate verification is strongly advised. See: https://urllib3.readthedocs.io/en/latest/advanced-usage.html#ssl-warnings\n",
      "  warnings.warn(\n"
     ]
    },
    {
     "name": "stdout",
     "output_type": "stream",
     "text": [
      "SUCCESS - saved https://encrypted-tbn0.gstatic.com/images?q=tbn:ANd9GcT790PMjLcpMX_fP25WKsfzcedX-tzen1WJWQ&usqp=CAU - as ./images\\tiramisu\\259b26313f.jpg\n"
     ]
    },
    {
     "name": "stderr",
     "output_type": "stream",
     "text": [
      "C:\\Users\\mandeep.singh\\Anaconda3\\lib\\site-packages\\urllib3\\connectionpool.py:1013: InsecureRequestWarning: Unverified HTTPS request is being made to host 'encrypted-tbn0.gstatic.com'. Adding certificate verification is strongly advised. See: https://urllib3.readthedocs.io/en/latest/advanced-usage.html#ssl-warnings\n",
      "  warnings.warn(\n"
     ]
    },
    {
     "name": "stdout",
     "output_type": "stream",
     "text": [
      "SUCCESS - saved https://encrypted-tbn0.gstatic.com/images?q=tbn:ANd9GcTHK2q7zTRfYO8Qdp7foHfXCjr8ks9cgCePTQ&usqp=CAU - as ./images\\tiramisu\\cf37f6e3e3.jpg\n"
     ]
    },
    {
     "name": "stderr",
     "output_type": "stream",
     "text": [
      "C:\\Users\\mandeep.singh\\Anaconda3\\lib\\site-packages\\urllib3\\connectionpool.py:1013: InsecureRequestWarning: Unverified HTTPS request is being made to host 'encrypted-tbn0.gstatic.com'. Adding certificate verification is strongly advised. See: https://urllib3.readthedocs.io/en/latest/advanced-usage.html#ssl-warnings\n",
      "  warnings.warn(\n"
     ]
    },
    {
     "name": "stdout",
     "output_type": "stream",
     "text": [
      "SUCCESS - saved https://encrypted-tbn0.gstatic.com/images?q=tbn:ANd9GcRHOgbY4HaW60jp4iRQqlX06exGjoRzWRrkRA&usqp=CAU - as ./images\\tiramisu\\b6d0c393f5.jpg\n"
     ]
    },
    {
     "name": "stderr",
     "output_type": "stream",
     "text": [
      "C:\\Users\\mandeep.singh\\Anaconda3\\lib\\site-packages\\urllib3\\connectionpool.py:1013: InsecureRequestWarning: Unverified HTTPS request is being made to host 'encrypted-tbn0.gstatic.com'. Adding certificate verification is strongly advised. See: https://urllib3.readthedocs.io/en/latest/advanced-usage.html#ssl-warnings\n",
      "  warnings.warn(\n"
     ]
    },
    {
     "name": "stdout",
     "output_type": "stream",
     "text": [
      "SUCCESS - saved https://encrypted-tbn0.gstatic.com/images?q=tbn:ANd9GcQF8q7v0NPK90Toe_YsocWNqlnMj_4Yb-PpNw&usqp=CAU - as ./images\\tiramisu\\841cc4cfd7.jpg\n"
     ]
    },
    {
     "name": "stderr",
     "output_type": "stream",
     "text": [
      "C:\\Users\\mandeep.singh\\Anaconda3\\lib\\site-packages\\urllib3\\connectionpool.py:1013: InsecureRequestWarning: Unverified HTTPS request is being made to host 'encrypted-tbn0.gstatic.com'. Adding certificate verification is strongly advised. See: https://urllib3.readthedocs.io/en/latest/advanced-usage.html#ssl-warnings\n",
      "  warnings.warn(\n"
     ]
    },
    {
     "name": "stdout",
     "output_type": "stream",
     "text": [
      "SUCCESS - saved https://encrypted-tbn0.gstatic.com/images?q=tbn:ANd9GcReEf7ti7jVcHNl3BOniB4rqVOndXZAeVjTmQ&usqp=CAU - as ./images\\tiramisu\\064b918cf2.jpg\n"
     ]
    },
    {
     "name": "stderr",
     "output_type": "stream",
     "text": [
      "C:\\Users\\mandeep.singh\\Anaconda3\\lib\\site-packages\\urllib3\\connectionpool.py:1013: InsecureRequestWarning: Unverified HTTPS request is being made to host 'encrypted-tbn0.gstatic.com'. Adding certificate verification is strongly advised. See: https://urllib3.readthedocs.io/en/latest/advanced-usage.html#ssl-warnings\n",
      "  warnings.warn(\n"
     ]
    },
    {
     "name": "stdout",
     "output_type": "stream",
     "text": [
      "SUCCESS - saved https://encrypted-tbn0.gstatic.com/images?q=tbn:ANd9GcSIc92p6_dfeiPuCN9CyjJ_tRJvLnw7LxY0Zw&usqp=CAU - as ./images\\tiramisu\\d46027030c.jpg\n"
     ]
    },
    {
     "name": "stderr",
     "output_type": "stream",
     "text": [
      "C:\\Users\\mandeep.singh\\Anaconda3\\lib\\site-packages\\urllib3\\connectionpool.py:1013: InsecureRequestWarning: Unverified HTTPS request is being made to host 'www.seriouseats.com'. Adding certificate verification is strongly advised. See: https://urllib3.readthedocs.io/en/latest/advanced-usage.html#ssl-warnings\n",
      "  warnings.warn(\n"
     ]
    },
    {
     "name": "stdout",
     "output_type": "stream",
     "text": [
      "SUCCESS - saved https://www.seriouseats.com/thmb/Y4w87arXyz7e4wCiAYj6nx_lp9c=/1500x1125/filters:fill(auto,1)/__opt__aboutcom__coeus__resources__content_migration__serious_eats__seriouseats.com__recipes__images__2017__06__20170526-tiramisu-vicky-wasik-41-00531445710a4dfa83ffc7d3a65abb12.jpg - as ./images\\tiramisu\\9fe9836184.jpg\n"
     ]
    },
    {
     "name": "stderr",
     "output_type": "stream",
     "text": [
      "C:\\Users\\mandeep.singh\\Anaconda3\\lib\\site-packages\\urllib3\\connectionpool.py:1013: InsecureRequestWarning: Unverified HTTPS request is being made to host 'www.ndtv.com'. Adding certificate verification is strongly advised. See: https://urllib3.readthedocs.io/en/latest/advanced-usage.html#ssl-warnings\n",
      "  warnings.warn(\n",
      "C:\\Users\\mandeep.singh\\Anaconda3\\lib\\site-packages\\urllib3\\connectionpool.py:1013: InsecureRequestWarning: Unverified HTTPS request is being made to host 'encrypted-tbn0.gstatic.com'. Adding certificate verification is strongly advised. See: https://urllib3.readthedocs.io/en/latest/advanced-usage.html#ssl-warnings\n",
      "  warnings.warn(\n"
     ]
    },
    {
     "name": "stdout",
     "output_type": "stream",
     "text": [
      "SUCCESS - saved https://www.ndtv.com/cooks/images/tiramisu-620.jpg - as ./images\\tiramisu\\b59dfed66f.jpg\n",
      "SUCCESS - saved https://encrypted-tbn0.gstatic.com/images?q=tbn:ANd9GcQ7NjZXVtpjRX-7Kj12cehTu6-uLU7sT5W6qQ&usqp=CAU - as ./images\\tiramisu\\577c464b53.jpg\n"
     ]
    },
    {
     "name": "stderr",
     "output_type": "stream",
     "text": [
      "C:\\Users\\mandeep.singh\\Anaconda3\\lib\\site-packages\\urllib3\\connectionpool.py:1013: InsecureRequestWarning: Unverified HTTPS request is being made to host 'www.seriouseats.com'. Adding certificate verification is strongly advised. See: https://urllib3.readthedocs.io/en/latest/advanced-usage.html#ssl-warnings\n",
      "  warnings.warn(\n"
     ]
    },
    {
     "name": "stdout",
     "output_type": "stream",
     "text": [
      "SUCCESS - saved https://www.seriouseats.com/thmb/w2Om3yV0EO9Noa5-f-AcXgW6Crs=/514x289/smart/filters:no_upscale()/__opt__aboutcom__coeus__resources__content_migration__serious_eats__seriouseats.com__recipes__images__2012__08__20120821-219483-easy-chocolate-tiramisu.1-800dda79fb3b462bb1f819342e8e0356.jpg - as ./images\\tiramisu\\971377abb9.jpg\n"
     ]
    },
    {
     "name": "stderr",
     "output_type": "stream",
     "text": [
      "C:\\Users\\mandeep.singh\\Anaconda3\\lib\\site-packages\\urllib3\\connectionpool.py:1013: InsecureRequestWarning: Unverified HTTPS request is being made to host 'encrypted-tbn0.gstatic.com'. Adding certificate verification is strongly advised. See: https://urllib3.readthedocs.io/en/latest/advanced-usage.html#ssl-warnings\n",
      "  warnings.warn(\n"
     ]
    },
    {
     "name": "stdout",
     "output_type": "stream",
     "text": [
      "SUCCESS - saved https://encrypted-tbn0.gstatic.com/images?q=tbn:ANd9GcRyo5bsQ1C8H4cpp6rgylvfCPixaPUg9-8nJg&usqp=CAU - as ./images\\tiramisu\\3149fefed7.jpg\n"
     ]
    },
    {
     "name": "stderr",
     "output_type": "stream",
     "text": [
      "C:\\Users\\mandeep.singh\\Anaconda3\\lib\\site-packages\\urllib3\\connectionpool.py:1013: InsecureRequestWarning: Unverified HTTPS request is being made to host 'imagesvc.meredithcorp.io'. Adding certificate verification is strongly advised. See: https://urllib3.readthedocs.io/en/latest/advanced-usage.html#ssl-warnings\n",
      "  warnings.warn(\n"
     ]
    },
    {
     "name": "stdout",
     "output_type": "stream",
     "text": [
      "SUCCESS - saved https://imagesvc.meredithcorp.io/v3/mm/image?q=85&c=sc&poi=face&w=650&h=325&url=https%3A%2F%2Fstatic.onecms.io%2Fwp-content%2Fuploads%2Fsites%2F43%2F2014%2F11%2F864554-Tiramisu-II-Photo-by-Connie-Ding-resized.jpg - as ./images\\tiramisu\\99ec6c2241.jpg\n",
      "./images\\tuna_tartare\n",
      "Found: 100 search results. Extracting links from 0:100\n",
      "Found: 100 image links, done!\n",
      "{'https://i.pinimg.com/originals/bc/3e/6d/bc3e6d6901923ab53db2320ccdb30b67.jpg', 'https://encrypted-tbn0.gstatic.com/images?q=tbn:ANd9GcS5cfOgFAy5Iuam37F4XbomuFFYnqv2AMmdDw&usqp=CAU', 'https://encrypted-tbn0.gstatic.com/images?q=tbn:ANd9GcTckSDuIv9_AEfVXnDn7L1qvhGjQ83Eyu7fZg&usqp=CAU', 'https://encrypted-tbn0.gstatic.com/images?q=tbn:ANd9GcRc5vE9FCvlhS1qWLwTfGu-kGZ4hzsGMYCSCQ&usqp=CAU', 'https://whatsfordinner.com/wp-content/uploads/2018/05/Tuna_Tartare_with_Avocado_Hero-960x540.jpg', 'https://encrypted-tbn0.gstatic.com/images?q=tbn:ANd9GcSrzL4RwZ7sB1lg806GIWuq9jukyQVUU12JaQ&usqp=CAU', 'https://i.ytimg.com/vi/8iyvTxQvcyQ/maxresdefault.jpg', 'https://encrypted-tbn0.gstatic.com/images?q=tbn:ANd9GcRi_YA1lFh7hGPBYpadWodnxXEWwcpEcgWU-Q&usqp=CAU', 'https://encrypted-tbn0.gstatic.com/images?q=tbn:ANd9GcQxqyU2m1G9uFEmImqxjp3dKMm-o3Bb7EQn5g&usqp=CAU', 'https://encrypted-tbn0.gstatic.com/images?q=tbn:ANd9GcQ13_RdyhHNjY_bdV92FfYbnD0MIBo0IW08QA&usqp=CAU', 'https://encrypted-tbn0.gstatic.com/images?q=tbn:ANd9GcSjzvh58nEQ64Zker7gUofl4MGgRww62Sbwng&usqp=CAU', 'https://encrypted-tbn0.gstatic.com/images?q=tbn:ANd9GcTVBbovpReQ5OruTJAgAmuYuasmGlB5kPuYNw&usqp=CAU', 'https://du7ybees82p4m.cloudfront.net/55a2acef51d911.80223846.jpg?width=910&height=512', 'https://encrypted-tbn0.gstatic.com/images?q=tbn:ANd9GcTNcaedvfo2I8qQcX4JN5bFVjGPMr-EB2pWOg&usqp=CAU', 'https://encrypted-tbn0.gstatic.com/images?q=tbn:ANd9GcRdzuenzAYmGYBH4XB0qShW4xJ6HNKqLBESgg&usqp=CAU', 'https://encrypted-tbn0.gstatic.com/images?q=tbn:ANd9GcSg3HMYCkFeFIY4zhMaxDgEOyhRSoRljC0igw&usqp=CAU', 'https://encrypted-tbn0.gstatic.com/images?q=tbn:ANd9GcQ2JvbUFU9LpOiucUDfOMO7brSgQt9naXXblA&usqp=CAU', 'https://encrypted-tbn0.gstatic.com/images?q=tbn:ANd9GcSUWRVBACaNbo6mYHCyWOL9EWVprAC2irut1g&usqp=CAU', 'https://encrypted-tbn0.gstatic.com/images?q=tbn:ANd9GcRT7yCm9_ktxKa-gbPYWG7sY_mZPjtuEKwGTw&usqp=CAU', 'https://encrypted-tbn0.gstatic.com/images?q=tbn:ANd9GcS7zAt5D53PomlZAqvX0fY14XfasSUeXwIRWQ&usqp=CAU', 'https://encrypted-tbn0.gstatic.com/images?q=tbn:ANd9GcRI7vS5rm4n9U0BGnkz9yj9H79qdYfElYf22g&usqp=CAU', 'https://encrypted-tbn0.gstatic.com/images?q=tbn:ANd9GcSiL-aCCEGIItqT2sFlL5zXznu6NMpKWyq4xA&usqp=CAU', 'https://encrypted-tbn0.gstatic.com/images?q=tbn:ANd9GcQ9HUlUefPkr1EMzVfYmcyND6HinAmkBN2TNw&usqp=CAU', 'https://www.foodrepublic.com/wp-content/uploads/2018/04/Grilled-Tuna-Tartare-0862.jpg', 'https://encrypted-tbn0.gstatic.com/images?q=tbn:ANd9GcSkQe9c6wPr-vMkIMAJax4kZ0XoRVNHeRPjeg&usqp=CAU', 'https://encrypted-tbn0.gstatic.com/images?q=tbn:ANd9GcTRA3Hzw2HPErBKkMS0ba8htoGKfpkh3H0TnA&usqp=CAU', 'https://encrypted-tbn0.gstatic.com/images?q=tbn:ANd9GcRcRe618M8y-9_9JtUhD3gCJHYYtV96G7M4XA&usqp=CAU', 'https://encrypted-tbn0.gstatic.com/images?q=tbn:ANd9GcTfh2pWtHUgQDTeZSasQgjYQCmDXwFEBRJ3xg&usqp=CAU', 'https://encrypted-tbn0.gstatic.com/images?q=tbn:ANd9GcQUNs9OdFm4jUijC8A18xdbMbTefJiYWpMagA&usqp=CAU', 'https://encrypted-tbn0.gstatic.com/images?q=tbn:ANd9GcQpgZcE43LmE5SkStAF1mst_Z7_VUFFDFziAg&usqp=CAU', 'https://media-cdn.tripadvisor.com/media/photo-s/1b/62/f0/09/tuna-tartare-appetizer.jpg', 'https://encrypted-tbn0.gstatic.com/images?q=tbn:ANd9GcSxJc-Ik_9kW9BCcMDKcIEE0Vn5ffZynjx6nA&usqp=CAU', 'https://encrypted-tbn0.gstatic.com/images?q=tbn:ANd9GcSViHwg-3QEosBs5b55MD1RHaYv-RQVIxQdlw&usqp=CAU', 'https://encrypted-tbn0.gstatic.com/images?q=tbn:ANd9GcTwqLLlHf6RpvoJlPsJkfEfsV3fqaRE4a6jBA&usqp=CAU', 'https://encrypted-tbn0.gstatic.com/images?q=tbn:ANd9GcQOd6xy0yAABW2_Iq1lfTK-uWHkBmwXCNAgHw&usqp=CAU', 'https://ca-times.brightspotcdn.com/dims4/default/470dc93/2147483647/strip/true/crop/1401x875+0+587/resize/1044x652!/quality/90/?url=https%3A%2F%2Fcalifornia-times-brightspot.s3.amazonaws.com%2Fda%2F51%2F58312ff4c1e83176310937942ec2%2Fbig-eye-tuna-tartare-recipe-db', 'https://encrypted-tbn0.gstatic.com/images?q=tbn:ANd9GcSi9_E8I2t-xWFHJAk3gbVep2b965udrlxNeA&usqp=CAU', 'https://encrypted-tbn0.gstatic.com/images?q=tbn:ANd9GcSnDs6GgDvoXLgc1-2OxITQpokrH2waOYHY3A&usqp=CAU', 'https://i.ytimg.com/vi/5sJI6bwiX9A/maxresdefault.jpg', 'https://encrypted-tbn0.gstatic.com/images?q=tbn:ANd9GcQEeNoF1ibZiqC7lRkvx4xSanozcsXH-qBOkw&usqp=CAU', 'https://www.seriouseats.com/thmb/sDWR1YB2qdG6RmzLtHXbxvWzRIc=/610x458/filters:fill(auto,1)/__opt__aboutcom__coeus__resources__content_migration__serious_eats__seriouseats.com__recipes__images__2012__07__20120710-fiaf-tuna-tartare-primary-093042843a1b4a5da683b9a863266030.jpg', 'https://choosingchia.com/jessh-jessh/uploads/2015/07/IMG_8564-1024x1024.jpg', 'https://encrypted-tbn0.gstatic.com/images?q=tbn:ANd9GcRbty97YjilK0WVUym_Izyx9HpkAwqhUCBBqQ&usqp=CAU', 'https://encrypted-tbn0.gstatic.com/images?q=tbn:ANd9GcRxec8ORMHDpR3Xz1RMZnwg1RP12qsT0afLxA&usqp=CAU', 'https://encrypted-tbn0.gstatic.com/images?q=tbn:ANd9GcTje7DLaMpHSOs9qQPt9N3HuNXP6HDJN1Ta4Q&usqp=CAU', 'https://encrypted-tbn0.gstatic.com/images?q=tbn:ANd9GcSfTaACkM9g9vwc8BAc4sddcdAtH9CCZ-fi8g&usqp=CAU', 'https://media-cdn.tripadvisor.com/media/photo-s/14/39/3f/0e/tuna-tartare.jpg', 'https://encrypted-tbn0.gstatic.com/images?q=tbn:ANd9GcSpqjKVivQWen15nOL8fs7ln0QYyB_PDedZcQ&usqp=CAU', 'https://encrypted-tbn0.gstatic.com/images?q=tbn:ANd9GcQEFLE7UQ4kuFwY5OAmqdFyvCY5ZZ1HAmmVFA&usqp=CAU', 'https://encrypted-tbn0.gstatic.com/images?q=tbn:ANd9GcQu1_sE8OZMl9WxzAc-Dmy5L7m3m5x3E9WQgA&usqp=CAU', 'https://encrypted-tbn0.gstatic.com/images?q=tbn:ANd9GcQU9jlGodvG9aH1ipWuYzIkzK_-NhsND1bQjg&usqp=CAU', 'https://encrypted-tbn0.gstatic.com/images?q=tbn:ANd9GcTbHWZ6PTXtrQCyx2RjfQhqmD4XijQ1x8tNEQ&usqp=CAU', 'https://encrypted-tbn0.gstatic.com/images?q=tbn:ANd9GcQ_WDIoMe8k-M7BLgUE945pHm_m_mnoW-BdBQ&usqp=CAU', 'https://cook.fnr.sndimg.com/content/dam/images/cook/fullset/2016/3/17/0/CCKOR209_spiced-tuna-tartare_s4x3.jpg.rend.hgtvcom.616.462.suffix/1458248857666.jpeg', 'https://encrypted-tbn0.gstatic.com/images?q=tbn:ANd9GcTXGpFwacZgyTvEasneBHlSI-trrsUeX17heQ&usqp=CAU', 'https://pyxis.nymag.com/v1/imgs/fbf/7c2/a0c4507ae0626e578783361a7fd89f0684-tuna-tartare-flora-bar-2.2x.rsocial.w600.jpg', 'https://encrypted-tbn0.gstatic.com/images?q=tbn:ANd9GcS7UFTp6yXooIk9S2tNCVpXt3zcRVrWsctNZQ&usqp=CAU', 'https://encrypted-tbn0.gstatic.com/images?q=tbn:ANd9GcTB74ddtfsHPTtZE3LZ5QKF6VApnPXP75-rRA&usqp=CAU', 'https://encrypted-tbn0.gstatic.com/images?q=tbn:ANd9GcS4laSOItuEwEZg63SBiMq8l-ZNVFyeiZ49uA&usqp=CAU', 'https://www.washingtonpost.com/rf/image_1484w/2010-2019/WashingtonPost/2014/02/20/Food/Images/SuperFoodsChefsMar5B1392864911.jpg?t=20170517', 'https://encrypted-tbn0.gstatic.com/images?q=tbn:ANd9GcR2-9M4ykCap1Si_RZVDoEtgDX3YvVIjWLqyQ&usqp=CAU', 'https://encrypted-tbn0.gstatic.com/images?q=tbn:ANd9GcSBnH1DCPM-0HEU1etpTUGYv3lEurAAQCWbCg&usqp=CAU', 'https://encrypted-tbn0.gstatic.com/images?q=tbn:ANd9GcQc8fwg4jwv-QzEtv4NAlEhH_VnMqfbfLXzqw&usqp=CAU', 'https://encrypted-tbn0.gstatic.com/images?q=tbn:ANd9GcTYuVlBZSD-ayIFtQivLMwHZzqaSlhCskPY2Q&usqp=CAU', 'https://media.istockphoto.com/photos/tuna-tartare-picture-id1312182919?k=20&m=1312182919&s=612x612&w=0&h=_EwhsTx4y5wLQUvKW7sI23DaNR8W1T51dao5E95WDKQ=', 'https://encrypted-tbn0.gstatic.com/images?q=tbn:ANd9GcTfWXAJOOqGTvekzrMpYBe8vB6Q1p4nSKeTEw&usqp=CAU', 'https://encrypted-tbn0.gstatic.com/images?q=tbn:ANd9GcT0ujXAuJ9jxmqeLj8MsrYKuRv80dmCXmtI4A&usqp=CAU', 'https://cook.fnr.sndimg.com/content/dam/images/cook/fullset/2010/7/13/2/ry0211_tuna.jpg.rend.hgtvcom.616.411.suffix/1377149913582.jpeg', 'https://i.pinimg.com/originals/d8/72/f3/d872f3e27c3a4150fb139167795662ae.jpg', 'https://encrypted-tbn0.gstatic.com/images?q=tbn:ANd9GcSiSt2zkQ2Qoi5vnyR8YhG229wJ2SHjH-bKRg&usqp=CAU', 'https://encrypted-tbn0.gstatic.com/images?q=tbn:ANd9GcStoT0frSg4juAKRvCtrjsP6AYDu_h_5vw6tQ&usqp=CAU', 'https://encrypted-tbn0.gstatic.com/images?q=tbn:ANd9GcQQasYpnQx21pv4PqslpNDuAC9zkyiVJ8hJAA&usqp=CAU', 'https://encrypted-tbn0.gstatic.com/images?q=tbn:ANd9GcTRRutmeC50e7xIyfu0-KPDRPa8_cCtjksdRw&usqp=CAU', 'https://i.pinimg.com/originals/49/b8/1e/49b81e6048a321a365ac729edc3af3e3.png', 'https://encrypted-tbn0.gstatic.com/images?q=tbn:ANd9GcSg8gNR3LVWa7x9KaaKEsqMGd2zVUz9zk9dMw&usqp=CAU', 'https://food.fnr.sndimg.com/content/dam/images/food/fullset/2009/8/28/0/037121F4_Tuna-Tartare_s4x3.jpg.rend.hgtvcom.616.462.suffix/1371590951933.jpeg', 'https://ca-times.brightspotcdn.com/dims4/default/4e11fa2/2147483647/strip/true/crop/2048x1279+0+43/resize/1044x652!/quality/90/?url=https%3A%2F%2Fcalifornia-times-brightspot.s3.amazonaws.com%2Fbb%2F7c%2F7897f553b4d374d5bfcca09b9b52%2Fm1zu29pd-recipe-db', 'https://encrypted-tbn0.gstatic.com/images?q=tbn:ANd9GcT18aveHozN2Wlg7ntOufkrCYuGkKlvTfWaJg&usqp=CAU', 'https://assets.wsimgs.com/wsimgs/ab/images/dp/recipe/202118/0049/img12l.jpg', 'https://i1.wp.com/www.discoverycooking.com/wp-content/uploads/2015/11/tuna-tartare-2.jpg?fit=2663%2C2668', 'https://encrypted-tbn0.gstatic.com/images?q=tbn:ANd9GcTzYtnqoFtJ_3T10G1eSHAIpUe1QRLZzzvBCg&usqp=CAU', 'https://encrypted-tbn0.gstatic.com/images?q=tbn:ANd9GcSSoc46bHOEL_AK4UQl8znPSWD6ykRaNToXQA&usqp=CAU', 'https://i.ytimg.com/vi/Mt9t8OXZ8F4/maxresdefault.jpg', 'https://static.onecms.io/wp-content/uploads/sites/9/2013/12/06/asian-tuna-tartare-xl-r-201307.jpg', 'https://encrypted-tbn0.gstatic.com/images?q=tbn:ANd9GcRmDDO1H39ZLWVE6t-aEMHqDN_1z0eh0LlC-Q&usqp=CAU', 'https://encrypted-tbn0.gstatic.com/images?q=tbn:ANd9GcTpyHvTi0kC7rK5tzUR_xTHWXVsIGpcM75Vlw&usqp=CAU', 'https://encrypted-tbn0.gstatic.com/images?q=tbn:ANd9GcQP2KuTtcwg61Q1xDljbH8NBK7sMNqvNgH-QA&usqp=CAU', 'https://encrypted-tbn0.gstatic.com/images?q=tbn:ANd9GcRZ3Te3LtqYWmP7oErIx56BAiwSkdx5oO4P3w&usqp=CAU', 'https://encrypted-tbn0.gstatic.com/images?q=tbn:ANd9GcSUXETlcy7zphtCFjycEthiPVAWdJ2cEkO4Ew&usqp=CAU', 'https://encrypted-tbn0.gstatic.com/images?q=tbn:ANd9GcSKGfd10m_6F0IJnFZrRi9Qgk-FioIPiMtIEg&usqp=CAU', 'https://encrypted-tbn0.gstatic.com/images?q=tbn:ANd9GcRrSQ3Qy53HcbnHufmZjiHQ60YwRt1M4zFdTg&usqp=CAU', 'https://encrypted-tbn0.gstatic.com/images?q=tbn:ANd9GcSTo2hqbXKNb8eeM-7vvE1LpprTGcHCBC1bbg&usqp=CAU', 'https://encrypted-tbn0.gstatic.com/images?q=tbn:ANd9GcQV9eDhM5nf98aBjhR6sF8WxX8X5NAAaZT8Nw&usqp=CAU', 'https://encrypted-tbn0.gstatic.com/images?q=tbn:ANd9GcQFrrPkL8vqdKoWUBY6XstAcU51Z78-Q9Uzpg&usqp=CAU', 'https://encrypted-tbn0.gstatic.com/images?q=tbn:ANd9GcSpXFGiUSNpAmu8tZPsL02enz34RARElMXGNQ&usqp=CAU', 'https://encrypted-tbn0.gstatic.com/images?q=tbn:ANd9GcSFMOZFMDWU_BsZQjgO8MsLUViC8Fawf2VYRw&usqp=CAU', 'https://encrypted-tbn0.gstatic.com/images?q=tbn:ANd9GcSyVQOfWzXXNOaBE2ppZK_yH1rU9j8lOwKFtw&usqp=CAU', 'https://encrypted-tbn0.gstatic.com/images?q=tbn:ANd9GcTuOB3qsi2TteKlmNgTF37YlU_9wg4gmD5eWg&usqp=CAU', 'https://encrypted-tbn0.gstatic.com/images?q=tbn:ANd9GcQ0nLz5pr8PiLPjya9KbRk54YYJ7V4rP8s_7w&usqp=CAU', 'https://encrypted-tbn0.gstatic.com/images?q=tbn:ANd9GcQWDb1qrrmbcaP_D-GkRXtbOzsV86AZvoDDPg&usqp=CAU'}\n"
     ]
    },
    {
     "name": "stderr",
     "output_type": "stream",
     "text": [
      "C:\\Users\\mandeep.singh\\Anaconda3\\lib\\site-packages\\urllib3\\connectionpool.py:1013: InsecureRequestWarning: Unverified HTTPS request is being made to host 'i.pinimg.com'. Adding certificate verification is strongly advised. See: https://urllib3.readthedocs.io/en/latest/advanced-usage.html#ssl-warnings\n",
      "  warnings.warn(\n"
     ]
    },
    {
     "name": "stdout",
     "output_type": "stream",
     "text": [
      "SUCCESS - saved https://i.pinimg.com/originals/bc/3e/6d/bc3e6d6901923ab53db2320ccdb30b67.jpg - as ./images\\tuna_tartare\\17ffa6574c.jpg\n",
      "SUCCESS - saved https://encrypted-tbn0.gstatic.com/images?q=tbn:ANd9GcS5cfOgFAy5Iuam37F4XbomuFFYnqv2AMmdDw&usqp=CAU - as ./images\\tuna_tartare\\c03f52cd52.jpg\n"
     ]
    },
    {
     "name": "stderr",
     "output_type": "stream",
     "text": [
      "C:\\Users\\mandeep.singh\\Anaconda3\\lib\\site-packages\\urllib3\\connectionpool.py:1013: InsecureRequestWarning: Unverified HTTPS request is being made to host 'encrypted-tbn0.gstatic.com'. Adding certificate verification is strongly advised. See: https://urllib3.readthedocs.io/en/latest/advanced-usage.html#ssl-warnings\n",
      "  warnings.warn(\n",
      "C:\\Users\\mandeep.singh\\Anaconda3\\lib\\site-packages\\urllib3\\connectionpool.py:1013: InsecureRequestWarning: Unverified HTTPS request is being made to host 'encrypted-tbn0.gstatic.com'. Adding certificate verification is strongly advised. See: https://urllib3.readthedocs.io/en/latest/advanced-usage.html#ssl-warnings\n",
      "  warnings.warn(\n"
     ]
    },
    {
     "name": "stdout",
     "output_type": "stream",
     "text": [
      "SUCCESS - saved https://encrypted-tbn0.gstatic.com/images?q=tbn:ANd9GcTckSDuIv9_AEfVXnDn7L1qvhGjQ83Eyu7fZg&usqp=CAU - as ./images\\tuna_tartare\\651ce253d6.jpg\n"
     ]
    },
    {
     "name": "stderr",
     "output_type": "stream",
     "text": [
      "C:\\Users\\mandeep.singh\\Anaconda3\\lib\\site-packages\\urllib3\\connectionpool.py:1013: InsecureRequestWarning: Unverified HTTPS request is being made to host 'encrypted-tbn0.gstatic.com'. Adding certificate verification is strongly advised. See: https://urllib3.readthedocs.io/en/latest/advanced-usage.html#ssl-warnings\n",
      "  warnings.warn(\n"
     ]
    },
    {
     "name": "stdout",
     "output_type": "stream",
     "text": [
      "SUCCESS - saved https://encrypted-tbn0.gstatic.com/images?q=tbn:ANd9GcRc5vE9FCvlhS1qWLwTfGu-kGZ4hzsGMYCSCQ&usqp=CAU - as ./images\\tuna_tartare\\a3ea266aae.jpg\n"
     ]
    },
    {
     "name": "stderr",
     "output_type": "stream",
     "text": [
      "C:\\Users\\mandeep.singh\\Anaconda3\\lib\\site-packages\\urllib3\\connectionpool.py:1013: InsecureRequestWarning: Unverified HTTPS request is being made to host 'whatsfordinner.com'. Adding certificate verification is strongly advised. See: https://urllib3.readthedocs.io/en/latest/advanced-usage.html#ssl-warnings\n",
      "  warnings.warn(\n"
     ]
    },
    {
     "name": "stdout",
     "output_type": "stream",
     "text": [
      "SUCCESS - saved https://whatsfordinner.com/wp-content/uploads/2018/05/Tuna_Tartare_with_Avocado_Hero-960x540.jpg - as ./images\\tuna_tartare\\1f38ad5c5e.jpg\n"
     ]
    },
    {
     "name": "stderr",
     "output_type": "stream",
     "text": [
      "C:\\Users\\mandeep.singh\\Anaconda3\\lib\\site-packages\\urllib3\\connectionpool.py:1013: InsecureRequestWarning: Unverified HTTPS request is being made to host 'encrypted-tbn0.gstatic.com'. Adding certificate verification is strongly advised. See: https://urllib3.readthedocs.io/en/latest/advanced-usage.html#ssl-warnings\n",
      "  warnings.warn(\n"
     ]
    },
    {
     "name": "stdout",
     "output_type": "stream",
     "text": [
      "SUCCESS - saved https://encrypted-tbn0.gstatic.com/images?q=tbn:ANd9GcSrzL4RwZ7sB1lg806GIWuq9jukyQVUU12JaQ&usqp=CAU - as ./images\\tuna_tartare\\529a488389.jpg\n"
     ]
    },
    {
     "name": "stderr",
     "output_type": "stream",
     "text": [
      "C:\\Users\\mandeep.singh\\Anaconda3\\lib\\site-packages\\urllib3\\connectionpool.py:1013: InsecureRequestWarning: Unverified HTTPS request is being made to host 'i.ytimg.com'. Adding certificate verification is strongly advised. See: https://urllib3.readthedocs.io/en/latest/advanced-usage.html#ssl-warnings\n",
      "  warnings.warn(\n"
     ]
    },
    {
     "name": "stdout",
     "output_type": "stream",
     "text": [
      "SUCCESS - saved https://i.ytimg.com/vi/8iyvTxQvcyQ/maxresdefault.jpg - as ./images\\tuna_tartare\\be4ba0492c.jpg\n"
     ]
    },
    {
     "name": "stderr",
     "output_type": "stream",
     "text": [
      "C:\\Users\\mandeep.singh\\Anaconda3\\lib\\site-packages\\urllib3\\connectionpool.py:1013: InsecureRequestWarning: Unverified HTTPS request is being made to host 'encrypted-tbn0.gstatic.com'. Adding certificate verification is strongly advised. See: https://urllib3.readthedocs.io/en/latest/advanced-usage.html#ssl-warnings\n",
      "  warnings.warn(\n"
     ]
    },
    {
     "name": "stdout",
     "output_type": "stream",
     "text": [
      "SUCCESS - saved https://encrypted-tbn0.gstatic.com/images?q=tbn:ANd9GcRi_YA1lFh7hGPBYpadWodnxXEWwcpEcgWU-Q&usqp=CAU - as ./images\\tuna_tartare\\6b9a0b120e.jpg\n"
     ]
    },
    {
     "name": "stderr",
     "output_type": "stream",
     "text": [
      "C:\\Users\\mandeep.singh\\Anaconda3\\lib\\site-packages\\urllib3\\connectionpool.py:1013: InsecureRequestWarning: Unverified HTTPS request is being made to host 'encrypted-tbn0.gstatic.com'. Adding certificate verification is strongly advised. See: https://urllib3.readthedocs.io/en/latest/advanced-usage.html#ssl-warnings\n",
      "  warnings.warn(\n"
     ]
    },
    {
     "name": "stdout",
     "output_type": "stream",
     "text": [
      "SUCCESS - saved https://encrypted-tbn0.gstatic.com/images?q=tbn:ANd9GcQxqyU2m1G9uFEmImqxjp3dKMm-o3Bb7EQn5g&usqp=CAU - as ./images\\tuna_tartare\\8513abb12d.jpg\n"
     ]
    },
    {
     "name": "stderr",
     "output_type": "stream",
     "text": [
      "C:\\Users\\mandeep.singh\\Anaconda3\\lib\\site-packages\\urllib3\\connectionpool.py:1013: InsecureRequestWarning: Unverified HTTPS request is being made to host 'encrypted-tbn0.gstatic.com'. Adding certificate verification is strongly advised. See: https://urllib3.readthedocs.io/en/latest/advanced-usage.html#ssl-warnings\n",
      "  warnings.warn(\n"
     ]
    },
    {
     "name": "stdout",
     "output_type": "stream",
     "text": [
      "SUCCESS - saved https://encrypted-tbn0.gstatic.com/images?q=tbn:ANd9GcQ13_RdyhHNjY_bdV92FfYbnD0MIBo0IW08QA&usqp=CAU - as ./images\\tuna_tartare\\59639cb3ba.jpg\n",
      "SUCCESS - saved https://encrypted-tbn0.gstatic.com/images?q=tbn:ANd9GcSjzvh58nEQ64Zker7gUofl4MGgRww62Sbwng&usqp=CAU - as ./images\\tuna_tartare\\0139ea97d2.jpg\n"
     ]
    },
    {
     "name": "stderr",
     "output_type": "stream",
     "text": [
      "C:\\Users\\mandeep.singh\\Anaconda3\\lib\\site-packages\\urllib3\\connectionpool.py:1013: InsecureRequestWarning: Unverified HTTPS request is being made to host 'encrypted-tbn0.gstatic.com'. Adding certificate verification is strongly advised. See: https://urllib3.readthedocs.io/en/latest/advanced-usage.html#ssl-warnings\n",
      "  warnings.warn(\n",
      "C:\\Users\\mandeep.singh\\Anaconda3\\lib\\site-packages\\urllib3\\connectionpool.py:1013: InsecureRequestWarning: Unverified HTTPS request is being made to host 'encrypted-tbn0.gstatic.com'. Adding certificate verification is strongly advised. See: https://urllib3.readthedocs.io/en/latest/advanced-usage.html#ssl-warnings\n",
      "  warnings.warn(\n"
     ]
    },
    {
     "name": "stdout",
     "output_type": "stream",
     "text": [
      "SUCCESS - saved https://encrypted-tbn0.gstatic.com/images?q=tbn:ANd9GcTVBbovpReQ5OruTJAgAmuYuasmGlB5kPuYNw&usqp=CAU - as ./images\\tuna_tartare\\8b041bc0b5.jpg\n"
     ]
    },
    {
     "name": "stderr",
     "output_type": "stream",
     "text": [
      "C:\\Users\\mandeep.singh\\Anaconda3\\lib\\site-packages\\urllib3\\connectionpool.py:1013: InsecureRequestWarning: Unverified HTTPS request is being made to host 'du7ybees82p4m.cloudfront.net'. Adding certificate verification is strongly advised. See: https://urllib3.readthedocs.io/en/latest/advanced-usage.html#ssl-warnings\n",
      "  warnings.warn(\n"
     ]
    },
    {
     "name": "stdout",
     "output_type": "stream",
     "text": [
      "SUCCESS - saved https://du7ybees82p4m.cloudfront.net/55a2acef51d911.80223846.jpg?width=910&height=512 - as ./images\\tuna_tartare\\ef2aadd5e7.jpg\n"
     ]
    },
    {
     "name": "stderr",
     "output_type": "stream",
     "text": [
      "C:\\Users\\mandeep.singh\\Anaconda3\\lib\\site-packages\\urllib3\\connectionpool.py:1013: InsecureRequestWarning: Unverified HTTPS request is being made to host 'encrypted-tbn0.gstatic.com'. Adding certificate verification is strongly advised. See: https://urllib3.readthedocs.io/en/latest/advanced-usage.html#ssl-warnings\n",
      "  warnings.warn(\n",
      "C:\\Users\\mandeep.singh\\Anaconda3\\lib\\site-packages\\urllib3\\connectionpool.py:1013: InsecureRequestWarning: Unverified HTTPS request is being made to host 'encrypted-tbn0.gstatic.com'. Adding certificate verification is strongly advised. See: https://urllib3.readthedocs.io/en/latest/advanced-usage.html#ssl-warnings\n",
      "  warnings.warn(\n"
     ]
    },
    {
     "name": "stdout",
     "output_type": "stream",
     "text": [
      "SUCCESS - saved https://encrypted-tbn0.gstatic.com/images?q=tbn:ANd9GcTNcaedvfo2I8qQcX4JN5bFVjGPMr-EB2pWOg&usqp=CAU - as ./images\\tuna_tartare\\cfb128ecf4.jpg\n",
      "SUCCESS - saved https://encrypted-tbn0.gstatic.com/images?q=tbn:ANd9GcRdzuenzAYmGYBH4XB0qShW4xJ6HNKqLBESgg&usqp=CAU - as ./images\\tuna_tartare\\abd31c97f1.jpg\n"
     ]
    },
    {
     "name": "stderr",
     "output_type": "stream",
     "text": [
      "C:\\Users\\mandeep.singh\\Anaconda3\\lib\\site-packages\\urllib3\\connectionpool.py:1013: InsecureRequestWarning: Unverified HTTPS request is being made to host 'encrypted-tbn0.gstatic.com'. Adding certificate verification is strongly advised. See: https://urllib3.readthedocs.io/en/latest/advanced-usage.html#ssl-warnings\n",
      "  warnings.warn(\n",
      "C:\\Users\\mandeep.singh\\Anaconda3\\lib\\site-packages\\urllib3\\connectionpool.py:1013: InsecureRequestWarning: Unverified HTTPS request is being made to host 'encrypted-tbn0.gstatic.com'. Adding certificate verification is strongly advised. See: https://urllib3.readthedocs.io/en/latest/advanced-usage.html#ssl-warnings\n",
      "  warnings.warn(\n"
     ]
    },
    {
     "name": "stdout",
     "output_type": "stream",
     "text": [
      "SUCCESS - saved https://encrypted-tbn0.gstatic.com/images?q=tbn:ANd9GcSg3HMYCkFeFIY4zhMaxDgEOyhRSoRljC0igw&usqp=CAU - as ./images\\tuna_tartare\\25f75b3eab.jpg\n",
      "SUCCESS - saved https://encrypted-tbn0.gstatic.com/images?q=tbn:ANd9GcQ2JvbUFU9LpOiucUDfOMO7brSgQt9naXXblA&usqp=CAU - as ./images\\tuna_tartare\\60fe322aaf.jpg\n"
     ]
    },
    {
     "name": "stderr",
     "output_type": "stream",
     "text": [
      "C:\\Users\\mandeep.singh\\Anaconda3\\lib\\site-packages\\urllib3\\connectionpool.py:1013: InsecureRequestWarning: Unverified HTTPS request is being made to host 'encrypted-tbn0.gstatic.com'. Adding certificate verification is strongly advised. See: https://urllib3.readthedocs.io/en/latest/advanced-usage.html#ssl-warnings\n",
      "  warnings.warn(\n"
     ]
    },
    {
     "name": "stdout",
     "output_type": "stream",
     "text": [
      "SUCCESS - saved https://encrypted-tbn0.gstatic.com/images?q=tbn:ANd9GcSUWRVBACaNbo6mYHCyWOL9EWVprAC2irut1g&usqp=CAU - as ./images\\tuna_tartare\\2aeaaf0f6a.jpg\n"
     ]
    },
    {
     "name": "stderr",
     "output_type": "stream",
     "text": [
      "C:\\Users\\mandeep.singh\\Anaconda3\\lib\\site-packages\\urllib3\\connectionpool.py:1013: InsecureRequestWarning: Unverified HTTPS request is being made to host 'encrypted-tbn0.gstatic.com'. Adding certificate verification is strongly advised. See: https://urllib3.readthedocs.io/en/latest/advanced-usage.html#ssl-warnings\n",
      "  warnings.warn(\n"
     ]
    },
    {
     "name": "stdout",
     "output_type": "stream",
     "text": [
      "SUCCESS - saved https://encrypted-tbn0.gstatic.com/images?q=tbn:ANd9GcRT7yCm9_ktxKa-gbPYWG7sY_mZPjtuEKwGTw&usqp=CAU - as ./images\\tuna_tartare\\9805b15ace.jpg\n"
     ]
    },
    {
     "name": "stderr",
     "output_type": "stream",
     "text": [
      "C:\\Users\\mandeep.singh\\Anaconda3\\lib\\site-packages\\urllib3\\connectionpool.py:1013: InsecureRequestWarning: Unverified HTTPS request is being made to host 'encrypted-tbn0.gstatic.com'. Adding certificate verification is strongly advised. See: https://urllib3.readthedocs.io/en/latest/advanced-usage.html#ssl-warnings\n",
      "  warnings.warn(\n"
     ]
    },
    {
     "name": "stdout",
     "output_type": "stream",
     "text": [
      "SUCCESS - saved https://encrypted-tbn0.gstatic.com/images?q=tbn:ANd9GcS7zAt5D53PomlZAqvX0fY14XfasSUeXwIRWQ&usqp=CAU - as ./images\\tuna_tartare\\54e294ffcd.jpg\n"
     ]
    },
    {
     "name": "stderr",
     "output_type": "stream",
     "text": [
      "C:\\Users\\mandeep.singh\\Anaconda3\\lib\\site-packages\\urllib3\\connectionpool.py:1013: InsecureRequestWarning: Unverified HTTPS request is being made to host 'encrypted-tbn0.gstatic.com'. Adding certificate verification is strongly advised. See: https://urllib3.readthedocs.io/en/latest/advanced-usage.html#ssl-warnings\n",
      "  warnings.warn(\n"
     ]
    },
    {
     "name": "stdout",
     "output_type": "stream",
     "text": [
      "SUCCESS - saved https://encrypted-tbn0.gstatic.com/images?q=tbn:ANd9GcRI7vS5rm4n9U0BGnkz9yj9H79qdYfElYf22g&usqp=CAU - as ./images\\tuna_tartare\\5c80afb262.jpg\n"
     ]
    },
    {
     "name": "stderr",
     "output_type": "stream",
     "text": [
      "C:\\Users\\mandeep.singh\\Anaconda3\\lib\\site-packages\\urllib3\\connectionpool.py:1013: InsecureRequestWarning: Unverified HTTPS request is being made to host 'encrypted-tbn0.gstatic.com'. Adding certificate verification is strongly advised. See: https://urllib3.readthedocs.io/en/latest/advanced-usage.html#ssl-warnings\n",
      "  warnings.warn(\n"
     ]
    },
    {
     "name": "stdout",
     "output_type": "stream",
     "text": [
      "SUCCESS - saved https://encrypted-tbn0.gstatic.com/images?q=tbn:ANd9GcSiL-aCCEGIItqT2sFlL5zXznu6NMpKWyq4xA&usqp=CAU - as ./images\\tuna_tartare\\390703957c.jpg\n"
     ]
    },
    {
     "name": "stderr",
     "output_type": "stream",
     "text": [
      "C:\\Users\\mandeep.singh\\Anaconda3\\lib\\site-packages\\urllib3\\connectionpool.py:1013: InsecureRequestWarning: Unverified HTTPS request is being made to host 'encrypted-tbn0.gstatic.com'. Adding certificate verification is strongly advised. See: https://urllib3.readthedocs.io/en/latest/advanced-usage.html#ssl-warnings\n",
      "  warnings.warn(\n"
     ]
    },
    {
     "name": "stdout",
     "output_type": "stream",
     "text": [
      "SUCCESS - saved https://encrypted-tbn0.gstatic.com/images?q=tbn:ANd9GcQ9HUlUefPkr1EMzVfYmcyND6HinAmkBN2TNw&usqp=CAU - as ./images\\tuna_tartare\\be32707aeb.jpg\n"
     ]
    },
    {
     "name": "stderr",
     "output_type": "stream",
     "text": [
      "C:\\Users\\mandeep.singh\\Anaconda3\\lib\\site-packages\\urllib3\\connectionpool.py:1013: InsecureRequestWarning: Unverified HTTPS request is being made to host 'www.foodrepublic.com'. Adding certificate verification is strongly advised. See: https://urllib3.readthedocs.io/en/latest/advanced-usage.html#ssl-warnings\n",
      "  warnings.warn(\n"
     ]
    },
    {
     "name": "stdout",
     "output_type": "stream",
     "text": [
      "SUCCESS - saved https://www.foodrepublic.com/wp-content/uploads/2018/04/Grilled-Tuna-Tartare-0862.jpg - as ./images\\tuna_tartare\\09dc48d447.jpg\n"
     ]
    },
    {
     "name": "stderr",
     "output_type": "stream",
     "text": [
      "C:\\Users\\mandeep.singh\\Anaconda3\\lib\\site-packages\\urllib3\\connectionpool.py:1013: InsecureRequestWarning: Unverified HTTPS request is being made to host 'encrypted-tbn0.gstatic.com'. Adding certificate verification is strongly advised. See: https://urllib3.readthedocs.io/en/latest/advanced-usage.html#ssl-warnings\n",
      "  warnings.warn(\n"
     ]
    },
    {
     "name": "stdout",
     "output_type": "stream",
     "text": [
      "SUCCESS - saved https://encrypted-tbn0.gstatic.com/images?q=tbn:ANd9GcSkQe9c6wPr-vMkIMAJax4kZ0XoRVNHeRPjeg&usqp=CAU - as ./images\\tuna_tartare\\dd41bd4db4.jpg\n"
     ]
    },
    {
     "name": "stderr",
     "output_type": "stream",
     "text": [
      "C:\\Users\\mandeep.singh\\Anaconda3\\lib\\site-packages\\urllib3\\connectionpool.py:1013: InsecureRequestWarning: Unverified HTTPS request is being made to host 'encrypted-tbn0.gstatic.com'. Adding certificate verification is strongly advised. See: https://urllib3.readthedocs.io/en/latest/advanced-usage.html#ssl-warnings\n",
      "  warnings.warn(\n"
     ]
    },
    {
     "name": "stdout",
     "output_type": "stream",
     "text": [
      "SUCCESS - saved https://encrypted-tbn0.gstatic.com/images?q=tbn:ANd9GcTRA3Hzw2HPErBKkMS0ba8htoGKfpkh3H0TnA&usqp=CAU - as ./images\\tuna_tartare\\99723d8295.jpg\n"
     ]
    },
    {
     "name": "stderr",
     "output_type": "stream",
     "text": [
      "C:\\Users\\mandeep.singh\\Anaconda3\\lib\\site-packages\\urllib3\\connectionpool.py:1013: InsecureRequestWarning: Unverified HTTPS request is being made to host 'encrypted-tbn0.gstatic.com'. Adding certificate verification is strongly advised. See: https://urllib3.readthedocs.io/en/latest/advanced-usage.html#ssl-warnings\n",
      "  warnings.warn(\n",
      "C:\\Users\\mandeep.singh\\Anaconda3\\lib\\site-packages\\urllib3\\connectionpool.py:1013: InsecureRequestWarning: Unverified HTTPS request is being made to host 'encrypted-tbn0.gstatic.com'. Adding certificate verification is strongly advised. See: https://urllib3.readthedocs.io/en/latest/advanced-usage.html#ssl-warnings\n",
      "  warnings.warn(\n"
     ]
    },
    {
     "name": "stdout",
     "output_type": "stream",
     "text": [
      "SUCCESS - saved https://encrypted-tbn0.gstatic.com/images?q=tbn:ANd9GcRcRe618M8y-9_9JtUhD3gCJHYYtV96G7M4XA&usqp=CAU - as ./images\\tuna_tartare\\65a0f41f86.jpg\n",
      "SUCCESS - saved https://encrypted-tbn0.gstatic.com/images?q=tbn:ANd9GcTfh2pWtHUgQDTeZSasQgjYQCmDXwFEBRJ3xg&usqp=CAU - as ./images\\tuna_tartare\\64debca17f.jpg\n"
     ]
    },
    {
     "name": "stderr",
     "output_type": "stream",
     "text": [
      "C:\\Users\\mandeep.singh\\Anaconda3\\lib\\site-packages\\urllib3\\connectionpool.py:1013: InsecureRequestWarning: Unverified HTTPS request is being made to host 'encrypted-tbn0.gstatic.com'. Adding certificate verification is strongly advised. See: https://urllib3.readthedocs.io/en/latest/advanced-usage.html#ssl-warnings\n",
      "  warnings.warn(\n"
     ]
    },
    {
     "name": "stdout",
     "output_type": "stream",
     "text": [
      "SUCCESS - saved https://encrypted-tbn0.gstatic.com/images?q=tbn:ANd9GcQUNs9OdFm4jUijC8A18xdbMbTefJiYWpMagA&usqp=CAU - as ./images\\tuna_tartare\\d3745acf40.jpg\n"
     ]
    },
    {
     "name": "stderr",
     "output_type": "stream",
     "text": [
      "C:\\Users\\mandeep.singh\\Anaconda3\\lib\\site-packages\\urllib3\\connectionpool.py:1013: InsecureRequestWarning: Unverified HTTPS request is being made to host 'encrypted-tbn0.gstatic.com'. Adding certificate verification is strongly advised. See: https://urllib3.readthedocs.io/en/latest/advanced-usage.html#ssl-warnings\n",
      "  warnings.warn(\n"
     ]
    },
    {
     "name": "stdout",
     "output_type": "stream",
     "text": [
      "SUCCESS - saved https://encrypted-tbn0.gstatic.com/images?q=tbn:ANd9GcQpgZcE43LmE5SkStAF1mst_Z7_VUFFDFziAg&usqp=CAU - as ./images\\tuna_tartare\\b9eb8dbbf9.jpg\n"
     ]
    },
    {
     "name": "stderr",
     "output_type": "stream",
     "text": [
      "C:\\Users\\mandeep.singh\\Anaconda3\\lib\\site-packages\\urllib3\\connectionpool.py:1013: InsecureRequestWarning: Unverified HTTPS request is being made to host 'media-cdn.tripadvisor.com'. Adding certificate verification is strongly advised. See: https://urllib3.readthedocs.io/en/latest/advanced-usage.html#ssl-warnings\n",
      "  warnings.warn(\n"
     ]
    },
    {
     "name": "stdout",
     "output_type": "stream",
     "text": [
      "SUCCESS - saved https://media-cdn.tripadvisor.com/media/photo-s/1b/62/f0/09/tuna-tartare-appetizer.jpg - as ./images\\tuna_tartare\\3c0a43eabb.jpg\n"
     ]
    },
    {
     "name": "stderr",
     "output_type": "stream",
     "text": [
      "C:\\Users\\mandeep.singh\\Anaconda3\\lib\\site-packages\\urllib3\\connectionpool.py:1013: InsecureRequestWarning: Unverified HTTPS request is being made to host 'encrypted-tbn0.gstatic.com'. Adding certificate verification is strongly advised. See: https://urllib3.readthedocs.io/en/latest/advanced-usage.html#ssl-warnings\n",
      "  warnings.warn(\n"
     ]
    },
    {
     "name": "stdout",
     "output_type": "stream",
     "text": [
      "SUCCESS - saved https://encrypted-tbn0.gstatic.com/images?q=tbn:ANd9GcSxJc-Ik_9kW9BCcMDKcIEE0Vn5ffZynjx6nA&usqp=CAU - as ./images\\tuna_tartare\\ffad864da5.jpg\n"
     ]
    },
    {
     "name": "stderr",
     "output_type": "stream",
     "text": [
      "C:\\Users\\mandeep.singh\\Anaconda3\\lib\\site-packages\\urllib3\\connectionpool.py:1013: InsecureRequestWarning: Unverified HTTPS request is being made to host 'encrypted-tbn0.gstatic.com'. Adding certificate verification is strongly advised. See: https://urllib3.readthedocs.io/en/latest/advanced-usage.html#ssl-warnings\n",
      "  warnings.warn(\n"
     ]
    },
    {
     "name": "stdout",
     "output_type": "stream",
     "text": [
      "SUCCESS - saved https://encrypted-tbn0.gstatic.com/images?q=tbn:ANd9GcSViHwg-3QEosBs5b55MD1RHaYv-RQVIxQdlw&usqp=CAU - as ./images\\tuna_tartare\\ef32a2007d.jpg\n"
     ]
    },
    {
     "name": "stderr",
     "output_type": "stream",
     "text": [
      "C:\\Users\\mandeep.singh\\Anaconda3\\lib\\site-packages\\urllib3\\connectionpool.py:1013: InsecureRequestWarning: Unverified HTTPS request is being made to host 'encrypted-tbn0.gstatic.com'. Adding certificate verification is strongly advised. See: https://urllib3.readthedocs.io/en/latest/advanced-usage.html#ssl-warnings\n",
      "  warnings.warn(\n"
     ]
    },
    {
     "name": "stdout",
     "output_type": "stream",
     "text": [
      "SUCCESS - saved https://encrypted-tbn0.gstatic.com/images?q=tbn:ANd9GcTwqLLlHf6RpvoJlPsJkfEfsV3fqaRE4a6jBA&usqp=CAU - as ./images\\tuna_tartare\\2401cf1205.jpg\n"
     ]
    },
    {
     "name": "stderr",
     "output_type": "stream",
     "text": [
      "C:\\Users\\mandeep.singh\\Anaconda3\\lib\\site-packages\\urllib3\\connectionpool.py:1013: InsecureRequestWarning: Unverified HTTPS request is being made to host 'encrypted-tbn0.gstatic.com'. Adding certificate verification is strongly advised. See: https://urllib3.readthedocs.io/en/latest/advanced-usage.html#ssl-warnings\n",
      "  warnings.warn(\n"
     ]
    },
    {
     "name": "stdout",
     "output_type": "stream",
     "text": [
      "SUCCESS - saved https://encrypted-tbn0.gstatic.com/images?q=tbn:ANd9GcQOd6xy0yAABW2_Iq1lfTK-uWHkBmwXCNAgHw&usqp=CAU - as ./images\\tuna_tartare\\54336ecc0b.jpg\n"
     ]
    },
    {
     "name": "stderr",
     "output_type": "stream",
     "text": [
      "C:\\Users\\mandeep.singh\\Anaconda3\\lib\\site-packages\\urllib3\\connectionpool.py:1013: InsecureRequestWarning: Unverified HTTPS request is being made to host 'ca-times.brightspotcdn.com'. Adding certificate verification is strongly advised. See: https://urllib3.readthedocs.io/en/latest/advanced-usage.html#ssl-warnings\n",
      "  warnings.warn(\n"
     ]
    },
    {
     "name": "stdout",
     "output_type": "stream",
     "text": [
      "SUCCESS - saved https://ca-times.brightspotcdn.com/dims4/default/470dc93/2147483647/strip/true/crop/1401x875+0+587/resize/1044x652!/quality/90/?url=https%3A%2F%2Fcalifornia-times-brightspot.s3.amazonaws.com%2Fda%2F51%2F58312ff4c1e83176310937942ec2%2Fbig-eye-tuna-tartare-recipe-db - as ./images\\tuna_tartare\\16bbda2de4.jpg\n"
     ]
    },
    {
     "name": "stderr",
     "output_type": "stream",
     "text": [
      "C:\\Users\\mandeep.singh\\Anaconda3\\lib\\site-packages\\urllib3\\connectionpool.py:1013: InsecureRequestWarning: Unverified HTTPS request is being made to host 'encrypted-tbn0.gstatic.com'. Adding certificate verification is strongly advised. See: https://urllib3.readthedocs.io/en/latest/advanced-usage.html#ssl-warnings\n",
      "  warnings.warn(\n"
     ]
    },
    {
     "name": "stdout",
     "output_type": "stream",
     "text": [
      "SUCCESS - saved https://encrypted-tbn0.gstatic.com/images?q=tbn:ANd9GcSi9_E8I2t-xWFHJAk3gbVep2b965udrlxNeA&usqp=CAU - as ./images\\tuna_tartare\\dbf5ac33b1.jpg\n"
     ]
    },
    {
     "name": "stderr",
     "output_type": "stream",
     "text": [
      "C:\\Users\\mandeep.singh\\Anaconda3\\lib\\site-packages\\urllib3\\connectionpool.py:1013: InsecureRequestWarning: Unverified HTTPS request is being made to host 'encrypted-tbn0.gstatic.com'. Adding certificate verification is strongly advised. See: https://urllib3.readthedocs.io/en/latest/advanced-usage.html#ssl-warnings\n",
      "  warnings.warn(\n"
     ]
    },
    {
     "name": "stdout",
     "output_type": "stream",
     "text": [
      "SUCCESS - saved https://encrypted-tbn0.gstatic.com/images?q=tbn:ANd9GcSnDs6GgDvoXLgc1-2OxITQpokrH2waOYHY3A&usqp=CAU - as ./images\\tuna_tartare\\31a1c80333.jpg\n"
     ]
    },
    {
     "name": "stderr",
     "output_type": "stream",
     "text": [
      "C:\\Users\\mandeep.singh\\Anaconda3\\lib\\site-packages\\urllib3\\connectionpool.py:1013: InsecureRequestWarning: Unverified HTTPS request is being made to host 'i.ytimg.com'. Adding certificate verification is strongly advised. See: https://urllib3.readthedocs.io/en/latest/advanced-usage.html#ssl-warnings\n",
      "  warnings.warn(\n"
     ]
    },
    {
     "name": "stdout",
     "output_type": "stream",
     "text": [
      "SUCCESS - saved https://i.ytimg.com/vi/5sJI6bwiX9A/maxresdefault.jpg - as ./images\\tuna_tartare\\947fc6fab6.jpg\n"
     ]
    },
    {
     "name": "stderr",
     "output_type": "stream",
     "text": [
      "C:\\Users\\mandeep.singh\\Anaconda3\\lib\\site-packages\\urllib3\\connectionpool.py:1013: InsecureRequestWarning: Unverified HTTPS request is being made to host 'encrypted-tbn0.gstatic.com'. Adding certificate verification is strongly advised. See: https://urllib3.readthedocs.io/en/latest/advanced-usage.html#ssl-warnings\n",
      "  warnings.warn(\n"
     ]
    },
    {
     "name": "stdout",
     "output_type": "stream",
     "text": [
      "SUCCESS - saved https://encrypted-tbn0.gstatic.com/images?q=tbn:ANd9GcQEeNoF1ibZiqC7lRkvx4xSanozcsXH-qBOkw&usqp=CAU - as ./images\\tuna_tartare\\73d27b1cb1.jpg\n"
     ]
    },
    {
     "name": "stderr",
     "output_type": "stream",
     "text": [
      "C:\\Users\\mandeep.singh\\Anaconda3\\lib\\site-packages\\urllib3\\connectionpool.py:1013: InsecureRequestWarning: Unverified HTTPS request is being made to host 'www.seriouseats.com'. Adding certificate verification is strongly advised. See: https://urllib3.readthedocs.io/en/latest/advanced-usage.html#ssl-warnings\n",
      "  warnings.warn(\n"
     ]
    },
    {
     "name": "stdout",
     "output_type": "stream",
     "text": [
      "SUCCESS - saved https://www.seriouseats.com/thmb/sDWR1YB2qdG6RmzLtHXbxvWzRIc=/610x458/filters:fill(auto,1)/__opt__aboutcom__coeus__resources__content_migration__serious_eats__seriouseats.com__recipes__images__2012__07__20120710-fiaf-tuna-tartare-primary-093042843a1b4a5da683b9a863266030.jpg - as ./images\\tuna_tartare\\b6b079b90b.jpg\n"
     ]
    },
    {
     "name": "stderr",
     "output_type": "stream",
     "text": [
      "C:\\Users\\mandeep.singh\\Anaconda3\\lib\\site-packages\\urllib3\\connectionpool.py:1013: InsecureRequestWarning: Unverified HTTPS request is being made to host 'choosingchia.com'. Adding certificate verification is strongly advised. See: https://urllib3.readthedocs.io/en/latest/advanced-usage.html#ssl-warnings\n",
      "  warnings.warn(\n"
     ]
    },
    {
     "name": "stdout",
     "output_type": "stream",
     "text": [
      "SUCCESS - saved https://choosingchia.com/jessh-jessh/uploads/2015/07/IMG_8564-1024x1024.jpg - as ./images\\tuna_tartare\\1331e5408d.jpg\n"
     ]
    },
    {
     "name": "stderr",
     "output_type": "stream",
     "text": [
      "C:\\Users\\mandeep.singh\\Anaconda3\\lib\\site-packages\\urllib3\\connectionpool.py:1013: InsecureRequestWarning: Unverified HTTPS request is being made to host 'encrypted-tbn0.gstatic.com'. Adding certificate verification is strongly advised. See: https://urllib3.readthedocs.io/en/latest/advanced-usage.html#ssl-warnings\n",
      "  warnings.warn(\n"
     ]
    },
    {
     "name": "stdout",
     "output_type": "stream",
     "text": [
      "SUCCESS - saved https://encrypted-tbn0.gstatic.com/images?q=tbn:ANd9GcRbty97YjilK0WVUym_Izyx9HpkAwqhUCBBqQ&usqp=CAU - as ./images\\tuna_tartare\\e9bf86c7e4.jpg\n"
     ]
    },
    {
     "name": "stderr",
     "output_type": "stream",
     "text": [
      "C:\\Users\\mandeep.singh\\Anaconda3\\lib\\site-packages\\urllib3\\connectionpool.py:1013: InsecureRequestWarning: Unverified HTTPS request is being made to host 'encrypted-tbn0.gstatic.com'. Adding certificate verification is strongly advised. See: https://urllib3.readthedocs.io/en/latest/advanced-usage.html#ssl-warnings\n",
      "  warnings.warn(\n"
     ]
    },
    {
     "name": "stdout",
     "output_type": "stream",
     "text": [
      "SUCCESS - saved https://encrypted-tbn0.gstatic.com/images?q=tbn:ANd9GcRxec8ORMHDpR3Xz1RMZnwg1RP12qsT0afLxA&usqp=CAU - as ./images\\tuna_tartare\\1496bfca04.jpg\n"
     ]
    },
    {
     "name": "stderr",
     "output_type": "stream",
     "text": [
      "C:\\Users\\mandeep.singh\\Anaconda3\\lib\\site-packages\\urllib3\\connectionpool.py:1013: InsecureRequestWarning: Unverified HTTPS request is being made to host 'encrypted-tbn0.gstatic.com'. Adding certificate verification is strongly advised. See: https://urllib3.readthedocs.io/en/latest/advanced-usage.html#ssl-warnings\n",
      "  warnings.warn(\n"
     ]
    },
    {
     "name": "stdout",
     "output_type": "stream",
     "text": [
      "SUCCESS - saved https://encrypted-tbn0.gstatic.com/images?q=tbn:ANd9GcTje7DLaMpHSOs9qQPt9N3HuNXP6HDJN1Ta4Q&usqp=CAU - as ./images\\tuna_tartare\\b21eb8e72d.jpg\n"
     ]
    },
    {
     "name": "stderr",
     "output_type": "stream",
     "text": [
      "C:\\Users\\mandeep.singh\\Anaconda3\\lib\\site-packages\\urllib3\\connectionpool.py:1013: InsecureRequestWarning: Unverified HTTPS request is being made to host 'encrypted-tbn0.gstatic.com'. Adding certificate verification is strongly advised. See: https://urllib3.readthedocs.io/en/latest/advanced-usage.html#ssl-warnings\n",
      "  warnings.warn(\n"
     ]
    },
    {
     "name": "stdout",
     "output_type": "stream",
     "text": [
      "SUCCESS - saved https://encrypted-tbn0.gstatic.com/images?q=tbn:ANd9GcSfTaACkM9g9vwc8BAc4sddcdAtH9CCZ-fi8g&usqp=CAU - as ./images\\tuna_tartare\\6b97155ad9.jpg\n"
     ]
    },
    {
     "name": "stderr",
     "output_type": "stream",
     "text": [
      "C:\\Users\\mandeep.singh\\Anaconda3\\lib\\site-packages\\urllib3\\connectionpool.py:1013: InsecureRequestWarning: Unverified HTTPS request is being made to host 'media-cdn.tripadvisor.com'. Adding certificate verification is strongly advised. See: https://urllib3.readthedocs.io/en/latest/advanced-usage.html#ssl-warnings\n",
      "  warnings.warn(\n"
     ]
    },
    {
     "name": "stdout",
     "output_type": "stream",
     "text": [
      "SUCCESS - saved https://media-cdn.tripadvisor.com/media/photo-s/14/39/3f/0e/tuna-tartare.jpg - as ./images\\tuna_tartare\\2b6c79ca4f.jpg\n"
     ]
    },
    {
     "name": "stderr",
     "output_type": "stream",
     "text": [
      "C:\\Users\\mandeep.singh\\Anaconda3\\lib\\site-packages\\urllib3\\connectionpool.py:1013: InsecureRequestWarning: Unverified HTTPS request is being made to host 'encrypted-tbn0.gstatic.com'. Adding certificate verification is strongly advised. See: https://urllib3.readthedocs.io/en/latest/advanced-usage.html#ssl-warnings\n",
      "  warnings.warn(\n"
     ]
    },
    {
     "name": "stdout",
     "output_type": "stream",
     "text": [
      "SUCCESS - saved https://encrypted-tbn0.gstatic.com/images?q=tbn:ANd9GcSpqjKVivQWen15nOL8fs7ln0QYyB_PDedZcQ&usqp=CAU - as ./images\\tuna_tartare\\1389344474.jpg\n"
     ]
    },
    {
     "name": "stderr",
     "output_type": "stream",
     "text": [
      "C:\\Users\\mandeep.singh\\Anaconda3\\lib\\site-packages\\urllib3\\connectionpool.py:1013: InsecureRequestWarning: Unverified HTTPS request is being made to host 'encrypted-tbn0.gstatic.com'. Adding certificate verification is strongly advised. See: https://urllib3.readthedocs.io/en/latest/advanced-usage.html#ssl-warnings\n",
      "  warnings.warn(\n"
     ]
    },
    {
     "name": "stdout",
     "output_type": "stream",
     "text": [
      "SUCCESS - saved https://encrypted-tbn0.gstatic.com/images?q=tbn:ANd9GcQEFLE7UQ4kuFwY5OAmqdFyvCY5ZZ1HAmmVFA&usqp=CAU - as ./images\\tuna_tartare\\9f2e9d3913.jpg\n"
     ]
    },
    {
     "name": "stderr",
     "output_type": "stream",
     "text": [
      "C:\\Users\\mandeep.singh\\Anaconda3\\lib\\site-packages\\urllib3\\connectionpool.py:1013: InsecureRequestWarning: Unverified HTTPS request is being made to host 'encrypted-tbn0.gstatic.com'. Adding certificate verification is strongly advised. See: https://urllib3.readthedocs.io/en/latest/advanced-usage.html#ssl-warnings\n",
      "  warnings.warn(\n"
     ]
    },
    {
     "name": "stdout",
     "output_type": "stream",
     "text": [
      "SUCCESS - saved https://encrypted-tbn0.gstatic.com/images?q=tbn:ANd9GcQu1_sE8OZMl9WxzAc-Dmy5L7m3m5x3E9WQgA&usqp=CAU - as ./images\\tuna_tartare\\b922585071.jpg\n"
     ]
    },
    {
     "name": "stderr",
     "output_type": "stream",
     "text": [
      "C:\\Users\\mandeep.singh\\Anaconda3\\lib\\site-packages\\urllib3\\connectionpool.py:1013: InsecureRequestWarning: Unverified HTTPS request is being made to host 'encrypted-tbn0.gstatic.com'. Adding certificate verification is strongly advised. See: https://urllib3.readthedocs.io/en/latest/advanced-usage.html#ssl-warnings\n",
      "  warnings.warn(\n"
     ]
    },
    {
     "name": "stdout",
     "output_type": "stream",
     "text": [
      "SUCCESS - saved https://encrypted-tbn0.gstatic.com/images?q=tbn:ANd9GcQU9jlGodvG9aH1ipWuYzIkzK_-NhsND1bQjg&usqp=CAU - as ./images\\tuna_tartare\\9be673ed59.jpg\n"
     ]
    },
    {
     "name": "stderr",
     "output_type": "stream",
     "text": [
      "C:\\Users\\mandeep.singh\\Anaconda3\\lib\\site-packages\\urllib3\\connectionpool.py:1013: InsecureRequestWarning: Unverified HTTPS request is being made to host 'encrypted-tbn0.gstatic.com'. Adding certificate verification is strongly advised. See: https://urllib3.readthedocs.io/en/latest/advanced-usage.html#ssl-warnings\n",
      "  warnings.warn(\n"
     ]
    },
    {
     "name": "stdout",
     "output_type": "stream",
     "text": [
      "SUCCESS - saved https://encrypted-tbn0.gstatic.com/images?q=tbn:ANd9GcTbHWZ6PTXtrQCyx2RjfQhqmD4XijQ1x8tNEQ&usqp=CAU - as ./images\\tuna_tartare\\e856d5457c.jpg\n"
     ]
    },
    {
     "name": "stderr",
     "output_type": "stream",
     "text": [
      "C:\\Users\\mandeep.singh\\Anaconda3\\lib\\site-packages\\urllib3\\connectionpool.py:1013: InsecureRequestWarning: Unverified HTTPS request is being made to host 'encrypted-tbn0.gstatic.com'. Adding certificate verification is strongly advised. See: https://urllib3.readthedocs.io/en/latest/advanced-usage.html#ssl-warnings\n",
      "  warnings.warn(\n"
     ]
    },
    {
     "name": "stdout",
     "output_type": "stream",
     "text": [
      "SUCCESS - saved https://encrypted-tbn0.gstatic.com/images?q=tbn:ANd9GcQ_WDIoMe8k-M7BLgUE945pHm_m_mnoW-BdBQ&usqp=CAU - as ./images\\tuna_tartare\\ca0b0679e6.jpg\n"
     ]
    },
    {
     "name": "stderr",
     "output_type": "stream",
     "text": [
      "C:\\Users\\mandeep.singh\\Anaconda3\\lib\\site-packages\\urllib3\\connectionpool.py:1013: InsecureRequestWarning: Unverified HTTPS request is being made to host 'cook.fnr.sndimg.com'. Adding certificate verification is strongly advised. See: https://urllib3.readthedocs.io/en/latest/advanced-usage.html#ssl-warnings\n",
      "  warnings.warn(\n"
     ]
    },
    {
     "name": "stdout",
     "output_type": "stream",
     "text": [
      "SUCCESS - saved https://cook.fnr.sndimg.com/content/dam/images/cook/fullset/2016/3/17/0/CCKOR209_spiced-tuna-tartare_s4x3.jpg.rend.hgtvcom.616.462.suffix/1458248857666.jpeg - as ./images\\tuna_tartare\\b4d1af0f87.jpg\n"
     ]
    },
    {
     "name": "stderr",
     "output_type": "stream",
     "text": [
      "C:\\Users\\mandeep.singh\\Anaconda3\\lib\\site-packages\\urllib3\\connectionpool.py:1013: InsecureRequestWarning: Unverified HTTPS request is being made to host 'encrypted-tbn0.gstatic.com'. Adding certificate verification is strongly advised. See: https://urllib3.readthedocs.io/en/latest/advanced-usage.html#ssl-warnings\n",
      "  warnings.warn(\n"
     ]
    },
    {
     "name": "stdout",
     "output_type": "stream",
     "text": [
      "SUCCESS - saved https://encrypted-tbn0.gstatic.com/images?q=tbn:ANd9GcTXGpFwacZgyTvEasneBHlSI-trrsUeX17heQ&usqp=CAU - as ./images\\tuna_tartare\\280e13b80b.jpg\n"
     ]
    },
    {
     "name": "stderr",
     "output_type": "stream",
     "text": [
      "C:\\Users\\mandeep.singh\\Anaconda3\\lib\\site-packages\\urllib3\\connectionpool.py:1013: InsecureRequestWarning: Unverified HTTPS request is being made to host 'pyxis.nymag.com'. Adding certificate verification is strongly advised. See: https://urllib3.readthedocs.io/en/latest/advanced-usage.html#ssl-warnings\n",
      "  warnings.warn(\n"
     ]
    },
    {
     "name": "stdout",
     "output_type": "stream",
     "text": [
      "SUCCESS - saved https://pyxis.nymag.com/v1/imgs/fbf/7c2/a0c4507ae0626e578783361a7fd89f0684-tuna-tartare-flora-bar-2.2x.rsocial.w600.jpg - as ./images\\tuna_tartare\\d39b675f35.jpg\n"
     ]
    },
    {
     "name": "stderr",
     "output_type": "stream",
     "text": [
      "C:\\Users\\mandeep.singh\\Anaconda3\\lib\\site-packages\\urllib3\\connectionpool.py:1013: InsecureRequestWarning: Unverified HTTPS request is being made to host 'encrypted-tbn0.gstatic.com'. Adding certificate verification is strongly advised. See: https://urllib3.readthedocs.io/en/latest/advanced-usage.html#ssl-warnings\n",
      "  warnings.warn(\n"
     ]
    },
    {
     "name": "stdout",
     "output_type": "stream",
     "text": [
      "SUCCESS - saved https://encrypted-tbn0.gstatic.com/images?q=tbn:ANd9GcS7UFTp6yXooIk9S2tNCVpXt3zcRVrWsctNZQ&usqp=CAU - as ./images\\tuna_tartare\\8c40efc03d.jpg\n"
     ]
    },
    {
     "name": "stderr",
     "output_type": "stream",
     "text": [
      "C:\\Users\\mandeep.singh\\Anaconda3\\lib\\site-packages\\urllib3\\connectionpool.py:1013: InsecureRequestWarning: Unverified HTTPS request is being made to host 'encrypted-tbn0.gstatic.com'. Adding certificate verification is strongly advised. See: https://urllib3.readthedocs.io/en/latest/advanced-usage.html#ssl-warnings\n",
      "  warnings.warn(\n"
     ]
    },
    {
     "name": "stdout",
     "output_type": "stream",
     "text": [
      "SUCCESS - saved https://encrypted-tbn0.gstatic.com/images?q=tbn:ANd9GcTB74ddtfsHPTtZE3LZ5QKF6VApnPXP75-rRA&usqp=CAU - as ./images\\tuna_tartare\\078b4829bc.jpg\n"
     ]
    },
    {
     "name": "stderr",
     "output_type": "stream",
     "text": [
      "C:\\Users\\mandeep.singh\\Anaconda3\\lib\\site-packages\\urllib3\\connectionpool.py:1013: InsecureRequestWarning: Unverified HTTPS request is being made to host 'encrypted-tbn0.gstatic.com'. Adding certificate verification is strongly advised. See: https://urllib3.readthedocs.io/en/latest/advanced-usage.html#ssl-warnings\n",
      "  warnings.warn(\n"
     ]
    },
    {
     "name": "stdout",
     "output_type": "stream",
     "text": [
      "SUCCESS - saved https://encrypted-tbn0.gstatic.com/images?q=tbn:ANd9GcS4laSOItuEwEZg63SBiMq8l-ZNVFyeiZ49uA&usqp=CAU - as ./images\\tuna_tartare\\dfecc97c29.jpg\n"
     ]
    },
    {
     "name": "stderr",
     "output_type": "stream",
     "text": [
      "C:\\Users\\mandeep.singh\\Anaconda3\\lib\\site-packages\\urllib3\\connectionpool.py:1013: InsecureRequestWarning: Unverified HTTPS request is being made to host 'www.washingtonpost.com'. Adding certificate verification is strongly advised. See: https://urllib3.readthedocs.io/en/latest/advanced-usage.html#ssl-warnings\n",
      "  warnings.warn(\n"
     ]
    },
    {
     "name": "stdout",
     "output_type": "stream",
     "text": [
      "ERROR - Could not save https://www.washingtonpost.com/rf/image_1484w/2010-2019/WashingtonPost/2014/02/20/Food/Images/SuperFoodsChefsMar5B1392864911.jpg?t=20170517 - cannot identify image file <_io.BytesIO object at 0x0000024D6D3F6590>\n",
      "SUCCESS - saved https://encrypted-tbn0.gstatic.com/images?q=tbn:ANd9GcR2-9M4ykCap1Si_RZVDoEtgDX3YvVIjWLqyQ&usqp=CAU - as ./images\\tuna_tartare\\9e32f453ec.jpg\n"
     ]
    },
    {
     "name": "stderr",
     "output_type": "stream",
     "text": [
      "C:\\Users\\mandeep.singh\\Anaconda3\\lib\\site-packages\\urllib3\\connectionpool.py:1013: InsecureRequestWarning: Unverified HTTPS request is being made to host 'encrypted-tbn0.gstatic.com'. Adding certificate verification is strongly advised. See: https://urllib3.readthedocs.io/en/latest/advanced-usage.html#ssl-warnings\n",
      "  warnings.warn(\n",
      "C:\\Users\\mandeep.singh\\Anaconda3\\lib\\site-packages\\urllib3\\connectionpool.py:1013: InsecureRequestWarning: Unverified HTTPS request is being made to host 'encrypted-tbn0.gstatic.com'. Adding certificate verification is strongly advised. See: https://urllib3.readthedocs.io/en/latest/advanced-usage.html#ssl-warnings\n",
      "  warnings.warn(\n"
     ]
    },
    {
     "name": "stdout",
     "output_type": "stream",
     "text": [
      "SUCCESS - saved https://encrypted-tbn0.gstatic.com/images?q=tbn:ANd9GcSBnH1DCPM-0HEU1etpTUGYv3lEurAAQCWbCg&usqp=CAU - as ./images\\tuna_tartare\\268955e3fa.jpg\n"
     ]
    },
    {
     "name": "stderr",
     "output_type": "stream",
     "text": [
      "C:\\Users\\mandeep.singh\\Anaconda3\\lib\\site-packages\\urllib3\\connectionpool.py:1013: InsecureRequestWarning: Unverified HTTPS request is being made to host 'encrypted-tbn0.gstatic.com'. Adding certificate verification is strongly advised. See: https://urllib3.readthedocs.io/en/latest/advanced-usage.html#ssl-warnings\n",
      "  warnings.warn(\n",
      "C:\\Users\\mandeep.singh\\Anaconda3\\lib\\site-packages\\urllib3\\connectionpool.py:1013: InsecureRequestWarning: Unverified HTTPS request is being made to host 'encrypted-tbn0.gstatic.com'. Adding certificate verification is strongly advised. See: https://urllib3.readthedocs.io/en/latest/advanced-usage.html#ssl-warnings\n",
      "  warnings.warn(\n"
     ]
    },
    {
     "name": "stdout",
     "output_type": "stream",
     "text": [
      "SUCCESS - saved https://encrypted-tbn0.gstatic.com/images?q=tbn:ANd9GcQc8fwg4jwv-QzEtv4NAlEhH_VnMqfbfLXzqw&usqp=CAU - as ./images\\tuna_tartare\\a312ab4aa1.jpg\n",
      "SUCCESS - saved https://encrypted-tbn0.gstatic.com/images?q=tbn:ANd9GcTYuVlBZSD-ayIFtQivLMwHZzqaSlhCskPY2Q&usqp=CAU - as ./images\\tuna_tartare\\bd786a5472.jpg\n"
     ]
    },
    {
     "name": "stderr",
     "output_type": "stream",
     "text": [
      "C:\\Users\\mandeep.singh\\Anaconda3\\lib\\site-packages\\urllib3\\connectionpool.py:1013: InsecureRequestWarning: Unverified HTTPS request is being made to host 'media.istockphoto.com'. Adding certificate verification is strongly advised. See: https://urllib3.readthedocs.io/en/latest/advanced-usage.html#ssl-warnings\n",
      "  warnings.warn(\n"
     ]
    },
    {
     "name": "stdout",
     "output_type": "stream",
     "text": [
      "SUCCESS - saved https://media.istockphoto.com/photos/tuna-tartare-picture-id1312182919?k=20&m=1312182919&s=612x612&w=0&h=_EwhsTx4y5wLQUvKW7sI23DaNR8W1T51dao5E95WDKQ= - as ./images\\tuna_tartare\\93f6cc5765.jpg\n"
     ]
    },
    {
     "name": "stderr",
     "output_type": "stream",
     "text": [
      "C:\\Users\\mandeep.singh\\Anaconda3\\lib\\site-packages\\urllib3\\connectionpool.py:1013: InsecureRequestWarning: Unverified HTTPS request is being made to host 'encrypted-tbn0.gstatic.com'. Adding certificate verification is strongly advised. See: https://urllib3.readthedocs.io/en/latest/advanced-usage.html#ssl-warnings\n",
      "  warnings.warn(\n"
     ]
    },
    {
     "name": "stdout",
     "output_type": "stream",
     "text": [
      "SUCCESS - saved https://encrypted-tbn0.gstatic.com/images?q=tbn:ANd9GcTfWXAJOOqGTvekzrMpYBe8vB6Q1p4nSKeTEw&usqp=CAU - as ./images\\tuna_tartare\\8aa6400be8.jpg\n"
     ]
    },
    {
     "name": "stderr",
     "output_type": "stream",
     "text": [
      "C:\\Users\\mandeep.singh\\Anaconda3\\lib\\site-packages\\urllib3\\connectionpool.py:1013: InsecureRequestWarning: Unverified HTTPS request is being made to host 'encrypted-tbn0.gstatic.com'. Adding certificate verification is strongly advised. See: https://urllib3.readthedocs.io/en/latest/advanced-usage.html#ssl-warnings\n",
      "  warnings.warn(\n"
     ]
    },
    {
     "name": "stdout",
     "output_type": "stream",
     "text": [
      "SUCCESS - saved https://encrypted-tbn0.gstatic.com/images?q=tbn:ANd9GcT0ujXAuJ9jxmqeLj8MsrYKuRv80dmCXmtI4A&usqp=CAU - as ./images\\tuna_tartare\\40a3998ad9.jpg\n",
      "SUCCESS - saved https://cook.fnr.sndimg.com/content/dam/images/cook/fullset/2010/7/13/2/ry0211_tuna.jpg.rend.hgtvcom.616.411.suffix/1377149913582.jpeg - as ./images\\tuna_tartare\\c7b2995c9e.jpg\n"
     ]
    },
    {
     "name": "stderr",
     "output_type": "stream",
     "text": [
      "C:\\Users\\mandeep.singh\\Anaconda3\\lib\\site-packages\\urllib3\\connectionpool.py:1013: InsecureRequestWarning: Unverified HTTPS request is being made to host 'cook.fnr.sndimg.com'. Adding certificate verification is strongly advised. See: https://urllib3.readthedocs.io/en/latest/advanced-usage.html#ssl-warnings\n",
      "  warnings.warn(\n",
      "C:\\Users\\mandeep.singh\\Anaconda3\\lib\\site-packages\\urllib3\\connectionpool.py:1013: InsecureRequestWarning: Unverified HTTPS request is being made to host 'i.pinimg.com'. Adding certificate verification is strongly advised. See: https://urllib3.readthedocs.io/en/latest/advanced-usage.html#ssl-warnings\n",
      "  warnings.warn(\n"
     ]
    },
    {
     "name": "stdout",
     "output_type": "stream",
     "text": [
      "SUCCESS - saved https://i.pinimg.com/originals/d8/72/f3/d872f3e27c3a4150fb139167795662ae.jpg - as ./images\\tuna_tartare\\a1836f3705.jpg\n",
      "SUCCESS - saved https://encrypted-tbn0.gstatic.com/images?q=tbn:ANd9GcSiSt2zkQ2Qoi5vnyR8YhG229wJ2SHjH-bKRg&usqp=CAU - as ./images\\tuna_tartare\\dc9175d9cf.jpg\n"
     ]
    },
    {
     "name": "stderr",
     "output_type": "stream",
     "text": [
      "C:\\Users\\mandeep.singh\\Anaconda3\\lib\\site-packages\\urllib3\\connectionpool.py:1013: InsecureRequestWarning: Unverified HTTPS request is being made to host 'encrypted-tbn0.gstatic.com'. Adding certificate verification is strongly advised. See: https://urllib3.readthedocs.io/en/latest/advanced-usage.html#ssl-warnings\n",
      "  warnings.warn(\n",
      "C:\\Users\\mandeep.singh\\Anaconda3\\lib\\site-packages\\urllib3\\connectionpool.py:1013: InsecureRequestWarning: Unverified HTTPS request is being made to host 'encrypted-tbn0.gstatic.com'. Adding certificate verification is strongly advised. See: https://urllib3.readthedocs.io/en/latest/advanced-usage.html#ssl-warnings\n",
      "  warnings.warn(\n"
     ]
    },
    {
     "name": "stdout",
     "output_type": "stream",
     "text": [
      "SUCCESS - saved https://encrypted-tbn0.gstatic.com/images?q=tbn:ANd9GcStoT0frSg4juAKRvCtrjsP6AYDu_h_5vw6tQ&usqp=CAU - as ./images\\tuna_tartare\\784935a5f5.jpg\n",
      "SUCCESS - saved https://encrypted-tbn0.gstatic.com/images?q=tbn:ANd9GcQQasYpnQx21pv4PqslpNDuAC9zkyiVJ8hJAA&usqp=CAU - as ./images\\tuna_tartare\\7aa0ac3042.jpg\n"
     ]
    },
    {
     "name": "stderr",
     "output_type": "stream",
     "text": [
      "C:\\Users\\mandeep.singh\\Anaconda3\\lib\\site-packages\\urllib3\\connectionpool.py:1013: InsecureRequestWarning: Unverified HTTPS request is being made to host 'encrypted-tbn0.gstatic.com'. Adding certificate verification is strongly advised. See: https://urllib3.readthedocs.io/en/latest/advanced-usage.html#ssl-warnings\n",
      "  warnings.warn(\n",
      "C:\\Users\\mandeep.singh\\Anaconda3\\lib\\site-packages\\urllib3\\connectionpool.py:1013: InsecureRequestWarning: Unverified HTTPS request is being made to host 'encrypted-tbn0.gstatic.com'. Adding certificate verification is strongly advised. See: https://urllib3.readthedocs.io/en/latest/advanced-usage.html#ssl-warnings\n",
      "  warnings.warn(\n"
     ]
    },
    {
     "name": "stdout",
     "output_type": "stream",
     "text": [
      "SUCCESS - saved https://encrypted-tbn0.gstatic.com/images?q=tbn:ANd9GcTRRutmeC50e7xIyfu0-KPDRPa8_cCtjksdRw&usqp=CAU - as ./images\\tuna_tartare\\25ffc6ca25.jpg\n"
     ]
    },
    {
     "name": "stderr",
     "output_type": "stream",
     "text": [
      "C:\\Users\\mandeep.singh\\Anaconda3\\lib\\site-packages\\urllib3\\connectionpool.py:1013: InsecureRequestWarning: Unverified HTTPS request is being made to host 'i.pinimg.com'. Adding certificate verification is strongly advised. See: https://urllib3.readthedocs.io/en/latest/advanced-usage.html#ssl-warnings\n",
      "  warnings.warn(\n"
     ]
    },
    {
     "name": "stdout",
     "output_type": "stream",
     "text": [
      "SUCCESS - saved https://i.pinimg.com/originals/49/b8/1e/49b81e6048a321a365ac729edc3af3e3.png - as ./images\\tuna_tartare\\de4fd5f2de.jpg\n",
      "SUCCESS - saved https://encrypted-tbn0.gstatic.com/images?q=tbn:ANd9GcSg8gNR3LVWa7x9KaaKEsqMGd2zVUz9zk9dMw&usqp=CAU - as ./images\\tuna_tartare\\ec97814f69.jpg\n"
     ]
    },
    {
     "name": "stderr",
     "output_type": "stream",
     "text": [
      "C:\\Users\\mandeep.singh\\Anaconda3\\lib\\site-packages\\urllib3\\connectionpool.py:1013: InsecureRequestWarning: Unverified HTTPS request is being made to host 'encrypted-tbn0.gstatic.com'. Adding certificate verification is strongly advised. See: https://urllib3.readthedocs.io/en/latest/advanced-usage.html#ssl-warnings\n",
      "  warnings.warn(\n",
      "C:\\Users\\mandeep.singh\\Anaconda3\\lib\\site-packages\\urllib3\\connectionpool.py:1013: InsecureRequestWarning: Unverified HTTPS request is being made to host 'food.fnr.sndimg.com'. Adding certificate verification is strongly advised. See: https://urllib3.readthedocs.io/en/latest/advanced-usage.html#ssl-warnings\n",
      "  warnings.warn(\n",
      "C:\\Users\\mandeep.singh\\Anaconda3\\lib\\site-packages\\urllib3\\connectionpool.py:1013: InsecureRequestWarning: Unverified HTTPS request is being made to host 'ca-times.brightspotcdn.com'. Adding certificate verification is strongly advised. See: https://urllib3.readthedocs.io/en/latest/advanced-usage.html#ssl-warnings\n",
      "  warnings.warn(\n"
     ]
    },
    {
     "name": "stdout",
     "output_type": "stream",
     "text": [
      "SUCCESS - saved https://food.fnr.sndimg.com/content/dam/images/food/fullset/2009/8/28/0/037121F4_Tuna-Tartare_s4x3.jpg.rend.hgtvcom.616.462.suffix/1371590951933.jpeg - as ./images\\tuna_tartare\\d652c67380.jpg\n",
      "SUCCESS - saved https://ca-times.brightspotcdn.com/dims4/default/4e11fa2/2147483647/strip/true/crop/2048x1279+0+43/resize/1044x652!/quality/90/?url=https%3A%2F%2Fcalifornia-times-brightspot.s3.amazonaws.com%2Fbb%2F7c%2F7897f553b4d374d5bfcca09b9b52%2Fm1zu29pd-recipe-db - as ./images\\tuna_tartare\\c6e1609f3a.jpg\n"
     ]
    },
    {
     "name": "stderr",
     "output_type": "stream",
     "text": [
      "C:\\Users\\mandeep.singh\\Anaconda3\\lib\\site-packages\\urllib3\\connectionpool.py:1013: InsecureRequestWarning: Unverified HTTPS request is being made to host 'encrypted-tbn0.gstatic.com'. Adding certificate verification is strongly advised. See: https://urllib3.readthedocs.io/en/latest/advanced-usage.html#ssl-warnings\n",
      "  warnings.warn(\n"
     ]
    },
    {
     "name": "stdout",
     "output_type": "stream",
     "text": [
      "SUCCESS - saved https://encrypted-tbn0.gstatic.com/images?q=tbn:ANd9GcT18aveHozN2Wlg7ntOufkrCYuGkKlvTfWaJg&usqp=CAU - as ./images\\tuna_tartare\\4c6a083250.jpg\n"
     ]
    },
    {
     "name": "stderr",
     "output_type": "stream",
     "text": [
      "C:\\Users\\mandeep.singh\\Anaconda3\\lib\\site-packages\\urllib3\\connectionpool.py:1013: InsecureRequestWarning: Unverified HTTPS request is being made to host 'assets.wsimgs.com'. Adding certificate verification is strongly advised. See: https://urllib3.readthedocs.io/en/latest/advanced-usage.html#ssl-warnings\n",
      "  warnings.warn(\n",
      "C:\\Users\\mandeep.singh\\Anaconda3\\lib\\site-packages\\urllib3\\connectionpool.py:1013: InsecureRequestWarning: Unverified HTTPS request is being made to host 'i1.wp.com'. Adding certificate verification is strongly advised. See: https://urllib3.readthedocs.io/en/latest/advanced-usage.html#ssl-warnings\n",
      "  warnings.warn(\n"
     ]
    },
    {
     "name": "stdout",
     "output_type": "stream",
     "text": [
      "SUCCESS - saved https://assets.wsimgs.com/wsimgs/ab/images/dp/recipe/202118/0049/img12l.jpg - as ./images\\tuna_tartare\\501fd7cbd7.jpg\n",
      "SUCCESS - saved https://i1.wp.com/www.discoverycooking.com/wp-content/uploads/2015/11/tuna-tartare-2.jpg?fit=2663%2C2668 - as ./images\\tuna_tartare\\a2cef5b4d4.jpg\n",
      "SUCCESS - saved https://encrypted-tbn0.gstatic.com/images?q=tbn:ANd9GcTzYtnqoFtJ_3T10G1eSHAIpUe1QRLZzzvBCg&usqp=CAU - as ./images\\tuna_tartare\\39e3a6d87d.jpg\n"
     ]
    },
    {
     "name": "stderr",
     "output_type": "stream",
     "text": [
      "C:\\Users\\mandeep.singh\\Anaconda3\\lib\\site-packages\\urllib3\\connectionpool.py:1013: InsecureRequestWarning: Unverified HTTPS request is being made to host 'encrypted-tbn0.gstatic.com'. Adding certificate verification is strongly advised. See: https://urllib3.readthedocs.io/en/latest/advanced-usage.html#ssl-warnings\n",
      "  warnings.warn(\n",
      "C:\\Users\\mandeep.singh\\Anaconda3\\lib\\site-packages\\urllib3\\connectionpool.py:1013: InsecureRequestWarning: Unverified HTTPS request is being made to host 'encrypted-tbn0.gstatic.com'. Adding certificate verification is strongly advised. See: https://urllib3.readthedocs.io/en/latest/advanced-usage.html#ssl-warnings\n",
      "  warnings.warn(\n"
     ]
    },
    {
     "name": "stdout",
     "output_type": "stream",
     "text": [
      "SUCCESS - saved https://encrypted-tbn0.gstatic.com/images?q=tbn:ANd9GcSSoc46bHOEL_AK4UQl8znPSWD6ykRaNToXQA&usqp=CAU - as ./images\\tuna_tartare\\9cc414c4b4.jpg\n"
     ]
    },
    {
     "name": "stderr",
     "output_type": "stream",
     "text": [
      "C:\\Users\\mandeep.singh\\Anaconda3\\lib\\site-packages\\urllib3\\connectionpool.py:1013: InsecureRequestWarning: Unverified HTTPS request is being made to host 'i.ytimg.com'. Adding certificate verification is strongly advised. See: https://urllib3.readthedocs.io/en/latest/advanced-usage.html#ssl-warnings\n",
      "  warnings.warn(\n"
     ]
    },
    {
     "name": "stdout",
     "output_type": "stream",
     "text": [
      "SUCCESS - saved https://i.ytimg.com/vi/Mt9t8OXZ8F4/maxresdefault.jpg - as ./images\\tuna_tartare\\63e2b4e129.jpg\n"
     ]
    },
    {
     "name": "stderr",
     "output_type": "stream",
     "text": [
      "C:\\Users\\mandeep.singh\\Anaconda3\\lib\\site-packages\\urllib3\\connectionpool.py:1013: InsecureRequestWarning: Unverified HTTPS request is being made to host 'static.onecms.io'. Adding certificate verification is strongly advised. See: https://urllib3.readthedocs.io/en/latest/advanced-usage.html#ssl-warnings\n",
      "  warnings.warn(\n"
     ]
    },
    {
     "name": "stdout",
     "output_type": "stream",
     "text": [
      "SUCCESS - saved https://static.onecms.io/wp-content/uploads/sites/9/2013/12/06/asian-tuna-tartare-xl-r-201307.jpg - as ./images\\tuna_tartare\\96dc07178b.jpg\n"
     ]
    },
    {
     "name": "stderr",
     "output_type": "stream",
     "text": [
      "C:\\Users\\mandeep.singh\\Anaconda3\\lib\\site-packages\\urllib3\\connectionpool.py:1013: InsecureRequestWarning: Unverified HTTPS request is being made to host 'encrypted-tbn0.gstatic.com'. Adding certificate verification is strongly advised. See: https://urllib3.readthedocs.io/en/latest/advanced-usage.html#ssl-warnings\n",
      "  warnings.warn(\n"
     ]
    },
    {
     "name": "stdout",
     "output_type": "stream",
     "text": [
      "SUCCESS - saved https://encrypted-tbn0.gstatic.com/images?q=tbn:ANd9GcRmDDO1H39ZLWVE6t-aEMHqDN_1z0eh0LlC-Q&usqp=CAU - as ./images\\tuna_tartare\\23c794fcda.jpg\n",
      "SUCCESS - saved https://encrypted-tbn0.gstatic.com/images?q=tbn:ANd9GcTpyHvTi0kC7rK5tzUR_xTHWXVsIGpcM75Vlw&usqp=CAU - as ./images\\tuna_tartare\\7d0db14d38.jpg\n"
     ]
    },
    {
     "name": "stderr",
     "output_type": "stream",
     "text": [
      "C:\\Users\\mandeep.singh\\Anaconda3\\lib\\site-packages\\urllib3\\connectionpool.py:1013: InsecureRequestWarning: Unverified HTTPS request is being made to host 'encrypted-tbn0.gstatic.com'. Adding certificate verification is strongly advised. See: https://urllib3.readthedocs.io/en/latest/advanced-usage.html#ssl-warnings\n",
      "  warnings.warn(\n",
      "C:\\Users\\mandeep.singh\\Anaconda3\\lib\\site-packages\\urllib3\\connectionpool.py:1013: InsecureRequestWarning: Unverified HTTPS request is being made to host 'encrypted-tbn0.gstatic.com'. Adding certificate verification is strongly advised. See: https://urllib3.readthedocs.io/en/latest/advanced-usage.html#ssl-warnings\n",
      "  warnings.warn(\n"
     ]
    },
    {
     "name": "stdout",
     "output_type": "stream",
     "text": [
      "SUCCESS - saved https://encrypted-tbn0.gstatic.com/images?q=tbn:ANd9GcQP2KuTtcwg61Q1xDljbH8NBK7sMNqvNgH-QA&usqp=CAU - as ./images\\tuna_tartare\\98bba9016f.jpg\n",
      "SUCCESS - saved https://encrypted-tbn0.gstatic.com/images?q=tbn:ANd9GcRZ3Te3LtqYWmP7oErIx56BAiwSkdx5oO4P3w&usqp=CAU - as ./images\\tuna_tartare\\9139053b09.jpg\n"
     ]
    },
    {
     "name": "stderr",
     "output_type": "stream",
     "text": [
      "C:\\Users\\mandeep.singh\\Anaconda3\\lib\\site-packages\\urllib3\\connectionpool.py:1013: InsecureRequestWarning: Unverified HTTPS request is being made to host 'encrypted-tbn0.gstatic.com'. Adding certificate verification is strongly advised. See: https://urllib3.readthedocs.io/en/latest/advanced-usage.html#ssl-warnings\n",
      "  warnings.warn(\n",
      "C:\\Users\\mandeep.singh\\Anaconda3\\lib\\site-packages\\urllib3\\connectionpool.py:1013: InsecureRequestWarning: Unverified HTTPS request is being made to host 'encrypted-tbn0.gstatic.com'. Adding certificate verification is strongly advised. See: https://urllib3.readthedocs.io/en/latest/advanced-usage.html#ssl-warnings\n",
      "  warnings.warn(\n"
     ]
    },
    {
     "name": "stdout",
     "output_type": "stream",
     "text": [
      "SUCCESS - saved https://encrypted-tbn0.gstatic.com/images?q=tbn:ANd9GcSUXETlcy7zphtCFjycEthiPVAWdJ2cEkO4Ew&usqp=CAU - as ./images\\tuna_tartare\\15e7c66440.jpg\n"
     ]
    },
    {
     "name": "stderr",
     "output_type": "stream",
     "text": [
      "C:\\Users\\mandeep.singh\\Anaconda3\\lib\\site-packages\\urllib3\\connectionpool.py:1013: InsecureRequestWarning: Unverified HTTPS request is being made to host 'encrypted-tbn0.gstatic.com'. Adding certificate verification is strongly advised. See: https://urllib3.readthedocs.io/en/latest/advanced-usage.html#ssl-warnings\n",
      "  warnings.warn(\n"
     ]
    },
    {
     "name": "stdout",
     "output_type": "stream",
     "text": [
      "SUCCESS - saved https://encrypted-tbn0.gstatic.com/images?q=tbn:ANd9GcSKGfd10m_6F0IJnFZrRi9Qgk-FioIPiMtIEg&usqp=CAU - as ./images\\tuna_tartare\\97660465e3.jpg\n"
     ]
    },
    {
     "name": "stderr",
     "output_type": "stream",
     "text": [
      "C:\\Users\\mandeep.singh\\Anaconda3\\lib\\site-packages\\urllib3\\connectionpool.py:1013: InsecureRequestWarning: Unverified HTTPS request is being made to host 'encrypted-tbn0.gstatic.com'. Adding certificate verification is strongly advised. See: https://urllib3.readthedocs.io/en/latest/advanced-usage.html#ssl-warnings\n",
      "  warnings.warn(\n",
      "C:\\Users\\mandeep.singh\\Anaconda3\\lib\\site-packages\\urllib3\\connectionpool.py:1013: InsecureRequestWarning: Unverified HTTPS request is being made to host 'encrypted-tbn0.gstatic.com'. Adding certificate verification is strongly advised. See: https://urllib3.readthedocs.io/en/latest/advanced-usage.html#ssl-warnings\n",
      "  warnings.warn(\n"
     ]
    },
    {
     "name": "stdout",
     "output_type": "stream",
     "text": [
      "SUCCESS - saved https://encrypted-tbn0.gstatic.com/images?q=tbn:ANd9GcRrSQ3Qy53HcbnHufmZjiHQ60YwRt1M4zFdTg&usqp=CAU - as ./images\\tuna_tartare\\1cfbed02d9.jpg\n",
      "SUCCESS - saved https://encrypted-tbn0.gstatic.com/images?q=tbn:ANd9GcSTo2hqbXKNb8eeM-7vvE1LpprTGcHCBC1bbg&usqp=CAU - as ./images\\tuna_tartare\\86385cdba3.jpg\n",
      "SUCCESS - saved https://encrypted-tbn0.gstatic.com/images?q=tbn:ANd9GcQV9eDhM5nf98aBjhR6sF8WxX8X5NAAaZT8Nw&usqp=CAU - as ./images\\tuna_tartare\\aed01c228c.jpg\n"
     ]
    },
    {
     "name": "stderr",
     "output_type": "stream",
     "text": [
      "C:\\Users\\mandeep.singh\\Anaconda3\\lib\\site-packages\\urllib3\\connectionpool.py:1013: InsecureRequestWarning: Unverified HTTPS request is being made to host 'encrypted-tbn0.gstatic.com'. Adding certificate verification is strongly advised. See: https://urllib3.readthedocs.io/en/latest/advanced-usage.html#ssl-warnings\n",
      "  warnings.warn(\n",
      "C:\\Users\\mandeep.singh\\Anaconda3\\lib\\site-packages\\urllib3\\connectionpool.py:1013: InsecureRequestWarning: Unverified HTTPS request is being made to host 'encrypted-tbn0.gstatic.com'. Adding certificate verification is strongly advised. See: https://urllib3.readthedocs.io/en/latest/advanced-usage.html#ssl-warnings\n",
      "  warnings.warn(\n"
     ]
    },
    {
     "name": "stdout",
     "output_type": "stream",
     "text": [
      "SUCCESS - saved https://encrypted-tbn0.gstatic.com/images?q=tbn:ANd9GcQFrrPkL8vqdKoWUBY6XstAcU51Z78-Q9Uzpg&usqp=CAU - as ./images\\tuna_tartare\\5b69073cc1.jpg\n",
      "SUCCESS - saved https://encrypted-tbn0.gstatic.com/images?q=tbn:ANd9GcSpXFGiUSNpAmu8tZPsL02enz34RARElMXGNQ&usqp=CAU - as ./images\\tuna_tartare\\1d6613f111.jpg\n"
     ]
    },
    {
     "name": "stderr",
     "output_type": "stream",
     "text": [
      "C:\\Users\\mandeep.singh\\Anaconda3\\lib\\site-packages\\urllib3\\connectionpool.py:1013: InsecureRequestWarning: Unverified HTTPS request is being made to host 'encrypted-tbn0.gstatic.com'. Adding certificate verification is strongly advised. See: https://urllib3.readthedocs.io/en/latest/advanced-usage.html#ssl-warnings\n",
      "  warnings.warn(\n",
      "C:\\Users\\mandeep.singh\\Anaconda3\\lib\\site-packages\\urllib3\\connectionpool.py:1013: InsecureRequestWarning: Unverified HTTPS request is being made to host 'encrypted-tbn0.gstatic.com'. Adding certificate verification is strongly advised. See: https://urllib3.readthedocs.io/en/latest/advanced-usage.html#ssl-warnings\n",
      "  warnings.warn(\n"
     ]
    },
    {
     "name": "stdout",
     "output_type": "stream",
     "text": [
      "SUCCESS - saved https://encrypted-tbn0.gstatic.com/images?q=tbn:ANd9GcSFMOZFMDWU_BsZQjgO8MsLUViC8Fawf2VYRw&usqp=CAU - as ./images\\tuna_tartare\\8dd76de9cb.jpg\n"
     ]
    },
    {
     "name": "stderr",
     "output_type": "stream",
     "text": [
      "C:\\Users\\mandeep.singh\\Anaconda3\\lib\\site-packages\\urllib3\\connectionpool.py:1013: InsecureRequestWarning: Unverified HTTPS request is being made to host 'encrypted-tbn0.gstatic.com'. Adding certificate verification is strongly advised. See: https://urllib3.readthedocs.io/en/latest/advanced-usage.html#ssl-warnings\n",
      "  warnings.warn(\n",
      "C:\\Users\\mandeep.singh\\Anaconda3\\lib\\site-packages\\urllib3\\connectionpool.py:1013: InsecureRequestWarning: Unverified HTTPS request is being made to host 'encrypted-tbn0.gstatic.com'. Adding certificate verification is strongly advised. See: https://urllib3.readthedocs.io/en/latest/advanced-usage.html#ssl-warnings\n",
      "  warnings.warn(\n"
     ]
    },
    {
     "name": "stdout",
     "output_type": "stream",
     "text": [
      "SUCCESS - saved https://encrypted-tbn0.gstatic.com/images?q=tbn:ANd9GcSyVQOfWzXXNOaBE2ppZK_yH1rU9j8lOwKFtw&usqp=CAU - as ./images\\tuna_tartare\\5038707ecb.jpg\n",
      "SUCCESS - saved https://encrypted-tbn0.gstatic.com/images?q=tbn:ANd9GcTuOB3qsi2TteKlmNgTF37YlU_9wg4gmD5eWg&usqp=CAU - as ./images\\tuna_tartare\\4c406a6bd5.jpg\n",
      "SUCCESS - saved https://encrypted-tbn0.gstatic.com/images?q=tbn:ANd9GcQ0nLz5pr8PiLPjya9KbRk54YYJ7V4rP8s_7w&usqp=CAU - as ./images\\tuna_tartare\\353253204a.jpg\n"
     ]
    },
    {
     "name": "stderr",
     "output_type": "stream",
     "text": [
      "C:\\Users\\mandeep.singh\\Anaconda3\\lib\\site-packages\\urllib3\\connectionpool.py:1013: InsecureRequestWarning: Unverified HTTPS request is being made to host 'encrypted-tbn0.gstatic.com'. Adding certificate verification is strongly advised. See: https://urllib3.readthedocs.io/en/latest/advanced-usage.html#ssl-warnings\n",
      "  warnings.warn(\n",
      "C:\\Users\\mandeep.singh\\Anaconda3\\lib\\site-packages\\urllib3\\connectionpool.py:1013: InsecureRequestWarning: Unverified HTTPS request is being made to host 'encrypted-tbn0.gstatic.com'. Adding certificate verification is strongly advised. See: https://urllib3.readthedocs.io/en/latest/advanced-usage.html#ssl-warnings\n",
      "  warnings.warn(\n"
     ]
    },
    {
     "name": "stdout",
     "output_type": "stream",
     "text": [
      "SUCCESS - saved https://encrypted-tbn0.gstatic.com/images?q=tbn:ANd9GcQWDb1qrrmbcaP_D-GkRXtbOzsV86AZvoDDPg&usqp=CAU - as ./images\\tuna_tartare\\6f2451cf72.jpg\n",
      "./images\\waffles\n",
      "Found: 100 search results. Extracting links from 0:100\n",
      "Found: 100 image links, done!\n",
      "{'https://lh3.googleusercontent.com/rycxJhm55uDl4IUoK_o0yOyw0GVcG7nLozJzpj7gIf07P5BGZTgighfzs2pABbU6aF7aLJqL8cAd19-ZXhQd-RxpTMw=w1000', 'https://i.ytimg.com/vi/lypGLHSpWa0/maxresdefault.jpg', 'https://encrypted-tbn0.gstatic.com/images?q=tbn:ANd9GcT55hpB_Gx5iiPXI76DDi_un9u-AHefVPcGQg&usqp=CAU', 'https://i.ytimg.com/vi/s8yK8gUwomM/maxresdefault.jpg', 'https://imagesvc.meredithcorp.io/v3/mm/image?q=85&c=sc&poi=face&w=1244&h=622&url=https%3A%2F%2Fstatic.onecms.io%2Fwp-content%2Fuploads%2Fsites%2F37%2F2011%2F06%2F14%2Fwaffles-R089608.jpg', 'https://encrypted-tbn0.gstatic.com/images?q=tbn:ANd9GcTtl7ObJeUU_h6Ohj6kTGFMbyr7o0T4gwnxgQ&usqp=CAU', 'https://encrypted-tbn0.gstatic.com/images?q=tbn:ANd9GcQy01WEbBR3LgdVzZWIR_DmBM6-PDZKc29Eqw&usqp=CAU', 'https://i0.wp.com/www.blessthismessplease.com/wp-content/uploads/2019/03/chocolate-waffle-recipe-4.jpg', 'https://encrypted-tbn0.gstatic.com/images?q=tbn:ANd9GcQt577lacLf2uSdfOYKLOprtO-pyLojSM5ahQ&usqp=CAU', 'https://encrypted-tbn0.gstatic.com/images?q=tbn:ANd9GcSgkhOgjiL0kAt-xY1ZfjKbzxetwi-P6axg2g&usqp=CAU', 'https://cookieandkate.com/images/2013/09/banana-nut-waffles-recipe.jpg', 'https://encrypted-tbn0.gstatic.com/images?q=tbn:ANd9GcSsn91CuGwLHhpzyIOGE5XoXWy5l27-hYRVaQ&usqp=CAU', 'https://encrypted-tbn0.gstatic.com/images?q=tbn:ANd9GcQh9RB4soihMA8j_w2xQQRXQdmuziRcZYyvmg&usqp=CAU', 'https://encrypted-tbn0.gstatic.com/images?q=tbn:ANd9GcTjoZIfUKWfHZ3aw1xA-hwM70AFkCiCDxoEGA&usqp=CAU', 'https://encrypted-tbn0.gstatic.com/images?q=tbn:ANd9GcTCRVsF1OV99BoApEAnqj7SvJz6cOT9g6B2Cg&usqp=CAU', 'https://encrypted-tbn0.gstatic.com/images?q=tbn:ANd9GcTQfwexlV8-AwKAiEG-cuH-G4zYXcIxRaqyug&usqp=CAU', 'https://encrypted-tbn0.gstatic.com/images?q=tbn:ANd9GcRn6vrLTvnVDiQ9QCIWoswrCNOnLPki1-i3jQ&usqp=CAU', 'https://encrypted-tbn0.gstatic.com/images?q=tbn:ANd9GcR2AF87JJXs-QsW14SyXrl9Mfz5AD4RTxwJZA&usqp=CAU', 'https://encrypted-tbn0.gstatic.com/images?q=tbn:ANd9GcQtGZovVCL-_Vq5KJhbRBiMm7eXproTgT26sQ&usqp=CAU', 'https://encrypted-tbn0.gstatic.com/images?q=tbn:ANd9GcRNoh_w6wXP6A0Mhvczul2V6xJPN-_N6pHHrg&usqp=CAU', 'https://encrypted-tbn0.gstatic.com/images?q=tbn:ANd9GcQO9grhYDZio48oaXINaM9mFIZ_HrcSFcVxGQ&usqp=CAU', 'https://www.browneyedbaker.com/wp-content/uploads/2013/05/buttermilk-waffles-8-754.jpg', 'https://challengedairy.com/sites/default/files/recipe/images/recipe_chocolate_waffles_with_berries_2280.jpg', 'https://encrypted-tbn0.gstatic.com/images?q=tbn:ANd9GcQoTzMCl7wW2haBHQH4HkOXATT_8hrrxUOd4A&usqp=CAU', 'https://cdn.apartmenttherapy.info/image/upload/f_jpg,q_auto:eco,c_fill,g_auto,w_1500,ar_1:1/k%2FPhoto%2FRecipes%2F2020-11-How-to-Make-Crisp-and-Fluffy-Belgian-Waffles%2FHow-to-Make-Crisp-n-Fluffy-Belgian-Waffles074', 'https://i.ytimg.com/vi/yN2z5X43mjk/maxresdefault.jpg', 'https://encrypted-tbn0.gstatic.com/images?q=tbn:ANd9GcQx3x4bnqhj6-WveoPAr-GAb-VNUfB2MkZBoA&usqp=CAU', 'https://encrypted-tbn0.gstatic.com/images?q=tbn:ANd9GcSCw4qRz9YN8rR0If51qWwzP_VPWyFfchMwdQ&usqp=CAU', 'https://encrypted-tbn0.gstatic.com/images?q=tbn:ANd9GcRfdvbZR3e1kWcFmEsPBBYf1y9zO4lXcGLbMg&usqp=CAU', 'https://encrypted-tbn0.gstatic.com/images?q=tbn:ANd9GcRu3Le_U6zQgiZBWffqx5BGfvtkYTqMdgsHmg&usqp=CAU', 'https://cdn1.wolfermans.com/wcsstore/Wolfermans/images/catalog/20_50686_61w_01ex.jpg', 'https://encrypted-tbn0.gstatic.com/images?q=tbn:ANd9GcToYpzvKv1az4ddOJWDORrO7KK5gZ1LjXP1Jg&usqp=CAU', 'https://encrypted-tbn0.gstatic.com/images?q=tbn:ANd9GcSdzvD2SMcPSo-P823eFZ-YaVbtzMVKVbzTLA&usqp=CAU', 'https://hips.hearstapps.com/vidthumb/images/delish-waffles-1-1531520612.jpg', 'https://www.wearegurgaon.com/wp-content/uploads/2017/12/best-waffles-in-gurgaon-4.jpg', 'https://encrypted-tbn0.gstatic.com/images?q=tbn:ANd9GcRaYBBauLVDtn8pOmgDzB1iIqMP60MsF5u0JQ&usqp=CAU', 'https://encrypted-tbn0.gstatic.com/images?q=tbn:ANd9GcR63_W4YVsQcy3BQGnZyZWfrKALvzMMcgtPXQ&usqp=CAU', 'https://encrypted-tbn0.gstatic.com/images?q=tbn:ANd9GcR2F2WeC_R0AyASKbeDfbaMAvZdlAiiPAZknQ&usqp=CAU', 'https://encrypted-tbn0.gstatic.com/images?q=tbn:ANd9GcThq2Xb-VAhdVrQccMWBcazEQKK61d73pCSVA&usqp=CAU', 'https://encrypted-tbn0.gstatic.com/images?q=tbn:ANd9GcRbBe2UtzuQuQyjJMwW1F7G31PMM4a3lSRm2Q&usqp=CAU', 'https://imagesvc.meredithcorp.io/v3/mm/image?q=85&c=sc&poi=face&w=650&h=325&url=https%3A%2F%2Fstatic.onecms.io%2Fwp-content%2Fuploads%2Fsites%2F43%2F2017%2F03%2F3875444_-waffles-sanzoe.jpg', 'https://www.biggerbolderbaking.com/wp-content/uploads/2018/08/Buttermilk-Waffles-Thumbnail-500x500.png', 'https://encrypted-tbn0.gstatic.com/images?q=tbn:ANd9GcSguJS17WAMF9R65_rpO1UqJDitBi7l1rbKLg&usqp=CAU', 'https://encrypted-tbn0.gstatic.com/images?q=tbn:ANd9GcTLyYHdIoer9DEwp0XMJg2nhNrFIO4gMLZE9Q&usqp=CAU', 'https://encrypted-tbn0.gstatic.com/images?q=tbn:ANd9GcS74BDMyrIcEYA_LZohohB8YqTdpLn1kmSNjA&usqp=CAU', 'https://encrypted-tbn0.gstatic.com/images?q=tbn:ANd9GcQIVRn-XwGb7_LQbETpzpcGAq1i4yUBAcT4PQ&usqp=CAU', 'https://res.cloudinary.com/purnesh/image/upload/w_540,f_auto/8-best-places-for-waffles-in-gurgaon.jpg', 'https://encrypted-tbn0.gstatic.com/images?q=tbn:ANd9GcSAJ8jm1GMgxTpi3pw-9UPraLUWPcElBJhkww&usqp=CAU', 'https://encrypted-tbn0.gstatic.com/images?q=tbn:ANd9GcQmf5Hv5URLjh4CGa3mJn37I7mL4-ENdEHO3w&usqp=CAU', 'https://encrypted-tbn0.gstatic.com/images?q=tbn:ANd9GcQBTjyvzjaiG_Q4yCFN2UuF1wYYBPpp0Sn3Yg&usqp=CAU', 'https://encrypted-tbn0.gstatic.com/images?q=tbn:ANd9GcRqX5aPDqj0hRVnm-vY4sK6rS1YFJwxoeA7bA&usqp=CAU', 'https://encrypted-tbn0.gstatic.com/images?q=tbn:ANd9GcQaAblaaM19Krl8T5BnVJlkJf3kQ0QNmN2QGQ&usqp=CAU', 'https://hips.hearstapps.com/del.h-cdn.co/assets/17/06/2048x1024/landscape-1486585322-jg-delish-waffles-0023.jpg?resize=480:*', 'https://encrypted-tbn0.gstatic.com/images?q=tbn:ANd9GcRaIY0U5m_SUQk6Oxco7iCCRHYw4iE0mx5cGw&usqp=CAU', 'https://cdnimg.webstaurantstore.com/images/guides/687/buyingguide_waffle_med.jpg', 'https://www.shugarysweets.com/wp-content/uploads/2020/04/classic-waffles-3-480x360.jpg', 'https://www.simplyrecipes.com/thmb/DKohcsp0EvdWjTX4-RpL1EidyYw=/1779x1334/smart/filters:no_upscale()/__opt__aboutcom__coeus__resources__content_migration__simply_recipes__uploads__2019__04__Yeasted-Belgian-Waffles-LEAD-02-fecf1dd4b6fc4714b96ff89a0e6ef81f.jpg', 'https://encrypted-tbn0.gstatic.com/images?q=tbn:ANd9GcRYRPkIG3LsaOQeHrDOCTZEHE-FvWlnFV9PuA&usqp=CAU', 'https://encrypted-tbn0.gstatic.com/images?q=tbn:ANd9GcSMxMT4Sh89l2ZAIGlBgqjmS0hWc54ywz0I7Q&usqp=CAU', 'https://static.toiimg.com/thumb/53555230.cms?imgsize=498901&width=800&height=800', 'https://ca-times.brightspotcdn.com/dims4/default/822b6dc/2147483647/strip/true/crop/2400x1499+0+151/resize/1044x652!/quality/90/?url=https%3A%2F%2Fcalifornia-times-brightspot.s3.amazonaws.com%2F4a%2F03%2Fc8daf3f346af8b5fb8b6d89e6cc0%2Fla-fo-how-to-boil-water-waffles.03.jpg', 'https://encrypted-tbn0.gstatic.com/images?q=tbn:ANd9GcSm7bbDWuOFC-F_0zhSnBHCa60wpzLdBoZAzA&usqp=CAU', 'https://cookieandkate.com/images/2014/09/gluten-free-oat-waffles-recipe-2-1.jpg', 'https://encrypted-tbn0.gstatic.com/images?q=tbn:ANd9GcSdfOhJt6rvegrXQZaVaRjCk8Iwh_nqEOKnoA&usqp=CAU', 'https://encrypted-tbn0.gstatic.com/images?q=tbn:ANd9GcTscOPxAZExsga9797-AiG2Omvbko5Q1iXMcw&usqp=CAU', 'https://encrypted-tbn0.gstatic.com/images?q=tbn:ANd9GcQYX7NKVBM3l6UgSgNf4ba-xsuGaHPlkLwomw&usqp=CAU', 'https://encrypted-tbn0.gstatic.com/images?q=tbn:ANd9GcReNrNKPvXvidPtkPqwKAk1tIt8t014XVVw7w&usqp=CAU', 'https://encrypted-tbn0.gstatic.com/images?q=tbn:ANd9GcSfn1WVJlH2F69x1unTpBPmdbvGuGOHqZc73w&usqp=CAU', 'https://encrypted-tbn0.gstatic.com/images?q=tbn:ANd9GcRUR1DkJQqKDu6Ke2FkR5tYCnYWpJeyoeSv0g&usqp=CAU', 'https://encrypted-tbn0.gstatic.com/images?q=tbn:ANd9GcTlQ8a6Lxo0krz6_SdNkAvt7-uiiytfO_eY3A&usqp=CAU', 'https://encrypted-tbn0.gstatic.com/images?q=tbn:ANd9GcS5wnmmYrHxU7pF5DawwhdFcp5D1NitC-mS8w&usqp=CAU', 'https://encrypted-tbn0.gstatic.com/images?q=tbn:ANd9GcSnaF-PuUfJG9vTjML-qybdvpY2E82n_5WwpQ&usqp=CAU', 'https://encrypted-tbn0.gstatic.com/images?q=tbn:ANd9GcTju4dKsoB6_F_W8EqtGrg4P4cBOGt9RQS6tw&usqp=CAU', 'https://encrypted-tbn0.gstatic.com/images?q=tbn:ANd9GcTgPsS1h-x6qnXryTAqPyNgzvB-FfhVAkj95A&usqp=CAU', 'https://encrypted-tbn0.gstatic.com/images?q=tbn:ANd9GcReAkRUlAn9_sIs9mCL8YVJgYhfX_R3qf6quA&usqp=CAU', 'https://encrypted-tbn0.gstatic.com/images?q=tbn:ANd9GcTdeHKL6-JTorr3AxEwoi2IzXAvPaBTmiuaJw&usqp=CAU', 'https://www.wearegurgaon.com//wp-content/uploads/2017/12/waffles-am-pm-cafe-bar-gurgaon.jpg', 'https://encrypted-tbn0.gstatic.com/images?q=tbn:ANd9GcThp22wrClAxcScmHpp1i48JSRMcoNPOV9YzQ&usqp=CAU', 'https://imagesvc.meredithcorp.io/v3/jumpstartpure/image?url=https://assets.marthastewart.com/d34/homemade_belgian_buttermilk_waffle/homemade_belgian_buttermilk_waffle_horiz.jpg&w=1280&h=720&q=90&c=cc', 'https://food.fnr.sndimg.com/content/dam/images/food/fullset/2019/9/9/0/FNK_the-best-buttermilk-waffles_H.JPG.rend.hgtvcom.616.462.suffix/1568145463670.jpeg', 'https://encrypted-tbn0.gstatic.com/images?q=tbn:ANd9GcQNttNEm_G2NwiBBCMeVhjpOs6Lo2CbYMy97g&usqp=CAU', 'https://encrypted-tbn0.gstatic.com/images?q=tbn:ANd9GcSRpnIR3hLVcKpCNkeXWmR7C8tIwfXnZSTf9w&usqp=CAU', 'https://hips.hearstapps.com/hmg-prod.s3.amazonaws.com/images/210106-delish-cover-chicken-n-waffles-19189-eb-1614276508.jpg', 'https://i.ytimg.com/vi/0g-h-HEQg-s/maxresdefault.jpg', 'https://encrypted-tbn0.gstatic.com/images?q=tbn:ANd9GcShwixBB8WOF8kw0cnL3in86IjuDdh_shch_g&usqp=CAU', 'https://encrypted-tbn0.gstatic.com/images?q=tbn:ANd9GcRuPrKvEZeYPBVYdpapTfYVR3u69Dp1qpSMFw&usqp=CAU', 'https://encrypted-tbn0.gstatic.com/images?q=tbn:ANd9GcRvdDK1qmfLmkZpFUrV2Cno9cAkTLCvdx5yHw&usqp=CAU', 'https://encrypted-tbn0.gstatic.com/images?q=tbn:ANd9GcQ7l3NW4weJopvLapd6_5DMjUWPzSrh57lfGw&usqp=CAU', 'https://encrypted-tbn0.gstatic.com/images?q=tbn:ANd9GcSTzLWg3sWUNZELtrMTttEEbVW3tht1GV3pWw&usqp=CAU', 'https://upload.wikimedia.org/wikipedia/commons/thumb/d/db/Chicken_and_waffles_with_peaches_and_cream.jpg/1200px-Chicken_and_waffles_with_peaches_and_cream.jpg', 'https://encrypted-tbn0.gstatic.com/images?q=tbn:ANd9GcTqvLozvFplU_IApJnKsfpdLX3EevYTrmp5WQ&usqp=CAU', 'https://encrypted-tbn0.gstatic.com/images?q=tbn:ANd9GcT2DRB-oHb8P8ateEktfiQog9Y_K7L9wyBkAg&usqp=CAU', 'https://hips.hearstapps.com/hmg-prod.s3.amazonaws.com/images/delish-pumpkinwaffles-ql-7631-1595530276.jpg', 'https://encrypted-tbn0.gstatic.com/images?q=tbn:ANd9GcRrDUDR7zFJgJWMGdKfwQXNWnVQdWwyq_PXzw&usqp=CAU', 'https://encrypted-tbn0.gstatic.com/images?q=tbn:ANd9GcSTvBiklAOQrOw-8-wxranDeptXYa6fUb9R5w&usqp=CAU', 'https://encrypted-tbn0.gstatic.com/images?q=tbn:ANd9GcTe91u5h1Egh4bKXAuhb8-NPyKxSMdiJTw6rQ&usqp=CAU', 'https://encrypted-tbn0.gstatic.com/images?q=tbn:ANd9GcSL3beaeLINFlaMc2gsRbPqdzPhs3zPiUhrDQ&usqp=CAU', 'https://res.cloudinary.com/purnesh/image/upload/f_auto/v1518073117/crepe-fe997.jpg', 'https://cafedelites.com/wp-content/uploads/2016/04/Chocolate-Cake-Waffles-43.jpg', 'https://encrypted-tbn0.gstatic.com/images?q=tbn:ANd9GcQbG_-OChxS7kTwAqeY3Kc7WjLx2_Yt7cG5bA&usqp=CAU'}\n"
     ]
    },
    {
     "name": "stderr",
     "output_type": "stream",
     "text": [
      "C:\\Users\\mandeep.singh\\Anaconda3\\lib\\site-packages\\urllib3\\connectionpool.py:1013: InsecureRequestWarning: Unverified HTTPS request is being made to host 'lh3.googleusercontent.com'. Adding certificate verification is strongly advised. See: https://urllib3.readthedocs.io/en/latest/advanced-usage.html#ssl-warnings\n",
      "  warnings.warn(\n"
     ]
    },
    {
     "name": "stdout",
     "output_type": "stream",
     "text": [
      "SUCCESS - saved https://lh3.googleusercontent.com/rycxJhm55uDl4IUoK_o0yOyw0GVcG7nLozJzpj7gIf07P5BGZTgighfzs2pABbU6aF7aLJqL8cAd19-ZXhQd-RxpTMw=w1000 - as ./images\\waffles\\5361298388.jpg\n"
     ]
    },
    {
     "name": "stderr",
     "output_type": "stream",
     "text": [
      "C:\\Users\\mandeep.singh\\Anaconda3\\lib\\site-packages\\urllib3\\connectionpool.py:1013: InsecureRequestWarning: Unverified HTTPS request is being made to host 'i.ytimg.com'. Adding certificate verification is strongly advised. See: https://urllib3.readthedocs.io/en/latest/advanced-usage.html#ssl-warnings\n",
      "  warnings.warn(\n"
     ]
    },
    {
     "name": "stdout",
     "output_type": "stream",
     "text": [
      "SUCCESS - saved https://i.ytimg.com/vi/lypGLHSpWa0/maxresdefault.jpg - as ./images\\waffles\\6d32c623c3.jpg\n"
     ]
    },
    {
     "name": "stderr",
     "output_type": "stream",
     "text": [
      "C:\\Users\\mandeep.singh\\Anaconda3\\lib\\site-packages\\urllib3\\connectionpool.py:1013: InsecureRequestWarning: Unverified HTTPS request is being made to host 'encrypted-tbn0.gstatic.com'. Adding certificate verification is strongly advised. See: https://urllib3.readthedocs.io/en/latest/advanced-usage.html#ssl-warnings\n",
      "  warnings.warn(\n"
     ]
    },
    {
     "name": "stdout",
     "output_type": "stream",
     "text": [
      "SUCCESS - saved https://encrypted-tbn0.gstatic.com/images?q=tbn:ANd9GcT55hpB_Gx5iiPXI76DDi_un9u-AHefVPcGQg&usqp=CAU - as ./images\\waffles\\bd41253101.jpg\n"
     ]
    },
    {
     "name": "stderr",
     "output_type": "stream",
     "text": [
      "C:\\Users\\mandeep.singh\\Anaconda3\\lib\\site-packages\\urllib3\\connectionpool.py:1013: InsecureRequestWarning: Unverified HTTPS request is being made to host 'i.ytimg.com'. Adding certificate verification is strongly advised. See: https://urllib3.readthedocs.io/en/latest/advanced-usage.html#ssl-warnings\n",
      "  warnings.warn(\n"
     ]
    },
    {
     "name": "stdout",
     "output_type": "stream",
     "text": [
      "SUCCESS - saved https://i.ytimg.com/vi/s8yK8gUwomM/maxresdefault.jpg - as ./images\\waffles\\42278a2039.jpg\n"
     ]
    },
    {
     "name": "stderr",
     "output_type": "stream",
     "text": [
      "C:\\Users\\mandeep.singh\\Anaconda3\\lib\\site-packages\\urllib3\\connectionpool.py:1013: InsecureRequestWarning: Unverified HTTPS request is being made to host 'imagesvc.meredithcorp.io'. Adding certificate verification is strongly advised. See: https://urllib3.readthedocs.io/en/latest/advanced-usage.html#ssl-warnings\n",
      "  warnings.warn(\n"
     ]
    },
    {
     "name": "stdout",
     "output_type": "stream",
     "text": [
      "SUCCESS - saved https://imagesvc.meredithcorp.io/v3/mm/image?q=85&c=sc&poi=face&w=1244&h=622&url=https%3A%2F%2Fstatic.onecms.io%2Fwp-content%2Fuploads%2Fsites%2F37%2F2011%2F06%2F14%2Fwaffles-R089608.jpg - as ./images\\waffles\\2b9b172388.jpg\n"
     ]
    },
    {
     "name": "stderr",
     "output_type": "stream",
     "text": [
      "C:\\Users\\mandeep.singh\\Anaconda3\\lib\\site-packages\\urllib3\\connectionpool.py:1013: InsecureRequestWarning: Unverified HTTPS request is being made to host 'encrypted-tbn0.gstatic.com'. Adding certificate verification is strongly advised. See: https://urllib3.readthedocs.io/en/latest/advanced-usage.html#ssl-warnings\n",
      "  warnings.warn(\n",
      "C:\\Users\\mandeep.singh\\Anaconda3\\lib\\site-packages\\urllib3\\connectionpool.py:1013: InsecureRequestWarning: Unverified HTTPS request is being made to host 'encrypted-tbn0.gstatic.com'. Adding certificate verification is strongly advised. See: https://urllib3.readthedocs.io/en/latest/advanced-usage.html#ssl-warnings\n",
      "  warnings.warn(\n"
     ]
    },
    {
     "name": "stdout",
     "output_type": "stream",
     "text": [
      "SUCCESS - saved https://encrypted-tbn0.gstatic.com/images?q=tbn:ANd9GcTtl7ObJeUU_h6Ohj6kTGFMbyr7o0T4gwnxgQ&usqp=CAU - as ./images\\waffles\\7e50349a7b.jpg\n",
      "SUCCESS - saved https://encrypted-tbn0.gstatic.com/images?q=tbn:ANd9GcQy01WEbBR3LgdVzZWIR_DmBM6-PDZKc29Eqw&usqp=CAU - as ./images\\waffles\\56f7ebe5ba.jpg\n"
     ]
    },
    {
     "name": "stderr",
     "output_type": "stream",
     "text": [
      "C:\\Users\\mandeep.singh\\Anaconda3\\lib\\site-packages\\urllib3\\connectionpool.py:1013: InsecureRequestWarning: Unverified HTTPS request is being made to host 'i0.wp.com'. Adding certificate verification is strongly advised. See: https://urllib3.readthedocs.io/en/latest/advanced-usage.html#ssl-warnings\n",
      "  warnings.warn(\n"
     ]
    },
    {
     "name": "stdout",
     "output_type": "stream",
     "text": [
      "SUCCESS - saved https://i0.wp.com/www.blessthismessplease.com/wp-content/uploads/2019/03/chocolate-waffle-recipe-4.jpg - as ./images\\waffles\\c4bd88be1a.jpg\n"
     ]
    },
    {
     "name": "stderr",
     "output_type": "stream",
     "text": [
      "C:\\Users\\mandeep.singh\\Anaconda3\\lib\\site-packages\\urllib3\\connectionpool.py:1013: InsecureRequestWarning: Unverified HTTPS request is being made to host 'encrypted-tbn0.gstatic.com'. Adding certificate verification is strongly advised. See: https://urllib3.readthedocs.io/en/latest/advanced-usage.html#ssl-warnings\n",
      "  warnings.warn(\n",
      "C:\\Users\\mandeep.singh\\Anaconda3\\lib\\site-packages\\urllib3\\connectionpool.py:1013: InsecureRequestWarning: Unverified HTTPS request is being made to host 'encrypted-tbn0.gstatic.com'. Adding certificate verification is strongly advised. See: https://urllib3.readthedocs.io/en/latest/advanced-usage.html#ssl-warnings\n",
      "  warnings.warn(\n"
     ]
    },
    {
     "name": "stdout",
     "output_type": "stream",
     "text": [
      "SUCCESS - saved https://encrypted-tbn0.gstatic.com/images?q=tbn:ANd9GcQt577lacLf2uSdfOYKLOprtO-pyLojSM5ahQ&usqp=CAU - as ./images\\waffles\\bac07ab69e.jpg\n",
      "SUCCESS - saved https://encrypted-tbn0.gstatic.com/images?q=tbn:ANd9GcSgkhOgjiL0kAt-xY1ZfjKbzxetwi-P6axg2g&usqp=CAU - as ./images\\waffles\\8bb5da3afd.jpg\n"
     ]
    },
    {
     "name": "stderr",
     "output_type": "stream",
     "text": [
      "C:\\Users\\mandeep.singh\\Anaconda3\\lib\\site-packages\\urllib3\\connectionpool.py:1013: InsecureRequestWarning: Unverified HTTPS request is being made to host 'cookieandkate.com'. Adding certificate verification is strongly advised. See: https://urllib3.readthedocs.io/en/latest/advanced-usage.html#ssl-warnings\n",
      "  warnings.warn(\n"
     ]
    },
    {
     "name": "stdout",
     "output_type": "stream",
     "text": [
      "SUCCESS - saved https://cookieandkate.com/images/2013/09/banana-nut-waffles-recipe.jpg - as ./images\\waffles\\bf90630113.jpg\n",
      "SUCCESS - saved https://encrypted-tbn0.gstatic.com/images?q=tbn:ANd9GcSsn91CuGwLHhpzyIOGE5XoXWy5l27-hYRVaQ&usqp=CAU - as ./images\\waffles\\1735a3849e.jpg\n"
     ]
    },
    {
     "name": "stderr",
     "output_type": "stream",
     "text": [
      "C:\\Users\\mandeep.singh\\Anaconda3\\lib\\site-packages\\urllib3\\connectionpool.py:1013: InsecureRequestWarning: Unverified HTTPS request is being made to host 'encrypted-tbn0.gstatic.com'. Adding certificate verification is strongly advised. See: https://urllib3.readthedocs.io/en/latest/advanced-usage.html#ssl-warnings\n",
      "  warnings.warn(\n",
      "C:\\Users\\mandeep.singh\\Anaconda3\\lib\\site-packages\\urllib3\\connectionpool.py:1013: InsecureRequestWarning: Unverified HTTPS request is being made to host 'encrypted-tbn0.gstatic.com'. Adding certificate verification is strongly advised. See: https://urllib3.readthedocs.io/en/latest/advanced-usage.html#ssl-warnings\n",
      "  warnings.warn(\n"
     ]
    },
    {
     "name": "stdout",
     "output_type": "stream",
     "text": [
      "SUCCESS - saved https://encrypted-tbn0.gstatic.com/images?q=tbn:ANd9GcQh9RB4soihMA8j_w2xQQRXQdmuziRcZYyvmg&usqp=CAU - as ./images\\waffles\\98a2d8ca1b.jpg\n",
      "SUCCESS - saved https://encrypted-tbn0.gstatic.com/images?q=tbn:ANd9GcTjoZIfUKWfHZ3aw1xA-hwM70AFkCiCDxoEGA&usqp=CAU - as ./images\\waffles\\0068faa7c7.jpg\n"
     ]
    },
    {
     "name": "stderr",
     "output_type": "stream",
     "text": [
      "C:\\Users\\mandeep.singh\\Anaconda3\\lib\\site-packages\\urllib3\\connectionpool.py:1013: InsecureRequestWarning: Unverified HTTPS request is being made to host 'encrypted-tbn0.gstatic.com'. Adding certificate verification is strongly advised. See: https://urllib3.readthedocs.io/en/latest/advanced-usage.html#ssl-warnings\n",
      "  warnings.warn(\n",
      "C:\\Users\\mandeep.singh\\Anaconda3\\lib\\site-packages\\urllib3\\connectionpool.py:1013: InsecureRequestWarning: Unverified HTTPS request is being made to host 'encrypted-tbn0.gstatic.com'. Adding certificate verification is strongly advised. See: https://urllib3.readthedocs.io/en/latest/advanced-usage.html#ssl-warnings\n",
      "  warnings.warn(\n"
     ]
    },
    {
     "name": "stdout",
     "output_type": "stream",
     "text": [
      "SUCCESS - saved https://encrypted-tbn0.gstatic.com/images?q=tbn:ANd9GcTCRVsF1OV99BoApEAnqj7SvJz6cOT9g6B2Cg&usqp=CAU - as ./images\\waffles\\0823194ff8.jpg\n",
      "SUCCESS - saved https://encrypted-tbn0.gstatic.com/images?q=tbn:ANd9GcTQfwexlV8-AwKAiEG-cuH-G4zYXcIxRaqyug&usqp=CAU - as ./images\\waffles\\d74e4bdded.jpg\n"
     ]
    },
    {
     "name": "stderr",
     "output_type": "stream",
     "text": [
      "C:\\Users\\mandeep.singh\\Anaconda3\\lib\\site-packages\\urllib3\\connectionpool.py:1013: InsecureRequestWarning: Unverified HTTPS request is being made to host 'encrypted-tbn0.gstatic.com'. Adding certificate verification is strongly advised. See: https://urllib3.readthedocs.io/en/latest/advanced-usage.html#ssl-warnings\n",
      "  warnings.warn(\n",
      "C:\\Users\\mandeep.singh\\Anaconda3\\lib\\site-packages\\urllib3\\connectionpool.py:1013: InsecureRequestWarning: Unverified HTTPS request is being made to host 'encrypted-tbn0.gstatic.com'. Adding certificate verification is strongly advised. See: https://urllib3.readthedocs.io/en/latest/advanced-usage.html#ssl-warnings\n",
      "  warnings.warn(\n"
     ]
    },
    {
     "name": "stdout",
     "output_type": "stream",
     "text": [
      "SUCCESS - saved https://encrypted-tbn0.gstatic.com/images?q=tbn:ANd9GcRn6vrLTvnVDiQ9QCIWoswrCNOnLPki1-i3jQ&usqp=CAU - as ./images\\waffles\\64032d48ca.jpg\n"
     ]
    },
    {
     "name": "stderr",
     "output_type": "stream",
     "text": [
      "C:\\Users\\mandeep.singh\\Anaconda3\\lib\\site-packages\\urllib3\\connectionpool.py:1013: InsecureRequestWarning: Unverified HTTPS request is being made to host 'encrypted-tbn0.gstatic.com'. Adding certificate verification is strongly advised. See: https://urllib3.readthedocs.io/en/latest/advanced-usage.html#ssl-warnings\n",
      "  warnings.warn(\n"
     ]
    },
    {
     "name": "stdout",
     "output_type": "stream",
     "text": [
      "SUCCESS - saved https://encrypted-tbn0.gstatic.com/images?q=tbn:ANd9GcR2AF87JJXs-QsW14SyXrl9Mfz5AD4RTxwJZA&usqp=CAU - as ./images\\waffles\\2a0ef21f36.jpg\n",
      "SUCCESS - saved https://encrypted-tbn0.gstatic.com/images?q=tbn:ANd9GcQtGZovVCL-_Vq5KJhbRBiMm7eXproTgT26sQ&usqp=CAU - as ./images\\waffles\\021ee230d2.jpg\n"
     ]
    },
    {
     "name": "stderr",
     "output_type": "stream",
     "text": [
      "C:\\Users\\mandeep.singh\\Anaconda3\\lib\\site-packages\\urllib3\\connectionpool.py:1013: InsecureRequestWarning: Unverified HTTPS request is being made to host 'encrypted-tbn0.gstatic.com'. Adding certificate verification is strongly advised. See: https://urllib3.readthedocs.io/en/latest/advanced-usage.html#ssl-warnings\n",
      "  warnings.warn(\n",
      "C:\\Users\\mandeep.singh\\Anaconda3\\lib\\site-packages\\urllib3\\connectionpool.py:1013: InsecureRequestWarning: Unverified HTTPS request is being made to host 'encrypted-tbn0.gstatic.com'. Adding certificate verification is strongly advised. See: https://urllib3.readthedocs.io/en/latest/advanced-usage.html#ssl-warnings\n",
      "  warnings.warn(\n"
     ]
    },
    {
     "name": "stdout",
     "output_type": "stream",
     "text": [
      "SUCCESS - saved https://encrypted-tbn0.gstatic.com/images?q=tbn:ANd9GcRNoh_w6wXP6A0Mhvczul2V6xJPN-_N6pHHrg&usqp=CAU - as ./images\\waffles\\20aee3cfab.jpg\n"
     ]
    },
    {
     "name": "stderr",
     "output_type": "stream",
     "text": [
      "C:\\Users\\mandeep.singh\\Anaconda3\\lib\\site-packages\\urllib3\\connectionpool.py:1013: InsecureRequestWarning: Unverified HTTPS request is being made to host 'encrypted-tbn0.gstatic.com'. Adding certificate verification is strongly advised. See: https://urllib3.readthedocs.io/en/latest/advanced-usage.html#ssl-warnings\n",
      "  warnings.warn(\n"
     ]
    },
    {
     "name": "stdout",
     "output_type": "stream",
     "text": [
      "SUCCESS - saved https://encrypted-tbn0.gstatic.com/images?q=tbn:ANd9GcQO9grhYDZio48oaXINaM9mFIZ_HrcSFcVxGQ&usqp=CAU - as ./images\\waffles\\fd647bbc6f.jpg\n"
     ]
    },
    {
     "name": "stderr",
     "output_type": "stream",
     "text": [
      "C:\\Users\\mandeep.singh\\Anaconda3\\lib\\site-packages\\urllib3\\connectionpool.py:1013: InsecureRequestWarning: Unverified HTTPS request is being made to host 'www.browneyedbaker.com'. Adding certificate verification is strongly advised. See: https://urllib3.readthedocs.io/en/latest/advanced-usage.html#ssl-warnings\n",
      "  warnings.warn(\n"
     ]
    },
    {
     "name": "stdout",
     "output_type": "stream",
     "text": [
      "SUCCESS - saved https://www.browneyedbaker.com/wp-content/uploads/2013/05/buttermilk-waffles-8-754.jpg - as ./images\\waffles\\0f54af6883.jpg\n"
     ]
    },
    {
     "name": "stderr",
     "output_type": "stream",
     "text": [
      "C:\\Users\\mandeep.singh\\Anaconda3\\lib\\site-packages\\urllib3\\connectionpool.py:1013: InsecureRequestWarning: Unverified HTTPS request is being made to host 'challengedairy.com'. Adding certificate verification is strongly advised. See: https://urllib3.readthedocs.io/en/latest/advanced-usage.html#ssl-warnings\n",
      "  warnings.warn(\n"
     ]
    },
    {
     "name": "stdout",
     "output_type": "stream",
     "text": [
      "SUCCESS - saved https://challengedairy.com/sites/default/files/recipe/images/recipe_chocolate_waffles_with_berries_2280.jpg - as ./images\\waffles\\0ccf41397b.jpg\n",
      "SUCCESS - saved https://encrypted-tbn0.gstatic.com/images?q=tbn:ANd9GcQoTzMCl7wW2haBHQH4HkOXATT_8hrrxUOd4A&usqp=CAU - as ./images\\waffles\\726220c5cc.jpg\n"
     ]
    },
    {
     "name": "stderr",
     "output_type": "stream",
     "text": [
      "C:\\Users\\mandeep.singh\\Anaconda3\\lib\\site-packages\\urllib3\\connectionpool.py:1013: InsecureRequestWarning: Unverified HTTPS request is being made to host 'encrypted-tbn0.gstatic.com'. Adding certificate verification is strongly advised. See: https://urllib3.readthedocs.io/en/latest/advanced-usage.html#ssl-warnings\n",
      "  warnings.warn(\n",
      "C:\\Users\\mandeep.singh\\Anaconda3\\lib\\site-packages\\urllib3\\connectionpool.py:1013: InsecureRequestWarning: Unverified HTTPS request is being made to host 'cdn.apartmenttherapy.info'. Adding certificate verification is strongly advised. See: https://urllib3.readthedocs.io/en/latest/advanced-usage.html#ssl-warnings\n",
      "  warnings.warn(\n"
     ]
    },
    {
     "name": "stdout",
     "output_type": "stream",
     "text": [
      "SUCCESS - saved https://cdn.apartmenttherapy.info/image/upload/f_jpg,q_auto:eco,c_fill,g_auto,w_1500,ar_1:1/k%2FPhoto%2FRecipes%2F2020-11-How-to-Make-Crisp-and-Fluffy-Belgian-Waffles%2FHow-to-Make-Crisp-n-Fluffy-Belgian-Waffles074 - as ./images\\waffles\\d2d757af69.jpg\n"
     ]
    },
    {
     "name": "stderr",
     "output_type": "stream",
     "text": [
      "C:\\Users\\mandeep.singh\\Anaconda3\\lib\\site-packages\\urllib3\\connectionpool.py:1013: InsecureRequestWarning: Unverified HTTPS request is being made to host 'i.ytimg.com'. Adding certificate verification is strongly advised. See: https://urllib3.readthedocs.io/en/latest/advanced-usage.html#ssl-warnings\n",
      "  warnings.warn(\n"
     ]
    },
    {
     "name": "stdout",
     "output_type": "stream",
     "text": [
      "SUCCESS - saved https://i.ytimg.com/vi/yN2z5X43mjk/maxresdefault.jpg - as ./images\\waffles\\63839f90cc.jpg\n",
      "SUCCESS - saved https://encrypted-tbn0.gstatic.com/images?q=tbn:ANd9GcQx3x4bnqhj6-WveoPAr-GAb-VNUfB2MkZBoA&usqp=CAU - as ./images\\waffles\\2e052b4247.jpg\n"
     ]
    },
    {
     "name": "stderr",
     "output_type": "stream",
     "text": [
      "C:\\Users\\mandeep.singh\\Anaconda3\\lib\\site-packages\\urllib3\\connectionpool.py:1013: InsecureRequestWarning: Unverified HTTPS request is being made to host 'encrypted-tbn0.gstatic.com'. Adding certificate verification is strongly advised. See: https://urllib3.readthedocs.io/en/latest/advanced-usage.html#ssl-warnings\n",
      "  warnings.warn(\n",
      "C:\\Users\\mandeep.singh\\Anaconda3\\lib\\site-packages\\urllib3\\connectionpool.py:1013: InsecureRequestWarning: Unverified HTTPS request is being made to host 'encrypted-tbn0.gstatic.com'. Adding certificate verification is strongly advised. See: https://urllib3.readthedocs.io/en/latest/advanced-usage.html#ssl-warnings\n",
      "  warnings.warn(\n"
     ]
    },
    {
     "name": "stdout",
     "output_type": "stream",
     "text": [
      "SUCCESS - saved https://encrypted-tbn0.gstatic.com/images?q=tbn:ANd9GcSCw4qRz9YN8rR0If51qWwzP_VPWyFfchMwdQ&usqp=CAU - as ./images\\waffles\\7623900ee8.jpg\n"
     ]
    },
    {
     "name": "stderr",
     "output_type": "stream",
     "text": [
      "C:\\Users\\mandeep.singh\\Anaconda3\\lib\\site-packages\\urllib3\\connectionpool.py:1013: InsecureRequestWarning: Unverified HTTPS request is being made to host 'encrypted-tbn0.gstatic.com'. Adding certificate verification is strongly advised. See: https://urllib3.readthedocs.io/en/latest/advanced-usage.html#ssl-warnings\n",
      "  warnings.warn(\n",
      "C:\\Users\\mandeep.singh\\Anaconda3\\lib\\site-packages\\urllib3\\connectionpool.py:1013: InsecureRequestWarning: Unverified HTTPS request is being made to host 'encrypted-tbn0.gstatic.com'. Adding certificate verification is strongly advised. See: https://urllib3.readthedocs.io/en/latest/advanced-usage.html#ssl-warnings\n",
      "  warnings.warn(\n"
     ]
    },
    {
     "name": "stdout",
     "output_type": "stream",
     "text": [
      "SUCCESS - saved https://encrypted-tbn0.gstatic.com/images?q=tbn:ANd9GcRfdvbZR3e1kWcFmEsPBBYf1y9zO4lXcGLbMg&usqp=CAU - as ./images\\waffles\\0ffa2ae1b9.jpg\n",
      "SUCCESS - saved https://encrypted-tbn0.gstatic.com/images?q=tbn:ANd9GcRu3Le_U6zQgiZBWffqx5BGfvtkYTqMdgsHmg&usqp=CAU - as ./images\\waffles\\48b67f0821.jpg\n"
     ]
    },
    {
     "name": "stderr",
     "output_type": "stream",
     "text": [
      "C:\\Users\\mandeep.singh\\Anaconda3\\lib\\site-packages\\urllib3\\connectionpool.py:1013: InsecureRequestWarning: Unverified HTTPS request is being made to host 'cdn1.wolfermans.com'. Adding certificate verification is strongly advised. See: https://urllib3.readthedocs.io/en/latest/advanced-usage.html#ssl-warnings\n",
      "  warnings.warn(\n"
     ]
    },
    {
     "name": "stdout",
     "output_type": "stream",
     "text": [
      "SUCCESS - saved https://cdn1.wolfermans.com/wcsstore/Wolfermans/images/catalog/20_50686_61w_01ex.jpg - as ./images\\waffles\\5b86500d5a.jpg\n",
      "SUCCESS - saved https://encrypted-tbn0.gstatic.com/images?q=tbn:ANd9GcToYpzvKv1az4ddOJWDORrO7KK5gZ1LjXP1Jg&usqp=CAU - as ./images\\waffles\\684760d4dd.jpg\n"
     ]
    },
    {
     "name": "stderr",
     "output_type": "stream",
     "text": [
      "C:\\Users\\mandeep.singh\\Anaconda3\\lib\\site-packages\\urllib3\\connectionpool.py:1013: InsecureRequestWarning: Unverified HTTPS request is being made to host 'encrypted-tbn0.gstatic.com'. Adding certificate verification is strongly advised. See: https://urllib3.readthedocs.io/en/latest/advanced-usage.html#ssl-warnings\n",
      "  warnings.warn(\n",
      "C:\\Users\\mandeep.singh\\Anaconda3\\lib\\site-packages\\urllib3\\connectionpool.py:1013: InsecureRequestWarning: Unverified HTTPS request is being made to host 'encrypted-tbn0.gstatic.com'. Adding certificate verification is strongly advised. See: https://urllib3.readthedocs.io/en/latest/advanced-usage.html#ssl-warnings\n",
      "  warnings.warn(\n"
     ]
    },
    {
     "name": "stdout",
     "output_type": "stream",
     "text": [
      "SUCCESS - saved https://encrypted-tbn0.gstatic.com/images?q=tbn:ANd9GcSdzvD2SMcPSo-P823eFZ-YaVbtzMVKVbzTLA&usqp=CAU - as ./images\\waffles\\463abdfde0.jpg\n"
     ]
    },
    {
     "name": "stderr",
     "output_type": "stream",
     "text": [
      "C:\\Users\\mandeep.singh\\Anaconda3\\lib\\site-packages\\urllib3\\connectionpool.py:1013: InsecureRequestWarning: Unverified HTTPS request is being made to host 'hips.hearstapps.com'. Adding certificate verification is strongly advised. See: https://urllib3.readthedocs.io/en/latest/advanced-usage.html#ssl-warnings\n",
      "  warnings.warn(\n"
     ]
    },
    {
     "name": "stdout",
     "output_type": "stream",
     "text": [
      "SUCCESS - saved https://hips.hearstapps.com/vidthumb/images/delish-waffles-1-1531520612.jpg - as ./images\\waffles\\02bdb7727a.jpg\n"
     ]
    },
    {
     "name": "stderr",
     "output_type": "stream",
     "text": [
      "C:\\Users\\mandeep.singh\\Anaconda3\\lib\\site-packages\\urllib3\\connectionpool.py:1013: InsecureRequestWarning: Unverified HTTPS request is being made to host 'www.wearegurgaon.com'. Adding certificate verification is strongly advised. See: https://urllib3.readthedocs.io/en/latest/advanced-usage.html#ssl-warnings\n",
      "  warnings.warn(\n"
     ]
    },
    {
     "name": "stdout",
     "output_type": "stream",
     "text": [
      "SUCCESS - saved https://www.wearegurgaon.com/wp-content/uploads/2017/12/best-waffles-in-gurgaon-4.jpg - as ./images\\waffles\\5b95b94d03.jpg\n"
     ]
    },
    {
     "name": "stderr",
     "output_type": "stream",
     "text": [
      "C:\\Users\\mandeep.singh\\Anaconda3\\lib\\site-packages\\urllib3\\connectionpool.py:1013: InsecureRequestWarning: Unverified HTTPS request is being made to host 'encrypted-tbn0.gstatic.com'. Adding certificate verification is strongly advised. See: https://urllib3.readthedocs.io/en/latest/advanced-usage.html#ssl-warnings\n",
      "  warnings.warn(\n"
     ]
    },
    {
     "name": "stdout",
     "output_type": "stream",
     "text": [
      "SUCCESS - saved https://encrypted-tbn0.gstatic.com/images?q=tbn:ANd9GcRaYBBauLVDtn8pOmgDzB1iIqMP60MsF5u0JQ&usqp=CAU - as ./images\\waffles\\2cc985266a.jpg\n"
     ]
    },
    {
     "name": "stderr",
     "output_type": "stream",
     "text": [
      "C:\\Users\\mandeep.singh\\Anaconda3\\lib\\site-packages\\urllib3\\connectionpool.py:1013: InsecureRequestWarning: Unverified HTTPS request is being made to host 'encrypted-tbn0.gstatic.com'. Adding certificate verification is strongly advised. See: https://urllib3.readthedocs.io/en/latest/advanced-usage.html#ssl-warnings\n",
      "  warnings.warn(\n"
     ]
    },
    {
     "name": "stdout",
     "output_type": "stream",
     "text": [
      "SUCCESS - saved https://encrypted-tbn0.gstatic.com/images?q=tbn:ANd9GcR63_W4YVsQcy3BQGnZyZWfrKALvzMMcgtPXQ&usqp=CAU - as ./images\\waffles\\aca5f87769.jpg\n"
     ]
    },
    {
     "name": "stderr",
     "output_type": "stream",
     "text": [
      "C:\\Users\\mandeep.singh\\Anaconda3\\lib\\site-packages\\urllib3\\connectionpool.py:1013: InsecureRequestWarning: Unverified HTTPS request is being made to host 'encrypted-tbn0.gstatic.com'. Adding certificate verification is strongly advised. See: https://urllib3.readthedocs.io/en/latest/advanced-usage.html#ssl-warnings\n",
      "  warnings.warn(\n"
     ]
    },
    {
     "name": "stdout",
     "output_type": "stream",
     "text": [
      "SUCCESS - saved https://encrypted-tbn0.gstatic.com/images?q=tbn:ANd9GcR2F2WeC_R0AyASKbeDfbaMAvZdlAiiPAZknQ&usqp=CAU - as ./images\\waffles\\4d5f5557ef.jpg\n"
     ]
    },
    {
     "name": "stderr",
     "output_type": "stream",
     "text": [
      "C:\\Users\\mandeep.singh\\Anaconda3\\lib\\site-packages\\urllib3\\connectionpool.py:1013: InsecureRequestWarning: Unverified HTTPS request is being made to host 'encrypted-tbn0.gstatic.com'. Adding certificate verification is strongly advised. See: https://urllib3.readthedocs.io/en/latest/advanced-usage.html#ssl-warnings\n",
      "  warnings.warn(\n",
      "C:\\Users\\mandeep.singh\\Anaconda3\\lib\\site-packages\\urllib3\\connectionpool.py:1013: InsecureRequestWarning: Unverified HTTPS request is being made to host 'encrypted-tbn0.gstatic.com'. Adding certificate verification is strongly advised. See: https://urllib3.readthedocs.io/en/latest/advanced-usage.html#ssl-warnings\n",
      "  warnings.warn(\n"
     ]
    },
    {
     "name": "stdout",
     "output_type": "stream",
     "text": [
      "SUCCESS - saved https://encrypted-tbn0.gstatic.com/images?q=tbn:ANd9GcThq2Xb-VAhdVrQccMWBcazEQKK61d73pCSVA&usqp=CAU - as ./images\\waffles\\a82fcc575c.jpg\n",
      "SUCCESS - saved https://encrypted-tbn0.gstatic.com/images?q=tbn:ANd9GcRbBe2UtzuQuQyjJMwW1F7G31PMM4a3lSRm2Q&usqp=CAU - as ./images\\waffles\\10863eeb15.jpg\n"
     ]
    },
    {
     "name": "stderr",
     "output_type": "stream",
     "text": [
      "C:\\Users\\mandeep.singh\\Anaconda3\\lib\\site-packages\\urllib3\\connectionpool.py:1013: InsecureRequestWarning: Unverified HTTPS request is being made to host 'imagesvc.meredithcorp.io'. Adding certificate verification is strongly advised. See: https://urllib3.readthedocs.io/en/latest/advanced-usage.html#ssl-warnings\n",
      "  warnings.warn(\n"
     ]
    },
    {
     "name": "stdout",
     "output_type": "stream",
     "text": [
      "SUCCESS - saved https://imagesvc.meredithcorp.io/v3/mm/image?q=85&c=sc&poi=face&w=650&h=325&url=https%3A%2F%2Fstatic.onecms.io%2Fwp-content%2Fuploads%2Fsites%2F43%2F2017%2F03%2F3875444_-waffles-sanzoe.jpg - as ./images\\waffles\\26301d7d7d.jpg\n"
     ]
    },
    {
     "name": "stderr",
     "output_type": "stream",
     "text": [
      "C:\\Users\\mandeep.singh\\Anaconda3\\lib\\site-packages\\urllib3\\connectionpool.py:1013: InsecureRequestWarning: Unverified HTTPS request is being made to host 'www.biggerbolderbaking.com'. Adding certificate verification is strongly advised. See: https://urllib3.readthedocs.io/en/latest/advanced-usage.html#ssl-warnings\n",
      "  warnings.warn(\n"
     ]
    },
    {
     "name": "stdout",
     "output_type": "stream",
     "text": [
      "SUCCESS - saved https://www.biggerbolderbaking.com/wp-content/uploads/2018/08/Buttermilk-Waffles-Thumbnail-500x500.png - as ./images\\waffles\\fafb6faf44.jpg\n"
     ]
    },
    {
     "name": "stderr",
     "output_type": "stream",
     "text": [
      "C:\\Users\\mandeep.singh\\Anaconda3\\lib\\site-packages\\urllib3\\connectionpool.py:1013: InsecureRequestWarning: Unverified HTTPS request is being made to host 'encrypted-tbn0.gstatic.com'. Adding certificate verification is strongly advised. See: https://urllib3.readthedocs.io/en/latest/advanced-usage.html#ssl-warnings\n",
      "  warnings.warn(\n"
     ]
    },
    {
     "name": "stdout",
     "output_type": "stream",
     "text": [
      "SUCCESS - saved https://encrypted-tbn0.gstatic.com/images?q=tbn:ANd9GcSguJS17WAMF9R65_rpO1UqJDitBi7l1rbKLg&usqp=CAU - as ./images\\waffles\\5c45301b73.jpg\n",
      "SUCCESS - saved https://encrypted-tbn0.gstatic.com/images?q=tbn:ANd9GcTLyYHdIoer9DEwp0XMJg2nhNrFIO4gMLZE9Q&usqp=CAU - as ./images\\waffles\\bee9314850.jpg\n"
     ]
    },
    {
     "name": "stderr",
     "output_type": "stream",
     "text": [
      "C:\\Users\\mandeep.singh\\Anaconda3\\lib\\site-packages\\urllib3\\connectionpool.py:1013: InsecureRequestWarning: Unverified HTTPS request is being made to host 'encrypted-tbn0.gstatic.com'. Adding certificate verification is strongly advised. See: https://urllib3.readthedocs.io/en/latest/advanced-usage.html#ssl-warnings\n",
      "  warnings.warn(\n",
      "C:\\Users\\mandeep.singh\\Anaconda3\\lib\\site-packages\\urllib3\\connectionpool.py:1013: InsecureRequestWarning: Unverified HTTPS request is being made to host 'encrypted-tbn0.gstatic.com'. Adding certificate verification is strongly advised. See: https://urllib3.readthedocs.io/en/latest/advanced-usage.html#ssl-warnings\n",
      "  warnings.warn(\n"
     ]
    },
    {
     "name": "stdout",
     "output_type": "stream",
     "text": [
      "SUCCESS - saved https://encrypted-tbn0.gstatic.com/images?q=tbn:ANd9GcS74BDMyrIcEYA_LZohohB8YqTdpLn1kmSNjA&usqp=CAU - as ./images\\waffles\\6a0a2f5474.jpg\n"
     ]
    },
    {
     "name": "stderr",
     "output_type": "stream",
     "text": [
      "C:\\Users\\mandeep.singh\\Anaconda3\\lib\\site-packages\\urllib3\\connectionpool.py:1013: InsecureRequestWarning: Unverified HTTPS request is being made to host 'encrypted-tbn0.gstatic.com'. Adding certificate verification is strongly advised. See: https://urllib3.readthedocs.io/en/latest/advanced-usage.html#ssl-warnings\n",
      "  warnings.warn(\n"
     ]
    },
    {
     "name": "stdout",
     "output_type": "stream",
     "text": [
      "SUCCESS - saved https://encrypted-tbn0.gstatic.com/images?q=tbn:ANd9GcQIVRn-XwGb7_LQbETpzpcGAq1i4yUBAcT4PQ&usqp=CAU - as ./images\\waffles\\299fc4a076.jpg\n"
     ]
    },
    {
     "name": "stderr",
     "output_type": "stream",
     "text": [
      "C:\\Users\\mandeep.singh\\Anaconda3\\lib\\site-packages\\urllib3\\connectionpool.py:1013: InsecureRequestWarning: Unverified HTTPS request is being made to host 'res.cloudinary.com'. Adding certificate verification is strongly advised. See: https://urllib3.readthedocs.io/en/latest/advanced-usage.html#ssl-warnings\n",
      "  warnings.warn(\n"
     ]
    },
    {
     "name": "stdout",
     "output_type": "stream",
     "text": [
      "SUCCESS - saved https://res.cloudinary.com/purnesh/image/upload/w_540,f_auto/8-best-places-for-waffles-in-gurgaon.jpg - as ./images\\waffles\\ae6a94421f.jpg\n",
      "SUCCESS - saved https://encrypted-tbn0.gstatic.com/images?q=tbn:ANd9GcSAJ8jm1GMgxTpi3pw-9UPraLUWPcElBJhkww&usqp=CAU - as ./images\\waffles\\154066e146.jpg\n"
     ]
    },
    {
     "name": "stderr",
     "output_type": "stream",
     "text": [
      "C:\\Users\\mandeep.singh\\Anaconda3\\lib\\site-packages\\urllib3\\connectionpool.py:1013: InsecureRequestWarning: Unverified HTTPS request is being made to host 'encrypted-tbn0.gstatic.com'. Adding certificate verification is strongly advised. See: https://urllib3.readthedocs.io/en/latest/advanced-usage.html#ssl-warnings\n",
      "  warnings.warn(\n",
      "C:\\Users\\mandeep.singh\\Anaconda3\\lib\\site-packages\\urllib3\\connectionpool.py:1013: InsecureRequestWarning: Unverified HTTPS request is being made to host 'encrypted-tbn0.gstatic.com'. Adding certificate verification is strongly advised. See: https://urllib3.readthedocs.io/en/latest/advanced-usage.html#ssl-warnings\n",
      "  warnings.warn(\n"
     ]
    },
    {
     "name": "stdout",
     "output_type": "stream",
     "text": [
      "SUCCESS - saved https://encrypted-tbn0.gstatic.com/images?q=tbn:ANd9GcQmf5Hv5URLjh4CGa3mJn37I7mL4-ENdEHO3w&usqp=CAU - as ./images\\waffles\\8304b196f6.jpg\n",
      "SUCCESS - saved https://encrypted-tbn0.gstatic.com/images?q=tbn:ANd9GcQBTjyvzjaiG_Q4yCFN2UuF1wYYBPpp0Sn3Yg&usqp=CAU - as ./images\\waffles\\9c475e1f1f.jpg\n"
     ]
    },
    {
     "name": "stderr",
     "output_type": "stream",
     "text": [
      "C:\\Users\\mandeep.singh\\Anaconda3\\lib\\site-packages\\urllib3\\connectionpool.py:1013: InsecureRequestWarning: Unverified HTTPS request is being made to host 'encrypted-tbn0.gstatic.com'. Adding certificate verification is strongly advised. See: https://urllib3.readthedocs.io/en/latest/advanced-usage.html#ssl-warnings\n",
      "  warnings.warn(\n",
      "C:\\Users\\mandeep.singh\\Anaconda3\\lib\\site-packages\\urllib3\\connectionpool.py:1013: InsecureRequestWarning: Unverified HTTPS request is being made to host 'encrypted-tbn0.gstatic.com'. Adding certificate verification is strongly advised. See: https://urllib3.readthedocs.io/en/latest/advanced-usage.html#ssl-warnings\n",
      "  warnings.warn(\n"
     ]
    },
    {
     "name": "stdout",
     "output_type": "stream",
     "text": [
      "SUCCESS - saved https://encrypted-tbn0.gstatic.com/images?q=tbn:ANd9GcRqX5aPDqj0hRVnm-vY4sK6rS1YFJwxoeA7bA&usqp=CAU - as ./images\\waffles\\32b01f2e75.jpg\n",
      "SUCCESS - saved https://encrypted-tbn0.gstatic.com/images?q=tbn:ANd9GcQaAblaaM19Krl8T5BnVJlkJf3kQ0QNmN2QGQ&usqp=CAU - as ./images\\waffles\\bdeaa15301.jpg\n"
     ]
    },
    {
     "name": "stderr",
     "output_type": "stream",
     "text": [
      "C:\\Users\\mandeep.singh\\Anaconda3\\lib\\site-packages\\urllib3\\connectionpool.py:1013: InsecureRequestWarning: Unverified HTTPS request is being made to host 'encrypted-tbn0.gstatic.com'. Adding certificate verification is strongly advised. See: https://urllib3.readthedocs.io/en/latest/advanced-usage.html#ssl-warnings\n",
      "  warnings.warn(\n",
      "C:\\Users\\mandeep.singh\\Anaconda3\\lib\\site-packages\\urllib3\\connectionpool.py:1013: InsecureRequestWarning: Unverified HTTPS request is being made to host 'hips.hearstapps.com'. Adding certificate verification is strongly advised. See: https://urllib3.readthedocs.io/en/latest/advanced-usage.html#ssl-warnings\n",
      "  warnings.warn(\n",
      "C:\\Users\\mandeep.singh\\Anaconda3\\lib\\site-packages\\urllib3\\connectionpool.py:1013: InsecureRequestWarning: Unverified HTTPS request is being made to host 'encrypted-tbn0.gstatic.com'. Adding certificate verification is strongly advised. See: https://urllib3.readthedocs.io/en/latest/advanced-usage.html#ssl-warnings\n",
      "  warnings.warn(\n"
     ]
    },
    {
     "name": "stdout",
     "output_type": "stream",
     "text": [
      "SUCCESS - saved https://hips.hearstapps.com/del.h-cdn.co/assets/17/06/2048x1024/landscape-1486585322-jg-delish-waffles-0023.jpg?resize=480:* - as ./images\\waffles\\aec8aabfe3.jpg\n",
      "SUCCESS - saved https://encrypted-tbn0.gstatic.com/images?q=tbn:ANd9GcRaIY0U5m_SUQk6Oxco7iCCRHYw4iE0mx5cGw&usqp=CAU - as ./images\\waffles\\3ce5d1e3ee.jpg\n"
     ]
    },
    {
     "name": "stderr",
     "output_type": "stream",
     "text": [
      "C:\\Users\\mandeep.singh\\Anaconda3\\lib\\site-packages\\urllib3\\connectionpool.py:1013: InsecureRequestWarning: Unverified HTTPS request is being made to host 'cdnimg.webstaurantstore.com'. Adding certificate verification is strongly advised. See: https://urllib3.readthedocs.io/en/latest/advanced-usage.html#ssl-warnings\n",
      "  warnings.warn(\n"
     ]
    },
    {
     "name": "stdout",
     "output_type": "stream",
     "text": [
      "SUCCESS - saved https://cdnimg.webstaurantstore.com/images/guides/687/buyingguide_waffle_med.jpg - as ./images\\waffles\\bc1482bbeb.jpg\n"
     ]
    },
    {
     "name": "stderr",
     "output_type": "stream",
     "text": [
      "C:\\Users\\mandeep.singh\\Anaconda3\\lib\\site-packages\\urllib3\\connectionpool.py:1013: InsecureRequestWarning: Unverified HTTPS request is being made to host 'www.shugarysweets.com'. Adding certificate verification is strongly advised. See: https://urllib3.readthedocs.io/en/latest/advanced-usage.html#ssl-warnings\n",
      "  warnings.warn(\n"
     ]
    },
    {
     "name": "stdout",
     "output_type": "stream",
     "text": [
      "SUCCESS - saved https://www.shugarysweets.com/wp-content/uploads/2020/04/classic-waffles-3-480x360.jpg - as ./images\\waffles\\4c98d56166.jpg\n"
     ]
    },
    {
     "name": "stderr",
     "output_type": "stream",
     "text": [
      "C:\\Users\\mandeep.singh\\Anaconda3\\lib\\site-packages\\urllib3\\connectionpool.py:1013: InsecureRequestWarning: Unverified HTTPS request is being made to host 'www.simplyrecipes.com'. Adding certificate verification is strongly advised. See: https://urllib3.readthedocs.io/en/latest/advanced-usage.html#ssl-warnings\n",
      "  warnings.warn(\n"
     ]
    },
    {
     "name": "stdout",
     "output_type": "stream",
     "text": [
      "SUCCESS - saved https://www.simplyrecipes.com/thmb/DKohcsp0EvdWjTX4-RpL1EidyYw=/1779x1334/smart/filters:no_upscale()/__opt__aboutcom__coeus__resources__content_migration__simply_recipes__uploads__2019__04__Yeasted-Belgian-Waffles-LEAD-02-fecf1dd4b6fc4714b96ff89a0e6ef81f.jpg - as ./images\\waffles\\7cd1bd474f.jpg\n"
     ]
    },
    {
     "name": "stderr",
     "output_type": "stream",
     "text": [
      "C:\\Users\\mandeep.singh\\Anaconda3\\lib\\site-packages\\urllib3\\connectionpool.py:1013: InsecureRequestWarning: Unverified HTTPS request is being made to host 'encrypted-tbn0.gstatic.com'. Adding certificate verification is strongly advised. See: https://urllib3.readthedocs.io/en/latest/advanced-usage.html#ssl-warnings\n",
      "  warnings.warn(\n"
     ]
    },
    {
     "name": "stdout",
     "output_type": "stream",
     "text": [
      "SUCCESS - saved https://encrypted-tbn0.gstatic.com/images?q=tbn:ANd9GcRYRPkIG3LsaOQeHrDOCTZEHE-FvWlnFV9PuA&usqp=CAU - as ./images\\waffles\\1dfe162dee.jpg\n"
     ]
    },
    {
     "name": "stderr",
     "output_type": "stream",
     "text": [
      "C:\\Users\\mandeep.singh\\Anaconda3\\lib\\site-packages\\urllib3\\connectionpool.py:1013: InsecureRequestWarning: Unverified HTTPS request is being made to host 'encrypted-tbn0.gstatic.com'. Adding certificate verification is strongly advised. See: https://urllib3.readthedocs.io/en/latest/advanced-usage.html#ssl-warnings\n",
      "  warnings.warn(\n"
     ]
    },
    {
     "name": "stdout",
     "output_type": "stream",
     "text": [
      "SUCCESS - saved https://encrypted-tbn0.gstatic.com/images?q=tbn:ANd9GcSMxMT4Sh89l2ZAIGlBgqjmS0hWc54ywz0I7Q&usqp=CAU - as ./images\\waffles\\7b4d3d6e2e.jpg\n"
     ]
    },
    {
     "name": "stderr",
     "output_type": "stream",
     "text": [
      "C:\\Users\\mandeep.singh\\Anaconda3\\lib\\site-packages\\urllib3\\connectionpool.py:1013: InsecureRequestWarning: Unverified HTTPS request is being made to host 'static.toiimg.com'. Adding certificate verification is strongly advised. See: https://urllib3.readthedocs.io/en/latest/advanced-usage.html#ssl-warnings\n",
      "  warnings.warn(\n"
     ]
    },
    {
     "name": "stdout",
     "output_type": "stream",
     "text": [
      "SUCCESS - saved https://static.toiimg.com/thumb/53555230.cms?imgsize=498901&width=800&height=800 - as ./images\\waffles\\1c9598ba2f.jpg\n"
     ]
    },
    {
     "name": "stderr",
     "output_type": "stream",
     "text": [
      "C:\\Users\\mandeep.singh\\Anaconda3\\lib\\site-packages\\urllib3\\connectionpool.py:1013: InsecureRequestWarning: Unverified HTTPS request is being made to host 'ca-times.brightspotcdn.com'. Adding certificate verification is strongly advised. See: https://urllib3.readthedocs.io/en/latest/advanced-usage.html#ssl-warnings\n",
      "  warnings.warn(\n"
     ]
    },
    {
     "name": "stdout",
     "output_type": "stream",
     "text": [
      "SUCCESS - saved https://ca-times.brightspotcdn.com/dims4/default/822b6dc/2147483647/strip/true/crop/2400x1499+0+151/resize/1044x652!/quality/90/?url=https%3A%2F%2Fcalifornia-times-brightspot.s3.amazonaws.com%2F4a%2F03%2Fc8daf3f346af8b5fb8b6d89e6cc0%2Fla-fo-how-to-boil-water-waffles.03.jpg - as ./images\\waffles\\01322c96a9.jpg\n",
      "SUCCESS - saved https://encrypted-tbn0.gstatic.com/images?q=tbn:ANd9GcSm7bbDWuOFC-F_0zhSnBHCa60wpzLdBoZAzA&usqp=CAU - as ./images\\waffles\\34500c52a8.jpg\n"
     ]
    },
    {
     "name": "stderr",
     "output_type": "stream",
     "text": [
      "C:\\Users\\mandeep.singh\\Anaconda3\\lib\\site-packages\\urllib3\\connectionpool.py:1013: InsecureRequestWarning: Unverified HTTPS request is being made to host 'encrypted-tbn0.gstatic.com'. Adding certificate verification is strongly advised. See: https://urllib3.readthedocs.io/en/latest/advanced-usage.html#ssl-warnings\n",
      "  warnings.warn(\n",
      "C:\\Users\\mandeep.singh\\Anaconda3\\lib\\site-packages\\urllib3\\connectionpool.py:1013: InsecureRequestWarning: Unverified HTTPS request is being made to host 'cookieandkate.com'. Adding certificate verification is strongly advised. See: https://urllib3.readthedocs.io/en/latest/advanced-usage.html#ssl-warnings\n",
      "  warnings.warn(\n"
     ]
    },
    {
     "name": "stdout",
     "output_type": "stream",
     "text": [
      "SUCCESS - saved https://cookieandkate.com/images/2014/09/gluten-free-oat-waffles-recipe-2-1.jpg - as ./images\\waffles\\356dd4bfe1.jpg\n"
     ]
    },
    {
     "name": "stderr",
     "output_type": "stream",
     "text": [
      "C:\\Users\\mandeep.singh\\Anaconda3\\lib\\site-packages\\urllib3\\connectionpool.py:1013: InsecureRequestWarning: Unverified HTTPS request is being made to host 'encrypted-tbn0.gstatic.com'. Adding certificate verification is strongly advised. See: https://urllib3.readthedocs.io/en/latest/advanced-usage.html#ssl-warnings\n",
      "  warnings.warn(\n"
     ]
    },
    {
     "name": "stdout",
     "output_type": "stream",
     "text": [
      "SUCCESS - saved https://encrypted-tbn0.gstatic.com/images?q=tbn:ANd9GcSdfOhJt6rvegrXQZaVaRjCk8Iwh_nqEOKnoA&usqp=CAU - as ./images\\waffles\\94394c0493.jpg\n",
      "SUCCESS - saved https://encrypted-tbn0.gstatic.com/images?q=tbn:ANd9GcTscOPxAZExsga9797-AiG2Omvbko5Q1iXMcw&usqp=CAU - as ./images\\waffles\\413df994fe.jpg\n"
     ]
    },
    {
     "name": "stderr",
     "output_type": "stream",
     "text": [
      "C:\\Users\\mandeep.singh\\Anaconda3\\lib\\site-packages\\urllib3\\connectionpool.py:1013: InsecureRequestWarning: Unverified HTTPS request is being made to host 'encrypted-tbn0.gstatic.com'. Adding certificate verification is strongly advised. See: https://urllib3.readthedocs.io/en/latest/advanced-usage.html#ssl-warnings\n",
      "  warnings.warn(\n",
      "C:\\Users\\mandeep.singh\\Anaconda3\\lib\\site-packages\\urllib3\\connectionpool.py:1013: InsecureRequestWarning: Unverified HTTPS request is being made to host 'encrypted-tbn0.gstatic.com'. Adding certificate verification is strongly advised. See: https://urllib3.readthedocs.io/en/latest/advanced-usage.html#ssl-warnings\n",
      "  warnings.warn(\n"
     ]
    },
    {
     "name": "stdout",
     "output_type": "stream",
     "text": [
      "SUCCESS - saved https://encrypted-tbn0.gstatic.com/images?q=tbn:ANd9GcQYX7NKVBM3l6UgSgNf4ba-xsuGaHPlkLwomw&usqp=CAU - as ./images\\waffles\\adb4b47523.jpg\n",
      "SUCCESS - saved https://encrypted-tbn0.gstatic.com/images?q=tbn:ANd9GcReNrNKPvXvidPtkPqwKAk1tIt8t014XVVw7w&usqp=CAU - as ./images\\waffles\\b5833ec9b9.jpg\n"
     ]
    },
    {
     "name": "stderr",
     "output_type": "stream",
     "text": [
      "C:\\Users\\mandeep.singh\\Anaconda3\\lib\\site-packages\\urllib3\\connectionpool.py:1013: InsecureRequestWarning: Unverified HTTPS request is being made to host 'encrypted-tbn0.gstatic.com'. Adding certificate verification is strongly advised. See: https://urllib3.readthedocs.io/en/latest/advanced-usage.html#ssl-warnings\n",
      "  warnings.warn(\n",
      "C:\\Users\\mandeep.singh\\Anaconda3\\lib\\site-packages\\urllib3\\connectionpool.py:1013: InsecureRequestWarning: Unverified HTTPS request is being made to host 'encrypted-tbn0.gstatic.com'. Adding certificate verification is strongly advised. See: https://urllib3.readthedocs.io/en/latest/advanced-usage.html#ssl-warnings\n",
      "  warnings.warn(\n"
     ]
    },
    {
     "name": "stdout",
     "output_type": "stream",
     "text": [
      "SUCCESS - saved https://encrypted-tbn0.gstatic.com/images?q=tbn:ANd9GcSfn1WVJlH2F69x1unTpBPmdbvGuGOHqZc73w&usqp=CAU - as ./images\\waffles\\fd1c680fe4.jpg\n"
     ]
    },
    {
     "name": "stderr",
     "output_type": "stream",
     "text": [
      "C:\\Users\\mandeep.singh\\Anaconda3\\lib\\site-packages\\urllib3\\connectionpool.py:1013: InsecureRequestWarning: Unverified HTTPS request is being made to host 'encrypted-tbn0.gstatic.com'. Adding certificate verification is strongly advised. See: https://urllib3.readthedocs.io/en/latest/advanced-usage.html#ssl-warnings\n",
      "  warnings.warn(\n"
     ]
    },
    {
     "name": "stdout",
     "output_type": "stream",
     "text": [
      "SUCCESS - saved https://encrypted-tbn0.gstatic.com/images?q=tbn:ANd9GcRUR1DkJQqKDu6Ke2FkR5tYCnYWpJeyoeSv0g&usqp=CAU - as ./images\\waffles\\dabdef3669.jpg\n"
     ]
    },
    {
     "name": "stderr",
     "output_type": "stream",
     "text": [
      "C:\\Users\\mandeep.singh\\Anaconda3\\lib\\site-packages\\urllib3\\connectionpool.py:1013: InsecureRequestWarning: Unverified HTTPS request is being made to host 'encrypted-tbn0.gstatic.com'. Adding certificate verification is strongly advised. See: https://urllib3.readthedocs.io/en/latest/advanced-usage.html#ssl-warnings\n",
      "  warnings.warn(\n"
     ]
    },
    {
     "name": "stdout",
     "output_type": "stream",
     "text": [
      "SUCCESS - saved https://encrypted-tbn0.gstatic.com/images?q=tbn:ANd9GcTlQ8a6Lxo0krz6_SdNkAvt7-uiiytfO_eY3A&usqp=CAU - as ./images\\waffles\\b49e226e7a.jpg\n"
     ]
    },
    {
     "name": "stderr",
     "output_type": "stream",
     "text": [
      "C:\\Users\\mandeep.singh\\Anaconda3\\lib\\site-packages\\urllib3\\connectionpool.py:1013: InsecureRequestWarning: Unverified HTTPS request is being made to host 'encrypted-tbn0.gstatic.com'. Adding certificate verification is strongly advised. See: https://urllib3.readthedocs.io/en/latest/advanced-usage.html#ssl-warnings\n",
      "  warnings.warn(\n",
      "C:\\Users\\mandeep.singh\\Anaconda3\\lib\\site-packages\\urllib3\\connectionpool.py:1013: InsecureRequestWarning: Unverified HTTPS request is being made to host 'encrypted-tbn0.gstatic.com'. Adding certificate verification is strongly advised. See: https://urllib3.readthedocs.io/en/latest/advanced-usage.html#ssl-warnings\n",
      "  warnings.warn(\n"
     ]
    },
    {
     "name": "stdout",
     "output_type": "stream",
     "text": [
      "SUCCESS - saved https://encrypted-tbn0.gstatic.com/images?q=tbn:ANd9GcS5wnmmYrHxU7pF5DawwhdFcp5D1NitC-mS8w&usqp=CAU - as ./images\\waffles\\38a1cec3d5.jpg\n",
      "SUCCESS - saved https://encrypted-tbn0.gstatic.com/images?q=tbn:ANd9GcSnaF-PuUfJG9vTjML-qybdvpY2E82n_5WwpQ&usqp=CAU - as ./images\\waffles\\89e567d2df.jpg\n"
     ]
    },
    {
     "name": "stderr",
     "output_type": "stream",
     "text": [
      "C:\\Users\\mandeep.singh\\Anaconda3\\lib\\site-packages\\urllib3\\connectionpool.py:1013: InsecureRequestWarning: Unverified HTTPS request is being made to host 'encrypted-tbn0.gstatic.com'. Adding certificate verification is strongly advised. See: https://urllib3.readthedocs.io/en/latest/advanced-usage.html#ssl-warnings\n",
      "  warnings.warn(\n"
     ]
    },
    {
     "name": "stdout",
     "output_type": "stream",
     "text": [
      "SUCCESS - saved https://encrypted-tbn0.gstatic.com/images?q=tbn:ANd9GcTju4dKsoB6_F_W8EqtGrg4P4cBOGt9RQS6tw&usqp=CAU - as ./images\\waffles\\9798d9a9df.jpg\n"
     ]
    },
    {
     "name": "stderr",
     "output_type": "stream",
     "text": [
      "C:\\Users\\mandeep.singh\\Anaconda3\\lib\\site-packages\\urllib3\\connectionpool.py:1013: InsecureRequestWarning: Unverified HTTPS request is being made to host 'encrypted-tbn0.gstatic.com'. Adding certificate verification is strongly advised. See: https://urllib3.readthedocs.io/en/latest/advanced-usage.html#ssl-warnings\n",
      "  warnings.warn(\n"
     ]
    },
    {
     "name": "stdout",
     "output_type": "stream",
     "text": [
      "SUCCESS - saved https://encrypted-tbn0.gstatic.com/images?q=tbn:ANd9GcTgPsS1h-x6qnXryTAqPyNgzvB-FfhVAkj95A&usqp=CAU - as ./images\\waffles\\0bf3acd932.jpg\n",
      "SUCCESS - saved https://encrypted-tbn0.gstatic.com/images?q=tbn:ANd9GcReAkRUlAn9_sIs9mCL8YVJgYhfX_R3qf6quA&usqp=CAU - as ./images\\waffles\\89aa8df235.jpg\n"
     ]
    },
    {
     "name": "stderr",
     "output_type": "stream",
     "text": [
      "C:\\Users\\mandeep.singh\\Anaconda3\\lib\\site-packages\\urllib3\\connectionpool.py:1013: InsecureRequestWarning: Unverified HTTPS request is being made to host 'encrypted-tbn0.gstatic.com'. Adding certificate verification is strongly advised. See: https://urllib3.readthedocs.io/en/latest/advanced-usage.html#ssl-warnings\n",
      "  warnings.warn(\n",
      "C:\\Users\\mandeep.singh\\Anaconda3\\lib\\site-packages\\urllib3\\connectionpool.py:1013: InsecureRequestWarning: Unverified HTTPS request is being made to host 'encrypted-tbn0.gstatic.com'. Adding certificate verification is strongly advised. See: https://urllib3.readthedocs.io/en/latest/advanced-usage.html#ssl-warnings\n",
      "  warnings.warn(\n"
     ]
    },
    {
     "name": "stdout",
     "output_type": "stream",
     "text": [
      "SUCCESS - saved https://encrypted-tbn0.gstatic.com/images?q=tbn:ANd9GcTdeHKL6-JTorr3AxEwoi2IzXAvPaBTmiuaJw&usqp=CAU - as ./images\\waffles\\a92dce16b1.jpg\n"
     ]
    },
    {
     "name": "stderr",
     "output_type": "stream",
     "text": [
      "C:\\Users\\mandeep.singh\\Anaconda3\\lib\\site-packages\\urllib3\\connectionpool.py:1013: InsecureRequestWarning: Unverified HTTPS request is being made to host 'www.wearegurgaon.com'. Adding certificate verification is strongly advised. See: https://urllib3.readthedocs.io/en/latest/advanced-usage.html#ssl-warnings\n",
      "  warnings.warn(\n"
     ]
    },
    {
     "name": "stdout",
     "output_type": "stream",
     "text": [
      "SUCCESS - saved https://www.wearegurgaon.com//wp-content/uploads/2017/12/waffles-am-pm-cafe-bar-gurgaon.jpg - as ./images\\waffles\\03958a5eff.jpg\n",
      "SUCCESS - saved https://encrypted-tbn0.gstatic.com/images?q=tbn:ANd9GcThp22wrClAxcScmHpp1i48JSRMcoNPOV9YzQ&usqp=CAU - as ./images\\waffles\\4ca228a741.jpg\n"
     ]
    },
    {
     "name": "stderr",
     "output_type": "stream",
     "text": [
      "C:\\Users\\mandeep.singh\\Anaconda3\\lib\\site-packages\\urllib3\\connectionpool.py:1013: InsecureRequestWarning: Unverified HTTPS request is being made to host 'encrypted-tbn0.gstatic.com'. Adding certificate verification is strongly advised. See: https://urllib3.readthedocs.io/en/latest/advanced-usage.html#ssl-warnings\n",
      "  warnings.warn(\n",
      "C:\\Users\\mandeep.singh\\Anaconda3\\lib\\site-packages\\urllib3\\connectionpool.py:1013: InsecureRequestWarning: Unverified HTTPS request is being made to host 'imagesvc.meredithcorp.io'. Adding certificate verification is strongly advised. See: https://urllib3.readthedocs.io/en/latest/advanced-usage.html#ssl-warnings\n",
      "  warnings.warn(\n"
     ]
    },
    {
     "name": "stdout",
     "output_type": "stream",
     "text": [
      "SUCCESS - saved https://imagesvc.meredithcorp.io/v3/jumpstartpure/image?url=https://assets.marthastewart.com/d34/homemade_belgian_buttermilk_waffle/homemade_belgian_buttermilk_waffle_horiz.jpg&w=1280&h=720&q=90&c=cc - as ./images\\waffles\\9594848151.jpg\n"
     ]
    },
    {
     "name": "stderr",
     "output_type": "stream",
     "text": [
      "C:\\Users\\mandeep.singh\\Anaconda3\\lib\\site-packages\\urllib3\\connectionpool.py:1013: InsecureRequestWarning: Unverified HTTPS request is being made to host 'food.fnr.sndimg.com'. Adding certificate verification is strongly advised. See: https://urllib3.readthedocs.io/en/latest/advanced-usage.html#ssl-warnings\n",
      "  warnings.warn(\n",
      "C:\\Users\\mandeep.singh\\Anaconda3\\lib\\site-packages\\urllib3\\connectionpool.py:1013: InsecureRequestWarning: Unverified HTTPS request is being made to host 'encrypted-tbn0.gstatic.com'. Adding certificate verification is strongly advised. See: https://urllib3.readthedocs.io/en/latest/advanced-usage.html#ssl-warnings\n",
      "  warnings.warn(\n"
     ]
    },
    {
     "name": "stdout",
     "output_type": "stream",
     "text": [
      "SUCCESS - saved https://food.fnr.sndimg.com/content/dam/images/food/fullset/2019/9/9/0/FNK_the-best-buttermilk-waffles_H.JPG.rend.hgtvcom.616.462.suffix/1568145463670.jpeg - as ./images\\waffles\\b24e260a48.jpg\n",
      "SUCCESS - saved https://encrypted-tbn0.gstatic.com/images?q=tbn:ANd9GcQNttNEm_G2NwiBBCMeVhjpOs6Lo2CbYMy97g&usqp=CAU - as ./images\\waffles\\307e058e00.jpg\n"
     ]
    },
    {
     "name": "stderr",
     "output_type": "stream",
     "text": [
      "C:\\Users\\mandeep.singh\\Anaconda3\\lib\\site-packages\\urllib3\\connectionpool.py:1013: InsecureRequestWarning: Unverified HTTPS request is being made to host 'encrypted-tbn0.gstatic.com'. Adding certificate verification is strongly advised. See: https://urllib3.readthedocs.io/en/latest/advanced-usage.html#ssl-warnings\n",
      "  warnings.warn(\n"
     ]
    },
    {
     "name": "stdout",
     "output_type": "stream",
     "text": [
      "SUCCESS - saved https://encrypted-tbn0.gstatic.com/images?q=tbn:ANd9GcSRpnIR3hLVcKpCNkeXWmR7C8tIwfXnZSTf9w&usqp=CAU - as ./images\\waffles\\8c233dd382.jpg\n"
     ]
    },
    {
     "name": "stderr",
     "output_type": "stream",
     "text": [
      "C:\\Users\\mandeep.singh\\Anaconda3\\lib\\site-packages\\urllib3\\connectionpool.py:1013: InsecureRequestWarning: Unverified HTTPS request is being made to host 'hips.hearstapps.com'. Adding certificate verification is strongly advised. See: https://urllib3.readthedocs.io/en/latest/advanced-usage.html#ssl-warnings\n",
      "  warnings.warn(\n"
     ]
    },
    {
     "name": "stdout",
     "output_type": "stream",
     "text": [
      "SUCCESS - saved https://hips.hearstapps.com/hmg-prod.s3.amazonaws.com/images/210106-delish-cover-chicken-n-waffles-19189-eb-1614276508.jpg - as ./images\\waffles\\73c79a112c.jpg\n"
     ]
    },
    {
     "name": "stderr",
     "output_type": "stream",
     "text": [
      "C:\\Users\\mandeep.singh\\Anaconda3\\lib\\site-packages\\urllib3\\connectionpool.py:1013: InsecureRequestWarning: Unverified HTTPS request is being made to host 'i.ytimg.com'. Adding certificate verification is strongly advised. See: https://urllib3.readthedocs.io/en/latest/advanced-usage.html#ssl-warnings\n",
      "  warnings.warn(\n"
     ]
    },
    {
     "name": "stdout",
     "output_type": "stream",
     "text": [
      "SUCCESS - saved https://i.ytimg.com/vi/0g-h-HEQg-s/maxresdefault.jpg - as ./images\\waffles\\1d7d55ab91.jpg\n",
      "SUCCESS - saved https://encrypted-tbn0.gstatic.com/images?q=tbn:ANd9GcShwixBB8WOF8kw0cnL3in86IjuDdh_shch_g&usqp=CAU - as ./images\\waffles\\aa70f831ff.jpg\n"
     ]
    },
    {
     "name": "stderr",
     "output_type": "stream",
     "text": [
      "C:\\Users\\mandeep.singh\\Anaconda3\\lib\\site-packages\\urllib3\\connectionpool.py:1013: InsecureRequestWarning: Unverified HTTPS request is being made to host 'encrypted-tbn0.gstatic.com'. Adding certificate verification is strongly advised. See: https://urllib3.readthedocs.io/en/latest/advanced-usage.html#ssl-warnings\n",
      "  warnings.warn(\n",
      "C:\\Users\\mandeep.singh\\Anaconda3\\lib\\site-packages\\urllib3\\connectionpool.py:1013: InsecureRequestWarning: Unverified HTTPS request is being made to host 'encrypted-tbn0.gstatic.com'. Adding certificate verification is strongly advised. See: https://urllib3.readthedocs.io/en/latest/advanced-usage.html#ssl-warnings\n",
      "  warnings.warn(\n",
      "C:\\Users\\mandeep.singh\\Anaconda3\\lib\\site-packages\\urllib3\\connectionpool.py:1013: InsecureRequestWarning: Unverified HTTPS request is being made to host 'encrypted-tbn0.gstatic.com'. Adding certificate verification is strongly advised. See: https://urllib3.readthedocs.io/en/latest/advanced-usage.html#ssl-warnings\n",
      "  warnings.warn(\n"
     ]
    },
    {
     "name": "stdout",
     "output_type": "stream",
     "text": [
      "SUCCESS - saved https://encrypted-tbn0.gstatic.com/images?q=tbn:ANd9GcRuPrKvEZeYPBVYdpapTfYVR3u69Dp1qpSMFw&usqp=CAU - as ./images\\waffles\\7d0c23683c.jpg\n",
      "SUCCESS - saved https://encrypted-tbn0.gstatic.com/images?q=tbn:ANd9GcRvdDK1qmfLmkZpFUrV2Cno9cAkTLCvdx5yHw&usqp=CAU - as ./images\\waffles\\9985a0f00b.jpg\n"
     ]
    },
    {
     "name": "stderr",
     "output_type": "stream",
     "text": [
      "C:\\Users\\mandeep.singh\\Anaconda3\\lib\\site-packages\\urllib3\\connectionpool.py:1013: InsecureRequestWarning: Unverified HTTPS request is being made to host 'encrypted-tbn0.gstatic.com'. Adding certificate verification is strongly advised. See: https://urllib3.readthedocs.io/en/latest/advanced-usage.html#ssl-warnings\n",
      "  warnings.warn(\n",
      "C:\\Users\\mandeep.singh\\Anaconda3\\lib\\site-packages\\urllib3\\connectionpool.py:1013: InsecureRequestWarning: Unverified HTTPS request is being made to host 'encrypted-tbn0.gstatic.com'. Adding certificate verification is strongly advised. See: https://urllib3.readthedocs.io/en/latest/advanced-usage.html#ssl-warnings\n",
      "  warnings.warn(\n"
     ]
    },
    {
     "name": "stdout",
     "output_type": "stream",
     "text": [
      "SUCCESS - saved https://encrypted-tbn0.gstatic.com/images?q=tbn:ANd9GcQ7l3NW4weJopvLapd6_5DMjUWPzSrh57lfGw&usqp=CAU - as ./images\\waffles\\29040e1639.jpg\n",
      "SUCCESS - saved https://encrypted-tbn0.gstatic.com/images?q=tbn:ANd9GcSTzLWg3sWUNZELtrMTttEEbVW3tht1GV3pWw&usqp=CAU - as ./images\\waffles\\92779a6ba6.jpg\n"
     ]
    },
    {
     "name": "stderr",
     "output_type": "stream",
     "text": [
      "C:\\Users\\mandeep.singh\\Anaconda3\\lib\\site-packages\\urllib3\\connectionpool.py:1013: InsecureRequestWarning: Unverified HTTPS request is being made to host 'upload.wikimedia.org'. Adding certificate verification is strongly advised. See: https://urllib3.readthedocs.io/en/latest/advanced-usage.html#ssl-warnings\n",
      "  warnings.warn(\n"
     ]
    },
    {
     "name": "stdout",
     "output_type": "stream",
     "text": [
      "SUCCESS - saved https://upload.wikimedia.org/wikipedia/commons/thumb/d/db/Chicken_and_waffles_with_peaches_and_cream.jpg/1200px-Chicken_and_waffles_with_peaches_and_cream.jpg - as ./images\\waffles\\f3a61d00b7.jpg\n",
      "SUCCESS - saved https://encrypted-tbn0.gstatic.com/images?q=tbn:ANd9GcTqvLozvFplU_IApJnKsfpdLX3EevYTrmp5WQ&usqp=CAU - as ./images\\waffles\\4d5a8cab75.jpg\n"
     ]
    },
    {
     "name": "stderr",
     "output_type": "stream",
     "text": [
      "C:\\Users\\mandeep.singh\\Anaconda3\\lib\\site-packages\\urllib3\\connectionpool.py:1013: InsecureRequestWarning: Unverified HTTPS request is being made to host 'encrypted-tbn0.gstatic.com'. Adding certificate verification is strongly advised. See: https://urllib3.readthedocs.io/en/latest/advanced-usage.html#ssl-warnings\n",
      "  warnings.warn(\n",
      "C:\\Users\\mandeep.singh\\Anaconda3\\lib\\site-packages\\urllib3\\connectionpool.py:1013: InsecureRequestWarning: Unverified HTTPS request is being made to host 'encrypted-tbn0.gstatic.com'. Adding certificate verification is strongly advised. See: https://urllib3.readthedocs.io/en/latest/advanced-usage.html#ssl-warnings\n",
      "  warnings.warn(\n"
     ]
    },
    {
     "name": "stdout",
     "output_type": "stream",
     "text": [
      "SUCCESS - saved https://encrypted-tbn0.gstatic.com/images?q=tbn:ANd9GcT2DRB-oHb8P8ateEktfiQog9Y_K7L9wyBkAg&usqp=CAU - as ./images\\waffles\\7c0cd615b2.jpg\n"
     ]
    },
    {
     "name": "stderr",
     "output_type": "stream",
     "text": [
      "C:\\Users\\mandeep.singh\\Anaconda3\\lib\\site-packages\\urllib3\\connectionpool.py:1013: InsecureRequestWarning: Unverified HTTPS request is being made to host 'hips.hearstapps.com'. Adding certificate verification is strongly advised. See: https://urllib3.readthedocs.io/en/latest/advanced-usage.html#ssl-warnings\n",
      "  warnings.warn(\n"
     ]
    },
    {
     "name": "stdout",
     "output_type": "stream",
     "text": [
      "SUCCESS - saved https://hips.hearstapps.com/hmg-prod.s3.amazonaws.com/images/delish-pumpkinwaffles-ql-7631-1595530276.jpg - as ./images\\waffles\\c9e55cf5ae.jpg\n",
      "SUCCESS - saved https://encrypted-tbn0.gstatic.com/images?q=tbn:ANd9GcRrDUDR7zFJgJWMGdKfwQXNWnVQdWwyq_PXzw&usqp=CAU - as ./images\\waffles\\7d814c370d.jpg\n"
     ]
    },
    {
     "name": "stderr",
     "output_type": "stream",
     "text": [
      "C:\\Users\\mandeep.singh\\Anaconda3\\lib\\site-packages\\urllib3\\connectionpool.py:1013: InsecureRequestWarning: Unverified HTTPS request is being made to host 'encrypted-tbn0.gstatic.com'. Adding certificate verification is strongly advised. See: https://urllib3.readthedocs.io/en/latest/advanced-usage.html#ssl-warnings\n",
      "  warnings.warn(\n",
      "C:\\Users\\mandeep.singh\\Anaconda3\\lib\\site-packages\\urllib3\\connectionpool.py:1013: InsecureRequestWarning: Unverified HTTPS request is being made to host 'encrypted-tbn0.gstatic.com'. Adding certificate verification is strongly advised. See: https://urllib3.readthedocs.io/en/latest/advanced-usage.html#ssl-warnings\n",
      "  warnings.warn(\n"
     ]
    },
    {
     "name": "stdout",
     "output_type": "stream",
     "text": [
      "SUCCESS - saved https://encrypted-tbn0.gstatic.com/images?q=tbn:ANd9GcSTvBiklAOQrOw-8-wxranDeptXYa6fUb9R5w&usqp=CAU - as ./images\\waffles\\f5a85121af.jpg\n"
     ]
    },
    {
     "name": "stderr",
     "output_type": "stream",
     "text": [
      "C:\\Users\\mandeep.singh\\Anaconda3\\lib\\site-packages\\urllib3\\connectionpool.py:1013: InsecureRequestWarning: Unverified HTTPS request is being made to host 'encrypted-tbn0.gstatic.com'. Adding certificate verification is strongly advised. See: https://urllib3.readthedocs.io/en/latest/advanced-usage.html#ssl-warnings\n",
      "  warnings.warn(\n",
      "C:\\Users\\mandeep.singh\\Anaconda3\\lib\\site-packages\\urllib3\\connectionpool.py:1013: InsecureRequestWarning: Unverified HTTPS request is being made to host 'encrypted-tbn0.gstatic.com'. Adding certificate verification is strongly advised. See: https://urllib3.readthedocs.io/en/latest/advanced-usage.html#ssl-warnings\n",
      "  warnings.warn(\n"
     ]
    },
    {
     "name": "stdout",
     "output_type": "stream",
     "text": [
      "SUCCESS - saved https://encrypted-tbn0.gstatic.com/images?q=tbn:ANd9GcTe91u5h1Egh4bKXAuhb8-NPyKxSMdiJTw6rQ&usqp=CAU - as ./images\\waffles\\4222597d85.jpg\n",
      "SUCCESS - saved https://encrypted-tbn0.gstatic.com/images?q=tbn:ANd9GcSL3beaeLINFlaMc2gsRbPqdzPhs3zPiUhrDQ&usqp=CAU - as ./images\\waffles\\70f41558a9.jpg\n"
     ]
    },
    {
     "name": "stderr",
     "output_type": "stream",
     "text": [
      "C:\\Users\\mandeep.singh\\Anaconda3\\lib\\site-packages\\urllib3\\connectionpool.py:1013: InsecureRequestWarning: Unverified HTTPS request is being made to host 'res.cloudinary.com'. Adding certificate verification is strongly advised. See: https://urllib3.readthedocs.io/en/latest/advanced-usage.html#ssl-warnings\n",
      "  warnings.warn(\n"
     ]
    },
    {
     "name": "stdout",
     "output_type": "stream",
     "text": [
      "SUCCESS - saved https://res.cloudinary.com/purnesh/image/upload/f_auto/v1518073117/crepe-fe997.jpg - as ./images\\waffles\\8bd5342db6.jpg\n"
     ]
    },
    {
     "name": "stderr",
     "output_type": "stream",
     "text": [
      "C:\\Users\\mandeep.singh\\Anaconda3\\lib\\site-packages\\urllib3\\connectionpool.py:1013: InsecureRequestWarning: Unverified HTTPS request is being made to host 'cafedelites.com'. Adding certificate verification is strongly advised. See: https://urllib3.readthedocs.io/en/latest/advanced-usage.html#ssl-warnings\n",
      "  warnings.warn(\n",
      "C:\\Users\\mandeep.singh\\Anaconda3\\lib\\site-packages\\urllib3\\connectionpool.py:1013: InsecureRequestWarning: Unverified HTTPS request is being made to host 'encrypted-tbn0.gstatic.com'. Adding certificate verification is strongly advised. See: https://urllib3.readthedocs.io/en/latest/advanced-usage.html#ssl-warnings\n",
      "  warnings.warn(\n"
     ]
    },
    {
     "name": "stdout",
     "output_type": "stream",
     "text": [
      "SUCCESS - saved https://cafedelites.com/wp-content/uploads/2016/04/Chocolate-Cake-Waffles-43.jpg - as ./images\\waffles\\78d34321fc.jpg\n",
      "SUCCESS - saved https://encrypted-tbn0.gstatic.com/images?q=tbn:ANd9GcQbG_-OChxS7kTwAqeY3Kc7WjLx2_Yt7cG5bA&usqp=CAU - as ./images\\waffles\\088437e7d2.jpg\n"
     ]
    }
   ],
   "source": [
    "\n",
    "with open(\"C:\\\\Users\\\\mandeep.singh\\\\Machine-Learning-project-master\\\\static\\\\food_list\\\\food_list-copy.json\", \"r\", encoding=\"utf8\") as f:\n",
    "    food_translate = json.load(f)\n",
    "    for food in food_translate.keys():\n",
    "        search_and_download(food, \"C:\\\\Users\\\\mandeep.singh\\\\chromedriver.exe\",number_images=100)\n"
   ]
  },
  {
   "cell_type": "code",
   "execution_count": null,
   "id": "7eb838cb",
   "metadata": {},
   "outputs": [],
   "source": []
  }
 ],
 "metadata": {
  "kernelspec": {
   "display_name": "Python 3",
   "language": "python",
   "name": "python3"
  },
  "language_info": {
   "codemirror_mode": {
    "name": "ipython",
    "version": 3
   },
   "file_extension": ".py",
   "mimetype": "text/x-python",
   "name": "python",
   "nbconvert_exporter": "python",
   "pygments_lexer": "ipython3",
   "version": "3.8.8"
  }
 },
 "nbformat": 4,
 "nbformat_minor": 5
}
