{
 "cells": [
  {
   "cell_type": "markdown",
   "id": "31945a85",
   "metadata": {},
   "source": [
    "# The Assumptions Of Linear Regression, And How To Test Them\n"
   ]
  },
  {
   "cell_type": "markdown",
   "id": "999855b9",
   "metadata": {},
   "source": [
    "# Assumption 1: Linear functional form\n",
    "\n",
    "\n",
    "## y = β*X + ϵ"
   ]
  },
  {
   "cell_type": "code",
   "execution_count": null,
   "id": "bd7836e6",
   "metadata": {},
   "outputs": [],
   "source": [
    "import pandas as pd\n",
    "from patsy import dmatrices\n",
    "from matplotlib import pyplot as plt\n",
    "import numpy as np\n",
    " "
   ]
  },
  {
   "cell_type": "code",
   "execution_count": null,
   "id": "7d8f31b8",
   "metadata": {},
   "outputs": [],
   "source": [
    "df = pd.read_csv('PowerPlant.csv')\n",
    "df.head()"
   ]
  },
  {
   "cell_type": "code",
   "execution_count": null,
   "id": "906d331c",
   "metadata": {},
   "outputs": [],
   "source": [
    "df.plot.scatter(x='Ambient_Temperature', y='Power_Output')\n",
    "plt.xlabel('Ambient_Temperature', fontsize=18)\n",
    "plt.ylabel('Power_Output', fontsize=18)\n",
    "plt.show()"
   ]
  },
  {
   "cell_type": "code",
   "execution_count": null,
   "id": "75aea100",
   "metadata": {
    "scrolled": true
   },
   "outputs": [],
   "source": [
    "df.plot.scatter(x='Volume', y='Power_Output')\n",
    "plt.xlabel('Volume', fontsize=18)\n",
    "plt.ylabel('Power_Output', fontsize=18)\n",
    "plt.show()"
   ]
  },
  {
   "cell_type": "code",
   "execution_count": null,
   "id": "344e2910",
   "metadata": {},
   "outputs": [],
   "source": [
    "df.plot.scatter(x='Ambient_Pressure', y='Power_Output')\n",
    "plt.xlabel('Ambient_Pressure', fontsize=18)\n",
    "plt.ylabel('Power_Output', fontsize=18)\n",
    "plt.show()"
   ]
  },
  {
   "cell_type": "code",
   "execution_count": null,
   "id": "e12b5a73",
   "metadata": {},
   "outputs": [],
   "source": [
    "df.plot.scatter(x='Relative_Humidity', y='Power_Output')\n",
    "plt.xlabel('Relative_Humidity', fontsize=18)\n",
    "plt.ylabel('Power_Output', fontsize=18)\n",
    "plt.show()"
   ]
  },
  {
   "cell_type": "code",
   "execution_count": null,
   "id": "5abce335",
   "metadata": {},
   "outputs": [],
   "source": [
    "df.corr()['Power_Output']"
   ]
  },
  {
   "cell_type": "markdown",
   "id": "37fbe463",
   "metadata": {},
   "source": [
    "# Ambient Temperature has LINEAR RELATIONSHIP with Power Output\n",
    "\n",
    "# Volumen has MOSTLY LINEAR RELATIONSHIP with Power Output\n",
    "\n",
    "# Ambient Pressure has NOT VERY LINEAR RELATIONSHIP with Power Output\n",
    "\n",
    "# Relative Humidity has NON LINEAR RELATIONSHIP with Power Output\n"
   ]
  },
  {
   "cell_type": "code",
   "execution_count": null,
   "id": "6f6c6797",
   "metadata": {},
   "outputs": [],
   "source": []
  },
  {
   "cell_type": "code",
   "execution_count": null,
   "id": "66fe1b5a",
   "metadata": {},
   "outputs": [],
   "source": []
  },
  {
   "cell_type": "code",
   "execution_count": null,
   "id": "6811eb87",
   "metadata": {},
   "outputs": [],
   "source": []
  },
  {
   "cell_type": "markdown",
   "id": "2854f47d",
   "metadata": {},
   "source": [
    "# Assumption 2 - Statistical independence of the errors (in particular, no correlation between  errors )"
   ]
  },
  {
   "cell_type": "code",
   "execution_count": null,
   "id": "94b926f0",
   "metadata": {},
   "outputs": [],
   "source": []
  },
  {
   "cell_type": "markdown",
   "id": "f30ead76",
   "metadata": {},
   "source": [
    "### Ordinary Least Squares regression (OLS) is a common technique for estimating coefficients of linear regression equations \n",
    "### which describe the relationship between one or more independent quantitative variables and \n",
    "### a dependent variable (simple or multiple linear regression)"
   ]
  },
  {
   "cell_type": "code",
   "execution_count": null,
   "id": "34fa8112",
   "metadata": {},
   "outputs": [],
   "source": [
    "from statsmodels.formula.api import ols\n",
    "\n",
    "#fit multiple linear regression model\n",
    "model = ols('Power_Output ~ Ambient_Temperature + Volume + Ambient_Pressure + Relative_Humidity', data=df).fit()\n",
    "\n"
   ]
  },
  {
   "cell_type": "code",
   "execution_count": null,
   "id": "8ac85084",
   "metadata": {},
   "outputs": [],
   "source": [
    "print(model.resid)"
   ]
  },
  {
   "cell_type": "code",
   "execution_count": null,
   "id": "663812e7",
   "metadata": {},
   "outputs": [],
   "source": [
    "durbin_watson(model.resid)"
   ]
  },
  {
   "cell_type": "markdown",
   "id": "cb1fea5d",
   "metadata": {},
   "source": [
    "# The test statistic is 1.99. Since this is within the range of 1.5 and 2.5, we would consider autocorrelation not to be problematic in this regression model."
   ]
  },
  {
   "cell_type": "code",
   "execution_count": null,
   "id": "62be1195",
   "metadata": {},
   "outputs": [],
   "source": []
  },
  {
   "cell_type": "code",
   "execution_count": null,
   "id": "60a5f045",
   "metadata": {},
   "outputs": [],
   "source": []
  },
  {
   "cell_type": "code",
   "execution_count": null,
   "id": "6206badf",
   "metadata": {},
   "outputs": [],
   "source": []
  },
  {
   "cell_type": "code",
   "execution_count": null,
   "id": "e3e825f0",
   "metadata": {},
   "outputs": [],
   "source": []
  },
  {
   "cell_type": "code",
   "execution_count": 39,
   "id": "d488ee90",
   "metadata": {},
   "outputs": [],
   "source": [
    "X = df.drop([\"Power_Output\"],axis=1)\n",
    "y = df.Power_Output"
   ]
  },
  {
   "cell_type": "code",
   "execution_count": 40,
   "id": "b9475c9c",
   "metadata": {},
   "outputs": [],
   "source": [
    "from sklearn.model_selection import train_test_split\n",
    "X_train, X_test, y_train, y_test = train_test_split(X, y,random_state = 0,test_size=0.25)"
   ]
  },
  {
   "cell_type": "code",
   "execution_count": 41,
   "id": "f0e5727a",
   "metadata": {},
   "outputs": [],
   "source": [
    "\n",
    "from sklearn import linear_model\n",
    "\n",
    "regr = linear_model.LinearRegression()\n",
    "regr.fit(X_train,y_train)\n",
    "y_pred = regr.predict(X_train)"
   ]
  },
  {
   "cell_type": "code",
   "execution_count": 42,
   "id": "4aca61e7",
   "metadata": {},
   "outputs": [],
   "source": [
    "residuals = y_train.values-y_pred"
   ]
  },
  {
   "cell_type": "code",
   "execution_count": 43,
   "id": "e5256979",
   "metadata": {},
   "outputs": [
    {
     "data": {
      "text/plain": [
       "array([-2.87087271, -4.51964589, -5.95156018, ..., -1.95956738,\n",
       "       -0.84274486,  0.64680715])"
      ]
     },
     "execution_count": 43,
     "metadata": {},
     "output_type": "execute_result"
    }
   ],
   "source": [
    "residuals"
   ]
  },
  {
   "cell_type": "code",
   "execution_count": null,
   "id": "d65e6bf0",
   "metadata": {},
   "outputs": [],
   "source": []
  },
  {
   "cell_type": "markdown",
   "id": "06dbdb50",
   "metadata": {},
   "source": [
    "# Check for homoscedasticity"
   ]
  },
  {
   "cell_type": "markdown",
   "id": "57ce2ba3",
   "metadata": {},
   "source": [
    "## Homoscedasticity means that the residuals have equal or almost equal variance across the regression line. \n",
    "## By plotting the error terms with predicted terms we can check that there should not be any pattern in the error terms."
   ]
  },
  {
   "cell_type": "code",
   "execution_count": null,
   "id": "c681a92f",
   "metadata": {},
   "outputs": [],
   "source": []
  },
  {
   "cell_type": "markdown",
   "id": "7ffdf621",
   "metadata": {},
   "source": [
    "# Graphical Method - Check for funnel shape in the graph of residuals/erros VS predicted values"
   ]
  },
  {
   "cell_type": "code",
   "execution_count": 44,
   "id": "e76eaa56",
   "metadata": {},
   "outputs": [
    {
     "name": "stderr",
     "output_type": "stream",
     "text": [
      "C:\\Users\\mandeep.singh\\Anaconda3\\lib\\site-packages\\seaborn\\_decorators.py:36: FutureWarning: Pass the following variables as keyword args: x, y. From version 0.12, the only valid positional argument will be `data`, and passing other arguments without an explicit keyword will result in an error or misinterpretation.\n",
      "  warnings.warn(\n",
      "C:\\Users\\mandeep.singh\\Anaconda3\\lib\\site-packages\\seaborn\\_decorators.py:36: FutureWarning: Pass the following variables as keyword args: x, y. From version 0.12, the only valid positional argument will be `data`, and passing other arguments without an explicit keyword will result in an error or misinterpretation.\n",
      "  warnings.warn(\n"
     ]
    },
    {
     "data": {
      "image/png": "[encoded data removed]",
      "text/plain": [
       "<Figure size 432x288 with 1 Axes>"
      ]
     },
     "metadata": {
      "needs_background": "light"
     },
     "output_type": "display_data"
    }
   ],
   "source": [
    "import seaborn as sns\n",
    "p = sns.scatterplot(y_pred,residuals)\n",
    "plt.xlabel('predicted values')\n",
    "plt.ylabel('Residuals')\n",
    "plt.ylim(-40,20)\n",
    "plt.xlim(0,1000)\n",
    "p = sns.lineplot([0,1000],[0,0],color='blue')\n",
    "p = plt.title('Residuals vs fitted values plot for homoscedasticity check')"
   ]
  },
  {
   "cell_type": "markdown",
   "id": "543de47d",
   "metadata": {},
   "source": [
    "# Goldfeld Quandt Test\n",
    "Checking heteroscedasticity : Using Goldfeld Quandt we test for heteroscedasticity.\n",
    "\n",
    "### It compares variances of two subgroups; one set of high values and one set of low values. If the variances differ, the test rejects the null hypothesis that the variances of the errors are not constant.\n",
    "\n",
    "\n",
    "### Null Hypothesis: Error terms are homoscedastic\n",
    "\n",
    "### Alternative Hypothesis: Error terms are heteroscedastic."
   ]
  },
  {
   "cell_type": "code",
   "execution_count": 45,
   "id": "2af7980c",
   "metadata": {},
   "outputs": [
    {
     "data": {
      "text/plain": [
       "[('F statistic', 1.0022685955908297), ('p-value', 0.47296254635794754)]"
      ]
     },
     "execution_count": 45,
     "metadata": {},
     "output_type": "execute_result"
    }
   ],
   "source": [
    "import statsmodels.stats.api as sms\n",
    "from statsmodels.compat import lzip\n",
    "name = ['F statistic', 'p-value']\n",
    "test = sms.het_goldfeldquandt(residuals, X_train)\n",
    "\n",
    "lzip(name, test)"
   ]
  },
  {
   "cell_type": "markdown",
   "id": "15def5dd",
   "metadata": {},
   "source": [
    "### Since p value is more than 0.05 in Goldfeld Quandt Test,\n",
    "### we can't reject it's null hypothesis that error terms are homoscedastic. Good."
   ]
  },
  {
   "cell_type": "code",
   "execution_count": null,
   "id": "787909af",
   "metadata": {},
   "outputs": [],
   "source": []
  },
  {
   "cell_type": "code",
   "execution_count": null,
   "id": "9e89536c",
   "metadata": {},
   "outputs": [],
   "source": []
  }
 ],
 "metadata": {
  "kernelspec": {
   "display_name": "Python 3",
   "language": "python",
   "name": "python3"
  },
  "language_info": {
   "codemirror_mode": {
    "name": "ipython",
    "version": 3
   },
   "file_extension": ".py",
   "mimetype": "text/x-python",
   "name": "python",
   "nbconvert_exporter": "python",
   "pygments_lexer": "ipython3",
   "version": "3.8.8"
  }
 },
 "nbformat": 4,
 "nbformat_minor": 5
}
