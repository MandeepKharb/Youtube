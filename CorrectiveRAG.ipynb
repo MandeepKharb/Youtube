{
  "nbformat": 4,
  "nbformat_minor": 0,
  "metadata": {
    "colab": {
      "provenance": [],
      "gpuType": "T4",
      "authorship_tag": "ABX9TyPMmN6ISseqt+V+zHYkwKrZ",
      "include_colab_link": true
    },
    "kernelspec": {
      "name": "python3",
      "display_name": "Python 3"
    },
    "language_info": {
      "name": "python"
    },
    "accelerator": "GPU"
  },
  "cells": [
    {
      "cell_type": "markdown",
      "metadata": {
        "id": "view-in-github",
        "colab_type": "text"
      },
      "source": [
        "<a href=\"https://colab.research.google.com/github/MandeepKharb/Youtube/blob/main/CorrectiveRAG.ipynb\" target=\"_parent\"><img src=\"https://colab.research.google.com/assets/colab-badge.svg\" alt=\"Open In Colab\"/></a>"
      ]
    },
    {
      "cell_type": "markdown",
      "source": [
        "**Corrective-RAG (CRAG)** is a strategy for RAG that incorporates self-reflection / self-grading on retrieved documents.\n",
        "\n",
        "The paper ( https://arxiv.org/abs/2401.15884) follows this general flow:\n",
        "\n",
        "\n",
        "  * If at least one document exceeds the threshold for relevance, then it proceeds to generation.\n",
        "  * If all documents fall below the relevance threshold or if the grader is unsure, then it uses web search to supplement retrieval.\n",
        "  * Before generation, it performs knowledge refinement of the search or retrieved documents.\n",
        "  * This partitions the document into knowledge strips.\n",
        "  * It grades each strip, and filters out irrelevant ones\n",
        "\n",
        "\n",
        "\n",
        "**We will implement some of these ideas from scratch using LangGraph:**\n",
        "\n",
        "* If any documents are irrelevant, we'll supplement retrieval with web search.\n",
        "* We'll skip the knowledge refinement, but this can be added back as a node if desired.\n",
        "* We'll use Tavily Search for web search."
      ],
      "metadata": {
        "id": "LAVnlw641laS"
      }
    },
    {
      "cell_type": "code",
      "source": [
        "%pip install -U langchain_community tiktoken langchainhub scikit-learn langchain langgraph tavily-python  nomic[local] langchain-nomic langchain_openai langchain_groq"
      ],
      "metadata": {
        "colab": {
          "base_uri": "https://localhost:8080/"
        },
        "id": "ns5acg8v2SlL",
        "outputId": "c83c6b55-c559-4cd6-cbf3-81644dbd8e3d"
      },
      "execution_count": 37,
      "outputs": [
        {
          "output_type": "stream",
          "name": "stdout",
          "text": [
            "Requirement already satisfied: langchain_community in /usr/local/lib/python3.10/dist-packages (0.3.14)\n",
            "Requirement already satisfied: tiktoken in /usr/local/lib/python3.10/dist-packages (0.8.0)\n",
            "Requirement already satisfied: langchainhub in /usr/local/lib/python3.10/dist-packages (0.1.21)\n",
            "Requirement already satisfied: scikit-learn in /usr/local/lib/python3.10/dist-packages (1.6.0)\n",
            "Collecting scikit-learn\n",
            "  Downloading scikit_learn-1.6.1-cp310-cp310-manylinux_2_17_x86_64.manylinux2014_x86_64.whl.metadata (18 kB)\n",
            "Requirement already satisfied: langchain in /usr/local/lib/python3.10/dist-packages (0.3.14)\n",
            "Requirement already satisfied: langgraph in /usr/local/lib/python3.10/dist-packages (0.2.61)\n",
            "Requirement already satisfied: tavily-python in /usr/local/lib/python3.10/dist-packages (0.5.0)\n",
            "Requirement already satisfied: langchain-nomic in /usr/local/lib/python3.10/dist-packages (0.1.4)\n",
            "Requirement already satisfied: langchain_openai in /usr/local/lib/python3.10/dist-packages (0.2.14)\n",
            "Requirement already satisfied: langchain_groq in /usr/local/lib/python3.10/dist-packages (0.2.3)\n",
            "Requirement already satisfied: nomic[local] in /usr/local/lib/python3.10/dist-packages (3.3.4)\n",
            "Requirement already satisfied: PyYAML>=5.3 in /usr/local/lib/python3.10/dist-packages (from langchain_community) (6.0.2)\n",
            "Requirement already satisfied: SQLAlchemy<3,>=1.4 in /usr/local/lib/python3.10/dist-packages (from langchain_community) (2.0.36)\n",
            "Requirement already satisfied: aiohttp<4.0.0,>=3.8.3 in /usr/local/lib/python3.10/dist-packages (from langchain_community) (3.11.11)\n",
            "Requirement already satisfied: dataclasses-json<0.7,>=0.5.7 in /usr/local/lib/python3.10/dist-packages (from langchain_community) (0.6.7)\n",
            "Requirement already satisfied: httpx-sse<0.5.0,>=0.4.0 in /usr/local/lib/python3.10/dist-packages (from langchain_community) (0.4.0)\n",
            "Requirement already satisfied: langchain-core<0.4.0,>=0.3.29 in /usr/local/lib/python3.10/dist-packages (from langchain_community) (0.3.29)\n",
            "Requirement already satisfied: langsmith<0.3,>=0.1.125 in /usr/local/lib/python3.10/dist-packages (from langchain_community) (0.2.10)\n",
            "Requirement already satisfied: numpy<2,>=1.22.4 in /usr/local/lib/python3.10/dist-packages (from langchain_community) (1.26.4)\n",
            "Requirement already satisfied: pydantic-settings<3.0.0,>=2.4.0 in /usr/local/lib/python3.10/dist-packages (from langchain_community) (2.7.1)\n",
            "Requirement already satisfied: requests<3,>=2 in /usr/local/lib/python3.10/dist-packages (from langchain_community) (2.32.3)\n",
            "Requirement already satisfied: tenacity!=8.4.0,<10,>=8.1.0 in /usr/local/lib/python3.10/dist-packages (from langchain_community) (9.0.0)\n",
            "Requirement already satisfied: regex>=2022.1.18 in /usr/local/lib/python3.10/dist-packages (from tiktoken) (2024.11.6)\n",
            "Requirement already satisfied: packaging<25,>=23.2 in /usr/local/lib/python3.10/dist-packages (from langchainhub) (24.2)\n",
            "Requirement already satisfied: types-requests<3.0.0.0,>=2.31.0.2 in /usr/local/lib/python3.10/dist-packages (from langchainhub) (2.32.0.20241016)\n",
            "Requirement already satisfied: scipy>=1.6.0 in /usr/local/lib/python3.10/dist-packages (from scikit-learn) (1.13.1)\n",
            "Requirement already satisfied: joblib>=1.2.0 in /usr/local/lib/python3.10/dist-packages (from scikit-learn) (1.4.2)\n",
            "Requirement already satisfied: threadpoolctl>=3.1.0 in /usr/local/lib/python3.10/dist-packages (from scikit-learn) (3.5.0)\n",
            "Requirement already satisfied: async-timeout<5.0.0,>=4.0.0 in /usr/local/lib/python3.10/dist-packages (from langchain) (4.0.3)\n",
            "Requirement already satisfied: langchain-text-splitters<0.4.0,>=0.3.3 in /usr/local/lib/python3.10/dist-packages (from langchain) (0.3.4)\n",
            "Requirement already satisfied: pydantic<3.0.0,>=2.7.4 in /usr/local/lib/python3.10/dist-packages (from langchain) (2.10.4)\n",
            "Requirement already satisfied: langgraph-checkpoint<3.0.0,>=2.0.4 in /usr/local/lib/python3.10/dist-packages (from langgraph) (2.0.9)\n",
            "Requirement already satisfied: langgraph-sdk<0.2.0,>=0.1.42 in /usr/local/lib/python3.10/dist-packages (from langgraph) (0.1.51)\n",
            "Requirement already satisfied: httpx in /usr/local/lib/python3.10/dist-packages (from tavily-python) (0.28.1)\n",
            "Requirement already satisfied: click in /usr/local/lib/python3.10/dist-packages (from nomic[local]) (8.1.8)\n",
            "Requirement already satisfied: jsonlines in /usr/local/lib/python3.10/dist-packages (from nomic[local]) (4.0.0)\n",
            "Requirement already satisfied: loguru in /usr/local/lib/python3.10/dist-packages (from nomic[local]) (0.7.3)\n",
            "Requirement already satisfied: rich in /usr/local/lib/python3.10/dist-packages (from nomic[local]) (13.9.4)\n",
            "Requirement already satisfied: pandas in /usr/local/lib/python3.10/dist-packages (from nomic[local]) (2.2.2)\n",
            "Requirement already satisfied: tqdm in /usr/local/lib/python3.10/dist-packages (from nomic[local]) (4.67.1)\n",
            "Requirement already satisfied: pyarrow in /usr/local/lib/python3.10/dist-packages (from nomic[local]) (17.0.0)\n",
            "Requirement already satisfied: pillow in /usr/local/lib/python3.10/dist-packages (from nomic[local]) (10.4.0)\n",
            "Requirement already satisfied: pyjwt in /usr/local/lib/python3.10/dist-packages (from nomic[local]) (2.10.1)\n",
            "Requirement already satisfied: gpt4all<3,>=2.5.0 in /usr/local/lib/python3.10/dist-packages (from nomic[local]) (2.8.2)\n",
            "Requirement already satisfied: openai<2.0.0,>=1.58.1 in /usr/local/lib/python3.10/dist-packages (from langchain_openai) (1.59.3)\n",
            "Requirement already satisfied: groq<1,>=0.4.1 in /usr/local/lib/python3.10/dist-packages (from langchain_groq) (0.14.0)\n",
            "Requirement already satisfied: aiohappyeyeballs>=2.3.0 in /usr/local/lib/python3.10/dist-packages (from aiohttp<4.0.0,>=3.8.3->langchain_community) (2.4.4)\n",
            "Requirement already satisfied: aiosignal>=1.1.2 in /usr/local/lib/python3.10/dist-packages (from aiohttp<4.0.0,>=3.8.3->langchain_community) (1.3.2)\n",
            "Requirement already satisfied: attrs>=17.3.0 in /usr/local/lib/python3.10/dist-packages (from aiohttp<4.0.0,>=3.8.3->langchain_community) (24.3.0)\n",
            "Requirement already satisfied: frozenlist>=1.1.1 in /usr/local/lib/python3.10/dist-packages (from aiohttp<4.0.0,>=3.8.3->langchain_community) (1.5.0)\n",
            "Requirement already satisfied: multidict<7.0,>=4.5 in /usr/local/lib/python3.10/dist-packages (from aiohttp<4.0.0,>=3.8.3->langchain_community) (6.1.0)\n",
            "Requirement already satisfied: propcache>=0.2.0 in /usr/local/lib/python3.10/dist-packages (from aiohttp<4.0.0,>=3.8.3->langchain_community) (0.2.1)\n",
            "Requirement already satisfied: yarl<2.0,>=1.17.0 in /usr/local/lib/python3.10/dist-packages (from aiohttp<4.0.0,>=3.8.3->langchain_community) (1.18.3)\n",
            "Requirement already satisfied: marshmallow<4.0.0,>=3.18.0 in /usr/local/lib/python3.10/dist-packages (from dataclasses-json<0.7,>=0.5.7->langchain_community) (3.25.0)\n",
            "Requirement already satisfied: typing-inspect<1,>=0.4.0 in /usr/local/lib/python3.10/dist-packages (from dataclasses-json<0.7,>=0.5.7->langchain_community) (0.9.0)\n",
            "Requirement already satisfied: typing-extensions>=4.3.0 in /usr/local/lib/python3.10/dist-packages (from gpt4all<3,>=2.5.0->nomic[local]) (4.12.2)\n",
            "Requirement already satisfied: anyio<5,>=3.5.0 in /usr/local/lib/python3.10/dist-packages (from groq<1,>=0.4.1->langchain_groq) (3.7.1)\n",
            "Requirement already satisfied: distro<2,>=1.7.0 in /usr/local/lib/python3.10/dist-packages (from groq<1,>=0.4.1->langchain_groq) (1.9.0)\n",
            "Requirement already satisfied: sniffio in /usr/local/lib/python3.10/dist-packages (from groq<1,>=0.4.1->langchain_groq) (1.3.1)\n",
            "Requirement already satisfied: certifi in /usr/local/lib/python3.10/dist-packages (from httpx->tavily-python) (2024.12.14)\n",
            "Requirement already satisfied: httpcore==1.* in /usr/local/lib/python3.10/dist-packages (from httpx->tavily-python) (1.0.7)\n",
            "Requirement already satisfied: idna in /usr/local/lib/python3.10/dist-packages (from httpx->tavily-python) (3.10)\n",
            "Requirement already satisfied: h11<0.15,>=0.13 in /usr/local/lib/python3.10/dist-packages (from httpcore==1.*->httpx->tavily-python) (0.14.0)\n",
            "Requirement already satisfied: jsonpatch<2.0,>=1.33 in /usr/local/lib/python3.10/dist-packages (from langchain-core<0.4.0,>=0.3.29->langchain_community) (1.33)\n",
            "Requirement already satisfied: msgpack<2.0.0,>=1.1.0 in /usr/local/lib/python3.10/dist-packages (from langgraph-checkpoint<3.0.0,>=2.0.4->langgraph) (1.1.0)\n",
            "Requirement already satisfied: orjson>=3.10.1 in /usr/local/lib/python3.10/dist-packages (from langgraph-sdk<0.2.0,>=0.1.42->langgraph) (3.10.13)\n",
            "Requirement already satisfied: requests-toolbelt<2.0.0,>=1.0.0 in /usr/local/lib/python3.10/dist-packages (from langsmith<0.3,>=0.1.125->langchain_community) (1.0.0)\n",
            "Requirement already satisfied: jiter<1,>=0.4.0 in /usr/local/lib/python3.10/dist-packages (from openai<2.0.0,>=1.58.1->langchain_openai) (0.8.2)\n",
            "Requirement already satisfied: annotated-types>=0.6.0 in /usr/local/lib/python3.10/dist-packages (from pydantic<3.0.0,>=2.7.4->langchain) (0.7.0)\n",
            "Requirement already satisfied: pydantic-core==2.27.2 in /usr/local/lib/python3.10/dist-packages (from pydantic<3.0.0,>=2.7.4->langchain) (2.27.2)\n",
            "Requirement already satisfied: python-dotenv>=0.21.0 in /usr/local/lib/python3.10/dist-packages (from pydantic-settings<3.0.0,>=2.4.0->langchain_community) (1.0.1)\n",
            "Requirement already satisfied: charset-normalizer<4,>=2 in /usr/local/lib/python3.10/dist-packages (from requests<3,>=2->langchain_community) (3.4.1)\n",
            "Requirement already satisfied: urllib3<3,>=1.21.1 in /usr/local/lib/python3.10/dist-packages (from requests<3,>=2->langchain_community) (2.3.0)\n",
            "Requirement already satisfied: greenlet!=0.4.17 in /usr/local/lib/python3.10/dist-packages (from SQLAlchemy<3,>=1.4->langchain_community) (3.1.1)\n",
            "Requirement already satisfied: python-dateutil>=2.8.2 in /usr/local/lib/python3.10/dist-packages (from pandas->nomic[local]) (2.8.2)\n",
            "Requirement already satisfied: pytz>=2020.1 in /usr/local/lib/python3.10/dist-packages (from pandas->nomic[local]) (2024.2)\n",
            "Requirement already satisfied: tzdata>=2022.7 in /usr/local/lib/python3.10/dist-packages (from pandas->nomic[local]) (2024.2)\n",
            "Requirement already satisfied: markdown-it-py>=2.2.0 in /usr/local/lib/python3.10/dist-packages (from rich->nomic[local]) (3.0.0)\n",
            "Requirement already satisfied: pygments<3.0.0,>=2.13.0 in /usr/local/lib/python3.10/dist-packages (from rich->nomic[local]) (2.18.0)\n",
            "Requirement already satisfied: exceptiongroup in /usr/local/lib/python3.10/dist-packages (from anyio<5,>=3.5.0->groq<1,>=0.4.1->langchain_groq) (1.2.2)\n",
            "Requirement already satisfied: jsonpointer>=1.9 in /usr/local/lib/python3.10/dist-packages (from jsonpatch<2.0,>=1.33->langchain-core<0.4.0,>=0.3.29->langchain_community) (3.0.0)\n",
            "Requirement already satisfied: mdurl~=0.1 in /usr/local/lib/python3.10/dist-packages (from markdown-it-py>=2.2.0->rich->nomic[local]) (0.1.2)\n",
            "Requirement already satisfied: six>=1.5 in /usr/local/lib/python3.10/dist-packages (from python-dateutil>=2.8.2->pandas->nomic[local]) (1.17.0)\n",
            "Requirement already satisfied: mypy-extensions>=0.3.0 in /usr/local/lib/python3.10/dist-packages (from typing-inspect<1,>=0.4.0->dataclasses-json<0.7,>=0.5.7->langchain_community) (1.0.0)\n",
            "Downloading scikit_learn-1.6.1-cp310-cp310-manylinux_2_17_x86_64.manylinux2014_x86_64.whl (13.5 MB)\n",
            "\u001b[2K   \u001b[90m━━━━━━━━━━━━━━━━━━━━━━━━━━━━━━━━━━━━━━━━\u001b[0m \u001b[32m13.5/13.5 MB\u001b[0m \u001b[31m81.6 MB/s\u001b[0m eta \u001b[36m0:00:00\u001b[0m\n",
            "\u001b[?25hInstalling collected packages: scikit-learn\n",
            "  Attempting uninstall: scikit-learn\n",
            "    Found existing installation: scikit-learn 1.6.0\n",
            "    Uninstalling scikit-learn-1.6.0:\n",
            "      Successfully uninstalled scikit-learn-1.6.0\n",
            "Successfully installed scikit-learn-1.6.1\n"
          ]
        }
      ]
    },
    {
      "cell_type": "code",
      "execution_count": 38,
      "metadata": {
        "colab": {
          "base_uri": "https://localhost:8080/"
        },
        "id": "NFSxP3dT1Sc0",
        "outputId": "898b2647-c926-4f58-d401-1f6ab6f96f0b"
      },
      "outputs": [
        {
          "name": "stdout",
          "output_type": "stream",
          "text": [
            "··········\n",
            "··········\n"
          ]
        }
      ],
      "source": [
        "import getpass\n",
        "import os\n",
        "\n",
        "os.environ[\"LANGCHAIN_TRACING_V2\"] = \"true\"\n",
        "os.environ[\"LANGCHAIN_API_KEY\"] = getpass.getpass()\n",
        "os.environ[\"TAVILY_API_KEY\"]=getpass.getpass()"
      ]
    },
    {
      "cell_type": "markdown",
      "source": [
        "**Create Index**"
      ],
      "metadata": {
        "id": "bbGKgT4t5LtO"
      }
    },
    {
      "cell_type": "code",
      "source": [
        "from langchain.text_splitter import RecursiveCharacterTextSplitter\n",
        "from langchain_community.document_loaders import WebBaseLoader\n",
        "from langchain_community.vectorstores import SKLearnVectorStore\n",
        "from langchain_nomic.embeddings import NomicEmbeddings  # local\n",
        "\n",
        "\n",
        "# List of URLs to load documents from\n",
        "urls = [\n",
        "    \"https://lilianweng.github.io/posts/2023-06-23-agent/\"\n",
        "]\n",
        "\n",
        "# Load documents from the URLs\n",
        "docs = [WebBaseLoader(url).load() for url in urls]\n",
        "docs_list = [item for sublist in docs for item in sublist]\n",
        "\n",
        "# Initialize a text splitter with specified chunk size and overlap\n",
        "text_splitter = RecursiveCharacterTextSplitter.from_tiktoken_encoder(\n",
        "    chunk_size=250, chunk_overlap=0\n",
        ")\n",
        "\n",
        "# Split the documents into chunks\n",
        "doc_splits = text_splitter.split_documents(docs_list)\n",
        "\n",
        "# Embedding\n",
        "\n",
        "embedding=NomicEmbeddings(\n",
        "    model=\"nomic-embed-text-v1.5\",\n",
        "    inference_mode=\"local\",\n",
        ")\n",
        "\n",
        "\n",
        "# Add the document chunks to the \"vector store\"\n",
        "vectorstore = SKLearnVectorStore.from_documents(\n",
        "    documents=doc_splits,\n",
        "    embedding=embedding,\n",
        ")\n",
        "retriever = vectorstore.as_retriever(k=4)"
      ],
      "metadata": {
        "id": "pTCrzgLu5N98"
      },
      "execution_count": 39,
      "outputs": []
    },
    {
      "cell_type": "code",
      "source": [
        "import getpass\n",
        "import os\n",
        "\n",
        "if not os.environ.get(\"GROQ_API_KEY\"):\n",
        "  os.environ[\"GROQ_API_KEY\"] = getpass.getpass(\"Enter API key for Groq: \")\n",
        "\n",
        "from langchain_groq import ChatGroq"
      ],
      "metadata": {
        "id": "43zCnHE2Q7lE"
      },
      "execution_count": 40,
      "outputs": []
    },
    {
      "cell_type": "code",
      "source": [
        "from langchain.prompts import PromptTemplate\n",
        "from langchain_community.chat_models import ChatOllama\n",
        "from langchain_core.output_parsers import StrOutputParser\n",
        "\n",
        "\n",
        "# LLM\n",
        "llm = ChatGroq(model=\"llama3-8b-8192\",temperature=0)\n",
        "\n",
        "# Prompt\n",
        "prompt = PromptTemplate(\n",
        "    template=\"\"\"You are a teacher grading a quiz. You will be given:\n",
        "    1/ a QUESTION\n",
        "    2/ A FACT provided by the student\n",
        "\n",
        "    You are grading RELEVANCE RECALL:\n",
        "    A score of 1 means that ANY of the statements in the FACT are relevant to the QUESTION.\n",
        "    A score of 0 means that NONE of the statements in the FACT are relevant to the QUESTION.\n",
        "    1 is the highest (best) score. 0 is the lowest score you can give.\n",
        "\n",
        "    Explain your reasoning in a step-by-step manner. Ensure your reasoning and conclusion are correct.\n",
        "\n",
        "    Avoid simply stating the correct answer at the outset.\n",
        "\n",
        "    Question: {question} \\n\n",
        "    Fact: \\n\\n {documents} \\n\\n\n",
        "\n",
        "    Give a binary score 'yes' or 'no' score to indicate whether the document is relevant to the question. \\n\n",
        "    Provide the binary score as a JSON with a single key 'score' and no premable or explanation.\n",
        "    Strictly make sure that value of key 'score' could be either 'yes' or 'no', nothing else\n",
        "    \"\"\",\n",
        "    input_variables=[\"question\", \"documents\"],\n",
        ")\n",
        "\n",
        "retrieval_grader = prompt | llm | StrOutputParser()\n",
        "question = \"What are the types of agent memory?\"\n",
        "docs = retriever.invoke(question)\n",
        "doc_txt = docs[1].page_content\n",
        "print(retrieval_grader.invoke({\"question\": question, \"documents\": doc_txt}))"
      ],
      "metadata": {
        "colab": {
          "base_uri": "https://localhost:8080/"
        },
        "id": "z5QE0eU58Rlf",
        "outputId": "47515411-4609-47b5-8d4c-509634cae31b"
      },
      "execution_count": 43,
      "outputs": [
        {
          "output_type": "stream",
          "name": "stdout",
          "text": [
            "To grade the relevance of the fact to the question, I will follow the steps:\n",
            "\n",
            "1. Read the question: \"What are the types of agent memory?\"\n",
            "2. Read the fact: \"Memory stream: is a long-term memory module (external database) that records a comprehensive list of agents’ experience in natural language.\"\n",
            "\n",
            "Step-by-step analysis:\n",
            "\n",
            "* The question asks about the types of agent memory.\n",
            "* The fact mentions a specific type of agent memory, which is the \"Memory stream\".\n",
            "* The fact describes the Memory stream as a long-term memory module that records agents' experience in natural language.\n",
            "\n",
            "Conclusion:\n",
            "\n",
            "The fact is relevant to the question because it specifically mentions a type of agent memory, which is the \"Memory stream\". Therefore, I will give a score of:\n",
            "\n",
            "{\"score\": \"yes\"}\n"
          ]
        }
      ]
    },
    {
      "cell_type": "code",
      "source": [
        "# ### Generate\n",
        "\n",
        "from langchain_core.output_parsers import StrOutputParser\n",
        "\n",
        "# Prompt\n",
        "prompt = PromptTemplate(\n",
        "    template=\"\"\"You are an assistant for question-answering tasks.\n",
        "\n",
        "    Use the following documents to answer the question.\n",
        "\n",
        "    If you don't know the answer, just say that you don't know.\n",
        "\n",
        "    Use three sentences maximum and keep the answer concise:\n",
        "    Question: {question}\n",
        "    Documents: {documents}\n",
        "    Answer:\n",
        "    \"\"\",\n",
        "    input_variables=[\"question\", \"documents\"],\n",
        ")\n",
        "\n",
        "\n",
        "\n",
        "# Chain\n",
        "rag_chain = prompt | llm | StrOutputParser()\n",
        "\n",
        "# Run\n",
        "generation = rag_chain.invoke({\"documents\": docs, \"question\": question})\n",
        "print(generation)"
      ],
      "metadata": {
        "colab": {
          "base_uri": "https://localhost:8080/"
        },
        "id": "Gi1s5V019Qnw",
        "outputId": "65e6bba6-bfc9-4513-e9ca-2d52b3c06f02"
      },
      "execution_count": 44,
      "outputs": [
        {
          "output_type": "stream",
          "name": "stdout",
          "text": [
            "According to the documents, there are three types of agent memory mentioned:\n",
            "\n",
            "1. Short-term memory: This is used for in-context learning and is short and finite, restricted by the finite context window length of the Transformer.\n",
            "2. Long-term memory: This provides the agent with the capability to retain and recall (infinite) information over extended periods, often by leveraging an external vector store and fast retrieval.\n",
            "3. Sensory memory: This is used to acquire, store, retain, and later retrieve sensory information, such as visual, auditory, or touch impressions.\n",
            "\n",
            "Note that these types of memory are mentioned in different documents, and there might be other types of memory mentioned in other sources.\n"
          ]
        }
      ]
    },
    {
      "cell_type": "code",
      "source": [
        "### Search\n",
        "\n",
        "from langchain_community.tools.tavily_search import TavilySearchResults\n",
        "\n",
        "web_search_tool = TavilySearchResults(k=3)"
      ],
      "metadata": {
        "id": "icVqbYMYbEUb"
      },
      "execution_count": 46,
      "outputs": []
    },
    {
      "cell_type": "markdown",
      "source": [
        "**Create the Graph**"
      ],
      "metadata": {
        "id": "IrEDH6Kc9caH"
      }
    },
    {
      "cell_type": "code",
      "source": [
        "from typing import List\n",
        "from typing_extensions import TypedDict\n",
        "from IPython.display import Image, display\n",
        "from langchain.schema import Document\n",
        "from langgraph.graph import START, END, StateGraph\n",
        "import json\n",
        "\n",
        "\n",
        "class GraphState(TypedDict):\n",
        "    \"\"\"\n",
        "    Represents the state of our graph.\n",
        "\n",
        "    Attributes:\n",
        "        question: question\n",
        "        generation: LLM generation\n",
        "        search: whether to add search\n",
        "        documents: list of documents\n",
        "    \"\"\"\n",
        "\n",
        "    question: str\n",
        "    generation: str\n",
        "    search: str\n",
        "    documents: List[str]\n",
        "    steps: List[str]\n",
        "\n",
        "\n"
      ],
      "metadata": {
        "id": "-8vb3mZ_9fWP"
      },
      "execution_count": 47,
      "outputs": []
    },
    {
      "cell_type": "markdown",
      "source": [
        "**Retrieve** **Node**"
      ],
      "metadata": {
        "id": "OuLsur1syAG8"
      }
    },
    {
      "cell_type": "code",
      "source": [
        "def retrieve(state):\n",
        "    \"\"\"\n",
        "    Retrieve documents\n",
        "\n",
        "    Args:\n",
        "        state (dict): The current graph state\n",
        "\n",
        "    Returns:\n",
        "        state (dict): New key added to state, documents, that contains retrieved documents\n",
        "    \"\"\"\n",
        "    question = state[\"question\"]\n",
        "    documents = retriever.invoke(question)\n",
        "    steps = state[\"steps\"]\n",
        "    steps.append(\"retrieve_documents\")\n",
        "    return {\"documents\": documents, \"question\": question, \"steps\": steps}"
      ],
      "metadata": {
        "id": "5AVSlMUdwk88"
      },
      "execution_count": 48,
      "outputs": []
    },
    {
      "cell_type": "markdown",
      "source": [
        "**Generate Node**"
      ],
      "metadata": {
        "id": "8UZZ2rz0yMYY"
      }
    },
    {
      "cell_type": "code",
      "source": [
        "def generate(state):\n",
        "    \"\"\"\n",
        "    Generate answer\n",
        "\n",
        "    Args:\n",
        "        state (dict): The current graph state\n",
        "\n",
        "    Returns:\n",
        "        state (dict): New key added to state, generation, that contains LLM generation\n",
        "    \"\"\"\n",
        "\n",
        "    question = state[\"question\"]\n",
        "    documents = state[\"documents\"]\n",
        "    generation = rag_chain.invoke({\"documents\": documents, \"question\": question})\n",
        "    steps = state[\"steps\"]\n",
        "    steps.append(\"generate_answer\")\n",
        "    return {\n",
        "        \"documents\": documents,\n",
        "        \"question\": question,\n",
        "        \"generation\": generation,\n",
        "        \"steps\": steps,\n",
        "    }"
      ],
      "metadata": {
        "id": "2nG86WmPws4h"
      },
      "execution_count": 49,
      "outputs": []
    },
    {
      "cell_type": "markdown",
      "source": [
        "**Grade Documents**"
      ],
      "metadata": {
        "id": "J5FFCNLAySYj"
      }
    },
    {
      "cell_type": "code",
      "source": [
        "def grade_documents(state):\n",
        "    \"\"\"\n",
        "    Determines whether the retrieved documents are relevant to the question.\n",
        "\n",
        "    Args:\n",
        "        state (dict): The current graph state\n",
        "\n",
        "    Returns:\n",
        "        state (dict): Updates documents key with only filtered relevant documents\n",
        "    \"\"\"\n",
        "\n",
        "    question = state[\"question\"]\n",
        "    documents = state[\"documents\"]\n",
        "    steps = state[\"steps\"]\n",
        "    steps.append(\"grade_document_retrieval\")\n",
        "    filtered_docs = []\n",
        "    search = \"No\"\n",
        "    for i, d in enumerate(documents):\n",
        "        resp = retrieval_grader.invoke(\n",
        "            {\"question\": question, \"documents\": d.page_content}\n",
        "        )\n",
        "        print(\"here is the Raw response:\", resp)\n",
        "\n",
        "        if '\"score\": \"yes\"' in resp:\n",
        "            filtered_docs.append(d)\n",
        "        elif i == len(documents) - 1 and search == \"No\":\n",
        "            search = \"Yes\"\n",
        "            continue\n",
        "    print('value of search is :',search )\n",
        "    return {\n",
        "        \"documents\": filtered_docs,\n",
        "        \"question\": question,\n",
        "        \"search\": search,\n",
        "        \"steps\": steps,\n",
        "    }\n"
      ],
      "metadata": {
        "id": "Uv1ykkNCw07s"
      },
      "execution_count": 50,
      "outputs": []
    },
    {
      "cell_type": "markdown",
      "source": [
        "**Web Search Node**"
      ],
      "metadata": {
        "id": "PTX_MQXeyX_4"
      }
    },
    {
      "cell_type": "code",
      "source": [
        "def web_search(state):\n",
        "    \"\"\"\n",
        "    Web search based on the re-phrased question.\n",
        "\n",
        "    Args:\n",
        "        state (dict): The current graph state\n",
        "\n",
        "    Returns:\n",
        "        state (dict): Updates documents key with appended web results\n",
        "    \"\"\"\n",
        "\n",
        "    question = state[\"question\"]\n",
        "    documents = state.get(\"documents\", [])\n",
        "    steps = state[\"steps\"]\n",
        "    steps.append(\"web_search\")\n",
        "    web_results = web_search_tool.invoke({\"query\": question})\n",
        "    documents.extend(\n",
        "        [\n",
        "            Document(page_content=d[\"content\"], metadata={\"url\": d[\"url\"]})\n",
        "            for d in web_results\n",
        "        ]\n",
        "    )\n",
        "    return {\"documents\": documents, \"question\": question, \"steps\": steps}"
      ],
      "metadata": {
        "id": "IKk65h18w9mM"
      },
      "execution_count": 52,
      "outputs": []
    },
    {
      "cell_type": "markdown",
      "source": [
        "**Generation Decision**"
      ],
      "metadata": {
        "id": "lzRWM9EeyiVl"
      }
    },
    {
      "cell_type": "code",
      "source": [
        "def decide_to_generate(state):\n",
        "    \"\"\"\n",
        "    Determines whether to generate an answer, or re-generate a question.\n",
        "\n",
        "    Args:\n",
        "        state (dict): The current graph state\n",
        "\n",
        "    Returns:\n",
        "        str: Binary decision for next node to call\n",
        "    \"\"\"\n",
        "    search = state[\"search\"]\n",
        "    if search == \"Yes\":\n",
        "        return \"search\"\n",
        "    else:\n",
        "        return \"generate\""
      ],
      "metadata": {
        "id": "Jat9APmmxCl3"
      },
      "execution_count": 53,
      "outputs": []
    },
    {
      "cell_type": "markdown",
      "source": [
        "**Build Graph**"
      ],
      "metadata": {
        "id": "OgQ1EfNkyo_u"
      }
    },
    {
      "cell_type": "code",
      "source": [
        "# Graph\n",
        "workflow = StateGraph(GraphState)\n",
        "\n",
        "# Define the nodes\n",
        "workflow.add_node(\"retrieve\", retrieve)  # retrieve\n",
        "workflow.add_node(\"grade_documents\", grade_documents)  # grade documents\n",
        "workflow.add_node(\"generate\", generate)  # generatae\n",
        "workflow.add_node(\"web_search\", web_search)  # web search\n",
        "\n",
        "# Build graph\n",
        "workflow.add_edge(START, \"retrieve\")\n",
        "workflow.add_edge(\"retrieve\", \"grade_documents\")\n",
        "workflow.add_conditional_edges(\n",
        "    \"grade_documents\",\n",
        "    decide_to_generate,\n",
        "    {\n",
        "        \"search\": \"web_search\",\n",
        "        \"generate\": \"generate\",\n",
        "    },\n",
        ")\n",
        "workflow.add_edge(\"web_search\", \"generate\")\n",
        "workflow.add_edge(\"generate\", END)\n",
        "\n",
        "custom_graph = workflow.compile()\n",
        "\n",
        "display(Image(custom_graph.get_graph(xray=True).draw_mermaid_png()))"
      ],
      "metadata": {
        "colab": {
          "base_uri": "https://localhost:8080/",
          "height": 572
        },
        "id": "IKKOp3ASxIh_",
        "outputId": "16300c34-6bb9-465d-a04f-a54d76a0f3c2"
      },
      "execution_count": 61,
      "outputs": [
        {
          "output_type": "display_data",
          "data": {
            "image/png": "[encoded data removed]",
            "text/plain": [
              "<IPython.core.display.Image object>"
            ]
          },
          "metadata": {}
        }
      ]
    },
    {
      "cell_type": "code",
      "source": [
        "import uuid\n",
        "\n",
        "\n",
        "def predict_custom_agent_local_answer(example: dict):\n",
        "    config = {\"configurable\": {\"thread_id\": str(uuid.uuid4())}}\n",
        "    state_dict = custom_graph.invoke(\n",
        "        {\"question\": example[\"input\"], \"steps\": []}, config\n",
        "    )\n",
        "    return {\"response\": state_dict[\"generation\"], \"steps\": state_dict[\"steps\"]}\n",
        "\n",
        "\n",
        "example = {\"input\": \"who is sachin tendulkar ?\"}\n",
        "response = predict_custom_agent_local_answer(example)\n",
        "response"
      ],
      "metadata": {
        "colab": {
          "base_uri": "https://localhost:8080/"
        },
        "id": "2urAsI6Y-D6O",
        "outputId": "ece21ba0-10bd-48fc-b8f6-dda2ce408eec"
      },
      "execution_count": 63,
      "outputs": [
        {
          "output_type": "stream",
          "name": "stdout",
          "text": [
            "here is the Raw response: To grade the relevance of the fact to the question, I will follow the steps:\n",
            "\n",
            "1. Read the question: \"Who is Sachin Tendulkar?\"\n",
            "2. Read the fact: The fact is about LLM-based evaluation, ChemCrow, GPT-4, and scientific discovery. There is no mention of Sachin Tendulkar.\n",
            "\n",
            "Conclusion: None of the statements in the fact are relevant to the question. The fact is about AI, scientific discovery, and evaluation, whereas the question is about a person, Sachin Tendulkar.\n",
            "\n",
            "JSON score:\n",
            "{\n",
            "\"score\": \"no\"\n",
            "}\n",
            "here is the Raw response: Let's break down the fact and question step by step:\n",
            "\n",
            "1. The question is \"who is sachin tendulkar?\"\n",
            "2. The fact provides two unrelated pieces of information:\n",
            "\t* A picture of a sea otter using a rock to crack open a seashell, which is about animal behavior and tool use.\n",
            "\t* A description of a neuro-symbolic architecture called MRKL, which is about artificial intelligence and computer science.\n",
            "\n",
            "Neither of these pieces of information has any relevance to the question about Sachin Tendulkar, who is a cricketer.\n",
            "\n",
            "Therefore, I conclude that the fact is not relevant to the question.\n",
            "\n",
            "Here is the JSON score:\n",
            "\n",
            "{\n",
            "\"score\": \"no\"\n",
            "}\n",
            "here is the Raw response: Let's break down the fact and question step by step:\n",
            "\n",
            "1. Question: Who is Sachin Tendulkar?\n",
            "2. Fact: To avoid overfitting, CoH adds a regularization term to maximize the log-likelihood of the pre-training dataset. To avoid shortcutting and copying (because there are many common words in feedback sequences), they randomly mask 0% - 5% of past tokens during training. The training dataset in their experiments is a combination of WebGPT comparisons, summarization from human feedback and human preference dataset.\n",
            "\n",
            "Step 1: Identify the main topic of the fact. The fact appears to be discussing a machine learning technique called CoH, its regularization term, and the training dataset used in experiments.\n",
            "\n",
            "Step 2: Compare the main topic of the fact to the question. The question is asking about Sachin Tendulkar, who is a cricketer. The fact has no mention of Sachin Tendulkar or cricket.\n",
            "\n",
            "Conclusion: None of the statements in the fact are relevant to the question. Therefore, the score is:\n",
            "\n",
            "{\"score\": \"no\"}\n",
            "here is the Raw response: Let's break down the process step by step:\n",
            "\n",
            "1. I read the question: \"Who is Sachin Tendulkar?\"\n",
            "2. I read the fact: \"FAISS (Facebook AI Similarity Search): ... ScaNN (Scalable Nearest Neighbors): ...\"\n",
            "\n",
            "Now, I need to determine if any part of the fact is relevant to the question.\n",
            "\n",
            "Upon reading the fact, I don't see any mention of Sachin Tendulkar, cricket, or any other information that would be related to the question. The fact appears to be discussing AI-related concepts, specifically Facebook AI Similarity Search and Scalable Nearest Neighbors.\n",
            "\n",
            "Therefore, I conclude that none of the statements in the fact are relevant to the question.\n",
            "\n",
            "The binary score is:\n",
            "\n",
            "{\"score\": \"no\"}\n",
            "value of search is : Yes\n"
          ]
        },
        {
          "output_type": "execute_result",
          "data": {
            "text/plain": [
              "{'response': 'Sachin Ramesh Tendulkar is a former cricketer and captain of the Indian team, considered one of the greatest batsmen of all time. He has set many records in his career, including being the only player to score over 30,000 runs in international cricket. Tendulkar is also known as \"The Little Master\" and \"God of Cricket\".',\n",
              " 'steps': ['retrieve_documents',\n",
              "  'grade_document_retrieval',\n",
              "  'web_search',\n",
              "  'generate_answer']}"
            ]
          },
          "metadata": {},
          "execution_count": 63
        }
      ]
    }
  ]
}